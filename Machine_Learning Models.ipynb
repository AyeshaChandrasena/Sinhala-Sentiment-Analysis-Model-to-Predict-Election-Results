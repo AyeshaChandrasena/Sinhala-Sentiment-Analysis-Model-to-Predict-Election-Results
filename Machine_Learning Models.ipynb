{
  "nbformat": 4,
  "nbformat_minor": 0,
  "metadata": {
    "colab": {
      "provenance": [],
      "gpuType": "V28"
    },
    "kernelspec": {
      "name": "python3",
      "display_name": "Python 3"
    },
    "language_info": {
      "name": "python"
    },
    "accelerator": "TPU"
  },
  "cells": [
    {
      "cell_type": "code",
      "execution_count": null,
      "metadata": {
        "id": "PPNzquYXDRuS"
      },
      "outputs": [],
      "source": [
        "import os\n",
        "import pandas as pd\n",
        "import numpy as np\n",
        "import json\n",
        "import matplotlib.pyplot as plt\n",
        "import seaborn as sns\n",
        "import re\n",
        "import string\n",
        "import shutil\n",
        "import sys\n",
        "import tqdm.notebook as tq\n",
        "from collections import defaultdict\n",
        "\n",
        "import torch\n",
        "import torch.nn as nn"
      ]
    },
    {
      "cell_type": "code",
      "source": [
        "from google.colab import drive\n",
        "drive.mount('/content/drive')"
      ],
      "metadata": {
        "colab": {
          "base_uri": "https://localhost:8080/",
          "height": 304
        },
        "id": "NA2ZH_qzKZ4l",
        "outputId": "1f1b2e90-398b-48c7-85ac-399aa2ac4406"
      },
      "execution_count": null,
      "outputs": [
        {
          "output_type": "error",
          "ename": "MessageError",
          "evalue": "Error: credential propagation was unsuccessful",
          "traceback": [
            "\u001b[0;31m---------------------------------------------------------------------------\u001b[0m",
            "\u001b[0;31mMessageError\u001b[0m                              Traceback (most recent call last)",
            "\u001b[0;32m<ipython-input-2-d5df0069828e>\u001b[0m in \u001b[0;36m<cell line: 2>\u001b[0;34m()\u001b[0m\n\u001b[1;32m      1\u001b[0m \u001b[0;32mfrom\u001b[0m \u001b[0mgoogle\u001b[0m\u001b[0;34m.\u001b[0m\u001b[0mcolab\u001b[0m \u001b[0;32mimport\u001b[0m \u001b[0mdrive\u001b[0m\u001b[0;34m\u001b[0m\u001b[0;34m\u001b[0m\u001b[0m\n\u001b[0;32m----> 2\u001b[0;31m \u001b[0mdrive\u001b[0m\u001b[0;34m.\u001b[0m\u001b[0mmount\u001b[0m\u001b[0;34m(\u001b[0m\u001b[0;34m'/content/drive'\u001b[0m\u001b[0;34m)\u001b[0m\u001b[0;34m\u001b[0m\u001b[0;34m\u001b[0m\u001b[0m\n\u001b[0m",
            "\u001b[0;32m/usr/local/lib/python3.10/dist-packages/google/colab/drive.py\u001b[0m in \u001b[0;36mmount\u001b[0;34m(mountpoint, force_remount, timeout_ms, readonly)\u001b[0m\n\u001b[1;32m     98\u001b[0m \u001b[0;32mdef\u001b[0m \u001b[0mmount\u001b[0m\u001b[0;34m(\u001b[0m\u001b[0mmountpoint\u001b[0m\u001b[0;34m,\u001b[0m \u001b[0mforce_remount\u001b[0m\u001b[0;34m=\u001b[0m\u001b[0;32mFalse\u001b[0m\u001b[0;34m,\u001b[0m \u001b[0mtimeout_ms\u001b[0m\u001b[0;34m=\u001b[0m\u001b[0;36m120000\u001b[0m\u001b[0;34m,\u001b[0m \u001b[0mreadonly\u001b[0m\u001b[0;34m=\u001b[0m\u001b[0;32mFalse\u001b[0m\u001b[0;34m)\u001b[0m\u001b[0;34m:\u001b[0m\u001b[0;34m\u001b[0m\u001b[0;34m\u001b[0m\u001b[0m\n\u001b[1;32m     99\u001b[0m   \u001b[0;34m\"\"\"Mount your Google Drive at the specified mountpoint path.\"\"\"\u001b[0m\u001b[0;34m\u001b[0m\u001b[0;34m\u001b[0m\u001b[0m\n\u001b[0;32m--> 100\u001b[0;31m   return _mount(\n\u001b[0m\u001b[1;32m    101\u001b[0m       \u001b[0mmountpoint\u001b[0m\u001b[0;34m,\u001b[0m\u001b[0;34m\u001b[0m\u001b[0;34m\u001b[0m\u001b[0m\n\u001b[1;32m    102\u001b[0m       \u001b[0mforce_remount\u001b[0m\u001b[0;34m=\u001b[0m\u001b[0mforce_remount\u001b[0m\u001b[0;34m,\u001b[0m\u001b[0;34m\u001b[0m\u001b[0;34m\u001b[0m\u001b[0m\n",
            "\u001b[0;32m/usr/local/lib/python3.10/dist-packages/google/colab/drive.py\u001b[0m in \u001b[0;36m_mount\u001b[0;34m(mountpoint, force_remount, timeout_ms, ephemeral, readonly)\u001b[0m\n\u001b[1;32m    135\u001b[0m   )\n\u001b[1;32m    136\u001b[0m   \u001b[0;32mif\u001b[0m \u001b[0mephemeral\u001b[0m\u001b[0;34m:\u001b[0m\u001b[0;34m\u001b[0m\u001b[0;34m\u001b[0m\u001b[0m\n\u001b[0;32m--> 137\u001b[0;31m     _message.blocking_request(\n\u001b[0m\u001b[1;32m    138\u001b[0m         \u001b[0;34m'request_auth'\u001b[0m\u001b[0;34m,\u001b[0m\u001b[0;34m\u001b[0m\u001b[0;34m\u001b[0m\u001b[0m\n\u001b[1;32m    139\u001b[0m         \u001b[0mrequest\u001b[0m\u001b[0;34m=\u001b[0m\u001b[0;34m{\u001b[0m\u001b[0;34m'authType'\u001b[0m\u001b[0;34m:\u001b[0m \u001b[0;34m'dfs_ephemeral'\u001b[0m\u001b[0;34m}\u001b[0m\u001b[0;34m,\u001b[0m\u001b[0;34m\u001b[0m\u001b[0;34m\u001b[0m\u001b[0m\n",
            "\u001b[0;32m/usr/local/lib/python3.10/dist-packages/google/colab/_message.py\u001b[0m in \u001b[0;36mblocking_request\u001b[0;34m(request_type, request, timeout_sec, parent)\u001b[0m\n\u001b[1;32m    174\u001b[0m       \u001b[0mrequest_type\u001b[0m\u001b[0;34m,\u001b[0m \u001b[0mrequest\u001b[0m\u001b[0;34m,\u001b[0m \u001b[0mparent\u001b[0m\u001b[0;34m=\u001b[0m\u001b[0mparent\u001b[0m\u001b[0;34m,\u001b[0m \u001b[0mexpect_reply\u001b[0m\u001b[0;34m=\u001b[0m\u001b[0;32mTrue\u001b[0m\u001b[0;34m\u001b[0m\u001b[0;34m\u001b[0m\u001b[0m\n\u001b[1;32m    175\u001b[0m   )\n\u001b[0;32m--> 176\u001b[0;31m   \u001b[0;32mreturn\u001b[0m \u001b[0mread_reply_from_input\u001b[0m\u001b[0;34m(\u001b[0m\u001b[0mrequest_id\u001b[0m\u001b[0;34m,\u001b[0m \u001b[0mtimeout_sec\u001b[0m\u001b[0;34m)\u001b[0m\u001b[0;34m\u001b[0m\u001b[0;34m\u001b[0m\u001b[0m\n\u001b[0m",
            "\u001b[0;32m/usr/local/lib/python3.10/dist-packages/google/colab/_message.py\u001b[0m in \u001b[0;36mread_reply_from_input\u001b[0;34m(message_id, timeout_sec)\u001b[0m\n\u001b[1;32m    101\u001b[0m     ):\n\u001b[1;32m    102\u001b[0m       \u001b[0;32mif\u001b[0m \u001b[0;34m'error'\u001b[0m \u001b[0;32min\u001b[0m \u001b[0mreply\u001b[0m\u001b[0;34m:\u001b[0m\u001b[0;34m\u001b[0m\u001b[0;34m\u001b[0m\u001b[0m\n\u001b[0;32m--> 103\u001b[0;31m         \u001b[0;32mraise\u001b[0m \u001b[0mMessageError\u001b[0m\u001b[0;34m(\u001b[0m\u001b[0mreply\u001b[0m\u001b[0;34m[\u001b[0m\u001b[0;34m'error'\u001b[0m\u001b[0;34m]\u001b[0m\u001b[0;34m)\u001b[0m\u001b[0;34m\u001b[0m\u001b[0;34m\u001b[0m\u001b[0m\n\u001b[0m\u001b[1;32m    104\u001b[0m       \u001b[0;32mreturn\u001b[0m \u001b[0mreply\u001b[0m\u001b[0;34m.\u001b[0m\u001b[0mget\u001b[0m\u001b[0;34m(\u001b[0m\u001b[0;34m'data'\u001b[0m\u001b[0;34m,\u001b[0m \u001b[0;32mNone\u001b[0m\u001b[0;34m)\u001b[0m\u001b[0;34m\u001b[0m\u001b[0;34m\u001b[0m\u001b[0m\n\u001b[1;32m    105\u001b[0m \u001b[0;34m\u001b[0m\u001b[0m\n",
            "\u001b[0;31mMessageError\u001b[0m: Error: credential propagation was unsuccessful"
          ]
        }
      ]
    },
    {
      "cell_type": "code",
      "source": [
        "%cd /content/drive/My Drive/research/Data"
      ],
      "metadata": {
        "colab": {
          "base_uri": "https://localhost:8080/"
        },
        "id": "Riv1OvmGKk60",
        "outputId": "295593fb-b850-4232-eb2a-1cd6ae434cb1"
      },
      "execution_count": null,
      "outputs": [
        {
          "output_type": "stream",
          "name": "stdout",
          "text": [
            "/content/drive/My Drive/research/Data\n"
          ]
        }
      ]
    },
    {
      "cell_type": "code",
      "source": [
        "df = pd.read_csv('sinhala_df_new.csv')"
      ],
      "metadata": {
        "id": "Wg8QfYmXKs3z"
      },
      "execution_count": null,
      "outputs": []
    },
    {
      "cell_type": "code",
      "source": [
        "columns = ['video_title','text','Label','Domain','About']\n",
        "\n",
        "df = df[columns]"
      ],
      "metadata": {
        "id": "8LtG23G9Kvi2"
      },
      "execution_count": null,
      "outputs": []
    },
    {
      "cell_type": "code",
      "source": [
        "df.Label.value_counts()"
      ],
      "metadata": {
        "colab": {
          "base_uri": "https://localhost:8080/",
          "height": 900
        },
        "id": "Zlu3Jn0Vk3Fh",
        "outputId": "88791813-c883-419e-d55e-3ddfc136bc40"
      },
      "execution_count": null,
      "outputs": [
        {
          "output_type": "execute_result",
          "data": {
            "text/plain": [
              "Label\n",
              "Negative     2761\n",
              "negative     1082\n",
              "Positive      592\n",
              "Neutral       466\n",
              "positive      271\n",
              "neutral       136\n",
              "postive        14\n",
              "Positve        11\n",
              "negative       10\n",
              "Negative       10\n",
              "Netural         6\n",
              "negartive       6\n",
              "positve         5\n",
              "Neutal          3\n",
              "Negativve       2\n",
              "Positive        2\n",
              "negaitve        2\n",
              "neutal          1\n",
              "Positiive       1\n",
              "ngative         1\n",
              "negaive         1\n",
              "negarive        1\n",
              "Neutral         1\n",
              "Negatuve        1\n",
              "Poaitive        1\n",
              "Name: count, dtype: int64"
            ],
            "text/html": [
              "<div>\n",
              "<style scoped>\n",
              "    .dataframe tbody tr th:only-of-type {\n",
              "        vertical-align: middle;\n",
              "    }\n",
              "\n",
              "    .dataframe tbody tr th {\n",
              "        vertical-align: top;\n",
              "    }\n",
              "\n",
              "    .dataframe thead th {\n",
              "        text-align: right;\n",
              "    }\n",
              "</style>\n",
              "<table border=\"1\" class=\"dataframe\">\n",
              "  <thead>\n",
              "    <tr style=\"text-align: right;\">\n",
              "      <th></th>\n",
              "      <th>count</th>\n",
              "    </tr>\n",
              "    <tr>\n",
              "      <th>Label</th>\n",
              "      <th></th>\n",
              "    </tr>\n",
              "  </thead>\n",
              "  <tbody>\n",
              "    <tr>\n",
              "      <th>Negative</th>\n",
              "      <td>2761</td>\n",
              "    </tr>\n",
              "    <tr>\n",
              "      <th>negative</th>\n",
              "      <td>1082</td>\n",
              "    </tr>\n",
              "    <tr>\n",
              "      <th>Positive</th>\n",
              "      <td>592</td>\n",
              "    </tr>\n",
              "    <tr>\n",
              "      <th>Neutral</th>\n",
              "      <td>466</td>\n",
              "    </tr>\n",
              "    <tr>\n",
              "      <th>positive</th>\n",
              "      <td>271</td>\n",
              "    </tr>\n",
              "    <tr>\n",
              "      <th>neutral</th>\n",
              "      <td>136</td>\n",
              "    </tr>\n",
              "    <tr>\n",
              "      <th>postive</th>\n",
              "      <td>14</td>\n",
              "    </tr>\n",
              "    <tr>\n",
              "      <th>Positve</th>\n",
              "      <td>11</td>\n",
              "    </tr>\n",
              "    <tr>\n",
              "      <th>negative</th>\n",
              "      <td>10</td>\n",
              "    </tr>\n",
              "    <tr>\n",
              "      <th>Negative</th>\n",
              "      <td>10</td>\n",
              "    </tr>\n",
              "    <tr>\n",
              "      <th>Netural</th>\n",
              "      <td>6</td>\n",
              "    </tr>\n",
              "    <tr>\n",
              "      <th>negartive</th>\n",
              "      <td>6</td>\n",
              "    </tr>\n",
              "    <tr>\n",
              "      <th>positve</th>\n",
              "      <td>5</td>\n",
              "    </tr>\n",
              "    <tr>\n",
              "      <th>Neutal</th>\n",
              "      <td>3</td>\n",
              "    </tr>\n",
              "    <tr>\n",
              "      <th>Negativve</th>\n",
              "      <td>2</td>\n",
              "    </tr>\n",
              "    <tr>\n",
              "      <th>Positive</th>\n",
              "      <td>2</td>\n",
              "    </tr>\n",
              "    <tr>\n",
              "      <th>negaitve</th>\n",
              "      <td>2</td>\n",
              "    </tr>\n",
              "    <tr>\n",
              "      <th>neutal</th>\n",
              "      <td>1</td>\n",
              "    </tr>\n",
              "    <tr>\n",
              "      <th>Positiive</th>\n",
              "      <td>1</td>\n",
              "    </tr>\n",
              "    <tr>\n",
              "      <th>ngative</th>\n",
              "      <td>1</td>\n",
              "    </tr>\n",
              "    <tr>\n",
              "      <th>negaive</th>\n",
              "      <td>1</td>\n",
              "    </tr>\n",
              "    <tr>\n",
              "      <th>negarive</th>\n",
              "      <td>1</td>\n",
              "    </tr>\n",
              "    <tr>\n",
              "      <th>Neutral</th>\n",
              "      <td>1</td>\n",
              "    </tr>\n",
              "    <tr>\n",
              "      <th>Negatuve</th>\n",
              "      <td>1</td>\n",
              "    </tr>\n",
              "    <tr>\n",
              "      <th>Poaitive</th>\n",
              "      <td>1</td>\n",
              "    </tr>\n",
              "  </tbody>\n",
              "</table>\n",
              "</div><br><label><b>dtype:</b> int64</label>"
            ]
          },
          "metadata": {},
          "execution_count": 6
        }
      ]
    },
    {
      "cell_type": "code",
      "source": [
        "df['Domain'] = df['Domain'].replace(['P', 'p','Political','Politician','political','Government','rajapaksha',' P'], 'political')\n",
        "df['Domain'] = df['Domain'].replace(['non','Non','Non ','non ','Non-Political',' non'],'non')"
      ],
      "metadata": {
        "id": "B2zAA6MYk7vY"
      },
      "execution_count": null,
      "outputs": []
    },
    {
      "cell_type": "code",
      "source": [
        "df['Combined'] = df['video_title'] + '.' + df['text']\n"
      ],
      "metadata": {
        "id": "014ESqC5lJiv"
      },
      "execution_count": null,
      "outputs": []
    },
    {
      "cell_type": "code",
      "source": [
        "import re\n",
        "\n",
        "def remove_emoji(string):\n",
        "    if isinstance(string, str): # Check if the input is a string\n",
        "        emoji_pattern = re.compile(\"[\"\n",
        "                               u\"\\U0001F600-\\U0001F64F\"  # emoticons\n",
        "                               u\"\\U0001F300-\\U0001F5FF\"  # symbols & pictographs\n",
        "                               u\"\\U0001F680-\\U0001F6FF\"  # transport & map symbols\n",
        "                               u\"\\U0001F1E0-\\U0001F1FF\"  # flags (iOS)\n",
        "                               u\"\\U00002702-\\U000027B0\"\n",
        "                               u\"\\U000024C2-\\U0001F251\"\n",
        "                               \"]+\", flags=re.UNICODE)\n",
        "        return emoji_pattern.sub(r'', string)\n",
        "    else:\n",
        "        return string # Return the original value if it's not a string\n",
        "\n",
        "df['Combined'] = df['Combined'].apply(remove_emoji)"
      ],
      "metadata": {
        "id": "bWwqRCUwlEH3"
      },
      "execution_count": null,
      "outputs": []
    },
    {
      "cell_type": "code",
      "source": [
        "import re\n",
        "\n",
        "def remove_urls(text):\n",
        "    if isinstance(text, str): # Check if the input is a string\n",
        "        return re.sub(r'''(?i)\\b((?:https?://|www\\d{0,3}[.]|[a-z0-9.\\-]+[.][a-z]{2,4}/)(?:[^\\s()<>]+|\\(([^\\s()<>]+|(\\([^\\s()<>]+\\)))*\\))+(?:\\(([^\\s()<>]+|(\\([^\\s()<>]+\\)))*\\)|[^\\s`!()\\[\\]{};:'\".,<>?«»“”‘’]))''', \" \", text)\n",
        "    else:\n",
        "        return text # Return the original value if it's not a string\n",
        "\n",
        "# Apply the function to the text column\n",
        "df['Combined'] = df['Combined'].apply(remove_urls)"
      ],
      "metadata": {
        "id": "2K8MVey8lR83"
      },
      "execution_count": null,
      "outputs": []
    },
    {
      "cell_type": "code",
      "source": [
        "def clean_data(text):\n",
        "    if isinstance(text, str): # Check if the input is a string\n",
        "        text = re.sub(r'http[s]?://(?:[a-zA-Z]|[0-9]|[$-_@.&+]|[!*\\\\(\\\\),]|(?:%[0-9a-fA-F][0-9a-fA-F]))+', '', text) # Remove URLs\n",
        "\n",
        "        text = re.sub(r'<.*?>', '', text)     # Remove HTML tags\n",
        "\n",
        "        text = re.sub(r'@\\\\w+', '', text)  # Remove mentions\n",
        "\n",
        "        text = re.sub(r'[^\\u0D80-\\u0DFF\\s]', ' ', text) # Remove non-Sinhala characters (punctuation, numbers, etc.)\n",
        "        return text\n",
        "    else:\n",
        "        return \"\" # Return an empty string if it's not a string\n",
        "\n",
        "df['Combined'] = df['Combined'].apply(clean_data)"
      ],
      "metadata": {
        "id": "okNPlf-LlTjm"
      },
      "execution_count": null,
      "outputs": []
    },
    {
      "cell_type": "code",
      "source": [
        "df = df.dropna(subset=['Label'])"
      ],
      "metadata": {
        "id": "hhgoJVJaK30p"
      },
      "execution_count": null,
      "outputs": []
    },
    {
      "cell_type": "code",
      "source": [
        "df.Label.value_counts()"
      ],
      "metadata": {
        "colab": {
          "base_uri": "https://localhost:8080/",
          "height": 900
        },
        "id": "UT2vdq_Jlei5",
        "outputId": "d077c968-82f5-46f5-be6b-31433b2fae8c"
      },
      "execution_count": null,
      "outputs": [
        {
          "output_type": "execute_result",
          "data": {
            "text/plain": [
              "Label\n",
              "Negative     2761\n",
              "negative     1082\n",
              "Positive      592\n",
              "Neutral       466\n",
              "positive      271\n",
              "neutral       136\n",
              "postive        14\n",
              "Positve        11\n",
              "negative       10\n",
              "Negative       10\n",
              "Netural         6\n",
              "negartive       6\n",
              "positve         5\n",
              "Neutal          3\n",
              "Negativve       2\n",
              "Positive        2\n",
              "negaitve        2\n",
              "neutal          1\n",
              "Positiive       1\n",
              "ngative         1\n",
              "negaive         1\n",
              "negarive        1\n",
              "Neutral         1\n",
              "Negatuve        1\n",
              "Poaitive        1\n",
              "Name: count, dtype: int64"
            ],
            "text/html": [
              "<div>\n",
              "<style scoped>\n",
              "    .dataframe tbody tr th:only-of-type {\n",
              "        vertical-align: middle;\n",
              "    }\n",
              "\n",
              "    .dataframe tbody tr th {\n",
              "        vertical-align: top;\n",
              "    }\n",
              "\n",
              "    .dataframe thead th {\n",
              "        text-align: right;\n",
              "    }\n",
              "</style>\n",
              "<table border=\"1\" class=\"dataframe\">\n",
              "  <thead>\n",
              "    <tr style=\"text-align: right;\">\n",
              "      <th></th>\n",
              "      <th>count</th>\n",
              "    </tr>\n",
              "    <tr>\n",
              "      <th>Label</th>\n",
              "      <th></th>\n",
              "    </tr>\n",
              "  </thead>\n",
              "  <tbody>\n",
              "    <tr>\n",
              "      <th>Negative</th>\n",
              "      <td>2761</td>\n",
              "    </tr>\n",
              "    <tr>\n",
              "      <th>negative</th>\n",
              "      <td>1082</td>\n",
              "    </tr>\n",
              "    <tr>\n",
              "      <th>Positive</th>\n",
              "      <td>592</td>\n",
              "    </tr>\n",
              "    <tr>\n",
              "      <th>Neutral</th>\n",
              "      <td>466</td>\n",
              "    </tr>\n",
              "    <tr>\n",
              "      <th>positive</th>\n",
              "      <td>271</td>\n",
              "    </tr>\n",
              "    <tr>\n",
              "      <th>neutral</th>\n",
              "      <td>136</td>\n",
              "    </tr>\n",
              "    <tr>\n",
              "      <th>postive</th>\n",
              "      <td>14</td>\n",
              "    </tr>\n",
              "    <tr>\n",
              "      <th>Positve</th>\n",
              "      <td>11</td>\n",
              "    </tr>\n",
              "    <tr>\n",
              "      <th>negative</th>\n",
              "      <td>10</td>\n",
              "    </tr>\n",
              "    <tr>\n",
              "      <th>Negative</th>\n",
              "      <td>10</td>\n",
              "    </tr>\n",
              "    <tr>\n",
              "      <th>Netural</th>\n",
              "      <td>6</td>\n",
              "    </tr>\n",
              "    <tr>\n",
              "      <th>negartive</th>\n",
              "      <td>6</td>\n",
              "    </tr>\n",
              "    <tr>\n",
              "      <th>positve</th>\n",
              "      <td>5</td>\n",
              "    </tr>\n",
              "    <tr>\n",
              "      <th>Neutal</th>\n",
              "      <td>3</td>\n",
              "    </tr>\n",
              "    <tr>\n",
              "      <th>Negativve</th>\n",
              "      <td>2</td>\n",
              "    </tr>\n",
              "    <tr>\n",
              "      <th>Positive</th>\n",
              "      <td>2</td>\n",
              "    </tr>\n",
              "    <tr>\n",
              "      <th>negaitve</th>\n",
              "      <td>2</td>\n",
              "    </tr>\n",
              "    <tr>\n",
              "      <th>neutal</th>\n",
              "      <td>1</td>\n",
              "    </tr>\n",
              "    <tr>\n",
              "      <th>Positiive</th>\n",
              "      <td>1</td>\n",
              "    </tr>\n",
              "    <tr>\n",
              "      <th>ngative</th>\n",
              "      <td>1</td>\n",
              "    </tr>\n",
              "    <tr>\n",
              "      <th>negaive</th>\n",
              "      <td>1</td>\n",
              "    </tr>\n",
              "    <tr>\n",
              "      <th>negarive</th>\n",
              "      <td>1</td>\n",
              "    </tr>\n",
              "    <tr>\n",
              "      <th>Neutral</th>\n",
              "      <td>1</td>\n",
              "    </tr>\n",
              "    <tr>\n",
              "      <th>Negatuve</th>\n",
              "      <td>1</td>\n",
              "    </tr>\n",
              "    <tr>\n",
              "      <th>Poaitive</th>\n",
              "      <td>1</td>\n",
              "    </tr>\n",
              "  </tbody>\n",
              "</table>\n",
              "</div><br><label><b>dtype:</b> int64</label>"
            ]
          },
          "metadata": {},
          "execution_count": 14
        }
      ]
    },
    {
      "cell_type": "markdown",
      "source": [
        "# Label 1 (Political / Non Political)"
      ],
      "metadata": {
        "id": "TAwsyKGLLJ8L"
      }
    },
    {
      "cell_type": "code",
      "source": [
        "df.Domain.value_counts()"
      ],
      "metadata": {
        "colab": {
          "base_uri": "https://localhost:8080/",
          "height": 178
        },
        "id": "P09HJa1QLEma",
        "outputId": "70da4e60-5681-4409-b9b5-2fc370f2363f"
      },
      "execution_count": null,
      "outputs": [
        {
          "output_type": "execute_result",
          "data": {
            "text/plain": [
              "Domain\n",
              "political    3628\n",
              "non           880\n",
              "Name: count, dtype: int64"
            ],
            "text/html": [
              "<div>\n",
              "<style scoped>\n",
              "    .dataframe tbody tr th:only-of-type {\n",
              "        vertical-align: middle;\n",
              "    }\n",
              "\n",
              "    .dataframe tbody tr th {\n",
              "        vertical-align: top;\n",
              "    }\n",
              "\n",
              "    .dataframe thead th {\n",
              "        text-align: right;\n",
              "    }\n",
              "</style>\n",
              "<table border=\"1\" class=\"dataframe\">\n",
              "  <thead>\n",
              "    <tr style=\"text-align: right;\">\n",
              "      <th></th>\n",
              "      <th>count</th>\n",
              "    </tr>\n",
              "    <tr>\n",
              "      <th>Domain</th>\n",
              "      <th></th>\n",
              "    </tr>\n",
              "  </thead>\n",
              "  <tbody>\n",
              "    <tr>\n",
              "      <th>political</th>\n",
              "      <td>3628</td>\n",
              "    </tr>\n",
              "    <tr>\n",
              "      <th>non</th>\n",
              "      <td>880</td>\n",
              "    </tr>\n",
              "  </tbody>\n",
              "</table>\n",
              "</div><br><label><b>dtype:</b> int64</label>"
            ]
          },
          "metadata": {},
          "execution_count": 15
        }
      ]
    },
    {
      "cell_type": "code",
      "source": [
        "df.Domain.value_counts()"
      ],
      "metadata": {
        "colab": {
          "base_uri": "https://localhost:8080/",
          "height": 178
        },
        "id": "zKaulA7XLR6o",
        "outputId": "86b2c1eb-3a81-4140-870a-11d8e4757768"
      },
      "execution_count": null,
      "outputs": [
        {
          "output_type": "execute_result",
          "data": {
            "text/plain": [
              "Domain\n",
              "political    3628\n",
              "non           880\n",
              "Name: count, dtype: int64"
            ],
            "text/html": [
              "<div>\n",
              "<style scoped>\n",
              "    .dataframe tbody tr th:only-of-type {\n",
              "        vertical-align: middle;\n",
              "    }\n",
              "\n",
              "    .dataframe tbody tr th {\n",
              "        vertical-align: top;\n",
              "    }\n",
              "\n",
              "    .dataframe thead th {\n",
              "        text-align: right;\n",
              "    }\n",
              "</style>\n",
              "<table border=\"1\" class=\"dataframe\">\n",
              "  <thead>\n",
              "    <tr style=\"text-align: right;\">\n",
              "      <th></th>\n",
              "      <th>count</th>\n",
              "    </tr>\n",
              "    <tr>\n",
              "      <th>Domain</th>\n",
              "      <th></th>\n",
              "    </tr>\n",
              "  </thead>\n",
              "  <tbody>\n",
              "    <tr>\n",
              "      <th>political</th>\n",
              "      <td>3628</td>\n",
              "    </tr>\n",
              "    <tr>\n",
              "      <th>non</th>\n",
              "      <td>880</td>\n",
              "    </tr>\n",
              "  </tbody>\n",
              "</table>\n",
              "</div><br><label><b>dtype:</b> int64</label>"
            ]
          },
          "metadata": {},
          "execution_count": 16
        }
      ]
    },
    {
      "cell_type": "markdown",
      "source": [
        "# Label 3 (Political Party / Politician )"
      ],
      "metadata": {
        "id": "H0wK6b6-LYwE"
      }
    },
    {
      "cell_type": "code",
      "source": [
        "df.About.value_counts()"
      ],
      "metadata": {
        "colab": {
          "base_uri": "https://localhost:8080/",
          "height": 490
        },
        "id": "LqwGBlfBLUyf",
        "outputId": "fde3ac4f-cf33-46b4-a877-51d3c82f6d42"
      },
      "execution_count": null,
      "outputs": [
        {
          "output_type": "execute_result",
          "data": {
            "text/plain": [
              "About\n",
              "Ranil              552\n",
              "Prasanna           428\n",
              "NPP                402\n",
              "Maithree           234\n",
              "Other              161\n",
              "                  ... \n",
              "Rajapakshat          1\n",
              "sports minister      1\n",
              "Premadasa            1\n",
              "Othr                 1\n",
              "thilanga             1\n",
              "Name: count, Length: 164, dtype: int64"
            ],
            "text/html": [
              "<div>\n",
              "<style scoped>\n",
              "    .dataframe tbody tr th:only-of-type {\n",
              "        vertical-align: middle;\n",
              "    }\n",
              "\n",
              "    .dataframe tbody tr th {\n",
              "        vertical-align: top;\n",
              "    }\n",
              "\n",
              "    .dataframe thead th {\n",
              "        text-align: right;\n",
              "    }\n",
              "</style>\n",
              "<table border=\"1\" class=\"dataframe\">\n",
              "  <thead>\n",
              "    <tr style=\"text-align: right;\">\n",
              "      <th></th>\n",
              "      <th>count</th>\n",
              "    </tr>\n",
              "    <tr>\n",
              "      <th>About</th>\n",
              "      <th></th>\n",
              "    </tr>\n",
              "  </thead>\n",
              "  <tbody>\n",
              "    <tr>\n",
              "      <th>Ranil</th>\n",
              "      <td>552</td>\n",
              "    </tr>\n",
              "    <tr>\n",
              "      <th>Prasanna</th>\n",
              "      <td>428</td>\n",
              "    </tr>\n",
              "    <tr>\n",
              "      <th>NPP</th>\n",
              "      <td>402</td>\n",
              "    </tr>\n",
              "    <tr>\n",
              "      <th>Maithree</th>\n",
              "      <td>234</td>\n",
              "    </tr>\n",
              "    <tr>\n",
              "      <th>Other</th>\n",
              "      <td>161</td>\n",
              "    </tr>\n",
              "    <tr>\n",
              "      <th>...</th>\n",
              "      <td>...</td>\n",
              "    </tr>\n",
              "    <tr>\n",
              "      <th>Rajapakshat</th>\n",
              "      <td>1</td>\n",
              "    </tr>\n",
              "    <tr>\n",
              "      <th>sports minister</th>\n",
              "      <td>1</td>\n",
              "    </tr>\n",
              "    <tr>\n",
              "      <th>Premadasa</th>\n",
              "      <td>1</td>\n",
              "    </tr>\n",
              "    <tr>\n",
              "      <th>Othr</th>\n",
              "      <td>1</td>\n",
              "    </tr>\n",
              "    <tr>\n",
              "      <th>thilanga</th>\n",
              "      <td>1</td>\n",
              "    </tr>\n",
              "  </tbody>\n",
              "</table>\n",
              "<p>164 rows × 1 columns</p>\n",
              "</div><br><label><b>dtype:</b> int64</label>"
            ]
          },
          "metadata": {},
          "execution_count": 17
        }
      ]
    },
    {
      "cell_type": "code",
      "source": [
        "df['About'] = df['About'].replace(['Mahinda', 'mahinda','Rajapaksha','Gota'], 'Rajapaksha')\n",
        "df['About'] = df['About'].replace(['Government', 'government'], '225')\n",
        "df['About'] = df['About'].replace(['Anura','JVP','NPP'], 'NPP')\n",
        "df['About'] = df['About'].replace(['everyone', 'Everone','Everyone','all','225'], 'Everyone')\n",
        "df['About'] = df['About'].replace(['Diana', 'FSP','Fonseka','sanath nishantha','vimal weeravansha','keheliya rabukwalla','Shantha bandara','Ravi Karunanayake','Yahapalanaya','Marikkar','Hareen','Maithripala','SLPP'], 'Other')"
      ],
      "metadata": {
        "id": "iRHosMcDLbbM"
      },
      "execution_count": null,
      "outputs": []
    },
    {
      "cell_type": "code",
      "source": [
        "df.About.value_counts()"
      ],
      "metadata": {
        "colab": {
          "base_uri": "https://localhost:8080/",
          "height": 355
        },
        "id": "3y1yfwAkLfZh",
        "outputId": "15daa954-3631-460b-b356-d7c3def941f7"
      },
      "execution_count": null,
      "outputs": [
        {
          "output_type": "execute_result",
          "data": {
            "text/plain": [
              "About\n",
              "Ranil         398\n",
              "Everyone      123\n",
              "Rajapaksha    120\n",
              "Other          45\n",
              "NPP            31\n",
              "Sajith         27\n",
              "UNP            20\n",
              "Name: count, dtype: int64"
            ],
            "text/html": [
              "<div>\n",
              "<style scoped>\n",
              "    .dataframe tbody tr th:only-of-type {\n",
              "        vertical-align: middle;\n",
              "    }\n",
              "\n",
              "    .dataframe tbody tr th {\n",
              "        vertical-align: top;\n",
              "    }\n",
              "\n",
              "    .dataframe thead th {\n",
              "        text-align: right;\n",
              "    }\n",
              "</style>\n",
              "<table border=\"1\" class=\"dataframe\">\n",
              "  <thead>\n",
              "    <tr style=\"text-align: right;\">\n",
              "      <th></th>\n",
              "      <th>count</th>\n",
              "    </tr>\n",
              "    <tr>\n",
              "      <th>About</th>\n",
              "      <th></th>\n",
              "    </tr>\n",
              "  </thead>\n",
              "  <tbody>\n",
              "    <tr>\n",
              "      <th>Ranil</th>\n",
              "      <td>398</td>\n",
              "    </tr>\n",
              "    <tr>\n",
              "      <th>Everyone</th>\n",
              "      <td>123</td>\n",
              "    </tr>\n",
              "    <tr>\n",
              "      <th>Rajapaksha</th>\n",
              "      <td>120</td>\n",
              "    </tr>\n",
              "    <tr>\n",
              "      <th>Other</th>\n",
              "      <td>45</td>\n",
              "    </tr>\n",
              "    <tr>\n",
              "      <th>NPP</th>\n",
              "      <td>31</td>\n",
              "    </tr>\n",
              "    <tr>\n",
              "      <th>Sajith</th>\n",
              "      <td>27</td>\n",
              "    </tr>\n",
              "    <tr>\n",
              "      <th>UNP</th>\n",
              "      <td>20</td>\n",
              "    </tr>\n",
              "  </tbody>\n",
              "</table>\n",
              "</div><br><label><b>dtype:</b> int64</label>"
            ]
          },
          "metadata": {},
          "execution_count": 14
        }
      ]
    },
    {
      "cell_type": "markdown",
      "source": [
        "# Label 2 (Positive/Negative/Neutral)"
      ],
      "metadata": {
        "id": "zxf2H15SLoiF"
      }
    },
    {
      "cell_type": "code",
      "source": [
        "df.Label.value_counts()"
      ],
      "metadata": {
        "colab": {
          "base_uri": "https://localhost:8080/",
          "height": 292
        },
        "id": "p7Ez5YOLLjEF",
        "outputId": "bdf00d15-62fe-40c8-ad5d-9300f363b4fe"
      },
      "execution_count": null,
      "outputs": [
        {
          "output_type": "execute_result",
          "data": {
            "text/plain": [
              "Label\n",
              "Negative    1138\n",
              "Neutral      350\n",
              "Positive     238\n",
              "Positve       10\n",
              "positive       3\n",
              "Name: count, dtype: int64"
            ],
            "text/html": [
              "<div>\n",
              "<style scoped>\n",
              "    .dataframe tbody tr th:only-of-type {\n",
              "        vertical-align: middle;\n",
              "    }\n",
              "\n",
              "    .dataframe tbody tr th {\n",
              "        vertical-align: top;\n",
              "    }\n",
              "\n",
              "    .dataframe thead th {\n",
              "        text-align: right;\n",
              "    }\n",
              "</style>\n",
              "<table border=\"1\" class=\"dataframe\">\n",
              "  <thead>\n",
              "    <tr style=\"text-align: right;\">\n",
              "      <th></th>\n",
              "      <th>count</th>\n",
              "    </tr>\n",
              "    <tr>\n",
              "      <th>Label</th>\n",
              "      <th></th>\n",
              "    </tr>\n",
              "  </thead>\n",
              "  <tbody>\n",
              "    <tr>\n",
              "      <th>Negative</th>\n",
              "      <td>1138</td>\n",
              "    </tr>\n",
              "    <tr>\n",
              "      <th>Neutral</th>\n",
              "      <td>350</td>\n",
              "    </tr>\n",
              "    <tr>\n",
              "      <th>Positive</th>\n",
              "      <td>238</td>\n",
              "    </tr>\n",
              "    <tr>\n",
              "      <th>Positve</th>\n",
              "      <td>10</td>\n",
              "    </tr>\n",
              "    <tr>\n",
              "      <th>positive</th>\n",
              "      <td>3</td>\n",
              "    </tr>\n",
              "  </tbody>\n",
              "</table>\n",
              "</div><br><label><b>dtype:</b> int64</label>"
            ]
          },
          "metadata": {},
          "execution_count": 15
        }
      ]
    },
    {
      "cell_type": "code",
      "source": [
        "df['Label'] = df['Label'].replace(['Positive','positive','Positve','P'], 'Positive')"
      ],
      "metadata": {
        "id": "86Z1RkRXLrZn"
      },
      "execution_count": null,
      "outputs": []
    },
    {
      "cell_type": "code",
      "source": [
        "df.Label.value_counts()"
      ],
      "metadata": {
        "colab": {
          "base_uri": "https://localhost:8080/",
          "height": 229
        },
        "id": "e24qeT_zLuWz",
        "outputId": "d394517d-4b31-40ef-e686-5aca3eacaebf"
      },
      "execution_count": null,
      "outputs": [
        {
          "output_type": "execute_result",
          "data": {
            "text/plain": [
              "Label\n",
              "Negative    1138\n",
              "Neutral      350\n",
              "Positive     251\n",
              "Name: count, dtype: int64"
            ],
            "text/html": [
              "<div>\n",
              "<style scoped>\n",
              "    .dataframe tbody tr th:only-of-type {\n",
              "        vertical-align: middle;\n",
              "    }\n",
              "\n",
              "    .dataframe tbody tr th {\n",
              "        vertical-align: top;\n",
              "    }\n",
              "\n",
              "    .dataframe thead th {\n",
              "        text-align: right;\n",
              "    }\n",
              "</style>\n",
              "<table border=\"1\" class=\"dataframe\">\n",
              "  <thead>\n",
              "    <tr style=\"text-align: right;\">\n",
              "      <th></th>\n",
              "      <th>count</th>\n",
              "    </tr>\n",
              "    <tr>\n",
              "      <th>Label</th>\n",
              "      <th></th>\n",
              "    </tr>\n",
              "  </thead>\n",
              "  <tbody>\n",
              "    <tr>\n",
              "      <th>Negative</th>\n",
              "      <td>1138</td>\n",
              "    </tr>\n",
              "    <tr>\n",
              "      <th>Neutral</th>\n",
              "      <td>350</td>\n",
              "    </tr>\n",
              "    <tr>\n",
              "      <th>Positive</th>\n",
              "      <td>251</td>\n",
              "    </tr>\n",
              "  </tbody>\n",
              "</table>\n",
              "</div><br><label><b>dtype:</b> int64</label>"
            ]
          },
          "metadata": {},
          "execution_count": 17
        }
      ]
    },
    {
      "cell_type": "code",
      "source": [
        "df.to_csv('df_cleaned.csv',index=False)"
      ],
      "metadata": {
        "id": "-IM5jysEMEVg"
      },
      "execution_count": null,
      "outputs": []
    },
    {
      "cell_type": "code",
      "source": [
        "trainDF = pd.read_csv('df_cleaned.csv')"
      ],
      "metadata": {
        "id": "6rayrM1hMMk9"
      },
      "execution_count": null,
      "outputs": []
    },
    {
      "cell_type": "code",
      "source": [
        "from sklearn import model_selection, preprocessing # Import necessary modules\n"
      ],
      "metadata": {
        "id": "1IyqyhTGMzrV"
      },
      "execution_count": null,
      "outputs": []
    },
    {
      "cell_type": "code",
      "source": [
        "trainDF.head()"
      ],
      "metadata": {
        "colab": {
          "base_uri": "https://localhost:8080/",
          "height": 226
        },
        "id": "-w37kx4ftKxm",
        "outputId": "4ad5291b-5aba-40ed-9e4f-bb75cf438ae1"
      },
      "execution_count": null,
      "outputs": [
        {
          "output_type": "execute_result",
          "data": {
            "text/plain": [
              "                                         video_title  \\\n",
              "0  නොලැබීමට පරල වූ සෞඛ්‍ය වෘත්තීය සමිති...  \"ඒ කා...   \n",
              "1  නොලැබීමට පරල වූ සෞඛ්‍ය වෘත්තීය සමිති...  \"ඒ කා...   \n",
              "2  හින්දු බැතිමතුන් ජයටම තෛපොංගල් සමරයි... ජාතික ...   \n",
              "3  හින්දු බැතිමතුන් ජයටම තෛපොංගල් සමරයි... ජාතික ...   \n",
              "4  උතුම් බුදු දහමට එරෙහි බලවේග ගැන මහානායක හිමිවර...   \n",
              "\n",
              "                                                text     Label         Domain  \\\n",
              "0  කාලකන්නි වෙිසිගෙ පුතාල හෙනමයි තොපිට වදින්නෙ ත...  Negative  Non political   \n",
              "1  ඉල්ලුමට සැපයුම අනුව පඩි හැදෙන්නෙ, නැතුව ත්‍රස්...  Negative  Non political   \n",
              "2  ඊලග  තයිපෝන්ගල්    උත්සවය  උපරිමයෙන්   සාර්ථක ...  Positive      Political   \n",
              "3  තයිපෝන්ගල්    උත්සවය සාර්ථක වේවා sjb නායක තුමා...  Positive      Political   \n",
              "4  මේ රටේ මහා සංඝරත්නයට සමගියෙන් ඉන්න බැරි උනාම ඔ...   Neutral  Non political   \n",
              "\n",
              "    About  \n",
              "0     NaN  \n",
              "1     NaN  \n",
              "2  Sajith  \n",
              "3  Sajith  \n",
              "4     NaN  "
            ],
            "text/html": [
              "\n",
              "  <div id=\"df-bfd8a520-bf31-4b70-a85b-6e468c974ed7\" class=\"colab-df-container\">\n",
              "    <div>\n",
              "<style scoped>\n",
              "    .dataframe tbody tr th:only-of-type {\n",
              "        vertical-align: middle;\n",
              "    }\n",
              "\n",
              "    .dataframe tbody tr th {\n",
              "        vertical-align: top;\n",
              "    }\n",
              "\n",
              "    .dataframe thead th {\n",
              "        text-align: right;\n",
              "    }\n",
              "</style>\n",
              "<table border=\"1\" class=\"dataframe\">\n",
              "  <thead>\n",
              "    <tr style=\"text-align: right;\">\n",
              "      <th></th>\n",
              "      <th>video_title</th>\n",
              "      <th>text</th>\n",
              "      <th>Label</th>\n",
              "      <th>Domain</th>\n",
              "      <th>About</th>\n",
              "    </tr>\n",
              "  </thead>\n",
              "  <tbody>\n",
              "    <tr>\n",
              "      <th>0</th>\n",
              "      <td>නොලැබීමට පරල වූ සෞඛ්‍ය වෘත්තීය සමිති...  \"ඒ කා...</td>\n",
              "      <td>කාලකන්නි වෙිසිගෙ පුතාල හෙනමයි තොපිට වදින්නෙ ත...</td>\n",
              "      <td>Negative</td>\n",
              "      <td>Non political</td>\n",
              "      <td>NaN</td>\n",
              "    </tr>\n",
              "    <tr>\n",
              "      <th>1</th>\n",
              "      <td>නොලැබීමට පරල වූ සෞඛ්‍ය වෘත්තීය සමිති...  \"ඒ කා...</td>\n",
              "      <td>ඉල්ලුමට සැපයුම අනුව පඩි හැදෙන්නෙ, නැතුව ත්‍රස්...</td>\n",
              "      <td>Negative</td>\n",
              "      <td>Non political</td>\n",
              "      <td>NaN</td>\n",
              "    </tr>\n",
              "    <tr>\n",
              "      <th>2</th>\n",
              "      <td>හින්දු බැතිමතුන් ජයටම තෛපොංගල් සමරයි... ජාතික ...</td>\n",
              "      <td>ඊලග  තයිපෝන්ගල්    උත්සවය  උපරිමයෙන්   සාර්ථක ...</td>\n",
              "      <td>Positive</td>\n",
              "      <td>Political</td>\n",
              "      <td>Sajith</td>\n",
              "    </tr>\n",
              "    <tr>\n",
              "      <th>3</th>\n",
              "      <td>හින්දු බැතිමතුන් ජයටම තෛපොංගල් සමරයි... ජාතික ...</td>\n",
              "      <td>තයිපෝන්ගල්    උත්සවය සාර්ථක වේවා sjb නායක තුමා...</td>\n",
              "      <td>Positive</td>\n",
              "      <td>Political</td>\n",
              "      <td>Sajith</td>\n",
              "    </tr>\n",
              "    <tr>\n",
              "      <th>4</th>\n",
              "      <td>උතුම් බුදු දහමට එරෙහි බලවේග ගැන මහානායක හිමිවර...</td>\n",
              "      <td>මේ රටේ මහා සංඝරත්නයට සමගියෙන් ඉන්න බැරි උනාම ඔ...</td>\n",
              "      <td>Neutral</td>\n",
              "      <td>Non political</td>\n",
              "      <td>NaN</td>\n",
              "    </tr>\n",
              "  </tbody>\n",
              "</table>\n",
              "</div>\n",
              "    <div class=\"colab-df-buttons\">\n",
              "\n",
              "  <div class=\"colab-df-container\">\n",
              "    <button class=\"colab-df-convert\" onclick=\"convertToInteractive('df-bfd8a520-bf31-4b70-a85b-6e468c974ed7')\"\n",
              "            title=\"Convert this dataframe to an interactive table.\"\n",
              "            style=\"display:none;\">\n",
              "\n",
              "  <svg xmlns=\"http://www.w3.org/2000/svg\" height=\"24px\" viewBox=\"0 -960 960 960\">\n",
              "    <path d=\"M120-120v-720h720v720H120Zm60-500h600v-160H180v160Zm220 220h160v-160H400v160Zm0 220h160v-160H400v160ZM180-400h160v-160H180v160Zm440 0h160v-160H620v160ZM180-180h160v-160H180v160Zm440 0h160v-160H620v160Z\"/>\n",
              "  </svg>\n",
              "    </button>\n",
              "\n",
              "  <style>\n",
              "    .colab-df-container {\n",
              "      display:flex;\n",
              "      gap: 12px;\n",
              "    }\n",
              "\n",
              "    .colab-df-convert {\n",
              "      background-color: #E8F0FE;\n",
              "      border: none;\n",
              "      border-radius: 50%;\n",
              "      cursor: pointer;\n",
              "      display: none;\n",
              "      fill: #1967D2;\n",
              "      height: 32px;\n",
              "      padding: 0 0 0 0;\n",
              "      width: 32px;\n",
              "    }\n",
              "\n",
              "    .colab-df-convert:hover {\n",
              "      background-color: #E2EBFA;\n",
              "      box-shadow: 0px 1px 2px rgba(60, 64, 67, 0.3), 0px 1px 3px 1px rgba(60, 64, 67, 0.15);\n",
              "      fill: #174EA6;\n",
              "    }\n",
              "\n",
              "    .colab-df-buttons div {\n",
              "      margin-bottom: 4px;\n",
              "    }\n",
              "\n",
              "    [theme=dark] .colab-df-convert {\n",
              "      background-color: #3B4455;\n",
              "      fill: #D2E3FC;\n",
              "    }\n",
              "\n",
              "    [theme=dark] .colab-df-convert:hover {\n",
              "      background-color: #434B5C;\n",
              "      box-shadow: 0px 1px 3px 1px rgba(0, 0, 0, 0.15);\n",
              "      filter: drop-shadow(0px 1px 2px rgba(0, 0, 0, 0.3));\n",
              "      fill: #FFFFFF;\n",
              "    }\n",
              "  </style>\n",
              "\n",
              "    <script>\n",
              "      const buttonEl =\n",
              "        document.querySelector('#df-bfd8a520-bf31-4b70-a85b-6e468c974ed7 button.colab-df-convert');\n",
              "      buttonEl.style.display =\n",
              "        google.colab.kernel.accessAllowed ? 'block' : 'none';\n",
              "\n",
              "      async function convertToInteractive(key) {\n",
              "        const element = document.querySelector('#df-bfd8a520-bf31-4b70-a85b-6e468c974ed7');\n",
              "        const dataTable =\n",
              "          await google.colab.kernel.invokeFunction('convertToInteractive',\n",
              "                                                    [key], {});\n",
              "        if (!dataTable) return;\n",
              "\n",
              "        const docLinkHtml = 'Like what you see? Visit the ' +\n",
              "          '<a target=\"_blank\" href=https://colab.research.google.com/notebooks/data_table.ipynb>data table notebook</a>'\n",
              "          + ' to learn more about interactive tables.';\n",
              "        element.innerHTML = '';\n",
              "        dataTable['output_type'] = 'display_data';\n",
              "        await google.colab.output.renderOutput(dataTable, element);\n",
              "        const docLink = document.createElement('div');\n",
              "        docLink.innerHTML = docLinkHtml;\n",
              "        element.appendChild(docLink);\n",
              "      }\n",
              "    </script>\n",
              "  </div>\n",
              "\n",
              "\n",
              "<div id=\"df-982376dc-7432-4f74-bd49-107344601bc0\">\n",
              "  <button class=\"colab-df-quickchart\" onclick=\"quickchart('df-982376dc-7432-4f74-bd49-107344601bc0')\"\n",
              "            title=\"Suggest charts\"\n",
              "            style=\"display:none;\">\n",
              "\n",
              "<svg xmlns=\"http://www.w3.org/2000/svg\" height=\"24px\"viewBox=\"0 0 24 24\"\n",
              "     width=\"24px\">\n",
              "    <g>\n",
              "        <path d=\"M19 3H5c-1.1 0-2 .9-2 2v14c0 1.1.9 2 2 2h14c1.1 0 2-.9 2-2V5c0-1.1-.9-2-2-2zM9 17H7v-7h2v7zm4 0h-2V7h2v10zm4 0h-2v-4h2v4z\"/>\n",
              "    </g>\n",
              "</svg>\n",
              "  </button>\n",
              "\n",
              "<style>\n",
              "  .colab-df-quickchart {\n",
              "      --bg-color: #E8F0FE;\n",
              "      --fill-color: #1967D2;\n",
              "      --hover-bg-color: #E2EBFA;\n",
              "      --hover-fill-color: #174EA6;\n",
              "      --disabled-fill-color: #AAA;\n",
              "      --disabled-bg-color: #DDD;\n",
              "  }\n",
              "\n",
              "  [theme=dark] .colab-df-quickchart {\n",
              "      --bg-color: #3B4455;\n",
              "      --fill-color: #D2E3FC;\n",
              "      --hover-bg-color: #434B5C;\n",
              "      --hover-fill-color: #FFFFFF;\n",
              "      --disabled-bg-color: #3B4455;\n",
              "      --disabled-fill-color: #666;\n",
              "  }\n",
              "\n",
              "  .colab-df-quickchart {\n",
              "    background-color: var(--bg-color);\n",
              "    border: none;\n",
              "    border-radius: 50%;\n",
              "    cursor: pointer;\n",
              "    display: none;\n",
              "    fill: var(--fill-color);\n",
              "    height: 32px;\n",
              "    padding: 0;\n",
              "    width: 32px;\n",
              "  }\n",
              "\n",
              "  .colab-df-quickchart:hover {\n",
              "    background-color: var(--hover-bg-color);\n",
              "    box-shadow: 0 1px 2px rgba(60, 64, 67, 0.3), 0 1px 3px 1px rgba(60, 64, 67, 0.15);\n",
              "    fill: var(--button-hover-fill-color);\n",
              "  }\n",
              "\n",
              "  .colab-df-quickchart-complete:disabled,\n",
              "  .colab-df-quickchart-complete:disabled:hover {\n",
              "    background-color: var(--disabled-bg-color);\n",
              "    fill: var(--disabled-fill-color);\n",
              "    box-shadow: none;\n",
              "  }\n",
              "\n",
              "  .colab-df-spinner {\n",
              "    border: 2px solid var(--fill-color);\n",
              "    border-color: transparent;\n",
              "    border-bottom-color: var(--fill-color);\n",
              "    animation:\n",
              "      spin 1s steps(1) infinite;\n",
              "  }\n",
              "\n",
              "  @keyframes spin {\n",
              "    0% {\n",
              "      border-color: transparent;\n",
              "      border-bottom-color: var(--fill-color);\n",
              "      border-left-color: var(--fill-color);\n",
              "    }\n",
              "    20% {\n",
              "      border-color: transparent;\n",
              "      border-left-color: var(--fill-color);\n",
              "      border-top-color: var(--fill-color);\n",
              "    }\n",
              "    30% {\n",
              "      border-color: transparent;\n",
              "      border-left-color: var(--fill-color);\n",
              "      border-top-color: var(--fill-color);\n",
              "      border-right-color: var(--fill-color);\n",
              "    }\n",
              "    40% {\n",
              "      border-color: transparent;\n",
              "      border-right-color: var(--fill-color);\n",
              "      border-top-color: var(--fill-color);\n",
              "    }\n",
              "    60% {\n",
              "      border-color: transparent;\n",
              "      border-right-color: var(--fill-color);\n",
              "    }\n",
              "    80% {\n",
              "      border-color: transparent;\n",
              "      border-right-color: var(--fill-color);\n",
              "      border-bottom-color: var(--fill-color);\n",
              "    }\n",
              "    90% {\n",
              "      border-color: transparent;\n",
              "      border-bottom-color: var(--fill-color);\n",
              "    }\n",
              "  }\n",
              "</style>\n",
              "\n",
              "  <script>\n",
              "    async function quickchart(key) {\n",
              "      const quickchartButtonEl =\n",
              "        document.querySelector('#' + key + ' button');\n",
              "      quickchartButtonEl.disabled = true;  // To prevent multiple clicks.\n",
              "      quickchartButtonEl.classList.add('colab-df-spinner');\n",
              "      try {\n",
              "        const charts = await google.colab.kernel.invokeFunction(\n",
              "            'suggestCharts', [key], {});\n",
              "      } catch (error) {\n",
              "        console.error('Error during call to suggestCharts:', error);\n",
              "      }\n",
              "      quickchartButtonEl.classList.remove('colab-df-spinner');\n",
              "      quickchartButtonEl.classList.add('colab-df-quickchart-complete');\n",
              "    }\n",
              "    (() => {\n",
              "      let quickchartButtonEl =\n",
              "        document.querySelector('#df-982376dc-7432-4f74-bd49-107344601bc0 button');\n",
              "      quickchartButtonEl.style.display =\n",
              "        google.colab.kernel.accessAllowed ? 'block' : 'none';\n",
              "    })();\n",
              "  </script>\n",
              "</div>\n",
              "\n",
              "    </div>\n",
              "  </div>\n"
            ],
            "application/vnd.google.colaboratory.intrinsic+json": {
              "type": "dataframe",
              "variable_name": "trainDF",
              "summary": "{\n  \"name\": \"trainDF\",\n  \"rows\": 1739,\n  \"fields\": [\n    {\n      \"column\": \"video_title\",\n      \"properties\": {\n        \"dtype\": \"category\",\n        \"num_unique_values\": 128,\n        \"samples\": [\n          \"Wada Pitiya -  2017.03.28\",\n          \"Wada Pitiya | \\u0dc3\\u0db8\\u0dcf\\u0da2 \\u0db8\\u0dcf\\u0db0\\u0dca\\u200d\\u0dba \\u0db1\\u0dd2\\u0dba\\u0dcf\\u0db8\\u0db1\\u0dba\\u0da7 \\u0db4\\u0db1\\u0dad\\u0d9a\\u0dca \\u0d89\\u0daf\\u0dd2\\u0dbb\\u0dd2\\u0db4\\u0dad\\u0dca\\u0dc0\\u0db1\\u0dca\\u0db1\\u0dda \\u0d87\\u0dba\\u0dd2 ?\",\n          \"\\u0d8b\\u0dc3\\u0dc3\\u0dca \\u0db4\\u0dd9\\u0dc5 \\u0dc0\\u0dd2\\u0db7\\u0dcf\\u0d9c\\u0dba\\u0dda \\u0db4\\u0dc5\\u0db8\\u0dd4 \\u0daf\\u0dd2\\u0db1\\u0dba\\u0dda \\u0dad\\u0dad\\u0dca\\u0dad\\u0dca\\u0dc0\\u0dba...  \\\"\\u0d9a\\u0dbd\\u0dd2\\u0db1\\u0dca \\u0dad\\u0dd2\\u0db6\\u0dca\\u0db6 \\u0db1\\u0db8\\u0dca \\u0dc4\\u0ddc\\u0db3\\u0dba\\u0dd2\\\"\"\n        ],\n        \"semantic_type\": \"\",\n        \"description\": \"\"\n      }\n    },\n    {\n      \"column\": \"text\",\n      \"properties\": {\n        \"dtype\": \"string\",\n        \"num_unique_values\": 1734,\n        \"samples\": [\n          \"\\u0d92\\u0d9a \\u0dad\\u0db8\\u0dba\\u0dd2 \\u0daf\\u0d9a\\u0dd4\\u0dab\\u0dd9 \\u0d8b\\u0db1\\u0dca \\u0d85\\u0da9\\u0dd2 \\u0daf\\u0dd9\\u0d9a \\u0dad\\u0dd4\\u0db1\\u0d9a\\u0dca \\u0d8b\\u0da9\\u0dd2\\u0db1\\u0dca \\u0dba\\u0db1\\u0dca\\u0db1\\u0dd9 eww \\u0dbd\\u0ddc\\u0d9a\\u0dd4 seen \\u0d95\\u0d9a\\u0dd4\\u0db1\\u0dca\\u0d9c\\u0dd9\\ud83d\\ude02\",\n          \"\\u0dbb\\u0dc3 \\u0db4\\u0dbb\\u0dd2\\u0d9a\\u0dca\\u0dc2\\u0d9a \\u0d9c\\u0dcf\\u0dc0\\u0da7 \\u0dba\\u0db1\\u0dca\\u0db1\\u0dd9 \\u0db4\\u0dcf\\u0db1\\u0dca \\u0dbd\\u0dd2\\u0da7\\u0dd2..\\ud83d\\ude01\",\n          \"\\u0d85\\u0db1\\u0dd9 \\u0d8b\\u0d9a\\u0dc4\\u0dbd\\u0dca\\u0dbd\\u0dcf\\ud83e\\udd23\"\n        ],\n        \"semantic_type\": \"\",\n        \"description\": \"\"\n      }\n    },\n    {\n      \"column\": \"Label\",\n      \"properties\": {\n        \"dtype\": \"category\",\n        \"num_unique_values\": 3,\n        \"samples\": [\n          \"Negative\",\n          \"Positive\",\n          \"Neutral\"\n        ],\n        \"semantic_type\": \"\",\n        \"description\": \"\"\n      }\n    },\n    {\n      \"column\": \"Domain\",\n      \"properties\": {\n        \"dtype\": \"category\",\n        \"num_unique_values\": 3,\n        \"samples\": [\n          \"Non political\",\n          \"Political\",\n          \" P\"\n        ],\n        \"semantic_type\": \"\",\n        \"description\": \"\"\n      }\n    },\n    {\n      \"column\": \"About\",\n      \"properties\": {\n        \"dtype\": \"category\",\n        \"num_unique_values\": 7,\n        \"samples\": [\n          \"Sajith\",\n          \"Everyone\",\n          \"Other\"\n        ],\n        \"semantic_type\": \"\",\n        \"description\": \"\"\n      }\n    }\n  ]\n}"
            }
          },
          "metadata": {},
          "execution_count": 6
        }
      ]
    },
    {
      "cell_type": "code",
      "source": [
        "!pip install sinlingua"
      ],
      "metadata": {
        "colab": {
          "base_uri": "https://localhost:8080/",
          "height": 1000
        },
        "collapsed": true,
        "id": "1jQ894_jttWj",
        "outputId": "b57696b9-aecd-4e7a-9856-d9a06de51c06"
      },
      "execution_count": null,
      "outputs": [
        {
          "output_type": "stream",
          "name": "stdout",
          "text": [
            "Collecting sinlingua\n",
            "  Downloading sinlingua-0.1.8-py3-none-any.whl.metadata (4.3 kB)\n",
            "Collecting fuzzywuzzy==0.18.0 (from sinlingua)\n",
            "  Downloading fuzzywuzzy-0.18.0-py2.py3-none-any.whl.metadata (4.9 kB)\n",
            "Collecting gensim==4.3.1 (from sinlingua)\n",
            "  Downloading gensim-4.3.1-cp310-cp310-manylinux_2_17_x86_64.manylinux2014_x86_64.whl.metadata (8.5 kB)\n",
            "Collecting googletrans==4.0.0-rc1 (from sinlingua)\n",
            "  Downloading googletrans-4.0.0rc1.tar.gz (20 kB)\n",
            "  Preparing metadata (setup.py) ... \u001b[?25l\u001b[?25hdone\n",
            "Collecting numpy==1.23.0 (from sinlingua)\n",
            "  Downloading numpy-1.23.0-cp310-cp310-manylinux_2_17_x86_64.manylinux2014_x86_64.whl.metadata (2.2 kB)\n",
            "Collecting openai==0.27.8 (from sinlingua)\n",
            "  Downloading openai-0.27.8-py3-none-any.whl.metadata (13 kB)\n",
            "Collecting pandas==1.5.3 (from sinlingua)\n",
            "  Downloading pandas-1.5.3-cp310-cp310-manylinux_2_17_x86_64.manylinux2014_x86_64.whl.metadata (11 kB)\n",
            "Collecting pygtrie==2.5.0 (from sinlingua)\n",
            "  Downloading pygtrie-2.5.0-py3-none-any.whl.metadata (7.5 kB)\n",
            "Collecting Requests==2.31.0 (from sinlingua)\n",
            "  Downloading requests-2.31.0-py3-none-any.whl.metadata (4.6 kB)\n",
            "Collecting scikit-learn==1.1.3 (from sinlingua)\n",
            "  Downloading scikit_learn-1.1.3-cp310-cp310-manylinux_2_17_x86_64.manylinux2014_x86_64.whl.metadata (10 kB)\n",
            "Collecting setuptools==65.5.1 (from sinlingua)\n",
            "  Downloading setuptools-65.5.1-py3-none-any.whl.metadata (6.3 kB)\n",
            "Collecting sinling==0.3.6 (from sinlingua)\n",
            "  Downloading sinling-0.3.6-py3-none-any.whl.metadata (3.0 kB)\n",
            "Collecting SpeechRecognition==3.10.0 (from sinlingua)\n",
            "  Downloading SpeechRecognition-3.10.0-py2.py3-none-any.whl.metadata (28 kB)\n",
            "Collecting torch==2.0.1 (from sinlingua)\n",
            "  Downloading torch-2.0.1-cp310-cp310-manylinux1_x86_64.whl.metadata (24 kB)\n",
            "Collecting jedi==0.16 (from sinlingua)\n",
            "  Downloading jedi-0.16.0-py2.py3-none-any.whl.metadata (17 kB)\n",
            "Collecting transformers==4.32.0 (from sinlingua)\n",
            "  Downloading transformers-4.32.0-py3-none-any.whl.metadata (118 kB)\n",
            "\u001b[2K     \u001b[90m━━━━━━━━━━━━━━━━━━━━━━━━━━━━━━━━━━━━━━━━\u001b[0m \u001b[32m118.5/118.5 kB\u001b[0m \u001b[31m1.7 MB/s\u001b[0m eta \u001b[36m0:00:00\u001b[0m\n",
            "\u001b[?25hRequirement already satisfied: scipy>=1.7.0 in /usr/local/lib/python3.10/dist-packages (from gensim==4.3.1->sinlingua) (1.13.1)\n",
            "Requirement already satisfied: smart-open>=1.8.1 in /usr/local/lib/python3.10/dist-packages (from gensim==4.3.1->sinlingua) (7.0.4)\n",
            "Collecting httpx==0.13.3 (from googletrans==4.0.0-rc1->sinlingua)\n",
            "  Downloading httpx-0.13.3-py3-none-any.whl.metadata (25 kB)\n",
            "Requirement already satisfied: parso>=0.5.2 in /usr/local/lib/python3.10/dist-packages (from jedi==0.16->sinlingua) (0.8.4)\n",
            "Requirement already satisfied: tqdm in /usr/local/lib/python3.10/dist-packages (from openai==0.27.8->sinlingua) (4.66.5)\n",
            "Collecting aiohttp (from openai==0.27.8->sinlingua)\n",
            "  Downloading aiohttp-3.10.4-cp310-cp310-manylinux_2_17_x86_64.manylinux2014_x86_64.whl.metadata (7.5 kB)\n",
            "Requirement already satisfied: python-dateutil>=2.8.1 in /usr/local/lib/python3.10/dist-packages (from pandas==1.5.3->sinlingua) (2.9.0.post0)\n",
            "Requirement already satisfied: pytz>=2020.1 in /usr/local/lib/python3.10/dist-packages (from pandas==1.5.3->sinlingua) (2024.1)\n",
            "Requirement already satisfied: charset-normalizer<4,>=2 in /usr/local/lib/python3.10/dist-packages (from Requests==2.31.0->sinlingua) (3.3.2)\n",
            "Requirement already satisfied: idna<4,>=2.5 in /usr/local/lib/python3.10/dist-packages (from Requests==2.31.0->sinlingua) (3.7)\n",
            "Requirement already satisfied: urllib3<3,>=1.21.1 in /usr/local/lib/python3.10/dist-packages (from Requests==2.31.0->sinlingua) (2.0.7)\n",
            "Requirement already satisfied: certifi>=2017.4.17 in /usr/local/lib/python3.10/dist-packages (from Requests==2.31.0->sinlingua) (2024.7.4)\n",
            "Requirement already satisfied: joblib>=1.0.0 in /usr/local/lib/python3.10/dist-packages (from scikit-learn==1.1.3->sinlingua) (1.4.2)\n",
            "Requirement already satisfied: threadpoolctl>=2.0.0 in /usr/local/lib/python3.10/dist-packages (from scikit-learn==1.1.3->sinlingua) (3.5.0)\n",
            "Collecting emoji (from sinling==0.3.6->sinlingua)\n",
            "  Downloading emoji-2.12.1-py3-none-any.whl.metadata (5.4 kB)\n",
            "Collecting sklearn-crfsuite (from sinling==0.3.6->sinlingua)\n",
            "  Downloading sklearn_crfsuite-0.5.0-py2.py3-none-any.whl.metadata (4.9 kB)\n",
            "Requirement already satisfied: nltk in /usr/local/lib/python3.10/dist-packages (from sinling==0.3.6->sinlingua) (3.8.1)\n",
            "Requirement already satisfied: filelock in /usr/local/lib/python3.10/dist-packages (from torch==2.0.1->sinlingua) (3.15.4)\n",
            "Requirement already satisfied: typing-extensions in /usr/local/lib/python3.10/dist-packages (from torch==2.0.1->sinlingua) (4.12.2)\n",
            "Requirement already satisfied: sympy in /usr/local/lib/python3.10/dist-packages (from torch==2.0.1->sinlingua) (1.13.1)\n",
            "Requirement already satisfied: networkx in /usr/local/lib/python3.10/dist-packages (from torch==2.0.1->sinlingua) (3.3)\n",
            "Requirement already satisfied: jinja2 in /usr/local/lib/python3.10/dist-packages (from torch==2.0.1->sinlingua) (3.1.4)\n",
            "Collecting nvidia-cuda-nvrtc-cu11==11.7.99 (from torch==2.0.1->sinlingua)\n",
            "  Downloading nvidia_cuda_nvrtc_cu11-11.7.99-2-py3-none-manylinux1_x86_64.whl.metadata (1.5 kB)\n",
            "Collecting nvidia-cuda-runtime-cu11==11.7.99 (from torch==2.0.1->sinlingua)\n",
            "  Downloading nvidia_cuda_runtime_cu11-11.7.99-py3-none-manylinux1_x86_64.whl.metadata (1.6 kB)\n",
            "Collecting nvidia-cuda-cupti-cu11==11.7.101 (from torch==2.0.1->sinlingua)\n",
            "  Downloading nvidia_cuda_cupti_cu11-11.7.101-py3-none-manylinux1_x86_64.whl.metadata (1.6 kB)\n",
            "Collecting nvidia-cudnn-cu11==8.5.0.96 (from torch==2.0.1->sinlingua)\n",
            "  Downloading nvidia_cudnn_cu11-8.5.0.96-2-py3-none-manylinux1_x86_64.whl.metadata (1.6 kB)\n",
            "Collecting nvidia-cublas-cu11==11.10.3.66 (from torch==2.0.1->sinlingua)\n",
            "  Downloading nvidia_cublas_cu11-11.10.3.66-py3-none-manylinux1_x86_64.whl.metadata (1.6 kB)\n",
            "Collecting nvidia-cufft-cu11==10.9.0.58 (from torch==2.0.1->sinlingua)\n",
            "  Downloading nvidia_cufft_cu11-10.9.0.58-py3-none-manylinux2014_x86_64.whl.metadata (1.5 kB)\n",
            "Collecting nvidia-curand-cu11==10.2.10.91 (from torch==2.0.1->sinlingua)\n",
            "  Downloading nvidia_curand_cu11-10.2.10.91-py3-none-manylinux1_x86_64.whl.metadata (1.6 kB)\n",
            "Collecting nvidia-cusolver-cu11==11.4.0.1 (from torch==2.0.1->sinlingua)\n",
            "  Downloading nvidia_cusolver_cu11-11.4.0.1-2-py3-none-manylinux1_x86_64.whl.metadata (1.6 kB)\n",
            "Collecting nvidia-cusparse-cu11==11.7.4.91 (from torch==2.0.1->sinlingua)\n",
            "  Downloading nvidia_cusparse_cu11-11.7.4.91-py3-none-manylinux1_x86_64.whl.metadata (1.6 kB)\n",
            "Collecting nvidia-nccl-cu11==2.14.3 (from torch==2.0.1->sinlingua)\n",
            "  Downloading nvidia_nccl_cu11-2.14.3-py3-none-manylinux1_x86_64.whl.metadata (1.8 kB)\n",
            "Collecting nvidia-nvtx-cu11==11.7.91 (from torch==2.0.1->sinlingua)\n",
            "  Downloading nvidia_nvtx_cu11-11.7.91-py3-none-manylinux1_x86_64.whl.metadata (1.7 kB)\n",
            "Collecting triton==2.0.0 (from torch==2.0.1->sinlingua)\n",
            "  Downloading triton-2.0.0-1-cp310-cp310-manylinux2014_x86_64.manylinux_2_17_x86_64.whl.metadata (1.0 kB)\n",
            "Requirement already satisfied: huggingface-hub<1.0,>=0.15.1 in /usr/local/lib/python3.10/dist-packages (from transformers==4.32.0->sinlingua) (0.23.5)\n",
            "Requirement already satisfied: packaging>=20.0 in /usr/local/lib/python3.10/dist-packages (from transformers==4.32.0->sinlingua) (24.1)\n",
            "Requirement already satisfied: pyyaml>=5.1 in /usr/local/lib/python3.10/dist-packages (from transformers==4.32.0->sinlingua) (6.0.2)\n",
            "Requirement already satisfied: regex!=2019.12.17 in /usr/local/lib/python3.10/dist-packages (from transformers==4.32.0->sinlingua) (2024.7.24)\n",
            "Collecting tokenizers!=0.11.3,<0.14,>=0.11.1 (from transformers==4.32.0->sinlingua)\n",
            "  Downloading tokenizers-0.13.3-cp310-cp310-manylinux_2_17_x86_64.manylinux2014_x86_64.whl.metadata (6.7 kB)\n",
            "Requirement already satisfied: safetensors>=0.3.1 in /usr/local/lib/python3.10/dist-packages (from transformers==4.32.0->sinlingua) (0.4.4)\n",
            "Collecting hstspreload (from httpx==0.13.3->googletrans==4.0.0-rc1->sinlingua)\n",
            "  Downloading hstspreload-2024.8.1-py3-none-any.whl.metadata (2.1 kB)\n",
            "Requirement already satisfied: sniffio in /usr/local/lib/python3.10/dist-packages (from httpx==0.13.3->googletrans==4.0.0-rc1->sinlingua) (1.3.1)\n",
            "Collecting chardet==3.* (from httpx==0.13.3->googletrans==4.0.0-rc1->sinlingua)\n",
            "  Downloading chardet-3.0.4-py2.py3-none-any.whl.metadata (3.2 kB)\n",
            "Collecting idna<4,>=2.5 (from Requests==2.31.0->sinlingua)\n",
            "  Downloading idna-2.10-py2.py3-none-any.whl.metadata (9.1 kB)\n",
            "Collecting rfc3986<2,>=1.3 (from httpx==0.13.3->googletrans==4.0.0-rc1->sinlingua)\n",
            "  Downloading rfc3986-1.5.0-py2.py3-none-any.whl.metadata (6.5 kB)\n",
            "Collecting httpcore==0.9.* (from httpx==0.13.3->googletrans==4.0.0-rc1->sinlingua)\n",
            "  Downloading httpcore-0.9.1-py3-none-any.whl.metadata (4.6 kB)\n",
            "Requirement already satisfied: wheel in /usr/local/lib/python3.10/dist-packages (from nvidia-cublas-cu11==11.10.3.66->torch==2.0.1->sinlingua) (0.44.0)\n",
            "Collecting cmake (from triton==2.0.0->torch==2.0.1->sinlingua)\n",
            "  Downloading cmake-3.30.2-py3-none-manylinux_2_17_x86_64.manylinux2014_x86_64.whl.metadata (6.1 kB)\n",
            "Collecting lit (from triton==2.0.0->torch==2.0.1->sinlingua)\n",
            "  Downloading lit-18.1.8-py3-none-any.whl.metadata (2.5 kB)\n",
            "Collecting h11<0.10,>=0.8 (from httpcore==0.9.*->httpx==0.13.3->googletrans==4.0.0-rc1->sinlingua)\n",
            "  Downloading h11-0.9.0-py2.py3-none-any.whl.metadata (8.1 kB)\n",
            "Collecting h2==3.* (from httpcore==0.9.*->httpx==0.13.3->googletrans==4.0.0-rc1->sinlingua)\n",
            "  Downloading h2-3.2.0-py2.py3-none-any.whl.metadata (32 kB)\n",
            "Collecting hyperframe<6,>=5.2.0 (from h2==3.*->httpcore==0.9.*->httpx==0.13.3->googletrans==4.0.0-rc1->sinlingua)\n",
            "  Downloading hyperframe-5.2.0-py2.py3-none-any.whl.metadata (7.2 kB)\n",
            "Collecting hpack<4,>=3.0 (from h2==3.*->httpcore==0.9.*->httpx==0.13.3->googletrans==4.0.0-rc1->sinlingua)\n",
            "  Downloading hpack-3.0.0-py2.py3-none-any.whl.metadata (7.0 kB)\n",
            "Requirement already satisfied: fsspec>=2023.5.0 in /usr/local/lib/python3.10/dist-packages (from huggingface-hub<1.0,>=0.15.1->transformers==4.32.0->sinlingua) (2024.6.1)\n",
            "Requirement already satisfied: six>=1.5 in /usr/local/lib/python3.10/dist-packages (from python-dateutil>=2.8.1->pandas==1.5.3->sinlingua) (1.16.0)\n",
            "Requirement already satisfied: wrapt in /usr/local/lib/python3.10/dist-packages (from smart-open>=1.8.1->gensim==4.3.1->sinlingua) (1.14.1)\n",
            "Collecting aiohappyeyeballs>=2.3.0 (from aiohttp->openai==0.27.8->sinlingua)\n",
            "  Downloading aiohappyeyeballs-2.3.7-py3-none-any.whl.metadata (5.9 kB)\n",
            "Collecting aiosignal>=1.1.2 (from aiohttp->openai==0.27.8->sinlingua)\n",
            "  Downloading aiosignal-1.3.1-py3-none-any.whl.metadata (4.0 kB)\n",
            "Requirement already satisfied: attrs>=17.3.0 in /usr/local/lib/python3.10/dist-packages (from aiohttp->openai==0.27.8->sinlingua) (24.2.0)\n",
            "Collecting frozenlist>=1.1.1 (from aiohttp->openai==0.27.8->sinlingua)\n",
            "  Downloading frozenlist-1.4.1-cp310-cp310-manylinux_2_5_x86_64.manylinux1_x86_64.manylinux_2_17_x86_64.manylinux2014_x86_64.whl.metadata (12 kB)\n",
            "Collecting multidict<7.0,>=4.5 (from aiohttp->openai==0.27.8->sinlingua)\n",
            "  Downloading multidict-6.0.5-cp310-cp310-manylinux_2_17_x86_64.manylinux2014_x86_64.whl.metadata (4.2 kB)\n",
            "Collecting yarl<2.0,>=1.0 (from aiohttp->openai==0.27.8->sinlingua)\n",
            "  Downloading yarl-1.9.4-cp310-cp310-manylinux_2_17_x86_64.manylinux2014_x86_64.whl.metadata (31 kB)\n",
            "Collecting async-timeout<5.0,>=4.0 (from aiohttp->openai==0.27.8->sinlingua)\n",
            "  Downloading async_timeout-4.0.3-py3-none-any.whl.metadata (4.2 kB)\n",
            "Requirement already satisfied: MarkupSafe>=2.0 in /usr/local/lib/python3.10/dist-packages (from jinja2->torch==2.0.1->sinlingua) (2.1.5)\n",
            "Requirement already satisfied: click in /usr/local/lib/python3.10/dist-packages (from nltk->sinling==0.3.6->sinlingua) (8.1.7)\n",
            "Collecting python-crfsuite>=0.9.7 (from sklearn-crfsuite->sinling==0.3.6->sinlingua)\n",
            "  Downloading python_crfsuite-0.9.10-cp310-cp310-manylinux_2_17_x86_64.manylinux2014_x86_64.whl.metadata (4.2 kB)\n",
            "Collecting tabulate>=0.4.2 (from sklearn-crfsuite->sinling==0.3.6->sinlingua)\n",
            "  Downloading tabulate-0.9.0-py3-none-any.whl.metadata (34 kB)\n",
            "Requirement already satisfied: mpmath<1.4,>=1.1.0 in /usr/local/lib/python3.10/dist-packages (from sympy->torch==2.0.1->sinlingua) (1.3.0)\n",
            "Downloading sinlingua-0.1.8-py3-none-any.whl (226 kB)\n",
            "\u001b[2K   \u001b[90m━━━━━━━━━━━━━━━━━━━━━━━━━━━━━━━━━━━━━━━━\u001b[0m \u001b[32m226.8/226.8 kB\u001b[0m \u001b[31m4.1 MB/s\u001b[0m eta \u001b[36m0:00:00\u001b[0m\n",
            "\u001b[?25hDownloading fuzzywuzzy-0.18.0-py2.py3-none-any.whl (18 kB)\n",
            "Downloading gensim-4.3.1-cp310-cp310-manylinux_2_17_x86_64.manylinux2014_x86_64.whl (26.4 MB)\n",
            "\u001b[2K   \u001b[90m━━━━━━━━━━━━━━━━━━━━━━━━━━━━━━━━━━━━━━━━\u001b[0m \u001b[32m26.4/26.4 MB\u001b[0m \u001b[31m46.8 MB/s\u001b[0m eta \u001b[36m0:00:00\u001b[0m\n",
            "\u001b[?25hDownloading jedi-0.16.0-py2.py3-none-any.whl (1.1 MB)\n",
            "\u001b[2K   \u001b[90m━━━━━━━━━━━━━━━━━━━━━━━━━━━━━━━━━━━━━━━━\u001b[0m \u001b[32m1.1/1.1 MB\u001b[0m \u001b[31m48.4 MB/s\u001b[0m eta \u001b[36m0:00:00\u001b[0m\n",
            "\u001b[?25hDownloading numpy-1.23.0-cp310-cp310-manylinux_2_17_x86_64.manylinux2014_x86_64.whl (17.0 MB)\n",
            "\u001b[2K   \u001b[90m━━━━━━━━━━━━━━━━━━━━━━━━━━━━━━━━━━━━━━━━\u001b[0m \u001b[32m17.0/17.0 MB\u001b[0m \u001b[31m59.5 MB/s\u001b[0m eta \u001b[36m0:00:00\u001b[0m\n",
            "\u001b[?25hDownloading openai-0.27.8-py3-none-any.whl (73 kB)\n",
            "\u001b[2K   \u001b[90m━━━━━━━━━━━━━━━━━━━━━━━━━━━━━━━━━━━━━━━━\u001b[0m \u001b[32m73.6/73.6 kB\u001b[0m \u001b[31m5.2 MB/s\u001b[0m eta \u001b[36m0:00:00\u001b[0m\n",
            "\u001b[?25hDownloading pandas-1.5.3-cp310-cp310-manylinux_2_17_x86_64.manylinux2014_x86_64.whl (12.1 MB)\n",
            "\u001b[2K   \u001b[90m━━━━━━━━━━━━━━━━━━━━━━━━━━━━━━━━━━━━━━━━\u001b[0m \u001b[32m12.1/12.1 MB\u001b[0m \u001b[31m66.0 MB/s\u001b[0m eta \u001b[36m0:00:00\u001b[0m\n",
            "\u001b[?25hDownloading pygtrie-2.5.0-py3-none-any.whl (25 kB)\n",
            "Downloading requests-2.31.0-py3-none-any.whl (62 kB)\n",
            "\u001b[2K   \u001b[90m━━━━━━━━━━━━━━━━━━━━━━━━━━━━━━━━━━━━━━━━\u001b[0m \u001b[32m62.6/62.6 kB\u001b[0m \u001b[31m4.2 MB/s\u001b[0m eta \u001b[36m0:00:00\u001b[0m\n",
            "\u001b[?25hDownloading scikit_learn-1.1.3-cp310-cp310-manylinux_2_17_x86_64.manylinux2014_x86_64.whl (30.5 MB)\n",
            "\u001b[2K   \u001b[90m━━━━━━━━━━━━━━━━━━━━━━━━━━━━━━━━━━━━━━━━\u001b[0m \u001b[32m30.5/30.5 MB\u001b[0m \u001b[31m38.0 MB/s\u001b[0m eta \u001b[36m0:00:00\u001b[0m\n",
            "\u001b[?25hDownloading setuptools-65.5.1-py3-none-any.whl (1.2 MB)\n",
            "\u001b[2K   \u001b[90m━━━━━━━━━━━━━━━━━━━━━━━━━━━━━━━━━━━━━━━━\u001b[0m \u001b[32m1.2/1.2 MB\u001b[0m \u001b[31m8.7 MB/s\u001b[0m eta \u001b[36m0:00:00\u001b[0m\n",
            "\u001b[?25hDownloading sinling-0.3.6-py3-none-any.whl (20.0 MB)\n",
            "\u001b[2K   \u001b[90m━━━━━━━━━━━━━━━━━━━━━━━━━━━━━━━━━━━━━━━━\u001b[0m \u001b[32m20.0/20.0 MB\u001b[0m \u001b[31m60.0 MB/s\u001b[0m eta \u001b[36m0:00:00\u001b[0m\n",
            "\u001b[?25hDownloading SpeechRecognition-3.10.0-py2.py3-none-any.whl (32.8 MB)\n",
            "\u001b[2K   \u001b[90m━━━━━━━━━━━━━━━━━━━━━━━━━━━━━━━━━━━━━━━━\u001b[0m \u001b[32m32.8/32.8 MB\u001b[0m \u001b[31m37.3 MB/s\u001b[0m eta \u001b[36m0:00:00\u001b[0m\n",
            "\u001b[?25hDownloading torch-2.0.1-cp310-cp310-manylinux1_x86_64.whl (619.9 MB)\n",
            "\u001b[2K   \u001b[90m━━━━━━━━━━━━━━━━━━━━━━━━━━━━━━━━━━━━━━━━\u001b[0m \u001b[32m619.9/619.9 MB\u001b[0m \u001b[31m1.6 MB/s\u001b[0m eta \u001b[36m0:00:00\u001b[0m\n",
            "\u001b[?25hDownloading transformers-4.32.0-py3-none-any.whl (7.5 MB)\n",
            "\u001b[2K   \u001b[90m━━━━━━━━━━━━━━━━━━━━━━━━━━━━━━━━━━━━━━━━\u001b[0m \u001b[32m7.5/7.5 MB\u001b[0m \u001b[31m45.1 MB/s\u001b[0m eta \u001b[36m0:00:00\u001b[0m\n",
            "\u001b[?25hDownloading httpx-0.13.3-py3-none-any.whl (55 kB)\n",
            "\u001b[2K   \u001b[90m━━━━━━━━━━━━━━━━━━━━━━━━━━━━━━━━━━━━━━━━\u001b[0m \u001b[32m55.1/55.1 kB\u001b[0m \u001b[31m3.8 MB/s\u001b[0m eta \u001b[36m0:00:00\u001b[0m\n",
            "\u001b[?25hDownloading idna-2.10-py2.py3-none-any.whl (58 kB)\n",
            "\u001b[2K   \u001b[90m━━━━━━━━━━━━━━━━━━━━━━━━━━━━━━━━━━━━━━━━\u001b[0m \u001b[32m58.8/58.8 kB\u001b[0m \u001b[31m4.5 MB/s\u001b[0m eta \u001b[36m0:00:00\u001b[0m\n",
            "\u001b[?25hDownloading nvidia_cublas_cu11-11.10.3.66-py3-none-manylinux1_x86_64.whl (317.1 MB)\n",
            "\u001b[2K   \u001b[90m━━━━━━━━━━━━━━━━━━━━━━━━━━━━━━━━━━━━━━━━\u001b[0m \u001b[32m317.1/317.1 MB\u001b[0m \u001b[31m3.1 MB/s\u001b[0m eta \u001b[36m0:00:00\u001b[0m\n",
            "\u001b[?25hDownloading nvidia_cuda_cupti_cu11-11.7.101-py3-none-manylinux1_x86_64.whl (11.8 MB)\n",
            "\u001b[2K   \u001b[90m━━━━━━━━━━━━━━━━━━━━━━━━━━━━━━━━━━━━━━━━\u001b[0m \u001b[32m11.8/11.8 MB\u001b[0m \u001b[31m47.2 MB/s\u001b[0m eta \u001b[36m0:00:00\u001b[0m\n",
            "\u001b[?25hDownloading nvidia_cuda_nvrtc_cu11-11.7.99-2-py3-none-manylinux1_x86_64.whl (21.0 MB)\n",
            "\u001b[2K   \u001b[90m━━━━━━━━━━━━━━━━━━━━━━━━━━━━━━━━━━━━━━━━\u001b[0m \u001b[32m21.0/21.0 MB\u001b[0m \u001b[31m44.0 MB/s\u001b[0m eta \u001b[36m0:00:00\u001b[0m\n",
            "\u001b[?25hDownloading nvidia_cuda_runtime_cu11-11.7.99-py3-none-manylinux1_x86_64.whl (849 kB)\n",
            "\u001b[2K   \u001b[90m━━━━━━━━━━━━━━━━━━━━━━━━━━━━━━━━━━━━━━━━\u001b[0m \u001b[32m849.3/849.3 kB\u001b[0m \u001b[31m30.6 MB/s\u001b[0m eta \u001b[36m0:00:00\u001b[0m\n",
            "\u001b[?25hDownloading nvidia_cudnn_cu11-8.5.0.96-2-py3-none-manylinux1_x86_64.whl (557.1 MB)\n",
            "\u001b[2K   \u001b[90m━━━━━━━━━━━━━━━━━━━━━━━━━━━━━━━━━━━━━━━━\u001b[0m \u001b[32m557.1/557.1 MB\u001b[0m \u001b[31m825.4 kB/s\u001b[0m eta \u001b[36m0:00:00\u001b[0m\n",
            "\u001b[?25hDownloading nvidia_cufft_cu11-10.9.0.58-py3-none-manylinux2014_x86_64.whl (168.4 MB)\n",
            "\u001b[2K   \u001b[90m━━━━━━━━━━━━━━━━━━━━━━━━━━━━━━━━━━━━━━━━\u001b[0m \u001b[32m168.4/168.4 MB\u001b[0m \u001b[31m6.0 MB/s\u001b[0m eta \u001b[36m0:00:00\u001b[0m\n",
            "\u001b[?25hDownloading nvidia_curand_cu11-10.2.10.91-py3-none-manylinux1_x86_64.whl (54.6 MB)\n",
            "\u001b[2K   \u001b[90m━━━━━━━━━━━━━━━━━━━━━━━━━━━━━━━━━━━━━━━━\u001b[0m \u001b[32m54.6/54.6 MB\u001b[0m \u001b[31m3.7 MB/s\u001b[0m eta \u001b[36m0:00:00\u001b[0m\n",
            "\u001b[?25hDownloading nvidia_cusolver_cu11-11.4.0.1-2-py3-none-manylinux1_x86_64.whl (102.6 MB)\n",
            "\u001b[2K   \u001b[90m━━━━━━━━━━━━━━━━━━━━━━━━━━━━━━━━━━━━━━━━\u001b[0m \u001b[32m102.6/102.6 MB\u001b[0m \u001b[31m2.2 MB/s\u001b[0m eta \u001b[36m0:00:00\u001b[0m\n",
            "\u001b[?25hDownloading nvidia_cusparse_cu11-11.7.4.91-py3-none-manylinux1_x86_64.whl (173.2 MB)\n",
            "\u001b[2K   \u001b[90m━━━━━━━━━━━━━━━━━━━━━━━━━━━━━━━━━━━━━━━━\u001b[0m \u001b[32m173.2/173.2 MB\u001b[0m \u001b[31m5.8 MB/s\u001b[0m eta \u001b[36m0:00:00\u001b[0m\n",
            "\u001b[?25hDownloading nvidia_nccl_cu11-2.14.3-py3-none-manylinux1_x86_64.whl (177.1 MB)\n",
            "\u001b[2K   \u001b[90m━━━━━━━━━━━━━━━━━━━━━━━━━━━━━━━━━━━━━━━━\u001b[0m \u001b[32m177.1/177.1 MB\u001b[0m \u001b[31m5.8 MB/s\u001b[0m eta \u001b[36m0:00:00\u001b[0m\n",
            "\u001b[?25hDownloading nvidia_nvtx_cu11-11.7.91-py3-none-manylinux1_x86_64.whl (98 kB)\n",
            "\u001b[2K   \u001b[90m━━━━━━━━━━━━━━━━━━━━━━━━━━━━━━━━━━━━━━━━\u001b[0m \u001b[32m98.6/98.6 kB\u001b[0m \u001b[31m7.2 MB/s\u001b[0m eta \u001b[36m0:00:00\u001b[0m\n",
            "\u001b[?25hDownloading triton-2.0.0-1-cp310-cp310-manylinux2014_x86_64.manylinux_2_17_x86_64.whl (63.3 MB)\n",
            "\u001b[2K   \u001b[90m━━━━━━━━━━━━━━━━━━━━━━━━━━━━━━━━━━━━━━━━\u001b[0m \u001b[32m63.3/63.3 MB\u001b[0m \u001b[31m17.3 MB/s\u001b[0m eta \u001b[36m0:00:00\u001b[0m\n",
            "\u001b[?25hDownloading chardet-3.0.4-py2.py3-none-any.whl (133 kB)\n",
            "\u001b[2K   \u001b[90m━━━━━━━━━━━━━━━━━━━━━━━━━━━━━━━━━━━━━━━━\u001b[0m \u001b[32m133.4/133.4 kB\u001b[0m \u001b[31m8.0 MB/s\u001b[0m eta \u001b[36m0:00:00\u001b[0m\n",
            "\u001b[?25hDownloading httpcore-0.9.1-py3-none-any.whl (42 kB)\n",
            "\u001b[2K   \u001b[90m━━━━━━━━━━━━━━━━━━━━━━━━━━━━━━━━━━━━━━━━\u001b[0m \u001b[32m42.6/42.6 kB\u001b[0m \u001b[31m3.0 MB/s\u001b[0m eta \u001b[36m0:00:00\u001b[0m\n",
            "\u001b[?25hDownloading h2-3.2.0-py2.py3-none-any.whl (65 kB)\n",
            "\u001b[2K   \u001b[90m━━━━━━━━━━━━━━━━━━━━━━━━━━━━━━━━━━━━━━━━\u001b[0m \u001b[32m65.0/65.0 kB\u001b[0m \u001b[31m4.5 MB/s\u001b[0m eta \u001b[36m0:00:00\u001b[0m\n",
            "\u001b[?25hDownloading tokenizers-0.13.3-cp310-cp310-manylinux_2_17_x86_64.manylinux2014_x86_64.whl (7.8 MB)\n",
            "\u001b[2K   \u001b[90m━━━━━━━━━━━━━━━━━━━━━━━━━━━━━━━━━━━━━━━━\u001b[0m \u001b[32m7.8/7.8 MB\u001b[0m \u001b[31m73.7 MB/s\u001b[0m eta \u001b[36m0:00:00\u001b[0m\n",
            "\u001b[?25hDownloading aiohttp-3.10.4-cp310-cp310-manylinux_2_17_x86_64.manylinux2014_x86_64.whl (1.2 MB)\n",
            "\u001b[2K   \u001b[90m━━━━━━━━━━━━━━━━━━━━━━━━━━━━━━━━━━━━━━━━\u001b[0m \u001b[32m1.2/1.2 MB\u001b[0m \u001b[31m48.9 MB/s\u001b[0m eta \u001b[36m0:00:00\u001b[0m\n",
            "\u001b[?25hDownloading emoji-2.12.1-py3-none-any.whl (431 kB)\n",
            "\u001b[2K   \u001b[90m━━━━━━━━━━━━━━━━━━━━━━━━━━━━━━━━━━━━━━━━\u001b[0m \u001b[32m431.4/431.4 kB\u001b[0m \u001b[31m25.4 MB/s\u001b[0m eta \u001b[36m0:00:00\u001b[0m\n",
            "\u001b[?25hDownloading sklearn_crfsuite-0.5.0-py2.py3-none-any.whl (10 kB)\n",
            "Downloading aiohappyeyeballs-2.3.7-py3-none-any.whl (12 kB)\n",
            "Downloading aiosignal-1.3.1-py3-none-any.whl (7.6 kB)\n",
            "Downloading async_timeout-4.0.3-py3-none-any.whl (5.7 kB)\n",
            "Downloading frozenlist-1.4.1-cp310-cp310-manylinux_2_5_x86_64.manylinux1_x86_64.manylinux_2_17_x86_64.manylinux2014_x86_64.whl (239 kB)\n",
            "\u001b[2K   \u001b[90m━━━━━━━━━━━━━━━━━━━━━━━━━━━━━━━━━━━━━━━━\u001b[0m \u001b[32m239.5/239.5 kB\u001b[0m \u001b[31m15.0 MB/s\u001b[0m eta \u001b[36m0:00:00\u001b[0m\n",
            "\u001b[?25hDownloading multidict-6.0.5-cp310-cp310-manylinux_2_17_x86_64.manylinux2014_x86_64.whl (124 kB)\n",
            "\u001b[2K   \u001b[90m━━━━━━━━━━━━━━━━━━━━━━━━━━━━━━━━━━━━━━━━\u001b[0m \u001b[32m124.3/124.3 kB\u001b[0m \u001b[31m7.8 MB/s\u001b[0m eta \u001b[36m0:00:00\u001b[0m\n",
            "\u001b[?25hDownloading python_crfsuite-0.9.10-cp310-cp310-manylinux_2_17_x86_64.manylinux2014_x86_64.whl (1.1 MB)\n",
            "\u001b[2K   \u001b[90m━━━━━━━━━━━━━━━━━━━━━━━━━━━━━━━━━━━━━━━━\u001b[0m \u001b[32m1.1/1.1 MB\u001b[0m \u001b[31m23.1 MB/s\u001b[0m eta \u001b[36m0:00:00\u001b[0m\n",
            "\u001b[?25hDownloading rfc3986-1.5.0-py2.py3-none-any.whl (31 kB)\n",
            "Downloading tabulate-0.9.0-py3-none-any.whl (35 kB)\n",
            "Downloading yarl-1.9.4-cp310-cp310-manylinux_2_17_x86_64.manylinux2014_x86_64.whl (301 kB)\n",
            "\u001b[2K   \u001b[90m━━━━━━━━━━━━━━━━━━━━━━━━━━━━━━━━━━━━━━━━\u001b[0m \u001b[32m301.6/301.6 kB\u001b[0m \u001b[31m20.5 MB/s\u001b[0m eta \u001b[36m0:00:00\u001b[0m\n",
            "\u001b[?25hDownloading cmake-3.30.2-py3-none-manylinux_2_17_x86_64.manylinux2014_x86_64.whl (26.9 MB)\n",
            "\u001b[2K   \u001b[90m━━━━━━━━━━━━━━━━━━━━━━━━━━━━━━━━━━━━━━━━\u001b[0m \u001b[32m26.9/26.9 MB\u001b[0m \u001b[31m47.2 MB/s\u001b[0m eta \u001b[36m0:00:00\u001b[0m\n",
            "\u001b[?25hDownloading hstspreload-2024.8.1-py3-none-any.whl (1.2 MB)\n",
            "\u001b[2K   \u001b[90m━━━━━━━━━━━━━━━━━━━━━━━━━━━━━━━━━━━━━━━━\u001b[0m \u001b[32m1.2/1.2 MB\u001b[0m \u001b[31m53.6 MB/s\u001b[0m eta \u001b[36m0:00:00\u001b[0m\n",
            "\u001b[?25hDownloading lit-18.1.8-py3-none-any.whl (96 kB)\n",
            "\u001b[2K   \u001b[90m━━━━━━━━━━━━━━━━━━━━━━━━━━━━━━━━━━━━━━━━\u001b[0m \u001b[32m96.4/96.4 kB\u001b[0m \u001b[31m6.9 MB/s\u001b[0m eta \u001b[36m0:00:00\u001b[0m\n",
            "\u001b[?25hDownloading h11-0.9.0-py2.py3-none-any.whl (53 kB)\n",
            "\u001b[2K   \u001b[90m━━━━━━━━━━━━━━━━━━━━━━━━━━━━━━━━━━━━━━━━\u001b[0m \u001b[32m53.6/53.6 kB\u001b[0m \u001b[31m3.4 MB/s\u001b[0m eta \u001b[36m0:00:00\u001b[0m\n",
            "\u001b[?25hDownloading hpack-3.0.0-py2.py3-none-any.whl (38 kB)\n",
            "Downloading hyperframe-5.2.0-py2.py3-none-any.whl (12 kB)\n",
            "Building wheels for collected packages: googletrans\n",
            "  Building wheel for googletrans (setup.py) ... \u001b[?25l\u001b[?25hdone\n",
            "  Created wheel for googletrans: filename=googletrans-4.0.0rc1-py3-none-any.whl size=17397 sha256=cf0327f366c321cc7920476d830e2197ef0a7ab57a5170d1ea3933fc0e6b2627\n",
            "  Stored in directory: /root/.cache/pip/wheels/c0/59/9f/7372f0cf70160fe61b528532e1a7c8498c4becd6bcffb022de\n",
            "Successfully built googletrans\n",
            "Installing collected packages: tokenizers, rfc3986, python-crfsuite, pygtrie, lit, hyperframe, hpack, h11, fuzzywuzzy, chardet, tabulate, setuptools, nvidia-nccl-cu11, nvidia-cufft-cu11, nvidia-cuda-nvrtc-cu11, numpy, multidict, jedi, idna, hstspreload, h2, frozenlist, emoji, cmake, async-timeout, aiohappyeyeballs, yarl, Requests, pandas, nvidia-nvtx-cu11, nvidia-cusparse-cu11, nvidia-curand-cu11, nvidia-cuda-runtime-cu11, nvidia-cuda-cupti-cu11, nvidia-cublas-cu11, httpcore, aiosignal, SpeechRecognition, scikit-learn, nvidia-cusolver-cu11, nvidia-cudnn-cu11, httpx, gensim, aiohttp, transformers, sklearn-crfsuite, openai, googletrans, sinling, triton, torch, sinlingua\n",
            "  Attempting uninstall: tokenizers\n",
            "    Found existing installation: tokenizers 0.19.1\n",
            "    Uninstalling tokenizers-0.19.1:\n",
            "      Successfully uninstalled tokenizers-0.19.1\n",
            "  Attempting uninstall: setuptools\n",
            "    Found existing installation: setuptools 71.0.4\n",
            "    Uninstalling setuptools-71.0.4:\n",
            "      Successfully uninstalled setuptools-71.0.4\n",
            "  Attempting uninstall: numpy\n",
            "    Found existing installation: numpy 1.26.4\n",
            "    Uninstalling numpy-1.26.4:\n",
            "      Successfully uninstalled numpy-1.26.4\n",
            "  Attempting uninstall: idna\n",
            "    Found existing installation: idna 3.7\n",
            "    Uninstalling idna-3.7:\n",
            "      Successfully uninstalled idna-3.7\n",
            "  Attempting uninstall: Requests\n",
            "    Found existing installation: requests 2.32.3\n",
            "    Uninstalling requests-2.32.3:\n",
            "      Successfully uninstalled requests-2.32.3\n",
            "  Attempting uninstall: pandas\n",
            "    Found existing installation: pandas 2.1.4\n",
            "    Uninstalling pandas-2.1.4:\n",
            "      Successfully uninstalled pandas-2.1.4\n",
            "  Attempting uninstall: scikit-learn\n",
            "    Found existing installation: scikit-learn 1.3.2\n",
            "    Uninstalling scikit-learn-1.3.2:\n",
            "      Successfully uninstalled scikit-learn-1.3.2\n",
            "  Attempting uninstall: gensim\n",
            "    Found existing installation: gensim 4.3.3\n",
            "    Uninstalling gensim-4.3.3:\n",
            "      Successfully uninstalled gensim-4.3.3\n",
            "  Attempting uninstall: transformers\n",
            "    Found existing installation: transformers 4.42.4\n",
            "    Uninstalling transformers-4.42.4:\n",
            "      Successfully uninstalled transformers-4.42.4\n",
            "  Attempting uninstall: torch\n",
            "    Found existing installation: torch 2.3.0+cpu\n",
            "    Uninstalling torch-2.3.0+cpu:\n",
            "      Successfully uninstalled torch-2.3.0+cpu\n",
            "\u001b[31mERROR: pip's dependency resolver does not currently take into account all the packages that are installed. This behaviour is the source of the following dependency conflicts.\n",
            "chex 0.1.86 requires numpy>=1.24.1, but you have numpy 1.23.0 which is incompatible.\n",
            "google-colab 1.0.0 requires pandas==2.1.4, but you have pandas 1.5.3 which is incompatible.\n",
            "google-colab 1.0.0 requires requests==2.32.3, but you have requests 2.31.0 which is incompatible.\n",
            "pandas-stubs 2.1.4.231227 requires numpy>=1.26.0; python_version < \"3.13\", but you have numpy 1.23.0 which is incompatible.\n",
            "tensorflow 2.15.0 requires numpy<2.0.0,>=1.23.5, but you have numpy 1.23.0 which is incompatible.\n",
            "torchaudio 2.3.0+cpu requires torch==2.3.0, but you have torch 2.0.1 which is incompatible.\n",
            "torchtext 0.18.0 requires torch>=2.3.0, but you have torch 2.0.1 which is incompatible.\n",
            "torchvision 0.18.0+cpu requires torch==2.3.0, but you have torch 2.0.1 which is incompatible.\u001b[0m\u001b[31m\n",
            "\u001b[0mSuccessfully installed Requests-2.31.0 SpeechRecognition-3.10.0 aiohappyeyeballs-2.3.7 aiohttp-3.10.4 aiosignal-1.3.1 async-timeout-4.0.3 chardet-3.0.4 cmake-3.30.2 emoji-2.12.1 frozenlist-1.4.1 fuzzywuzzy-0.18.0 gensim-4.3.1 googletrans-4.0.0rc1 h11-0.9.0 h2-3.2.0 hpack-3.0.0 hstspreload-2024.8.1 httpcore-0.9.1 httpx-0.13.3 hyperframe-5.2.0 idna-2.10 jedi-0.16.0 lit-18.1.8 multidict-6.0.5 numpy-1.23.0 nvidia-cublas-cu11-11.10.3.66 nvidia-cuda-cupti-cu11-11.7.101 nvidia-cuda-nvrtc-cu11-11.7.99 nvidia-cuda-runtime-cu11-11.7.99 nvidia-cudnn-cu11-8.5.0.96 nvidia-cufft-cu11-10.9.0.58 nvidia-curand-cu11-10.2.10.91 nvidia-cusolver-cu11-11.4.0.1 nvidia-cusparse-cu11-11.7.4.91 nvidia-nccl-cu11-2.14.3 nvidia-nvtx-cu11-11.7.91 openai-0.27.8 pandas-1.5.3 pygtrie-2.5.0 python-crfsuite-0.9.10 rfc3986-1.5.0 scikit-learn-1.1.3 setuptools-65.5.1 sinling-0.3.6 sinlingua-0.1.8 sklearn-crfsuite-0.5.0 tabulate-0.9.0 tokenizers-0.13.3 torch-2.0.1 transformers-4.32.0 triton-2.0.0 yarl-1.9.4\n"
          ]
        },
        {
          "output_type": "display_data",
          "data": {
            "application/vnd.colab-display-data+json": {
              "pip_warning": {
                "packages": [
                  "_distutils_hack",
                  "numpy",
                  "pandas",
                  "pkg_resources",
                  "setuptools",
                  "sklearn",
                  "torch",
                  "torchgen"
                ]
              },
              "id": "4cfa314a7d194c6c97081f627fc1ba18"
            }
          },
          "metadata": {}
        }
      ]
    },
    {
      "cell_type": "markdown",
      "source": [
        "# Stopwords removing"
      ],
      "metadata": {
        "id": "Z1DlKeaGujT9"
      }
    },
    {
      "cell_type": "code",
      "source": [
        "from sinlingua.preprocessor.stopword_remover import StopWordRemover\n",
        "stopword_remover = StopWordRemover()\n"
      ],
      "metadata": {
        "id": "kV65Zf9JtSsx"
      },
      "execution_count": null,
      "outputs": []
    },
    {
      "cell_type": "code",
      "source": [
        "trainDF['text_new'] = trainDF['text'].apply(lambda x: stopword_remover.remove_stop_words(x))\n",
        "\n",
        "trainDF.head()"
      ],
      "metadata": {
        "colab": {
          "base_uri": "https://localhost:8080/",
          "height": 313
        },
        "id": "5qIe5SYGu3bZ",
        "outputId": "3697624e-1a24-49dc-f9be-480fed531974"
      },
      "execution_count": null,
      "outputs": [
        {
          "output_type": "execute_result",
          "data": {
            "text/plain": [
              "                                         video_title  \\\n",
              "0  නොලැබීමට පරල වූ සෞඛ්‍ය වෘත්තීය සමිති...  \"ඒ කා...   \n",
              "1  නොලැබීමට පරල වූ සෞඛ්‍ය වෘත්තීය සමිති...  \"ඒ කා...   \n",
              "2  හින්දු බැතිමතුන් ජයටම තෛපොංගල් සමරයි... ජාතික ...   \n",
              "3  හින්දු බැතිමතුන් ජයටම තෛපොංගල් සමරයි... ජාතික ...   \n",
              "4  උතුම් බුදු දහමට එරෙහි බලවේග ගැන මහානායක හිමිවර...   \n",
              "\n",
              "                                                text     Label         Domain  \\\n",
              "0  කාලකන්නි වෙිසිගෙ පුතාල හෙනමයි තොපිට වදින්නෙ ත...  Negative  Non political   \n",
              "1  ඉල්ලුමට සැපයුම අනුව පඩි හැදෙන්නෙ, නැතුව ත්‍රස්...  Negative  Non political   \n",
              "2  ඊලග  තයිපෝන්ගල්    උත්සවය  උපරිමයෙන්   සාර්ථක ...  Positive      Political   \n",
              "3  තයිපෝන්ගල්    උත්සවය සාර්ථක වේවා sjb නායක තුමා...  Positive      Political   \n",
              "4  මේ රටේ මහා සංඝරත්නයට සමගියෙන් ඉන්න බැරි උනාම ඔ...   Neutral  Non political   \n",
              "\n",
              "    About                                           text_new  \n",
              "0     NaN  කාලකන්නි වෙිසිගෙ පුතාල හෙනමයි තොපිට වදින්නෙ ත...  \n",
              "1     NaN  ඉල්ලුමට සැපයුම පඩි හැදෙන්නෙ, නැතුව ත්‍රස්ථවාදී...  \n",
              "2  Sajith  ඊලග තයිපෝන්ගල් උත්සවය උපරිමයෙන් සාර්ථක කරන්න අ...  \n",
              "3  Sajith  තයිපෝන්ගල් උත්සවය සාර්ථක වේවා sjb නායක තුමා සජිත්  \n",
              "4     NaN  රටේ සංඝරත්නයට සමගියෙන් ඉන්න බැරි උනාම ඔහොම තමය...  "
            ],
            "text/html": [
              "\n",
              "  <div id=\"df-bb804d5a-4e9d-4682-90dd-370441f5facb\" class=\"colab-df-container\">\n",
              "    <div>\n",
              "<style scoped>\n",
              "    .dataframe tbody tr th:only-of-type {\n",
              "        vertical-align: middle;\n",
              "    }\n",
              "\n",
              "    .dataframe tbody tr th {\n",
              "        vertical-align: top;\n",
              "    }\n",
              "\n",
              "    .dataframe thead th {\n",
              "        text-align: right;\n",
              "    }\n",
              "</style>\n",
              "<table border=\"1\" class=\"dataframe\">\n",
              "  <thead>\n",
              "    <tr style=\"text-align: right;\">\n",
              "      <th></th>\n",
              "      <th>video_title</th>\n",
              "      <th>text</th>\n",
              "      <th>Label</th>\n",
              "      <th>Domain</th>\n",
              "      <th>About</th>\n",
              "      <th>text_new</th>\n",
              "    </tr>\n",
              "  </thead>\n",
              "  <tbody>\n",
              "    <tr>\n",
              "      <th>0</th>\n",
              "      <td>නොලැබීමට පරල වූ සෞඛ්‍ය වෘත්තීය සමිති...  \"ඒ කා...</td>\n",
              "      <td>කාලකන්නි වෙිසිගෙ පුතාල හෙනමයි තොපිට වදින්නෙ ත...</td>\n",
              "      <td>Negative</td>\n",
              "      <td>Non political</td>\n",
              "      <td>NaN</td>\n",
              "      <td>කාලකන්නි වෙිසිගෙ පුතාල හෙනමයි තොපිට වදින්නෙ ත...</td>\n",
              "    </tr>\n",
              "    <tr>\n",
              "      <th>1</th>\n",
              "      <td>නොලැබීමට පරල වූ සෞඛ්‍ය වෘත්තීය සමිති...  \"ඒ කා...</td>\n",
              "      <td>ඉල්ලුමට සැපයුම අනුව පඩි හැදෙන්නෙ, නැතුව ත්‍රස්...</td>\n",
              "      <td>Negative</td>\n",
              "      <td>Non political</td>\n",
              "      <td>NaN</td>\n",
              "      <td>ඉල්ලුමට සැපයුම පඩි හැදෙන්නෙ, නැතුව ත්‍රස්ථවාදී...</td>\n",
              "    </tr>\n",
              "    <tr>\n",
              "      <th>2</th>\n",
              "      <td>හින්දු බැතිමතුන් ජයටම තෛපොංගල් සමරයි... ජාතික ...</td>\n",
              "      <td>ඊලග  තයිපෝන්ගල්    උත්සවය  උපරිමයෙන්   සාර්ථක ...</td>\n",
              "      <td>Positive</td>\n",
              "      <td>Political</td>\n",
              "      <td>Sajith</td>\n",
              "      <td>ඊලග තයිපෝන්ගල් උත්සවය උපරිමයෙන් සාර්ථක කරන්න අ...</td>\n",
              "    </tr>\n",
              "    <tr>\n",
              "      <th>3</th>\n",
              "      <td>හින්දු බැතිමතුන් ජයටම තෛපොංගල් සමරයි... ජාතික ...</td>\n",
              "      <td>තයිපෝන්ගල්    උත්සවය සාර්ථක වේවා sjb නායක තුමා...</td>\n",
              "      <td>Positive</td>\n",
              "      <td>Political</td>\n",
              "      <td>Sajith</td>\n",
              "      <td>තයිපෝන්ගල් උත්සවය සාර්ථක වේවා sjb නායක තුමා සජිත්</td>\n",
              "    </tr>\n",
              "    <tr>\n",
              "      <th>4</th>\n",
              "      <td>උතුම් බුදු දහමට එරෙහි බලවේග ගැන මහානායක හිමිවර...</td>\n",
              "      <td>මේ රටේ මහා සංඝරත්නයට සමගියෙන් ඉන්න බැරි උනාම ඔ...</td>\n",
              "      <td>Neutral</td>\n",
              "      <td>Non political</td>\n",
              "      <td>NaN</td>\n",
              "      <td>රටේ සංඝරත්නයට සමගියෙන් ඉන්න බැරි උනාම ඔහොම තමය...</td>\n",
              "    </tr>\n",
              "  </tbody>\n",
              "</table>\n",
              "</div>\n",
              "    <div class=\"colab-df-buttons\">\n",
              "\n",
              "  <div class=\"colab-df-container\">\n",
              "    <button class=\"colab-df-convert\" onclick=\"convertToInteractive('df-bb804d5a-4e9d-4682-90dd-370441f5facb')\"\n",
              "            title=\"Convert this dataframe to an interactive table.\"\n",
              "            style=\"display:none;\">\n",
              "\n",
              "  <svg xmlns=\"http://www.w3.org/2000/svg\" height=\"24px\" viewBox=\"0 -960 960 960\">\n",
              "    <path d=\"M120-120v-720h720v720H120Zm60-500h600v-160H180v160Zm220 220h160v-160H400v160Zm0 220h160v-160H400v160ZM180-400h160v-160H180v160Zm440 0h160v-160H620v160ZM180-180h160v-160H180v160Zm440 0h160v-160H620v160Z\"/>\n",
              "  </svg>\n",
              "    </button>\n",
              "\n",
              "  <style>\n",
              "    .colab-df-container {\n",
              "      display:flex;\n",
              "      gap: 12px;\n",
              "    }\n",
              "\n",
              "    .colab-df-convert {\n",
              "      background-color: #E8F0FE;\n",
              "      border: none;\n",
              "      border-radius: 50%;\n",
              "      cursor: pointer;\n",
              "      display: none;\n",
              "      fill: #1967D2;\n",
              "      height: 32px;\n",
              "      padding: 0 0 0 0;\n",
              "      width: 32px;\n",
              "    }\n",
              "\n",
              "    .colab-df-convert:hover {\n",
              "      background-color: #E2EBFA;\n",
              "      box-shadow: 0px 1px 2px rgba(60, 64, 67, 0.3), 0px 1px 3px 1px rgba(60, 64, 67, 0.15);\n",
              "      fill: #174EA6;\n",
              "    }\n",
              "\n",
              "    .colab-df-buttons div {\n",
              "      margin-bottom: 4px;\n",
              "    }\n",
              "\n",
              "    [theme=dark] .colab-df-convert {\n",
              "      background-color: #3B4455;\n",
              "      fill: #D2E3FC;\n",
              "    }\n",
              "\n",
              "    [theme=dark] .colab-df-convert:hover {\n",
              "      background-color: #434B5C;\n",
              "      box-shadow: 0px 1px 3px 1px rgba(0, 0, 0, 0.15);\n",
              "      filter: drop-shadow(0px 1px 2px rgba(0, 0, 0, 0.3));\n",
              "      fill: #FFFFFF;\n",
              "    }\n",
              "  </style>\n",
              "\n",
              "    <script>\n",
              "      const buttonEl =\n",
              "        document.querySelector('#df-bb804d5a-4e9d-4682-90dd-370441f5facb button.colab-df-convert');\n",
              "      buttonEl.style.display =\n",
              "        google.colab.kernel.accessAllowed ? 'block' : 'none';\n",
              "\n",
              "      async function convertToInteractive(key) {\n",
              "        const element = document.querySelector('#df-bb804d5a-4e9d-4682-90dd-370441f5facb');\n",
              "        const dataTable =\n",
              "          await google.colab.kernel.invokeFunction('convertToInteractive',\n",
              "                                                    [key], {});\n",
              "        if (!dataTable) return;\n",
              "\n",
              "        const docLinkHtml = 'Like what you see? Visit the ' +\n",
              "          '<a target=\"_blank\" href=https://colab.research.google.com/notebooks/data_table.ipynb>data table notebook</a>'\n",
              "          + ' to learn more about interactive tables.';\n",
              "        element.innerHTML = '';\n",
              "        dataTable['output_type'] = 'display_data';\n",
              "        await google.colab.output.renderOutput(dataTable, element);\n",
              "        const docLink = document.createElement('div');\n",
              "        docLink.innerHTML = docLinkHtml;\n",
              "        element.appendChild(docLink);\n",
              "      }\n",
              "    </script>\n",
              "  </div>\n",
              "\n",
              "\n",
              "<div id=\"df-c6e6b539-205f-4f67-8529-9ce6147e52cc\">\n",
              "  <button class=\"colab-df-quickchart\" onclick=\"quickchart('df-c6e6b539-205f-4f67-8529-9ce6147e52cc')\"\n",
              "            title=\"Suggest charts\"\n",
              "            style=\"display:none;\">\n",
              "\n",
              "<svg xmlns=\"http://www.w3.org/2000/svg\" height=\"24px\"viewBox=\"0 0 24 24\"\n",
              "     width=\"24px\">\n",
              "    <g>\n",
              "        <path d=\"M19 3H5c-1.1 0-2 .9-2 2v14c0 1.1.9 2 2 2h14c1.1 0 2-.9 2-2V5c0-1.1-.9-2-2-2zM9 17H7v-7h2v7zm4 0h-2V7h2v10zm4 0h-2v-4h2v4z\"/>\n",
              "    </g>\n",
              "</svg>\n",
              "  </button>\n",
              "\n",
              "<style>\n",
              "  .colab-df-quickchart {\n",
              "      --bg-color: #E8F0FE;\n",
              "      --fill-color: #1967D2;\n",
              "      --hover-bg-color: #E2EBFA;\n",
              "      --hover-fill-color: #174EA6;\n",
              "      --disabled-fill-color: #AAA;\n",
              "      --disabled-bg-color: #DDD;\n",
              "  }\n",
              "\n",
              "  [theme=dark] .colab-df-quickchart {\n",
              "      --bg-color: #3B4455;\n",
              "      --fill-color: #D2E3FC;\n",
              "      --hover-bg-color: #434B5C;\n",
              "      --hover-fill-color: #FFFFFF;\n",
              "      --disabled-bg-color: #3B4455;\n",
              "      --disabled-fill-color: #666;\n",
              "  }\n",
              "\n",
              "  .colab-df-quickchart {\n",
              "    background-color: var(--bg-color);\n",
              "    border: none;\n",
              "    border-radius: 50%;\n",
              "    cursor: pointer;\n",
              "    display: none;\n",
              "    fill: var(--fill-color);\n",
              "    height: 32px;\n",
              "    padding: 0;\n",
              "    width: 32px;\n",
              "  }\n",
              "\n",
              "  .colab-df-quickchart:hover {\n",
              "    background-color: var(--hover-bg-color);\n",
              "    box-shadow: 0 1px 2px rgba(60, 64, 67, 0.3), 0 1px 3px 1px rgba(60, 64, 67, 0.15);\n",
              "    fill: var(--button-hover-fill-color);\n",
              "  }\n",
              "\n",
              "  .colab-df-quickchart-complete:disabled,\n",
              "  .colab-df-quickchart-complete:disabled:hover {\n",
              "    background-color: var(--disabled-bg-color);\n",
              "    fill: var(--disabled-fill-color);\n",
              "    box-shadow: none;\n",
              "  }\n",
              "\n",
              "  .colab-df-spinner {\n",
              "    border: 2px solid var(--fill-color);\n",
              "    border-color: transparent;\n",
              "    border-bottom-color: var(--fill-color);\n",
              "    animation:\n",
              "      spin 1s steps(1) infinite;\n",
              "  }\n",
              "\n",
              "  @keyframes spin {\n",
              "    0% {\n",
              "      border-color: transparent;\n",
              "      border-bottom-color: var(--fill-color);\n",
              "      border-left-color: var(--fill-color);\n",
              "    }\n",
              "    20% {\n",
              "      border-color: transparent;\n",
              "      border-left-color: var(--fill-color);\n",
              "      border-top-color: var(--fill-color);\n",
              "    }\n",
              "    30% {\n",
              "      border-color: transparent;\n",
              "      border-left-color: var(--fill-color);\n",
              "      border-top-color: var(--fill-color);\n",
              "      border-right-color: var(--fill-color);\n",
              "    }\n",
              "    40% {\n",
              "      border-color: transparent;\n",
              "      border-right-color: var(--fill-color);\n",
              "      border-top-color: var(--fill-color);\n",
              "    }\n",
              "    60% {\n",
              "      border-color: transparent;\n",
              "      border-right-color: var(--fill-color);\n",
              "    }\n",
              "    80% {\n",
              "      border-color: transparent;\n",
              "      border-right-color: var(--fill-color);\n",
              "      border-bottom-color: var(--fill-color);\n",
              "    }\n",
              "    90% {\n",
              "      border-color: transparent;\n",
              "      border-bottom-color: var(--fill-color);\n",
              "    }\n",
              "  }\n",
              "</style>\n",
              "\n",
              "  <script>\n",
              "    async function quickchart(key) {\n",
              "      const quickchartButtonEl =\n",
              "        document.querySelector('#' + key + ' button');\n",
              "      quickchartButtonEl.disabled = true;  // To prevent multiple clicks.\n",
              "      quickchartButtonEl.classList.add('colab-df-spinner');\n",
              "      try {\n",
              "        const charts = await google.colab.kernel.invokeFunction(\n",
              "            'suggestCharts', [key], {});\n",
              "      } catch (error) {\n",
              "        console.error('Error during call to suggestCharts:', error);\n",
              "      }\n",
              "      quickchartButtonEl.classList.remove('colab-df-spinner');\n",
              "      quickchartButtonEl.classList.add('colab-df-quickchart-complete');\n",
              "    }\n",
              "    (() => {\n",
              "      let quickchartButtonEl =\n",
              "        document.querySelector('#df-c6e6b539-205f-4f67-8529-9ce6147e52cc button');\n",
              "      quickchartButtonEl.style.display =\n",
              "        google.colab.kernel.accessAllowed ? 'block' : 'none';\n",
              "    })();\n",
              "  </script>\n",
              "</div>\n",
              "\n",
              "    </div>\n",
              "  </div>\n"
            ],
            "application/vnd.google.colaboratory.intrinsic+json": {
              "type": "dataframe",
              "variable_name": "trainDF",
              "summary": "{\n  \"name\": \"trainDF\",\n  \"rows\": 1739,\n  \"fields\": [\n    {\n      \"column\": \"video_title\",\n      \"properties\": {\n        \"dtype\": \"category\",\n        \"num_unique_values\": 128,\n        \"samples\": [\n          \"Wada Pitiya -  2017.03.28\",\n          \"Wada Pitiya | \\u0dc3\\u0db8\\u0dcf\\u0da2 \\u0db8\\u0dcf\\u0db0\\u0dca\\u200d\\u0dba \\u0db1\\u0dd2\\u0dba\\u0dcf\\u0db8\\u0db1\\u0dba\\u0da7 \\u0db4\\u0db1\\u0dad\\u0d9a\\u0dca \\u0d89\\u0daf\\u0dd2\\u0dbb\\u0dd2\\u0db4\\u0dad\\u0dca\\u0dc0\\u0db1\\u0dca\\u0db1\\u0dda \\u0d87\\u0dba\\u0dd2 ?\",\n          \"\\u0d8b\\u0dc3\\u0dc3\\u0dca \\u0db4\\u0dd9\\u0dc5 \\u0dc0\\u0dd2\\u0db7\\u0dcf\\u0d9c\\u0dba\\u0dda \\u0db4\\u0dc5\\u0db8\\u0dd4 \\u0daf\\u0dd2\\u0db1\\u0dba\\u0dda \\u0dad\\u0dad\\u0dca\\u0dad\\u0dca\\u0dc0\\u0dba...  \\\"\\u0d9a\\u0dbd\\u0dd2\\u0db1\\u0dca \\u0dad\\u0dd2\\u0db6\\u0dca\\u0db6 \\u0db1\\u0db8\\u0dca \\u0dc4\\u0ddc\\u0db3\\u0dba\\u0dd2\\\"\"\n        ],\n        \"semantic_type\": \"\",\n        \"description\": \"\"\n      }\n    },\n    {\n      \"column\": \"text\",\n      \"properties\": {\n        \"dtype\": \"string\",\n        \"num_unique_values\": 1734,\n        \"samples\": [\n          \"\\u0d92\\u0d9a \\u0dad\\u0db8\\u0dba\\u0dd2 \\u0daf\\u0d9a\\u0dd4\\u0dab\\u0dd9 \\u0d8b\\u0db1\\u0dca \\u0d85\\u0da9\\u0dd2 \\u0daf\\u0dd9\\u0d9a \\u0dad\\u0dd4\\u0db1\\u0d9a\\u0dca \\u0d8b\\u0da9\\u0dd2\\u0db1\\u0dca \\u0dba\\u0db1\\u0dca\\u0db1\\u0dd9 eww \\u0dbd\\u0ddc\\u0d9a\\u0dd4 seen \\u0d95\\u0d9a\\u0dd4\\u0db1\\u0dca\\u0d9c\\u0dd9\\ud83d\\ude02\",\n          \"\\u0dbb\\u0dc3 \\u0db4\\u0dbb\\u0dd2\\u0d9a\\u0dca\\u0dc2\\u0d9a \\u0d9c\\u0dcf\\u0dc0\\u0da7 \\u0dba\\u0db1\\u0dca\\u0db1\\u0dd9 \\u0db4\\u0dcf\\u0db1\\u0dca \\u0dbd\\u0dd2\\u0da7\\u0dd2..\\ud83d\\ude01\",\n          \"\\u0d85\\u0db1\\u0dd9 \\u0d8b\\u0d9a\\u0dc4\\u0dbd\\u0dca\\u0dbd\\u0dcf\\ud83e\\udd23\"\n        ],\n        \"semantic_type\": \"\",\n        \"description\": \"\"\n      }\n    },\n    {\n      \"column\": \"Label\",\n      \"properties\": {\n        \"dtype\": \"category\",\n        \"num_unique_values\": 3,\n        \"samples\": [\n          \"Negative\",\n          \"Positive\",\n          \"Neutral\"\n        ],\n        \"semantic_type\": \"\",\n        \"description\": \"\"\n      }\n    },\n    {\n      \"column\": \"Domain\",\n      \"properties\": {\n        \"dtype\": \"category\",\n        \"num_unique_values\": 3,\n        \"samples\": [\n          \"Non political\",\n          \"Political\",\n          \" P\"\n        ],\n        \"semantic_type\": \"\",\n        \"description\": \"\"\n      }\n    },\n    {\n      \"column\": \"About\",\n      \"properties\": {\n        \"dtype\": \"category\",\n        \"num_unique_values\": 7,\n        \"samples\": [\n          \"Sajith\",\n          \"Everyone\",\n          \"Other\"\n        ],\n        \"semantic_type\": \"\",\n        \"description\": \"\"\n      }\n    },\n    {\n      \"column\": \"text_new\",\n      \"properties\": {\n        \"dtype\": \"string\",\n        \"num_unique_values\": 1732,\n        \"samples\": [\n          \"\\u0daf\\u0d9a\\u0dd4\\u0dab\\u0dda \\u0d9c\\u0dd0\\u0db8\\u0dca\\u0db8 \\ud83e\\udd2a\",\n          \"\\u0d94\\u0db6 \\u0dc3\\u0dd0\\u0db8\\u0da7 \\u0db6\\u0dd4\\u0daf\\u0dd4\\u0dc3\\u0dbb\\u0dab\\u0dba\\u0dd2\",\n          \"\\u0dad\\u0dad\\u0dbb\\u0dda\\u0db1\\u0dc0 \\u0db1\\u0dda \\u0dbb\\u0dd0\\u0db4\\u0dd2\\u0dba\\u0dbd\\u0da7 \\u0dc0\\u0dda\\u0dbd\\u0dcf \\u0dad\\u0dd2\\u0dba\\u0db1 \\u0daf\\u0dda\"\n        ],\n        \"semantic_type\": \"\",\n        \"description\": \"\"\n      }\n    }\n  ]\n}"
            }
          },
          "metadata": {},
          "execution_count": 9
        }
      ]
    },
    {
      "cell_type": "code",
      "source": [
        "# split the dataset into training and validation datasets\n",
        "train_x, valid_x, train_y, valid_y = model_selection.train_test_split(trainDF['text_new'], trainDF['Label'])\n",
        "\n",
        "# label encode the target variable\n",
        "encoder = preprocessing.LabelEncoder()\n",
        "train_y = encoder.fit_transform(train_y)\n",
        "valid_y = encoder.fit_transform(valid_y)"
      ],
      "metadata": {
        "id": "FwDBUMroMj45"
      },
      "execution_count": null,
      "outputs": []
    },
    {
      "cell_type": "markdown",
      "source": [
        "# Feature Engineering"
      ],
      "metadata": {
        "id": "zzHx3FWrM7Q0"
      }
    },
    {
      "cell_type": "code",
      "source": [
        "from sklearn.feature_extraction.text import CountVectorizer\n"
      ],
      "metadata": {
        "id": "owdJ0KahNQvf"
      },
      "execution_count": null,
      "outputs": []
    },
    {
      "cell_type": "code",
      "source": [
        "# create a count vectorizer object\n",
        "count_vect = CountVectorizer(analyzer='word', token_pattern=r'\\w{1,}',lowercase=False)\n",
        "count_vect.fit(trainDF['text_new'].apply(' '.join))\n"
      ],
      "metadata": {
        "colab": {
          "base_uri": "https://localhost:8080/",
          "height": 94
        },
        "id": "x8toQp_zM60c",
        "outputId": "b5d856d4-fa5f-4611-986f-67f77599c650"
      },
      "execution_count": null,
      "outputs": [
        {
          "output_type": "execute_result",
          "data": {
            "text/plain": [
              "CountVectorizer(lowercase=False, token_pattern='\\\\w{1,}')"
            ],
            "text/html": [
              "<style>#sk-container-id-3 {color: black;background-color: white;}#sk-container-id-3 pre{padding: 0;}#sk-container-id-3 div.sk-toggleable {background-color: white;}#sk-container-id-3 label.sk-toggleable__label {cursor: pointer;display: block;width: 100%;margin-bottom: 0;padding: 0.3em;box-sizing: border-box;text-align: center;}#sk-container-id-3 label.sk-toggleable__label-arrow:before {content: \"▸\";float: left;margin-right: 0.25em;color: #696969;}#sk-container-id-3 label.sk-toggleable__label-arrow:hover:before {color: black;}#sk-container-id-3 div.sk-estimator:hover label.sk-toggleable__label-arrow:before {color: black;}#sk-container-id-3 div.sk-toggleable__content {max-height: 0;max-width: 0;overflow: hidden;text-align: left;background-color: #f0f8ff;}#sk-container-id-3 div.sk-toggleable__content pre {margin: 0.2em;color: black;border-radius: 0.25em;background-color: #f0f8ff;}#sk-container-id-3 input.sk-toggleable__control:checked~div.sk-toggleable__content {max-height: 200px;max-width: 100%;overflow: auto;}#sk-container-id-3 input.sk-toggleable__control:checked~label.sk-toggleable__label-arrow:before {content: \"▾\";}#sk-container-id-3 div.sk-estimator input.sk-toggleable__control:checked~label.sk-toggleable__label {background-color: #d4ebff;}#sk-container-id-3 div.sk-label input.sk-toggleable__control:checked~label.sk-toggleable__label {background-color: #d4ebff;}#sk-container-id-3 input.sk-hidden--visually {border: 0;clip: rect(1px 1px 1px 1px);clip: rect(1px, 1px, 1px, 1px);height: 1px;margin: -1px;overflow: hidden;padding: 0;position: absolute;width: 1px;}#sk-container-id-3 div.sk-estimator {font-family: monospace;background-color: #f0f8ff;border: 1px dotted black;border-radius: 0.25em;box-sizing: border-box;margin-bottom: 0.5em;}#sk-container-id-3 div.sk-estimator:hover {background-color: #d4ebff;}#sk-container-id-3 div.sk-parallel-item::after {content: \"\";width: 100%;border-bottom: 1px solid gray;flex-grow: 1;}#sk-container-id-3 div.sk-label:hover label.sk-toggleable__label {background-color: #d4ebff;}#sk-container-id-3 div.sk-serial::before {content: \"\";position: absolute;border-left: 1px solid gray;box-sizing: border-box;top: 0;bottom: 0;left: 50%;z-index: 0;}#sk-container-id-3 div.sk-serial {display: flex;flex-direction: column;align-items: center;background-color: white;padding-right: 0.2em;padding-left: 0.2em;position: relative;}#sk-container-id-3 div.sk-item {position: relative;z-index: 1;}#sk-container-id-3 div.sk-parallel {display: flex;align-items: stretch;justify-content: center;background-color: white;position: relative;}#sk-container-id-3 div.sk-item::before, #sk-container-id-3 div.sk-parallel-item::before {content: \"\";position: absolute;border-left: 1px solid gray;box-sizing: border-box;top: 0;bottom: 0;left: 50%;z-index: -1;}#sk-container-id-3 div.sk-parallel-item {display: flex;flex-direction: column;z-index: 1;position: relative;background-color: white;}#sk-container-id-3 div.sk-parallel-item:first-child::after {align-self: flex-end;width: 50%;}#sk-container-id-3 div.sk-parallel-item:last-child::after {align-self: flex-start;width: 50%;}#sk-container-id-3 div.sk-parallel-item:only-child::after {width: 0;}#sk-container-id-3 div.sk-dashed-wrapped {border: 1px dashed gray;margin: 0 0.4em 0.5em 0.4em;box-sizing: border-box;padding-bottom: 0.4em;background-color: white;}#sk-container-id-3 div.sk-label label {font-family: monospace;font-weight: bold;display: inline-block;line-height: 1.2em;}#sk-container-id-3 div.sk-label-container {text-align: center;}#sk-container-id-3 div.sk-container {/* jupyter's `normalize.less` sets `[hidden] { display: none; }` but bootstrap.min.css set `[hidden] { display: none !important; }` so we also need the `!important` here to be able to override the default hidden behavior on the sphinx rendered scikit-learn.org. See: https://github.com/scikit-learn/scikit-learn/issues/21755 */display: inline-block !important;position: relative;}#sk-container-id-3 div.sk-text-repr-fallback {display: none;}</style><div id=\"sk-container-id-3\" class=\"sk-top-container\"><div class=\"sk-text-repr-fallback\"><pre>CountVectorizer(lowercase=False, token_pattern=&#x27;\\\\w{1,}&#x27;)</pre><b>In a Jupyter environment, please rerun this cell to show the HTML representation or trust the notebook. <br />On GitHub, the HTML representation is unable to render, please try loading this page with nbviewer.org.</b></div><div class=\"sk-container\" hidden><div class=\"sk-item\"><div class=\"sk-estimator sk-toggleable\"><input class=\"sk-toggleable__control sk-hidden--visually\" id=\"sk-estimator-id-3\" type=\"checkbox\" checked><label for=\"sk-estimator-id-3\" class=\"sk-toggleable__label sk-toggleable__label-arrow\">CountVectorizer</label><div class=\"sk-toggleable__content\"><pre>CountVectorizer(lowercase=False, token_pattern=&#x27;\\\\w{1,}&#x27;)</pre></div></div></div></div></div>"
            ]
          },
          "metadata": {},
          "execution_count": 30
        }
      ]
    },
    {
      "cell_type": "code",
      "source": [
        "# transform the training and validation data using count vectorizer object\n",
        "xtrain_count =  count_vect.transform(train_x)\n",
        "xvalid_count =  count_vect.transform(valid_x)"
      ],
      "metadata": {
        "id": "qNxasnrDNFob"
      },
      "execution_count": null,
      "outputs": []
    },
    {
      "cell_type": "code",
      "source": [
        "# Printing the identified Unique words along with their indices\n",
        "print(\"Vocabulary: \", count_vect.vocabulary_)\n",
        "\n",
        "# Encode the Document\n",
        "vector = count_vect.transform(trainDF['text_new'])"
      ],
      "metadata": {
        "colab": {
          "base_uri": "https://localhost:8080/"
        },
        "id": "VSXKFVxjNWfI",
        "outputId": "d619ad41-9a11-4316-9eb9-cbe2fce871e2"
      },
      "execution_count": null,
      "outputs": [
        {
          "output_type": "stream",
          "name": "stdout",
          "text": [
            "Vocabulary:  {'ක': 88, 'ල': 116, 'ව': 117, 'ස': 120, 'ප': 108, 'ත': 102, 'හ': 121, 'න': 106, 'ම': 112, 'ද': 104, 'ග': 90, 'ය': 114, 'බ': 110, 'ඉ': 78, 'ඩ': 99, 'ර': 115, 'ථ': 103, 'ඕ': 86, 'අ': 74, 'ඔ': 85, 'ශ': 118, 'ධ': 105, 'D': 13, 'A': 10, 'T': 28, 'B': 11, 'ඊ': 79, 'උ': 80, 'ජ': 95, 'ආ': 75, 'ණ': 100, 's': 52, 'j': 43, 'b': 35, 'ට': 97, 'ඝ': 91, 'ඒ': 84, 'ළ': 122, 'ෂ': 119, 'භ': 111, 'ච': 93, 'ඡ': 94, 'එ': 83, 'ඇ': 76, 'ඛ': 89, 'r': 51, '2': 2, '4': 4, '6': 6, 'ඨ': 98, 'ඹ': 113, 'N': 23, 'G': 16, 'O': 24, 'ඌ': 81, 'E': 14, 'm': 46, 'a': 34, 'i': 42, 'l': 45, 'p': 49, 'h': 41, 'o': 48, 't': 53, 'c': 36, 'y': 58, 'w': 56, 'L': 21, 'n': 47, 'k': 44, 'ඳ': 107, '3': 3, '5': 5, '0': 0, '7': 7, 'ඵ': 109, 'e': 38, 'ඬ': 101, 'd': 37, 'q': 50, 'u': 54, 'I': 18, 'M': 22, 'F': 15, 'v': 55, 'g': 40, '1': 1, 'ෆ': 123, '9': 9, 'K': 20, 'z': 59, 'W': 31, 'U': 29, 'ඟ': 92, 'H': 17, 'V': 30, 'ஒ': 61, 'வ': 73, 'ர': 70, 'ம': 68, 'ற': 71, 'ய': 69, 'ப': 67, 'ட': 63, 'ள': 72, 'க': 62, 'எ': 60, 'ன': 66, 'ந': 65, 'த': 64, 'P': 25, 'f': 39, 'C': 12, 'x': 57, 'S': 27, 'R': 26, '8': 8, 'ඈ': 77, 'X': 32, 'ඥ': 96, 'ඖ': 87, 'J': 19, 'Y': 33, 'ඍ': 82}\n"
          ]
        }
      ]
    },
    {
      "cell_type": "markdown",
      "source": [
        "# TF-IDF Vectors as features"
      ],
      "metadata": {
        "id": "sxOC-QitNhrM"
      }
    },
    {
      "cell_type": "code",
      "source": [
        "from sklearn.feature_extraction.text import TfidfVectorizer # Import the necessary class\n"
      ],
      "metadata": {
        "id": "rdxs8A0cNxlV"
      },
      "execution_count": null,
      "outputs": []
    },
    {
      "cell_type": "code",
      "source": [
        "# word level tf-idf\n",
        "tfidf_vect = TfidfVectorizer(analyzer='word', token_pattern=r'\\w{1,}', max_features=5000)\n",
        "tfidf_vect.fit(trainDF['text_new'])\n",
        "xtrain_tfidf =  tfidf_vect.transform(train_x)\n",
        "xvalid_tfidf =  tfidf_vect.transform(valid_x)\n",
        "\n",
        "# ngram level tf-idf\n",
        "tfidf_vect_ngram = TfidfVectorizer(analyzer='word', token_pattern=r'\\w{1,}', ngram_range=(2,3), max_features=5000)\n",
        "tfidf_vect_ngram.fit(trainDF['text_new'])\n",
        "xtrain_tfidf_ngram =  tfidf_vect_ngram.transform(train_x)\n",
        "xvalid_tfidf_ngram =  tfidf_vect_ngram.transform(valid_x)\n",
        "\n",
        "# characters level tf-idf\n",
        "tfidf_vect_ngram_chars = TfidfVectorizer(analyzer='char', token_pattern=r'\\w{1,}', ngram_range=(2,3), max_features=5000)\n",
        "tfidf_vect_ngram_chars.fit(trainDF['text_new'])\n",
        "xtrain_tfidf_ngram_chars =  tfidf_vect_ngram_chars.transform(train_x)\n",
        "xvalid_tfidf_ngram_chars =  tfidf_vect_ngram_chars.transform(valid_x)"
      ],
      "metadata": {
        "colab": {
          "base_uri": "https://localhost:8080/"
        },
        "id": "FczHBKFoNcwp",
        "outputId": "28304fce-acba-4939-9e80-83e73c763584"
      },
      "execution_count": null,
      "outputs": [
        {
          "output_type": "stream",
          "name": "stderr",
          "text": [
            "/usr/local/lib/python3.10/dist-packages/sklearn/feature_extraction/text.py:554: UserWarning: The parameter 'token_pattern' will not be used since 'analyzer' != 'word'\n",
            "  warnings.warn(\n"
          ]
        }
      ]
    },
    {
      "cell_type": "code",
      "source": [
        "print(\"word level tf-idf_Vocabulary: \", tfidf_vect.vocabulary_)\n",
        "print(\"ngram level tf-idf_Vocabulary: \", tfidf_vect_ngram.vocabulary_)\n",
        "print(\"characters level tf-idf_Vocabulary: \", tfidf_vect_ngram_chars.vocabulary_)\n"
      ],
      "metadata": {
        "colab": {
          "base_uri": "https://localhost:8080/"
        },
        "id": "7Lmq-hY6NpXK",
        "outputId": "25b61110-8463-41ae-d932-5eac90f911da"
      },
      "execution_count": null,
      "outputs": [
        {
          "output_type": "stream",
          "name": "stdout",
          "text": [
            "word level tf-idf_Vocabulary:  {'ක': 1188, 'ලක': 1988, 'ව': 2031, 'ස': 2144, 'ප': 1625, 'ත': 1456, 'ල': 1987, 'හ': 2213, 'නම': 1594, 'වද': 2055, 'ග': 1283, 'තම': 1477, 'න': 1562, 'ය': 1841, 'බ': 1710, 'ඉල': 992, 'පය': 1657, 'පඩ': 1636, 'ද': 1502, 'රස': 1980, 'ථව': 1501, 'ඕ': 1176, 'යම': 1877, 'අගය': 778, 'අඩ': 785, 'යන': 1862, 'ඔපර': 1157, 'ශ': 2115, 'කරන': 1243, 'ධ': 1547, 'හරහ': 2247, 'ම': 1768, 'හදනව': 2228, 'ඉත': 977, 'dat': 219, 'bat': 164, 'ගග': 1285, 'ඉ': 968, 'ඊලග': 1012, 'තය': 1479, 'ගල': 1313, 'උත': 1032, 'සවය': 2200, 'උපර': 1042, 'මය': 1801, 'ර': 1911, 'ථ': 1498, 'කර': 1232, 'අන': 811, 'යය': 1884, 'සජ': 2149, 'මද': 1791, 'ආන': 908, 'ඩ': 1425, 'සම': 2168, 'ණය': 1452, 'ජනත': 1367, 'ලනය': 2011, 'sjb': 603, 'රට': 1932, 'ඝරත': 1332, 'නය': 1596, 'සමග': 2169, 'උන': 1037, 'ඔහ': 1174, 'ඒන': 1134, 'පළම': 1700, 'පක': 1626, 'ෂ': 2134, 'කරල': 1258, 'භ': 1762, 'රය': 1968, 'ජ': 1355, 'ච': 1336, 'ඡ': 1353, 'ශප': 2125, 'පස': 1686, 'යවත': 1892, 'වහන': 2111, 'අවව': 872, 'රක': 1912, 'ධර': 1560, 'ණ': 1445, 'යල': 1888, 'වරය': 2092, 'රව': 1972, 'ගත': 1293, 'අරම': 855, 'එක': 1069, 'කටය': 1198, 'රශ': 1979, 'ටල': 1413, 'ඔක': 1145, 'කල': 1261, 'මහන': 1828, 'පන': 1646, 'සල': 2194, 'ඒකල': 1129, 'හද': 2224, 'ලය': 2021, 'දහ': 1542, 'ජර': 1389, 'තර': 1480, 'උ': 1014, 'රද': 1951, 'රජ': 1926, 'ඉස': 1003, 'එර': 1108, 'ට': 1395, 'එ': 1067, 'වන': 2061, 'ඇග': 936, 'රග': 1918, 'අය': 836, 'රජය': 1930, 'ඛ': 1281, 'රගත': 1919, 'තහ': 1495, 'හර': 2241, 'යනව': 1867, 'ඉද': 978, 'කට': 1195, 'සන': 2161, 'කරනම': 1246, 'එමව': 1102, 'සත': 2153, 'අක': 773, 'දම': 1521, 'ආගම': 896, 'කඉ': 1189, 'ඉඩසලස': 976, 'ටරට': 1412, 'ආග': 895, 'ආරක': 922, 'පනව': 1651, 'කරග': 1234, 'මත': 1784, 'නග': 1569, 'ඕන': 1181, 'ඒ': 1122, 'අදහ': 806, 'වත': 2054, 'අවද': 863, 'වනපල': 2065, 'පත': 1641, 'අරච': 853, 'අර': 843, 'යමග': 1878, 'මනද': 1795, 'රල': 1970, 'දහම': 1543, 'ඔව': 1172, 'පමණ': 1655, 'සය': 2182, 'අප': 818, 'අවබ': 867, 'දය': 1524, 'ඉන': 982, 'නව': 1610, 'ටකද': 1398, 'ඔ': 1144, 'යද': 1860, 'තත': 1465, 'br': 176, 'කරම': 1255, 'අද': 803, 'ලන': 2007, 'මහ': 1821, 'වජ': 2045, 'තහන': 1496, 'අස': 877, 'සග': 2147, '24': 53, 'තප': 1474, 'සරණක': 2185, 'ඔබ': 1158, 'ඉක': 970, 'දලද': 1535, 'හම': 2237, 'කරනක': 1245, 'බමන': 1731, 'චනය': 1345, 'තව': 1491, 'බලය': 1751, 'ඇව': 960, 'ඒක': 1123, '226': 52, 'අපහස': 825, 'වල': 2093, 'එය': 1103, 'කරනව': 1248, 'කත': 1206, 'සදහ': 2160, 'එහ': 1118, 'ඨ': 1422, 'අධ': 808, 'ඹ': 1838, 'අවක': 860, 'ශය': 2129, 'ඇය': 955, 'ආශ': 929, 'පර': 1660, 'යභ': 1876, 'පවත': 1684, 'ඝ': 1331, 'රත': 1948, 'පද': 1645, 'අයත': 839, 'වය': 2078, 'යටපත': 1856, 'වර': 2082, 'ථම': 1500, 'පව': 1682, 'ආණ': 898, 'ආයතන': 918, 'සතර': 2156, 'කරව': 1259, 'එම': 1099, 'උද': 1034, 'ෂණ': 2137, 'ඇත': 942, 'අවස': 874, 'රචල': 1925, 'ගය': 1306, 'මධර': 1793, 'නයධර': 1600, 'උග': 1019, 'සහය': 2211, 'ඒබව': 1136, 'තරම': 1483, 'බහ': 1760, 'ළ': 2258, 'ngo': 489, 'පරක': 1661, 'තන': 1469, 'උමන': 1050, 'සතව': 2157, 'ලග': 1995, 'වක': 2032, 'ආ': 893, 'ඌර': 1065, 'දත': 1509, 'රහ': 1983, 'වග': 2035, 'උම': 1049, 'මහස': 1836, 'කවර': 1273, 'දඩ': 1507, 'සහම': 2210, 'දමන': 1522, 'පහලව': 1694, 'ධය': 1556, 'සමණලය': 2172, 'බව': 1757, 'ලද': 2003, 'ගලය': 1315, 'උඹල': 1052, 'කහ': 1276, 'එප': 1098, 'නටම': 1577, 'කප': 1219, 'ලනකය': 2009, 'ඉහළ': 1006, 'ලධ': 2006, 'අනවශ': 815, 'ජන': 1362, 'email': 259, 'යවප': 1896, 'photocopy': 534, 'වකය': 2034, 'තක': 1457, 'ඩය': 1436, 'ගහ': 1320, 'වට': 2046, 'මර': 1803, 'බලවත': 1754, 'ආර': 921, 'සහ': 2203, 'what': 727, 'sri': 613, 'lanka': 414, 'ඔය': 1166, 'කච': 1194, 'කය': 1229, 'යකය': 1846, 'නට': 1575, 'දල': 1533, 'තමය': 1478, 'ඒකය': 1128, 'රන': 1955, 'නස': 1617, 'කනව': 1215, 'ඕව': 1186, 'කව': 1270, 'වසර': 2105, 'අව': 859, 'රටවල': 1940, 'දහස': 1545, 'අහස': 891, 'මන': 1794, 'ඳ': 1621, 'කම': 1224, 'යට': 1853, 'අම': 829, 'උගත': 1020, 'ඕනව': 1183, 'අවශ': 873, 'පනය': 1649, '35000': 67, '70000': 95, 'යවර': 1898, 'ලබ': 2016, 'හන': 2233, 'සමහර': 2179, '30000': 62, 'අත': 790, 'ජනය': 1372, 'ආයත': 917, 'එල': 1110, 'පණ': 1639, 'තල': 1489, 'දව': 1536, 'භර': 1764, 'අභ': 828, 'අවත': 862, 'නප': 1590, 'පනත': 1648, 'උබල': 1046, 'යව': 1890, 'නල': 1609, 'ලකය': 1993, 'ඵලද': 1706, 'ලකන': 1992, 'ලම': 2018, 'ඵක': 1702, 'ඵප': 1704, 'කරනවද': 1249, 'ගහල': 1330, 'ඵලවපන': 1709, 'යක': 1843, 'monopoly': 463, 'බයව': 1734, 'එකත': 1075, 'ධත': 1549, 'දරනය': 1530, 'බද': 1725, 'ඉග': 971, 'එව': 1112, 'උප': 1040, 'හල': 2248, 'ටස': 1417, 'කලහ': 1269, 'ශමත': 2127, 'ගහප': 1329, 'බල': 1741, 'දර': 1526, 'අරගලල': 852, 'ඕක': 1177, 'බඩ': 1720, 'ඉර': 990, 'අසරණ': 882, 'මග': 1773, 'ඉවස': 1001, 'පලයන': 1678, 'උඹ': 1051, 'ඔල': 1171, 'සරදය': 2188, 'පලයක': 1677, 'වකටව': 2033, 'නවත': 1611, 'strike': 617, 'සර': 2183, 'සට': 2150, 'අහ': 885, 'බඩග': 1721, 'අරගල': 848, 'රරද': 1969, 'හය': 2239, 'ඛය': 1282, 'සලක': 2195, 'එතක': 1088, 'නඹ': 1595, 'පබඩ': 1653, 'එස': 1116, 'ටර': 1411, 'රමය': 1965, 'තවම': 1493, 'ඇට': 939, 'රණය': 1946, 'අ': 771, 'ඕල': 1185, 'රසන': 1982, 'ගගත': 1286, 'ආක': 894, 'රණ': 1942, 'කක': 1191, 'තරග': 1481, 'පඬ': 1640, 'වහ': 2108, 'ආනයනය': 909, 'diplomatic': 232, '2023': 47, 'හක': 2215, '75': 99, 'පහව': 1695, 'දවස': 1539, 'වභවදහම': 2076, 'රජත': 1927, 'ලව': 2026, 'සමර': 2174, 'ඡන': 1354, 'එනක': 1094, 'මඑකත': 1769, 'රමස': 1967, 'රසතව': 1981, 'අවසථ': 875, 'ඉදප': 979, 'quot': 553, 'දග': 1505, 'ගම': 1303, 'ඔච': 1147, 'චර': 1348, 'අල': 858, 'කවද': 1271, 'නඛය': 1568, 'අරග': 846, 'යනක': 1863, 'ආච': 897, 'නර': 1602, 'ඊ': 1007, 'ඇර': 956, 'අච': 781, 'තස': 1494, 'දක': 1504, 'ඩග': 1428, 'imf': 341, 'ඉවර': 996, 'down': 240, 'vat': 691, 'ai': 124, 'genath': 295, 'dunne': 245, 'ජකය': 1357, 'සරල': 2191, '20000': 38, '5000': 81, 'ආය': 916, 'රවට': 1973, 'ලගය': 1998, 'ඇපය': 951, 'තබ': 1476, 'ජණය': 1359, 'කරපල': 1254, 'ගන': 1297, 'ඇටද': 940, 'ඌ': 1064, 'මහරජ': 1833, 'ආප': 910, 'සරද': 2187, 'අළ': 892, 'ඇ': 935, 'එච': 1084, 'රනය': 1956, 'නවය': 1615, 'කබල': 1222, 'පටද': 1633, 'කණ': 1204, 'ලකඉ': 1989, 'වස': 2102, 'ළම': 2268, 'පළ': 1698, 'සව': 2199, 'අහල': 890, 'පහල': 1693, 'දපප': 1518, 'යමල': 1883, 'ඇරල': 958, 'එළ': 1119, 'බලනක': 1746, 'බයහ': 1735, 'එනව': 1096, 'මහත': 1827, 'ලත': 2002, 'අරකට': 845, 'ගහගන': 1324, 'නහ': 1619, 'ජය': 1384, 'අබ': 826, 'සරණ': 2184, 'ලස': 2029, '13': 14, 'ටව': 1416, 'ළය': 2271, 'ඇමර': 954, 'කලක': 1262, 'පල': 1670, 'නතරය': 1584, 'ෆ': 2274, 'රහස': 1986, 'එජ': 1085, 'ජයග': 1386, 'රහණය': 1985, 'පරය': 1667, 'හදන': 2226, 'ඉවරය': 998, 'තකය': 1459, 'ඉපද': 986, 'මරල': 1810, 'වඳ': 2071, 'බලනව': 1747, 'එන': 1093, 'නත': 1581, 'ඒව': 1141, 'දන': 1512, 'gomala': 302, 'union': 677, 'goma': 301, 'la': 408, '297': 57, '200': 37, 'itte': 353, 'එකම': 1080, 'ලප': 2015, 'ඩව': 1441, 'වසන': 2103, 'ජයව': 1387, 'නඩ': 1579, 'ගබඩ': 1302, 'ඉවරව': 1000, 'නක': 1564, 'බලල': 1752, 'යපල': 1875, 'ශබන': 2126, 'සමරස': 2176, 'ලර': 2023, 'හවර': 2252, 'ඉඳ': 983, 'සටහන': 2152, '250': 55, '300': 61, 'අවධ': 864, 'එලව': 1111, 'එනත': 1095, 'ටක': 1397, 'වරද': 2088, 'අදහස': 807, 'ඇම': 952, 'පග': 1629, 'නවන': 1613, 'උවමණ': 1058, 'බර': 1736, 'සහනය': 2208, 'ඩප': 1433, 'අතහර': 802, 'චරන': 1351, 'ඇල': 959, 'පම': 1654, 'kg': 394, 'ගණන': 1292, 'බය': 1732, 'යකඩ': 1844, 'මල': 1813, 'මටව': 1780, 'ලදප': 2004, 'යනවන': 1869, 'වගය': 2040, 'tip': 656, 'මස': 1819, 'එවල': 1115, 'උස': 1061, 'ඩබ': 1434, 'කමන': 1226, 'ගහද': 1325, 'නන': 1586, 'දනව': 1515, 'දනවන': 1516, 'නයක': 1597, 'අපර': 823, 'සරන': 2189, 'එකක': 1070, 'උබ': 1044, 'a': 113, 'to': 658, 'z': 752, 'නපල': 1591, 'පට': 1632, 'ආස': 930, 'බබ': 1729, '320': 64, 'ආවන': 928, 'පනල': 1650, 'ලඩ': 2000, 'ලනව': 2013, 'යත': 1858, 'සරහ': 2193, 'යයන': 1885, 'ට225': 1396, 'අතරම': 798, 'ඔතන': 1152, 'watsapp': 713, 'evapu': 268, 'kena': 391, 'ne': 483, 'usa': 684, 'da': 213, 'mahathada': 434, 'kaluda': 371, 'eva': 267, '225': 51, 'ජවන': 1393, 'පයක': 1658, 'පහ': 1687, 'එතර': 1090, 'රම': 1962, 'හස': 2255, 'හෂ': 2254, 'එකප': 1079, 'හනය': 2234, 'සමඟ': 2171, 'කනප': 1214, 'දනය': 1514, 'නගරය': 1574, '5ක': 85, 'ධව': 1561, 'ටකය': 1399, 'ජනක': 1363, 'කස': 1275, 'film': 277, 'වරට': 2085, 'පටව': 1635, '1000': 8, 'ඔත': 1151, 'බන': 1727, 'ඹක': 1839, 'distroying': 234, 'karanna': 380, 'සහත': 2205, 'ඕඩටය': 1179, 'cid': 190, '1200': 13, 'වහග': 2109, 'යහත': 1906, 'කළ': 1278, 'deal': 224, 'handle': 316, 'මව': 1817, 'ඉඩ': 974, 'ඇරපන': 957, 'සත5': 2154, 'ටන': 1405, 'ஒவ': 754, 'வர': 770, 'மற': 765, 'ய': 766, 'ம': 764, 'ப': 762, 'ட': 756, 'பட': 763, 'ர': 767, 'டள': 758, 'க': 755, 'என': 753, 'ன': 761, 'நடக': 760, 'த': 759, 'ඇඳ': 949, 'ශද': 2122, 'බටහ': 1719, 'යටත': 1855, 'අයව': 841, 'මරප': 1809, 'ජක': 1356, 'ඉට': 973, 'බලව': 1753, 'හව': 2251, 'අතප': 794, 'කරණව': 1238, 'යස': 1903, 'රටත': 1937, 'අකටය': 774, 'ලකර': 1994, 'යටව': 1857, 'ඔට': 1148, 'ඔයව': 1170, 'වගක': 2036, 'මතක': 1785, 'great': 311, 'job': 359, 'ලල': 2025, 'p436': 517, 'ආදර': 903, 'href': 335, 'https': 336, 'www': 738, 'youtube': 751, 'com': 198, 'watch': 711, 'v': 686, 'wn3b9kwtgim': 734, 'amp': 129, 't': 624, '90': 110, '1': 5, '30': 60, 'කබ': 1221, 'ඇදගත': 945, 'ළකර': 2263, 'රජස': 1931, 'මහග': 1822, 'අරක': 844, 'රගප': 1922, 'ඉය': 989, 'ටලය': 1415, 'සමහරව': 2181, 'සලකනව': 2196, 'එඩ': 1086, 'අපටන': 821, 'ටය': 1410, 'අහන': 886, 'ඇමත': 953, 'chemistry': 189, 'paper': 522, 'avarage': 147, 'ළමය': 2269, 'කතරග': 1208, '1ක': 34, 'කඩල': 1203, 'ආව': 926, 'o': 497, 'l': 407, 'wfoygnihpm': 725, '52': 83, '0': 0, 'ඉදල': 981, 'බලප': 1748, 'දදම': 1511, 'මචන': 1776, 'bio': 169, 'exam': 272, 'ශක': 2116, 'තඩ': 1462, 'කන': 1212, 'නගත': 1570, 'නගන': 1572, 'ලඹ': 2020, 'tv': 660, 'channel': 188, 'තරන': 1482, 'scl': 589, 'ubala': 664, 'cls': 193, 'giyath': 298, 'ekai': 251, 'nathath': 476, 'walin': 709, 'hema': 322, 'dema': 226, 'cover': 208, 'karanawa': 379, 'mokada': 459, 'laksha': 410, 'ganak': 288, 'dila': 231, 'oya': 511, 'walata': 708, 'yanne': 747, 'private': 548, 'wadwada': 705, 'colombo': 197, 'wala': 707, 'salli': 582, 'garanne': 290, 'ubalata': 666, 'ekaka': 252, 'bayakwath': 165, 'danenne': 216, 'na': 473, 'eka': 250, 'sadaranai': 579, 'habai': 313, 'duppath': 246, 'api': 137, 'ewata': 270, 'irisiya': 348, 'karanne': 381, 'bn': 170, 'hodata': 328, 'igena': 339, 'ganilla': 289, 'thope': 645, 'p': 516, 'kathawa': 387, 'nawaththa': 480, 'kale': 369, 'athi': 143, 'araka': 139, 'meka': 451, 'thopita': 647, 'kal': 365, 'unata': 673, 'apita': 138, 'masa': 440, 'thunakin': 651, 'padam': 518, 'une': 675, 'thopith': 648, 'widesha': 730, 'sahanadara': 580, 'balaporoththu': 156, 'wena': 719, 'andu': 132, 'wge': 726, 'camera': 183, 'ekata': 255, 'penna': 531, 'ona': 503, 'magulak': 433, 'kiyai': 397, 'awilla': 149, 'balapan': 155, 'gamakata': 285, 'yanna': 746, 'e': 247, 'lamai': 412, 'koitharam': 405, 'dukak': 243, 'widinawada': 731, 'kiyala': 398, 'enna': 261, 'bus': 179, 'nathuwa': 478, 'pain': 520, 'aulak': 144, 'hari': 318, 'goda': 300, 'yanawanam': 745, 'echcharai': 248, 'november': 495, 'thun': 650, 'denata': 227, 'witharak': 733, 'thibbanam': 643, 'super': 622, 'result': 573, 'results': 574, '1st': 33, 'place': 538, '2nd': 58, 'අමත': 830, 'කරහ': 1260, 'ඔන': 1154, 'voice': 701, 'cuts': 212, 'media': 448, '39': 68, '4th': 78, 'shy': 598, 'පයර': 1659, 'ඒකන': 1126, 'වහල': 2113, '51': 82, 'ශනය': 2124, 'වලට': 2095, '45': 74, 'ළඟ': 2265, '49': 77, 'ටසක': 1418, 'ඇන': 948, 'pure': 552, 'බලම': 1749, '2': 35, '3': 59, 'පලය': 1676, 'පලව': 1681, 'ඉලක': 993, 'බලහ': 1755, 'distric': 233, 'pass': 524, 'un': 670, 'tika': 653, 'රතම': 1949, 'ළඹ': 2270, 'ළකය': 2262, 'මණ': 1782, 'ළනය': 2266, 'අසණය': 878, 'ඩවනව': 1442, 'ජප': 1376, 'කදව': 1211, 'යවශ': 1900, 'ආහ': 934, 'රප': 1959, 'අසරණව': 883, 'සනසව': 2162, 'චන': 1343, 'කරගන': 1236, 'තකත': 1458, 'ජපන': 1379, 'ta': 625, 'sunami': 621, 'ape': 136, 'rate': 562, 'tama': 628, 'ටහර': 1420, 'bainawa': 152, 'nehe': 486, 'තනය': 1471, 'එකට': 1073, 'කඳ': 1218, 'වභ': 2075, 'සරය': 2190, 'දඬ': 1508, 'කරදර': 1241, '69': 92, 'ආපද': 911, 'උසස': 1062, 'බලධ': 1744, 'රටකරද': 1934, 'ඒමත': 1138, 'කඩ': 1200, 'ඒජන': 1132, 'එකද': 1076, 'කරය': 1256, 'උණ': 1030, 'යර': 1887, 'ආද': 902, 'rata': 561, 'vikunan': 697, 'kana': 374, 'kalakanni': 367, 'kalama': 368, 'wenava': 720, 'ekath': 256, 'manussayawe': 438, 'ha': 312, 'sapase': 585, 'yanavahanavwela': 744, 'sapa': 584, 'thanak': 636, 'gan': 287, 'wathura': 712, 'naya': 481, 'yanava': 743, 'vassa': 690, 'aduwenna': 121, 'madivata': 430, 'ekakuth': 253, 'gahala': 284, 'ane': 133, 'me': 447, 'mona': 461, 'karumekata': 383, 'wela': 716, 'epadunada': 265, 'duk': 242, 'thopi': 646, 'jeevath': 357, 'uduran': 668, 'kanna': 375, 'bonna': 172, 'welin': 717, 'wenna': 721, 'bari': 161, 'karala': 376, 'chande': 186, 'dunna': 244, 'nisada': 491, 'mehema': 450, 'awe': 148, 'nam': 474, 'balaen': 153, 'naththet': 477, 'karumeta': 384, 'uge': 669, 'kama': 372, 'thama': 633, 'kelevila': 390, 'wadinnam': 704, 'kala': 366, 'bila': 168, 'hitapalla': 325, 'apata': 135, 'denna': 228, 'barinam': 162, 'hamoma': 315, 'kamakata': 373, 'mariyalla': 439, 'tikak': 654, 'කලව': 1268, 'avanna': 146, 'mulu': 470, 'ma': 428, 'ubalage225': 665, 'darupaultika': 218, 'wevi': 723, 'ekane': 254, 'one': 504, 'dannm': 217, 'tiyenne': 657, 'වනජ': 2063, 'පකය': 1627, 'ගහග': 1323, 'මහජනය': 1826, 'යයය': 1886, 'යසනය': 1904, 'ඵල': 1705, 'ලකණ': 1991, 'වනසත': 2070, 'ඇද': 943, 'උඩර': 1029, 'පහතරට': 1689, 'වධර': 2060, 'අධර': 810, 'ජලශය': 1391, 'ජපක': 1377, 'අවලම': 871, 'ආධ': 907, '15': 19, '18': 24, 'එෆ': 1121, 'හරක': 2242, 'රධ': 1952, 'සපල': 2166, 'රවල': 1978, 'බලන': 1745, 'ජල': 1390, 'තට': 1461, 'ඈර': 966, 'වව': 2100, 'සහල': 2212, 'එයල': 1107, 'ධමනය': 1555, 'ගනනය': 1299, 'වනම': 2067, 'සප': 2165, 'uathsaha': 663, 'varadinne': 689, 'neha': 485, 'nethi': 487, 'bane': 158, 'kiyana': 399, 'kalema': 370, 'මහජනත': 1825, 'නටනව': 1576, 'ජඩ': 1358, 'සලය': 2197, 'නඩත': 1580, '20': 36, '000': 1, '80': 105, 'හට': 2218, 'ජපස': 1381, 'සමස': 2178, 'මලගම': 1814, 'ගතය': 1295, '8': 104, 'කනවද': 1216, 'නරකද': 1604, 'ගහන': 1326, 'mbbs': 445, 'අරගත': 847, 'කයක': 1230, 'ගනන': 1298, '95': 111, 'උජ': 1023, 'ගහනව': 1328, 'පලප': 1675, 'යෂණ': 1902, 'report': 567, 'ඉප': 985, 'ඹය': 1840, 'රටක': 1933, 'hospitalඑහ': 334, 'සද': 2158, 'දයක': 1525, 'අතපස': 796, 'යටගහගන': 1854, 'ඔනව': 1155, 'st': 615, 'කයන': 1231, 'ශල': 2131, 'එත': 1087, 'ආත': 899, 'පප': 1652, 'අසල': 884, 'යග': 1849, 'ඩක': 1426, 'ෂණය': 2138, 'වම': 2077, 'hospital': 333, 'oxygen': 510, 'ඇහ': 962, 'wheelchair': 728, 'ටම': 1409, 'co2': 194, 'නගර': 1573, 'සබ': 2167, 'karmaya': 382, 'thamai': 634, 'podi': 541, 'vaaraddak': 687, 'unama': 671, 'vaidhyavarunta': 688, 'dos': 239, 'kiyanawa': 400, 'eth': 266, 'dawsakata': 221, 'daahas': 214, 'වප': 2072, 'karana': 378, 'vidiha': 695, 'venawa': 692, 'hooo': 332, 'hoo': 331, 'medical': 449, 'colleges': 196, 'out': 508, 'එද': 1092, 'ඩල': 1439, 'නද': 1585, 'මරණ': 1805, 'කරදරයක': 1242, 'බඋ': 1712, 'wikunan': 732, 'kaiy': 364, 'unge': 676, 'account': 117, 'commission': 202, 'yana': 742, 'qxer': 554, 'm9rd74': 427, '130': 15, '10': 6, '1k': 32, 'free': 280, 'ආතල': 901, 'ෂගත': 2136, 'යපන': 1873, 'ලවර': 2028, 'එකටහර': 1074, 'x': 739, 'ඕග': 1178, 'make': 437, 'ශගත': 2119, 'ජනගහ': 1365, 'ඉඩකඩ': 975, 'යවනවන': 1895, 'ජනගහන': 1366, 'ළව': 2272, 'අදන': 804, '9': 109, '8ක': 108, 'ගරය': 1311, 'ඕනන': 1182, 'intercontinental': 347, 'missile': 455, 'ණප': 1451, 'වරණය': 2087, 'tamil': 629, 'ලනඥය': 2010, 'කඩක': 1201, 'ණනග': 1449, 'ණග': 1447, 'උඩ': 1025, 'ගසග': 1319, 'ඒකත': 1124, 'dnnm': 235, 'gennath': 296, 'ණනව': 1450, 'වරණ': 2086, 'ෂය': 2140, 'ආතර': 900, 'baby': 151, 'rocket': 576, 'chance': 185, 'පච': 1630, 'හදට': 2225, 'උඩපන': 1027, 'යවය': 1897, 'cricket': 210, 'team': 630, 'balling': 157, 'speed': 612, 'එසව': 1117, 'වලද': 2097, 'ටද': 1404, 'දසදහස': 1541, 'සක': 2145, 'ඇස': 961, 'ධම': 1554, 'චක': 1337, 'ශන': 2123, 'පරස': 1669, '1864': 25, 'වචනය': 2043, 'ඇදහ': 947, 'ගමනක': 1305, 'යළ': 1910, 'ඔස': 1173, 'තරය': 1485, 'uv': 685, 'බස': 1759, 'පලයල': 1679, 'නහල': 1620, 'හප': 2236, 'රනව': 1958, 'news': 488, 'graphic': 309, 'illustrations': 340, 'animations': 134, 'යමය': 1882, 'වසලය': 2107, 'ඉව': 994, 'අවජ': 861, 'tourism': 659, 'board': 171, 'promote': 550, 'උඩබල': 1028, 'ධයද': 1559, 'බරද': 1738, 'gravity': 310, 'ms': 469, '680': 91, 'n': 472, '650': 90, 'රච': 1923, 'එගර': 1083, 'උණවට': 1031, 'padisan': 519, 'niwata': 492, 'ගඩ': 1290, 'යවක': 1891, 'රවර': 1977, 'ධනය': 1552, 'rockets': 577, 'company': 203, 'nasa': 475, 'ෂව': 2143, 'wow': 737, 'space': 610, 'eww': 271, 'seen': 591, 'හත': 2221, 'රකය': 1914, 'google': 305, 'search': 590, '3g': 69, 'also': 127, 'need': 484, 'share': 596, 'facts': 275, 'proof': 551, 'which': 729, 'experment': 273, 'and': 131, 'test': 632, 'reports': 568, 'ඇඟ': 938, 'සඳ': 2163, 'ශණ': 2120, 'රගන': 1921, 'ඖස': 1187, 'ඳඉ': 1622, 'කපට': 1220, 'ආයතනය': 919, '4': 72, 'ළවර': 2273, 'ලණ': 2001, 'ගඟ': 1288, 'ශණය': 2121, 'යවන': 1893, '60': 87, '6': 86, '120': 12, 'ඉඳල': 984, 'article': 141, 'කරනය': 1247, 'mk': 456, 'ඩලය': 1440, 'mokkd': 460, 'yako': 741, 'mmc': 457, 'ටකල': 1400, 'යනවනන': 1870, 'සහද': 2206, 'හඳ': 2235, 'මහර': 1832, 'නබලප': 1593, '997g': 112, 'රවය': 1976, 'ලයක': 2022, 'ශමව': 2128, 'දගත': 1506, 'මක': 1770, 'පරණ': 1662, 'පඩය': 1638, 'ලනයක': 2012, 'වඩ': 2052, 'රටය': 1939, 'thammel': 635, 'කරනවන': 1250, 'මහරජත': 1834, 'නරය': 1608, 'පලක': 1671, 'කනග': 1213, 'වහම': 2112, 'අඩව': 788, 'ඈත': 964, 'ෂල': 2141, 'ඒකතම': 1125, 'හවස': 2253, 'බට': 1716, 'ශර': 2130, 'තලය': 1490, 'පහස': 1696, 'දරණ': 1528, 'නතර': 1582, 'ගයක': 1307, 'match': 442, 'තතර': 1467, '5': 79, 'g': 283, 'ඔයය': 1169, 'ණත': 1448, 'ලමය': 2019, 'යහ': 1905, '2015': 42, 'රකම': 1913, 'සතයක': 2155, 'මමද': 1799, 'කරපන': 1253, 'කටද': 1196, 'වලව': 2099, 'mcc': 446, 'elon': 258, 'mask': 441, 'come': 199, 'srilanka': 614, 'specs': 611, 'එනවම': 1097, 'කඛර': 1192, 'රණව': 1947, 'චලය': 1352, 'බලක': 1742, 'චඡ': 1339, 'ටලන': 1414, 'කද': 1210, 'rip': 575, 'rest': 572, 'in': 342, 'peace': 530, 'my': 471, 'lovely': 423, 'soldiers': 609, 'uncle': 674, 'කරද': 1240, 'r': 555, 'i': 337, 'දබල': 1520, 'බග': 1715, 'රණගත': 1943, 'සමරනව': 2175, 'කරනවල': 1251, 'ආරම': 925, 'ජබ': 1382, 'pidu': 535, 'ආබද': 913, 'අවම': 868, 'දවච': 1537, 'ආබ': 912, 'මම': 1798, 'වටන': 2048, 'පවසම': 1685, 'යමනක': 1879, 'බළ': 1761, 'යකත': 1845, 'පරප': 1665, 'ඔබට': 1159, 'viruowo': 699, 'mage': 432, 'jesus': 358, 'pihitai': 536, 'ආදරන': 905, 'ණයග': 1453, 'ෂප': 2139, 'day': 222, 'හලය': 2250, 'ගර': 1310, 'තරව': 1487, 'එඅනව': 1068, 'පඩත': 1637, 'මළ': 1837, 'මවචනවල': 1818, 'පමන': 1656, 'කතනය': 1207, 'හදව': 2231, 'තවද': 1492, 'රහණ': 1984, 'හදවත': 2232, 'ආදරය': 906, 'මතය': 1789, 'අහනක': 887, 'දස': 1540, 'උර': 1055, 'අබද': 827, 'ශකය': 2117, 'මටන': 1778, 'කරක': 1233, 'comments': 201, 'ආමන': 915, 'ආදරණ': 904, 'සසර': 2202, 'මඟ': 1774, 'ඉමහ': 988, 'වනව': 2069, 'නනව': 1588, 'කවරන': 1274, '45000': 75, '2009': 40, 'අමරණ': 834, 'ජනපත': 1369, 'රණබ': 1945, 'ඉවරකර': 997, '700': 94, 'order': 506, 'ඇදග': 944, 'එතන': 1089, 'ජත': 1360, 'අගම': 777, 'උදරතර': 1035, 'රකරම': 1916, 'වබ': 2073, 'කගත': 1193, 'අගව': 780, 'උකහල': 1018, 'උපහ': 1043, 'ඈ': 963, 'ණවත': 1455, 'ධන': 1551, 'ළප': 2267, '3ද': 70, 'උපද': 1041, 'de': 223, 'pe': 529, 'du': 241, 'ranvrvanae': 560, '2007': 39, '134': 16, 'ජනමතය': 1371, 'ගරහ': 1312, 'jonny': 360, 'english': 260, 'අයට': 838, 'හදප': 2229, 'තරහ': 1488, '1997': 31, 'පරන': 1664, 'අතර': 797, 'ආභ': 914, 'යහපත': 1908, 'භවයකද': 1767, 'ඔබල': 1163, 'සරණය': 2186, 'දද': 1510, 'අපහ': 824, 'කමල': 1227, 'ටහ': 1419, 'නරත': 1607, 'ටග': 1401, 'හරය': 2246, 'අවල': 870, 'මප': 1797, '48': 76, 'uckszu2wh9gy1mb0dv': 667, '11ujg': 10, 'xsify4oqcd2t29sp54iasaw': 740, 'නයන': 1601, 'මයක': 1802, 'භය': 1763, 'idk': 338, 'but': 180, 'cringe': 211, 'ලගද': 1996, 'නසක': 1618, 'uana': 662, 'ජනප': 1368, 'gemma': 292, 'රභ': 1961, 'sf': 595, 'කමටව': 1225, 'සඳහ': 2164, 'ඔබත': 1161, 'උබත': 1045, 'lt': 424, 'gen': 293, 'densil': 229, 'kobbakaduwa': 403, 'maj': 436, 'vijaya': 696, 'vimalarathne': 698, 'col': 195, 'f': 274, 'lafir': 409, 'lalith': 411, 'jayasinghe': 356, 'cprl': 209, 'gamini': 286, 'kularathne': 406, 'අමතරව': 832, 'මතකඩ': 1786, 'මතකද': 1787, 'දරය': 1531, 'b': 150, 'වටත': 2047, 'highway': 324, 'ගණ': 1291, 'අoශය': 772, 'මරව': 1811, 'උඔව': 1017, 'උඔ': 1015, 'unat': 672, 'mahinda': 435, 'othana': 507, 'inna': 343, 'tibba': 652, 'අග': 776, 'ලනක': 2008, 'ඔයන': 1168, 'ටත': 1403, '12': 11, 'යඑව': 1842, 'ටප': 1406, 'karamada': 377, 'kohayda': 404, 'කථ': 1209, 'චය': 1346, 'ජනවරම': 1374, 'උදව': 1036, 'වච': 2041, 'මකර': 1772, 'ළග': 2264, 'සහභ': 2209, 'කලය': 1267, 'ඒල': 1140, 'ධද': 1550, '14': 18, '750': 100, '40000': 73, 'යකරනව': 1848, 'නයටව': 1599, 'ඟ': 1333, 'අනත': 813, 'bottuwakda': 174, 'මඬල': 1783, 'අයද': 840, 'පහන': 1691, 'ආසම': 932, 'බදළ': 1726, 'රමආරච': 1963, '16': 22, '25': 54, 'j': 354, 'silva': 599, 'ඒවය': 1143, 'ac': 115, 'aiyo': 125, 'edala': 249, 'oyanam': 513, 'ලකක': 1990, '78': 103, 'bs': 178, 'ඉහලග': 1005, 'ඊය': 1009, 'ජනග': 1364, 'රටට': 1936, 'ඵලව': 1708, 'පලද': 1673, 'උල': 1056, 'වදර': 2058, '88': 106, '89': 107, 'කරගම': 1237, 'චනක': 1344, 'උච': 1022, 'වනය': 2068, '2019': 44, 'භරගන': 1765, 'comment': 200, '135': 17, 'ගස': 1318, 'c': 182, '21': 50, 'උෂ': 1060, '7': 93, 'අරගලකර': 850, 'school': 588, 'ඉoද': 969, 'හz': 2214, 'බz': 1711, 'ධප': 1553, 'ලබස': 2017, 'reply': 566, 'epa': 264, 'ඉම': 987, 'ඍජ': 1066, '11': 9, '00am': 2, 'කරගත': 1235, 'බරක': 1737, 'වටව': 2049, 'කරප': 1252, 'වරඑළ': 2083, 'වයඹ': 2079, 'ඵ': 1701, 'දළද': 1546, 'ථක': 1499, 'අතපය': 795, 'දරදඬ': 1529, 'එමග': 1100, 'පජ': 1631, 'එයතම': 1104, 'පතර': 1643, 'අරගලය': 851, 'උනත': 1038, 'නශකරල': 1616, 'තනව': 1472, 'රටග': 1935, 'උහ': 1063, 'සදග': 2159, 'රචණ': 1924, 'ඩත': 1430, 'පරම': 1666, 'අඥ': 782, 'කණග': 1205, 'ranil': 559, 'you': 748, 'should': 597, 'have': 320, 'given': 297, 'or': 505, 'made': 429, 'available': 145, 'all': 126, 'those': 649, 'books': 173, 'kids': 395, 'study': 619, 'kept': 393, 'yourself': 750, 'until': 681, 'were': 722, 'gone': 303, 'heaven': 321, 'selfish': 592, 'act': 119, 'on': 502, 'your': 749, 'part': 523, 'ලරද': 2024, 'social': 608, 'ඩද': 1431, 'හමත': 2238, 'බලමක': 1750, 'වබලප': 2074, 'හයප': 2240, 'ඩකම': 1427, 'හරනය': 2244, 'වයස': 2081, 'සහගහ': 2204, 'කවදහර': 1272, 'අපතය': 822, 'ගමන': 1304, 'ඵලය': 1707, 'moda': 458, 'monawa': 462, 'sathutak': 587, 'වලක': 2094, 'ළකණ': 2260, 'වනච': 2062, 'යපනය': 1874, 'අකම': 775, 'අසම': 879, 'අඳ': 816, 'ඇදල': 946, 'එතරම': 1091, 'පනගන': 1647, 'කලබල': 1265, 'ඇඩ': 941, 'හතම': 2222, 'dear': 225, 'sir': 601, 'ශව': 2132, 'තනත': 1470, 'අමන': 833, 'ඔබසත': 1165, 'ඳක': 1623, 'වනබව': 2066, 'sampatha': 583, '1978': 29, 'එකගව': 1072, 'ඒකම': 1127, 'යවස': 1901, 'ලගන': 1997, '50': 80, 'යහපල': 1909, '55': 84, 'ඩන': 1432, 'ඔබව': 1164, 'ධක': 1548, 'යනකත': 1864, 'කහම': 1277, 'භව': 1766, 'රනයක': 1957, 'පතරය': 1644, 'ඔප': 1156, 'gota': 307, 'එළව': 1120, 'ගනය': 1300, 'ලට': 1999, 'උගතම': 1021, 'ගහක': 1321, 'අයහප': 842, 'ඩම': 1435, 'අයක': 837, 'එයනම': 1106, 'අපට': 820, 'අනගතය': 812, 'මහජ': 1823, 'ඉෂ': 1002, 'යදහස': 1861, 'උවම': 1057, 'ඉගනග': 972, 'ඉරණම': 991, 'බටල': 1717, 'වලපල': 2098, 'ජධ': 1361, 'සමගව': 2170, 'ඒමක': 1137, 'වහගන': 2110, 'නබ': 1592, 'නරක': 1603, 'අරල': 856, 'යගහ': 1851, 'උඹලම': 1053, 'මච': 1775, 'pctypwpdhu0': 528, '154': 21, '34': 65, 'නරකය': 1605, 'u': 661, 'පහළ': 1697, 'kathai': 386, 'inne': 345, 'lokayak': 421, 'garu': 291, 'kenek': 392, 'උබව': 1048, 'ඒය': 1139, 'යලන': 1889, '74': 98, 'පතta': 1642, 'පවk': 1683, 'රධළ': 1954, 'රධල': 1953, '1971ද': 27, 'ධයකද': 1557, 'පලනය': 1674, 'යප': 1872, 'වරම': 2091, 'ෂකය': 2135, 'දමනඑ': 1523, 'උවමන': 1059, 'බයන': 1733, 'පළද': 1699, 'pro': 549, 'max': 444, 'that': 639, 'loses': 422, 'of': 499, 'ur': 683, 'possession': 543, 'might': 453, 'be': 166, 'brutal': 177, 'consciousness': 204, 'knows': 402, 'done': 238, 'country': 206, 'so': 607, 'therefore': 642, 'lives': 419, 'taken': 626, 'not': 494, 'fullfill': 281, 'like': 418, 'damn': 215, 'people': 532, 'are': 140, 'responsible': 571, 'for': 279, 'this': 644, 'situation': 602, 'bare': 160, 'the': 640, 'mfing': 452, 'consequences': 205, 'palayan': 521, 'නකම': 1565, 'තද': 1468, 'නවද': 1612, 'එකන': 1077, 'டத': 757, 'ற': 768, 'வ': 769, 'victory': 693, 'struggle': 618, 'හහ': 2256, 'oyata': 514, 'wada': 703, 'lankawe': 415, 'innawa': 344, 'ae': 122, 'nisa': 490, 'oyath': 515, 'oyagema': 512, 'weda': 715, 'don': 237, 'worry': 736, 'happy': 317, 'අතඅර': 791, 'කලත': 1264, 'ඔබම': 1162, '06': 3, 'ජපකෂ': 1378, 'යවනව': 1894, 'අධම': 809, 'ඔළ': 1175, 'ගගහ': 1287, 'power': 545, 'plan': 539, 'දරල': 1532, 'මමන': 1800, 'ගහකව': 1322, 'බටලන': 1718, 'මරනක': 1808, 'ඔබටමතක': 1160, 'රජපක': 1928, 'වලත': 2096, 'ශකර': 2118, 'කබව': 1223, 'ලදර': 2005, 'පරල': 1668, 'ගද': 1296, 'ඒග': 1130, 'රගතය': 1920, 'උඔඅ': 1016, 'හරප': 2245, 'ඕඩර': 1180, 'ඔකව': 1146, 'අතඩන': 793, 'වචන': 2042, 'උබලන': 1047, 'අතව': 799, 'ඊලඟ': 1013, 'සරලව': 2192, 'සකරම': 2146, 'චද': 1342, 'pothaka': 544, 'hitapiyaw': 326, 'dollars': 236, 'කටහඬ': 1199, 'නයගර': 1598, 'කරත': 1239, 'ඉදපල': 980, 'ඊන': 1008, 'අවන': 865, 'අගරදග': 779, 'චණ': 1340, 'රඩත': 1941, 'අරගලක': 849, 'go': 299, 'home': 329, 'kiwwa': 396, 'මහබ': 1830, 'බලද': 1743, '1990': 30, 'ඨය': 1424, 'mr': 467, 'ඉවත': 995, '17': 23, 'තකහන': 1460, 'hamilton': 314, 'bank': 159, 'එරහ': 1109, 'වනත': 2064, 'උථ': 1033, 'දප': 1517, 'ටපත': 1407, 'හදල': 2230, 'දරග': 1527, 'සමල': 2177, 'ඟය': 1335, 'දලටව': 1534, 'ජයකය': 1385, 'මටය': 1779, '77': 102, 'ඔතර': 1153, 'රබලව': 1960, 'ඵකත': 1703, 'නතරකල': 1583, 'ෆය': 2275, 'මනස': 1796, 'නටව': 1578, '2013': 41, 'ලවග': 2027, 'kawuru': 388, 'unot': 679, 'තපත': 1475, 'වදක': 2056, 'පකර': 1628, '35': 66, 'ඩගමk': 1429, 'නඛ': 1567, 'පලකල': 1672, 'නනන': 1587, 'අරහලය': 857, 'ශවත': 2133, 'කරයන': 1257, 'off': 500, 'වටහ': 2051, 'මඩ': 1781, 'k': 362, 'යනවද': 1868, 'මකබ': 1771, 'paw': 527, 'එවත': 1113, 'නරට': 1606, 'බණ': 1723, 'unp': 680, 'ගහනක': 1327, 'stf': 616, 'වදකග': 2057, 'ණකථ': 1446, 'enough': 262, 'is': 349, 'more': 464, 'then': 641, 'been': 167, 'ඉහල': 1004, 'ඔඩර': 1150, 'ඊර': 1010, 'රලන': 1971, 'ගව': 1317, 'අදර': 805, '60000': 88, 'මරද': 1807, 'smart': 605, 'phone': 533, 'මතකල': 1788, 'වධක': 2059, 'නකල': 1566, 'respect': 570, 'මහජන': 1824, 'නවනම': 1614, 'ගඅත': 1284, 'සලස': 2198, 'අමතක': 831, 'තතම': 1466, 'aggressive': 123, 'ආසව': 933, 'බරපතල': 1740, 'ඒච': 1131, 'චරකල': 1350, 'යගත': 1850, 'point': 542, 'කලකන': 1263, 'ෂලව': 2142, 'ඒවද': 1142, 'තනවන': 1473, 'චරක': 1349, 'ගජ': 1289, '2022': 46, 'talk': 627, 'අපක': 819, 'කඑල': 1190, 'කරනඑ': 1244, 'අතහ': 801, 'දනම': 1513, 'ගලව': 1316, 'දහය': 1544, 'jvp': 361, 'මහප': 1829, 'මහම': 1831, 'බඩජ': 1722, 'ආරකෂ': 923, 'ආසනයව': 931, 'ධයටව': 1558, 'පහරද': 1692, 'කලමන': 1266, 'අඩනව': 786, 'පලයව': 1680, 'වශ': 2101, 'එකග': 1071, 'waga': 706, 'kiyanna': 401, 'ගතකර': 1294, 'ඒද': 1133, 'රතල': 1950, 'fun': 282, 'එකනම': 1078, 'real': 563, 'යනකම': 1865, 'ළකන': 2261, 'official': 501, 'resign': 569, 'ළක': 2259, 'රවන': 1975, 'අහනව': 888, 'ගප': 1301, 'වයවස': 2080, 'ita': 352, 'pitatha': 537, 'මහල': 1835, 'බලහල': 1756, 'ජව': 1392, 'සමත': 2173, 'උඩද': 1026, 'අසමත': 880, 'ජපෂ': 1380, 'රකෂ': 1917, 'බකබ': 1714, 'කටන': 1197, 'තණ': 1463, 'අඬ': 789, 'ඨදම': 1423, 'හඩ': 2219, 'fb': 276, 'tiktok': 655, 'කඩය': 1202, 'nayata': 482, 'kahinno': 363, 'අටව': 784, 'npp': 496, 'බප': 1728, 'ඩයන': 1437, 'ජනබල': 1370, 'ඩසටහ': 1443, 'ඩසටහන': 1444, 'loan': 420, 'recognition': 564, 'එයන': 1105, 'lat': 416, 'kata': 385, 'system': 623, 'change': 187, 'හදනක': 2227, 'life': 417, 'වළ': 2114, 'hodanna': 327, 'well': 718, 'harini': 319, 'අනන': 814, 'අතඩ': 792, 'පහද': 1690, 'ලහ': 2030, 'යනවල': 1871, 'මතව': 1790, 'ආවඩ': 927, 'චත': 1341, 'තරල': 1486, '1977': 28, 'saitm': 581, 'එමන': 1101, 'කළය': 1279, 'කළහ': 1280, 'මරත': 1806, 'තණක': 1464, 'එකය': 1081, '1958ට': 26, 'පටන': 1634, 'හඬව': 2220, 'isis': 350, 'යවල': 1899, 'military': 454, 'base': 163, 'silver': 600, 'platter': 540, 'united': 678, 'nations': 479, 'ඳය': 1624, 'submarine': 620, 'අවර': 869, 'රජපස': 1929, 'vulnerable': 702, 'overseas': 509, 'courtiers': 207, 'ඔඩ': 1149, 'වචනවල': 2044, 'මසල': 1820, 'වරග': 2084, 'සහන': 2207, '2016': 43, 'යඟය': 1852, 'වගන': 2039, 'වගකර': 2037, 'යහප': 1907, 'අසර': 881, 'බම': 1730, '100': 7, 'හරණය': 2243, 'වණ': 2053, 'වරධර': 2089, 'රණන': 1944, 'යමපලන': 1881, 'මලව': 1816, 'ආරච': 924, 'ගයකකටද': 1308, 'රමද': 1964, 'ගයකටද': 1309, 'යමප': 1880, 'වරප': 2090, 'අමරත': 835, 'ඩර': 1438, 'මධ': 1792, 'ණරත': 1454, 'අතවන': 800, 'ඇගය': 937, 'හකය': 2216, '26': 56, 'ඇඳල': 950, 'අඳල': 817, 'ජයවර': 1388, 'ජනව': 1373, 'තරමටව': 1484, 'සටහ': 2151, 'rabblerousing': 556, 'mrajapakshe': 468, 'thanpath': 638, 'civil': 191, 'war': 710, 'relay': 565, 'race': 557, 'ekathamai': 257, '15000': 20, 'acres': 118, 'patalawaganne': 525, 'චකබ': 1338, 'pathirana': 526, 'boy': 175, 'an': 130, 'insult': 346, 'entire': 263, 'academics': 116, 'fm': 278, 'sms': 606, 'එවනව': 1114, '2030': 49, 'වසප': 2104, 'අශ': 876, 'රමරත': 1966, 'දඅවශ': 1503, 'නඅය': 1563, 'යනද': 1866, 'අහප': 889, 'හතර': 2223, 'ඒප': 1135, '73': 97, 'ඈදග': 965, 'ඈව': 967, 'slfp': 604, '3න': 71, 'ඔයට': 1167, 'ආයහ': 920, 'වටස': 2050, 'අරප': 854, 'රටද': 1938, 'බරදර': 1739, 'බත': 1724, 'බවස': 1758, 'නගතයත': 1571, 'බක': 1713, 'ටළ': 1421, 'යකර': 1847, 'ජස': 1394, 'රකර': 1915, 'හලච': 2249, 'දබ': 1519, 'උටන': 1024, 'ටපල': 1408, 'හළ': 2257, 'ගලන': 1314, 'එකල': 1082, 'ලඳ': 2014, 'ඟම': 1334, 'කනස': 1217, 'සමහරක': 2180, 'මරහඩ': 1812, 'රවටනව': 1974, 'වසල': 2106, 'altra': 128, 'අටපට': 783, 'සච': 2148, '71': 96, 'වගත': 2038, 'jaya': 355, 'goood': 306, 'උනන': 1039, 'video': 694, 'ada': 120, 'derana': 230, '30ග': 63, '2020': 45, 'close': 192, 'good': 304, 'luck': 425, 'work': 735, 'technology': 631, 'no': 493, 'mostly': 465, 'every': 269, 'aspects': 142, 'keep': 389, 'it': 351, 'up': 682, '07': 4, 'පහකරව': 1688, 'sar': 586, '65': 89, 'තහව': 1497, 'මරක': 1804, 'යතය': 1859, 'සසඳ': 2201, 'dawa': 220, 'මලම': 1815, 'm': 426, 'හග': 2217, 'අවනතව': 866, 'thank': 637, 's': 578, 'wewa': 724, 'maga': 431, 'balan': 154, 'setei': 594, 'obai': 498, 'ඕම': 1184, 'දවල': 1538, '2024': 48, 'පරතරය': 1663, 'mathitumanni': 443, 'ජඹ': 1383, 'buththala': 181, 'ඊල': 1011, 'seta': 593, 'we': 714, 'pray': 547, 'mother': 466, 'land': 413, 'hon': 330, 'gotabhaya': 308, 'rajapaksha': 558, 'hero': 323, 'මට': 1777, 'නනවම': 1589, 'ජනසම': 1375, 'gena': 294, 'aaaa': 114, 'අඩම': 787, 'ටටජයව': 1402, 'චයර': 1347, 'vissita': 700, 'candye': 184, 'prathipala': 546, 'කමස': 1228, 'ඉවරල': 999, '750rsකවද': 101, 'උය': 1054}\n",
            "ngram level tf-idf_Vocabulary:  {'ක ලක': 838, 'ලක ව': 3992, 'ව ස': 4359, 'ස ප': 4619, 'ප ත': 2582, 'ත ල': 1772, 'ල හ': 3974, 'නම ත': 2516, 'ත ප': 1669, 'ප ග': 2563, 'ග තම': 1136, 'තම ග': 1846, 'ග න': 1146, 'න ත': 2324, 'ත ය': 1722, 'ය ත': 3284, 'ත බ': 1689, 'බ න': 2832, 'ව ස ප': 4368, 'ස ප ත': 4621, 'ප ත ල': 2590, 'ත ල හ': 1777, 'ත ප ග': 1672, 'ග න ත': 1151, 'න ත ය': 2336, 'ය ත බ': 3287, 'ත බ න': 1693, 'ඉල ල': 366, 'ල ස': 3967, 'ස පය': 4627, 'හ ද': 4843, 'ද න': 2018, 'න න': 2367, 'ත ත': 1637, 'ත රස': 1770, 'ද ව': 2115, 'ව ද': 4198, 'ද ඕ': 1944, 'ඕ ද': 634, 'න යම': 2426, 'ය ව': 3339, 'ද ය': 2073, 'ව ත': 4178, 'ත ව': 1779, 'ව න': 4224, 'අඩ ව': 94, 'ව ග': 4121, 'යන න': 3377, 'කරන න': 1063, 'න ක': 2284, 'ක ත': 713, 'බ ද': 2814, 'ද ධ': 2008, 'ත ඕ': 1604, 'ඕ න': 636, 'හ ද න': 4848, 'ද න න': 2024, 'න න න': 2374, 'න න ත': 2372, 'න ත ත': 2330, 'ද ව ද': 2121, 'ඕ ද න': 635, 'ත ය ව': 1737, 'ය ව ද': 3341, 'ව ද ය': 4205, 'ද ය ව': 2085, 'ව ත ත': 4179, 'ත ත ව': 1648, 'ත ව න': 1786, 'ක ත බ': 717, 'ත බ ද': 1692, 'බ ද ධ': 2819, 'තය ප': 1866, 'ප න': 2607, 'උත සවය': 408, 'ස ර': 4660, 'ර ථ': 3539, 'ථ කර': 1905, 'කර අන': 958, 'අන ව': 132, 'ව ර': 4304, 'ර යය': 3621, 'සජ ප': 4749, 'ප ර': 2634, 'ර මද': 3611, 'මද ස': 3184, 'ආන ඩ': 287, 'සම ප': 4766, 'ර ණය': 3520, 'ජනත ව': 1368, 'ද ප': 2036, 'ප ලනය': 2699, 'න ම': 2400, 'තය ප න': 1868, 'ස ර ථ': 4663, 'ර ථ කර': 3540, 'අන ව ර': 133, 'ව ර යය': 4310, 'සජ ප ර': 4750, 'ප ර මද': 2646, 'ර මද ස': 3612, 'සම ප ර': 4767, 'ප ර ණය': 2640, 'ජනත ව ද': 1371, 'ව ද ප': 4203, 'ග න ම': 1156, 'ථ ව': 1906, 'න ය': 2418, 'ත ම': 1704, 'ර ථ ව': 3542, 'ය ත ම': 3288, 'රට ස': 3720, 'ඉ බ': 336, 'බ ර': 2860, 'ර උන': 3442, 'ස ම': 4637, 'ම ක': 2965, 'පක ෂ': 2736, 'ෂ ප': 4520, 'ප බ': 2625, 'බ හ': 2883, 'හ ර': 4890, 'ර කරල': 3476, 'ප රය': 2671, 'ජ ග': 1328, 'ග ත': 1130, 'ත ච': 1630, 'ද ශප': 2136, 'ශප ල': 4501, 'පස ස': 2782, 'ස න': 4611, 'න ග': 2306, 'ග හ': 1206, 'භ ග': 2924, 'වහන ස': 4471, 'ශ ස': 4498, 'ස ද': 4601, 'ය ක': 3254, 'ක රක': 814, 'කර ණ': 996, 'ණ ක': 1556, 'ක යල': 783, 'යල ද': 3394, 'ද බ': 2053, 'ප රව': 2673, 'ගත ත': 1217, 'ස ක': 4555, 'ක ශ': 870, 'ශ ත': 4483, 'ත කර': 1622, 'කර ග': 987, 'ස එක': 4551, 'එක ව': 482, 'කටය ත': 919, 'කර ප': 1018, 'ප රශ': 2676, 'ග ටල': 1120, 'න ව': 2436, 'ව ක': 4084, 'යල ම': 3399, 'ම ප': 3066, 'ප ද': 2594, 'ද ගල': 1970, 'ඉ බ ර': 337, 'බ ර උන': 2862, 'බ හ ර': 2885, 'ද ශප ල': 2137, 'න ග හ': 2312, 'ස ද ය': 4607, 'ද ය ක': 2074, 'ය ක රක': 3262, 'ක යල ද': 787, 'ද බ ද': 2054, 'ස ක ශ': 4560, 'කටය ත කර': 920, 'කර ප රශ': 1021, 'න ව ක': 2440, 'ව ක යල': 4097, 'ක යල ම': 790, 'ම ප ද': 3069, 'ප ද ගල': 2596, 'ඔක ක': 569, 'ක කල': 687, 'ය හ': 3354, 'හ ම': 4869, 'ම ද': 3025, 'ද ර': 2090, 'ර ත': 3521, 'ත තම': 1650, 'පන සල': 2749, 'ර එක': 3445, 'එක ක': 475, 'ක කර': 685, 'කර හ': 1056, 'ර ද': 3543, 'හද ග': 4936, 'ග ක': 1105, 'ක ලය': 847, 'ලය ද': 4020, 'ද ම': 2057, 'ක ස': 876, 'ස ව': 4685, 'ර ප': 3577, 'රව කර': 3771, 'ප ල': 2683, 'ව ඩ': 4156, 'ව තර': 4190, 'තර න': 1882, 'ක උන': 657, 'උන ද': 418, 'ද එක': 1938, 'අන ත': 119, 'ව ප': 4247, 'ප ස': 2717, 'ස ස': 4707, 'හ ය': 4884, 'ය ය': 3332, 'ව රද': 4317, 'රද ල': 3743, 'ල ව': 3945, 'ස ල': 4679, 'ව භ': 4271, 'ද රජ': 2102, 'ක ය': 766, 'ය ගත': 3275, 'ල ල': 3934, 'ව හ': 4381, 'ර ස': 3658, 'රව ග': 3772, 'ග ස': 1203, 'ස ට': 4582, 'ට එ': 1419, 'ය හ ම': 3357, 'හ ම ද': 4871, 'ම ද ර': 3034, 'ව ර ද': 4307, 'ක ලය ද': 850, 'ද ම ක': 2058, 'ම ක ස': 2977, 'ක ස ව': 883, 'ස ව ර': 4692, 'ව ර ප': 4308, 'කර ප ල': 1022, 'ව තර න': 4195, 'ත ව ප': 1787, 'ව ප ස': 4257, 'ප ස ස': 2721, 'ල ව ස': 3960, 'ව ස ල': 4370, 'බ ද රජ': 2824, 'ස ල ල': 4682, 'ව හ ර': 4389, 'ර ස ව': 3665, 'ප රව ග': 2674, 'ස ට එ': 4583, 'ර වන': 3652, 'ඇග බ': 307, 'බ රග': 2872, 'අය ව': 218, 'බ රගත': 2873, 'යනව ම': 3383, 'ම ව': 3128, 'ව ඉද': 4057, 'ඉද ර': 354, 'ද ර වන': 2101, 'ර ද න': 3557, 'න ය හ': 2420, 'ඉද ර ප': 355, 'ර ප න': 3580, 'ප න ව': 2613, 'ව ය': 4288, 'ය ස': 3349, 'න ක ය': 2290, 'හර ව': 4974, 'ද ද': 1989, 'ව ද ද': 4200, 'ද ස': 2148, 'ස කර': 4564, 'න ද': 2343, 'ද ද ස': 2001, 'න ද බ': 2352, 'ආග ආරක': 278, 'ආරක ෂ': 301, 'ෂ කර': 4513, 'කර ක': 978, 'යල න': 3396, 'න හ': 2492, 'හ බ': 4867, 'රට ම': 3715, 'ම න': 3047, 'න ස': 2472, 'රශ න': 3780, 'බ ත': 2812, 'ත මත': 1719, 'මත ද': 3176, 'ද නග': 2033, 'ඩ ව': 1533, 'ව බ': 4264, 'ද ල': 2110, 'ල ත': 3880, 'ය න': 3307, 'ෂ ර': 4524, 'ර ක': 3450, 'ක ඒ': 662, 'ජ වත': 1357, 'වත ව': 4424, 'ව ම': 4274, 'ආග ආරක ෂ': 279, 'ආරක ෂ කර': 302, 'කර ක යල': 980, 'ක යල න': 788, 'න හ බ': 2499, 'රට ම න': 3716, 'ම න ස': 3057, 'න ස ස': 2486, 'ප රශ න': 2678, 'ආන ඩ ව': 288, 'ඩ ව බ': 1536, 'ව බ ර': 4267, 'බ ර ද': 2866, 'ර ද ල': 3563, 'ද ල ත': 2112, 'ල ත ය': 3883, 'ත ය න': 1732, 'ය න න': 3309, 'න න හ': 2383, 'ජ වත ව': 1358, 'වත ව ම': 4425, 'ව ම ප': 4281, 'ද ත': 1983, 'අවද නය': 250, 'ම ව ස': 3138, 'ව ස ද': 4366, 'ස ද ව': 4608, 'ද ව ක': 2117, 'පත ර': 2743, 'ර ර': 3622, 'ක ව': 852, 'ස යල': 4653, 'යල ල': 3405, 'ල බ': 3909, 'ද දහම': 2007, 'කර ඔව': 975, 'ඔව න': 618, 'ණය ව': 1573, 'ක ර': 797, 'ර කර': 3470, 'පමණ න': 2752, 'ඉත හ': 351, 'හ සය': 4925, 'ග ස ස': 1205, 'ස ස ර': 4721, 'ස ර ප': 4666, 'ර ප ර': 3582, 'ප ර ර': 2648, 'ස යල ල': 4657, 'ල බ ද': 3912, 'බ ද දහම': 2818, 'ව ක ර': 4098, 'ක ර කර': 801, 'පමණ න ව': 2753, 'න ව ය': 2451, 'ඉත හ සය': 352, 'අප අප': 140, 'අප ආග': 143, 'ඉන නව': 363, 'නව න': 2534, 'ඔ ව': 568, 'ම ඩ': 3002, 'ඩ අය': 1489, 'ඒ ප': 537, 'ල ග': 3865, 'ව ශ': 4354, 'ශ ව': 4494, 'කර ඒ': 971, 'ඒ ම': 538, 'ම හ': 3152, 'හ ත': 4829, 'ත ඒ': 1598, 'ව අය': 4040, 'අය ම': 215, 'ම ත': 3008, 'ත යද': 1741, 'ශ ට': 4482, 'තත ත': 1829, 'ව ව': 4334, 'ව ට': 4142, 'ට අප': 1405, 'අප ග': 151, 'ග ව': 1190, 'න br': 2250, 'br අප': 14, 'ආරක ශ': 300, 'ශ කර': 4476, 'තම ම': 1855, 'ම ලය': 3127, 'ලය ම': 4022, 'ම අප': 2943, 'අප ව': 183, 'අද ල': 106, 'අප අප ආග': 141, 'න ක ස': 2296, 'ව ම ඩ': 4277, 'ප ල ග': 2685, 'ල ග න': 3867, 'ග න හ': 1161, 'න හ ම': 2500, 'හ ම ව': 4878, 'ව ශ ව': 4357, 'ශ ව ස': 4495, 'ව ස කර': 4363, 'ඒ ම හ': 541, 'ම හ ත': 3153, 'ත ව ව': 1791, 'ව ව න': 4340, 'ලන ක': 4005, 'ක න': 727, 'න මහ': 2417, 'මහ ය': 3222, 'රය බ': 3766, 'ද දහ': 2006, 'කර ත': 998, 'ත රව': 1768, 'රව ද': 3773, 'ප වත': 2714, 'බ ද දහ': 2817, 'ත රව ද': 1769, 'ද ප ර': 2042, 'ප ර ස': 2651, 'ර ස ද': 3661, 'ය ත ය': 3289, 'නය ප': 2522, 'ප ය': 2631, 'ඉද ද': 353, 'ඉක ම': 343, 'හම ද': 4940, 'ර ව': 3633, 'හ රක': 4902, 'ඩ ත': 1510, 'ද මත': 2066, 'මත උන': 3169, 'ම ව ඩ': 3131, 'ද ර ව': 2100, 'ර ව හ': 3649, 'ඩ ත බ': 1511, 'බ න ද': 2834, 'ල ක': 3841, 'ක ක': 668, 'ක එ': 658, 'එ අප': 440, 'අප හ': 187, 'හ න': 4855, 'ස ල ක': 4680, 'ල ක ක': 3843, 'අප හ න': 188, 'හ න ද': 4858, 'න ද ර': 2355, 'ය ඕන': 3253, 'ඕන ක': 648, 'න ට': 2322, 'කර අය': 962, 'අය ත': 207, 'බ ද ප': 2821, 'ස ක ත': 4556, 'ක ත ය': 719, 'ව ව ව': 4345, 'ත ත ය': 1646, 'ත ය ක': 1728, 'ස බ': 4630, 'බ බ': 2843, 'ධ ප': 2223, 'ප ලක': 2693, 'රට බලය': 3714, 'න ඒක': 2278, 'රශ නය': 3781, 'ය ද': 3293, 'ද ෂ': 2143, 'ට ක': 1422, 'බ බ ද': 2848, 'ද ධ ප': 2010, 'ප රශ නය': 2679, 'ම ත ය': 3014, 'ත ය ද': 1731, 'ම මහ': 3092, 'නය න': 2521, 'හ ර ද': 4895, 'ර ද ම': 3560, 'ධ ග': 2215, 'ඩ ප': 1522, 'ඉ හ': 341, 'ය ප': 3314, 'ඒ ග': 526, 'න කත': 2298, 'කත කර': 928, 'ග ව ඩ': 1192, 'ව ඩ ප': 4166, 'ප ර ව': 2650, 'ර ව න': 3642, 'ව න ස': 4237, 'න ස කර': 2476, 'ඉ හ ම': 342, 'ග හ ය': 1211, 'න කත කර': 2299, 'ර ජ': 3502, 'ජ න': 1342, 'ද හ': 2162, 'හ ව': 4912, 'හ ක': 4804, 'ක ල': 823, 'ර ය': 3615, 'වල ප': 4458, 'ය එහ': 3248, 'එහ ද': 518, 'ෂ ඨ': 4516, 'අධ ය': 107, 'ය ඒ': 3249, 'ද පර': 2048, 'ය ට': 3281, 'ට ඨ': 1441, 'මහ ක': 3213, 'ම ස': 3143, 'ප රත': 2660, 'ය එ': 3244, 'එ ක': 445, 'ත වය': 1800, 'වය හම': 4443, 'ර මත': 3610, 'වර ථම': 4446, 'එ ව': 465, 'ආණ ඩ': 281, 'ඹ ර': 3231, 'ර හ': 3672, 'ර අප': 3427, 'රත ක': 3732, 'ර තත': 3535, 'තත වය': 1831, 'ද ක': 1946, 'උද ඝ': 410, 'ඝ ෂණ': 1276, 'ත ඇත': 1587, 'ඇත ම': 312, 'අවස ථ': 258, 'ය ගය': 3278, 'ජ න ත': 1343, 'න ත ම': 2335, 'ත ම ද': 1711, 'ම ද හ': 3038, 'ක ල ක': 826, 'ක ක ර': 674, 'ක ර ය': 808, 'ත ම ප': 1713, 'ම ප ල': 3072, 'ය එ ක': 3245, 'ය ක ර': 3261, 'ක ර ත': 802, 'ර ත වය': 3534, 'ත වය හම': 1802, 'ස යල ද': 4654, 'ර හ ර': 3678, 'ර තත වය': 3536, 'ස ද ධ': 4604, 'ද ක ර': 1952, 'උද ඝ ෂණ': 411, 'හ ර ව': 4900, 'ර ව බ': 3643, 'ව බ හ': 4268, 'ර ව ය': 3645, 'ව ය ත': 4290, 'අවස ථ ව': 259, 'න ව න': 2445, 'ව න ද': 4229, 'න ද ප': 2351, 'තර ස': 1891, 'ග ප': 1163, 'න වත': 2459, 'වත ද': 4422, 'ද ග': 1959, 'ග ග': 1109, 'ග ද': 1137, 'ග කත': 1107, 'කර ජනත': 993, 'ම ල': 3118, 'ත මහ': 1721, 'මහ න': 3215, 'ම වර': 3141, 'වර ද': 4447, 'ව එ': 4063, 'එ ල': 464, 'ල ද': 3886, 'ය br': 3232, 'br ම': 27, 'ත ස': 1808, 'ධ න': 2221, 'ව ධ': 4220, 'ත ර': 1747, 'ර ග': 3484, 'ම ළ': 3165, 'ළ ප': 4995, 'ව ම න': 4280, 'ද ග ග': 1960, 'කර ජනත ව': 994, 'ජනත ව ම': 1373, 'ව ම ල': 4283, 'ම ල ව': 3126, 'ල ව බ': 3955, 'මහ න ය': 3217, 'ද න ව': 2029, 'න ව ම': 2449, 'ව ම ද': 4279, 'ල ද ය': 3889, 'ම ත ත': 3009, 'න ව ස': 2456, 'ව ස ව': 4371, 'ස ව ධ': 4689, 'ත ම ක': 1706, 'ම ක ර': 2974, 'ර ය ද': 3617, 'ත ර ග': 1750, 'තම ව': 1859, 'ඉ ම': 338, 'ල ප': 3898, 'ම ල ප': 3122, 'ල ප ර': 3902, 'ක න ත': 729, 'න ත ර': 2337, 'ත ර ත': 1751, 'ම තන': 3018, 'ර න': 3567, 'ක හ': 887, 'ධ ර': 2230, 'බ ධ': 2831, 'ස ජ': 4577, 'ජ ත': 1332, 'ත ද': 1652, 'ක ප': 739, 'වක ව': 4398, 'ආ ක': 276, 'එ බ': 460, 'ද කර': 1957, 'ය ම': 3326, 'වග ක': 4399, 'ර ම': 3600, 'හ අන': 4795, 'ත න': 1656, 'න කර': 2302, 'ද හ ම': 2163, 'ද ර න': 2095, 'ර න ක': 3568, 'න ක හ': 2297, 'ක හ ම': 893, 'ක ස ද': 878, 'ස ජ ත': 4579, 'ත ද ව': 1654, 'ව ක ප': 4092, 'වග ක ව': 4401, 'ක ව ය': 865, 'ය ත ත': 3285, 'ද ර ම': 2097, 'ර ම ල': 3607, 'බ ද ව': 2825, 'න ත න': 2332, 'ත න ම': 1663, 'න ම ව': 2411, 'ප ළ': 2729, 'උද ර': 412, 'ස ප ල': 4625, 'රට ක': 3702, 'ම කර': 2985, 'ම රට': 3114, 'රට ප': 3713, 'ද ධය': 2014, 'ධය න': 2246, 'ව br': 4029, 'ස ත': 4586, 'ස මත': 4645, 'ද ගලය': 1973, 'ර ය ත': 3616, 'ත ම කර': 1707, 'කර ක හ': 982, 'හ ම රට': 4877, 'බ ද ධය': 2820, 'ද ධය න': 2016, 'ධය න ව': 2248, 'ක ර ස': 812, 'ර ස ත': 3660, 'ස ත ය': 4591, 'ප ද ගලය': 2597, 'හ මද': 4880, 'න ඩ': 2323, 'ඩ එප': 1491, 'එප බ': 497, 'ස ස න': 4716, 'ද බ ර': 2055, 'ජ ය': 1346, 'ව යද': 4296, 'න ලධ': 2434, 'ලධ ර': 4004, 'අනවශ ය': 136, 'යද ව': 3372, 'ශ ර': 4489, 'ජන ධ': 1365, 'ධ පත': 2225, 'වර ව': 4449, 'ර ල': 3630, 'ල ම': 3919, 'අඩ ක': 88, 'ර තම': 3537, 'තම කර': 1845, 'කර ඕන': 977, 'ර ජ ය': 3504, 'ජ ය ස': 1347, 'ය ස ව': 3351, 'ස ව ව': 4693, 'කර ත ය': 1001, 'ය ද ශප': 3303, 'න ලධ ර': 2435, 'ව යද ව': 4297, 'ව ශ ර': 4355, 'ජන ධ පත': 1367, 'ප ර ල': 2649, 'ර ල ම': 3632, 'ල ම න': 3921, 'ම න ත': 3050, 'කර ඕ': 976, 'ඕ ක': 629, 'තම ර': 1857, 'ස වකය': 4697, 'ය ස වකය': 3352, 'ය අප': 3235, 'ඩය ත': 1553, 'රස ත': 3784, 'ජන ධ ප': 1366, 'ථ ව න': 1907, 'න ද ය': 2354, 'ද ය ත': 2077, 'ක උ': 655, 'උ ව': 390, 'ට ගහ': 1435, 'ගහ ත': 1266, 'ල කර': 3862, 'ඒ ව': 545, 'ග ණය': 1129, 'ඩ කල': 1502, 'ඒ මත': 542, 'මත න': 3178, 'ව ට ගහ': 4144, 'ත න ග': 1658, 'ව ඩ කල': 4160, 'ව වට': 4351, 'වට ට': 4413, 'ට ම': 1461, 'න මර': 2415, 'අධ ර': 110, 'ය හද': 3358, 'ල ක ව': 3856, 'ට ම න': 1462, 'ම න මර': 3054, 'ආර ථ': 297, 'සහ ත': 4789, 'ත රට': 1759, 'ස කච': 4561, 'න යකය': 2424, 'ආර ධ': 299, 'උන කර': 414, 'රන ල': 3749, 'ව නස': 4242, 'ප ල බ': 2687, 'ද න ත': 2022, 'රන ල ත': 3751, 'ස රය': 4676, 'රය ස': 3769, 'ස එ': 4549, 'බ නව': 2839, 'එ න': 455, 'සල ල': 4779, 'ල ජ': 3873, 'ජ ප': 1344, 'ප ප': 2616, 'ජ ප ප': 1345, 'ල අප': 3801, 'ල වල': 3966, 'හ ල': 4906, 'සල ල වල': 4783, 'ග හ ල': 1213, 'ල කව': 3864, 'අව ව': 246, 'ස ය': 4650, 'ය ර': 3334, 'ද ඩ': 1981, 'ඩ ස': 1539, 'ස ළ': 4741, 'ළ ක': 4987, 'ක ණ': 711, 'ණ ට': 1559, 'ට හ': 1478, 'ට ස': 1477, 'බ දහ': 2830, 'හ ට': 4819, 'අව ව ව': 247, 'ව ව ස': 4346, 'ව ස ස': 4373, 'ස ස ය': 4720, 'ස ය ර': 4652, 'ස ස ද': 4715, 'ස බ දහ': 4631, 'බ ම': 2856, 'න දහස': 2363, 'දහස ව': 2211, 'ඔබ න': 584, 'ල මන': 3925, 'හ ඳ': 4861, 'ඳ ම': 2546, 'කම න': 949, 'ස බ ම': 4632, 'ම හ න': 3155, 'න දහස ව': 2365, 'න ස ල': 2484, 'කම න ට': 950, 'ර ප ල': 3583, 'ලක ක': 3987, 'ස වය': 4702, 'ක හ ර': 896, 'ය ස වය': 3353, 'ම ඩය': 3005, 'කර ම': 1031, 'ල අම': 3802, 'අම ර': 199, 'ර වට': 3650, 'කර ම ල': 1034, 'ල අම ර': 3803, 'ට ප': 1452, 'ප ව': 2703, 'නස ව': 2541, 'න ඒ': 2277, 'අවශ ය': 251, 'ය පනය': 3322, 'ඉන ධ': 360, 'ධ ද': 2220, 'ද මන': 2067, 'මන ව': 3190, 'කල ල': 1085, 'වය ග': 4436, 'ග ය': 1176, 'න අන': 2256, 'අත ව': 103, 'අන න': 123, 'ල එක': 3826, 'ව ට ප': 4149, 'ට ප ව': 1454, 'ව නස ව': 4244, 'අවශ ය න': 252, 'ය න ව': 3311, 'න ව ද': 2444, 'ය ව න': 3342, 'ව න න': 4230, 'අධ ය පනය': 109, 'ල ව ද': 3951, 'න ස ම': 2481, 'ස ව ට': 4686, 'ර ව ට': 3637, 'ජනය කර': 1377, 'කර උ': 965, 'කර ද': 1003, 'ම ම': 3085, 'න හර': 2506, 'රජ ස': 3694, 'වල ක': 4452, 'ය නව': 3313, 'කර ද ම': 1006, 'ද ම ම': 2061, 'ම ම න': 3086, 'ද ත ය': 1986, 'ක හ ව': 898, 'හ ව ද': 4914, 'ව ද ක': 4199, 'ත ය නව': 1733, 'ද ක ල': 1953, 'ක ල ල': 834, 'ල ල ක': 3935, 'ල ක ල': 3855, 'හ හම': 4931, 'එල ල': 507, 'ල අය': 3804, 'අය ග': 206, 'යල හ': 3408, 'හ තල': 4842, 'ග ඨ': 1121, 'හම ද ව': 4941, 'ව ද න': 4201, 'න න ම': 2377, 'ක යල හ': 793, 'ක ම': 754, 'ම ය': 3093, 'ය ල': 3336, 'ල ජනත': 3876, 'ම ර': 3098, 'ර කල': 3478, 'ක ට': 699, 'ට ට': 1438, 'ට ග': 1433, 'ප ර ක': 2636, 'ර ක ම': 3455, 'ම ය ල': 3095, 'ල ජනත ව': 3877, 'ව ම ර': 4282, 'ම ර කල': 3101, 'සල ල ක': 4780, 'ල ක ට': 3846, 'අන වර': 134, 'ඔ න': 564, 'ව පව': 4263, 'ශ වර': 4496, 'සත ව': 4758, 'ස ඛ': 4568, 'අව ල': 243, 'ත ග': 1625, 'න ත ග': 2329, 'ධ හම': 2237, 'රට ජනත': 3708, 'ව තම': 4187, 'ව කරන': 4117, 'න ඕ': 2283, 'ඕ ඒ': 627, 'හ ප': 4865, 'ප ලකය': 2695, 'අප ප': 162, 'ත ර ව': 1756, 'ර ව ධ': 3641, 'ව ධ හම': 4222, 'ධ හම ද': 2238, 'ස ම න': 4639, 'ම න ය': 3055, 'රට ජනත ව': 3709, 'ර ක ය': 3456, 'ක ය ව': 776, 'ව කරන න': 4118, 'ම හ ප': 3157, 'අප ප න': 163, 'ප න හ': 2615, 'br ස': 38, 'ක ලකන': 844, 'ලකන න': 3998, 'න ඔහ': 2282, 'ඔහ ම': 621, 'ද br': 1912, 'br ප': 25, 'ත හ': 1816, 'ක ලකන න': 845, 'ව ඩ ත': 4162, 'ප ර ත': 2641, 'ත හ ත': 1818, 'හ ත ත': 4833, 'ක ග': 688, 'ග ලම': 1189, 'නව බ': 2536, 'ද ජ': 1975, 'ජ ව': 1350, 'ඩ කර': 1497, 'පව ල': 2779, 'ග වල': 1199, 'වල න': 4457, 'බ ම ව': 2858, 'ම ව ද': 3132, 'ජ ව ත': 1351, 'ව ඩ කර': 4159, 'පව ල අය': 2780, 'ම න ව': 3056, 'න ව ග': 2441, 'ග වල න': 1201, 'යක ම': 3364, 'br අන': 13, 'අන ම': 126, 'රස ස': 3794, 'ළ ර': 4996, 'වය කර': 4435, 'කර ය': 1037, 'ස ස කර': 4710, 'ස න ව': 4615, 'ද ව න': 2122, 'ව න ත': 4228, 'න ත ව': 2338, 'ත ව ර': 1789, 'ප පත': 2622, 'ම දල': 3042, 'ඉග ගත': 346, 'ත එව': 1597, 'උප ධ': 426, 'කත ව': 930, 'පත ත': 2741, 'එව ප': 514, 'ර හල': 3682, 'කර ද ප': 1005, 'ද ප පත': 2041, 'ඉග ගත ත': 347, 'න ම ල': 2410, 'කත ව න': 931, 'අන ත ම': 120, 'ම ද ප': 3030, 'ල ප ස': 3905, 'කල ද': 1074, 'ක ටස': 703, 'ශ ල': 4491, 'රශ ව': 3782, 'ක ෂ': 871, 'ෂ ත': 4517, 'ව ශ ල': 4356, 'ල ක ර': 3854, 'ප රශ ව': 2680, 'ව ක ෂ': 4105, 'ශ ල ව': 4493, 'ල ව ට': 3947, 'ප හ': 2724, 'න ගහප': 2314, 'ත ප හ': 1683, 'හ න ගහප': 4856, 'ම බල': 3084, 'බල ල': 2916, 'ල අව': 3806, 'අව ර': 241, 'ර වර': 3654, 'ල ඉල': 3819, 'ල අර': 3805, 'අර ම': 227, 'ක බල': 752, 'ක යන': 777, 'ස දර': 4610, 'ප ට': 2571, 'ට ල': 1471, 'ර ඕ': 3448, 'අව ර ද': 242, 'ර ද ද': 3554, 'ද ද ප': 1996, 'ක බල ල': 753, 'ල ම ක': 3920, 'ම ක යන': 2972, 'ල ප ට': 3899, 'ග හ ම': 1210, 'හ ම ර': 4876, 'ග ඩ': 1123, 'ඩ ජ': 1507, 'ත ක': 1605, 'ඳ ප': 2545, 'ප ප ල': 2621, 'ප ල ත': 2686, 'ත ක හ': 1615, 'හ ඳ ප': 4863, 'මග ල': 3167, 'ඉ ප': 335, 'ලක ෂ': 3993, 'ෂ වර': 4529, 'කර අප': 959, 'අප ම': 170, 'ම කල': 2987, 'කල න': 1075, 'ස හ': 4730, 'හ ඒ': 4803, 'ඒ ඒ': 523, 'ඒ ත': 528, 'ජන ද': 1361, 'තම ඔක': 1841, 'හ සරදය': 4926, 'න මත': 2414, 'මත ව': 3179, 'ද එ': 1937, 'හ නය': 4860, 'නය ස': 2524, 'බ ව': 2878, 'කර ද ය': 1007, 'ද ය න': 2079, 'ය න හ': 3312, 'අව ල ත': 244, 'ත ය ප': 1734, 'ත ය ස': 1738, 'ඒ ත ර': 530, 'ත ර න': 1753, 'ක ව න': 862, 'ර ත ත': 3523, 'තම ඔක ක': 1842, 'ඔක ක ම': 571, 'ක ම ර': 759, 'ද ද එ': 1990, 'ස හ නය': 4734, 'බ ව න': 2880, 'න ද br': 2344, 'නවත ත': 2539, 'ත එප': 1596, 'ව ඒක': 4070, 'ධ ක': 2213, 'ක රය': 820, 'ම ග': 2990, 'ඛ ය': 1097, 'ඒ අප': 522, 'අප රට': 177, 'වය ද': 4437, 'වල ද': 4456, 'ඩ න': 1516, 'ය ම න': 3328, 'ම න හ': 3058, 'න හ ත': 2496, 'ස ස ත': 4714, 'ස ත ර': 4592, 'ත ර කර': 1749, 'ග ව ත': 1193, 'ව ත ය': 4185, 'ස ඛ ය': 4569, 'ඛ ය ස': 1098, 'ක ම න': 758, 'ස න ම': 4614, 'ම ල ල': 3125, 'ල ල බ': 3939, 'ය න ම': 3310, 'න ම ය': 2408, 'අප රට ම': 180, 'ස වය ද': 4704, 'බ ර න': 2867, 'ර න ද': 3571, 'ර ම දල': 3604, 'ද ව ඩ': 2118, 'ව ඩ න': 4165, 'අහ ස': 271, 'අසරණ ම': 265, 'අසරණ ම න': 266, 'ස ජ ව': 4580, 'ත ක ර': 1610, 'ක ර ව': 811, 'ඔබ න ද': 585, 'න ද ද': 2349, 'පඩ ග': 2739, 'ව අප': 4037, 'කට ක': 908, 'ඕ ම': 638, 'ස බඩග': 4633, 'අරගල කර': 228, 'ධ ව': 2235, 'පඩ ග ව': 2740, 'ඕ ම න': 639, 'ස ස බඩග': 4718, 'කර ම ව': 1035, 'ම ව ව': 3136, 'උප ද': 425, 'ම සම': 3149, 'ව සම': 4377, 'සම ද': 4765, 'ද එතක': 1939, 'ඔහ ව': 622, 'අම ම': 198, 'ස තර': 4598, 'ධ ත': 2218, 'බ ය': 2859, 'ත සම': 1814, 'දය ත': 2181, 'ඩ ර': 1528, 'ක රමය': 817, 'ම සය': 3150, 'ඩ තවම': 1513, 'තවම සය': 1903, 'සය ව': 4776, 'සය බ': 4775, 'එක ස': 483, 'ඩ ද': 1515, 'ද එව': 1941, 'එව හ': 517, 'බ අ': 2789, 'අ ප': 69, 'ස අය': 4546, 'ද ස ද': 2153, 'ස ද ස': 4609, 'ව න හ': 4238, 'න හ ව': 2504, 'හ ව න': 4915, 'ම ද ස': 3037, 'ද ස තර': 2151, 'න න ව': 2381, 'ත බ ය': 1698, 'ද ස ක': 2149, 'ද ප ළ': 2046, 'ව ව ඩ': 4337, 'ම ද ම': 3031, 'හ ව ඩ': 4913, 'ව ඩ තවම': 4163, 'ඩ තවම සය': 1514, 'න ව ඩ': 2442, 'ස ර ග': 4662, 'ව ඩ ව': 4170, 'ව ද හ': 4212, 'ම ර ස': 3113, 'ව ඩ ද': 4164, 'ම ස ද': 3145, 'අ ප ස': 70, 'රස ස ව': 3795, 'ත රණ': 1760, 'රණ ක': 3726, 'ද අහ': 1925, 'ස ජනත': 4581, 'අහ ස ජනත': 272, 'එක ග': 477, 'ට ර': 1469, 'ර සල': 3671, 'ල ක ම': 3852, 'ක ස ස': 884, 'ස ස හ': 4725, 'ව ය ප': 4294, 'ය ප ර': 3318, 'ව ට ට': 4145, 'ර ප ව': 3585, 'ප ව ද': 2706, 'ද හ ර': 2164, 'ර බ': 3588, 'බ ස': 2882, 'ක න ව': 734, 'න හ ද': 2497, 'ල න': 3890, 'ර ණ': 3517, 'ල න ස': 3896, 'න ස ව': 2485, 'ක හ මද': 894, 'ප ර ණ': 2639, 'ර ණ ක': 3518, 'ක හර': 902, 'හර ක': 4952, 'හර ද': 4961, 'ක හර ක': 903, 'ශප ලනය': 4507, 'කර ර': 1039, 'ග ද ශප': 1138, 'ද ශප ලනය': 2141, 'ර හ ත': 3674, 'හ ත ප': 4836, 'හ ස': 4921, 'ට දවස': 1447, 'ව ජන': 4135, 'ප කර': 2559, 'ව උ': 4060, 'උ තම': 381, 'තම ක': 1844, 'රන ල ව': 3756, 'ව ජන ධ': 4136, 'ප කර ක': 2560, 'ස ස ව': 4722, 'අය කර': 204, 'ප ලව': 2702, 'එ දවස': 453, 'දවස ද': 2203, 'ය ණ': 3282, 'ණ රට': 1568, 'රට කර': 3705, 'ක ව එ': 855, 'ව එ දවස': 4064, 'එ දවස ද': 454, 'දවස ද ය': 2204, 'ද ය ණ': 2076, 'ය ණ රට': 3283, 'න ත ප': 2333, 'ප ම': 2626, 'ර දවස': 3566, 'තම අප': 1839, 'රට න': 3712, 'ත ප ම': 1678, 'ප ම ර': 2628, 'අප රට න': 178, 'අප ල': 182, 'ල එ': 3825, 'එ ද': 451, 'ද බල': 2056, 'බල ග': 2908, 'ග ඉ': 1102, 'ඉ ත': 329, 'ඡන ද': 1318, 'ද ඉල': 1934, 'ව සහ': 4380, 'ප ඔක': 2552, 'බල ග ඉ': 2909, 'ත ප ඔක': 1670, 'ප ඔක ක': 2553, 'හ ර ක': 4891, 'ප රන': 2667, 'ක රමස': 818, 'රමස හ': 3760, 'අප ස': 186, 'සහය ගය': 4793, 'ලබ ද': 4011, 'ප රන ල': 2668, 'ල ව ක': 3946, 'ව ක රමස': 4100, 'ක රමස හ': 819, 'ත ත ම': 1645, 'ත ම අප': 1705, 'ලබ ද ය': 4012, 'බ ක': 2799, 'ක ඩ': 704, 'ක ක ඩ': 671, 'ජන දය': 1363, 'හම බ': 4942, 'බ කත': 2804, 'කර එ': 966, 'තර br': 1871, 'ව අන': 4035, 'ම කක': 2979, 'ගහ අන': 1257, 'ඡන දය': 1320, 'දය න': 2183, 'ත ඉ': 1589, 'කර ව': 1045, 'ව ල': 4325, 'br ව': 36, 'ගම ය': 1243, 'ඉ උ': 324, 'උ හ': 393, 'ඔච චර': 575, 'ව තර br': 4191, 'න ත ඉ': 2325, 'කර ව ඩ': 1046, 'ප ල ව': 2689, 'ල ව ල': 3958, 'br ව ම': 37, 'න br ම': 2251, 'ර අල': 3430, 'අල ල': 234, 'ර අල ල': 3431, 'ර ට': 3512, 'එ හ': 471, 'ප ද ර': 2602, 'ස ද න': 4605, 'හ ගහප': 4815, 'ට ත': 1442, 'සල ල බ': 4782, 'ව ට ත': 4146, 'ල ව ඩ': 3948, 'ව ත න': 4181, 'බල ඉ': 2907, 'සත ට': 4752, 'ට කර': 1431, 'අ ශ': 78, 'ස ගහ': 4574, 'ගහ ර': 1270, 'ඩ ක': 1492, 'ල ආච': 3812, 'ස අන': 4543, 'ක එව': 661, 'එව න': 513, 'වර ය': 4448, 'br br': 12, 'අච චර': 87, 'චර ප': 1312, 'ප ඩ': 2578, 'න ශ': 2467, 'ශ ද': 4484, 'ද අර': 1921, 'ද අන': 1916, 'ම ඉ': 2950, 'ඉ එව': 325, 'ල ට': 3878, 'ට කට': 1429, 'කට ද': 915, 'ර රට': 3627, 'ඇව ද': 321, 'ඩ ක ල': 1496, 'ක ල ව': 835, 'ව ව ද': 4339, 'ද ය ල': 2084, 'අව ල න': 245, 'ල න හ': 3897, 'ඔක ක ප': 570, 'ශ ර ල': 4490, 'ර ල ක': 3631, 'ල ප න': 3901, 'ද අන ත': 1917, 'ල න ම': 3894, 'ට කට ද': 1430, 'මන ස': 3191, 'ක බ': 748, 'බ අය': 2791, 'මන ස ස': 3192, 'තර න ව': 1883, 'ව ම ව': 4284, 'ම ව න': 3133, 'බඩ ම': 2889, 'ග දර': 1139, 'පර ම': 2761, 'ම ට': 3001, 'ට ද': 1445, 'ද නව': 2035, 'නව අප': 2527, 'අප ව ර': 185, 'ර ද ධ': 3555, 'අය ද': 210, 'ද හර': 2167, 'ළ වන': 4999, 'වන න': 4430, 'ඩ හ': 1542, 'හ ග': 4810, 'ග ප ළ': 1165, 'ව ආය': 4047, 'ආය ම': 296, 'ව රවට': 4323, 'රවට ට': 3778, 'ට න': 1448, 'ද ම න': 2060, 'ව රවට ට': 4324, 'ම නව': 3061, 'නව ද': 2532, 'ස ස ම': 4719, 'ම නව ද': 3064, 'තර ල': 1888, 'ල ඩ': 3879, 'ඩ ඩ': 1509, 'ලබ ග': 4010, 'ග බ': 1166, 'න ර': 2427, 'මද ව': 3183, 'ව අසරණ': 4045, 'ය ග': 3269, 'ගන නව': 1234, 'ල ස යල': 3971, 'ද න ර': 2027, 'න ර ග': 2428, 'ර ග හ': 3494, 'ග හ ර': 1212, 'ර ක ල': 3459, 'ත ය ග': 1729, 'න ජනත': 2320, 'ව රජ': 4313, 'රජ ක': 3690, 'උ බ': 386, 'බ දල': 2829, 'උ ක': 378, 'බද ග': 2892, 'ඇත ත': 308, 'ආප ග': 292, 'ග එ': 1104, 'එ හර': 474, 'ය ච': 3279, 'ච ප': 1296, 'ප අය': 2550, 'ට කර ම': 1432, 'ව ක න': 4089, 'න ජනත ව': 2321, 'ජනත ව ස': 1375, 'ස ද ද': 4603, 'ද ද ද': 1994, 'ක උ ක': 656, 'ව ක හ': 4107, 'ඇත ත ව': 311, 'ක ව ම': 864, 'ල ස ස': 3973, 'ස ස ට': 4713, 'එය ල': 503, 'එච චර': 490, 'චර ම': 1314, 'ම බ': 3079, 'බ කර': 2805, 'කර ඩ': 995, 'ව ඒ': 4068, 'ඩ ග': 1504, 'ද රන': 2107, 'මන ද': 3189, 'ර ක න': 3453, 'ල ස ද': 3968, 'ව ඩ ග': 4161, 'ග ව ද': 1194, 'ම අඩ': 2940, 'කර න': 1009, 'කර න හ': 1017, 'කර ස': 1053, 'ස වක': 4695, 'ල ර': 3931, 'ට ව': 1472, 'ව ඕ': 4081, 'ඕ ප': 637, 'ස වක ව': 4696, 'සත ට ව': 4754, 'ව ඕ ප': 4082, 'ජන ද ප': 1362, 'ද ප ත': 2038, 'ග ර': 1179, 'හ හ': 4927, 'ව කර': 4114, 'ප සල': 2723, 'සල ග': 4778, 'ම න ට': 3049, 'ග ර වර': 1181, 'න හ හ': 2505, 'හ ක න': 4805, 'ක න ක': 728, 'අධ ය ප': 108, 'ය ප ද': 3316, 'ප ද ප': 2600, 'ප ර ප': 2644, 'වස ව': 4469, 'ප ච': 2567, 'ඩ හර': 1545, 'ගහ ව': 1271, 'ඕ ඔය': 628, 'ඔය ව': 613, 'ව සව': 4379, 'සව ය': 4786, 'දර ව': 2196, 'කර ම න': 1033, 'න ත ද': 2331, 'ද න ඩ': 2021, 'ඩ කර ම': 1501, 'ව ප ළ': 4259, 'ප ළ ක': 2730, 'ක හ ද': 892, 'හද ව': 4938, 'ව අල': 4041, 'හර ජ': 4957, 'ද පත': 2047, 'එ න ව': 457, 'න න ද': 2373, 'න ද ම': 2353, 'ද ම ල': 2063, 'හර ජ ව': 4958, 'ජ ව ව': 1356, 'තර ද': 1881, 'ද අප': 1918, 'ඒක න': 554, 'න දර': 2362, 'දර ද': 2190, 'ප ක': 2554, 'ම රය': 3117, 'රය ත': 3763, 'න ග න': 2309, 'ල ග ත': 3866, 'ග ත බ': 1134, 'බ න හ': 2837, 'ස ට ව': 4585, 'ව තර ද': 4194, 'න න ය': 2378, 'ය ප න': 3317, 'ම ද න': 3029, 'ද න ම': 2026, 'න ම ක': 2401, 'ම ක යල': 2973, 'ත ර ද': 1752, 'ර ද ර': 3562, 'න ව ප': 2446, 'ව ප ක': 4248, 'ද ය ප': 2080, 'අත ර': 101, 'ද ග න': 1963, 'ග න න': 1154, 'ස ග': 4570, 'හ ස ග': 4922, 'ස ග න': 4572, 'ර අර': 3429, 'අර ක': 221, 'ඕ br': 624, 'හර ම': 4968, 'ම කට': 2980, 'ග හ ද': 1208, 'හ ද ම': 4849, 'ද ම ර': 2062, 'ල ඉ': 3816, 'ඉ ග': 328, 'ල කය': 3861, 'මත ත': 3175, 'න පර': 2394, 'ග ර ස': 1182, 'ර ස ප': 3663, 'ඔය බ': 607, 'ර අහ': 3433, 'අහ ව': 270, 'ව එප': 4066, 'ච ග': 1281, 'ග ම': 1170, 'ව ජය': 4139, 'ඔය බ ර': 608, 'ම ල ම': 3124, 'ල ම ව': 3923, 'කට ට': 910, 'ව ර ය': 4309, 'ය හ ඳ': 3356, 'උත ර': 404, 'ඉන ද': 358, 'ස ලස': 4683, 'ර න ග': 3569, 'ඉන ද ය': 359, 'ව ද ස': 4211, 'අප න': 159, 'ක ටව': 702, 'ච ද': 1292, 'න ල': 2431, 'ය ඕ': 3251, 'ඕ හ': 643, 'ලනය ව': 4009, 'ච ත': 1290, 'ඇමර ක': 317, 'කර ල': 1044, 'හ ජ': 4817, 'ජ ක': 1322, 'ද න ල': 2028, 'න ල ක': 2432, 'ත ය ඕ': 1727, 'ඇමර ක ව': 318, 'ල ක ප': 3850, 'ද සරණ': 2160, 'පල ද': 2768, 'බ ද සරණ': 2826, 'ග නල': 1162, 'සම ජය': 4764, 'ම ද ද': 3028, 'රස තව': 3785, 'තව ද': 1901, 'ජයග රහණය': 1398, 'කල ය': 1082, 'ත රන': 1764, 'ත රස තව': 1771, 'රස තව ද': 3786, 'කල ය ත': 1083, 'ත රන ල': 1765, 'ව ච': 4130, 'ච ච': 1282, 'ච අප': 1277, 'අප ක': 149, 'ය ද ද': 3297, 'ව ච ච': 4131, 'අප ක ල': 150, 'රන ත': 3748, 'ත ආය': 1586, 'ය අන': 3234, 'ම එ': 2957, 'එ තම': 450, 'තම බ': 1853, 'br ත': 20, 'ත කල': 1624, 'ත අම': 1580, 'අල ල හ': 239, 'ය ද ධය': 3300, 'ප ර ම': 2645, 'කර න ක': 1010, 'ය ග හ': 3274, 'ඔය ම': 609, 'ට බ': 1456, 'බ උ': 2795, 'ක ද': 723, 'ඔය ම න': 610, 'ම ප ර': 3070, 'ද ක ද': 1948, 'ක ද න': 725, 'ත හර': 1822, 'හර යන': 4970, 'ස හල': 4737, 'හල ජ': 4981, 'රට ද': 3711, 'හර යන න': 4971, 'ස හල ජ': 4738, 'ත ප ස': 1682, 'ධ නය': 2222, 'මර ස': 3202, 'ඇත ල': 313, 'සත ත': 4755, 'ව ජ': 4132, 'බ ල': 2875, 'ග ට': 1115, 'ව ධ නය': 4221, 'ත අම ර': 1582, 'අම ර ව': 200, 'ද ස හ': 2158, 'ස හ ර': 4735, 'සත ත ව': 4756, 'ක ව බ': 863, 'රල ව': 3770, 'කර එක': 968, 'එක හ': 485, 'ම ව ග': 3130, 'ව ග ව': 4128, 'ග ව ග': 1191, 'ග ණ': 1127, 'දන න': 2176, 'එ ත': 449, 'ඔය ස': 615, 'ක පර': 746, 'ර ඔය': 3447, 'එ ප': 458, 'ඔ ප': 565, 'ප ර ග': 2637, 'ර ග න': 3491, 'ග න ක': 1148, 'න ක ඩ': 2287, 'ක ඩ ක': 705, 'උ න': 383, 'න කල': 2304, 'න ද ස': 2359, 'ස ක න': 4557, 'අල ල ක': 236, 'ල ක ඩ': 3847, 'ග න ස': 1160, 'න ස ට': 2477, 'තර ඒව': 1874, 'ව ර ත': 4306, 'ර ත ව': 3532, 'කල ම': 1081, 'ගත න': 1223, 'ව ජයව': 4141, 'ම හ ද': 3154, 'හ ද ද': 4847, 'එ ද න': 452, 'න ත කර': 2328, 'ක ච': 694, 'ච චර': 1286, 'චර ග': 1309, 'නය ද': 2520, 'ක ච චර': 695, 'ච චර ග': 1288, 'ඩ br': 1486, 'br ක': 18, 'ක ජ': 696, 'ත සත': 1812, 'ට ද න': 1446, 'රස පර': 3792, 'පර ක': 2754, 'ෂ ග': 4515, 'රස පර ක': 3793, 'පර ක ෂ': 2756, 'ග ව ය': 1195, 'ය ප ල': 3319, 'ල ඒව': 3832, 'ඒව ම': 559, 'එහ න': 519, 'ව හර': 4395, 'අල ල ඒව': 235, 'ල ඒව ම': 3833, 'ම ක කර': 2967, 'ක කර ක': 686, 'ක ය ක': 770, 'ය ක ව': 3263, 'ක ව ව': 867, 'ම උන': 2955, 'ඒව ස': 560, 'ග අය': 1100, 'අද න': 104, 'පල ව': 2772, 'අය බ': 214, 'බ ට': 2809, 'ම නස': 3065, 'ව ම හ': 4285, 'හ ද ග': 4845, 'බ ට ට': 2810, 'ඩ ලර': 1532, 'හ ගහ': 4814, 'ගහ ඕන': 1262, 'යල ප': 3397, 'හ වර': 4919, 'ද ජ ත': 1976, 'ක යල ප': 789, 'න ව ව': 2455, 'ද ම හ': 2065, 'ම හ වර': 3162, 'ල උ': 3821, 'උ ග': 379, 'ද ඔය': 1943, 'ඔය අල': 596, 'ල ඒ': 3831, 'ඒ න': 535, 'න බ': 2395, 'ග න ර': 1158, 'ඔය අල ල': 597, 'ඒ න ත': 536, 'ක ප න': 740, 'ප න න': 2610, 'න න බ': 2376, 'න එ': 2272, 'එක ත': 478, 'න න එ': 2369, 'ත බ ර': 1699, 'ඔය හ': 616, 'ග මත': 1175, 'ද රව': 2108, 'රව ය': 3775, 'ය වල': 3346, 'වල ම': 4459, 'මත ද රව': 3177, 'ද රව ය': 2109, 'රව ය වල': 3776, 'සන ව': 4762, 'ව අ': 4031, 'උ එ': 377, 'එ ම': 462, 'ඒ ක': 524, 'ර ඩ': 3515, 'ඩ සටහන': 1541, 'ව සන': 4375, 'ඩ අඩ': 1487, 'ව නව': 4241, 'නව ව': 2538, 'එ අ': 437, 'නය ව': 2523, 'ව නත': 4240, 'ම ච': 2996, 'ඩ ගහ': 1506, 'ගහ උ': 1258, 'හර හ': 4977, 'ව නක': 4239, 'න කම': 2300, 'කම ක': 946, 'ත ජ': 1632, 'රද න': 3741, 'න වරද': 2464, 'ම හ ව': 3161, 'ව ඩ සටහන': 4172, 'එ ක ල': 446, 'ක ඩ ගහ': 707, 'න ත ක': 2327, 'ක ග හ': 691, 'ක ඩ න': 708, 'න කම ක': 2301, 'ඩ න ත': 1517, 'ත ජ ව': 1633, 'ව ව ප': 4341, 'ව ප ර': 4252, 'ප ර ද': 2642, 'ර ද ව': 3564, 'ද ව ව': 2130, 'ව ව රද': 4343, 'ව රද න': 4319, 'ඕ අල': 625, 'ත යන': 1742, 'යන තර': 3374, 'තර ජ': 1878, 'ජ ල': 1349, 'න ඉ': 2266, 'ඕ ර': 640, 'ර ඇත': 3436, 'ඕ අල ල': 626, 'ර ජ ත': 3503, 'ජ ත යන': 1339, 'ත යන තර': 1743, 'උ ව ඩ': 391, 'ල න ත': 3892, 'ර ඇත ල': 3438, 'ප රට': 2658, 'රට ව': 3718, 'ද ගන': 1968, 'ගත තන': 1222, 'ට හර': 1481, 'ල ක හ': 3858, 'ව ක ව': 4104, 'ක ව ල': 866, 'ව ල ම': 4328, 'ක න ස': 735, 'න ස ය': 2482, 'ස ය ද': 4651, 'උන ව': 422, 'ත වට': 1798, 'ගත ත ත': 1220, 'ත ඇත ත': 1588, 'උ ද': 382, 'නව ප': 2535, 'ම ව ම': 3135, 'ව ම ක': 4276, 'ප ල ස': 2691, 'ල ස ය': 3970, 'ම අය': 2944, 'ඇල ල': 319, 'ල අන': 3799, 'ට ඔය': 1420, 'ඔය ප': 605, 'ච ක': 1278, 'ල ච': 3872, 'ම ව ක': 3129, 'ල අන ත': 3800, 'ප ප ට': 2619, 'ඩ ක යල': 1494, 'ඩ ත ය': 1512, 'වට න': 4415, 'ර හම': 3680, 'ව ඇත': 4050, 'ණ ඩ': 1560, 'ස කල': 4567, 'කල ව': 1086, 'වල ව': 4462, 'න අප': 2257, 'ව එහ': 4067, 'එහ ව': 521, 'හද ප': 4937, 'ර හර': 3681, 'හර ය': 4969, 'මල ල': 3206, 'ජ වර': 1359, 'වර ක': 4444, 'ල br': 3796, 'එකත කර': 487, 'ඩ ල': 1529, 'අල ල ග': 237, 'ඩ ග න': 1505, 'ව න ශ': 4235, 'න ශ කර': 2469, 'වට න කම': 4417, 'ක ව ක': 857, 'ව ක ද': 4088, 'ව ඒ ව': 4069, 'ව ය ව': 4295, 'ඩ ක ත': 1493, 'ක හ ක': 889, 'හ ක ව': 4807, 'ව න ම': 4231, 'ම ක න': 2969, 'හ ර හ': 4901, 'ඩ ල ක': 1530, 'හ හර': 4932, 'ල පල': 3907, 'හර න': 4963, 'ඩ බ': 1523, 'ද ඕන': 1945, 'ල වට': 3961, 'ක යනවන': 781, 'ක හ හර': 900, 'ත ව ම': 1788, 'ල වට න': 3962, 'කව ර': 1092, 'හර ල': 4973, 'කව ර හර': 1093, 'එ අල': 441, 'ස තම': 4597, 'තම අහ': 1840, 'එ අල ල': 442, 'ව හ ල': 4390, 'හල බ': 4985, 'උස ව': 435, 'සම මත': 4771, 'කරල ම': 1068, 'හ අල': 4797, 'ය ආරක': 3238, 'ග ඩබ': 1126, 'හර කට': 4955, 'කට ව': 918, 'ගහද ද': 1273, 'ඔය ක': 599, 'ඩ ට': 1508, 'න ජ': 2317, 'ර බය': 3595, 'න නන': 2384, 'නන න': 2515, 'උ ර': 388, 'නල ල': 2526, 'ය ආරක ශ': 3239, 'ම ග න': 2994, 'ග න ද': 1153, 'පර ක ශ': 2755, 'බ ර ව': 2871, 'න ජ ව': 2319, 'ජ ව ර': 1355, 'ව ර ක': 4305, 'ර ක රය': 3458, 'ක රය බ': 821, 'බ ර බය': 2869, 'න ද ශප': 2358, 'ශප ල ව': 4503, 'ය ල ක': 3337, 'පර ස': 2762, 'ස සම': 4726, 'ත යල': 1745, 'යල ග': 3391, 'ග ජ': 1114, 'ත යනව': 1744, 'රය ව': 3767, 'ඩ න න': 1518, 'ප රස': 2681, 'රස ද': 3787, 'ර ආය': 3434, 'කට එ': 907, 'ම ල ක': 3119, 'ල බ ර': 3915, 'ප රස ද': 2682, 'රස ද ධ': 3788, 'ද ධ ව': 2013, 'ධ ව න': 2236, 'ශ කර න': 4480, 'කර න ත': 1013, 'ත න හ': 1667, 'න හ ර': 2502, 'හ ර ප': 4897, 'ර කව': 3482, 'කව ද': 1091, 'හ යන': 4889, 'න අ': 2252, 'අල ලන': 240, 'උස මහත': 434, 'අය ත ක': 209, 'ප ත ක': 2583, 'ල ද ක': 3887, 'ක ඩ ල': 709, 'යන න න': 3379, 'දන න න': 2177, 'ල ක ග': 3845, 'අපර ද': 189, 'මහ ද': 3214, 'ද ද ත': 1993, 'ද ත බ': 1985, 'ත බ බ': 1695, 'එකක ව': 486, 'ඩ හ ර': 1544, 'ශ කර ප': 4481, 'කර ප න': 1019, 'ර උබ': 3443, 'නව ක': 2529, 'ට ය': 1463, 'බ ද ර': 2823, 'ම නව ක': 3062, 'කර ව ද': 1047, 'මර ප': 3200, 'ප යව': 2633, 'ඕක න': 645, 'ත ත ත': 1641, 'ඉ ක': 326, 'න එක': 2273, 'ල හම': 3982, 'ක ක ට': 670, 'ක ඩ ග': 706, 'ග න ව': 1159, 'ඉ ක ඩ': 327, 'ව අල ල': 4042, 'හම බ න': 4943, 'න ප': 2387, 'ප කර ව': 2561, 'කර ව න': 1048, 'න න ප': 2375, 'ගම ක': 1240, 'හර හර': 4978, 'ක ර ම': 807, 'ර ම න': 3605, 'න ක ට': 2286, 'ප ර ය': 2647, 'ල ය': 3929, 'ර අත': 3425, 'අත ල': 102, 'ත අල': 1584, 'ඩ ම': 1524, 'ග උ': 1103, 'ල ම හ': 3924, 'ව ග න': 4126, 'ග න එ': 1147, 'ය ක ත': 3256, 'ක ත න': 715, 'ඩ ම ව': 1526, 'ව බ ද': 4266, 'බ ක ර': 2800, 'න යත': 2425, 'ප න ප': 2611, 'න ප ට': 2388, 'ප ට ව': 2576, 'ට ව න': 1474, 'රද ව': 3744, 'නස කර': 2540, 'ර ගත': 3495, 'උන න': 419, 'න යක': 2421, 'ව රද ව': 4320, 'ඩ කර න': 1500, 'ව ක ම': 4094, 'ප රත ක': 2661, 'ර ගත ත': 3496, 'ත ක ම': 1608, 'ම ම ර': 3088, 'ම ර ව': 3112, 'ර ව ඩ': 3638, 'එක ක ව': 476, 'න ද ක': 2347, 'හ තම': 4841, 'ම න ග': 3048, 'න කව': 2305, 'ජ ත ප': 1336, 'න අය': 2259, 'අන ප': 125, 'ර උ': 3441, 'උ ස': 392, 'අල ල ව': 238, 'ල ව තර': 3950, 'ප ත ත': 2584, 'ස ප ප': 4623, 'ප ට න': 2574, 'ට න ව': 1450, 'ව න ල': 4233, 'ව යය': 4299, 'යය ත': 3387, 'ව හම': 4393, 'ම උත': 2952, 'උත තම': 402, 'තම ච': 1847, 'ච රය': 1300, 'ව යය ත': 4300, 'ද ය ස': 2086, 'ය ස ද': 3350, 'න ව හම': 2458, 'ව හම ද': 4394, 'ම උත තම': 2953, 'උත තම ච': 403, 'තම ච රය': 1848, 'ද ද ක': 1991, 'ද ක ග': 1947, 'ග හ ව': 1214, 'ත හම': 1820, 'ක හම': 901, 'බ ග': 2807, 'ත හම බ': 1821, 'ඉත ම': 349, 'ම වට': 3140, 'ව ටල': 4153, 'ස ගත': 4573, 'ගත ය': 1224, 'ව ටල ම': 4154, 'ට ව ය': 1475, 'ව ය ක': 4289, 'ය ක ය': 3258, 'දවස ව': 2206, 'ව රට': 4314, 'රට අහ': 3697, 'ක ක ස': 677, 'ක ස ක': 877, 'ක න ද': 730, 'න ද න': 2350, 'කර න ද': 1014, 'ම ම ව': 3089, 'න ශ ව': 2470, 'රට අහ ස': 3698, 'තර ජ ව': 1879, 'එ ව රද': 469, '225 උ': 2, 'ගන ව': 1238, 'ස සහ': 4729, 'අත අඩ': 96, 'අඩ ග': 89, 'සම ජ': 4763, 'ක අ': 651, 'අ ව': 76, 'ග ගත': 1112, 'ප රම': 2669, 'රම ණය': 3759, 'ණය න': 1572, 'හ එක': 4802, 'ක ගන': 692, 'ගන ජ': 1227, 'ත අය': 1583, 'අය ස': 220, 'ම ණය': 3007, 'ද අ': 1914, 'ය අත': 3233, 'කර බ': 1026, 'ප රල': 2672, 'ත ලය': 1778, 'ය රට': 3335, 'රට ත': 3710, 'අස ස': 264, 'ම ගම': 2995, 'යම න': 3386, 'ම තර': 3023, 'ය ජ': 3280, 'ව සය': 4378, 'ෂ ක': 4512, 'ව දග': 4215, 'අන එ': 113, 'ව කල': 4120, 'ද ධව': 2017, 'යද ද': 3371, 'රස දය': 3789, 'දය ද': 2182, 'ගන න': 1229, 'සය ද': 4774, 'ව ව හ': 4347, 'ව හ ම': 4388, 'හ ම ක': 4870, 'ම ක ම': 2970, 'ක ම ත': 756, 'ම ත ස': 3017, 'ත ත ක': 1640, 'ක ත ම': 718, 'ත ම හ': 1717, 'ම හ ය': 3159, 'හ ය ගත': 4886, 'ය ගත ත': 3276, 'අත අඩ ග': 97, 'අඩ ග ග': 90, 'ග ප ර': 1164, 'අ ව නක': 77, 'හ ය ම': 4888, 'ග ගත ත': 1113, 'ස ව තර': 4687, 'ය ව ශ': 3345, 'ශ ල ප': 4492, 'ල ප රම': 3903, 'ප රම ණය': 2670, 'ව ත බ': 4183, 'බ බ න': 2849, 'ර න ව': 3573, 'ද ව ම': 2124, 'ද ද ව': 2000, 'ක ග ප': 689, 'ම ච චර': 2997, 'ව ප ත': 4250, 'ප ත ලය': 2591, 'ර කර ද': 3472, 'කර ද ව': 1008, 'ස ම ල': 4642, 'ල ල න': 3937, 'ක ෂ කර': 872, 'හ බ ම': 4868, 'ර ත ල': 3530, 'ද ද ම': 1997, 'කර ග න': 988, 'ග න ය': 1157, 'න ය ද': 2419, 'ර ත ක': 3522, 'ප ඩ ව': 2580, 'ඩ ව දග': 1535, 'ර ද ධව': 3556, 'ද ගන න': 1969, 'ඇත ළ': 315, 'වට ප': 4421, 'ර ඕන': 3449, 'ඕන න': 649, 'චර ද': 1311, 'ච චර ද': 1289, 'ම ක ව': 2976, 'එ ස': 470, 'අය ර': 217, 'ස ප ර': 4624, 'ඔය ව ප': 614, 'ය ත ර': 3290, 'රට ග': 3707, 'හල ක': 4980, 'ශප ලකය': 4505, 'ලකය ක': 3999, 'සම බන': 4769, 'ඩ ක රය': 1495, 'ල ක ය': 3853, 'ක ය ද': 773, 'ද ශප ලකය': 2139, 'ඇම ත': 316, 'ම කත': 2983, 'කර හර': 1058, 'හර ස': 4975, 'ස ර න': 4665, 'කරන න ම': 1065, 'ව ඉක': 4055, 'ඉක මන': 344, 'ත න ප': 1662, 'න ප න': 2391, 'ද අල': 1923, 'අල ත': 229, 'ක සහත': 886, 'ත ක ස': 1614, 'ර ග ක': 3485, 'ගලය ව': 1254, 'බ බ බ': 2851, 'පන ප': 2746, 'තය ස': 1870, 'හ ඉ': 4798, 'ල ඔය': 3838, 'ස ව ස': 4694, 'ස කර ප': 4565, 'කර ප ළ': 1024, 'ධ ය': 2229, 'ඒක ක': 551, 'ම දන': 3041, 'ක ර න': 804, 'ප යල': 2632, 'හ ල ක': 4907, 'ල ව ර': 3957, 'ර ප යල': 3581, 'ක ම ක': 755, 'ස අප': 4544, 'අප ර': 174, 'ස ඉ': 4547, 'ජ කර': 1326, 'බ ඉ': 2794, 'මව ර': 3211, 'දර ව අන': 2197, 'නක ම': 2511, 'න ස ක': 2475, 'ය ඕ ක': 3252, 'වට න න': 4419, 'ක ට ක': 700, 'ට ක ක': 1423, 'ඒ ව ක': 546, 'ව ක ණ': 4086, 'එ අඩ': 438, 'වට න ක': 4416, 'න ක ක': 2285, 'ෂ ද': 4518, 'ද නක': 2032, 'ය දන': 3304, 'ව ය දන': 4292, 'ද ශ': 2133, 'බන ද': 2895, 'ද ප න': 2039, 'හ ම ම': 4875, 'ම කවද': 2988, 'කවද ව': 1094, 'ම කවද ව': 2989, 'හර ර': 4972, 'ද ව ප': 2123, 'ම ර ද': 3106, 'ර ක ක': 3451, 'ක ර ර': 809, 'ර ර ක': 3623, 'ල ඕ': 3839, 'ඕ තම': 633, 'කර අ': 957, 'අ ත': 67, 'කල ප': 1077, 'ම ර ම': 3110, 'ර ම ස': 3609, 'ගහ එව': 1260, 'එව අල': 510, 'ය කර': 3266, 'බ අර': 2792, 'ඩ න හ': 1521, 'ම හ ම': 3158, 'හ ම හ': 4879, 'කර ත බ': 1000, 'ර න ත': 3570, 'ත ක ල': 1611, 'ල ස ප': 3969, 'ල ත බ': 3882, 'ක රට': 815, 'ඕ ව': 642, 'ස ස ක': 4709, 'ක ඩ ව': 710, 'ව ද ම': 4204, 'ස ද ප': 4606, 'ද ප ප': 2040, 'න රට': 2430, 'බ නන': 2838, 'දර ශ': 2198, 'ශ න': 4485, 'යව බ': 3412, 'බය න': 2899, 'න ගහ': 2313, 'න න රට': 2380, 'ක ය ත': 772, 'ත බ නන': 1694, 'ම ල ද': 3120, 'ල ද න': 3888, 'ල හ ර': 3979, 'ර ද ප': 3558, 'අප ම ල': 172, 'ද එප': 1940, 'වත ර': 4423, 'ධ උ': 2212, 'ගම ම': 1242, 'එකත ව': 488, 'ව ව ර': 4342, 'ම මර': 3091, 'මර ද': 3197, 'අප දර': 158, 'ස ර ක': 4661, 'ර ක ව': 3460, 'ව ඉල': 4058, 'ර ජක': 3506, 'ජක ර': 1360, 'ට පස': 1455, 'හව ල': 4986, 'එන න': 494, 'ය ඔ': 3250, 'ස ම ව': 4643, 'ර ජක ර': 3507, 'ර ප ට': 3578, 'ප ට පස': 2575, 'ල න ව': 3895, 'ක ද ය': 726, 'ල ව න': 3952, 'ක යන න': 779, 'ත ඔබ': 1602, 'ඔබ ප': 587, 'ඉස සර': 374, 'ව වගක': 4350, 'වගක ව': 4406, 'යල ව': 3406, 'වගක ව ය': 4407, 'ක යල ව': 791, 'ස රක': 4671, 'ලක ර': 3991, 'හ ය ග': 4885, 'ය ග ම': 3273, 'ග ම ව': 1174, 'ය න ත': 3308, 'ට ක ල': 1426, 'ලක ජ': 3988, 'ර එ': 3444, 'a href': 8, 'href https': 42, 'https www': 44, 'www youtube': 58, 'youtube com': 60, 'com watch': 40, 'watch v': 54, 'amp t': 10, 'ම හර': 3164, 'ත එ': 1592, 'a href https': 9, 'href https www': 43, 'https www youtube': 45, 'www youtube com': 59, 'youtube com watch': 61, 'com watch v': 41, 'ර කය': 3468, 'කය ව': 955, 'ගහ ම': 1269, 'පල ල': 2771, 'උ ප': 384, 'ර කය ව': 3469, 'කය ව ර': 956, 'බන ධ': 2896, 'සම බන ධ': 4770, 'ග වන': 1198, 'එ ර': 463, 'ව හද': 4392, 'ස භ': 4635, 'භ ව': 2929, 'ස රට': 4672, 'ම එක': 2958, 'ක ඔය': 667, 'ඔය ද': 602, 'ම එක ක': 2959, 'ද අප රට': 1919, 'අප රට ප': 179, 'න ද ල': 2356, 'ම ප හ': 3075, 'ප හ ද': 2727, 'හ ද ල': 4850, 'ද ල ක': 2111, 'ඕ ග': 631, 'ග ත ය': 1135, 'ම අ': 2938, 'තර ක': 1876, 'ලය ත': 4019, 'ද පල': 2049, 'දඩ ද': 2171, 'හ ත න': 4835, 'ක ලය ත': 849, 'ත ස ස': 1810, 'න ස බ': 2480, 'රට හ': 3724, 'ම ස ර': 3147, 'රට ව න': 3719, 'වග ක ය': 4400, 'ක ය ඕ': 768, 'ත න ව': 1665, 'ස ර හ': 4670, 'ර හ ද': 3675, 'ද ග ව': 1965, 'ර හ ඳ': 3677, 'රස න': 3790, 'කර ඔ': 972, 'හ ද ව': 4851, 'ව නස කර': 4243, 'ග ල': 1186, 'න ඔ': 2279, 'න ම හ': 2412, 'ද ග ල': 1964, 'ම තම': 3020, 'තම ල': 1858, 'ම තම ල': 3022, 'ක ව ග': 858, 'අහන න': 274, 'ණ ද': 1563, 'ය ඇත': 3240, 'අස ධ': 261, 'ධ රණ': 2232, 'රණ ව': 3727, 'ර කර ත': 3471, 'එය ප': 502, 'ශප ලක': 4504, 'ලක ම': 3990, 'ද ය කර': 2075, 'න බ ද': 2396, 'ද ශප ලක': 2138, 'ම ස ක': 3144, 'ඳ ව': 2547, 'හ ඳ ව': 4864, 'ඳ ව ඩ': 2548, 'ස ස ප': 4717, 'ල හ ග': 3975, 'ය බල': 3325, 'න න br': 2368, 'අහ ස ම': 273, 'ය දන න': 3305, 'ද න හ': 2031, 'ම දඩ': 3040, 'ත br': 1574, 'ග ආව': 1101, 'ප ම ව': 2629, 'ග න කව': 1149, 'ක හ ස': 899, 'හ ස ර': 4924, 'br ම ව': 29, 'ඩ ව ඩ': 1534, 'ව ඩ ම': 4167, 'නව ම': 2537, 'ර ක ප': 3454, 'හ ය ද': 4887, 'ය ද ග': 3296, 'ත ව ඩ': 1782, 'ශ ප': 4487, 'ය ආ': 3237, 'ද ශ ප': 2135, 'ශ ප ල': 4488, 'v wfoygnihpm': 52, 'wfoygnihpm amp': 56, 'ල ඉදල': 3818, 'ල උන': 3823, 'හර ප': 4965, 'watch v wfoygnihpm': 55, 'v wfoygnihpm amp': 53, 'wfoygnihpm amp t': 57, 'ක ල උන': 824, 'හ ත ය': 4838, 'කර ක න': 979, 'ක න බ': 733, 'වල ය': 4460, 'ශක ත': 4499, 'ක ය ම': 775, 'ය ම ක': 3327, 'එ හ ම': 473, 'ත ල බ': 1776, 'කල ත': 1072, 'බ බන': 2855, 'බන ත': 2894, 'කල ත බ': 1073, 'ත බ බන': 1696, 'ත ප ල': 1680, 'බ අන': 2790, 'කන න': 939, 'ග බ බ': 1168, 'ම ද ක': 3026, 'ද ක හ': 1956, 'හ ම බ': 4874, 'ව ග ට': 4122, 'ග ට ක': 1116, 'ට ක ම': 1424, 'ත එක': 1595, 'එක න': 479, 'ට ව ඩ': 1473, 'ය ෂ': 3347, 'නගත ත': 2512, 'ත උන': 1591, 'න උ': 2268, 'වල ග': 4454, 'ත වල': 1804, 'ල යල': 3930, 'යල ක': 3390, 'ම පස': 3078, 'ඇව ල': 322, 'ප සත': 2722, 'කර බලප': 1029, 'බලප ම': 2921, 'ක කට': 678, 'ත ප ව': 1681, 'ව ක බ': 4093, 'බ ග ල': 2808, 'ග වල ග': 1200, 'වල ක ල': 4453, 'ග ල ල': 1188, 'ප ඩ ඩ': 2579, 'කර බලප ම': 1030, 'බලප ම න': 2922, 'ව ව ක': 4335, 'ක ලඹ': 846, 'තර ත': 1880, 'හ කර': 4808, 'බ br': 2788, 'br මහ': 30, 'br ද': 22, 'ක ව ද': 861, 'හ ග හ': 4813, 'ක ර හ': 813, 'කර කර': 985, 'කර කර ක': 986, 'න ක ල': 2293, 'ක ල ත': 828, 'ව ක ක': 4085, 'ක ක ක': 669, 'br ඔය': 17, 'අප ද': 156, 'තර අප': 1872, 'br ල': 35, 'ජ ජ': 1329, 'ල කත': 3860, 'තර ම': 1886, 'ව තර අප': 4192, 'ල ජ ජ': 3874, 'ක ය ප': 774, 'ත ය ම': 1735, 'ම ම ස': 3090, 'උ ල': 389, 'ක ව අප': 853, 'බටහ ර': 2888, 'පත ව': 2744, 'ත ඔ': 1600, 'ප පර': 2624, 'පර ද': 2757, 'ව භ ග': 4272, 't 51': 48, '51 0': 3, '0 51': 0, '51 a': 5, 'amp t 51': 11, 't 51 0': 49, '51 0 51': 4, '0 51 a': 1, 'ව ල ව': 4329, 'ල ව ප': 3954, 'දර ප': 2191, 'ග අ': 1099, 'ර බල': 3596, 'ග ශ': 1202, 'ස වල': 4706, 'ග දර ප': 1142, 'බල ග ව': 2910, 'ල ව ව': 3959, 'ර ස ල': 3664, 'හර බ': 4966, 'ත කත': 1616, 'ම ධ': 3045, 'ත න න': 1661, 'ම ධ ය': 3046, 'ජය ජය': 1390, 'ජය ව': 1393, 'ජය ජය ව': 1391, 'ම ත න': 3011, 'ත න ද': 1660, 'න ක යල': 2291, 'ර සරන': 3670, 'කය කර': 954, 'කර ය ල': 1038, 'ම ක ය': 2971, 'යන ඩ': 3373, 'වය න': 4438, 'කර ගන': 992, 'ගන ඩ': 1228, 'ක යන ඩ': 778, 'මද ක': 3180, 'ක ළඹ': 905, 'හ මද ක': 4881, 'ප ළනය': 2733, 'භ ර': 2927, 'ර ගන': 3497, 'ගන බ': 1235, 'තම ම ල': 1856, 'ව ලය': 4332, 'න ළ': 2509, 'ළ ග': 4988, 'ගන න ත': 1230, 'අන න ව': 124, 'ළ ග න': 4989, 'න න ග': 2371, 'ව තය': 4188, 'ෂ ව': 4527, 'න බල': 2398, 'ත කදව': 1618, 'ස තල': 4600, 'සත ස': 4759, 'දර ග': 2185, 'ඔව ස': 619, 'ජ ව තය': 1352, 'ආරක ෂ ව': 303, 'න ම න': 2404, 'න ස හ': 2487, 'ස හ ද': 4732, 'ව ස ට': 4364, 'ත කදව ර': 1619, 'ර ග ග': 3486, 'දර ග හ': 2188, 'ග හ ට': 1207, 'හ ට ම': 4822, 'කර න කර': 1011, 'ජනත ව ක': 1369, 'ස ත න': 4588, 'ප අසරණ': 2551, 'වන ද': 4429, 'ද ස යල': 2156, 'යල ද න': 3395, 'ද න බ': 2025, 'ද අස': 1924, 'අස ව': 262, 'න උන': 2270, 'උන ම': 421, 'අහ ත': 267, 'දහ ව': 2209, 'චන ද': 1304, 'අය ප': 213, 'ල රට': 3933, 'ව භ ව': 4273, 'ව ප ද': 4251, 'අහ ත ය': 268, 'ල ව නස': 3953, 'නස ව න': 2542, 'හ ර ර': 4899, 'ස ප ව': 4626, 'ප ව ත': 2705, 'වජ ර': 4410, 'කත ක': 927, 'ක ඉ': 654, 'ඉ න': 334, 'රන ල ප': 3752, 'ඡන ද ද': 1319, 'ස වභ': 4700, 'වභ ව': 4433, 'පර සරය': 2763, 'ව ධර': 4223, 'අර ද': 224, 'ගහ ක': 1263, 'ක ළ': 904, 'ය උන': 3243, 'දඬ ද': 2174, 'ස වභ ව': 4701, 'ශ කර එ': 4477, 'වභ ව ධර': 4434, 'ශ කර ද': 4479, 'ල ගහ': 3871, 'ක ප ල': 742, 'ත ව ල': 1790, 'ස ස ග': 4711, 'ගත ත ග': 1219, 'ගත ත එ': 1218, 'සම බ': 4768, 'ණ ව': 1569, 'යල ම න': 3400, 'ක ජනත': 697, 'ක ජනත ව': 698, 'ළ ව': 4998, 'ර පත': 3586, 'ප ළ ව': 2732, 'ර ක ර': 3457, 'ත ම ව': 1716, 'මර න': 3199, 'පල ග': 2766, 'පල ක': 2765, 'ජ ඕ': 1321, 'තය න': 1864, 'ධ ර ම': 2231, 'ර ම ක': 3601, 'තය න ව': 1865, 'හර ඔය': 4951, 'න ඇත': 2264, 'ලකය ර': 4001, 'ර ම ප': 3606, 'ම ප ලකය': 3073, 'ප ලකය ර': 2698, 'ර බ ව': 3593, 'බ ව ම': 2881, 'උණ ස': 400, 'ද යව': 2089, 'ප තම': 2593, 'තම ඔය': 1843, 'න ව ත': 2443, 'ත ප ප': 1676, 'ව ඳ': 4245, 'ම සල': 3151, 'කර ප ර': 1020, 'ව ඳ ම': 4246, 'ල ක ද': 3848, 'ස ම ර': 4641, 'න නර': 2386, 'ට ඕ': 1421, 'ම ර න': 3107, 'ක හ ත': 891, 'ර මස': 3613, 'ස සය': 4727, 'ව ක යන': 4096, 'මන ස සය': 3193, 'අන කම': 114, 'කම ප': 951, 'ක ලකණ': 841, 'ලකණ න': 3997, 'චන දය': 1306, 'වරද ද': 4451, 'ද දඩ': 2003, 'ප ලකය ක': 2696, 'අන කම ප': 115, 'කම ප ව': 952, 'ක ලකණ න': 843, 'චර හ': 1317, 'ව ඇද': 4052, 'හ එ': 4801, 'න අව': 2262, 'එ ව තර': 466, 'න අව ර': 2263, 'ව වග': 4348, 'කල ස': 1087, 'කර ප ලකය': 1023, 'ලක අධර': 3985, 'අධර ම': 111, 'ඒක ව': 556, 'අව සන': 248, 'ප ලක අධර': 2694, 'ලක අධර ම': 3986, 'ක ප ව': 743, 'ව ද ව': 4208, 'භ වධර': 2930, 'වධර මය': 4426, 'අප තම': 155, 'ස භ වධර': 4636, 'භ වධර මය': 2931, 'ක ස හ': 885, 'ද ය ය': 2082, 'යල ත': 3392, 'මහ ර': 3223, 'ර ජපක': 3508, 'ජපක ෂ': 1380, 'ෂ හ': 4531, 'ක යල ත': 786, 'මහ ර ජපක': 3224, 'ර ජපක ෂ': 3510, 'ජපක ෂ හ': 1386, 'ෂ හ ර': 4532, 'ර කල ල': 3481, 'ම නර': 3060, 'ඉග ග': 345, 'උන හ': 424, 'හ ට ත': 4821, 'ම ෂ': 3142, 'ආධ ර': 286, 'ම අන': 2942, 'උන ත': 417, 'බ බද': 2854, 'ල අ': 3797, 'අ එ': 64, 'එ එෆ': 443, 'ලස ය': 4026, 'ප රධ': 2666, 'ක ව අල': 854, 'අ එ එෆ': 65, 'ස ලස ය': 4684, 'බ ක හ': 2803, 'ලක හ': 3994, 'ගහ ක ලක': 1264, 'ක ලක හ': 840, 'ගහ ඕ': 1261, 'ජ යය': 1348, 'වය ප': 4439, 'කරන ට': 1061, 'එ කර': 447, 'ර ජ යය': 3505, 'තත ත වය': 1830, 'ත වය ප': 1801, 'කර එ ව': 967, 'එ ව ද': 467, 'ව ද ල': 4207, 'ප රට ග': 2659, 'හර න හ': 4964, 'ත කරන': 1623, 'ද ත න': 1984, 'ල ග ස': 3870, 'ම පක': 3076, 'අවස න': 260, 'තන කර': 1832, 'බය ගහ': 2898, 'න ප ර': 2392, 'ජ ව ප': 1354, 'බය ක': 2897, 'ත අප': 1577, 'ත උ': 1590, 'උ ම': 387, 'යක ත': 3361, 'වගක ය': 4404, 'ම ර ල': 3111, 'ම ර ත': 3105, 'ර ත ප': 3525, 'යක ත ප': 3362, 'වගක ය ඕ': 4405, 'ට ත ප': 1443, 'ත ප ද': 1674, 'ය ව ක': 3340, 'ඔක ක හ': 572, 'හ ර ත': 4894, 'ව කත': 4110, 'ව කත කර': 4111, 'කත කර ව': 929, 'හ ද ත': 4846, 'ක යනව': 780, 'මග ල ක': 3168, 'ල ඇමර': 3814, 'ල හර': 3983, 'අමත ව': 202, 'පත ත ම': 2742, 'ක බ ල': 751, 'ල හර ම': 3984, 'න හ න': 2498, 'සල ල න': 4781, 'ව ජනත': 4137, 'ව ජනත ව': 4138, 'ස ර ල': 4667, 'ක ර බ': 806, 'ර බ ක': 3589, 'යන න ප': 3380, 'ප ක ර': 2557, 'ස ස ජ': 4712, 'ද අඩ': 1915, 'මහජනත ව': 3225, 'ම බර': 3083, 'බර ම': 2904, 'න ව ල': 2454, 'හ ද ස': 4852, 'ද ස ම': 2154, 'රට සල': 3722, 'ව වසර': 4353, 'වසර ර': 4470, 'ප දඩ': 2606, 'ස පව': 4629, 'රට සල ල': 3723, 'ත ත හ': 1649, 'ත හ ට': 1817, 'ග ව හ': 1197, 'ව බ ක': 4265, 'බ ක ල': 2801, 'ඩ ය': 1527, 'ණය ග': 1571, 'ව ඩ ය': 4168, 'ත ර ප': 1755, 'ස රන': 4675, 'තක කඩ': 1823, 'ල ත ර': 3884, 'ජන දය ද': 1364, 'ම ඩ ම': 3003, 'න ද අප': 2345, 'ගන න ප': 1231, 'ර ද ස': 3565, 'ද ස ය': 2155, 'ක br': 650, 'අප අව': 142, 'ක අප': 653, 'ආව ම': 305, 'එලව ද': 508, 'න ක ව': 2295, 'ස ක ර': 4558, 'ව න ව': 4234, 'අප ද ස': 157, 'ත යව': 1746, 'ක ට ස': 701, 'ත සන': 1813, 'හ ව ල': 4917, 'ප න ස': 2614, 'අර ග': 222, 'මන ත': 3186, 'ගනන ව': 1239, 'ක යව': 794, 'යව ප': 3411, 'මව ද': 3207, 'ය පන': 3320, 'ලය ග': 4016, 'ලස සන': 4028, 'ද මර': 2068, 'අ ය': 73, 'ත න ත': 1659, 'ප ල ක': 2684, 'ය ප ඩ': 3315, 'ද න ස': 2030, 'ය ද න': 3301, 'ම න න': 3052, 'න න ක': 2370, 'ර ත ලය': 3531, 'ග බ ර': 1169, 'ව ග ය': 4127, 'ත බ ස': 1701, 'කරග බ': 1059, 'ක එක': 660, 'වන ත': 4428, 'ල මල': 3926, 'ඔක ස': 573, 'ජ කන': 1323, 'ධ ම': 2226, 'ට රට': 1470, 'ච ර': 1299, 'ල ක ස': 3857, 'බ ම ක': 2857, 'න ස ර': 2483, 'ත ම න': 1712, 'ක හ ල': 897, 'ඔක ස ජ': 574, 'ස ජ කන': 4578, 'ජ කන න': 1324, 'කන න ක': 940, 'ක බ ද': 749, 'ද ධ ම': 2011, 'ර ග ඩ': 3488, 'ක ක ල': 675, 'ක ල ප': 831, 'අ ග': 66, 'ග කල': 1108, 'ක ල හ': 836, 'ල හ ත': 3977, 'උන ග': 415, 'ය කව': 3268, 'ර ව ල': 3647, 'ව ක ස': 4106, 'ර ඇත ත': 3437, 'එප ව': 500, 'ර හල ක': 3683, 'ලක හ ත': 3995, 'ම ණ': 3006, 'ත සම ප': 1815, 'ප ම ණ': 2627, 'ඩය ක': 1551, 'ග රය': 1183, 'එත ම': 491, 'ද ක න': 1949, 'ප ව ච': 2704, 'ලකණ ණ': 3996, 'ණ ය': 1567, 'ව වල': 4352, 'br ර': 33, 'ක ලකණ ණ': 842, 'ස හ ත': 4731, 'හ න ත': 4857, 'ත න ර': 1664, 'ය මන': 3331, 'ම යග': 3096, 'න වන': 2460, 'වන ස': 4432, 'න වන ස': 2461, 'ව ඩක': 4175, 'ඩක න': 1547, 'ස පර': 4628, 'ක ෂණය': 874, 'ලබ න': 4013, 'මර ව': 3201, 'න න ස': 2382, 'න න ර': 2379, 'ය ම ය': 3329, 'න මර ව': 2416, 'ත තල': 1651, 'සන න': 4761, 'ත ඔක': 1601, 'යක ප': 3363, 'ශ න ත': 4486, 'ර න ම': 3572, 'ප ද ව': 2604, 'ද ව රද': 2128, 'ගහ ග': 1265, 'ඕ හ ත': 644, 'එ ග': 448, 'න ච': 2315, 'ව හ ස': 4391, 'හ ස ප': 4923, 'න ච ච': 2316, 'ජ ත ර': 1340, 'දර ම': 2193, 'ග දර ම': 1144, 'දර ම ර': 2194, 'ග ල ක': 1187, 'රට ආර': 3699, 'ථ කය': 1904, 'හර සව': 4976, 'වය ල': 4440, 'රට ආර ථ': 3700, 'ආර ථ කය': 298, 'ස වය ල': 4705, 'වය ල බ': 4441, 'ල බ ත': 3911, 'බ ත ය': 2813, 'ත ය br': 1723, 'චර ව': 1315, 'කල ක': 1071, 'එප ම': 498, 'ඉන න': 361, 'ව ට ම': 4150, 'වස ත': 4468, 'තර ර ජක': 1887, 'ස න ත': 4613, 'ත ම ත': 1710, 'ම ත ද': 3010, 'දවස හර': 2207, 'ව බල': 4270, 'බල ප': 2914, 'ඇත ව': 314, 'ගත ව': 1225, 'ම පර': 3077, 'ඩක ම': 1548, 'චර කල': 1308, 'කල ර': 1084, 'රද ම': 3742, 'ධ රණය': 2233, 'තය ද': 1863, 'බල ප ර': 2915, 'ව ප ට': 4249, 'ප ට ට': 2572, 'ම ව වග': 3137, 'ව වග ක': 4349, 'ච චර කල': 1287, 'මන ග': 3185, 'ඉ ව': 340, 'ඒ ව ල': 548, 'ඔ ම': 566, 'උන ස': 423, 'ව ට නව': 4148, 'දක න': 2169, 'ම එද': 2960, 'එහ ම': 520, 'ම අද': 2941, 'න ග ම': 2310, 'ගන නක': 1233, 'ඒක ව ක': 557, 'ම ජ': 2998, 'අප ර බ': 175, 'ස කන': 4562, 'කන ධය': 936, 'ධය ද': 2245, 'ඉත ර': 350, 'ස කන ධය': 4563, 'ච ල': 1301, 'ව ඉ': 4053, 'ඳ න': 2543, 'ක ව හ': 869, 'ව හ ද': 4385, 'හ ද හ': 4853, 'හ ඳ න': 4862, 'ර කට': 3462, 'කට අර': 906, 'කල පන': 1079, 'පන ව': 2748, 'ය ම ර': 3330, 'කල පන ව': 1080, 'අවශ යත': 254, 'යත වය': 3370, 'අප බ': 168, 'ට කක': 1428, 'අවශ යත වය': 255, 'ර කට ට': 3464, 'න ක ර': 2292, 'ර ස ක': 3659, 'ස ක ල': 4559, 'ය ව ව': 3344, 'න ම ප': 2405, 'ක ද ක': 724, 'න දක': 2360, 'කට යව': 916, 'න අප ර': 2258, 'ර කට යව': 3465, 'ඕග ල': 646, 'කන ද': 934, 'ම අව': 2945, 'ඩ අප': 1488, 'රට ඉ': 3701, 'තම හ': 1861, 'බ ප': 2841, 'ඕග ල ල': 647, 'ව ස එ': 4360, 'ස එ ව': 4550, 'එ ව න': 468, 'න ස එ': 2474, 'කන ද ග': 935, 'ම අව ර': 2946, 'ද ක ව': 1954, 'හ ල බ': 4908, 'ප ළ ග': 2731, 'දක ණ': 2168, 'ට යව': 1467, 'කර ෂණය': 1051, 'කට ට යව': 913, 'ග ර ත': 1180, 'ත ව කර': 1781, 'ව කර ෂණය': 4116, 'ප ට ද': 2573, 'අ ඊ': 63, 'ද පහ': 2051, 'පහ ව': 2784, 'ස එකක': 4552, 'ව ය න': 4293, 'ර ද පහ': 3559, 'ර ග ස': 3493, 'ව ස එකක': 4361, 'ද ඩව': 1982, 'මස සල': 3212, 'අභ ය': 195, 'ර ක හ': 3461, 'ර මස සල': 3614, 'ම නය': 3059, 'ත අන': 1576, 'අන රට': 131, 'ප රද': 2664, 'රද ශය': 3745, 'ර නව': 3576, 'බ ප ර': 2842, 'ද ය ම': 2081, 'ර කට එ': 3463, 'ක ව ඒ': 856, 'ප රද ශය': 2665, 'ප ත ර': 2589, 'ත ර නව': 1754, 'හ න ව': 4859, 'ප ළව': 2734, 'ක හ ග': 890, 'ක නය': 737, 'ව ක නය': 4090, 'හම බන': 4945, 'ච න': 1293, 'හම බන ත': 4946, 'ත ච න': 1631, 'ද ගත': 1966, 'ම ද ගත': 3027, 'ද ගත ත': 1967, 'බර අඩ': 2901, 'කන ධය න': 938, 'බර අඩ ව': 2902, 'ය එප': 3247, 'වර ග': 4445, 'ව පල': 4261, 'ද ඉද': 1932, 'ද ක ය': 1951, 'ක ය එප': 767, 'ද ඉද ර': 1933, 'ම ක ත': 2968, 'ක ත ව': 720, 'ත ව ස': 1792, 'ධය ව': 2249, 'ත වජ': 1796, 'වජ ත': 4408, 'ත වරණය': 1803, 'වරණය ව': 4450, 'න බර': 2397, 'ව න ග': 4226, 'ර ත වජ': 3533, 'ත වජ ත': 1797, 'වජ ත වරණය': 4409, 'න ප ව': 2393, 'ප ව ය': 2709, 'ජනය ව': 1378, 'ල ව ත': 3949, 'ල වන': 3963, 'ප ල වන': 2690, 'ල වන න': 3964, 'ශප ලනඥය': 4506, 'ද ශප ලනඥය': 2140, 'කට ට ද': 912, 'ව ඔය': 4079, 'ඔව ද': 617, 'ර න ස': 3574, 'ද අය': 1920, 'අය ත අප': 208, 'ත අප න': 1578, 'අප න ල': 160, 'ල ප ල': 3904, 'ක ග ර': 690, 'ම br': 2937, 'ස හර': 4736, 'ව ලල': 4333, 'ග ම ම': 1173, 'ක ය ග': 771, 'ය ග න': 3271, 'ස ත ත': 4587, 'ත ත න': 1642, 'ත න ස': 1666, 'ක ණග': 712, 'ව ස ත': 4365, 'ර ව ක': 3636, 'ව ක ණග': 4087, 'ඉ ද': 332, 'එව ම': 516, 'ව ල ක': 4326, 'ම ල බ': 3123, 'ල බ න': 3913, 'බ න න': 2835, 'ද ව තම': 2119, 'ම ර ක': 3100, 'ඕ ර ජපක': 641, 'ව ඩ ක': 4158, 'හල න': 4984, 'ව අප රට': 4038, 'රට ක ල': 3703, 'න ක න': 2288, 'රන ල ම': 3753, 'ම ක හ': 2978, 'අය කල': 205, 'රව ස': 3777, 'ක ව ත': 860, 'ව ත ප': 4182, 'ප රව ස': 2675, 'ත පර': 1687, 'ත නය': 1668, 'ර ත ර': 3529, 'ර ව අප': 3634, 'ස ත නය': 4589, 'ච ච ර': 1285, 'තර ස ක': 1892, 'ය ක ච': 3255, 'ක නල': 738, 'ව ක රට': 4099, 'ව ක නල': 4091, 'ව ග දර': 4125, 'ඒ තම': 531, 'රස ග': 3783, 'තම හ ත': 1862, 'ත ල ක': 1773, 'ඕ ත': 632, 'මහත ත': 3226, 'ක එ න': 659, 'ව අඩ': 4033, 'ව බර': 4269, 'බර ග': 2903, 'ත ට': 1636, 'ද වල': 2132, 'ශ කය': 4475, 'පද ර': 2745, 'න එහ': 2276, 'ධය අඩ': 2241, 'න ව අඩ': 2437, 'න ම ද': 2403, 'ව ද ශ': 4209, 'ද ශ කය': 2134, 'ර ථ ප': 3541, 'අඩ ව න': 95, 'කන ධය අඩ': 937, 'ධය අඩ ව': 2242, 'ක බ ර': 750, 'ව ගය': 4129, 'ව ට න': 4147, 'ට න න': 1449, 'ආතර ස': 283, 'ල මහත': 3927, 'මහත ම': 3228, 'ත ග ඩ': 1626, 'ආතර ස ක': 284, 'ක ල මහත': 833, 'ම තම ම': 3021, 'ක ල එ': 825, 'එ න ත': 456, 'ද තම': 1988, 'අප පච': 165, 'පච ච': 2738, 'ච ව': 1302, 'අප පච ච': 166, 'තර හ': 1895, 'මද න': 3181, 'න අඩ': 2254, 'ව තර හ': 4197, 'හ මද න': 4882, 'ය ගන': 3277, 'ඒ හ': 550, 'බ න ත': 2833, 'ත න අප': 1657, 'ඕ කල': 630, 'න ර ජපක': 2429, 'න හ ට': 2495, 'ම හ ර': 3160, 'කට ට ක': 911, 'ට ක ර': 1425, 'අඩ ත': 92, 'හ ණ': 4827, 'ව කරල': 4119, 'කරල ත': 1066, 'ච කර': 1280, 'ය බ': 3323, 'ට අව': 1409, 'ත ය අප': 1724, 'ප හ ණ': 2726, 'හ ණ ව': 4828, 'න ග ය': 2311, 'හ ක ර': 4806, 'ර ඩ ව': 3516, 'ච ච කර': 1284, 'ය බ ර': 3324, 'ප හ ට': 2725, 'ස ල බ': 4681, 'ඒ ම ක': 539, 'රය ද': 3764, 'හ ලද': 4910, 'ලද ව': 4003, 'ද සම': 2159, 'අත ත': 98, 'ත ශ': 1805, 'ද ශය': 2142, 'ශය ක': 4509, 'ර අ': 3420, 'ළ ද': 4992, 'තම න': 1850, 'ණ කර': 1557, 'සත ය': 4757, 'ස යළ': 4658, 'ද ද හ': 2002, 'හ ලද ව': 4911, 'අප බ ද': 169, 'කල න ත': 1076, 'ත ශ ර': 1806, 'ක ස ර': 881, 'ස ර ද': 4664, 'ම ර අ': 3099, 'ර බ ද': 3590, 'ර ව ද': 3640, 'කර ණ කර': 997, 'හ ද ක': 4844, 'ද ක ස': 1955, 'ල ජ ව': 3875, 'ව ස යළ': 4369, 'ඇත ත ම': 310, 'ළ දක': 4993, 'ච නල': 1294, 'නල එ': 2525, 'ච නල එ': 1295, 'බර ස': 2906, 'ධය ක': 2243, 'න මග': 2413, 'එ අන': 439, 'ක කත': 681, 'ල ක න': 3849, 'ව ස ක': 4362, 'උඩ ග': 394, 'දක න උ': 2170, 'උඩ ග හ': 395, 'ව දක': 4214, 'තරය හ': 1897, 'ක රන': 816, 'අර ප': 225, 'ව යල': 4301, 'උඩ පන': 396, 'යල බ': 3398, 'ද හප': 2166, 'ඉන ට': 357, 'ට ආතල': 1411, 'ක ලව': 851, 'ට ආතල අස': 1412, 'රට ක ලව': 3704, 'දල ල': 2200, 'ල ල හ': 3942, 'news එ': 47, 'ය ග බ': 3272, 'හර ග': 4956, 'ඉව ව': 368, 'ලන ක ව': 4006, 'ක ල හර': 837, 'ග ය ද': 1177, 'ස කර ව': 4566, 'න ක ලක': 2294, 'න ඉත': 2267, 'ද ද ල': 1999, 'හ ග න': 4812, 'ර කරව': 3477, 'අවජ ත': 249, 'ල බල': 3917, 'ද රට': 2103, 'රට සම': 3721, 'ත ද ශප': 1655, 'ල බල ල': 3918, 'ඉ ම න': 339, 'ද ව ල': 2129, 'මහ මහත': 3220, 'මහත තය': 3227, 'මහ මහත තය': 3221, 'ල ක tourism': 3842, 'ම අහ': 2947, 'න හ ක': 2493, 'න උ ම': 2269, 'ම ර ග': 3102, 'ව ප ල': 4254, 'ධය න ම': 2247, 'න ම බර': 2406, 'න දන': 2361, 'න අඩ ව': 2255, 'ධය ග': 2244, 'ත ව ද': 1784, 'ද දර': 2005, 'ල පක': 3906, 'කර ශනය': 1049, 'ව කර ශනය': 4115, 'ක ල ග': 827, 'ය ක යල': 3260, 'ෂණය අඩ': 4533, 'කර ෂණය අඩ': 1052, 'ඩ කල න': 1503, 'චර වට': 1316, 'කඩ ග': 921, 'ග හර': 1216, 'ද ෂ ත': 2144, 'ර කර ව': 3474, 'ව ව ත': 4338, 'ව ත ම': 4184, 'ස ස අන': 4708, 'ම කර ද': 2986, 'ම ස ම': 3146, 'ස ම හ': 4644, 'ම ත ර': 3015, 'ශය ම': 4511, 'යන නක': 3382, 'ය කල': 3267, 'ව සද': 4374, 'ම බ ද': 3080, 'ද න ග': 2020, 'ත ව හ': 1793, 'ද ච': 1974, 'ප ල හ': 2692, 'ට න හ': 1451, 'න හරක': 2507, 'ඒක ම': 555, 'නව ද න': 2533, 'ස ච': 4575, 'ත රය': 1766, 'රය ප': 3765, 'ද ඉත': 1931, 'ස ච ර': 4576, 'ත රය ප': 1767, 'හ කල': 4809, 'ල ල ර': 3940, 'ල ර මස': 3932, 'කරල ත ය': 1067, 'ම ක ල': 2975, 'ල ඇමර ක': 3815, 'ර ශ': 3656, 'ද රණ': 2104, 'ෂණය ත': 4534, 'ක ෂව': 875, 'න ස ප': 2479, 'ස ප ක': 4620, 'ප ක ෂව': 2558, 'ත මර': 1720, 'ව ද ර': 4206, 'ත ප ත': 1673, 'ද ප ල': 2043, 'ඉ ත බ': 330, 'ල උඩ': 3822, 'උඩ යන': 398, 'උඩ යන න': 399, 'ක කය': 684, 'අප ප ර': 164, 'ර කල ද': 3479, 'ද ද ය': 1998, 'ක මන': 762, 'ත රණය': 1761, 'ක මන ත': 763, 'මන ත රණය': 3188, 'තම දක': 1849, 'අඩ ද': 93, 'උඩ ය': 397, 'ඒ තම දක': 532, 'න අර': 2260, 'ඒ ව දක': 547, 'හ ල ල': 4909, 'ල ල ද': 3936, 'යව ද': 3410, 'ක ර ප': 805, 'ම ම ම': 3087, 'ආන ද': 289, 'ඒක හර': 558, 'ආය න': 295, 'ට ආය': 1413, 'මහ න ද': 3216, 'න ද එ': 2346, 'ට අඩ': 1404, 'ව සඳ': 4376, 'ප ව ප': 2708, 'ව ප ව': 4256, 'න ව හ': 2457, 'හ හ බ': 4929, 'ය හම': 3359, 'ට br': 1403, 'ණ න': 1564, 'කල අප': 1069, 'අප ඕ': 148, 'ට යන': 1466, 'හ ට යන': 4824, 'ව මද': 4286, 'හර ක හ': 4954, 'එ හ ත': 472, 'ශනය අඩ': 4500, 'කර ශනය අඩ': 1050, 'ක න න': 731, 'ද 4': 1909, 'න ශය': 2471, 'ර ද 4': 3545, 'ක කත ව': 682, 'ව න ශය': 4236, 'ම ආන': 2948, 'ම උ': 2951, 'ආන ද ල': 290, 'යල ත බ': 3393, 'ම ජ ත': 2999, 'ඒක දක': 552, 'ඒක දක න': 553, 'ය තම': 3291, 'ත ත ප': 1643, 'ව ක ය': 4095, 'හ ත ක': 4830, 'පර න': 2758, 'පර න ව': 2759, 'බර මන': 2905, 'ල ග ර': 3869, 'ත ත ර': 1647, 'ර ත ම': 3527, 'ත ම ම': 1714, 'ඒ තම ල': 533, 'අ ද': 68, 'ද ලනය': 2114, 'ලනය ක': 4007, 'එනව ක': 495, 'ල ස ව': 3972, 'ස මන': 4646, 'ව රන': 4321, 'ප ජ': 2569, 'ව රන ල': 4322, 'තය ව': 1869, 'බ බ හ': 2853, 'බ හ ත': 2884, 'රක කර': 3684, 'අය ය': 216, 'හ රක කර': 4903, 'යල ස': 3407, 'බ ද හ': 2828, 'ක යල ස': 792, 'ද හ ල': 2165, 'බ කල': 2806, 'ව ක ලව': 4103, 'හ ත ම': 4837, 'ව යන': 4298, 'ෂ කර ද': 4514, 'ද ව යන': 2126, 'ඒ ච': 527, 'ද ල ස': 2113, 'හ ත ග': 4832, 'ණ ග': 1558, 'ග රවය': 1185, 'ණ ස': 1570, 'අප උ': 145, 'ෂ ල': 4525, 'යව ම': 3413, 'ජපක ෂ ල': 1384, 'ඩ න ස': 1520, 'ත මක': 1718, 'ව න ඩ': 4227, 'උ අය': 376, 'අය අ': 203, 'ආන ද ලනය': 291, 'ග ඩ ය': 1125, 'ම බ බ': 3081, 'බ බ ම': 2852, 'බ ල ල': 2876, 'ව ඉවර': 4059, 'ම න ම': 3053, 'න ම ර': 2409, 'ට ප ර': 1453, 'කර ගත': 990, 'හ ම න': 4872, 'ක හ ය': 895, 'ට උඩ': 1418, 'අය න': 211, 'ඒ ද': 534, 'ල ආ': 3811, 'ඩය ප': 1554, 'වග කර': 4402, 'කර පමණ': 1025, 'ව ල හ': 4330, 'ත ය හ': 1739, 'ය හ ත': 3355, 'ය ව බ': 3343, 'ප ප කර': 2617, 'ඩය ප ල': 1555, 'ඔ ක': 562, 'උන ප': 420, 'ස නස': 4618, 'ම ව හ': 3139, 'ප ස ප': 2720, 'ග ය න': 1178, 'ත බ ව': 1700, 'බ ව ද': 2879, 'රගත ත': 3689, 'පහලව න': 2786, 'ලය ව': 4023, 'දම ව': 2180, 'ස අ': 4540, 'ර සම': 3667, 'උත ත': 401, 'ස ඉන': 4548, 'රට හද': 3725, 'ර කනග': 3466, 'තම බ ද': 1854, 'පහලව න න': 2787, 'න ම ම': 2407, 'ස අප රට': 4545, 'ස ග ත': 4571, 'ග ත ක': 1132, 'හ ත ව': 4840, 'අන ගත': 116, 'හද ස': 4939, 'ල මහත ත': 3928, 'ත ක ව': 1613, 'ව අන ගත': 4036, 'ද ස ත': 2150, 'ත ද ක': 1653, 'එත ම ක': 492, 'ඔය න': 604, 'නත ත': 2513, 'ව ක ලක': 4102, 'ව දය': 4219, 'ලය ක': 4015, 'ල ල ව': 3941, 'ව ස න': 4367, 'ස න කර': 4612, 'ක ලය ක': 848, 'ක ක ලය': 676, 'ත ල ග': 1774, 'ජපක ෂල': 1387, 'ර ජපක ෂල': 3511, 'අප ය': 173, 'ම ඇත': 2949, 'ද උන': 1936, 'ද ප හ': 2045, 'ල ඉද': 3817, 'ඔය ද න': 603, 'භ ම': 2926, 'න ත බ': 2334, 'ල කඩ': 3859, 'කඩ ය': 922, 'එප යක': 499, 'ත අ': 1575, 'අම ත': 196, 'නතර කර': 2514, 'ක ප ර': 741, 'ර ත ය': 3528, 'ව ත ද': 4180, 'කර ම ඩ': 1032, 'ර වල': 3655, 'ට වල': 1476, 'ත ත අප': 1638, 'ව ට වල': 4152, 'තර ක ල': 1877, 'ර තර': 3538, 'නය ත': 2519, 'ව ලබ': 4331, 'ධ මත': 2227, 'හ ත ර': 4839, 'ර ද 8': 3549, 'ද ධ මත': 2012, 'ල කල': 3863, 'ද ර ල': 2099, 'ල ක බ': 3851, 'න ස අප': 2473, 'උ ප ල': 385, 'ග ස ද': 1204, 'ර ද 2': 3544, 'ද ය ද': 2078, 'වන ව': 4431, 'ව ය ද': 4291, 'පර ප': 2760, 'ප ර හ': 2652, 'න ග ට': 2307, 'ත කත ව': 1617, 'ෂල ව': 4537, 'තම ප': 1851, 'ජපක ෂල ව': 1388, 'ෂල ව ඩ': 4538, 'තම ප ද': 1852, 'ප ද ම': 2601, 'අප ආද': 144, 'ප මන': 2630, 'රය ග': 3762, 'නම ම': 2517, 'ත ර ක': 1748, 'ද ට': 1979, 'ප ව න': 2707, 'ග ව ස': 1196, 'ප ව ව': 2711, 'ජපක ෂ ක': 1381, 'රණව ර': 3728, 'රද ග': 3740, 'ප රක': 2653, 'න තක': 2340, 'බ ල ව': 2877, 'ස ර ව': 4668, 'ව ල ජ': 4327, 'ජ ජ න': 1330, 'රනව ර': 3757, 'ව මර': 4287, 'ඇව ක': 320, 'කද ල': 933, 'රක ශ': 3686, 'න ඔබ': 2280, 'නය ග': 2518, 'ර වන ව': 3653, 'ල හ ල': 3980, 'වය ස': 4442, 'ර br': 3419, 'ස ත ප': 4590, 'ප ගල': 2565, 'ගල ක': 1246, 'ඉවර කර': 370, 'ප ප ගල': 2618, 'ප ගල ක': 2566, 'ගල ක ක': 1247, 'ම ඩ ව': 3004, 'ත අම ත': 1581, 'අම ත ත': 197, 'ත ව ත': 1783, 'බ ර ග': 2865, 'ර රක': 3626, 'අභ ම': 193, 'br ය': 31, 'මව බ': 3209, 'අභ ම නව': 194, 'ද ර ද': 2094, 'මව බ ම': 3210, 'නව කල': 2530, 'මහ ප': 3218, 'ම නව කල': 3063, 'අල ම': 231, 'ම කඩ': 2981, 'අල ම කඩ': 232, 'ම කඩ ය': 2982, 'කඩ ය ක': 923, 'ය ද කර': 3295, 'රණව ර ස': 3730, 'ල තම': 3885, 'පවත ව': 2781, 'වව ග': 4465, 'ද දය': 2004, 'ස අත': 4541, 'වව ග ක': 4466, 'ය ද දය': 3298, 'ස අත ව': 4542, 'ද කල': 1958, 'කර රණව': 1041, 'කල එ': 1070, 'ස මර': 4648, 'රණව ර ව': 3729, 'කර රණව ර': 1042, 'ස මර ප': 4649, 'බල ද': 2913, 'කල හ': 1088, 'ට අය': 1406, 'ම ද ශප': 3036, 'ක න හ': 736, 'හ ම ප': 4873, 'ත රණව': 1762, 'ශ ක': 4473, 'ව ආරක': 4048, 'ව ස වය': 4372, 'ත රණව ර': 1763, 'ව ඩ ල': 4169, 'ව ආරක ෂ': 4049, 'ස වය කර': 4703, 'යග ස': 3368, 'යල රනව': 3403, 'ම යග ස': 3097, 'යග ස යල': 3369, 'ස යල රනව': 4656, 'යල රනව ර': 3404, 'රනව ර ව': 3758, 'කර රන': 1043, 'උත සව': 407, 'ච ය': 1297, 'ම දවච': 3043, 'දවච ච': 2201, 'ව ක ල': 4101, 'ක ල න': 830, 'ල න ච': 3891, 'ච ය ක': 1298, 'ය ක ම': 3257, 'ක ම දවච': 757, 'ම දවච ච': 3044, 'දවච ච ය': 2202, 'ව එ න': 4065, 'ද ආබ': 1926, 'ආබ ධ': 293, 'යළ ව': 3417, 'ර රණව': 3628, 'ය උත': 3241, 'ප ද ආබ': 2595, 'ද ආබ ධ': 1927, 'ආබ ධ ත': 294, 'ධ ත ව': 2219, 'ස යළ ව': 4659, 'යළ ව ර': 3418, 'ද ර රණව': 2098, 'ර රණව ර': 3629, 'රණව ර හ': 3731, 'ර හ ජ': 3673, 'හ ජ ත': 4818, 'ජ ත ය': 1338, 'ත ය උත': 1725, 'ය උත තම': 3242, 'අක ල': 79, 'අ ල': 74, 'ද රණව': 2105, 'ය යන': 3333, 'අ ල ක': 75, 'ප ද රණව': 2603, 'ද රණව ර': 2106, 'ද ය යන': 2083, 'සද න': 4760, 'ද ඔබ': 1942, 'ඔබ ස': 589, 'ස ව න': 4690, 'හ ර න': 4896, 'br හ': 39, 'br බ': 26, 'න සත': 2489, 'ර සත': 3666, 'br න': 24, 'න යකත': 2422, 'යකත වය': 3366, 'br ඔබ': 16, 'හ br': 4794, 'ස br': 4539, 'පරප ර': 2764, 'br ම න': 28, 'ව ර ව': 4311, 'න ව ර': 2452, 'න යකත වය': 2423, 'br ද ද': 23, 'ද ද න': 1995, 'br ය ද': 32, 'ද ධය ද': 2015, 'ව තය ප': 4189, 'ද br ක': 1913, 'ර ර ය': 3625, 'ධ කර': 2214, 'ච ච ක': 1283, 'ය ද ධ': 3299, 'ග හ හ': 1215, 'ක න ප': 732, 'ත ර ස': 1757, 'ර ප ද': 3579, 'ද ර බ': 2096, 'ර බ ර': 3591, 'ර ද ක': 3551, 'යල රණව': 3401, 'ල ඔක': 3834, 'ප ද ස': 2605, 'ස යල රණව': 4655, 'යල රණව ර': 3402, 'ල ඔක ක': 3835, 'ද ෂප': 2146, 'ෂප ල': 4535, 'ව රණව': 4315, 'ඔය ර': 611, 'ස හලය': 4740, 'ද ෂප ල': 2147, 'ෂප ල ව': 4536, 'ව රණව ර': 4316, 'ආච රය': 280, 'රය br': 3761, 'ශ ෂය': 4497, 'අද ය': 105, 'ද ව ස': 2131, 'ව ශ ෂය': 4358, 'යක ක': 3360, 'ර සමර': 3668, 'තල ව': 1899, 'තල ව ඩ': 1900, 'ද මළ': 2071, 'මළ ම': 3230, 'ත කය': 1621, 'බ ර ක': 2863, 'මන ත රණ': 3187, 'ද මළ ම': 2072, 'ර ද ය': 3561, 'ජ ත කය': 1335, 'ය ධ': 3306, 'මත ක': 3170, 'ත ල න': 1775, 'ර ව ම': 3644, 'ම ස ල': 3148, 'ප වල': 2715, 'හ උන': 4800, 'රත ව': 3736, 'න හ ය': 2501, 'ජය ග': 1389, 'ක පව': 747, 'පව ද': 2775, 'හ ළ': 4933, 'ත ෂ': 1807, 'ර හ න': 3676, 'ද ර ග': 2092, 'ව ද නව': 4202, 'ව දන': 4216, 'හල ජ ත': 4982, 'ජ ත ව': 1341, 'ම දක': 3039, 'ර ව ව': 3648, 'ස ව ය': 4691, 'කම ග': 947, 'චර ක': 1307, 'ක පක': 744, 'පක ර': 2735, 'ව පත': 4260, 'ජ කය': 1325, 'ක පක ර': 745, 'ර ර ථ': 3624, 'ර ය න': 3618, 'ස ම ජ': 4638, 'මත කර': 3171, 'ග රව': 1184, 'මත කරන': 3173, 'අන අය': 112, 'br රට': 34, 'මත කරන න': 3174, 'හර ද ක': 4962, 'ර ව ර': 3646, 'සත ට ත': 4753, 'කර සල': 1054, 'ද උ': 1935, 'උ අප': 375, 'කර සල ල': 1055, 'බ රගත ත': 2874, 'ව ඔබ': 4074, 'සසර ප': 4787, 'ස බල': 4634, 'ෂ න': 4519, 'යකය න': 3367, 'ඔබ අප': 576, 'අප අ': 137, 'ර ව ඔබ': 3635, 'ව ඔබ ස': 4076, 'ඔබ ස ම': 590, 'සසර ප ර': 4788, 'ද ව ර': 2127, 'ර ඝ': 3499, 'ඝ ය': 1274, 'ද ර ඝ': 2093, 'ර ඝ ය': 3500, 'ඝ ය ෂ': 1275, 'ය ෂ ල': 3348, 'ෂ ල බ': 4526, 'ල බ ව': 3916, '8 ප': 6, 'ද ව එප': 2116, 'ර කර ප': 3473, 'ව අම': 4039, 'ද ස ව': 2157, 'ස රස': 4677, 'රස ප': 3791, 'අමත කර': 201, 'කර එප': 969, 'එප ක': 496, 'ක ඹ': 765, 'න ද ව': 2357, 'න ව අප': 2438, 'ත ක න': 1607, 'ස රස ප': 4678, 'දර ශනය': 2199, 'න ස හලය': 2488, 'ල ල ප': 3938, 'දහස ද': 2210, 'ද ප ක': 2037, 'න දහස ද': 2364, 'ට අව ද': 1410, 'න ප ත': 2389, 'ත ප න': 1675, 'මද ම': 3182, 'න ඔය': 2281, 'ආත ම': 282, 'ග ඩ ද': 1124, 'හ මද ම': 4883, 'ල බ ක': 3910, 'ම ග ඩ': 2991, 'ණ ම': 1566, 'ජ කළ': 1327, 'කළ ව': 1096, 'ප ජ කළ': 2570, 'ම ද ව': 3035, 'ව න ර': 4232, 'ඔය ඔක': 598, 'br ඒ': 15, 'න ද ග': 2348, 'ද ග ට': 1961, 'ව ණ': 4177, 'ර ව ණ': 3639, 'ල ප ද': 3900, 'ර සරණ': 3669, 'ත ර සරණ': 1758, 'ප ච ච': 2568, 'ලක බල': 3989, 'ක ලක බල': 839, 'බල ල ග': 2917, 'න ත හ': 2339, 'ත හ න': 1819, 'ශ කර ක': 4478, 'ප හ ර': 2728, 'ගල ක ලය': 1248, 'න තර': 2342, 'ද නය': 2034, 'ස ට ය': 4584, 'ට ය ත': 1464, 'තර හ ත': 1896, 'හ ත ද': 4834, 'හල ද': 4983, 'ද මල': 2069, 'මල ජන': 3204, 'ලස ස': 4027, 'ත ඒව': 1599, 'කව ත': 1090, 'ය තර': 3292, 'ර පල': 3587, 'හම ව': 4947, 'ද මල ජන': 2070, 'මල ජන ද': 3205, 'න ව මර': 2450, 'ව ම උත': 4275, 'ම උත ර': 2954, 'උත ර ක': 405, 'ර ක ට': 3452, 'ත ත බ': 1644, 'න ම ග': 2402, 'හ අප': 4796, 'අප උත': 146, 'අප උත තම': 147, 'අප පව': 167, 'ධ මත ව': 2228, 'ම රන': 3115, 'ම රන ල': 3116, 'අ ම': 71, 'අ ම හ': 72, 'ද ත ව': 1987, 'ද ඇත': 1930, 'ක ස ල': 882, 'කනග ට': 942, 'න ල බ': 2433, 'ෂ මහත': 4523, 'රධ න': 3746, 'ජපක ෂ මහත': 1383, 'ල ඇද': 3813, 'ව උත': 4061, 'ත ව උත': 1780, 'අ අප': 62, 'ර භ': 3598, 'භ ත': 2925, 'ල ක කය': 3844, 'ල ලක': 3943, 'ක තර': 722, 'සක ක': 4743, 'ළ රට': 4997, 'ඒ ස': 549, 'ජනත ව ර': 1374, 'ව අත': 4034, 'ව ත ර': 4186, 'ස රණව': 4673, 'ස රණව ර': 4674, 'ද සරණය': 2161, 'ස ම බ': 4640, 'බ ද සරණය': 2827, 'ව ටහ': 4155, 'ත ගත': 1629, 'ප අප': 2549, 'හරය න': 4979, 'පල ය': 2770, 'ය ක ස': 3264, 'ජ ජ ව': 1331, 'ජ ව න': 1353, 'න ජ ත': 2318, 'රන ල ය': 3755, 'ප ත ප': 2586, 'ප ත බ': 2588, 'ක ම හ': 761, 'ම ල න': 3121, 'මර ද ම': 3198, 'ඉවර ක': 369, 'ර ඉවර': 3440, 'ප ස ද': 2719, 'ර ග ය': 3492, 'ප ද න': 2599, 'හ ට හ': 4825, 'ලය එ': 4014, 'ත වක': 1794, 'වක ක': 4396, 'ක ල ම': 832, 'ක ත ප': 716, 'ද ද කර': 1992, 'ඨ භය': 1482, 'භය ර': 2935, 'ග ඨ භය': 1122, 'ඨ භය ර': 1485, 'භය ර ජපක': 2936, 'ව කම': 4112, 'ත ආගම': 1585, 'ව කම න': 4113, 'ජ ත ආගම': 1333, 'ර ගහ': 3498, 'සජ ක': 4745, 'ම ප ත': 3068, 'ද න ද': 2023, 'ක හ උන': 888, 'බ බ ප': 2850, 'ඔබත ම': 592, 'තර වට': 1889, 'වට ක': 4412, 'තර වට ක': 1890, 'ව හ න': 4386, 'තය ප ජ': 1867, 'ව br ම': 4030, 'හ රට': 4905, 'රට කර ව': 3706, 'කර න ම': 1016, 'ත ම ග': 1708, 'වල හ': 4464, 'ප ටර': 2577, 'ෂ සර': 4530, 'සර ප': 4777, 'ර ග ත': 3489, 'ග ත ත': 1133, 'ජපක ෂ සර': 1385, 'න ස ද': 2478, 'බ ඳ': 2840, 'කර හ ර': 1057, 'අප න ව': 161, 'ර අග': 3421, 'ර ම ත': 3602, 'ව න ක': 4225, 'ඔබ ම': 588, 'නක ද': 2510, 'ම ර ණ': 3104, 'කර එව': 970, 'රන අන': 3747, 'හ ටප': 4826, 'ම ත ම': 3013, 'සජ හ': 4751, 'ර ච': 3501, 'ච ක ර': 1279, 'ම ප ස': 3074, 'එක ම': 481, 'කර රට': 1040, 'ව අවස': 4044, 'අවස ත': 256, 'අවස ත ව': 257, 'න නය': 2385, 'ස ව ද': 4688, 'හ හ ට': 4928, 'හ ට ය': 4823, 'ර කරනව': 3475, 'ක අන': 652, 'ච ත ර': 1291, 'කලය ත': 1089, 'ක ස ප': 880, 'බ අරගල': 2793, 'ගන ල': 1236, 'ට ඉ': 1416, 'ඉ අය': 323, 'ව හ ප': 4387, 'හ ප ර': 4866, 'ට තම': 1444, 'ඉවර ව': 371, 'ව අව': 4043, 'අප ත': 154, 'තර බ': 1885, 'හ වල': 4920, 'ල හ ට': 3976, 'ව ග ඩ': 4124, 'ව තර බ': 4196, 'ගම පහ': 1241, 'කය ක': 953, 'හ ඟ': 4816, 'අනත ර': 135, 'ඉස ක': 372, 'ඉස ක ල': 373, 'ම ර ජපක': 3103, 'ඉන නක': 362, 'න ක ම': 2289, 'ගම ය ක': 1244, 'ත ම ර': 1715, 'ම ර ප': 3108, 'ව ට ව': 4151, 'ඔය කර': 600, 'ර හද': 3679, 'ත ප ර': 1679, 'එක ප': 480, 'ට අර': 1408, 'බ බ ක': 2847, 'හම බ ව': 4944, 'ස ද ක': 4602, 'ද ක ම': 1950, 'ගල න': 1249, 'ර ණ ගල': 3519, 'ම හ හ': 3163, 'තල ක': 1898, 'ව හ ත': 4384, 'කර අපර': 960, 'ල ග ම': 3868, 'ලකය ම': 4000, 'රක න': 3685, '88 89': 7, 'ම තන කර': 3019, 'ප ලකය ම': 2697, 'චන ද ද': 1305, 'අය න ව': 212, 'න ව රද': 2453, 'දවස ම': 2205, 'ද ම ව': 2064, 'ව ඇත ත': 4051, 'කනග ට ව': 944, 'ෂ ව ව': 4528, 'අර බ': 226, 'හ හ ර': 4930, 'ර ද අප': 3550, 'ද ව ය': 2125, 'ඩ න ම': 1519, 'කල ප කර': 1078, 'ක කට ට': 679, 'කර බ ර': 1027, 'බ ර කර': 2864, 'ය ල ව': 3338, 'ද යක': 2087, 'යක ව': 3365, 'ඉල ලග': 367, 'ද යක ව': 2088, 'ද ෂණය': 2145, 'ත බල': 1702, 'න වර': 2462, 'හ ව ව': 4918, 'න ප ද': 2390, 'ම බ ර': 3082, 'ක ව ස': 868, 'ඒ ම ද': 540, 'ර ය ම': 3619, 'ර ග ගත': 3487, 'ඩ හ ඳ': 1543, 'ව ඉ බ': 4054, 'ළ න': 4994, 'අපහස ත': 192, 'අප ව ඩ': 184, 'ආද ර': 285, 'බ ණ': 2811, 'ඔය ග': 601, 'ලග ත': 4002, 'අන ර': 129, 'ද න ක': 2019, 'ව කක': 4108, 'හය හ': 4950, 'පම ප': 2750, 'පම ප ර': 2751, 'ප ර ගහ': 2638, 'න වරඑළ': 2463, 'තව දය': 1902, 'ද ආරක': 1928, 'ද ආරක ෂ': 1929, 'ව අහ': 4046, 'රත පලය': 3734, 'ප රත පලය': 2662, 'ව ජ ව': 4134, 'උද කර': 409, 'ර බන': 3594, 'බන ක': 2893, 'රව න': 3774, 'ඉල අස': 364, 'ත ය එ': 1726, 'ඉල අස ව': 365, 'ජනත ව හ': 1376, 'ව හ ට': 4383, 'කර ගත ත': 991, 'යව එ': 3409, 'ත ක යව': 1609, 'ක යව එ': 795, 'ප ග න': 2564, 'ත ග ත': 1627, 'ම ග ත': 2992, 'බ න ම': 2836, 'ත ය ගත': 1730, 'අගම ත': 82, 'යම ක': 3384, 'br තව': 21, 'ඉඩ ද': 348, 'අගම ත ත': 83, 'න ව අය': 2439, 'ල අවශ යත': 3807, 'ත ක ලය': 1612, 'ප ත න': 2585, 'ෂ ම': 4521, 'න වස': 2465, 'හ දක': 4854, 'රත ම': 3735, 'උ ත': 380, 'දඩ ල': 2172, 'ස ඔබ': 4553, 'ඔබ ත': 579, 'පල හ': 2773, 'දන නව': 2178, 'ඇත ත ක': 309, 'උන ග ග': 416, 'ග ග ත': 1110, 'ර බ රග': 3592, 'ප රත ම': 2663, 'වල ග ත': 4455, 'බ බ උ': 2845, 'දඩ ල බ': 2173, 'ඔබ ත ම': 580, 'ද පල හ': 2050, 'පල හ ර': 2774, 'ණ ත': 1561, 'ග ණ ත': 1128, 'ද පළ': 2052, 'ස තක': 4594, 'තක ලය': 1826, 'කණග ට': 926, 'ශප ලනය ව': 4508, 'ර ය ව': 3620, 'ප ස තක': 2718, 'ස තක ලය': 4596, 'න ශ ක': 2468, 'ශ ක ර': 4474, 'ක ර තර': 803, 'ඔබත ම ද': 595, 'අහ න': 269, 'ල හ ද': 3978, 'හ රග': 4904, 'ල ම ර': 3922, 'ර ත බ': 3526, 'ත බ ණ': 1691, 'ම ප ක': 3067, 'ක රය ව': 822, 'ල ඔබ': 3837, 'ආ ම': 277, 'කර ඔබ': 973, 'ඔබ ග': 577, 'ත ත ඔබ': 1639, 'ප ක යව': 2556, 'ක මර': 764, 'මර ක': 3195, 'ත කම': 1620, 'කට ර': 917, 'ර අගම': 3423, 'ත ග දර': 1628, 'ක යල ක': 785, 'ර ග දර': 3490, 'හර ක යල': 4953, 'ත බ ම': 1697, 'ප ව ලබ': 2710, 'අස ව ය': 263, 'ර න හ': 3575, 'තන හ': 1835, 'ව අගම': 4032, 'තන හ ව': 1836, 'ජය න': 1392, 'අපර ධය': 191, 'බ උඹ': 2796, 'උබ ප': 428, 'තක ල': 1824, 'ය පන ප': 3321, 'පන ප ස': 2747, 'තක ලය ග': 1827, 'ලය ග ත': 4017, 'ස තක ල': 4595, 'තක ල ග': 1825, 'ට අය කර': 1407, 'අගම ක': 81, 'ප වල ග': 2716, 'යන න ම': 3381, 'අප ම න': 171, 'ත අපර': 1579, 'ග හ න': 1209, 'ද අරගල': 1922, 'ල න ද': 3893, 'ව ව කර': 4336, 'ශප ල පල': 4502, 'ල පල ග': 3908, 'පල ග න': 2767, 'ග න ග': 1150, 'න ග ත': 2308, 'බ ද ද': 2816, 'ස ඔය': 4554, 'ප වට': 2712, 'ර කවද': 3483, 'ප වට න': 2713, 'වට න ද': 4418, 'ග ම න': 1172, 'ඔබ ද': 581, 'හර ජන': 4959, 'ඉ තම': 331, 'ඔ ග': 563, 'දර ය': 2195, 'ක ල ද': 829, 'හර ජන ධ': 4960, 'ග දර ය': 1145, 'කවද හර': 1095, 'ප පය': 2623, 'ට උ': 1417, 'ග ත උ': 1131, 'වල ල': 4461, 'අපර ධ': 190, 'ස හ න': 4733, 'යම කර': 3385, 'ඒ රන': 543, 'තනත ර': 1837, 'ර අව': 3432, 'වක ල': 4397, 'හ ත කර': 4831, 'ද ර ක': 2091, 'හ ර ග': 4892, 'ග ග න': 1111, 'ඒ රන ල': 544, 'ම හ ඳ': 3156, 'තනත ර ත': 1838, 'ර ත න': 3524, 'ත වක ල': 1795, 'දර ත': 2189, 'හ ළ දක': 4934, 'ධම ව': 2239, 'ගල ප': 1250, 'ධම ව දන': 2240, 'ද ප ස': 2044, 'ද ගල ප': 1971, 'අප ජ': 152, 'අප ජ ව': 153, 'අගම ත ම': 84, 'එ බල': 461, 'බල ව': 2919, 'බ බ අය': 2844, 'ය ද ර': 3302, 'බල ව ඩ': 2920, 'ඩ කර එව': 1498, 'බ එ': 2797, 'බ බ එ': 2846, 'බ එ ව': 2798, 'එව ග': 512, 'අය ව ය': 219, 'ද ට ඨ': 1980, 'අන තර': 121, 'න අගම': 2253, 'සම ව': 4772, 'ක ඔබ': 664, 'ල උබල': 3824, 'අප අන': 138, 'අප අන ගත': 139, 'ත භ': 1703, 'ග න බ': 1155, 'ඔබ න ව': 586, 'එය ද': 501, 'අන ගතය': 117, 'ගතය න': 1226, 'තර අප අන': 1873, 'ව යවස': 4302, 'යවස ථ': 3415, 'ව යවස ථ': 4303, 'ල අගම': 3798, 'ක ව ඩ': 859, 'ගහ න': 1267, 'ගහ න ත': 1268, 'කර න ග': 1012, 'කර අපර ද': 961, 'තර ප': 1884, 'අප රස': 181, 'ර ද 50': 3547, 'චර ප ත': 1313, 'බ ර උ': 2861, 'හ ර බ': 4898, 'ව හ ග': 4382, 'රත ක ෂ': 3733, 'ක ෂ ප': 873, 'ජනත ව ප': 1372, 'ජ ත ක': 1334, 'දන කර': 2175, 'ව දන කර': 4217, 'ක යව ම': 796, 'ප ලනය ක': 2700, 'ප රක ශ': 2654, 'රක ශ කර': 3687, 'ර භ ර': 3599, 'භ ර ද': 2928, 'නව ත': 2531, 'ප න ත': 2608, 'රය ව න': 3768, 'චර තය': 1310, 'ප ල ම': 2688, 'රන ල ක': 3750, 'ක ය ඕන': 769, 'අන තව': 122, 'ය අහ': 3236, 'ග දර ග': 1140, 'ව කඩ': 4109, 'කඩ ව': 924, 'එලව ම': 509, 'කරගත ත': 1060, 'ම ර බ': 3109, 'ව ව ල': 4344, 'කඩ ව ට': 925, 'ව ට ග': 4143, 'කර මය': 1036, 'ප ඩම': 2581, 'ඩම ඉග': 1549, 'ඩම ඉග න': 1550, 'ර අන': 3426, 'අන මත': 127, 'කර ක ස': 981, 'ක ර අන': 799, 'ත පත': 1686, 'ප ත පත': 2587, 'දර ග න': 2187, 'අවශ ය ව': 253, 'ඒ කර': 525, 'කර කට': 983, 'ල ඕන': 3840, 'වට ද': 4414, 'යව රට': 3414, 'ව ඕන': 4083, 'ර කම': 3467, 'රද ක': 3738, 'කර කට ට': 984, 'ට යව රට': 1468, 'ර ද ග': 3553, 'ව රද ක': 4318, 'රද ක රය': 3739, 'රට ම හ': 3717, 'හ ව ය': 4916, 'උඹ ප': 431, 'න ධ': 2366, 'රද ඒ': 3737, 'ත පල': 1688, 'ත ප ක': 1671, 'ප න ද': 2609, 'අර ජ': 223, 'ප කළ': 2562, 'ණ ත බ': 1562, 'න ව බ': 2448, 'ම ය ග': 3094, 'ය ග දර': 3270, 'තම ස': 1860, 'ගහ එප': 1259, 'ද 5': 1910, 'ර ද 5': 3546, 'ඔය ප ට': 606, 'ස ත ව': 4593, 'ම උන කර': 2956, 'තන ත': 1833, 'උඹ තම': 430, 'ප ක ය': 2555, 'ව ඔ': 4071, 'වස ග': 4467, 'න වස ග': 2466, 'ස ප ද': 4622, 'ඔ ය': 567, 'න අරගලය': 2261, 'උබල ස': 429, 'ද ව තර': 2120, 'පහ ක': 2783, 'ත ප බ': 1677, 'ණ ප': 1565, 'u n': 50, 'n p': 46, 'ව ඩ හර': 4174, 'ග බ ක': 1167, 'ක ර ක': 800, 'u n p': 51, 'ගහ ව තර': 1272, 'හර බල': 4967, 'බල ල ත': 2918, 'ත ස ත': 1809, 'ද 74': 1911, 'ප රජ': 2656, 'අන මත කර': 128, 'මත කර න': 3172, 'ව ඔබ ප': 4075, 'හ ග ක': 4811, 'ර ද 74': 3548, 'ඒ ත ප': 529, 'න හ ග': 2494, 'ර ද කර': 3552, 'ශය කර': 4510, 'කර අය ව': 963, 'ඔ අගම': 561, 'අගම ව': 86, 'තර ඔය': 1875, 'ව තර ඔය': 4193, 'ල ත ප': 3881, 'මව ප': 3208, 'ද ජනත': 1977, 'ද ජනත ව': 1978, 'එ ඔබ': 444, 'න එත': 2274, 'ලය වට': 4024, 'ල ව ම': 3956, 'ලය ග න': 4018, 'අඩ ග න': 91, 'ක ර ල': 810, 'ප න ය': 2612, 'න එත ම': 2275, 'ගත ත ව': 1221, 'න ඇත ත': 2265, 'තක ලය වට': 1828, 'නව ඒ': 2528, 'රජ තන': 3691, 'බලය ප': 2923, 'ප රජ තන': 2657, 'රජ තන ත': 3692, 'තන ත රව': 1834, 'උවමන ව': 433, 'ඔය ල': 612, 'කර ග බ': 989, 'ව ඩ ඕ': 4157, 'ය ත ප': 3286, 'ප ත වට': 2592, 'ත වට න': 1799, 'කට ග': 909, 'උත ස': 406, 'රන ල මහත': 3754, 'අග ධය': 80, 'හද ක': 4935, 'රශ ක': 3779, 'ඔබත ම ග': 594, 'ම ග දර': 2993, 'දර ග ත': 2186, 'ප රශ ක': 2677, 'ම ද ය': 3032, 'පක ෂය': 2737, 'ව ඉඩ': 4056, 'බ ක ස': 2802, 'ව ඔය ල': 4080, 'ම ද යව': 3033, 'ස ස ස': 4724, 'ත යග': 1740, 'මය ද': 3194, 'ර ෂ': 3657, 'ක ගහ': 693, 'න ත එ': 2326, 'එ ප රත': 459, 'ම අගම': 2939, 'ප ර අගම': 2635, 'ඩ ම න': 1525, 'ල එකත': 3827, 'කර තර': 1002, 'ල එකත ව': 3828, 'අන ර ක': 130, 'ර ම ව': 3608, 'ම ව නස': 3134, 'යන තරය': 3376, 'කර බල': 1028, 'ව ජය ව': 4140, 'ජය ව ව': 1397, 'ව ම ත': 4278, 'ග ක න': 1106, 'ව ද ශප': 4210, 'ක ඔබත': 665, 'ක ඔබත ම': 666, 'එව ක': 511, 'කර ඔය': 974, 'ර අග ධය': 3422, 'ඩ එ': 1490, 'ඩ කර ක': 1499, 'බ ද ග': 2815, 'බටලන ද': 2886, 'මරනක ත': 3203, 'ත ඔය': 1603, 'කර ඇත': 964, 'ක ත ක': 714, 'ත ක ග': 1606, 'න සම': 2490, 'දහ ප': 2208, 'ක යප': 782, 'ට ය න': 1465, 'ව ඩ හ': 4173, 'ධ ප ව': 2224, 'ල වර': 3965, 'රට අන': 3696, 'ත එ ව': 1593, 'ඔබ ස යල': 591, 'න කර කර': 2303, 'අත ද': 99, 'ක තම': 721, 'හ ර ට': 4893, 'ර ට ද': 3514, 'අත ද ක': 100, 'ම ඔය': 2964, 'ව ඔබත': 4077, 'රජ ව': 3693, 'ඔබත ම ක': 593, 'ව ඔබත ම': 4078, 'ම ක ක': 2966, 'අන ඩ': 118, 'ව පලය': 4262, 'උබ ක': 427, 'න උබ': 2271, 'ව උබ': 4062, 'ට භය': 1460, 'න ව පලය': 2447, 'ට ක ව': 1427, 'ග ට භය': 1118, 'අගම ප': 85, 'ඩය කර': 1552, 'බ ද ම': 2822, 'ද ම කර': 2059, 'ග ම ක': 1171, 'ට බ හ': 1457, 'ල බ ය': 3914, 'ස වට': 4698, 'ස ස වට': 4723, 'ස වට න': 4699, 'ග දර ත': 1141, 'ත බ ක': 1690, 'කම ද': 948, 'වල ව ඩ': 4463, 'ල හ ව': 3981, 'ස හල න': 4739, 'වට එප': 4411, 'වට නව': 4420, 'ර වට එප': 3651, 'ක ම ව': 760, 'ල ඉවර': 3820, 'ව ඔක': 4072, 'ව ඔක ක': 4073, 'ර බල ල': 3597, 'ය ද ක': 3294, 'ක ඒ ම': 663, 'ඩ ල ද': 1531, 'පහ ව ඩ': 2785, 'කනග ට ද': 943, 'අල ප': 230, 'කර ද න': 1004, 'ක ක ත': 672, 'පව න': 2777, 'පව න ද': 2778, 'එර හ': 505, 'ල ලය': 3944, 'එර හ ව': 506, 'ව ප රත': 4253, 'ක ර br': 798, 'ඔහ ව මද': 623, 'කථ කර': 932, 'ර ප ලනය': 3584, 'ල ඔච චර': 3836, 'උස ස': 436, 'බ ර ම': 2870, 'ම ප රට': 3071, 'වන ච': 4427, 'අල රට': 233, 'අප ර ව': 176, 'ව ප ලකය': 4255, 'ර කල න': 3480, 'ආහ ර': 306, 'වග කල': 4403, 'රට අගම': 3695, 'ඩ ව රද': 1537, 'මහබ ක': 3229, 'දන ව': 2179, 'බටලන ද ම': 2887, 'ව දන ව': 4218, 'ය එ ප': 3246, 'ඉ ද න': 333, 'සව ත': 4784, 'ඩ හර සව': 1546, 'සව ත ත': 4785, 'ත පක': 1684, 'එක ස ජ': 484, 'ජ ත පක': 1337, 'ත පක ෂය': 1685, 'ධ රය': 2234, 'දය ව': 2184, 'ම ත ව': 3016, 'ලය වට න': 4025, 'ර අගම ව': 3424, 'ස න හ': 4616, 'ජපක ශ': 1379, 'ට බය': 1458, 'ර ජපක ශ': 3509, 'ග ට බය': 1117, 'හ ට ට': 4820, 'කට ට හර': 914, 'ත ජනත': 1634, 'බල තන': 2911, 'ත ජනත ව': 1635, 'ජනත ව ත': 1370, 'බල තන හ': 2912, 'ගන ල ල': 1237, 'න හ රට': 2503, 'ය කත': 3265, 'පල පල': 2769, 'මකබ ව': 3166, 'රක ශය': 3688, 'ප රක ශය': 2655, 'ක කඩ': 680, 'මහ ම': 3219, 'හ උ': 4799, 'එය ස': 504, 'තර සහ': 1893, 'සහ ය': 4790, 'යන තර සහ': 3375, 'තර සහ ය': 1894, 'ක ස න': 879, 'ආ එ': 275, 'ම ත ප': 3012, 'ව ද හර': 4213, 'ර ඉද': 3439, 'උන කම': 413, 'දර පලය': 2192, 'ග දර පලය': 1143, 'ම කද': 2984, 'කරන ඩ': 1062, 'ර ම ද': 3603, 'කඳ ල': 945, 'br ග': 19, 'කරන න ත': 1064, 'ර එප': 3446, 'වහල ල': 4472, 'ඔහ ද': 620, 'න සය': 2491, 'ප ප ර': 2620, 'න බල ල': 2399, 'ප ද ද': 2598, 'ර ට ක': 3513, 'ගන න හ': 1232, 'ඳ න හ': 2544, 'ගය අර': 1245, 'ම න ද': 3051, 'ම ඔක': 2961, 'ල අවස': 3808, 'ම ඔක ක': 2962, 'ර ස න': 3662, 'යන න br': 3378, 'ත එ හ': 1594, 'ත ය ය': 1736, 'ද ග ඨ': 1962, 'ය ක යප': 3259, 'සය ග': 4773, 'ස සය ග': 4728, 'සක ක හ': 4744, 'එකම ත': 489, 'ම ඔබ': 2963, 'කර ත ප': 999, 'න හල': 2508, 'ස න හල': 4617, 'ක කම': 683, 'ලනය කර': 4008, 'ස මන ස': 4647, 'ප ලනය කර': 2701, 'උඹ ම': 432, 'න තම': 2341, 'එන ඩ': 493, 'ස ර ස': 4669, 'කර න න': 1015, 'බණ ඩ': 2890, 'බණ ඩ ර': 2891, 'සජ ත': 4746, 'ට ග න': 1434, 'ක ක යල': 673, 'ව ඩසටහන': 4176, 'ර ආව': 3435, 'චත ර': 1303, 'ස තරල': 4599, 'ගල ව': 1251, 'ල එල': 3829, 'ද ස තරල': 2152, 'පව ද ගල': 2776, 'ද ගල ව': 1972, 'ගල ව ද': 1252, 'ල එල ල': 3830, 'ඔබ ජය': 578, 'ඔබ දන': 582, 'ධ ජනය': 2216, 'ගස සල': 1255, 'ර අය': 3428, 'යල ඔබ': 3388, 'ඔබ දන නව': 583, 'ද ධ ජනය': 2009, 'ධ ජනය ව': 2217, 'ගස සල ත': 1256, 'ක යල ඔබ': 784, 'යල ඔබ දන': 3389, 'ත ව දය': 1785, 'සහන ධ': 4791, 'කන නය': 941, 'සහන ධ ර': 4792, 'යහප ලනය': 3416, 'ද 100': 1908, 'ල අස': 3809, 'ල අස ව': 3810, 'ට ආරච': 1414, 'ආරච ච': 304, 'ට ට ආරච': 1439, 'ට ආරච ච': 1415, 'ලය න': 4021, 'ම තර බ': 3024, 'බ ර ප': 2868, 'ප ර න': 2643, 'ව ර වට': 4312, 'ග න තර': 1152, 'ව ජ ප': 4133, 'ඩ සටහ': 1540, 'ව ඩ සටහ': 4171, 'මර ක ක': 3196, 'ඩ ව ව': 1538, 'එව ප රශ': 515, 'ළ ජ': 4990, 'ස ළ ජ': 4742, 'ළ ජ ත': 4991, 'සජ ත ත': 4747, 'ගලන ත': 1253, 'ම ජයව': 3000, 'ජපක ෂ ම': 1382, 'ෂ ම ත': 4522, 'ත ම ජයව': 1709, 'ජය ව ග': 1394, 'ව ග ඨ': 4123, 'ඉද ර ය': 356, 'ජයව ජයව': 1402, 'ජයව ග': 1399, 'ජයව ග ඨ': 1401, 'ජය ව ජය': 1395, 'භය ම': 2932, 'ඨ භය ම': 1483, 'භය ම ත': 2933, 'බය මහත': 2900, 'ට බය මහත': 1459, 'භය මහත': 2934, 'ඨ භය මහත': 1484, 'ට හය': 1479, 'හය ම': 4948, 'ජයව ග ට': 1400, 'ග ට හය': 1119, 'ට හය ම': 1480, 'හය ම ත': 4949, 'ත සජ': 1811, 'සජ ත සජ': 4748, 'ට ජය': 1436, 'ට ට ජය': 1440, 'ජය ව ප': 1396, 'ව ප හ': 4258, 'ට ජය ව': 1437}\n",
            "characters level tf-idf_Vocabulary:  {'කා': 1715, 'ාල': 4160, 'ලක': 3287, 'ක ': 1608, ' ව': 484, 'වෙ': 3526, 'ෙි': 4756, 'ිස': 4490, 'සි': 3680, 'ි ': 4320, ' ප': 361, 'පු': 2680, 'ුත': 4573, 'තා': 2165, 'ල ': 3251, ' හ': 538, 'හෙ': 3824, 'ෙන': 4698, 'නම': 2445, 'ම ': 2818, ' ත': 303, 'තෙ': 2206, 'ො': 4750, 'ාප': 4129, 'පි': 2666, 'වද': 3429, 'දි': 2318, ' ග': 262, 'ග ': 1777, 'තම': 2136, 'ගි': 1850, 'ින': 4409, 'නි': 2511, 'ිත': 4386, 'ති': 2178, 'ිය': 4441, 'ය ': 2970, 'ිබ': 4426, 'බු': 2791, 'ුන': 4586, 'කාල': 1722, 'ාලක': 4162, 'ලක ': 3288, 'ක ව': 1629, ' වෙ': 504, 'වෙි': 3534, 'ිසි': 4497, 'සි ': 3681, 'ි ප': 4340, ' පු': 381, 'පුත': 2684, 'ුතා': 4576, 'තාල': 2172, 'ාල ': 4161, 'ල හ': 3280, ' හෙ': 549, 'හෙන': 3827, 'නම ': 2446, 'ම ත': 2829, ' තෙ': 318, 'තො': 2210, 'ොප': 4753, 'ාපි': 4134, 'පි ': 2667, 'ි ව': 4346, ' වද': 490, 'වදි': 3433, 'දි ': 2319, 'ි ත': 4337, 'ි ග': 4333, ' ග ': 263, 'ග ත': 1787, ' තම': 308, 'තම ': 2137, 'ම ග': 2827, ' ගි': 273, 'ගින': 1853, 'ිනි': 4416, 'නිත': 2514, 'ිති': 4395, 'තිය': 2188, 'ිය ': 4442, 'ය ත': 2986, ' ති': 315, 'තිබ': 2186, 'ිබු': 4431, 'බුන': 2794, 'ඉල': 1433, 'ල්': 3325, '්ල': 3991, ' ස': 512, 'සැ': 3672, 'ැප': 4256, 'පය': 2615, 'පඩ': 2596, 'ඩි': 2052, 'හැ': 3791, 'ැද': 4242, 'දෙ': 2347, 'න්': 2469, '්න': 3948, 'නෙ': 2536, 'ෙ,': 4678, ', ': 604, ' න': 342, 'නැ': 2500, 'ැත': 4238, 'ත ': 2094, 'ත්': 2153, '්\\u200d': 4034, '\\u200dර': 4927, 'රස': 3172, 'ස්': 3653, '්ථ': 3925, 'වා': 3479, 'ාද': 4107, 'ද ': 2224, 'වි': 3499, 'ිද': 4397, ' ඕ': 229, 'ඕ ': 1591, ' ද': 321, 'දු': 2333, 'න ': 2388, 'යම': 3023, 'වෛ': 3539, 'ෛද': 4805, 'ද්': 2295, '\\u200dය': 4920, 'ෘත': 4658, '්ත': 3912, 'වු': 3519, ' අ': 116, 'අග': 1266, 'ගය': 1814, 'අඩ': 1272, 'ඩු': 2059, 'ුව': 4620, 'වී': 3517, ' ය': 438, 'යන': 3017, ' ඔ': 218, 'පර': 2617, 'රේ': 3242, 'ේශ': 4796, 'ශ ': 3541, ' ක': 234, 'කර': 1673, 'රන': 3144, ' බ': 388, 'ුද': 4579, '්ධ': 3943, 'ධ ': 2366, 'හර': 3771, 'රහ': 3177, 'හා': 3782, 'ා ': 4039, ' ම': 414, 'මැ': 2912, 'හද': 3752, 'දන': 2269, 'නව': 2458, 'ා,': 4067, ' ඉ': 168, 'ඉත': 1419, 'ිං': 4352, 'ං ': 1217, 'ැ ': 4193, ' d': 47, 'da': 845, 'at': 805, ' b': 41, 'ba': 818, 't ': 1132, 'ගග': 1801, 'ගා': 1832, 'ඉ ': 1399, 'ඉල්': 1435, 'ල්ල': 3328, '්ල ': 3992, 'ල ස': 3279, ' සැ': 529, 'සැප': 3673, 'පය ': 2616, 'ය ප': 2989, ' පඩ': 366, 'පඩි': 2597, 'ඩි ': 2053, 'ි හ': 4348, ' හැ': 546, 'හැද': 3797, 'දෙන': 2349, 'ෙන්': 4705, 'න්න': 2479, '්නෙ': 3961, 'නෙ,': 2538, ', න': 613, ' නැ': 353, 'නැත': 2503, 'ැත ': 4239, 'ත ත': 2109, ' ත්': 312, 'ත්\\u200d': 2164, '්\\u200dර': 4037, '\\u200dරස': 4938, 'රස්': 3174, 'ස්ථ': 3657, 'වාද': 3485, 'ාද ': 4108, 'ද ව': 2250, ' වි': 501, 'විද': 3505, 'ිද ': 4398, 'ද ඕ': 2237, ' ඕ ': 230, 'ඕ ද': 1596, ' දු': 335, 'දුන': 2337, 'ුන්': 4589, '්න ': 3949, 'න න': 2406, ' නි': 355, 'නිය': 2519, 'ියම': 4448, 'යම ': 3024, 'ය ව': 2995, ' වෛ': 506, 'වෛද': 3540, 'ෛද්': 4806, 'ද්\\u200d': 2299, '්\\u200dය': 4036, '\\u200dය ': 4921, 'ත්ත': 2157, '්ත ': 3913, 'ත ව': 2118, ' වු': 503, 'වුන': 3522, 'ුන ': 4587, 'න අ': 2391, ' අග': 120, 'අගය': 1268, 'ගය ': 1815, 'ය අ': 2973, ' අඩ': 122, 'අඩු': 1275, 'ඩුව': 2061, 'ග ය': 1793, ' යන': 442, 'යන්': 3021, 'ේශ ': 4797, 'ශ ක': 3542, ' කර': 248, 'කරන': 1677, 'රන්': 3149, 'න ක': 2400, 'ති ': 2179, 'ි බ': 4341, ' බු': 405, 'බුද': 2793, 'ුද්': 4583, 'ද්ධ': 2298, '්ධ ': 3944, ' හර': 543, 'රහා': 3180, 'හා ': 3783, 'ා ම': 4059, ' මැ': 429, ' හද': 540, 'නවා': 2463, 'වා,': 3482, 'ා, ': 4068, ' ඉත': 173, 'ඉති': 1421, 'තිං': 2180, 'ිං ': 4353, ' තා': 313, 'තා ': 2166, 'ා ඕ': 4049, 'ඕ න': 1597, 'නැ ': 2501, ' da': 48, 'dat': 847, ' ba': 42, 'at ': 806, 'ඕ ග': 1594, 'ගා ': 1833, 'ා ඉ': 4044, ' ඉ ': 169, 'ඊල': 1444, 'ලග': 3295, 'තය': 2140, 'යි': 3051, 'ිප': 4420, 'පෝ': 2709, 'ෝන': 4901, '්ග': 3884, 'ගල': 1818, ' උ': 184, 'උත': 1468, '්ස': 4018, 'සව': 3646, 'වය': 3446, 'උප': 1480, 'රි': 3213, 'ිම': 4434, 'මය': 2869, 'සා': 3662, 'ාර': 4150, 'ර්': 3181, 'ථ ': 2217, 'ර ': 3078, 'අන': 1289, 'ිව': 4474, '්ය': 3986, 'යය': 3025, 'යෙ': 3070, 'ෙ ': 4659, 'සජ': 3607, 'ජි': 1934, 'ප්': 2643, 'ේම': 4780, 'මද': 2859, 'දා': 2300, 'ාස': 4179, 'ස ': 3581, ' ආ': 139, 'ආන': 1358, '්ඩ': 3906, 'ඩ ': 2015, 'සම': 3627, 'ම්': 2894, '්ප': 3963, 'පූ': 2690, 'ූර': 4648, '්ණ': 3910, 'ණය': 2080, ' ජ': 289, 'ජන': 1914, 'නත': 2433, 'ාව': 4169, 'පා': 2647, 'ලන': 3301, 'නය': 2449, 'ගෙ': 1860, 'ෙම': 4711, ' s': 91, 'ඊලග': 1445, 'ලග ': 3296, 'න්ග': 2472, '්ගල': 3887, 'ගල ': 1819, 'ල උ': 3259, ' උත': 188, 'උත්': 1470, 'ත්ස': 2163, '්සව': 4024, 'වය ': 3447, 'ය උ': 2977, ' උප': 191, 'පරි': 2621, 'රිම': 3220, 'මය ': 2870, 'ය ස': 2996, ' සා': 528, 'සාර': 3670, 'ාර්': 4157, 'ර්ථ': 3186, '්ථ ': 3926, 'ථ ක': 2218, 'කර ': 1674, 'ර අ': 3081, ' අන': 126, 'අනි': 1293, 'නිව': 2522, 'ිවා': 4480, 'වාර': 3488, 'ර්ය': 3189, '්යය': 3988, 'යයෙ': 3027, 'යෙ ': 3071, 'ෙ ස': 4676, ' සජ': 516, 'සජි': 3608, 'ජි ': 1935, ' ප්': 377, 'ප්\\u200d': 2646, '\\u200dරේ': 4942, 'රේම': 3243, 'ේමද': 4782, 'මදා': 2861, 'දාස': 2310, 'ාස ': 4180, ' ආන': 146, 'ආන්': 1359, 'න්ඩ': 2475, '්ඩ ': 3907, 'ඩ ස': 2035, ' සම': 521, 'සම්': 3632, 'ම්ප': 2897, '්පූ': 3968, 'පූර': 2691, 'ූර්': 4650, 'ර්ණ': 3184, ' ජන': 291, 'ජනත': 1916, 'නතා': 2436, 'තාව': 2173, 'ාවා': 4173, 'ද ප': 2244, ' පා': 378, 'පාල': 2656, 'ාලන': 4163, 'ලනය': 3303, 'නය ': 2450, 'ය ග': 2983, ' ගෙ': 275, 'ගෙන': 1863, 'නෙම': 2539, 'ෙම ': 4712, 'ව ': 3371, 'නා': 2486, 'ාය': 4147, 'තු': 2195, 'ුම': 4598, 'මා': 2900, ' ව ': 485, ' නා': 352, 'නාය': 2495, 'ාය ': 4148, ' තු': 317, 'තුම': 2201, 'ුමා': 4603, 'මා ': 2901, 'ා ස': 4064, 'රට': 3126, 'ට ': 1943, 'සං': 3603, 'රත': 3134, 'මග': 2848, 'බැ': 2776, 'ැර': 4272, 'උන': 1476, 'ඔහ': 1588, 'හ ': 3719, ' ඒ': 214, 'මං': 2843, 'පළ': 2641, 'ළම': 3859, 'මු': 2928, 'පක': 2586, 'ක්': 1701, '්ෂ': 4011, 'ෂ ': 3562, 'ැහ': 4294, 'රල': 3161, ' ල': 467, 'ලා': 3330, 'ාභ': 4139, 'රය': 3158, 'යෝ': 3076, 'ජ ': 1903, 'ුච': 4558, 'ච්': 1888, 'ඡ ': 1900, 'දේ': 2357, 'ශප': 3549, 'පස': 2634, 'නො': 2545, 'ොග': 4815, 'ිහ': 4499, 'හි': 3804, ' භ': 412, 'භා': 2813, 'ාග': 4080, 'ග්': 1830, 'යව': 3031, 'වත': 3423, 'වහ': 3469, 'හන': 3756, 'අව': 1325, 'වව': 3459, 'නු': 2528, 'ුශ': 4628, 'ශා': 3557, 'රක': 3110, 'දී': 2331, 'ී ': 4507, ' ධ': 340, 'ධර': 2374, 'රු': 3227, 'ුණ': 4567, 'ණ ': 2064, 'කි': 1737, 'යල': 3028, ' ච': 280, 'චී': 1898, 'ීව': 4527, 'වර': 3449, 'පො': 2699, 'ොර': 4858, 'රව': 3163, 'ගත': 1803, 'අර': 1315, 'රම': 3153, 'ාක': 4074, '්ශ': 4007, 'ාත': 4102, '්ක': 3873, ' එ': 198, 'එක': 1513, '්ව': 3998, 'කට': 1637, 'ටය': 1978, 'යු': 3062, 'රශ': 3169, 'ගැ': 1841, 'ැට': 4227, 'ටල': 1982, 'ොව': 4870, 'පෞ': 2710, 'ෞද': 4914, 'ලි': 3346, 'දැ': 2312, 'ැන': 4248, 'රට ': 3127, 'ට ස': 1963, ' සං': 514, 'රත්': 3135, 'ත්න': 2159, '්නය': 3955, 'සමග': 3629, 'ගිය': 1854, 'ය ඉ': 2976, 'ඉ බ': 1408, ' බැ': 402, 'බැර': 2779, 'ැරි': 4277, 'රි ': 3214, 'ි උ': 4327, ' උන': 190, 'උනා': 1479, 'නා ': 2487, 'ා ඔ': 4048, ' ඔහ': 227, 'ඔහ ': 1589, 'හ ත': 3729, 'නිස': 2523, 'ිසා': 4496, 'සා ': 3663, ' මං': 416, 'මං ': 2844, 'ං ක': 1220, ' ක ': 235, 'ක ප': 1623, ' පළ': 376, 'මුව': 2935, 'ුවෙ': 4627, 'වෙ ': 3527, 'ෙ ප': 4671, ' පක': 363, 'පක්': 2588, 'ක්ෂ': 1711, '්ෂ ': 4012, 'ෂ ප': 3564, 'පා ': 2648, 'ා බ': 4058, 'බැහ': 2781, 'ැහැ': 4296, 'හැර': 3801, 'ැර ': 4273, 'ර ක': 3090, 'කරල': 1681, 'රල ': 3162, 'ල ල': 3277, ' ලා': 477, '\\u200dරය': 4935, 'ජ ග': 1905, 'ුච්': 4559, ' දේ': 338, 'දේශ': 2359, 'ේශප': 4798, 'ශපා': 3550, 'ල ප': 3272, ' පස': 374, 'පස්': 2636, 'ස්ස': 3661, '්ස ': 4019, 'ස න': 3593, ' නො': 360, 'නොග': 2547, 'ගිහ': 1855, 'ිහි': 4502, 'හි ': 3805, ' භා': 413, 'භාග': 2814, 'ග්\\u200d': 1831, '\\u200dයව': 4925, 'වත ': 3424, ' වහ': 497, 'වහන': 3471, 'හන්': 3760, 'න්ස': 2483, 'ස අ': 3583, ' අව': 134, 'වා ': 3480, 'ා අ': 4041, 'අනු': 1294, 'ස ද': 3592, ' දා': 331, 'දාය': 2306, 'ය ක': 2982, ' කා': 253, 'කාර': 1721, 'ාරක': 4152, 'රකා': 3113, 'ාදී': 4114, ' ධර': 341, 'ධර ': 2375, 'කරු': 1685, 'රුණ': 3229, 'ුණ ': 4568, 'ණ ක': 2065, ' කි': 256, 'කිය': 1740, 'ියල': 4450, 'යල ': 3029, 'ල ද': 3270, ' ද ': 322, 'ද බ': 2245, ' චී': 285, 'වරය': 3453, 'රය ': 3159, ' පො': 384, 'පොර': 2705, 'ොරව': 4861, 'රවා': 3167, 'වාග': 3484, 'ාගත': 4082, 'ගත්': 1806, 'ත අ': 2097, ' අර': 132, 'රම ': 3154, 'ම ස': 2839, 'සාක': 3664, 'ාක්': 4078, 'ක්ශ': 1710, '්ශා': 4010, 'ාත්': 4104, 'ත්ක': 2156, '්කර': 3879, 'ර ග': 3091, 'ම ව': 2838, 'ස එ': 3586, ' එක': 200, 'එක්': 1518, 'ක්ව': 1709, '්ව ': 3999, 'ව ක': 3384, ' කට': 237, 'කටය': 1639, 'ටයු': 1979, 'යුත': 3066, 'ුත ': 4574, 'ත ක': 2106, 'ර ප': 3097, '\\u200dරශ': 4937, 'රශ ': 3170, ' ගැ': 271, 'ැටල': 4229, 'ටල ': 1983, 'ල න': 3271, 'නොව': 2552, 'ොව ': 4871, 'ල ම': 3274, ' ම ': 415, 'ම ප': 2832, ' පෞ': 386, 'පෞද': 2711, 'ෞද්': 4915, 'ද්ග': 2296, 'ගලි': 1822, 'ලි ': 3347, 'ි ද': 4338, ' දැ': 332, 'දැන': 2316, 'ැන ': 4249, 'ඔක': 1570, 'කල': 1686, 'මහ': 2884, 'ාම': 4141, 'ුර': 4607, 'පන': 2607, 'සල': 3642, 'හො': 3836, 'ොද': 4834, 'ඒක': 1558, 'වැ': 3491, 'රැ': 3205, 'ලය': 3314, 'මො': 2958, 'ොක': 4808, 'ුල': 4616, 'දහ': 2291, 'රා': 3195, 'ැඩ': 4233, 'තර': 2142, '්ද': 3929, ' ර': 448, 'උ ': 1446, 'ොය': 4855, 'රද': 3137, 'ිල': 4468, 'භි': 2817, 'ික': 4358, 'රජ': 3122, 'ජා': 1930, 'ාණ': 4099, 'ඉස': 1440, 'සෙ': 3704, 'ෙල': 4724, 'ෙට': 4686, 'එ ': 1494, ' 😅': 570, '😅😅': 4977, 'ඔක්': 1571, 'ක්ක': 1703, '්ක ': 3874, 'ක ක': 1617, ' කල': 249, 'කලි': 1692, 'ි ම': 4342, ' මහ': 427, 'හනා': 3761, 'ය හ': 2997, ' හා': 545, 'හාම': 3785, 'ාමු': 4146, 'මුද': 2932, 'ුදු': 4585, 'දුර': 2340, 'ුර ': 4608, 'ර ත': 3094, ' ත ': 304, 'ග ප': 1790, ' පන': 368, 'පන්': 2610, '්සල': 4023, 'සල ': 3643, 'ර එ': 3086, 'ර හ': 3106, ' හො': 551, 'හොද': 3838, 'ොද ': 4835, 'ද ඒ': 2235, ' ඒක': 216, 'කල ': 1687, 'ල ව': 3278, ' වැ': 500, 'වැර': 3496, 'ැරැ': 4276, 'රැද': 3209, 'ැදි': 4246, 'හදා': 3755, 'දා ': 2301, 'ා ග': 4051, 'ග ක': 1784, 'ාලය': 4164, 'ලය ': 3315, 'ය ද': 2987, ' දෙ': 337, 'දෙ ': 2348, 'ෙ ම': 4673, ' මො': 436, 'මොක': 2959, 'ොක ': 4809, 'ක ස': 1630, ' සි': 531, 'සිව': 3690, 'ිවු': 4483, 'වුර': 3523, 'රව ': 3164, 'පුල': 2687, 'ුල ': 4617, ' දහ': 330, 'දහ ': 2292, 'හ ජ': 3728, 'රා ': 3196, 'ා ව': 4063, 'වැඩ': 3494, 'ැඩ ': 4234, 'ඩ ඔ': 2021, ' ඔක': 220, 'ර ව': 3104, 'විත': 3504, 'ිතර': 4389, 'තර ': 2143, 'ර න': 3096, 'නොක': 2546, 'ක උ': 1613, 'උන්': 1478, 'න්ද': 2477, '්දැ': 3938, 'දැ ': 2313, 'ැ එ': 4199, 'එක ': 1514, 'ක ර': 1627, ' රට': 453, 'ට උ': 1947, ' උ ': 185, 'උ අ': 1447, 'අනා': 1292, 'නාත': 2491, 'ාත ': 4103, 'ව ප': 3392, ' පි': 380, 'පිස': 2676, 'ිස්': 4495, 'ස ප': 3594, 'හොය': 3841, 'ං ය': 1225, ' ය ': 439, 'ැරද': 4274, 'රදි': 3141, 'දිල': 2327, 'ිලා': 4472, 'ලාව': 3340, 'ාව ': 4170, 'ව ස': 3399, 'සිල': 3689, 'ිල්': 4471, 'ල්ව': 3329, 'ික්': 4365, '්ශ ': 4008, 'රජා': 3125, 'ාණ ': 4100, 'ණ ව': 2074, ' ගත': 265, 'ගත ': 1804, 'ත ඉ': 2100, ' ඉස': 180, 'ඉස්': 1441, '්සෙ': 4029, 'සෙල': 3708, 'ෙල්': 4727, '්ලා': 3995, 'ලා ': 3331, 'ා එ': 4046, 'ව හ': 3400, 'හොර': 3842, 'ොර ': 4859, 'ර ස': 3105, 'ව ග': 3385, 'ග ස': 1797, ' සෙ': 535, 'සෙට': 3706, 'ෙට ': 4687, 'ට එ': 1948, ' එ ': 199, '😅😅😅': 4978, 'වන': 3435, 'නේ': 2542, 'ේ,': 4760, ' ඇ': 154, 'ඇග': 1378, 'බේ': 2802, 'ේර': 4783, 'රග': 3115, 'අය': 1312, 'ජය': 1923, 'තහ': 2152, 'මේ': 2954, 'ේව': 4790, 'ඉද': 1422, 'ිර': 4458, 'ප ': 2564, 'ුරු': 4615, 'රුව': 3234, 'ුවන': 4623, 'නේ,': 2543, 'ේ, ': 4761, ', හ': 620, 'ර ඇ': 3083, ' ඇග': 156, 'ඇග ': 1379, 'ග බ': 1791, ' බේ': 408, 'බේර': 2803, 'ේරග': 4785, 'රග ': 3116, 'ග අ': 1778, ' අය': 131, 'අයි': 1314, 'යි ': 3052, 'ව ර': 3396, ' රජ': 452, 'රජය': 3124, 'ජය ': 1924, 'ාර ': 4151, 'ර ද': 3095, 'ද න': 2243, 'රගත': 3117, 'හ හ': 3739, 'හරි': 3774, 'ි ය': 4343, 'යනව': 3020, 'නව ': 2459, 'ව ම': 3394, ' මේ': 435, 'මේව': 2957, 'ේව ': 4791, 'ව ඉ': 3378, ' ඉද': 174, 'ඉදි': 1425, 'දිර': 2326, 'ිරි': 4464, 'රිප': 3219, 'ිප ': 4421, 'ප න': 2575, 'යිස': 3061, 'ස්ක': 3654, 'කට ': 1638, 'ට න': 1955, 'නික': 2513, 'ිකා': 4366, 'ෙස': 4740, 'සන': 3619, 'එම': 1533, 'මව': 2880, 'රිව': 3223, 'ිවි': 4482, 'ද ද': 2242, 'දෙස': 2355, 'සනා': 3622, 'නාක': 2488, 'ාකර': 4076, 'නම්': 2447, 'වෙන': 3530, '්නැ': 3958, 'සත': 3611, 'අක': 1263, 'කෙ': 1757, 'දම': 2273, 'ආග': 1347, 'ගම': 1811, 'මි': 2917, 'ඉඩ': 1417, 'ඩස': 2047, 'ලස': 3322, 'සත්': 3613, 'ත්ද': 2158, '්ද ': 3930, 'ෙස ': 4741, 'ස ක': 3588, ' අක': 119, 'කෙන': 1759, 'ෙනා': 4706, 'ා ද': 4055, 'ැ බ': 4207, 'බැ ': 2777, 'ැ ද': 4204, ' දම': 327, 'ආගම': 1349, 'මික': 2919, ' ඉඩ': 172, 'සාද': 3665, 'ාදි': 4113, 'ිට': 4377, 'ටර': 1980, 'ආර': 1367, 'ෂා': 3576, 'නෑ': 2507, 'ෑ,': 4310, ',හ': 631, 'ැබ': 4258, 'සු': 3695, 'ු ': 4531, 'ශ්': 3553, 'මත': 2854, 'නග': 2425, 'ඕන': 1604, 'න,': 2417, 'ූව': 4653, 'බා': 2770, 'ීල': 4525, 'ැක': 4219, 'ඒ ': 1548, 'අද': 1282, 'ජී': 1938, 'ීම': 4519, 'පෙ': 2692, ' 😂': 567, '😂😂': 4974, 'පිට': 2670, 'ිටර': 4379, 'ට ආ': 1945, ' ආග': 141, 'ආග ': 1348, 'ග ආ': 1779, ' ආර': 150, 'ආරක': 1368, 'රක්': 3112, '්ෂා': 4016, 'ෂා ': 3577, 'ා ක': 4050, ' න ': 343, 'න ප': 2407, 'ව න': 3391, ' නෑ': 354, 'නෑ,': 2509, 'හැබ': 3799, 'ැබැ': 4260, 'ැ ර': 4209, 'ට ම': 1958, ' මි': 430, 'මින': 2922, '්සු': 4028, 'සු ': 3696, 'රශ්': 3171, 'ශ්න': 3554, ', ආ': 606, 'කරග': 1675, 'ැති': 4241, 'තිම': 2187, 'ිමත': 4436, 'මත ': 2855, 'ත ද': 2110, 'ැනග': 4250, 'නග ': 2426, ' ඕන': 232, 'න, ': 2418, ', ත': 611, 'ම ආ': 2820, 'ර ආ': 3082, 'ූව ': 4654, 'ව බ': 3393, ' බා': 401, 'බාර': 2775, ' දී': 334, 'දීල': 2332, 'ීල ': 4526, 'ල ත': 3269, 'ියෙ': 4455, 'යෙන': 3073, '්නේ': 3962, 'ා ර': 4061, ' රැ': 460, 'රැක': 3207, 'ැක ': 4220, 'ක ඒ': 1615, ' ඒ ': 215, 'ඒ අ': 1549, ' අද': 124, 'අදහ': 1284, 'හ බ': 3733, 'ත ආ': 2098, 'ග ජ': 1786, ' ජී': 295, 'ජීව': 1939, 'වත්': 3425, 'ත්ව': 2162, 'ා ප': 4057, ' පෙ': 382, 'පෙන': 2694, 'නෙ ': 2537, ' 😂😂': 569, 'මෙ': 2942, 'ෙව': 4730, ' ?': 34, '? ': 729, 'තො': 2213, 'ොප': 4845, 'ාන': 4121, 'මෙව': 2950, 'ෙවැ': 4735, 'වැ ': 3492, 'ැ ස': 4212, 'සිද': 3685, 'ිදු': 4403, 'දුව': 2342, 'ුව ': 4621, ' ? ': 35, 'ැ ත': 4203, ' තො': 320, 'තොප': 2214, 'ොප ': 4846, 'ප අ': 2565, 'අවද': 1328, 'වදා': 3432, 'දාන': 2303, 'ානය': 4124, 'ය ය': 2992, 'මී': 2927, 'නප': 2442, 'පල': 2623, 'පත': 2599, 'රච': 3120, '්ච': 3890, 'චි': 1895, 'ෙර': 4720, 'රෙ': 3238, 'මන': 2863, 'නද': 2438, 'ීර': 4521, 'හම': 3765, 'ඔව': 1585, 'ව්': 3473, 'කු': 1747, 'පම': 2613, 'මණ': 2852, 'ෙය': 4716, 'සය': 3635, 'පලා': 2627, ' පත': 367, 'පති': 2602, 'තිර': 2189, 'රච්': 3121, 'ච්ච': 1889, '්චි': 3894, 'චි ': 1896, 'ි අ': 4323, 'අරි': 1319, 'රිය': 3221, '්ග ': 3885, 'සිස': 3691, 'සිර': 3688, 'ිර ': 4459, 'පෙර': 2695, ' සු': 533, 'ුමන': 4601, 'ි ස': 4347, 'සිය': 3687, 'යල්': 3030, 'ල බ': 3273, 'ුද ': 4580, 'දහම': 2293, 'හම ': 3766, 'ම ක': 2826, 'ර ඔ': 3088, ' ඔව': 226, 'න ද': 2405, 'හ ස': 3738, 'ණය ': 2081, 'වික': 3501, 'ිකු': 4367, 'කුර': 1753, 'හ ප': 3732, ' පම': 370, 'පමණ': 2614, 'මණ ': 2853, 'ණ න': 2069, 'වෙය': 3531, 'ෙය ': 4717, 'තිහ': 2192, 'ිහා': 4501, 'හාස': 3790, 'ාසය': 4182, 'සය ': 3636, 'ය ඔ': 2980, 'ඔව ': 1586, 'ව ව': 3398, 'අප': 1295, 'වබ': 3440, 'බෝ': 2808, 'ෝද': 4898, 'දය': 2275, 'ඉන': 1426, 'ටක': 1969, 'කද': 1653, 'ඔ ': 1564, 'මෝ': 2964, 'ෝඩ': 4895, 'ිග': 4368, 'ිශ': 4485, 'යද': 3014, '්ට': 3899, 'ටි': 1998, 'තත': 2126, 'වේ': 3535, ' <': 32, '<b': 698, 'br': 824, 'r>': 1083, '>අ': 709, 'ොල': 4866, 'අපි': 1300, ' අප': 127, 'අප ': 1296, 'ප ආ': 2566, 'දය ': 2276, ' ඉන': 175, 'ඉන්': 1427, '්නව': 3956, 'කිස': 1744, 'විට': 3503, 'ි ඔ': 4330, ' ඔ ': 219, ' මෝ': 437, 'මෝඩ': 2965, 'ෝඩ ': 4896, 'ඩ අ': 2016, 'අය ': 1313, 'ඒ ප': 1553, 'පිල': 2675, 'ිලි': 4473, 'ලිග': 3349, 'ිග ': 4369, 'ග න': 1789, 'නැහ': 2506, 'හැ ': 3792, 'ැ ම': 4208, 'විශ': 3515, 'ිශ්': 4486, 'ශ්ව': 3555, '්වා': 4004, 'වාස': 3489, 'ර ඒ': 3087, 'ඒ ම': 1554, 'ම හ': 2840, ' හි': 547, 'හිත': 3810, 'ිත ': 4387, 'ත ඒ': 2103, 'ඒ හ': 1557, 'අර ': 1316, 'ව අ': 3375, 'ය ම': 2991, 'මිත': 2921, 'ිත්': 4392, '්ටි': 3902, 'ටි ': 1999, ' තත': 306, 'තත්': 2127, '්ත්': 3920, 'වැට': 3493, 'ැටි': 4230, 'ාගා': 4084, ' වේ': 505, 'වේව': 3538, 'ේවි': 4795, 'වි ': 3500, 'ි න': 4339, 'න <': 2390, ' <b': 33, '<br': 699, 'br>': 825, 'r>අ': 1086, 'ග ව': 1796, 'කරම': 1679, 'ම අ': 2819, 'ම ම': 2834, 'මොල': 2962, 'ප ව': 2582, 'න ආ': 2392, 'ගම ': 1812, 'දාල': 2308, 'යා': 3043, 'වජ': 3416, 'තේ': 2211, 'පැ': 2660, 'ැව': 4286, 'ුය': 4604, 'ලන්': 3304, 'න්ක': 2471, '්කා': 3881, 'කා ': 1716, 'ා න': 4056, 'න ම': 2409, 'මහා': 2890, 'හාය': 3786, 'යා ': 3044, 'ිරය': 4460, ' තහ': 311, 'හන ': 3757, ' තේ': 319, 'තේර': 2212, 'පිර': 2674, 'රිස': 3224, 'ණ ප': 2070, ' පැ': 379, 'ැවත': 4289, 'ත ය': 2115, ' යු': 447, 'ුතු': 4578, 'තුය': 2202, 'ුය ': 4605, 'අස': 1333, 'ැය': 4270, ' 2': 19, '4 ': 676, 'තප': 2133, 'සර': 3637, 'රණ': 3130, 'අස්': 1335, 'හාන': 3784, 'පැය': 2663, 'ැය ': 4271, 'ි ඉ': 4326, 'ද්ද': 2297, '්දි': 3939, ' සර': 522, 'සරණ': 3639, 'ඔබ': 1577, 'බ ': 2714, 'ඉක': 1413, '්ම': 3979, 'දල': 2284, 'ලද': 3298, 'නක': 2423, ' (': 6, '( ': 602, 'ේ': 4746, 'ඔබ ': 1578, 'බ ව': 2731, 'සෙ ': 3705, ' ඉක': 170, 'ඉක්': 1414, 'ක්ම': 1707, '්ම ': 3980, 'ඩ ද': 2026, 'ා හ': 4065, ' හම': 541, 'හමු': 3768, 'ො ': 4751, 'හො': 3833, 'ොර': 4754, 'රක ': 3111, 'රනක': 3146, 'නක ': 2424, 'ක ඉ': 1612, 'ඩ ත': 2025, ' ( ': 7, ' මත': 419, 'ත උ': 2101, 'ලං': 3284, 'ංක': 1229, 'ද ර': 2248, 'ස ල': 3599, ' ලං': 469, 'ලංක': 3286, 'ංකා': 1233, 'ක එ': 1614, 'එ අ': 1495, 'ප හ': 2584, 'ාන්': 4127, ' ට': 297, 'ට්': 1991, '්බ': 3970, 'චන': 1883, 'පිය': 2673, 'ියා': 4453, 'යාන': 3047, 'ාන ': 4122, 'න ව': 2413, 'ක ත': 1620, 'ය ඕ': 2981, 'ඕන ': 1605, ' කෙ': 259, 'ෙන ': 4699, 'න ට': 2403, 'මන්': 2865, 'න්ව': 2482, 'විව': 3514, 'චනය': 1884, 'යිත': 3056, 'තව': 2148, 'බෑ': 2782, 'ෑ ': 4297, 'බෙ': 2797, 'බල': 2755, 'ඇව': 1395, '22': 667, '6 ': 681, 'ෂ්': 3575, 'තව ': 2149, 'සැබ': 3674, 'බෑ ': 2783, 'ෑ බ': 4305, ' බෙ': 407, 'ධ ප': 2368, 'ට බ': 1957, ' බල': 398, 'බලය': 2759, 'ය ඇ': 2975, ' ඇව': 164, 'ඇවි': 1396, 'නෑ ': 2508, 'ෑ ඒ': 4301, 'ඒක ': 1559, ' 22': 22, '\\u200dයා': 4926, 'ටික': 2000, 'ික ': 4359, 'පහ': 2637, 'හස': 3780, 'ැම': 4264, 'වල': 3456, 'අපහ': 1298, 'පහස': 2640, 'හස ': 3781, 'හිර': 3813, 'දැම': 2317, 'ැම්': 4268, 'ම්ම': 2899, 'මහ ': 2885, 'නි ': 2512, 'ි ආ': 4324, ' වල': 494, 'වල ': 3457, 'ල අ': 3255, 'කරා': 1684, 'ය න': 2988, 'ධා': 2379, 'එය': 1534, 'කත': 1647, 'ාග ': 4081, 'ැඩි': 4236, 'පුර': 2686, 'වින': 3507, 'ිනා': 4415, 'නාස': 2499, 'ල ඉ': 3258, 'ඉ හ': 1412, ' එය': 207, 'එයා': 1536, ' ප ': 362, 'ප ක': 2569, 'රනව': 3148, 'ගැන': 1843, ' කත': 240, 'කතා': 1650, 'ාජ': 4087, 'නී': 2525, 'ීත': 4512, 'සද': 3615, 'එහ': 1544, '්ඨ': 3903, 'අධ': 1286, 'ධ්': 2377, 'වක': 3405, 'ාශ': 4176, 'ශය': 3551, 'සී': 3693, 'ඇය': 1391, 'ුට': 4561, 'ඨා': 2012, 'ය,': 2999, ',එ': 625, ' ශ': 507, 'පව': 2629, 'ඝ ': 1878, 'පද': 2603, 'යත': 3011, 'යට': 3009, 'ටප': 1976, 'ආණ': 1351, 'ණ්': 2085, 'ආය': 1364, 'තන': 2128, 'ධි': 2383, 'උද': 1472, '්ඝ': 3889, 'ෝෂ': 4908, 'ෂණ': 3568, 'හු': 3818, 'ඇත': 1380, 'වස': 3463, 'ථා': 2219, 'ුග': 4554, 'රාජ': 3199, 'ාජ ': 4088, 'ජ න': 1907, ' නී': 356, 'නීත': 2526, 'ීත ': 4513, 'ත ම': 2114, 'මැද': 2915, 'දිහ': 2330, 'ිහ ': 4500, 'හ ව': 3737, 'හැක': 3794, 'ක ල': 1628, 'කි ': 1738, 'ි ක': 4332, ' ක්': 252, 'ක්\\u200d': 1714, '\\u200dරි': 4941, 'ාකා': 4079, 'වලි': 3458, 'පැ ': 2661, 'ැ න': 4205, ' නග': 344, 'ගි ': 1851, 'ණ ස': 2075, ' සද': 519, 'සදහ': 3617, 'ය එ': 2978, ' එහ': 211, 'එහ ': 1545, 'හ ද': 3730, 'ත ප': 2112, ' අධ': 125, 'අධ්': 1287, 'ධ්\\u200d': 2378, 'යාත': 3046, 'ත්ම': 2161, '්මි': 3985, 'මි ': 2918, 'ිබ ': 4427, 'බ ස': 2732, 'වකා': 3408, 'කාශ': 1724, 'ාශය': 4178, 'ශය ': 3552, ' සී': 532, 'ිතය': 4388, 'තය ': 2141, ' ඇය': 161, 'ය ඒ': 2979, 'ශ්\\u200d': 3556, '\\u200dරව': 4936, 'ැද ': 4243, ' පර': 371, 'ියු': 4454, 'ට්ඨ': 1993, '්ඨා': 3905, 'ඨා ': 2013, ' වී': 502, ' ශා': 510, 'ාසන': 4181, 'තුල': 2204, 'හ ක': 3726, 'භාර': 2815, 'ාරය': 4156, ' පව': 373, 'පවත': 2631, 'ඒ ස': 1556, '\\u200dරත': 4931, 'රති': 3136, 'තිප': 2185, 'පදා': 2605, 'දාව': 2309, '්ය ': 3987, 'එ ක': 1500, 'ාරි': 4158, 'රිත': 3216, '්වය': 4002, 'ුර්': 4611, 'ර්ම': 3188, '්මත': 3981, ' යට': 441, 'පත ': 2600, ' වර': 493, 'වර්': 3454, 'එ ව': 1510, 'වීර': 3518, 'ීර්': 4523, 'යය ': 3026, 'නොප': 2550, 'පව ': 2630, 'ව ආ': 3376, ' ආණ': 143, 'ආණ්': 1352, 'ණ්ඩ': 2086, ' ආය': 149, 'ආයත': 1366, 'යතන': 3012, 'තනි': 2132, 'අප්': 1299, 'තික': 2181, 'එහෙ': 1546, 'හෙය': 3829, 'ෙයි': 4719, ' සත': 518, '්ධි': 3947, 'ධිප': 2386, 'ිපා': 4424, 'පාද': 2652, 'ද ක': 2238, 'කෙර': 1760, 'ෙර ': 4721, 'කරව': 1682, 'ව එ': 3380, ' එම': 206, 'මෙ ': 2943, 'ෙ උ': 4661, ' උද': 189, 'උද්': 1474, 'ෝෂණ': 4909, 'ෂණ ': 3569, 'ණ හ': 2076, ' හු': 548, 'හුර': 3821, 'ෙ බ': 4672, 'ව ය': 3395, 'ත ඇ': 2099, ' ඇත': 157, 'ඇත ': 1381, 'අවස': 1330, 'වස්': 3466, '්ථා': 3927, 'ථාව': 2221, ' ර ': 449, 'ර ර': 3102, 'යුග': 3064, 'ුගය': 4556, 'ීන': 4516, 'සේ': 3710, 'ේල': 4788, 'උග': 1463, 'සහ': 3650, 'හය': 3769, ' ❤': 558, '>ම': 719, 'ංව': 1244, 'ිධ': 4406, 'බව': 2763, 'බහ': 2767, 'ොළ': 4880, 'ළ ': 3845, 'පෑ': 2665, ' 🙏': 581, 'ධර්': 2376, 'ිනය': 4412, ' තර': 309, ' ස්': 527, 'ස්ව': 3660, 'ලා,': 3332, ', උ': 607, ' උග': 186, 'ග ග': 1785, 'පින': 2672, 'ින්': 4414, ' දි': 333, 'දිග': 2320, 'තාක': 2167, 'ා ජ': 4053, ' මු': 432, 'මුල': 2934, 'ග ල': 1795, ' ල ': 468, 'සහය': 3652, 'හය ': 3770, '්තා': 3921, 'ානා': 4128, 'හිම': 3812, 'ිමි': 4439, 'මිව': 2925, 'ිවර': 4477, 'වර ': 3450, 'ැන්': 4252, 'දෙය': 2351, 'r>ම': 1094, '>ම ': 720, 'ත ස': 2119, 'ිද්': 4401, 'ධි ': 2384, ' නෙ': 358, 'නෙව': 2540, 'ෙව ': 4731, 'සංව': 3604, 'විධ': 3506, 'ිධා': 4408, 'ධාන': 2381, 'ාදා': 4112, 'දාම': 2305, 'ාමය': 4144, 'බව ': 2764, 'ව ත': 3389, 'ේර ': 4784, 'තරම': 2144, 'ම බ': 2833, 'හුත': 3819, 'ර ජ': 3092, 'ොළ ': 4881, 'ළ ප': 3851, ' n': 78, 'ng': 1021, 'go': 905, 'o ': 1034, 'කො': 1764, 'ොන': 4838, 'ඩ ඉ': 2018, 'ඉ ම': 1409, ' කො': 260, 'කොන': 1768, 'ොන්': 4841, 'න්ත': 2476, '\\u200dරා': 4940, 'රැන': 3210, 'ෙත': 4690, 'බො': 2805, 'ුජ': 4560, 'ආ ': 1346, ' ඌ': 196, 'වග': 3409, 'ංද': 1243, 'ංග': 1236, 'ෙහ': 4742, 'කව': 1693, 'දඩ': 2265, 'මෙත': 2946, 'තන ': 2129, 'න උ': 2395, '්දා': 3937, 'ක හ': 1631, 'ධාර': 2382, ' බො': 409, 'ව ල': 3397, ' ලග': 471, 'ජාත': 1932, 'ාතා': 4105, ' වත': 489, 'වතා': 3426, 'ාවක': 4171, 'වක්': 3407, ' ආ ': 140, 'ි එ': 4328, 'එ බ': 1506, 'රහ ': 3178, 'හ න': 3731, 'ෙවෙ': 4737, ' වග': 486, 'වග ': 3410, 'කිව': 1743, 'ිව ': 4475, 'ුත්': 4575, 'ා උ': 4045, 'ර ම': 3100, 'ුලි': 4618, 'ි ර': 4344, 'ව ද': 3390, 'දෙව': 2353, 'වන ': 3436, 'න බ': 2408, 'ංග ': 1237, 'ග ර': 1794, ' රත': 455, ' මෙ': 434, 'මෙහ': 2951, 'ෙහ ': 4743, 'හ අ': 3720, ' කව': 250, ' දඩ': 324, 'දඩ ': 2266, 'ඩ න': 2027, 'ැත්': 4240, 'ොකර': 4812, 'ේප': 4777, 'ිළ': 4503, 'ළි': 3863, 'හල': 3775, 'ලව': 3320, 'ේපා': 4779, 'පිළ': 2678, 'ිළි': 4504, ' සහ': 526, 'ුරා': 4612, ' පහ': 375, 'පහල': 2639, 'බෞ': 2809, 'ොහ': 4875, 'ොම': 4852, 'ධය': 2372, '>ස': 727, 'ුස': 4632, 'බෞද': 2810, 'ට ක': 1950, 'කොහ': 1772, 'ොහො': 4879, 'හොම': 3840, 'ොම ': 4853, 'ම ර': 2836, 'ට ප': 1956, 'ක බ': 1624, ' බෞ': 411, '්ධය': 3945, 'ධය ': 2373, 'ව <': 3373, 'r>ස': 1098, 'ස්ත': 3656, '්ති': 3922, ' බව': 399, 'වුස': 3525, 'ුස්': 4635, 'ත ල': 2117, 'පුද': 2685, 'ගලය': 1821, 'උඹ': 1486, 'ඹල': 2968, 'ැස': 4290, 'බං': 2734, 'එප': 1531, 'හැම': 3800, 'ැමද': 4266, ' උඹ': 193, 'උඹල': 1488, 'ඹල ': 2969, 'ගැස': 1845, 'ැස්': 4292, ' මද': 420, ' බං': 390, 'බං ': 2735, 'ං ද': 1221, 'බොර': 2806, 'හින': 3811, 'ඩ එ': 2020, ' එප': 205, 'එපා': 1532, ' බෑ': 403, 'නට': 2429, 'ටම': 1977, 'ජ්': 1927, 'කප': 1660, 'කය': 1670, 'ඉහ': 1442, 'ලධ': 3299, 'රී': 3225, 'වශ': 3461, ' ,': 9, 'ාධ': 4115, 'ේන': 4773, ' රා': 459, 'ාජ්': 4091, 'ජ්\\u200d': 1929, ' සේ': 536, 'සේව': 3712, 'විය': 3511, 'ියද': 4445, 'යද ': 3015, ' කප': 245, 'ප්ප': 2644, '්පා': 3966, 'කයි': 1672, 'ළ න': 3850, 'නිල': 2521, 'ිලධ': 4470, 'ලධා': 3300, 'ාරී': 4159, 'වශ්': 3462, 'ද ,': 2225, ' , ': 10, ', ව': 618, ' ව්': 498, 'ජනා': 1920, 'නාධ': 2493, 'ාධි': 4120, 'ිපත': 4422, 'තිව': 2190, 'වරු': 3455, 'රු ': 3228, 'ු ව': 4540, ', ප': 614, 'පාර': 2655, 'ර්ල': 3190, '්ලි': 3996, 'ලිම': 3351, 'ිමේ': 4440, 'මේන': 2956, 'ේන්': 4776, 'ද අ': 2229, 'අඩ ': 1273, 'ඩ ක': 2022, 'කිර': 1741, 'ර ඕ': 3089, 'em': 871, 'ma': 995, 'ai': 775, 'il': 936, 'l ': 975, 'වප': 3439, ' p': 84, 'ho': 919, 'ot': 1052, 'to': 1153, 'oc': 1035, 'co': 840, 'op': 1048, 'y ': 1209, 'ema': 872, 'il ': 937, 'එ ය': 1508, ' යව': 444, 'ඕ ක': 1593, 'ේවක': 4792, 'තක': 2121, 'ගො': 1867, 'ොඩ': 4824, 'ඩය': 2043, 'ර්ත': 3185, '්තක': 3914, 'තක ': 2122, 'ක අ': 1609, 'ප ජ': 2571, 'ප ග': 2570, ' ගො': 277, 'ගොඩ': 1870, 'ොඩය': 4826, 'ඩය ': 2044, 'නොද': 2549, 'ද ය': 2247, 'ගහ': 1825, 'ගු': 1856, 'උ ව': 1459, 'ැට ': 4228, 'ට ග': 1951, ' ගහ': 269, 'ගහ ': 1826, 'තෙල': 2209, 'ෙල ': 4725, 'ල ක': 3264, 'ඒ ව': 1555, 'ද ත': 2241, 'තුන': 2199, 'ගුණ': 1857, 'ුණය': 4569, 'ඩික': 2054, 'ිකල': 4363, 'ල ඒ': 3261, 'ත න': 2111, 'වට': 3418, 'මර': 2872, 'කාව': 1723, ' වට': 488, 'වට්': 3420, 'ට්ට': 1992, '්ට ': 3900, ' මී': 431, 'නිම': 2518, 'මර ': 2873, 'අධි': 1288, 'හද ': 3753, 'ද උ': 2233, 'උ ස': 1460, 'ලො': 3364, 'ථි': 2222, ' w': 110, 'wh': 1202, 'ha': 910, 'ri': 1106, 'i ': 928, ' l': 72, 'la': 977, 'an': 788, 'nk': 1024, 'ka': 964, 'a ': 743, 'ලොව': 3367, 'බලව': 2760, 'ආර්': 1369, '්ථි': 3928, 'ත ර': 2116, 'hat': 915, ' la': 73, 'lan': 979, 'ank': 793, 'ka ': 965, '😂😂😂': 4976, 'ඔය': 1581, 'ගේ': 1865, 'ය්': 3042, 'යක': 3001, 'ට,': 1965, '්,': 3867, 'නස': 2465, '❤❤': 4946, 'ඔය ': 1582, 'වගේ': 3413, ', ස': 619, ' කය': 247, 'ායක': 4149, 'යකය': 3004, 'යින': 3058, 'ට, ': 1966, ', ම': 616, 'මහි': 2891, 'දල ': 2285, 'ව ?': 3374, 'බ ද': 2724, 'න ත': 2404, 'කය ': 1671, '්, ': 3868, 'ආරා': 1370, 'රාධ': 3201, 'ාධ ': 4116, 'උන ': 1477, 'ය ර': 2993, ' රන': 456, 'රනි': 3150, 'ිල ': 4469, 'ෙනස': 4704, 'නස ': 2466, ' ❤❤': 559, 'කන': 1655, 'ඕව': 1606, 'ජෙ': 1940, 'ෙප': 4708, 'විස': 3516, 'ිස ': 4491, 'ස ර': 3598, 'රයි': 3160, 'බො': 2801, 'ානව': 4125, ' කන': 243, 'කනව': 1658, 'එ න': 1504, 'නො': 2541, ' ඕව': 233, 'ඕව ': 1607, 'ව ජ': 3387, 'ගෙ ': 1861, ' සල': 523, 'සල්': 3645, 'ි ජ': 4335, ' ජෙ': 296, 'ජෙප': 1941, 'ෙප්': 4709, 'පො': 2696, 'කොල': 1771, 'ොල ': 4867, 'ප ස': 2583, 'ැප ': 4257, 'හිල': 3814, 'සෑ': 3678, 'රෝ': 3247, 'ෝප': 4902, 'ටව': 1985, 'ුළ': 4640, 'ළං': 3856, 'ණා': 2087, 'ාට': 4093, 'සො': 3713, 'ොබ': 4849, 'ංකව': 1232, 'කව ': 1694, ' සෑ': 530, 'සෑ ': 3679, 'ෑ ව': 4309, ' වස': 496, 'වසර': 3465, 'සර ': 3638, 'අව්': 1331, 'ව්ව': 3476, 'වැස': 3498, 'ස ය': 3597, 'යුර': 3068, 'සුළ': 3702, 'ුළං': 4642, 'ළං ': 3857, ' කු': 258, 'කුණ': 1750, 'ුණා': 4570, 'ාට ': 4094, 'ට හ': 1964, ' සො': 537, 'සොබ': 3714, 'ොබා': 4851, 'බා ': 2771, 'හැට': 3795, 'බි': 2785, 'අහ': 1337, 'ිඳ': 4418, 'ඳි': 2561, 'කම': 1665, 'ස බ': 3595, ' බි': 404, 'බිම': 2788, 'ිම ': 4435, ' හ ': 539, 'නිද': 2515, 'ිදහ': 4400, 'දහස': 2294, 'ස ව': 3600, ' අහ': 136, 'අහස': 1340, 'ස ඔ': 3587, ' ඔබ': 224, 'බ න': 2725, 'ොල්': 4868, 'ල්ම': 3327, '්මන': 3982, 'මන ': 2864, 'න එ': 2396, 'ිඳි': 4419, 'ඳි ': 2562, ' කම': 246, 'මෙන': 2947, 'න්ට': 2474, 'යටි': 3010, ' රි': 461, 'ප්ල': 2645, 'ුහ': 4636, 'කුහ': 1756, 'ුහ ': 4637, 'හ ර': 3735, 'ේවය': 4793, 'අම': 1306, 'ෝඩය': 4897, ' අම': 130, 'අමා': 1310, 'මාර': 2908, 'ටු': 2004, 'ුප': 4592, ' 3': 23, '50': 678, '00': 647, '0 ': 645, ' 7': 28, 'ලබ': 3309, 'ාහ': 4185, 'ෑන': 4312, '30': 672, 'අත': 1276, 'උගත': 1464, 'ැටු': 4231, 'ටුප': 2006, 'ුප ': 4593, 'අවශ': 1329, 'යාප': 3048, 'ාපන': 4131, 'පනය': 2609, 'න්ධ': 2478, 'මනා': 2866, 'නාව': 2497, '500': 679, '000': 649, '00 ': 648, 'කලා': 1691, 'ලාල': 3339, 'යවර': 3033, 'ු අ': 4532, 'ඩ ව': 2034, 'ප ල': 2581, ' ලබ': 473, 'ලබ ': 3310, 'බ ර': 2730, ' වා': 499, 'වාහ': 3490, 'න ස': 2414, 'නෑන': 2510, 'ෑන ': 4313, 'සමහ': 3631, 'මහර': 2889, 'හර ': 3772, 'ිසු': 4498, 'ු ම': 4539, ' මා': 428, 'මාස': 2911, ' 30': 24, '300': 673, 'ෑ අ': 4298, 'අන ': 1290, ' අත': 123, 'අත ': 1277, 'ු ස': 4541, 'සමා': 3633, 'මාන': 2907, ' ඉල': 178, 'ල එ': 3260, '්ජ': 3895, 'ේ ': 4759, 'ර්ජ': 3183, '්ජන': 3897, 'ජනය': 1918, 'ර උ': 3085, ' අස': 135, '්මා': 3984, 'න හ': 2415, 'ුදා': 4584, 'ා ත': 4054, 'න ග': 2401, ' ගේ': 276, 'ඕ ර': 1600, 'රජ ': 3123, 'ජ ස': 1911, 'ල ආ': 3256, 'ොහෙ': 4878, 'හෙව': 3831, 'දැක': 2315, 'ෙනව': 4703, 'කෙල': 1761, 'එල': 1537, 'ලෝ': 3369, 'ෝල': 4905, 'ො ': 4807, 'පණ': 2598, 'තල': 2146, 'ගෝ': 1873, 'ෝඨ': 4893, '්න,': 3950, 'ස්ට': 3655, '්ට්': 3901, 'ට්\\u200d': 1994, ' එල': 208, 'ෝල ': 4906, 'කො ': 1765, 'ණ ත': 2067, 'ය ආ': 2974, 'ඩ ප': 2028, 'ිතල': 4390, 'තල ': 2147, 'ල ග': 3265, ' ගෝ': 278, 'ගෝඨ': 1875, 'ෝඨා': 4894, 'ක ම': 1625, 'මෙය': 2948, 'ෙයා': 4718, 'යාල': 3049, 'ල ජ': 3267, 'රික': 3215, 'දව': 2287, 'ඔි': 1590, 'අභ': 1303, 'ෙ ව': 4675, 'පිං': 2668, 'ං හ': 1228, 'ෙි ': 4757, 'ෙ ඔ': 4664, ' ඔි': 228, 'ෙ අ': 4660, ' අභ': 129, 'පවි': 2632, 'ෝක': 4884, 'සෞ': 3717, 'ෞඛ': 4912, 'ඛ්': 1775, 'උබ': 1483, 'වති': 3427, 'ලෝක': 3370, '්වර': 4003, 'පෙ ': 2693, 'සම ': 3628, '\\u200dර ': 4928, 'ර ල': 3103, 'සෞඛ': 3718, 'ෞඛ්': 4913, 'ඛ්\\u200d': 1776, '\\u200dයය': 4924, 'අවු': 1332, 'වුල': 3524, 'තිත': 2182, 'ත ග': 2107, ' උබ': 192, 'උබල': 1485, 'බල ': 2756, 'රැව': 3212, 'ැවට': 4288, 'වටි': 3421, 'ටිය': 2003, 'ියව': 4451, ' 😢': 575, 'නල': 2456, ',,': 621, ',ම': 629, ' ඵ': 387, 'ඵල': 2712, 'ිධ ': 4407, 'සාම': 3669, 'ාමා': 4145, 'න්\\u200d': 2485, 'සෙන': 3707, 'ෙනල': 4702, 'නල ': 2457, 'ල ර': 3276, 'ට ජ': 1952, 'ැකි': 4222, 'යාව': 3050, 'න ඕ': 2399, 'ලකය': 3291, 'ෙඩ': 4688, '>ප': 717, 'ේත': 4767, 'ලකන': 3290, 'කන්': 1659, '්නි': 3960, 'ෙඩි': 4689, 'ා <': 4040, 'r>ප': 1092, 'ේත ': 4768, 'ත හ': 2120, 'හැත': 3796, 'ලම': 3312, 'තෝ': 2216, 'ද?': 2256, '??': 738, 'බ ඔ': 2719, 'ක ග': 1618, 'ගැ ': 1842, 'ැ ල': 4210, ' ලම': 474, 'ලම ': 3313, 'ම ඉ': 2822, ' බ ': 389, 'බ ම': 2728, 'ද ජ': 2240, 'ීවි': 4529, ' පෝ': 385, 'පවු': 2633, 'නවද': 2461, 'වද?': 3431, 'ද??': 2258, '???': 740, '?? ': 739, '? ම': 734, 'මුන': 2933, 'ලින': 3350, 'ින ': 4410, 'ගහල': 1829, 'හල ': 3776, 'ුං': 4545, ' m': 74, 'mo': 1008, 'on': 1044, 'no': 1028, 'po': 1075, 'ol': 1040, 'බය': 2750, '?<': 736, 'ෝධ': 4900, 'දර': 2277, 'යක ': 3002, 'මුං': 2930, 'ුං ': 4546, ' mo': 77, ' බය': 396, 'යව ': 3032, '>අන': 710, ' රස': 458, '්සා': 4026, 'ි ?': 4322, '?<b': 737, 'මුළ': 2938, 'ුළ ': 4641, 'ළ ර': 3853, 'එකත': 1516, 'කත ': 1648, 'විර': 3512, 'ිරෝ': 4467, 'ාවය': 4172, 'ර ය': 3101, 'අසා': 1336, 'රනය': 3147, 'බද': 2744, 'ඉග': 1415, 'එව': 1539, 'තැ': 2174, 'ැල': 4280, 'ෝහ': 4910, 'දුප': 2338, 'ුප්': 4595, ' බද': 393, 'බද ': 2745, 'ද ම': 2246, 'ුදල': 4581, 'න ඉ': 2394, ' ඉග': 171, 'ඉග ': 1416, 'ත එ': 2102, ' එව': 209, 'එව ': 1540, 'නොම': 2551, 'ොමි': 4854, 'මිල': 2924, 'උපා': 1482, 'අන්': 1291, 'ම ද': 2830, ' තැ': 314, 'ැල ': 4281, ' රෝ': 466, 'රෝහ': 3250, 'ෝහල': 4911, 'ොට': 4818, 'ටස': 1987, 'ෂේ': 3580, 'ිතා': 4393, 'තාම': 2170, 'කොට': 1767, 'ිශා': 4487, 'ශාල': 3559, 'ශ ව': 3544, '්ෂේ': 4017, 'හප': 3762, 'ොපි': 4848, 'ගහප': 1828, 'ලල': 3318, 'ඕක': 1602, 'බඩ': 2739, 'බල්': 2761, 'රුද': 3231, 'ජන ': 1915, 'ියන': 4446, 'යන ': 3018, 'දර ': 2278, 'අරග': 1317, 'රගල': 3119, 'ලල ': 3319, 'ල ඕ': 3263, ' ඕක': 231, 'ඕකු': 1603, 'කු ': 1748, 'ු ප': 4538, 'ිටි': 4381, 'ි ල': 4345, ' බඩ': 392, 'බඩ ': 2740, 'ඩ ග': 2023, 'මැර': 2916, 'ැරෙ': 4279, 'රෙ ': 3239, 'ෙ ඕ': 4665, 'ඉර': 1432, 'ොඳ': 4843, 'ඳ ': 2554, 'ද ග': 2239, 'ොඩ ': 4825, 'ඩ ජ': 2024, '්ප ': 3964, 'හ ඉ': 3721, 'හොඳ': 3839, 'ොඳ ': 4844, 'ඉව': 1436, ' ෂ': 511, '> ': 704, 'ඹ ': 2966, 'රො': 3244, 'ොත': 4831, 'ෙද': 4692, '>ව': 726, '🙏🙏': 4995, '🔥🔥': 4968, 'ැ හ': 4213, 'ැම ': 4265, 'අසර': 1334, 'රණ ': 3131, 'ඕ ම': 1599, ' මග': 418, 'මගු': 2850, 'ගුල': 1859, ' ඉව': 179, 'ඉවස': 1439, 'වස ': 3464, 'ස ඉ': 3584, 'ඉ ප': 1407, 'පුළ': 2689, 'ළ අ': 3846, 'ුවර': 4625, 'ස ත': 3591, 'හෙ ': 3825, 'ෙ ඒ': 4663, 'ඒ ත': 1551, 'r> ': 1084, 'ජන්': 1919, ' පල': 372, 'පලය': 2625, 'උඹ ': 1487, ' රො': 465, 'රොත': 3246, 'ොත්': 4833, 'ම ඔ': 2825, 'හිස': 3816, 'ිසර': 4494, 'වෙද': 3529, 'ෙද්': 4695, 'එ උ': 1497, 'සිහ': 3692, 'ුනා': 4590, 'නාන': 2494, 'ද <': 2228, 'r>ව': 1097, 'දින': 2323, ' 🙏🙏': 582, '🙏🙏🙏': 4996, '🔥🔥🔥': 4969, 'හේ': 3834, 'st': 1129, 'tr': 1157, 'ik': 935, 'ke': 970, 'e ': 852, 'ලැ': 3342, 'ි,': 4350, 'ෝග': 4886, 'ග ඔ': 1783, 'මොන': 2961, 'ොන ': 4839, ' හේ': 550, 'හේත': 3835, 'තුව': 2205, 'ුවක': 4622, 'ටව ': 1986, 'ව ඕ': 3383, ' නව': 351, 'නවත': 2460, 'ු ත': 4536, 'යක්': 3005, 'ව ඒ': 3381, ' ඔය': 225, 'ඔයා': 1583, ' st': 97, 'str': 1130, 'e ක': 858, 'පර ': 2618, 'ගෙව': 1864, ' ලැ': 478, 'ලැබ': 3344, 'ැබ ': 4259, 'ෙමෙ': 4715, 'යි,': 3053, 'ි, ': 4351, 'ප ර': 2580, 'ස ස': 3601, 'රින': 3218, 'රෝග': 3248, 'සට': 3609, 'ංස': 1247, ' සට': 517, 'ට අ': 1944, 'අහි': 1341, 'හිං': 3806, 'ිංස': 4354, 'ංස ': 1248, 'ණ ම': 2072, 'ු ජ': 4535, 'ඩග': 2040, 'ං ප': 1222, 'බඩග': 2741, 'ඩගි': 2041, 'රද්': 3140, 'ධ ව': 2369, 'ෙ ත': 4668, ' හය': 542, 'යිය': 3059, 'ියක': 4443, 'ක්න': 1706, '්නෑ': 3959, '් ': 3866, 'එත': 1523, 'දො': 2361, 'ොස': 4873, 'ේද': 4769, 'එස': 1542, 'වම': 3443, 'ටෙ': 2008, ' ඩ': 300, 'ඩ්': 2048, 'අ ': 1252, ' /': 13, '/ ': 637, 'ද ස': 2251, 'සුද': 3697, 'දුස': 2344, 'ුස ': 4633, 'සලක': 3644, 'ලක්': 3293, 'දිම': 2324, 'ෙ එ': 4662, ' එත': 202, 'එතක': 1524, 'ක ඔ': 1616, 'ැ ව': 4211, 'අම්': 1309, ' දො': 339, 'දොස': 2363, 'ොස්': 4874, '්තර': 3918, 'බ ය': 2729, 'තොර': 2215, ' එස': 210, 'එස ': 1543, 'ේවා': 4794, 'ඩ ර': 2032, 'ටර ': 1981, '\\u200dරම': 4934, ' තව': 310, 'තවම': 2150, 'වමා': 3445, 'ටෙන': 2010, 'යිව': 3060, 'ය බ': 2990, 'බෙහ': 2800, '්නා': 3957, 'ක්ස': 1712, 'ද හ': 2252, 'දාර': 2307, 'ාරණ': 4154, 'රණය': 3132, 'ැ අ': 4195, ' අ ': 117, 'අ ප': 1257, 'පාස': 2658, 'ය ල': 2994, 'සන්': 3621, 'සාව': 3671, 'ව ට': 3388, 'තී': 2193, ' !': 0, '!!': 587, 'නයා': 2452, ' තී': 316, 'තීර': 2194, 'ිදි': 4402, 'ස ජ': 3590, ' !!': 2, 'කක': 1633, 'ඬ ': 2093, ' ණ': 301, ' කක': 236, 'කක්': 1635, '්සි': 4027, 'එකා': 1519, 'කාග': 1717, 'ග ද': 1788, 'ව්\\u200d': 3478, 'ාපා': 4133, 'ට ර': 1960, 'පාව': 2657, ' ණය': 302, 'di': 849, 'pl': 1072, 'lo': 987, 'om': 1041, 'ti': 1151, 'ic': 930, 'c ': 829, '20': 662, '02': 651, '3 ': 671, 'ඇත්': 1382, '්තන': 3915, 'න ර': 2411, 'එ එ': 1498, 'ර බ': 3098, 'ා ආ': 4042, 'ati': 811, ' 20': 21, '202': 666, 'හක': 3740, 'ද? ': 2257, '්ණ ': 3911, '😂 ': 4973, '😂😂 ': 4975, '5 ': 677, 'ද 7': 2227, 'දාග': 2302, 'හව': 3779, ' 😮': 577, '😮😮': 4989, 'හුස': 3823, ' ටි': 299, ' දව': 329, 'දවස': 2290, ' 😮😮': 578, '😮😮😮': 4990, 'කැ': 1726, 'ව උ': 3379, 'උ ත': 1451, ' කැ': 254, 'කැම': 1730, 'වභ': 3441, '්වභ': 4001, 'ෙ ර': 4674, 'මාව': 2910, 'ලව ': 3321, 'එ ද': 1503, 'වසි': 3468, 'දිය': 2325, 'යුණ': 3065, 'ණ ර': 2073, 'සමර': 3630, 'ොා': 4882, ' ඡ': 286, 'ඡන': 1901, 'එන': 1528, 'කෑ': 1733, ' ලො': 482, 'ලොා': 3368, 'ොා ': 4883, 'බලා': 2762, 'ලාග': 3334, 'ග ඉ': 1780, 'ඉ ත': 1404, ' ඡන': 288, 'ඡන්': 1902, '්දෙ': 3940, ' එන': 204, 'ක ජ': 1619, '්කො': 3883, 'කොම': 1769, 'ොරා': 4862, 'රාක': 3197, 'මස': 2882, 'ංහ': 1249, 'සිං': 3682, 'ිංහ': 4355, 'ංහ ': 1250, 'හ ම': 3734, 'මැත': 2914, 'ිතු': 4396, 'යෝග': 3077, 'ෝගය': 4888, 'ලබා': 3311, 'බාද': 2773, 'තවා': 2151, 'නැව': 2505, 'ැං': 4216, 'බැං': 2778, 'ැංක': 4218, 'ංක ': 1230, 'දප': 2272, '්දය': 3934, '&q': 600, 'qu': 1080, 'uo': 1174, 't;': 1134, 'දග': 2263, ' &': 3, '; ': 691, 'ුා': 4643, 'ඔච': 1572, 'චර': 1886, '🌋🌋': 4958, 'හම්': 3767, 'ම්බ': 2898, '්බ ': 3971, 'බ ක': 2720, 'ර <': 3080, '&qu': 601, 'quo': 1081, 'uot': 1175, 'ot;': 1053, 'දග ': 2264, 'ග ම': 1792, 'ොකක': 4810, 'කක ': 1634, 'නොත': 2548, 'ලිව': 3353, 'ිවෙ': 4484, 'වෙල': 3532, ' &q': 5, 't; ': 1135, 'ුා ': 4644, 'ැ <': 4194, 'ස ග': 3589, ' ගම': 267, 'ම ය': 2835, 'ඉ උ': 1401, 'උ හ': 1461, 'ත ඔ': 2104, ' ඔච': 221, 'ඔච්': 1573, '්චර': 3892, 'චර ': 1887, '🌋🌋🌋': 4959, 'අල': 1320, ' අල': 133, 'අල්': 1322, 'කවද': 1695, 'සූ': 3703, 'ූද': 4645, 'ොට ': 4819, 'ැදු': 4247, 'ර ට': 3093, ' සූ': 534, 'ඉ එ': 1402, 'එ හ': 1512, 'පං': 2585, 'අම ': 1307, 'සුන': 3698, 'හ ග': 3727, '😀😀': 4970, 'බෙද': 2799, 'ෙදි': 4697, 'ට ත': 1953, 'ිකර': 4362, 'යනක': 3019, 'ඉ අ': 1400, 'සතු': 3614, 'තුට': 2197, 'ුට ': 4562, 'අං': 1261, 'ංශ': 1245, 'ඩො': 2063, 'ආච': 1350, 'චා': 1890, 'ු,': 4543, 'නර': 2453, ' ඊ': 181, 'ඊ ': 1443, 'ේට': 4766, '><': 707, 'ඇර': 1392, 'අච': 1270, 'ාඩ': 4097, 'දක': 2259, ' අං': 118, 'අංශ': 1262, 'ංශ ': 1246, 'ි ට': 4336, 'ැක්': 4221, ', ර': 617, 'ෙද ': 4693, 'ාලා': 4166, ' ආච': 142, 'චාර': 1892, 'ු, ': 4544, ' නර': 350, 'ර්ස': 3194, ' ඊ ': 182, 'එවු': 1541, 'වු ': 3520, 'ු ක': 4533, 'රාව': 3204, 'ාවි': 4174, ' ශ්': 509, 'ය <': 2971, 'r><': 1085, '><b': 708, 'ය, ': 3000, ' ඇර': 162, 'ඕ අ': 1592, ' අච': 121, 'අච්': 1271, 'පාඩ': 2650, 'ාඩ ': 4098, ', අ': 605, 'අර්': 1318, 'දක ': 2260, 'ක ද': 1621, 'ව ,': 3372, 'ග එ': 1782, 'ල ට': 3268, 'ට ද': 1954, ' මන': 421, 'මනු': 2868, 'නුස': 2534, 'රැ ': 3206, 'ැ ක': 4201, 'බ අ': 2715, ' i': 64, 'im': 940, 'mf': 1002, 'f ': 889, 'imf': 941, 'mf ': 1003, 'ඉවර': 1438, 'do': 850, 'ow': 1058, 'n ': 1011, ' v': 107, 'va': 1183, 'ඩ ම': 2030, ' do': 50, ' va': 108, 'vat': 1185, ' g': 56, 'ge': 899, 'en': 873, 'na': 1013, 'th': 1144, 'h ': 907, 'du': 851, 'un': 1170, 'nn': 1025, 'ne': 1019, 'ai ': 776, 'ගෙද': 1862, 'ෙදර': 4694, ' ge': 58, 'gen': 901, 'ena': 875, 'nat': 1016, 'ath': 810, 'th ': 1145, ' du': 51, 'nne': 1027, 'ne ': 1020, 'ජක': 1912, 'ාහ ': 4186, 'මිට': 2920, 'ිට ': 4378, 'ිරු': 4465, 'ළු': 3865, 'ැග': 4223, ' 5': 26, 'ැ ග': 4202, 'වන්': 3438, '200': 664, '0 ව': 646, 'ැග ': 4224, 'ද 😂': 2253, 'ආය ': 1365, ' රව': 457, 'රවට': 3165, 'ද ල': 2249, 'ොනව': 4840, 'ලෙ': 3358, 'තබ': 2134, 'රප': 3151, 'ල,': 3282, 'ගන': 1807, ' ලෙ': 480, 'ලෙඩ': 3360, 'ඩ්ඩ': 2049, 'ඩ ඇ': 2017, 'තබා': 2135, 'බාග': 2772, 'කරප': 1678, 'පල්': 2626, 'ා,,': 4069, ',, ': 622, ', බ': 615, 'ල, ': 3283, 'මදි': 2862, 'දිව': 2328, 'ෝග ': 4887, 'යාග': 3045, 'සේර': 3711, 'ාගන': 4083, 'ගන්': 1809, 'ටද': 1972, 'ඌ ': 1493, 'ා😂': 4192, '>ර': 724, 'ආප': 1360, 'කී': 1745, 'ිෂ': 4488, 'ම ඇ': 2821, 'ක න': 1622, 'න ජ': 2402, ' ඌ ': 197, 'ජා ': 1931, 'ජ ක': 1904, 'උ බ': 1455, 'දලා': 2286, 'ලා😂': 3341, 'r>ර': 1096, 'උ ක': 1449, 'ැ ඇ': 4196, ' ආප': 147, 'ආප ': 1361, ' කී': 257, 'කීව': 1746, 'ීව ': 4528, 'ම ල': 2837, ' ලය': 475, 'ලයි': 3316, 'ිෂ ': 4489, 'ොප්': 4847, 'ළ ව': 3854, 'ර්ෂ': 3193, 'ඇ ': 1377, 'එච': 1521, ') ': 603, 'ොක්': 4813, '්ස්': 4025, 'ස්ල': 3659, 'ි ඇ': 4325, ' ඇ ': 155, ' එච': 201, 'එච්': 1522, 'ාරන': 4155, 'රන ': 3145, 'වයි': 3448, 'වක ': 3406, 'රාන': 3202, 'ුටි': 4563, 'කබ': 1663, 'පට': 2593, ' ලි': 479, 'ට ව': 1962, 'ඕ ප': 1598, 'නාද': 2492, 'ප ත': 2573, 'සෝ': 3716, 'ෝර': 4904, 'මූ': 2939, 'ූල': 4651, '😢😢': 4984, ' ගු': 274, 'ගුර': 1858, ' මූ': 433, 'මූල': 2940, 'ූලි': 4652, 'ාප ': 4130, 'ප ද': 2574, 'ාසල': 4183, '😢😢😢': 4985, 'කණ': 1644, 'ව,': 3402, ' කණ': 239, 'ඉ ද': 1405, 'ංච': 1239, ' ළ': 552, 'ළා': 3861, 'කර්': 1683, 'දොර': 2362, 'පුං': 2681, 'ුංච': 4547, 'ංචි': 1240, ' ළම': 553, 'ම න': 2831, 'ැ ප': 4206, 'ත බ': 2113, ' බෝ': 410, 'තැ ': 2175, 'වාය': 3487, ' දර': 328, 'දරු': 2283, 'පප': 2612, 'ලු': 3355, 'දූ': 2345, 'මල': 2877, 'විල': 3513, ', ද': 612, 'දැං': 2314, 'ැං ': 4217, 'ං ම': 1224, 'මාල': 2909, 'ාලු': 4168, 'ලුව': 3357, 'ග හ': 1798, 'ෙ ද': 4669, ' දූ': 336, ' යම': 443, 'මල්': 2879, 'එළ': 1547, 'යහ': 3038, 'ීද': 4515, 'ං අ': 1218, 'ි ඒ': 4329, 'න ය': 2410, 'පාන': 2653, '්දර': 3935, ' එළ': 212, 'බලන': 2757, 'එනව': 1529, 'ෑ ත': 4302, 'දුම': 2339, 'හත': 3748, 'තාර': 2171, 'ි ඕ': 4331, 'මහත': 2887, 'හත ': 3749, 'දු ': 2334, 'ු ග': 4534, 'ඩෙ': 2062, '>එ': 711, 'ලත': 3297, 'ෙක': 4679, 'r>එ': 1087, ' නම': 348, 'ම්,': 2895, ' මර': 423, 'මෙක': 2944, 'හග': 3741, 'නහ': 2468, 'හගන': 3743, 'ගනි': 1810, ' ලෝ': 483, 'මත්': 2858, 'ෑ ප': 4304, 'ච ': 1880, 'ොරැ': 4863, 'අහු': 1342, 'හුව': 3822, 'ා ච': 4052, ' ච ': 281, 'ච ග': 1882, 'ාලි': 4167, 'ිමා': 4438, ' ජය': 292, 'අබ': 1302, 'කට්': 1640, ' අබ': 128, 'ෙ හ': 4677, ' 1': 14, '13': 657, 'උතු': 1471, 'තුර': 2203, 'නැග': 2502, 'ර ඉ': 3084, 'සැල': 3677, 'ැලස': 4284, 'ලස ': 3323, ' 13': 17, '13 ': 658, 'ෙළ': 4745, 'ඇම': 1388, 'කාට': 1718, 'ව ච': 3386, 'ෑ ල': 4308, 'හෙළ': 3832, 'ෑ ර': 4307, 'ා ඇ': 4043, ' ඇම': 160, 'ඇමර': 1390, 'මරි': 2876, 'කලක': 1688, 'පල ': 2624, 'ය 🙏': 2998, ' ෆ': 554, ' වන': 491, '්නත': 3953, 'නතර': 2434, 'තරය': 2145, 'ැද්': 4245, 'හෙල': 3830, 'මාජ': 2903, 'යග': 3006, 'හණ': 3746, '්තව': 3919, 'ජයග': 1925, 'යග්': 3008, '\\u200dරහ': 4939, 'රහණ': 3179, 'හණය': 3747, 'ල ය': 3275, 'ෙච': 4684, 'යුද': 3067, 'වෙච': 3528, 'ෙච්': 4685, '්ච ': 3891, 'අපෙ': 1301, 'ෙ ක': 4666, '>ත': 714, 'ුක': 4548, 'ත ඕ': 2105, 'පරය': 2619, 'දන්': 2271, 'එ ත': 1502, '්බි': 3975, 'බිය': 2789, 'ව්ල': 3475, 'ට ඉ': 1946, 'r>ත': 1090, 'කල්': 1690, 'ුක්': 4552, '්පි': 3967, 'ැ,': 4214, 'ෙපා': 4710, 'ැ, ': 4215, '්ර': 3989, 'ඉප': 1430, 'ිි': 4505, 'ංහල': 1251, ' ජා': 293, 'සේ': 3709, 'ේර': 4747, '්ර ': 3990, ' ඉප': 177, 'ඉපද': 1431, 'පද ': 2604, 'රටෙ': 3129, 'ිි ': 4506, 'අමු': 1311, 'ඒව': 1561, 'ට ල': 1961, 'ස හ': 3602, 'එන්': 1530, 'ඇතු': 1384, ' ඒව': 217, 'ඒවා': 1563, ' දන': 326, 'දන ': 2270, 'න ඇ': 2393, 'බිල': 2790, '්හ': 4030, 'al': 780, ' u': 104, 'ni': 1022, 'io': 946, 'ala': 782, 'la ': 978, 'a ත': 760, ' un': 106, 'uni': 1172, 'ion': 947, 'on ': 1045, 'ma ': 996, 'හොට': 3837, ' ගා': 270, 'ගාව': 1840, 'ණ ග': 2066, 'ුඩ': 4565, '97': 686, '7 ': 683, '්කි': 3882, 'එ ප': 1505, 'කුඩ': 1749, 'ුඩ ': 4566, 'කිල': 1742, 'ල 2': 3252, 'ඔ ප': 1567, 'ස උ': 3585, 'උ න': 1453, 'කත්': 1649, 'it': 953, 'tt': 1160, 'te': 1142, 'ලප': 3305, 'ඩව': 2046, 'te ': 1143, ' නේ': 359, 'එ ග': 1501, 'හප ': 3763, 'කම ': 1666, 'ෙක ': 4680, 'ලප ': 3306, 'ොඩව': 4827, 'හුද': 3820, 'ේද ': 4770, '්ගත': 3886, 'ජයව': 1926, 'නඩ': 2431, 'ඩා': 2050, 'ොච': 4816, 'නඩ ': 2432, 'ඩා ': 2051, ' නඩ': 346, 'ෙනක': 4700, 'කොච': 1766, 'ොච්': 4817, '️ ': 4951, '>ක': 713, 'r>ක': 1089, ' 😁': 565, 'රස ': 3173, 'ා ල': 4062, 'යප': 3022, 'බන': 2746, 'ියප': 4447, '්ලක': 3993, 'ඒව ': 1562, 'බන්': 2747, 'රසි': 3176, 'ිව්': 4479, 'ි 😂': 4349, 'ෂි': 3578, 'ම උ': 2823, 'න ඒ': 2397, 'හැන': 3798, 'මුහ': 2937, 'ුහු': 4639, 'ොට්': 4820, 'ානස': 4126, 'නසි': 2467, 'ලර': 3317, '\\u200d ': 4919, 'හ ඕ': 3725, 'ුවා': 4626, 'වාන': 3486, 'ෙහෙ': 4744, 'උ ග': 1450, 'ගාන': 1837, 'වට ': 3419, 'ද ඔ': 2236, 'ඒ න': 1552, 'එ ස': 1511, 'ර 😂': 3107, ' 😂 ': 568, '්ද්': 3936, 'රව්': 3166, 'ඉඳ': 1428, 'ටහ': 1988, '25': 669, 'වධ': 3434, ' \\u2063': 557, 'අ උ': 1254, 'උ එ': 1448, 'එ ම': 1507, 'ඒ ක': 1550, ' ඉඳ': 176, 'ඉඳ ': 1429, 'ඳ ම': 2556, 'උද ': 1473, 'නාල': 2496, 'ලික': 3348, 'සටහ': 3610, 'ටහන': 1989, 'ෑ එ': 4300, 'හ උ': 3722, 'ොය ': 4856, 'හ එ': 3723, 'එලව': 1538, 'ය ට': 2985, 'ගැහ': 1846, 'ිකම': 4360, 'ත ජ': 2108, 'වරද': 3452, '\\u200dයන': 4923, 'ග උ': 1781, 'ඇම ': 1389, 'ේනව': 4775, 'නවන': 2462, 'උව': 1489, 'බර': 2753, 'ෙලා': 4728, ' උව': 194, 'උවම': 1490, 'ණා ': 2088, 'සොය': 3715, ' ගන': 266, 'ගන ': 1808, ' බර': 397, 'සහන': 3651, 'හනය': 3758, 'න ල': 2412, 'ැව ': 4287, 'දව ': 2288, 'උ ද': 1452, 'පොල': 2706, 'ොලි': 4869, 'ලිස': 3354, 'නං': 2421, 'ඇල': 1393, 'ාං': 4072, 'නං ': 2422, ' ඇල': 163, 'ඇල්': 1394, 'ි ච': 4334, 'ච ක': 1881, 'ල ච': 3266, ' k': 68, 'g ': 896, 'ගණ': 1802, 'ණන': 2079, 'කඩ': 1641, 'ේස': 4801, 'රං': 3109, 'ංජ': 1241, 'ාළ': 4188, 'නාශ': 2498, 'ාශ ': 4177, ' ගණ': 264, 'ටින': 2002, 'ඩුක': 2060, 'ුකා': 4553, 'ව ඇ': 3377, 'බයි': 2752, ' යක': 440, 'කඩ ': 1642, '්දේ': 3941, 'දේස': 2360, 'ේසි': 4803, 'ොහ ': 4876, 'ෑ ම': 4306, '්තු': 3923, 'ේන ': 4774, 'ංජ ': 1242, 'ජ ම': 1909, ' යා': 446, 'ාළ ': 4189, 'ළ ම': 3852, ' මල': 424, 'ජාව': 1933, 'ක ය': 1626, 'ල <': 3253, 'ඩ ල': 2033, 'මට': 2851, 'ඩ බ': 2029, 'කවු': 1697, 'රුහ': 3235, 'ුහර': 4638, 'ලොක': 3365, 'p ': 1062, 'හැල': 3802, 'ැල්': 4285, 'මස්': 2883, 'ව 😂': 3401, 'උස': 1491, 'ඩබ': 2042, 'ටා': 1995, 'යො': 3075, 'නන': 2439, ' හල': 544, ' උස': 195, 'ියෝ': 4457, 'බය ': 2751, '්නන': 3954, 'නන්': 2441, 'උ ර': 1457, 'ලේ': 3362, ' ලේ': 481, 'ලේස': 3363, 'න 😂': 2416, '😁😁': 4971, ' 😁😁': 566, '😁😁😁': 4972, 'ඔ අ': 1565, 'ක ඇ': 1611, '්ලන': 3994, 'ස ම': 3596, 'එකෙ': 1520, 'කෙක': 1758, 'ෙක්': 4681, 'රුන': 3232, 'නයක': 2451, 'බ්': 2768, 'අපර': 1297, 'පරා': 2620, 'රාද': 3200, 'කප ': 1661, 'ප ම': 2578, 'ිබ්': 4428, 'බ්බ': 2769, 'ුසර': 4634, 'සරන': 3640, 'ඩ හ': 2036, 'පනි': 2611, 'එකක': 1515, ' a': 37, ' t': 98, 'ීක': 4508, 'ශි': 3560, 'ආස': 1373, 'දෙර': 2352, 'උබ ': 1484, 'a t': 754, ' to': 102, 'to ': 1154, 'පරී': 2622, 'රීක': 3226, 'ීක්': 4509, 'ශිත': 3561, 'පටි': 2595, 'පාට': 2649, 'ාටි': 4095, 'ශ ප': 3543, ' ආස': 152, 'ආස ': 1374, 'බබ': 2748, 'කො': 1763, ' බබ': 395, 'මරා': 2875, 'කුන': 1751, 'කෝ': 1774, 'ෝට': 4889, ' කෝ': 261, 'ෝටි': 4892, '20 ': 663, ' ලක': 470, 'ඉ ක': 1403, 'ිරැ': 4463, 'ආව': 1371, 'යුක': 3063, 'ක්ත': 1704, 'අතු': 1281, ' ආව': 151, 'පොඩ': 2701, 'ොඩි': 4830, '්ඩි': 3909, '්බු': 3976, 'න්ප': 2480, 'ේ😂': 4804, '්සර': 4022, 'ඩ උ': 2019, 'නැද': 2504, 'ියය': 4449, 'ෙ😂': 4758, 'බබා': 2749, 'තමා': 2138, '්ගෙ': 3888, 'කුම': 1752, 'ය ජ': 2984, 'ාති': 4106, 'කව්': 1696, 'ව්ර': 3474, '225': 668, 'ා ඒ': 4047, 'පැත': 2662, 'අතර': 1278, 'ප ප': 2576, 'පුට': 2683, 'ාච': 4085, '්තම': 3916, 'මාච': 2902, 'ාචා': 4086, 'ඔත': 1574, ' කෑ': 255, 'කෑ ': 1734, ' ඔත': 222, 'ඔතන': 1575, 'න ඔ': 2398, 'පකි': 2589, 'බ ත': 2723, 'බ ග': 2721, 'ඉතා': 1420, 'ාම ': 4142, ' ස ': 513, ' 😢😢': 576, 'wa': 1192, 'ts': 1158, 'sa': 1119, 'ap': 795, 'ණි': 2090, 'ිඩ': 4383, ' e': 52, 'ev': 887, 'u ': 1164, 'us': 1177, 'ah': 773, 'ad': 769, 'wat': 1196, ' ke': 70, 'na ': 1014, 'a ක': 759, ' ne': 81, 'sa ': 1120, 'a d': 746, 'da ': 846, 'a m': 751, ' ma': 75, 'aha': 774, 'tha': 1146, 'ada': 770, 'a k': 750, ' ka': 69, 'kal': 966, 'a e': 747, 'va ': 1184, '25 ': 670, 'ෙදා': 4696, '්අ': 3871, 'ඩං': 2037, 'ිච': 4373, ',ක': 626, 'ඟ ': 1879, 'ගර': 1816, '\\u2063 ': 4943, 'නාට': 2490, 'ෙත ': 4691, 'ුග ': 4555, 'අත්': 1279, 'ත්අ': 2155, '්අඩ': 3872, 'අඩං': 1274, 'ඩංග': 2038, 'ජ ත': 1906, 'අ ව': 1260, 'ුම ': 4599, 'හාල': 3788, 'ාල්': 4165, 'රමා': 3156, 'මාණ': 2904, 'ාණය': 4101, 'න්ජ': 2473, '්ජා': 3898, 'යෙද': 3072, 'අ එ': 1255, 'මෙච': 2945, 'පාත': 2651, 'මර්': 2874, '්දන': 3933, 'සිත': 3684, 'හැ,': 3793, 'රම්': 3155, 'ම්ක': 2896, 'යිද': 3057, 'ිද?': 4399, '? එ': 731, 'බි ': 2786, '්ද?': 3932, 'සත ': 3612, 'ෙවල': 4732, 'ැ ඉ': 4197, '්ධව': 3946, 'ලො': 3361, 'යද්': 3016, 'ානම': 4123, 'ම එ': 2824, 'රසා': 3175, 'ාදය': 4110, 'පී': 2679, 'ීර ': 4522, 'fi': 892, 'm ': 990, 'සුප': 3699, 'ුපි': 4596, 'වටෙ': 3422, 'ටෙ ': 2009, 'අල ': 1321, ' පට': 365, '10': 654, ' 10': 15, '100': 655, 'ද ඇ': 2231, '්බන': 3972, '😆😆': 4979, '😆😆😆': 4980, 'is': 950, 'ro': 1108, 'oy': 1059, 'in': 942, 'ar': 799, 'ra': 1099, 'න්ම': 2481, 'ist': 952, 'ing': 944, 'kar': 968, 'ara': 800, 'ran': 1100, 'ann': 794, 'nna': 1026, 'අලු': 1324, 'ලුත': 3356, 'ේස ': 4802, '්බා': 3974, 'ටුව': 2007, 'තාන': 2169, '්තය': 3917, 'ල ඔ': 3262, 'ව්ස': 3477, ' c': 44, 'ci': 835, 'id': 931, 'd ': 844, '12': 656, ' 12': 16, 'හග ': 3742, ' රු': 462, ', ක': 608, 'වැද': 3495, 'ැදග': 4244, ' යහ': 445, 'ිතව': 4391, 'කළ': 1698, 'de': 848, 'ea': 859, ' h': 60, 'nd': 1018, 'le': 981, 'ුබ': 4597, 'ඉ ර': 1410, 'ලාන': 3336, ' කළ': 251, ' de': 49, 'al ': 781, ' ha': 61, 'han': 913, 'and': 791, 'le ': 982, 'ිනක': 4411, 'ඉඩ ': 1418, 'යේ': 3074, '්\\u200c': 4032, '\\u200c ': 4918, 'ොටි': 4821, 'ක්\\u200c': 1713, '්\\u200c ': 4033, '්😂': 4038, 't එ': 1133, 'ුකර': 4551, 'ක 😂': 1632, 'ාක ': 4075, 'ටන': 1974, ' 🤣': 584, '🤣🤣': 4997, ' බන': 394, ' 🤣🤣': 585, '🤣🤣🤣': 4998, 'ේ?': 4762, 'අැ': 1344, ' 😊': 571, 'ඕ ත': 1595, ' අැ': 138, 'අැත': 1345, '්තෙ': 3924, '්ජ ': 3896, 'කොර': 1770, 'බට': 2736, 'ටත': 1971, ' ජි': 294, 'ජිව': 1937, ' බට': 391, 'බටහ': 2738, 'ටහි': 1990, 'ඕ ව': 1601, 'පේ': 2697, 'ා!': 4066, '? ර': 735, ' පේ': 383, 'ුනන': 4588, 'දර්': 2281, 'ර්ශ': 3192, 'ොදා': 4836, 'දාප': 2304, 'වතු': 3428, 'මෙි': 2953, 'උ ම': 1456, ' මව': 425, 'මව ': 2881, 'සුර': 3700, 'ුරැ': 4613, 'ෙවා': 4734, 'ේග': 4764, 'ණව': 2083, 'යස': 3036, 'ඉල ': 1434, 'ාජක': 4089, 'ජකා': 1913, 'වේග': 3536, ', ජ': 610, 'ිටු': 4382, 'ුපස': 4594, 'සිට': 3683, 'රමි': 3157, 'රණව': 3133, 'යස ': 3037, 'තුක': 2196, 'ුක ': 4549, 'පස ': 2635, 'ේගය': 4765, 'ෑ න': 4303, 'ීය': 4520, 'ලකර': 3292, 'ැ ඔ': 4200, '🙏 ': 4993, 'ස්ප': 3658, 'බ ප': 2726, 'ගක': 1799, 'ුනු': 4591, 'නුව': 2533, 'වගක': 3411, 'ගකි': 1800, 'මතක': 2856, 'gr': 906, 're': 1102, ' j': 66, 'ුරක': 4609, 'ෂිත': 3579, 'ප ය': 2579, 'ලකා': 3294, 'ොයා': 4857, 'ඉ න': 1406, 'ආද': 1356, 'හිට': 3809, ' ආද': 145, 'ආදර': 1357, '<a': 696, 'hr': 923, 'ef': 864, 'f=': 890, '=\"': 700, '\"h': 591, 'ht': 925, 'tp': 1155, 'ps': 1078, 's:': 1117, ':/': 689, '//': 638, '/w': 642, 'ww': 1206, 'w ': 1190, ' y': 113, 'yo': 1215, 'ou': 1054, 'ut': 1178, 'tu': 1162, 'ub': 1165, 'be': 821, 'm/': 993, 'tc': 1140, 'ch': 832, 'h?': 908, '?v': 741, 'v=': 1181, 'm&': 991, '&a': 598, 'am': 784, 'mp': 1009, 'p;': 1063, ';t': 692, 't=': 1136, '\">': 589, '</': 694, '/a': 640, 'a>': 763, 'ඨ ': 2011, 'ඇද': 1385, '<a ': 697, 'a h': 749, ' hr': 63, 'hre': 924, 'ref': 1104, 'ef=': 865, 'f=\"': 891, '=\"h': 701, '\"ht': 592, 'htt': 926, 'ttp': 1161, 'tps': 1156, 'ps:': 1079, 's:/': 1118, '://': 690, '//w': 639, '/ww': 644, 'www': 1208, 'ww ': 1207, 'w y': 1191, ' yo': 115, 'you': 1216, 'out': 1057, 'utu': 1179, 'tub': 1163, 'ube': 1167, 'be ': 822, 'e c': 854, ' co': 46, 'com': 842, 'om/': 1042, 'm/w': 994, '/wa': 643, 'atc': 808, 'tch': 1141, 'ch?': 833, 'h?v': 909, '?v=': 742, 'm&a': 992, '&am': 599, 'amp': 787, 'mp;': 1010, 'p;t': 1064, ';t=': 693, '</a': 695, '/a>': 641, 'a> ': 764, '්ඨ ': 3904, ' ඇද': 158, 'එ ඉ': 1496, 'ළක': 3858, 'උ ප': 1454, 'යවෙ': 3035, 'එ ර': 1509, ' රග': 451, 'පැහ': 2664, 'ීප': 4518, 'ා්': 4191, 'ාබ': 4136, 'තැන': 2176, 'ේව': 4748, 'තිස': 2191, 'දේ': 2356, 'ේශ': 4749, 'ෙවි': 4736, 'ෂ ක': 3563, 'ලෙ ': 3359, 'ගෑ': 1847, 'ෑව': 4315, 'ං ස': 1227, 'ගෑව': 1848, 'ෑවි': 4317, 'ඳ ස': 2558, 'ිරස': 4461, 'ටන ': 1975, 'පහ ': 2638, 'දම ': 2274, 'අහන': 1339, 'ණ ද': 2068, 'he': 916, 'mi': 1004, 'ry': 1113, 'pa': 1065, 'pe': 1067, 'er': 879, 'r ': 1082, 'av': 812, 'ag': 771, 'hem': 917, 'mis': 1005, 'ry ': 1114, ' pa': 85, 'ape': 797, 'er ': 880, 'ava': 813, 'age': 772, 'ge ': 900, 'සාධ': 3666, 'ාධා': 4119, 'ෝට ': 4890, 'මිස': 2926, 'ඳ ව': 2557, 'ංගි': 1238, 'ු ද': 4537, ' කඩ': 238, '!!!': 588, 'නේද': 2544, 'ේද?': 4771, 'මු ': 2929, 'ත <': 2096, 'ආව ': 1372, 'බොහ': 2807, 'වං': 3404, ' නට': 345, 'නට ': 2430, '❤❤❤': 4947, 'ශාප': 3558, '=-': 702, '-w': 635, 'wf': 1200, 'fo': 893, 'yg': 1213, 'gn': 903, 'ih': 933, 'hp': 921, 'pm': 1073, '>0': 705, '0:': 652, 'v=-': 1182, '=-w': 703, '-wf': 636, 'wfo': 1201, 'foy': 895, 'oyg': 1061, 'ygn': 1214, 'gni': 904, 'nih': 1023, 'ihp': 934, 'hpm': 922, 'pm&': 1074, '\">0': 590, '>0:': 706, 'ඉදල': 1424, 'ල 😂': 3281, 'බලප': 2758, 'ිට්': 4380, 'චන්': 1885, 'බ බ': 2727, 'ශක': 3545, 'am ': 785, ' ශක': 508, 'ශක්': 3546, ' රෙ': 464, 'රෙද': 3240, 'තඩ': 2125, 'ගොබ': 1871, 'ොබ්': 4850, 'ගොට': 1868, 'කාන': 1719, 'ුෂ': 4629, 'යුෂ': 3069, 'ුෂ ': 4630, 'ෙනග': 4701, 'නගත': 2427, 'බිබ': 2787, 'ං ව': 1226, 'ිබා': 4429, 'ෑ උ': 4299, 'ගොව': 1872, 'ොවි': 4872, 'ිතැ': 4394, 'කුල': 1754, 'ලිය': 3352, 'ොඩ්': 4828, 'ිභ': 4432, ' 🙂': 579, 'v ': 1180, 'el': 868, '>ද': 715, ' 👍': 563, 'විභ': 3509, 'ිභා': 4433, 'හ ල': 3736, ' tv': 103, ' ch': 45, 'cha': 834, 'el ': 869, 'r>ද': 1091, 'ැ උ': 4198, 'ැහ ': 4295, 'sc': 1121, 'cl': 838, 's ': 1115, 'iy': 957, 'ya': 1210, 'ek': 866, 'li': 984, 've': 1186, 'aw': 814, 'ok': 1039, 'ak': 777, 'ks': 974, 'sh': 1124, 'ga': 897, 'k ': 963, ' o': 82, 'ta': 1137, 'pr': 1076, 'iv': 955, 'mb': 997, 'bo': 823, 'll': 985, 'ay': 816, 'ab': 766, 'pi': 1069, 'ew': 888, 'ir': 948, 'si': 1125, 'od': 1036, 'ig': 932, 'hi': 918, 'me': 998, 'as': 803, 'hu': 927, 'ki': 972, 'wi': 1203, 'es': 883, 'or': 1049, 'we': 1197, 'ul': 1168, 'bu': 828, 'ec': 860, 'bb': 820, 'su': 1131, ' sc': 93, 'scl': 1122, 'cl ': 839, ' ub': 105, 'uba': 1166, 'bal': 819, 'iya': 958, ' ek': 53, 'eka': 867, ' na': 80, 'l w': 976, ' wa': 111, 'wal': 1195, 'in ': 943, 'ana': 790, 'naw': 1017, 'awa': 815, 'wa ': 1193, 'a u': 755, 'ha ': 911, 'a g': 748, ' ga': 57, 'gan': 898, 'ak ': 778, 'ila': 938, 'a o': 752, ' oy': 83, 'oya': 1060, 'ya ': 1211, 'a s': 753, 'lat': 980, 'ata': 807, 'ta ': 1138, 'a y': 758, ' ya': 114, 'yan': 1212, ' pr': 87, 'riv': 1107, 'iva': 956, 'ate': 809, 'a w': 757, 'wad': 1194, 'col': 841, ' sa': 92, 'all': 783, 'aka': 779, 'a b': 745, 'aya': 817, 'enn': 876, 'e n': 856, 'pat': 1066, ' ap': 40, 'api': 798, 'pi ': 1070, ' ho': 62, 'oda': 1037, 'ani': 792, 'ill': 939, 'lla': 986, ' th': 100, 'tho': 1149, 'hop': 920, 'pe ': 1068, 'kat': 969, 'e a': 853, 'thi': 1148, ' me': 76, 'pit': 1071, 'ita': 954, 'una': 1171, 'a a': 744, 'asa': 804, 'thu': 1150, 'n p': 1012, 'e t': 857, ' we': 112, 'wen': 1199, ' an': 39, 'era': 881, ' pe': 86, ' ki': 71, 'kiy': 973, 'apa': 796, 'an ': 789, 'ama': 786, 'har': 914, ' en': 54, 'ari': 801, ' go': 59, 'nam': 1015, ' r': 88, 'lt': 988, ' re': 90, 'res': 1105, 'ult': 1169, 'lt ': 989, '>දැ': 716, 'ac': 767, 'ce': 830, '>ඔ': 712, 'ඔන': 1576, 'ts ': 1159, 'ace': 768, 'ce ': 831, 'අමත': 1308, 'r>ඔ': 1088, ' ඔන': 223, 'ed': 861, 'ia': 929, '>ල': 725, 'ැජ': 4225, 'med': 1000, 'edi': 862, 'ලැජ': 3343, 'ැජ්': 4226, 'ජ්ජ': 1928, '&#': 596, '#3': 593, '39': 674, '9;': 687, ' 4': 25, '&#3': 597, '#39': 594, '39;': 675, '9; ': 688, 'ුලු': 4619, ' ඊල': 183, ' 😒': 572, 'බ උ': 2717, 'උ ල': 1458, 'ඒකන': 1560, 'කන ': 1656, 'වහල': 3472, 'පත්': 2601, '51': 680, 'ශන': 3547, 'ේක': 4763, 'ශනය': 3548, 'a ව': 762, 'මේක': 2955, 'සක': 3605, 'ඇන': 1387, 'කණ්': 1646, 'පොළ': 2708, 'අහ ': 1338, ' ඇන': 159, 'ඩිත': 2055, 'ැනි': 4253, 'මාධ': 2906, 'ාධ්': 4118, 'ur': 1176, 'ැඳ': 4255, 're ': 1103, ' ගෑ': 272, 'නන ': 2440, 'මොා': 2963, 'තෙර': 2208, '්කය': 3878, 'ා ය': 4060, 'ss': 1128, ' ti': 101, ' )': 8, 'කොළ': 1773, ' මය': 422, 'මයි': 2871, '! ': 586, '️❤': 4954, '❤️': 4948, '️🙏': 4956, 'පාළ': 2659, 'ාළක': 4190, ' ! ': 1, '️❤️': 4955, '❤️🙏': 4950, 'හිග': 3807, 'නින': 2516, 'පිහ': 2677, 'නාග': 2489, 'වනව': 3437, 'ජප': 1921, 'ආහ': 1375, 'ු හ': 4542, ' කද': 242, ' ආහ': 153, 'ආහා': 1376, 'හාර': 3787, 'සීත': 3694, 'ීතල': 4514, 'දරා': 2282, 'ිකව': 4364, 'ව ඔ': 3382, 'ඔවු': 1587, ' සන': 520, 'භාව': 2816, 'විප': 3508, 'මනි': 2867, 'ුරව': 4610, ' චන': 282, 'රගන': 3118, 'රැල': 3211, 'සාප': 3668, ' තක': 305, 'ද එ': 2234, 'පන ': 2608, ' ta': 99, ' ra': 89, 'rat': 1101, 'මද ': 2860, 'රෙන': 3241, 'ලෑ': 3345, 'දඬ': 2267, ' 6': 27, '9 ': 685, 'අලි': 1323, ' කඳ': 244, 'වභා': 3442, 'සරය': 3641, 'කැල': 1732, 'ප එ': 2568, ' දඬ': 325, 'දඬ ': 2268, 'කරද': 1676, 'රදර': 3139, 'ෙ ග': 4667, 'ණි ': 2091, 'සැම': 3675, 'ෝක ': 4885, 'සස': 3648, 'රටක': 3128, 'දේප': 2358, 'ේපල': 4778, 'කඩා': 1643, 'න්,': 2470, 'කරය': 1680, 'ණු': 2092, 'ැසි': 4293, 'හෝ': 3843, 'තුප': 2200, ' රක': 450, 'රකි': 3114, 'vi': 1187, 'se': 1123, 'ru': 1112, 'ep': 878, 'ee': 863, 'et': 885, 'ූස': 4656, 'a v': 756, ' vi': 109, 'kan': 967, 'ාදහ': 4111, 'wel': 1198, 'ela': 870, 'e m': 855, 'me ': 999, 'aru': 802, ' bo': 43, 'en ': 874, 'the': 1147, 'et ': 886, 'මූස': 2941, 'ූසල': 4657, 'ham': 912, 'inn': 945, 'a ම': 761, 'ලොන': 3366, 'නර ': 2454, 'ැරු': 4278, 'පට ': 2594, 'රාම': 3203, '්සය': 4021, 'නිහ': 2524, 'තෙ ': 2207, 'හජ': 3744, ',අ': 624, 'ම,': 2841, 'මහජ': 2886, 'හජන': 3745, 'ක්,': 1702, 'ඵල ': 2713, 'නුක': 2529, 'ුකම': 4550, 'කම්': 1667, 'ව, ': 3403, 'ම, ': 2842, 'ලකණ': 3289, 'රද ': 3138, 'ඇද ': 1386, 'උඩ': 1465, 'ඩර': 2045, '්කල': 3880, '්භ': 3978, '්මය': 3983, 'පලි': 2628, 'ාජප': 4090, 'ජපක': 1922, 'ෂ හ': 3567, 'බ එ': 2718, 'න්හ': 2484, '15': 659, '% ': 595, 'රධ': 3142, ' එෆ': 213, 'හරක': 3773, '\\u200dරධ': 4933, 'රධා': 3143, 'ධා ': 2380, 'සප': 3625, 'ොරු': 4864, 'පොහ': 2707, '්නක': 3952, 'ලාබ': 3338, 'ාබ ': 4137, 'දුල': 2341, 'ටුග': 2005, 'ුගා': 4557, '්බෙ': 3977, ' ඈ': 167, 'පක ': 2587, 'වසා': 3467, 'සාන': 3667, 'මග ': 2849, ' ජ ': 290, 'ජ ව': 1910, 'වව ': 3460, ' තන': 307, 'ැටෙ': 4232, 'ි <': 4321, 'හල්': 3778, 'ල ඇ': 3257, 'ධම': 2371, 'බැල': 2780, ' &#': 4, 'නමි': 2448, 'ෙලි': 4729, 'ූර ': 4649, 'ලං ': 3285, 'මාත': 2905, 'ොකි': 4814, '්බර': 3973, 'බර ': 2754, 'ළ ක': 3848, 'කළ ': 1699, 'ර ,': 3079, 'හෙට': 3826, 'උදා': 1475, 'ළ හ': 3855, 'වා!': 3481, 'ීස': 4530, ' 8': 29, 'ඩිය': 2056, 'ොරක': 4860, 'තක්': 2123, '්කඩ': 3875, 'දුක': 2335, '8 ': 684, 'ගතය': 1805, ' 8 ': 30, 'ඉද ': 1423, 'ෑස': 4318, 'ගෑස': 1849, 'ෑස ': 4319, 'ාද?': 4109, 'ෑග': 4311, 'ගහන': 1827, ' සව': 524, ' ෙ': 556, 'bs': 826, 'ෙග': 4682, 'අා': 1343, ' 9': 31, ' ා': 555, 'rt': 1111, 'ැණ': 4237, 'bs ': 827, 'ෙග ': 4683, ' අා': 137, ' චි': 284, 'ිකය': 4361, 'ක්ද': 1705, 's එ': 1116, 'හනව': 3759, 'ලපා': 3307, 'ැනු': 4254, 'නුම': 2531, 'ිපි': 4425, '්වි': 4005, ' ලස': 476, 'ලස්': 3324, '්සන': 4020, 'සන ': 3620, 'රැණ': 3208, 'ිජ': 4376, 'ක්ල': 1708, 'කෙහ': 1762, 'මල ': 2878, '්චා': 3893, 'ොඩා': 4829, 'ොල': 4755, 'os': 1051, 'sp': 1127, 'tal': 1139, 'සුව': 3701, '1 ': 653, 'ිණ': 4384, 'සමි': 3634, 'ැමි': 4269, '්ෂණ': 4013, 'ාජි': 4092, 'ආත': 1353, '්\\u200d ': 4035, 'ගාර': 1838, 'ොකට': 4811, 'විච': 3502, 'ිච්': 4375, 'එතු': 1525, ' ආත': 144, ' පප': 369, '>මි': 721, 'මිය': 2923, 'ියග': 4444, 'යග ': 3007, 'තින': 2184, 'ිවන': 4476, 'ඩක': 2039, ',න': 628, 'ැඩක': 4235, 'ෂණය': 3570, 'වම ': 3444, 'බූ': 2795, 'ඇහ': 1398, ' බූ': 406, 'බූර': 2796, ' ඇහ': 166, ' 🤔': 583, 'ගේම': 1866, 'ේම ': 4781, 'තාත': 2168, 'ෙනි': 4707, 'චා ': 1891, 'ir ': 949, ', ග': 609, '2 ': 661, 'සබ': 3626, 'ගර ': 1817, 'aa': 765, 'nt': 1032, 'ws': 1204, 'ථික': 2223, 'ැබි': 4261, 'න ,': 2389, 'oo': 1047, 'es ': 884, 'එද': 1526, 'ර,': 3108, 'එදා': 1527, 'තිද': 2183, '😭😭': 4987, 'ලාප': 3337, 'ාපො': 4135, 'ොරො': 4865, 'ඇති': 1383, 'ොනා': 4842, '😭😭😭': 4988, 'ීරෝ': 4524, 'ස <': 3582, 'අති': 1280, 'ද ඉ': 2232, 'ඉ ව': 1411, 'ට ඔ': 1949, 'ඔ ම': 1568, 'දරය': 2280, '්කන': 3876, ' දක': 323, 'දකු': 2262, 'ගැම': 1844, ' එද': 203, 'හෙම': 3828, 'අද ': 1283, 'mm': 1006, ' ac': 38, 'nt ': 1033, 'omm': 1043, ' f': 55, 'ණයි': 2082, 'ම ජ': 2828, 'ආතල': 1355, 'ාවෙ': 4175, 'ඳ න': 2555, 'රොක': 3245, 'ල්ප': 3326, '\\u200dයත': 4922, 'යතා': 3013, 'ප බ': 2577, ' ලන': 472, 'ෙලව': 4726, 'ාසා': 4184, 'ට ය': 1959, 'ෙ න': 4670, 'ළිග': 3864, 'රුත': 3230, 'වාක': 3483, ' 🙄': 580, '🙄🙄': 4991, 'රූ': 3236, 'ූම': 4646, ' රූ': 463, 'රූම': 3237, 'ූමස': 4647, 'අභ්': 1304, 'ං බ': 1223, 'දාහ': 2311, '\\u200dරද': 4932, 'ේශය': 4799, 'ිරෙ': 4466, 'ළව': 3860, 'චීන': 1899, 'ත්ප': 2160, 'ර්ග': 3182, ' in': 65, 'ent': 877, '්වජ': 4000, 'වරණ': 3451, 'ීන ': 4517, ',,,': 623, 'න<': 2419, 'න<b': 2420, 'වැල': 3497, 'ැලල': 4283, 'තුත': 2198, 'ුති': 4577, 'ණග': 2077, 'ෙශ': 4738, 'ගස': 1824, ' උඩ': 187, 'උඩි': 1467, 'දෙශ': 2354, 'ෙශප': 4739, ' ගස': 268, 'නුර': 2532, 'රවැ': 3168, ' 😔': 573, 'චිච': 1897, 'ගාල': 1839, 'හත්': 3750, 'දෝ': 2364, 'ෂය': 3571, 'ණ බ': 2071, 'ලපෑ': 3308, 'නීම': 2527, 'ෂය ': 3572, 'නවි': 2464, 'ිදේ': 4405, 'දුද': 2336, 'ුදහ': 4582, 'ආතර': 1354, 'ck': 836, 'ිච ': 4374, 'cke': 837, 'ket': 971, 'පච': 2590, '්පච': 3965, 'පච්': 2592, ' ටව': 298, 'ීඩ': 4510, 'ුණු': 4572, 'පොද': 2703, 'සව ': 3647, '්ඩා': 3908, 'අව ': 1326, 'ටද?': 1973, 'ඇස': 1397, 'වච': 3414, 'යළ': 3040, ' සක': 515, 'සක්': 3606, ' ඇස': 165, ' වච': 487, 'වචන': 3415, 'රිද': 3217, 'ිදෙ': 4404, 'ළ ද': 3849, 'ණාක': 2089, 'ියළ': 4452, 'යළ ': 3041, 'ොදි': 4837, '්න<': 3951, 'චැ': 1893, ' චැ': 283, 'චැන': 1894, 'ැනල': 4251, 'උඩ ': 1466, 'අදි': 1285, 'බස': 2765, ' බස': 400, 'බස ': 2766, 'ගිණ': 1852, 'කැ ': 1727, 'ns': 1031, 'ws ': 1205, 'tio': 1152, 'ons': 1046, 'ා<': 4070, 'ඉව ': 1437, 'ා<b': 4071, 'ෑල': 4314, 'කෑල': 1735, 'අවජ': 1327, 'වජා': 3417, 'ෙව්': 4733, '්ලො': 3997, 'our': 1056, 'pro': 1077, 'ං ඉ': 1219, '>බ': 718, 'r>බ': 1093, ' n ': 79, '්ශන': 4009, 'ොක': 4752, 'ූෂ': 4655, 'දූෂ': 2346, 'උත ': 1469, 'උප ': 1481, 'ිසද': 4492, 'සද ': 3616, 'එ ඔ': 1499, 'නුන': 2530, 'ධන': 2370, 'ර්ධ': 3187, 'හතා': 3751, 'ුණි': 4571, 'ෙරණ': 4722, 'පේක': 2698, 'නප ': 2443, 'ඩ ය': 2031, 'බ ඉ': 2716, 'යි?': 3054, '\\u200dරණ': 4930, ' se': 94, 'ලාත': 3335, 'so': 1126, 'ct': 843, 'of': 1038, 'men': 1001, 'ීඩි': 4511, 'සඳ': 3623, 'ිසඳ': 4493, 'සඳ ': 3624, 'ට<': 1967, 'ට<b': 1968, 'හැස': 3803, 'කපට': 1662, ' නය': 349, '60': 682, 'ඳල': 2559, 'ඳල ': 2560, 'දෝල': 2365, 'ෝලන': 4907, 'ාමන': 4143, 'බ හ': 2733, 'ත ,': 2095, '්දෝ': 3942, 'ඔයි': 1584, 'යිට': 3055, 'නබ': 2444, 'අ ද': 1256, 'ගෞ': 1876, 'ෞර': 4916, 'පදි': 2606, ' ගෞ': 279, 'ගෞර': 1877, 'ෞරව': 4917, 'ප උ': 2567, 'ෂ ල': 3566, 'මක': 2846, '්කම': 3877, '? අ': 730, 'ුම්': 4602, 'ිම්': 4437, 'වගා': 3412, 'ගාක': 1834, 'ඔ ක': 1566, 'mme': 1007, 'ජ ප': 1908, 'කුව': 1755, 'ැස ': 4291, 'කනග': 1657, 'නගා': 2428, 'ගාට': 1835, 'නත්': 2435, 'ිර්': 4462, 'ර්ව': 3191, 'වේද': 3537, 'ෂල': 3573, '්ෂල': 4015, 'ෂලා': 3574, 'හෝද': 3844, 'ටා ': 1996, 'ද,': 2254, 'ද, ': 2255, 'එය ': 1535, 'දරණ': 2279, 'මුත': 2931, ' නත': 347, ' -': 11, '- ': 632, ' - ': 12, '01': 650, '201': 665, 'කමි': 1669, 'ධිම': 2387, ' 2 ': 20, '්හා': 4031, ',ද': 627, 'ුයි': 4606, '♥️': 4944, '️♥': 4952, '♥️♥': 4945, '️♥️': 4953, 'ණවි': 2084, 'ටලන': 1984, 'rs': 1109, ' so': 96, 'ers': 882, 'rs ': 1110, ' ❤️': 560, '❤️❤': 4949, 'ුවය': 4624, ' රණ': 454, 'පිග': 2669, 'ිගල': 4370, 'ැලය': 4282, 'ධිත': 2385, 'ේරා': 4786, 'රාග': 3198, '>ය': 722, 'අභි': 1305, 'r>ය': 1095, 'පොන': 2704, 'ගෝට': 1874, 'ෝටා': 4891, 'මංක': 2845, 'ංකඩ': 1231, ' වව': 495, 'ැමර': 4267, 'ආබ': 1362, ' ආබ': 148, 'දිත': 2322, 'පිද': 2671, 'ද ආ': 2230, 'ආබා': 1363, 'බාධ': 2774, 'රෝද': 3249, 'ෝදා': 4899, 'අකු': 1265, 'අ ල': 1259, 'දකි': 2261, '🌹🌹': 4962, '🇱🇰': 4957, 'ොත ': 4832, 'සදා': 3618, '🌹🌹🌹': 4963, '>හ': 728, '්<': 3869, '්<b': 3870, 'අ ම': 1258, ' මක': 417, 'ිවැ': 4481, 'යකත': 3003, 'තකා': 2124, '>යු': 723, 'නොහ': 2553, 'ොහැ': 4877, 'ුරි': 4614, 'රිර': 3222, 'ධ ක': 2367, 'ේෂ': 4800, 'හලය': 3777, '්පො': 3969, 'පො ': 2700, 'මළ': 2892, 'දෙම': 2350, 'ෙමළ': 4714, 'මළ ': 2893, 'හදව': 3754, 'දවත': 2289, 'මතය': 2857, 'ොඨ': 4822, 'ගොඨ': 1869, 'ිනව': 4413, 'විම': 3510, 'කැප': 1729, 'ිගැ': 4371, 'ළ උ': 3847, 'කින': 1739, 'ඳු': 2563, '? ක': 733, ' සස': 525, 'සසර': 3649, 'වෙව': 3533, 'ාධය': 4117, 'නිර': 2520, 'තැබ': 2177, '්වෙ': 4006, '🙏❤': 4994, 'ැබේ': 4263, 'බේව': 2804, 'වහ ': 3470, 'ජනප': 1917, 'නරි': 2455, '😥😥': 4986, 'ැබෙ': 4262, 'බෙ ': 2798, 'අගම': 1267, 'ාකල': 4077, '්ද,': 3931, 'කග': 1636, 'ගව': 1823, 'හී': 3817, 'පුස': 2688, 'ෙමල': 4713, 'ෂ ම': 3565, 'අ අ': 1253, 'ලාං': 3333, 'ාංක': 4073, 'ංකි': 1234, 'ංකො': 1235, '19': 660, ' 19': 18, 'යහප': 3039, 'කද ': 1654, 'ඔබල': 1580, 'රුම': 3233, 'ාහර': 4187, 'පොත': 2702, 'ෑව ': 4316, 'ාටු': 4096, 'මොඩ': 2960, 'භය': 2811, 'ඨාභ': 2014, 'ාභය': 4140, 'භය ': 2812, '🤮🤮': 4999, 'කැර': 1731, 'ිබි': 4430, 'බත': 2742, 'ඔබත': 1579, 'බතු': 2743, 'ja': 959, 'gh': 902, 'jay': 960, ' ??': 36, 'ත්,': 2154, 'උඔ': 1462, 'මැ ': 2913, 'කථ': 1651, ' කථ': 241, 'කථා': 1652, 'ථා ': 2220, 'ැරය': 4275, 'ියේ': 4456, ' පච': 364, 'පච ': 2591, 'කලය': 1689, ' මස': 426, 'දිස': 2329, 'ිඟ': 4372, 'හිඟ': 3808, 'මෙල': 2949, 'නතු': 2437, 'ාපය': 4132, 'ේරෙ': 4787, ' si': 95, 'ටට': 1970, 'මුස': 2936, 'ර භ': 3099, 'පුච': 2682, ' නු': 357, 'ගලක': 1820, ' වය': 492, 'වද ': 3430, 'බුණ': 2792, 'ලන ': 3302, 'ිණි': 4385, 'ෝම': 4903, 'රප ': 3152, 'ිපල': 4423, 'හ ඔ': 3724, 'සැර': 3676, 'ප ට': 2572, 'ගමැ': 1813, 'පාප': 2654, 'ුටු': 4564, 'දිට': 2321, 'පළ ': 2642, 'කණග': 1645, 'ණගා': 2078, 'lf': 983, 'ou ': 1055, 'or ': 1050, ',ම ': 630, 'ිවස': 4478, 'ඔ ය': 1569, 'තන්': 2131, 'හාව': 3789, 'කෑව': 1736, 'කැත': 1728, 'නූ': 2535, 'ඩී': 2057, 'ඩීල': 2058, 'කාළ': 1725, 'හිව': 3815, 'අකම': 1264, 'කමැ': 1668, '--': 633, 'ගාධ': 1836, 'ාරග': 4153, '---': 634, 'තනත': 2130, 'ළා ': 3862, 'ේදන': 4772, 'කළා': 1700, '😡😡': 4982, '😡😡😡': 4983, 'ිඋ': 4356, 'ිඋ ': 4357, 'තමු': 2139, 'නිබ': 2517, 'යවස': 3034, 'ද 5': 2226, 'දුෂ': 2343, 'ුෂණ': 4631, 'බ ජ': 2722, '\\u200dරක': 4929, 'ුමත': 4600, 'මො': 2952, 'ේල ': 4789, ' 😡': 574, 'ඹ ප': 2967, 'බටල': 2737, '🙄🙄🙄': 4992, 'ක ආ': 1610, 'කාප': 1720, 'ොඨා': 4823, 'for': 894, 'is ': 951, 'අගා': 1269, '්ෂය': 4014, 'එකන': 1517, '😏😏': 4981, 'ිනු': 4417, 'ය ?': 2972, 'ජේ': 1942, 'හබ': 3764, 'මහබ': 2888, 'ල ?': 3254, 'උස්': 1492, 'ටිට': 2001, '👍👍': 4964, ' 👍👍': 564, '👍👍👍': 4965, 'ටාබ': 1997, 'ාබය': 4138, 'මකබ': 2847, 'කබෑ': 1664, 'බෑව': 2784, 'np': 1029, 'unp': 1173, 'np ': 1030, '? ඔ': 732, 'jv': 961, 'vp': 1188, ' jv': 67, 'jvp': 962, 'vp ': 1189, 'ෙරන': 4723, 'සින': 3686, 'ජිත': 1936, 'වුද': 3521, ' ඡ ': 287, ' 🌷': 561, '🌷🌷': 4960, ' 🌷🌷': 562, '🌷🌷🌷': 4961, '💓💓': 4966, '💓💓💓': 4967}\n"
          ]
        }
      ]
    },
    {
      "cell_type": "code",
      "source": [
        "print(xvalid_tfidf_ngram)"
      ],
      "metadata": {
        "colab": {
          "base_uri": "https://localhost:8080/"
        },
        "id": "pjiqTTNdN9RV",
        "outputId": "911cde0b-c4cf-44c9-b2a9-9cf3f9da70db"
      },
      "execution_count": null,
      "outputs": [
        {
          "output_type": "stream",
          "name": "stdout",
          "text": [
            "  (0, 4921)\t0.12183838413364147\n",
            "  (0, 4679)\t0.11175329901637285\n",
            "  (0, 4608)\t0.1290719585356483\n",
            "  (0, 4604)\t0.14483806944990743\n",
            "  (0, 4601)\t0.18548005770244008\n",
            "  (0, 4474)\t0.15789992162048128\n",
            "  (0, 4473)\t0.14483806944990743\n",
            "  (0, 4421)\t0.1660538718006296\n",
            "  (0, 4366)\t0.14289834254343778\n",
            "  (0, 4359)\t0.08843963771817356\n",
            "  (0, 4257)\t0.16163555513416838\n",
            "  (0, 4253)\t0.1660538718006296\n",
            "  (0, 4247)\t0.18643042734015658\n",
            "  (0, 4235)\t0.1058355155161537\n",
            "  (0, 4224)\t0.07306210246153344\n",
            "  (0, 4212)\t0.12705131786687587\n",
            "  (0, 4198)\t0.08132073379493593\n",
            "  (0, 4180)\t0.17146145436586147\n",
            "  (0, 4178)\t0.09768156533600535\n",
            "  (0, 3804)\t0.14925638611636868\n",
            "  (0, 3734)\t0.16163555513416838\n",
            "  (0, 3171)\t0.15466396868160054\n",
            "  (0, 2767)\t0.1660538718006296\n",
            "  (0, 2766)\t0.15180965590247528\n",
            "  (0, 2717)\t0.10108293631850948\n",
            "  :\t:\n",
            "  (434, 4601)\t0.13596520139412505\n",
            "  (434, 3937)\t0.24344987166078294\n",
            "  (434, 3934)\t0.1453902962663304\n",
            "  (434, 3916)\t0.22675125197496443\n",
            "  (434, 3909)\t0.14630133858598074\n",
            "  (434, 3897)\t0.22256657339913405\n",
            "  (434, 3890)\t0.1595717893538887\n",
            "  (434, 3291)\t0.24344987166078294\n",
            "  (434, 2975)\t0.2154370037168983\n",
            "  (434, 2965)\t0.13461156324596465\n",
            "  (434, 2878)\t0.17431420652986537\n",
            "  (434, 2610)\t0.19997071694382704\n",
            "  (434, 2607)\t0.14278947421426658\n",
            "  (434, 2495)\t0.22256657339913405\n",
            "  (434, 2492)\t0.12531565205834239\n",
            "  (434, 2433)\t0.23697222308961238\n",
            "  (434, 2431)\t0.17331333178888142\n",
            "  (434, 2367)\t0.11795447331789573\n",
            "  (434, 2223)\t0.18224220764917318\n",
            "  (434, 2010)\t0.22675125197496443\n",
            "  (434, 2008)\t0.16309236067423344\n",
            "  (434, 1463)\t0.18771898147935975\n",
            "  (434, 834)\t0.18099545854482643\n",
            "  (434, 823)\t0.12531565205834239\n",
            "  (434, 285)\t0.25137787278009077\n"
          ]
        }
      ]
    },
    {
      "cell_type": "markdown",
      "source": [
        "# Model Building"
      ],
      "metadata": {
        "id": "K_zyzhT3OFH5"
      }
    },
    {
      "cell_type": "code",
      "source": [
        "def train_model(classifier, feature_vector_train, label, feature_vector_valid, is_neural_net=False):\n",
        "    # fit the training dataset on the classifier\n",
        "    classifier.fit(feature_vector_train, label)\n",
        "\n",
        "    # predict the labels on validation dataset\n",
        "    predictions = classifier.predict(feature_vector_valid)\n",
        "\n",
        "    if is_neural_net:\n",
        "        predictions = predictions.argmax(axis=-1)\n",
        "\n",
        "\n",
        "\n",
        "    return metrics.accuracy_score(predictions, valid_y)\n"
      ],
      "metadata": {
        "id": "pU1wKGqqOCy4"
      },
      "execution_count": null,
      "outputs": []
    },
    {
      "cell_type": "markdown",
      "source": [
        "# Multinomial Naive Bayes"
      ],
      "metadata": {
        "id": "paaf7SGWOS59"
      }
    },
    {
      "cell_type": "code",
      "source": [
        "from sklearn import naive_bayes\n",
        "from sklearn import metrics"
      ],
      "metadata": {
        "id": "_VNiKg5ZOgR9"
      },
      "execution_count": null,
      "outputs": []
    },
    {
      "cell_type": "code",
      "source": [
        "# Naive Bayes on Count Vectors\n",
        "accuracy = train_model(naive_bayes.MultinomialNB(), xtrain_count, train_y, xvalid_count)\n",
        "print(\"NB, Count Vectors: \", accuracy)\n",
        "\n",
        "# Naive Bayes on Word Level TF IDF Vectors\n",
        "accuracy = train_model(naive_bayes.MultinomialNB(), xtrain_tfidf, train_y, xvalid_tfidf)\n",
        "print (\"NB, WordLevel TF-IDF: \", accuracy)\n",
        "\n",
        "# Naive Bayes on Ngram Level TF IDF Vectors\n",
        "accuracy = train_model(naive_bayes.MultinomialNB(), xtrain_tfidf_ngram, train_y, xvalid_tfidf_ngram)\n",
        "print (\"NB, N-Gram Vectors: \", accuracy)\n",
        "\n",
        "# Naive Bayes on Character Level TF IDF Vectors\n",
        "accuracy = train_model(naive_bayes.MultinomialNB(), xtrain_tfidf_ngram_chars, train_y, xvalid_tfidf_ngram_chars)\n",
        "print (\"NB, CharLevel Vectors: \", accuracy)"
      ],
      "metadata": {
        "colab": {
          "base_uri": "https://localhost:8080/"
        },
        "id": "4oQhUyiBOKYe",
        "outputId": "e674e59f-ac54-478e-b886-92356c52e920"
      },
      "execution_count": null,
      "outputs": [
        {
          "output_type": "stream",
          "name": "stdout",
          "text": [
            "NB, Count Vectors:  0.6367816091954023\n",
            "NB, WordLevel TF-IDF:  0.6597701149425287\n",
            "NB, N-Gram Vectors:  0.6689655172413793\n",
            "NB, CharLevel Vectors:  0.6827586206896552\n"
          ]
        }
      ]
    },
    {
      "cell_type": "code",
      "source": [
        "# Bernoulli Naive Bayes on Count Vectors\n",
        "accuracy = train_model(naive_bayes.BernoulliNB(), xtrain_count, train_y, xvalid_count)\n",
        "print(\"BernoulliNB, Count Vectors: \", accuracy)\n",
        "\n",
        "# Bernoulli Naive Bayes on Word Level TF IDF Vectors\n",
        "accuracy = train_model(naive_bayes.BernoulliNB(), xtrain_tfidf, train_y, xvalid_tfidf)\n",
        "print (\"BernoulliNB, WordLevel TF-IDF: \", accuracy)\n",
        "\n",
        "# Bernoulli Naive Bayes on Ngram Level TF IDF Vectors\n",
        "accuracy = train_model(naive_bayes.BernoulliNB(), xtrain_tfidf_ngram, train_y, xvalid_tfidf_ngram)\n",
        "print (\"BernoulliNB, N-Gram Vectors: \", accuracy)\n",
        "\n",
        "# Bernoulli Naive Bayes on Character Level TF IDF Vectors\n",
        "accuracy = train_model(naive_bayes.BernoulliNB(), xtrain_tfidf_ngram_chars, train_y, xvalid_tfidf_ngram_chars)\n",
        "print (\"BernoulliNB, CharLevel Vectors: \", accuracy)"
      ],
      "metadata": {
        "colab": {
          "base_uri": "https://localhost:8080/"
        },
        "id": "zgA5rIxvOZNx",
        "outputId": "4d79a13f-01e8-4e00-b7e2-bcb03f32c3ae"
      },
      "execution_count": null,
      "outputs": [
        {
          "output_type": "stream",
          "name": "stdout",
          "text": [
            "BernoulliNB, Count Vectors:  0.6114942528735632\n",
            "BernoulliNB, WordLevel TF-IDF:  0.6528735632183909\n",
            "BernoulliNB, N-Gram Vectors:  0.6666666666666666\n",
            "BernoulliNB, CharLevel Vectors:  0.6045977011494252\n"
          ]
        }
      ]
    },
    {
      "cell_type": "markdown",
      "source": [
        "# Logistic Regression"
      ],
      "metadata": {
        "id": "6EiRmhwiOyt_"
      }
    },
    {
      "cell_type": "code",
      "source": [
        "from sklearn import linear_model"
      ],
      "metadata": {
        "id": "dQM6pDpGPCNy"
      },
      "execution_count": null,
      "outputs": []
    },
    {
      "cell_type": "code",
      "source": [
        "# Linear Classifier on Count Vectors\n",
        "accuracy = train_model(linear_model.LogisticRegression(), xtrain_count, train_y, xvalid_count)\n",
        "print (\"LR, Count Vectors: \", accuracy)\n",
        "\n",
        "# Linear Classifier on Word Level TF IDF Vectors\n",
        "accuracy = train_model(linear_model.LogisticRegression(), xtrain_tfidf, train_y, xvalid_tfidf)\n",
        "print (\"LR, WordLevel TF-IDF: \", accuracy)\n",
        "\n",
        "# Linear Classifier on Ngram Level TF IDF Vectors\n",
        "accuracy = train_model(linear_model.LogisticRegression(), xtrain_tfidf_ngram, train_y, xvalid_tfidf_ngram)\n",
        "print (\"LR, N-Gram Vectors: \", accuracy)\n",
        "\n",
        "# Linear Classifier on Character Level TF IDF Vectors\n",
        "accuracy = train_model(linear_model.LogisticRegression(), xtrain_tfidf_ngram_chars, train_y, xvalid_tfidf_ngram_chars)\n",
        "print (\"LR, CharLevel Vectors: \", accuracy)"
      ],
      "metadata": {
        "colab": {
          "base_uri": "https://localhost:8080/"
        },
        "id": "KtrtShSAOs7J",
        "outputId": "9b55f927-2828-4b56-a385-5925d9fd78c0"
      },
      "execution_count": null,
      "outputs": [
        {
          "output_type": "stream",
          "name": "stderr",
          "text": [
            "/usr/local/lib/python3.10/dist-packages/sklearn/linear_model/_logistic.py:444: ConvergenceWarning: lbfgs failed to converge (status=1):\n",
            "STOP: TOTAL NO. of ITERATIONS REACHED LIMIT.\n",
            "\n",
            "Increase the number of iterations (max_iter) or scale the data as shown in:\n",
            "    https://scikit-learn.org/stable/modules/preprocessing.html\n",
            "Please also refer to the documentation for alternative solver options:\n",
            "    https://scikit-learn.org/stable/modules/linear_model.html#logistic-regression\n",
            "  n_iter_i = _check_optimize_result(\n"
          ]
        },
        {
          "output_type": "stream",
          "name": "stdout",
          "text": [
            "LR, Count Vectors:  0.6482758620689655\n",
            "LR, WordLevel TF-IDF:  0.7057471264367816\n",
            "LR, N-Gram Vectors:  0.6919540229885057\n",
            "LR, CharLevel Vectors:  0.7126436781609196\n"
          ]
        }
      ]
    },
    {
      "cell_type": "markdown",
      "source": [
        "# Support Vector Machine"
      ],
      "metadata": {
        "id": "dizgaTO6PLit"
      }
    },
    {
      "cell_type": "code",
      "source": [
        "from sklearn import svm"
      ],
      "metadata": {
        "id": "RgiGvDBCPTlL"
      },
      "execution_count": null,
      "outputs": []
    },
    {
      "cell_type": "code",
      "source": [
        "# SVM on Count Vectors\n",
        "accuracy = train_model(svm.SVC(), xtrain_count, train_y, xvalid_count)\n",
        "print (\"SVM, Count Vectors: \", accuracy)\n",
        "\n",
        "# SVM on Ngram Level TF IDF Vectors\n",
        "accuracy = train_model(svm.SVC(), xtrain_tfidf_ngram, train_y, xvalid_tfidf_ngram)\n",
        "print (\"SVM, Ngram Level TF IDF Vectors: \", accuracy)\n",
        "\n",
        "# SVM on Word Level TF IDF Vectors\n",
        "accuracy = train_model(svm.SVC(), xtrain_tfidf, train_y, xvalid_tfidf)\n",
        "print (\"SVM, Word Level TF IDF Vectors: \", accuracy)\n",
        "\n",
        "# SVM on Character Level TF IDF Vectors\n",
        "accuracy = train_model(svm.SVC(), xtrain_tfidf_ngram_chars, train_y, xvalid_tfidf_ngram_chars)\n",
        "print (\"SVM, Character Level TF IDF Vectors: \", accuracy)"
      ],
      "metadata": {
        "colab": {
          "base_uri": "https://localhost:8080/"
        },
        "id": "bDPulocYO_8G",
        "outputId": "10c026d5-d451-462e-8af8-0c4328e267a1"
      },
      "execution_count": null,
      "outputs": [
        {
          "output_type": "stream",
          "name": "stdout",
          "text": [
            "SVM, Count Vectors:  0.6252873563218391\n",
            "SVM, Ngram Level TF IDF Vectors:  0.6804597701149425\n",
            "SVM, Word Level TF IDF Vectors:  0.6873563218390805\n",
            "SVM, Character Level TF IDF Vectors:  0.7011494252873564\n"
          ]
        }
      ]
    },
    {
      "cell_type": "markdown",
      "source": [
        "# Random Forest - Bagging Model"
      ],
      "metadata": {
        "id": "gwxyY-etPZJl"
      }
    },
    {
      "cell_type": "code",
      "source": [
        "from sklearn import ensemble"
      ],
      "metadata": {
        "id": "EKQFU7-bPgmd"
      },
      "execution_count": null,
      "outputs": []
    },
    {
      "cell_type": "code",
      "source": [
        "\n",
        "# RF on Count Vectors\n",
        "accuracy = train_model(ensemble.RandomForestClassifier(), xtrain_count, train_y, xvalid_count)\n",
        "print (\"RF, Count Vectors: \", accuracy)\n",
        "\n",
        "# RF on Word Level TF IDF Vectors\n",
        "accuracy = train_model(ensemble.RandomForestClassifier(), xtrain_tfidf, train_y, xvalid_tfidf)\n",
        "print (\"RF, WordLevel TF-IDF: \", accuracy)\n",
        "\n",
        "# RF on Ngram Level TF IDF Vectors\n",
        "accuracy = train_model(ensemble.RandomForestClassifier(), xtrain_tfidf_ngram, train_y, xvalid_tfidf_ngram)\n",
        "print (\"RF, gram Level TF-IDF: \", accuracy)\n",
        "\n",
        "# RF on Character Level TF IDF Vectors\n",
        "accuracy = train_model(ensemble.RandomForestClassifier(), xtrain_tfidf_ngram_chars, train_y, xvalid_tfidf_ngram_chars)\n",
        "print (\"RF, Character Level TF IDF: \", accuracy)"
      ],
      "metadata": {
        "colab": {
          "base_uri": "https://localhost:8080/"
        },
        "id": "EUw6FNzEPQ-8",
        "outputId": "19878e35-d5aa-4bd7-bc1a-5df9acf39008"
      },
      "execution_count": null,
      "outputs": [
        {
          "output_type": "stream",
          "name": "stdout",
          "text": [
            "RF, Count Vectors:  0.639080459770115\n",
            "RF, WordLevel TF-IDF:  0.6896551724137931\n",
            "RF, gram Level TF-IDF:  0.6896551724137931\n",
            "RF, Character Level TF IDF:  0.7057471264367816\n"
          ]
        }
      ]
    },
    {
      "cell_type": "markdown",
      "source": [
        "# Downsampling"
      ],
      "metadata": {
        "id": "wMoqZp7eP0T5"
      }
    },
    {
      "cell_type": "code",
      "source": [
        "df_negative = trainDF[trainDF['Label'] == 'Negative'].sample(n = 251, random_state = 42)\n",
        "df_neutral = trainDF[trainDF['Label'] == 'Neutral'].sample(n = 251, random_state = 42)\n",
        "df_positive = trainDF[trainDF['Label'] == 'Positive'].sample(n = 251, random_state = 42)\n",
        "df = pd.concat([df_negative,df_neutral,df_positive])"
      ],
      "metadata": {
        "id": "1_HGVmQYPe-Y"
      },
      "execution_count": null,
      "outputs": []
    },
    {
      "cell_type": "code",
      "source": [
        "# split the dataset into training and validation datasets\n",
        "train_x, valid_x, train_y, valid_y = model_selection.train_test_split(df['text_new'], df['Label'])\n",
        "\n",
        "# label encode the target variable\n",
        "encoder = preprocessing.LabelEncoder()\n",
        "train_y = encoder.fit_transform(train_y)\n",
        "valid_y = encoder.fit_transform(valid_y)"
      ],
      "metadata": {
        "id": "2VwoiQhzQoSn"
      },
      "execution_count": null,
      "outputs": []
    },
    {
      "cell_type": "markdown",
      "source": [
        "# Feature Engineering"
      ],
      "metadata": {
        "id": "q8hKj6LIRO48"
      }
    },
    {
      "cell_type": "code",
      "source": [
        "# create a count vectorizer object\n",
        "count_vect = CountVectorizer(analyzer='word', token_pattern=r'\\w{1,}')\n",
        "count_vect.fit(df['text_new'])\n",
        "\n",
        "# transform the training and validation data using count vectorizer object\n",
        "xtrain_count =  count_vect.transform(train_x)\n",
        "xvalid_count =  count_vect.transform(valid_x)"
      ],
      "metadata": {
        "id": "p2u9cXR-ROTZ"
      },
      "execution_count": null,
      "outputs": []
    },
    {
      "cell_type": "code",
      "source": [
        "# Printing the identified Unique words along with their indices\n",
        "print(\"Vocabulary: \", count_vect.vocabulary_)\n",
        "\n",
        "# Encode the Document\n",
        "vector = count_vect.transform(df['text'])"
      ],
      "metadata": {
        "colab": {
          "base_uri": "https://localhost:8080/"
        },
        "id": "3nMPShORRcVs",
        "outputId": "4af0f58a-f200-4a2a-9b94-eb966870fc92"
      },
      "execution_count": null,
      "outputs": [
        {
          "output_type": "stream",
          "name": "stdout",
          "text": [
            "Vocabulary:  {'ප': 948, 'ඔය': 656, 'කර': 706, 'උ': 564, 'කවද': 733, 'ව': 1198, 'ග': 742, 'ය': 1081, 'ද': 873, 'ර': 1116, 'ල': 1166, 'බ': 997, 'හ': 1305, 'ඳ': 945, 'න': 911, 'බල': 1015, 'ම': 1036, 'ඕන': 667, 'ත': 843, 'ට': 803, 'රද': 1142, 'කලමන': 729, 'ක': 673, 'අවශ': 461, 'යත': 1090, 'වය': 1226, 'බලය': 1023, 'අප': 425, 'කට': 680, 'කක': 676, 'ෂගත': 1257, 'යව': 1105, 'ආග': 477, 'අත': 411, 'ජනත': 791, 'ජ': 785, 'බරදර': 1014, 'ඒ': 633, 'රය': 1153, 'ගන': 752, 'නව': 939, 'හරක': 1324, 'ඇමර': 520, 'ච': 773, 'දන': 879, 'වට': 1206, 'ඒක': 634, 'ඉව': 549, 'අල': 450, 'tip': 335, 'එ': 599, 'මද': 1053, 'මස': 1067, 'ස': 1263, 'තම': 854, 'අහ': 470, 'අස': 464, 'උන': 577, 'ඉවරය': 552, 'අන': 421, 'ගත': 750, 'ඉදප': 537, 'ජන': 789, 'දය': 886, 'එනක': 615, 'ඉ': 527, 'බටලන': 1000, 'තර': 857, 'දර': 888, 'අම': 431, 'මල': 1065, 'රබලව': 1149, 'අවක': 452, 'ශ': 1245, 'අධ': 419, 'පත': 958, 'ඹක': 1079, 'හර': 1323, '39': 31, 'රට': 1130, 'බඩ': 1002, 'ඩ': 822, 'කරල': 723, 'උද': 575, 'ධමනය': 906, 'ගනනය': 754, 'අමත': 432, 'වනම': 1218, 'ඕව': 671, 'පර': 970, 'පරය': 977, 'රන': 1144, 'ආය': 496, 'ධය': 907, 'හදන': 1312, 'යය': 1102, 'පව': 983, 'කරනව': 715, 'අ': 397, 'br': 89, 'කල': 725, 'ලත': 1178, 'mr': 247, 'කත': 687, 'සරදය': 1289, 'ඉවත': 550, 'තක': 844, 'ලය': 1190, 'සක': 1264, 'unp': 351, 'එක': 600, 'ඡන': 784, 'එප': 619, 'යක': 1083, 'අද': 415, 'උබ': 584, 'වල': 1235, 'අඩ': 408, 'මහ': 1068, 'ජපක': 797, 'ෂ': 1256, 'මහත': 1070, 'ඔබත': 652, 'අව': 451, '8': 49, 'ශප': 1251, 'ලනය': 1183, 'තන': 851, 'ලන': 1181, 'උබත': 585, 'එකක': 601, 'ලර': 1192, 'උඹලම': 589, 'ගල': 760, '2007': 21, 'ඕ': 663, 'යන': 1094, 'අසරණ': 467, 'ඉත': 535, 'කරග': 707, 'ඇම': 518, 'පග': 950, 'අරග': 442, 'රහස': 1165, 'ඇත': 511, 'නවන': 940, '50': 39, 'පලප': 979, 'චර': 780, 'ඩය': 831, 'සජ': 1265, 'පක': 949, 'ෂය': 1261, 'ඇව': 524, 'යට': 1088, 'ගහ': 764, 'අය': 436, 'එව': 628, 'අර': 439, 'ඇඳ': 517, 'නය': 931, 'ගගත': 744, 'ආක': 476, 'රණ': 1135, 'එද': 613, 'හම': 1319, 'අගව': 403, 'උපහ': 583, 'දවච': 893, 'මර': 1060, 'ලවර': 1196, 'එකටහර': 602, 'x': 383, 'ඉක': 528, 'මන': 1055, 'රස': 1160, 'ධ': 902, 'ළ': 1331, 'දක': 874, 'ණ': 837, 'එහ': 630, 'ඔබ': 650, 'වස': 1237, 'ථ': 871, 'ආරක': 499, 'කඩ': 682, 'ආ': 475, 'ඔ': 642, 'ඩද': 827, 'එතක': 611, 'නස': 942, 'පලය': 980, 'ලල': 1193, 'බලවත': 1025, 'ආර': 498, 'සහ': 1297, 'what': 376, 'sri': 318, 'lanka': 215, 'අපර': 426, 'නල': 938, 'මරනක': 1062, 'සමහර': 1284, 'පරම': 976, 'tv': 339, 'රණව': 1140, 'සමර': 1281, 'තය': 856, 'බය': 1011, 'වගක': 1201, 'ඊන': 558, 'අරගලකර': 446, 'ඉවර': 551, 'jvp': 184, 'slfp': 314, '3න': 34, 'ආස': 503, '30': 29, '0': 0, '2': 18, 'හල': 1327, 'තකය': 846, 'ඉපද': 543, 'මරල': 1063, 'කනව': 694, 'එකනම': 604, 'අරක': 440, '135': 10, 'මච': 1043, 'ආදරය': 487, 'අගම': 401, 'ලක': 1167, 'දඩ': 876, 'කමස': 703, 'කලව': 731, 'ලගය': 1175, 'චන': 777, 'දවල': 894, 'මළ': 1077, 'ඉල': 547, 'ළව': 1340, 'ඔක': 643, 'පණ': 957, 'ඌ': 597, 'බබ': 1009, 'බඩග': 1003, 'ඉන': 539, 'නරට': 936, 'බණ': 1004, 'කන': 692, '6': 42, 'මහබ': 1073, 'පල': 978, 'comment': 100, 'නම': 929, 'ගහනක': 766, 'ඇදග': 513, 'නත': 922, 'sampatha': 301, 'එය': 623, 'වභවදහම': 1224, 'රජත': 1128, 'ලව': 1194, 'දවස': 895, 'අවම': 459, 'උත': 574, 'සව': 1294, 'පවත': 984, 'යල': 1103, 'ඕක': 664, 'උස': 594, 'බලප': 1020, 'ඉවරල': 553, 'යනව': 1096, 'පනය': 965, 'උබල': 586, 'සම': 1279, 'හද': 1311, 'රනව': 1147, 'ආච': 479, 'තස': 868, 'ශකය': 1247, 'ආබ': 492, 'වන': 1215, 'ආධ': 488, 'දල': 891, 'highway': 159, 'ගණ': 748, 'ටර': 815, 'කනග': 693, 'සත': 1268, 'අතහර': 414, 'ගර': 757, 'අදහස': 418, 'පතර': 959, 'වද': 1211, 'සහභ': 1303, 'අරගලය': 447, 'උනත': 578, 'යම': 1100, 'රත': 1141, 'ශක': 1246, 'සන': 1274, 'අවබ': 458, 'දයක': 887, 'ආගම': 478, 'දහම': 898, 'ඹ': 1078, 'රම': 1150, 'නශකරල': 941, 'ශය': 1252, 'තව': 865, 'භය': 1032, 'අරගල': 444, 'භ': 1031, 'මත': 1050, 'ඉඩ': 532, 'ඉට': 531, 'තනව': 853, 'රටග': 1131, 'බර': 1012, 'පන': 962, 'වත': 1210, 'ඔල': 659, 'අහල': 473, 'ආව': 501, '750rsකවද': 47, 'කය': 704, 'ලම': 1188, 'තල': 863, 'රක': 1117, 'රශ': 1159, 'උකහල': 565, 'බද': 1006, 'රජ': 1127, 'වක': 1199, 'නඩත': 921, '20': 19, '000': 1, 'පඩ': 955, '80': 50, 'ඉස': 556, 'සර': 1286, 'ඉඳ': 540, 'ණය': 841, 'සල': 1292, 'හට': 1307, '77': 48, 'වසර': 1239, 'කරප': 718, 'කළ': 737, 'ඔතන': 647, 'ණප': 840, 'අවත': 454, 'වර': 1229, 'එල': 626, 'නප': 927, 'ඛ': 740, 'පනත': 964, 'පට': 953, 'කලක': 726, 'ෂල': 1262, 'කමන': 702, 'ලග': 1172, 'තනත': 852, 'භව': 1034, 'රනයක': 1146, 'ධව': 910, 'පළ': 993, 'ඉර': 545, 'කරම': 721, 'ඒව': 641, 'ඡ': 783, 'අඥ': 405, 'පමණ': 968, 'බලව': 1024, 'කණග': 686, 'chemistry': 94, 'paper': 273, 'avarage': 74, 'ළමය': 1337, 'කව': 732, 'සටහන': 1267, 'හමත': 1320, 'ජක': 786, 'බලමක': 1022, 'මග': 1041, 'ගම': 755, 'කම': 700, 'ලබ': 1186, 'වබලප': 1222, 'හයප': 1322, 'ඩකම': 824, 'රව': 1155, 'හරනය': 1325, 'වයස': 1228, 'තඩ': 847, 'රවන': 1156, 'උඩ': 570, 'ඉද': 536, 'අහනව': 472, 'ගගහ': 745, 'power': 279, 'plan': 277, 'වග': 1200, 'ඇල': 523, 'යද': 1092, 'ලස': 1197, 'ආප': 490, 'ලනඥය': 1182, 'ලධ': 1180, 'padisan': 272, 'niwata': 261, 'අවනතව': 457, 'හලය': 1329, 'ඊලඟ': 563, 'අහන': 471, 'ඩව': 834, 'අභ': 430, 'ශගත': 1248, 'සය': 1285, 'පද': 961, 'රවය': 1157, 'සරන': 1290, 'යහ': 1112, '2015': 24, 'රකම': 1118, 'සතයක': 1269, 'යග': 1086, 'පහලව': 990, 'පඩය': 956, 'දරල': 890, 'අග': 400, 'ඇර': 521, 'මමන': 1057, 'පරක': 971, 'එළව': 631, '225': 25, 'එලව': 627, 'යටව': 1089, 'බන': 1007, 'කඩය': 684, 'කලත': 727, 'ඔබම': 653, 'srilanka': 319, 'been': 83, 'සඳ': 1276, 'ලකය': 1171, 'සද': 1271, 'කරනඑ': 713, 'අතහ': 413, 'පහව': 991, 'එනව': 617, 'මටව': 1046, 'ලදප': 1179, 'යනවන': 1097, 'නඛය': 914, 'ගහප': 768, '226': 26, 'වජ': 1205, 'තකත': 845, 'හප': 1318, 'ආතල': 483, 'වගත': 1202, 'jonny': 183, 'english': 122, 'මය': 1058, 'ආන': 489, 'දහස': 900, 'හව': 1330, 'යහප': 1113, 'ගණන': 749, 'උර': 590, 'තත': 849, 'උඹ': 587, 'වහන': 1242, 'චලය': 782, 'බලක': 1016, 'චඡ': 774, 'ටලන': 817, 'වහ': 1240, 'දහ': 897, 'ආණ': 480, 'කරගන': 709, 'comments': 101, 'ඊ': 557, 'ඝ': 770, 'ෂණ': 1258, 'news': 258, 'අච': 404, 'ආමන': 495, 'රණය': 1139, 'ආදරණ': 485, 'සසර': 1296, 'මඟ': 1042, 'ධර': 909, 'එම': 620, 'ඉමහ': 544, 'වනව': 1219, 'ඔව': 660, 'ටව': 818, 'ළය': 1339, 'හරහ': 1326, 'අධර': 420, 'කගත': 678, 'fun': 135, 'ගය': 756, 'ෂණය': 1259, 'තවම': 867, 'ඵ': 995, 'පරප': 975, 'බව': 1026, 'යකය': 1085, 'එකත': 603, 'ඔයය': 657, 'කබල': 699, 'පටද': 954, 'කරන': 712, 'කටය': 681, 'ඕග': 665, 'make': 228, 'උඹල': 588, 'අගය': 402, '5': 38, 'අදර': 417, 'එෆ': 632, 'ඩබ': 829, 'ගලය': 761, 'තහන': 869, 'a': 56, 'l': 210, 'මහජ': 1069, 'අරම': 449, 'ඉෂ': 555, 'කරගත': 708, 'අවජ': 453, 'අක': 399, 'යදහස': 1093, 'ඇ': 506, 'උවම': 591, 'ඉගනග': 530, 'ඉරණම': 546, 'quot': 286, 'එච': 607, 'ගග': 743, 'ශණ': 1249, 'රගන': 1124, 'ලකණ': 1169, 'බහ': 1029, 'උගත': 567, 'අටව': 407, 'rata': 291, 'vikunan': 359, 'kana': 192, 'kalakanni': 187, 'kalama': 188, 'wenava': 371, 'ekath': 120, 'manussayawe': 229, 'ha': 153, 'sapase': 303, 'yanavahanavwela': 386, 'sapa': 302, 'enna': 123, 'thanak': 328, 'na': 251, 'gan': 138, 'wathura': 365, 'naya': 254, 'yanava': 385, 'vassa': 355, 'aduwenna': 58, 'madivata': 224, 'vat': 356, 'ekakuth': 118, 'gahala': 136, 'ane': 64, 'me': 236, 'mona': 242, 'karumekata': 197, 'wela': 367, 'epadunada': 126, 'duk': 115, 'thopi': 332, 'apita': 69, 'jeevath': 181, 'wena': 370, 'uduran': 346, 'kanna': 193, 'bonna': 87, 'ape': 67, 'welin': 368, 'wenna': 372, 'bari': 80, 'karala': 194, 'ubalata': 345, 'chande': 92, 'dunna': 116, 'nisada': 260, 'mehema': 238, 'සලක': 1293, 'awe': 75, 'nam': 252, 'balaen': 77, 'naththet': 253, 'karumeta': 198, 'athi': 72, 'uge': 347, 'kama': 190, 'thama': 326, 'kelevila': 202, 'wadinnam': 362, 'ubala': 343, 'hodata': 161, 'kala': 186, 'bila': 84, 'hitapalla': 160, 'apata': 66, 'denna': 109, 'barinam': 81, 'oya': 269, 'hamoma': 154, 'kamakata': 191, 'mariyalla': 230, 'kiyala': 205, 'tikak': 334, 'avanna': 73, 'mulu': 249, 'ma': 223, 'ubalage225': 344, 'darupaultika': 106, 'wevi': 373, 'ekane': 119, 'one': 266, 'dannm': 105, 'tiyenne': 336, 'කණ': 685, 'ලකඉ': 1168, 'ඔච': 644, 'කථ': 689, 'දප': 882, 'අසණය': 465, 'ඩවනව': 835, 'අoශය': 398, 'මරව': 1064, 'සමරනව': 1282, 'ගතය': 751, 'හදල': 1314, 'අරගලල': 448, 'දව': 892, 'භර': 1033, 'ඒච': 637, 'ථක': 872, 'චරකල': 781, 'යගත': 1087, 'නද': 924, 'point': 278, '1000': 5, 'ඔත': 646, 'මඑකත': 1037, 'ඔට': 645, 'uathsaha': 342, 'varadinne': 354, 'neha': 256, 'nethi': 257, 'bane': 79, 'kiyana': 206, 'kalema': 189, 'අවස': 462, 'බලම': 1021, 'කනස': 695, 'එර': 625, 'හඩ': 1308, 'නග': 915, 'ඔප': 649, 'කරනම': 714, 'එමව': 622, 'ඇහ': 526, 'රග': 1121, 'වච': 1203, 'social': 315, 'media': 237, 'චණ': 775, 'රඩත': 1134, 'අරගලක': 445, 'වහග': 1241, 'මකබ': 1039, 'කරව': 724, 'පහ': 987, 'ඩම': 830, 'ඩග': 825, 'අනත': 422, 'සබ': 1278, 'කරනවල': 717, '250': 27, '300': 30, 'අවධ': 456, 'එනත': 616, 'ටක': 804, 'නක': 912, 'වරද': 1233, 'කරපල': 720, 'නඩ': 920, 'වහල': 1244, 'කඑල': 675, 'ඔහ': 661, 'ණග': 839, 'පරණ': 972, 'පය': 969, 'කලය': 730, 'බටල': 999, 'වදකග': 1213, 'කද': 690, 'ටල': 816, 'wheelchair': 377, 'ටම': 813, 'ගහල': 769, 'ළප': 1335, 'ජයග': 801, 'රහණය': 1164, 'නර': 935, 'හදනව': 1313, 'තරහ': 862, 'පච': 951, 'ai': 59, 'genath': 143, 'dunne': 117, 'ජකය': 787, 'waga': 363, 'kiyanna': 207, 'ngo': 259, 'පතරය': 960, 'ආරච': 500, 'school': 306, 'ළම': 1336, 'ඔළ': 662, 'තරල': 860, '1977': 13, 'සමග': 1280, 'වව': 1236, 'ළඹ': 1338, 'දත': 878, 'එස': 629, 'saitm': 300, 'රජය': 1129, 'නහ': 943, 'එමන': 621, 'දනය': 881, 'කළය': 738, 'කළහ': 739, 'ලකන': 1170, 'ඉවස': 554, 'ණයග': 842, 'ෂප': 1260, 'day': 107, 'කරනවන': 716, 'කපට': 697, 'ආයතනය': 497, '4': 35, 'altra': 61, 'pro': 283, 'max': 233, 'channel': 93, 'අටපට': 406, 'ඔන': 648, 'උපද': 581, 'ණකථ': 838, 'හය': 1321, 'enough': 124, 'is': 175, 'more': 244, 'then': 331, 'වදක': 1212, 'නන': 925, 'ඔයව': 658, 'යලන': 1104, 'ඉඳල': 541, 'ශනය': 1250, 'google': 147, 'article': 70, 'සහන': 1301, 'ලණ': 1177, 'ගඟ': 746, '7': 46, 'පලව': 982, 'ධප': 905, 'ලබස': 1187, 'reply': 293, 'epa': 125, 'ඉග': 529, 'සදහ': 1273, 'mokkd': 241, 'yako': 384, 'rockets': 298, 'company': 102, 'කස': 736, 'ඇන': 516, 'අදන': 416, 'ඊලග': 562, 'අබ': 428, 'thammel': 327, 'ඇඟ': 508, 'මහන': 1071, 'ලඹ': 1189, 'බස': 1028, 'ගස': 763, '13': 8, 'භවයකද': 1035, 'ඔබල': 654, 'සරණය': 1288, 'මධර': 1054, 'නයධර': 933, 'උග': 566, 'සහය': 1304, 'ඒබව': 640, 'තරම': 858, 'එගර': 606, '11': 6, '00am': 2, 'පස': 986, 'bio': 85, '200': 20, 'private': 282, 'life': 216, 'href': 165, 'https': 166, 'www': 382, 'youtube': 388, 'com': 98, 'watch': 364, 'v': 353, 'wfoygnihpm': 375, 'amp': 62, 't': 321, '45': 36, 'ළඟ': 1333, '49': 37, 'ටසක': 819, '51': 41, 'වරඑළ': 1230, 'යපන': 1099, 'දම': 885, 'කඉ': 674, 'ඉඩසලස': 534, 'idk': 168, 'but': 90, 'cringe': 104, 'qxer': 287, 'm9rd74': 222, '130': 9, '10': 4, '1k': 16, 'free': 134, 'කරපන': 719, 'දහය': 899, 'වරණය': 1232, 'mbbs': 234, 'අරගත': 443, 'සහත': 1299, 'කයක': 705, 'ගනන': 753, '95': 54, 'උජ': 568, 'ගහනව': 767, 'මව': 1066, 'යෂණ': 1110, 'report': 294, 'ඉප': 542, 'ඹය': 1080, 'වටව': 1208, 'බමන': 1010, 'චනය': 778, 'graphic': 151, 'illustrations': 169, 'animations': 65, 'යමය': 1101, 'නයගර': 932, 'ජනග': 790, 'වනසත': 1220, 'ඇද': 512, 'ඊල': 561, 'තරය': 859, 'මතක': 1051, 'උසස': 595, '12': 7, '15': 11, 'යඑව': 1082, 'rest': 296, 'in': 171, 'peace': 275, 'soldiers': 316, 'r': 288, 'i': 167, 'p': 270, 'ජයකය': 800, 'ජය': 799, 'මටය': 1045, '3g': 32, 'also': 60, 'need': 255, 'share': 310, 'facts': 131, 'proof': 285, 'which': 378, 'experment': 129, 'and': 63, 'test': 325, 'reports': 295, 'අරකට': 441, 'එකම': 605, 'යළ': 1115, 'සරණ': 1287, 'ඵල': 996, 'j': 178, 'silva': 311, 'රමස': 1152, 'පහල': 989, '9': 52, '8ක': 51, 'ගරය': 758, 'ඕනන': 668, 'intercontinental': 174, 'missile': 239, '5000': 40, 'ආත': 481, 'ආදර': 484, 'කප': 696, 'ලනයක': 1184, 'ආපද': 491, 'බලධ': 1018, 'ඖස': 672, 'ඳඉ': 946, 'tourism': 338, 'board': 86, 'promote': 284, 'උඩබල': 571, 'යවක': 1106, 'ඛය': 741, 'උප': 580, 'නඹ': 930, 'පබඩ': 967, 'රමය': 1151, 'ඇට': 509, 'ඕල': 670, 'රසන': 1162, 'එඩ': 609, 'අවද': 455, 'tamil': 323, 'ෆ': 1341, 'මමද': 1056, 'ඉදල': 538, 'සහද': 1300, 'හඳ': 1317, 'මහර': 1074, 'නබලප': 928, 'කරය': 722, '997g': 55, 'මහප': 1072, 'ලප': 1185, 'සමස': 1283, 'යනක': 1095, 'hospital': 164, 'oxygen': 268, 'කරද': 710, 'ආතර': 482, 'm': 221, 'k': 185, 'හග': 1306, 'ශල': 1254, 'අසල': 469, 'එත': 610, 'රවර': 1158, 'ධනය': 904, 'ඇග': 507, 'රටවල': 1133, 'ධයද': 908, 'බරද': 1013, 'ජත': 788, 'ඇස': 525, 'උදරතර': 576, 'හදවත': 1316, 'රකරම': 1120, 'වබ': 1221, 'bottuwakda': 88, 'o': 264, 'ms': 248, '680': 45, 'n': 250, '650': 44, 'රච': 1125, 'බලන': 1019, 'ජනප': 792, 'ආශ': 502, 'රධ': 1143, 'නගර': 917, 'ධද': 903, 'ටග': 807, 'ඍජ': 598, 'ඟ': 772, '1997': 15, '1': 3, 'පරන': 974, 'කදව': 691, 'උණවට': 573, 'ලගන': 1174, 'කච': 679, 'සරය': 1291, '297': 28, 'ඒකන': 635, 'කඩක': 683, 'වයඹ': 1227, 'ටද': 810, '3ද': 33, 'පවසම': 985, 'වනපල': 1216, 'හත': 1309, 'වහම': 1243, 'අඩව': 410, 'මඬල': 1049, 'අයද': 437, 'පහන': 988, 'උණ': 572, 'ඇරපන': 522, 'ඊර': 560, 'ඊය': 559, 'co2': 95, 'අහස': 474, 'මහස': 1076, 'goma': 145, 'la': 211, 'union': 349, 'හදව': 1315, 'අමරණ': 435, 'ඇමත': 519, 'වරණ': 1231, 'ඨ': 820, 'film': 132, 'distroying': 112, 'karanna': 196, 'ඕඩටය': 666, 'mcc': 235, 'මක': 1038, 'රකය': 1119, 'නතරය': 923, 'ටකද': 805, 'ඝරත': 771, 'ඒන': 639, 'පළම': 994, 'යවත': 1107, 'අවව': 460, 'වරය': 1234, 'rocket': 297, 'පප': 966, 'moda': 240, 'monawa': 243, 'hari': 156, 'sathutak': 305, 'ජනපත': 793, 'උහ': 596, 'සදග': 1272, 'රචණ': 1126, 'ඩත': 826, 'ටකය': 806, 'වධර': 1214, '65': 43, 'ජයව': 802, 'mathitumanni': 232, 'ලගද': 1173, 'රගත': 1122, 'ලට': 1176, 'රණගත': 1136, 'ලයක': 1191, 'උවමණ': 592, 'සහනය': 1302, 'ඉලක': 548, 'ජනසම': 795, 'කතරග': 688, '1ක': 17, 'රල': 1154, 'don': 113, 'worry': 381, 'be': 82, 'happy': 155, 'ආදරන': 486, 'kawuru': 200, 'unot': 350, '18': 12, 'unat': 348, 'mahinda': 226, 'othana': 267, 'inna': 172, 'tibba': 333, 'රණබ': 1138, 'sir': 312, 'නයන': 934, 'මයක': 1059, 'උවමන': 593, 'තද': 850, 'සටහ': 1266, 'දබල': 884, 'බග': 998, 'යතය': 1091, 'api': 68, 'ඕම': 669, 'seta': 307, 'ta': 322, 'jaya': 179, 'wewa': 374, 'ආසම': 504, 'මඩ': 1047, 'ගහන': 765, 'හලච': 1328, 'දබ': 883, 'උටන': 569, 'pidu': 276, 'ආබද': 493, 'අසම': 466, 'අඳ': 424, 'ඇදල': 515, 'එතරම': 612, 'පනගන': 963, 'කලබල': 728, 'ඇඩ': 510, 'හතම': 1310, 'dear': 108, 'ශව': 1255, 'ඉඩකඩ': 533, 'අමන': 434, 'ඔබසත': 655, 'ඳක': 947, 'වනබව': 1217, 'තවද': 866, 'රහණ': 1163, 'මතය': 1052, 'gena': 142, 'aaaa': 57, 'යවස': 1109, 'රගතය': 1123, 'imf': 170, 'loan': 217, 'recognition': 292, 'එයන': 624, 'එන': 614, 'මරත': 1061, 'යකත': 1084, 'තණක': 848, 'vissita': 361, 'candye': 91, 'prathipala': 280, 'ப': 393, 'ர': 394, 'ட': 390, 'டத': 391, 'த': 392, 'ற': 395, 'க': 389, 'வ': 396, 'victory': 357, 'to': 337, 'the': 330, 'struggle': 320, 'මට': 1044, 'ළකය': 1332, 'මණ': 1048, 'ළනය': 1334, 'exam': 128, 'ඩක': 823, 'wn3b9kwtgim': 379, '90': 53, 'කබ': 698, 'ඇදගත': 514, 'lt': 219, 'gen': 141, 'densil': 110, 'kobbakaduwa': 208, 'maj': 227, 'vijaya': 358, 'vimalarathne': 360, 'col': 96, 'f': 130, 'lafir': 212, 'lalith': 213, 'jayasinghe': 180, 'cprl': 103, 'gamini': 137, 'kularathne': 209, 'අමතරව': 433, 'දළද': 901, 'b': 76, 'වටත': 1207, 'ඩයන': 832, 'ජනබල': 794, 'තහව': 870, 'දස': 896, 'අබද': 429, 'සහගහ': 1298, 'කවදහර': 734, 'ආහ': 505, 'බත': 1005, 'බවස': 1027, 'බලද': 1017, 'නගතයත': 916, '2009': 22, 'goood': 148, 'thank': 329, 's': 299, 'npp': 263, 'බප': 1008, 'සවය': 1295, 'උපර': 582, 'sjb': 313, 'අනවශ': 423, 'කවරන': 735, 'අතර': 412, 'ආභ': 494, 'අපහස': 427, 'යහපත': 1114, 'චත': 776, 'උනන': 579, 'වභ': 1223, 'මහරජත': 1075, 'දඬ': 877, 'නරය': 937, 'ඒද': 638, 'ඩප': 828, 'ටටජයව': 808, 'චයර': 779, 'ගව': 762, 'නට': 918, 'දග': 875, 'ඩසටහන': 836, 'රණන': 1137, 'රසතව': 1161, 'අවසථ': 463, 'kathai': 199, 'inne': 173, 'lokayak': 218, 'garu': 139, 'karana': 195, 'kenek': 203, 'ජප': 796, 'යවශ': 1108, 'රප': 1148, 'අසරණව': 468, 'සනසව': 1275, 'දනම': 880, 'ශර': 1253, 'තලය': 864, 'පහස': 992, 'gota': 149, 'ranil': 290, 'go': 144, 'home': 162, 'kiwwa': 204, 'elon': 121, 'mask': 231, 'come': 99, 'specs': 317, 'එනවම': 618, 'කඛර': 677, 'නකම': 913, 'අයව': 438, 'අඩම': 409, 'දරය': 889, 'පලයල': 981, 'නහල': 944, 'great': 152, 'work': 380, 'derana': 111, 'technology': 324, 'no': 262, 'mostly': 245, 'every': 127, 'aspects': 71, 'පජ': 952, 'keep': 201, 'it': 176, 'up': 352, 'තමය': 855, 'ඒකය': 636, 'කරදර': 711, 'ඩලය': 833, 'we': 366, 'pray': 281, 'for': 133, 'you': 387, 'mother': 246, 'land': 214, 'සතර': 1270, 'hon': 163, 'gotabhaya': 150, 'rajapaksha': 289, 'hero': 158, 'sar': 304, 'එජ': 608, 'good': 146, 'luck': 220, 'sf': 309, 'කමටව': 701, 'සඳහ': 1277, 'ගරහ': 759, 'ටත': 809, 'uana': 341, 'gemma': 140, 'itte': 177, 'වසන': 1238, 'බටහ': 1001, 'ටය': 814, 'වඩ': 1209, 'පරතරය': 973, 'නටව': 919, 'යස': 1111, '2013': 23, 'වම': 1225, 'ලවග': 1195, 'බළ': 1030, 'ඔබට': 651, 'ජඹ': 798, 'ටප': 811, 'paw': 274, 'නනවම': 926, 'colombo': 97, 'maga': 225, 'balan': 78, 'setei': 308, 'obai': 265, 'u': 340, 'ගඩ': 747, 'p436': 271, 'ටපල': 812, 'රටට': 1132, '1990': 14, 'යප': 1098, 'ඨය': 821, 'well': 369, 'done': 114, 'harini': 157, 'රනය': 1145, 'වචනය': 1204, 'තරව': 861, 'job': 182, 'මකර': 1040}\n"
          ]
        }
      ]
    },
    {
      "cell_type": "markdown",
      "source": [
        "# TF IDF Vectors as Features"
      ],
      "metadata": {
        "id": "raw7v1GpRnGD"
      }
    },
    {
      "cell_type": "code",
      "source": [
        "# word level tf-idf\n",
        "tfidf_vect = TfidfVectorizer(analyzer='word', token_pattern=r'\\w{1,}', max_features=5000)\n",
        "tfidf_vect.fit(df['text_new'])\n",
        "xtrain_tfidf =  tfidf_vect.transform(train_x)\n",
        "xvalid_tfidf =  tfidf_vect.transform(valid_x)\n",
        "\n",
        "# ngram level tf-idf\n",
        "tfidf_vect_ngram = TfidfVectorizer(analyzer='word', token_pattern=r'\\w{1,}', ngram_range=(2,3), max_features=5000)\n",
        "tfidf_vect_ngram.fit(df['text_new'])\n",
        "xtrain_tfidf_ngram =  tfidf_vect_ngram.transform(train_x)\n",
        "xvalid_tfidf_ngram =  tfidf_vect_ngram.transform(valid_x)\n",
        "\n",
        "# characters level tf-idf\n",
        "tfidf_vect_ngram_chars = TfidfVectorizer(analyzer='char', token_pattern=r'\\w{1,}', ngram_range=(2,3), max_features=5000)\n",
        "tfidf_vect_ngram_chars.fit(df['text_new'])\n",
        "xtrain_tfidf_ngram_chars =  tfidf_vect_ngram_chars.transform(train_x)\n",
        "xvalid_tfidf_ngram_chars =  tfidf_vect_ngram_chars.transform(valid_x)"
      ],
      "metadata": {
        "colab": {
          "base_uri": "https://localhost:8080/"
        },
        "id": "MmTJKHDmRmvN",
        "outputId": "94e27508-02d4-4236-9a0a-c0bebbb0e30a"
      },
      "execution_count": null,
      "outputs": [
        {
          "output_type": "stream",
          "name": "stderr",
          "text": [
            "/usr/local/lib/python3.10/dist-packages/sklearn/feature_extraction/text.py:554: UserWarning: The parameter 'token_pattern' will not be used since 'analyzer' != 'word'\n",
            "  warnings.warn(\n"
          ]
        }
      ]
    },
    {
      "cell_type": "code",
      "source": [
        "print(\"word level tf-idf_Vocabulary: \", tfidf_vect.vocabulary_)\n",
        "print(\"ngram level tf-idf_Vocabulary: \", tfidf_vect_ngram.vocabulary_)\n",
        "print(\"characters level tf-idf_Vocabulary: \", tfidf_vect_ngram_chars.vocabulary_)"
      ],
      "metadata": {
        "colab": {
          "base_uri": "https://localhost:8080/"
        },
        "id": "1suk_ixER3s2",
        "outputId": "9d49ac3b-b8d4-4611-f447-d04bc7f27a43"
      },
      "execution_count": null,
      "outputs": [
        {
          "output_type": "stream",
          "name": "stdout",
          "text": [
            "word level tf-idf_Vocabulary:  {'ප': 948, 'ඔය': 656, 'කර': 706, 'උ': 564, 'කවද': 733, 'ව': 1198, 'ග': 742, 'ය': 1081, 'ද': 873, 'ර': 1116, 'ල': 1166, 'බ': 997, 'හ': 1305, 'ඳ': 945, 'න': 911, 'බල': 1015, 'ම': 1036, 'ඕන': 667, 'ත': 843, 'ට': 803, 'රද': 1142, 'කලමන': 729, 'ක': 673, 'අවශ': 461, 'යත': 1090, 'වය': 1226, 'බලය': 1023, 'අප': 425, 'කට': 680, 'කක': 676, 'ෂගත': 1257, 'යව': 1105, 'ආග': 477, 'අත': 411, 'ජනත': 791, 'ජ': 785, 'බරදර': 1014, 'ඒ': 633, 'රය': 1153, 'ගන': 752, 'නව': 939, 'හරක': 1324, 'ඇමර': 520, 'ච': 773, 'දන': 879, 'වට': 1206, 'ඒක': 634, 'ඉව': 549, 'අල': 450, 'tip': 335, 'එ': 599, 'මද': 1053, 'මස': 1067, 'ස': 1263, 'තම': 854, 'අහ': 470, 'අස': 464, 'උන': 577, 'ඉවරය': 552, 'අන': 421, 'ගත': 750, 'ඉදප': 537, 'ජන': 789, 'දය': 886, 'එනක': 615, 'ඉ': 527, 'බටලන': 1000, 'තර': 857, 'දර': 888, 'අම': 431, 'මල': 1065, 'රබලව': 1149, 'අවක': 452, 'ශ': 1245, 'අධ': 419, 'පත': 958, 'ඹක': 1079, 'හර': 1323, '39': 31, 'රට': 1130, 'බඩ': 1002, 'ඩ': 822, 'කරල': 723, 'උද': 575, 'ධමනය': 906, 'ගනනය': 754, 'අමත': 432, 'වනම': 1218, 'ඕව': 671, 'පර': 970, 'පරය': 977, 'රන': 1144, 'ආය': 496, 'ධය': 907, 'හදන': 1312, 'යය': 1102, 'පව': 983, 'කරනව': 715, 'අ': 397, 'br': 89, 'කල': 725, 'ලත': 1178, 'mr': 247, 'කත': 687, 'සරදය': 1289, 'ඉවත': 550, 'තක': 844, 'ලය': 1190, 'සක': 1264, 'unp': 351, 'එක': 600, 'ඡන': 784, 'එප': 619, 'යක': 1083, 'අද': 415, 'උබ': 584, 'වල': 1235, 'අඩ': 408, 'මහ': 1068, 'ජපක': 797, 'ෂ': 1256, 'මහත': 1070, 'ඔබත': 652, 'අව': 451, '8': 49, 'ශප': 1251, 'ලනය': 1183, 'තන': 851, 'ලන': 1181, 'උබත': 585, 'එකක': 601, 'ලර': 1192, 'උඹලම': 589, 'ගල': 760, '2007': 21, 'ඕ': 663, 'යන': 1094, 'අසරණ': 467, 'ඉත': 535, 'කරග': 707, 'ඇම': 518, 'පග': 950, 'අරග': 442, 'රහස': 1165, 'ඇත': 511, 'නවන': 940, '50': 39, 'පලප': 979, 'චර': 780, 'ඩය': 831, 'සජ': 1265, 'පක': 949, 'ෂය': 1261, 'ඇව': 524, 'යට': 1088, 'ගහ': 764, 'අය': 436, 'එව': 628, 'අර': 439, 'ඇඳ': 517, 'නය': 931, 'ගගත': 744, 'ආක': 476, 'රණ': 1135, 'එද': 613, 'හම': 1319, 'අගව': 403, 'උපහ': 583, 'දවච': 893, 'මර': 1060, 'ලවර': 1196, 'එකටහර': 602, 'x': 383, 'ඉක': 528, 'මන': 1055, 'රස': 1160, 'ධ': 902, 'ළ': 1331, 'දක': 874, 'ණ': 837, 'එහ': 630, 'ඔබ': 650, 'වස': 1237, 'ථ': 871, 'ආරක': 499, 'කඩ': 682, 'ආ': 475, 'ඔ': 642, 'ඩද': 827, 'එතක': 611, 'නස': 942, 'පලය': 980, 'ලල': 1193, 'බලවත': 1025, 'ආර': 498, 'සහ': 1297, 'what': 376, 'sri': 318, 'lanka': 215, 'අපර': 426, 'නල': 938, 'මරනක': 1062, 'සමහර': 1284, 'පරම': 976, 'tv': 339, 'රණව': 1140, 'සමර': 1281, 'තය': 856, 'බය': 1011, 'වගක': 1201, 'ඊන': 558, 'අරගලකර': 446, 'ඉවර': 551, 'jvp': 184, 'slfp': 314, '3න': 34, 'ආස': 503, '30': 29, '0': 0, '2': 18, 'හල': 1327, 'තකය': 846, 'ඉපද': 543, 'මරල': 1063, 'කනව': 694, 'එකනම': 604, 'අරක': 440, '135': 10, 'මච': 1043, 'ආදරය': 487, 'අගම': 401, 'ලක': 1167, 'දඩ': 876, 'කමස': 703, 'කලව': 731, 'ලගය': 1175, 'චන': 777, 'දවල': 894, 'මළ': 1077, 'ඉල': 547, 'ළව': 1340, 'ඔක': 643, 'පණ': 957, 'ඌ': 597, 'බබ': 1009, 'බඩග': 1003, 'ඉන': 539, 'නරට': 936, 'බණ': 1004, 'කන': 692, '6': 42, 'මහබ': 1073, 'පල': 978, 'comment': 100, 'නම': 929, 'ගහනක': 766, 'ඇදග': 513, 'නත': 922, 'sampatha': 301, 'එය': 623, 'වභවදහම': 1224, 'රජත': 1128, 'ලව': 1194, 'දවස': 895, 'අවම': 459, 'උත': 574, 'සව': 1294, 'පවත': 984, 'යල': 1103, 'ඕක': 664, 'උස': 594, 'බලප': 1020, 'ඉවරල': 553, 'යනව': 1096, 'පනය': 965, 'උබල': 586, 'සම': 1279, 'හද': 1311, 'රනව': 1147, 'ආච': 479, 'තස': 868, 'ශකය': 1247, 'ආබ': 492, 'වන': 1215, 'ආධ': 488, 'දල': 891, 'highway': 159, 'ගණ': 748, 'ටර': 815, 'කනග': 693, 'සත': 1268, 'අතහර': 414, 'ගර': 757, 'අදහස': 418, 'පතර': 959, 'වද': 1211, 'සහභ': 1303, 'අරගලය': 447, 'උනත': 578, 'යම': 1100, 'රත': 1141, 'ශක': 1246, 'සන': 1274, 'අවබ': 458, 'දයක': 887, 'ආගම': 478, 'දහම': 898, 'ඹ': 1078, 'රම': 1150, 'නශකරල': 941, 'ශය': 1252, 'තව': 865, 'භය': 1032, 'අරගල': 444, 'භ': 1031, 'මත': 1050, 'ඉඩ': 532, 'ඉට': 531, 'තනව': 853, 'රටග': 1131, 'බර': 1012, 'පන': 962, 'වත': 1210, 'ඔල': 659, 'අහල': 473, 'ආව': 501, '750rsකවද': 47, 'කය': 704, 'ලම': 1188, 'තල': 863, 'රක': 1117, 'රශ': 1159, 'උකහල': 565, 'බද': 1006, 'රජ': 1127, 'වක': 1199, 'නඩත': 921, '20': 19, '000': 1, 'පඩ': 955, '80': 50, 'ඉස': 556, 'සර': 1286, 'ඉඳ': 540, 'ණය': 841, 'සල': 1292, 'හට': 1307, '77': 48, 'වසර': 1239, 'කරප': 718, 'කළ': 737, 'ඔතන': 647, 'ණප': 840, 'අවත': 454, 'වර': 1229, 'එල': 626, 'නප': 927, 'ඛ': 740, 'පනත': 964, 'පට': 953, 'කලක': 726, 'ෂල': 1262, 'කමන': 702, 'ලග': 1172, 'තනත': 852, 'භව': 1034, 'රනයක': 1146, 'ධව': 910, 'පළ': 993, 'ඉර': 545, 'කරම': 721, 'ඒව': 641, 'ඡ': 783, 'අඥ': 405, 'පමණ': 968, 'බලව': 1024, 'කණග': 686, 'chemistry': 94, 'paper': 273, 'avarage': 74, 'ළමය': 1337, 'කව': 732, 'සටහන': 1267, 'හමත': 1320, 'ජක': 786, 'බලමක': 1022, 'මග': 1041, 'ගම': 755, 'කම': 700, 'ලබ': 1186, 'වබලප': 1222, 'හයප': 1322, 'ඩකම': 824, 'රව': 1155, 'හරනය': 1325, 'වයස': 1228, 'තඩ': 847, 'රවන': 1156, 'උඩ': 570, 'ඉද': 536, 'අහනව': 472, 'ගගහ': 745, 'power': 279, 'plan': 277, 'වග': 1200, 'ඇල': 523, 'යද': 1092, 'ලස': 1197, 'ආප': 490, 'ලනඥය': 1182, 'ලධ': 1180, 'padisan': 272, 'niwata': 261, 'අවනතව': 457, 'හලය': 1329, 'ඊලඟ': 563, 'අහන': 471, 'ඩව': 834, 'අභ': 430, 'ශගත': 1248, 'සය': 1285, 'පද': 961, 'රවය': 1157, 'සරන': 1290, 'යහ': 1112, '2015': 24, 'රකම': 1118, 'සතයක': 1269, 'යග': 1086, 'පහලව': 990, 'පඩය': 956, 'දරල': 890, 'අග': 400, 'ඇර': 521, 'මමන': 1057, 'පරක': 971, 'එළව': 631, '225': 25, 'එලව': 627, 'යටව': 1089, 'බන': 1007, 'කඩය': 684, 'කලත': 727, 'ඔබම': 653, 'srilanka': 319, 'been': 83, 'සඳ': 1276, 'ලකය': 1171, 'සද': 1271, 'කරනඑ': 713, 'අතහ': 413, 'පහව': 991, 'එනව': 617, 'මටව': 1046, 'ලදප': 1179, 'යනවන': 1097, 'නඛය': 914, 'ගහප': 768, '226': 26, 'වජ': 1205, 'තකත': 845, 'හප': 1318, 'ආතල': 483, 'වගත': 1202, 'jonny': 183, 'english': 122, 'මය': 1058, 'ආන': 489, 'දහස': 900, 'හව': 1330, 'යහප': 1113, 'ගණන': 749, 'උර': 590, 'තත': 849, 'උඹ': 587, 'වහන': 1242, 'චලය': 782, 'බලක': 1016, 'චඡ': 774, 'ටලන': 817, 'වහ': 1240, 'දහ': 897, 'ආණ': 480, 'කරගන': 709, 'comments': 101, 'ඊ': 557, 'ඝ': 770, 'ෂණ': 1258, 'news': 258, 'අච': 404, 'ආමන': 495, 'රණය': 1139, 'ආදරණ': 485, 'සසර': 1296, 'මඟ': 1042, 'ධර': 909, 'එම': 620, 'ඉමහ': 544, 'වනව': 1219, 'ඔව': 660, 'ටව': 818, 'ළය': 1339, 'හරහ': 1326, 'අධර': 420, 'කගත': 678, 'fun': 135, 'ගය': 756, 'ෂණය': 1259, 'තවම': 867, 'ඵ': 995, 'පරප': 975, 'බව': 1026, 'යකය': 1085, 'එකත': 603, 'ඔයය': 657, 'කබල': 699, 'පටද': 954, 'කරන': 712, 'කටය': 681, 'ඕග': 665, 'make': 228, 'උඹල': 588, 'අගය': 402, '5': 38, 'අදර': 417, 'එෆ': 632, 'ඩබ': 829, 'ගලය': 761, 'තහන': 869, 'a': 56, 'l': 210, 'මහජ': 1069, 'අරම': 449, 'ඉෂ': 555, 'කරගත': 708, 'අවජ': 453, 'අක': 399, 'යදහස': 1093, 'ඇ': 506, 'උවම': 591, 'ඉගනග': 530, 'ඉරණම': 546, 'quot': 286, 'එච': 607, 'ගග': 743, 'ශණ': 1249, 'රගන': 1124, 'ලකණ': 1169, 'බහ': 1029, 'උගත': 567, 'අටව': 407, 'rata': 291, 'vikunan': 359, 'kana': 192, 'kalakanni': 187, 'kalama': 188, 'wenava': 371, 'ekath': 120, 'manussayawe': 229, 'ha': 153, 'sapase': 303, 'yanavahanavwela': 386, 'sapa': 302, 'enna': 123, 'thanak': 328, 'na': 251, 'gan': 138, 'wathura': 365, 'naya': 254, 'yanava': 385, 'vassa': 355, 'aduwenna': 58, 'madivata': 224, 'vat': 356, 'ekakuth': 118, 'gahala': 136, 'ane': 64, 'me': 236, 'mona': 242, 'karumekata': 197, 'wela': 367, 'epadunada': 126, 'duk': 115, 'thopi': 332, 'apita': 69, 'jeevath': 181, 'wena': 370, 'uduran': 346, 'kanna': 193, 'bonna': 87, 'ape': 67, 'welin': 368, 'wenna': 372, 'bari': 80, 'karala': 194, 'ubalata': 345, 'chande': 92, 'dunna': 116, 'nisada': 260, 'mehema': 238, 'සලක': 1293, 'awe': 75, 'nam': 252, 'balaen': 77, 'naththet': 253, 'karumeta': 198, 'athi': 72, 'uge': 347, 'kama': 190, 'thama': 326, 'kelevila': 202, 'wadinnam': 362, 'ubala': 343, 'hodata': 161, 'kala': 186, 'bila': 84, 'hitapalla': 160, 'apata': 66, 'denna': 109, 'barinam': 81, 'oya': 269, 'hamoma': 154, 'kamakata': 191, 'mariyalla': 230, 'kiyala': 205, 'tikak': 334, 'avanna': 73, 'mulu': 249, 'ma': 223, 'ubalage225': 344, 'darupaultika': 106, 'wevi': 373, 'ekane': 119, 'one': 266, 'dannm': 105, 'tiyenne': 336, 'කණ': 685, 'ලකඉ': 1168, 'ඔච': 644, 'කථ': 689, 'දප': 882, 'අසණය': 465, 'ඩවනව': 835, 'අoශය': 398, 'මරව': 1064, 'සමරනව': 1282, 'ගතය': 751, 'හදල': 1314, 'අරගලල': 448, 'දව': 892, 'භර': 1033, 'ඒච': 637, 'ථක': 872, 'චරකල': 781, 'යගත': 1087, 'නද': 924, 'point': 278, '1000': 5, 'ඔත': 646, 'මඑකත': 1037, 'ඔට': 645, 'uathsaha': 342, 'varadinne': 354, 'neha': 256, 'nethi': 257, 'bane': 79, 'kiyana': 206, 'kalema': 189, 'අවස': 462, 'බලම': 1021, 'කනස': 695, 'එර': 625, 'හඩ': 1308, 'නග': 915, 'ඔප': 649, 'කරනම': 714, 'එමව': 622, 'ඇහ': 526, 'රග': 1121, 'වච': 1203, 'social': 315, 'media': 237, 'චණ': 775, 'රඩත': 1134, 'අරගලක': 445, 'වහග': 1241, 'මකබ': 1039, 'කරව': 724, 'පහ': 987, 'ඩම': 830, 'ඩග': 825, 'අනත': 422, 'සබ': 1278, 'කරනවල': 717, '250': 27, '300': 30, 'අවධ': 456, 'එනත': 616, 'ටක': 804, 'නක': 912, 'වරද': 1233, 'කරපල': 720, 'නඩ': 920, 'වහල': 1244, 'කඑල': 675, 'ඔහ': 661, 'ණග': 839, 'පරණ': 972, 'පය': 969, 'කලය': 730, 'බටල': 999, 'වදකග': 1213, 'කද': 690, 'ටල': 816, 'wheelchair': 377, 'ටම': 813, 'ගහල': 769, 'ළප': 1335, 'ජයග': 801, 'රහණය': 1164, 'නර': 935, 'හදනව': 1313, 'තරහ': 862, 'පච': 951, 'ai': 59, 'genath': 143, 'dunne': 117, 'ජකය': 787, 'waga': 363, 'kiyanna': 207, 'ngo': 259, 'පතරය': 960, 'ආරච': 500, 'school': 306, 'ළම': 1336, 'ඔළ': 662, 'තරල': 860, '1977': 13, 'සමග': 1280, 'වව': 1236, 'ළඹ': 1338, 'දත': 878, 'එස': 629, 'saitm': 300, 'රජය': 1129, 'නහ': 943, 'එමන': 621, 'දනය': 881, 'කළය': 738, 'කළහ': 739, 'ලකන': 1170, 'ඉවස': 554, 'ණයග': 842, 'ෂප': 1260, 'day': 107, 'කරනවන': 716, 'කපට': 697, 'ආයතනය': 497, '4': 35, 'altra': 61, 'pro': 283, 'max': 233, 'channel': 93, 'අටපට': 406, 'ඔන': 648, 'උපද': 581, 'ණකථ': 838, 'හය': 1321, 'enough': 124, 'is': 175, 'more': 244, 'then': 331, 'වදක': 1212, 'නන': 925, 'ඔයව': 658, 'යලන': 1104, 'ඉඳල': 541, 'ශනය': 1250, 'google': 147, 'article': 70, 'සහන': 1301, 'ලණ': 1177, 'ගඟ': 746, '7': 46, 'පලව': 982, 'ධප': 905, 'ලබස': 1187, 'reply': 293, 'epa': 125, 'ඉග': 529, 'සදහ': 1273, 'mokkd': 241, 'yako': 384, 'rockets': 298, 'company': 102, 'කස': 736, 'ඇන': 516, 'අදන': 416, 'ඊලග': 562, 'අබ': 428, 'thammel': 327, 'ඇඟ': 508, 'මහන': 1071, 'ලඹ': 1189, 'බස': 1028, 'ගස': 763, '13': 8, 'භවයකද': 1035, 'ඔබල': 654, 'සරණය': 1288, 'මධර': 1054, 'නයධර': 933, 'උග': 566, 'සහය': 1304, 'ඒබව': 640, 'තරම': 858, 'එගර': 606, '11': 6, '00am': 2, 'පස': 986, 'bio': 85, '200': 20, 'private': 282, 'life': 216, 'href': 165, 'https': 166, 'www': 382, 'youtube': 388, 'com': 98, 'watch': 364, 'v': 353, 'wfoygnihpm': 375, 'amp': 62, 't': 321, '45': 36, 'ළඟ': 1333, '49': 37, 'ටසක': 819, '51': 41, 'වරඑළ': 1230, 'යපන': 1099, 'දම': 885, 'කඉ': 674, 'ඉඩසලස': 534, 'idk': 168, 'but': 90, 'cringe': 104, 'qxer': 287, 'm9rd74': 222, '130': 9, '10': 4, '1k': 16, 'free': 134, 'කරපන': 719, 'දහය': 899, 'වරණය': 1232, 'mbbs': 234, 'අරගත': 443, 'සහත': 1299, 'කයක': 705, 'ගනන': 753, '95': 54, 'උජ': 568, 'ගහනව': 767, 'මව': 1066, 'යෂණ': 1110, 'report': 294, 'ඉප': 542, 'ඹය': 1080, 'වටව': 1208, 'බමන': 1010, 'චනය': 778, 'graphic': 151, 'illustrations': 169, 'animations': 65, 'යමය': 1101, 'නයගර': 932, 'ජනග': 790, 'වනසත': 1220, 'ඇද': 512, 'ඊල': 561, 'තරය': 859, 'මතක': 1051, 'උසස': 595, '12': 7, '15': 11, 'යඑව': 1082, 'rest': 296, 'in': 171, 'peace': 275, 'soldiers': 316, 'r': 288, 'i': 167, 'p': 270, 'ජයකය': 800, 'ජය': 799, 'මටය': 1045, '3g': 32, 'also': 60, 'need': 255, 'share': 310, 'facts': 131, 'proof': 285, 'which': 378, 'experment': 129, 'and': 63, 'test': 325, 'reports': 295, 'අරකට': 441, 'එකම': 605, 'යළ': 1115, 'සරණ': 1287, 'ඵල': 996, 'j': 178, 'silva': 311, 'රමස': 1152, 'පහල': 989, '9': 52, '8ක': 51, 'ගරය': 758, 'ඕනන': 668, 'intercontinental': 174, 'missile': 239, '5000': 40, 'ආත': 481, 'ආදර': 484, 'කප': 696, 'ලනයක': 1184, 'ආපද': 491, 'බලධ': 1018, 'ඖස': 672, 'ඳඉ': 946, 'tourism': 338, 'board': 86, 'promote': 284, 'උඩබල': 571, 'යවක': 1106, 'ඛය': 741, 'උප': 580, 'නඹ': 930, 'පබඩ': 967, 'රමය': 1151, 'ඇට': 509, 'ඕල': 670, 'රසන': 1162, 'එඩ': 609, 'අවද': 455, 'tamil': 323, 'ෆ': 1341, 'මමද': 1056, 'ඉදල': 538, 'සහද': 1300, 'හඳ': 1317, 'මහර': 1074, 'නබලප': 928, 'කරය': 722, '997g': 55, 'මහප': 1072, 'ලප': 1185, 'සමස': 1283, 'යනක': 1095, 'hospital': 164, 'oxygen': 268, 'කරද': 710, 'ආතර': 482, 'm': 221, 'k': 185, 'හග': 1306, 'ශල': 1254, 'අසල': 469, 'එත': 610, 'රවර': 1158, 'ධනය': 904, 'ඇග': 507, 'රටවල': 1133, 'ධයද': 908, 'බරද': 1013, 'ජත': 788, 'ඇස': 525, 'උදරතර': 576, 'හදවත': 1316, 'රකරම': 1120, 'වබ': 1221, 'bottuwakda': 88, 'o': 264, 'ms': 248, '680': 45, 'n': 250, '650': 44, 'රච': 1125, 'බලන': 1019, 'ජනප': 792, 'ආශ': 502, 'රධ': 1143, 'නගර': 917, 'ධද': 903, 'ටග': 807, 'ඍජ': 598, 'ඟ': 772, '1997': 15, '1': 3, 'පරන': 974, 'කදව': 691, 'උණවට': 573, 'ලගන': 1174, 'කච': 679, 'සරය': 1291, '297': 28, 'ඒකන': 635, 'කඩක': 683, 'වයඹ': 1227, 'ටද': 810, '3ද': 33, 'පවසම': 985, 'වනපල': 1216, 'හත': 1309, 'වහම': 1243, 'අඩව': 410, 'මඬල': 1049, 'අයද': 437, 'පහන': 988, 'උණ': 572, 'ඇරපන': 522, 'ඊර': 560, 'ඊය': 559, 'co2': 95, 'අහස': 474, 'මහස': 1076, 'goma': 145, 'la': 211, 'union': 349, 'හදව': 1315, 'අමරණ': 435, 'ඇමත': 519, 'වරණ': 1231, 'ඨ': 820, 'film': 132, 'distroying': 112, 'karanna': 196, 'ඕඩටය': 666, 'mcc': 235, 'මක': 1038, 'රකය': 1119, 'නතරය': 923, 'ටකද': 805, 'ඝරත': 771, 'ඒන': 639, 'පළම': 994, 'යවත': 1107, 'අවව': 460, 'වරය': 1234, 'rocket': 297, 'පප': 966, 'moda': 240, 'monawa': 243, 'hari': 156, 'sathutak': 305, 'ජනපත': 793, 'උහ': 596, 'සදග': 1272, 'රචණ': 1126, 'ඩත': 826, 'ටකය': 806, 'වධර': 1214, '65': 43, 'ජයව': 802, 'mathitumanni': 232, 'ලගද': 1173, 'රගත': 1122, 'ලට': 1176, 'රණගත': 1136, 'ලයක': 1191, 'උවමණ': 592, 'සහනය': 1302, 'ඉලක': 548, 'ජනසම': 795, 'කතරග': 688, '1ක': 17, 'රල': 1154, 'don': 113, 'worry': 381, 'be': 82, 'happy': 155, 'ආදරන': 486, 'kawuru': 200, 'unot': 350, '18': 12, 'unat': 348, 'mahinda': 226, 'othana': 267, 'inna': 172, 'tibba': 333, 'රණබ': 1138, 'sir': 312, 'නයන': 934, 'මයක': 1059, 'උවමන': 593, 'තද': 850, 'සටහ': 1266, 'දබල': 884, 'බග': 998, 'යතය': 1091, 'api': 68, 'ඕම': 669, 'seta': 307, 'ta': 322, 'jaya': 179, 'wewa': 374, 'ආසම': 504, 'මඩ': 1047, 'ගහන': 765, 'හලච': 1328, 'දබ': 883, 'උටන': 569, 'pidu': 276, 'ආබද': 493, 'අසම': 466, 'අඳ': 424, 'ඇදල': 515, 'එතරම': 612, 'පනගන': 963, 'කලබල': 728, 'ඇඩ': 510, 'හතම': 1310, 'dear': 108, 'ශව': 1255, 'ඉඩකඩ': 533, 'අමන': 434, 'ඔබසත': 655, 'ඳක': 947, 'වනබව': 1217, 'තවද': 866, 'රහණ': 1163, 'මතය': 1052, 'gena': 142, 'aaaa': 57, 'යවස': 1109, 'රගතය': 1123, 'imf': 170, 'loan': 217, 'recognition': 292, 'එයන': 624, 'එන': 614, 'මරත': 1061, 'යකත': 1084, 'තණක': 848, 'vissita': 361, 'candye': 91, 'prathipala': 280, 'ப': 393, 'ர': 394, 'ட': 390, 'டத': 391, 'த': 392, 'ற': 395, 'க': 389, 'வ': 396, 'victory': 357, 'to': 337, 'the': 330, 'struggle': 320, 'මට': 1044, 'ළකය': 1332, 'මණ': 1048, 'ළනය': 1334, 'exam': 128, 'ඩක': 823, 'wn3b9kwtgim': 379, '90': 53, 'කබ': 698, 'ඇදගත': 514, 'lt': 219, 'gen': 141, 'densil': 110, 'kobbakaduwa': 208, 'maj': 227, 'vijaya': 358, 'vimalarathne': 360, 'col': 96, 'f': 130, 'lafir': 212, 'lalith': 213, 'jayasinghe': 180, 'cprl': 103, 'gamini': 137, 'kularathne': 209, 'අමතරව': 433, 'දළද': 901, 'b': 76, 'වටත': 1207, 'ඩයන': 832, 'ජනබල': 794, 'තහව': 870, 'දස': 896, 'අබද': 429, 'සහගහ': 1298, 'කවදහර': 734, 'ආහ': 505, 'බත': 1005, 'බවස': 1027, 'බලද': 1017, 'නගතයත': 916, '2009': 22, 'goood': 148, 'thank': 329, 's': 299, 'npp': 263, 'බප': 1008, 'සවය': 1295, 'උපර': 582, 'sjb': 313, 'අනවශ': 423, 'කවරන': 735, 'අතර': 412, 'ආභ': 494, 'අපහස': 427, 'යහපත': 1114, 'චත': 776, 'උනන': 579, 'වභ': 1223, 'මහරජත': 1075, 'දඬ': 877, 'නරය': 937, 'ඒද': 638, 'ඩප': 828, 'ටටජයව': 808, 'චයර': 779, 'ගව': 762, 'නට': 918, 'දග': 875, 'ඩසටහන': 836, 'රණන': 1137, 'රසතව': 1161, 'අවසථ': 463, 'kathai': 199, 'inne': 173, 'lokayak': 218, 'garu': 139, 'karana': 195, 'kenek': 203, 'ජප': 796, 'යවශ': 1108, 'රප': 1148, 'අසරණව': 468, 'සනසව': 1275, 'දනම': 880, 'ශර': 1253, 'තලය': 864, 'පහස': 992, 'gota': 149, 'ranil': 290, 'go': 144, 'home': 162, 'kiwwa': 204, 'elon': 121, 'mask': 231, 'come': 99, 'specs': 317, 'එනවම': 618, 'කඛර': 677, 'නකම': 913, 'අයව': 438, 'අඩම': 409, 'දරය': 889, 'පලයල': 981, 'නහල': 944, 'great': 152, 'work': 380, 'derana': 111, 'technology': 324, 'no': 262, 'mostly': 245, 'every': 127, 'aspects': 71, 'පජ': 952, 'keep': 201, 'it': 176, 'up': 352, 'තමය': 855, 'ඒකය': 636, 'කරදර': 711, 'ඩලය': 833, 'we': 366, 'pray': 281, 'for': 133, 'you': 387, 'mother': 246, 'land': 214, 'සතර': 1270, 'hon': 163, 'gotabhaya': 150, 'rajapaksha': 289, 'hero': 158, 'sar': 304, 'එජ': 608, 'good': 146, 'luck': 220, 'sf': 309, 'කමටව': 701, 'සඳහ': 1277, 'ගරහ': 759, 'ටත': 809, 'uana': 341, 'gemma': 140, 'itte': 177, 'වසන': 1238, 'බටහ': 1001, 'ටය': 814, 'වඩ': 1209, 'පරතරය': 973, 'නටව': 919, 'යස': 1111, '2013': 23, 'වම': 1225, 'ලවග': 1195, 'බළ': 1030, 'ඔබට': 651, 'ජඹ': 798, 'ටප': 811, 'paw': 274, 'නනවම': 926, 'colombo': 97, 'maga': 225, 'balan': 78, 'setei': 308, 'obai': 265, 'u': 340, 'ගඩ': 747, 'p436': 271, 'ටපල': 812, 'රටට': 1132, '1990': 14, 'යප': 1098, 'ඨය': 821, 'well': 369, 'done': 114, 'harini': 157, 'රනය': 1145, 'වචනය': 1204, 'තරව': 861, 'job': 182, 'මකර': 1040}\n",
            "ngram level tf-idf_Vocabulary:  {'ප ඔය': 1893, 'කර උ': 711, 'කවද ව': 785, 'ව ග': 4392, 'ග ය': 850, 'ය ද': 3313, 'ද ර': 1482, 'ර ල': 4078, 'ල බ': 4260, 'බ හ': 2778, 'හ ඳ': 4913, 'ඳ න': 1842, 'න ප': 1719, 'ප ර': 2133, 'ර බල': 4052, 'බල ල': 2830, 'ල ව': 4285, 'ව ම': 4501, 'ම ර': 2963, 'ර ඕන': 3969, 'ඔය ග': 472, 'ග ත': 820, 'ත බ': 1200, 'බ බ': 2666, 'බ උ': 2527, 'ප ඔය කර': 1894, 'කවද ව ග': 786, 'ව ග ය': 4397, 'ග ය ද': 851, 'ය ද ර': 3331, 'ද ර ල': 1489, 'ර ල බ': 4080, 'බ හ ඳ': 2788, 'හ ඳ න': 4915, 'න ප ර': 1723, 'ර බල ල': 4053, 'ල ව ම': 4294, 'ව ම ර': 4506, 'ම ර ඕන': 2965, 'ග ත බ': 822, 'ත බ බ': 1206, 'බ බ උ': 2670, 'බ උ ට': 2528, 'ත ල': 1268, 'ල න': 4247, 'න ම': 1732, 'ම ව': 2987, 'ව ව': 4538, 'ව රද': 4530, 'ක ර': 605, 'ර ත': 4011, 'ත න': 1180, 'න ද': 1688, 'ද හ': 1544, 'හ උ': 4876, 'ත ල න': 1269, 'ල න ම': 4250, 'න ම ව': 1742, 'ම ව ව': 2995, 'ව ව රද': 4545, 'ක ර ත': 606, 'ර ත න': 4013, 'න ද හ': 1701, 'ම ග': 2890, 'ග න': 831, 'අවශ යත': 232, 'යත වය': 3593, 'ද අප': 1361, 'අප බ': 165, 'බ ර': 2712, 'ර කට': 3978, 'කට ට': 676, 'කර ව': 752, 'යව ර': 3805, 'න ත': 1670, 'ත ත': 1166, 'ම ග න': 2894, 'ග න ද': 834, 'අවශ යත වය': 233, 'යත වය බලය': 3598, 'ය ද අප': 3314, 'බ බ ර': 2683, 'බ ර කට': 2721, 'ර කට ට': 3980, 'යව ර කට': 3806, 'න ත ත': 1676, 'ජනත ව': 965, 'ව ජ': 4401, 'ජ ව': 952, 'ග බ': 844, 'ව ජ ව': 4402, 'ඒ ප': 437, 'ප රය': 2162, 'රය ජ': 4176, 'ගන නව': 885, 'නව ද': 1831, 'ද න': 1431, 'න හරක': 1818, 'ඇමර ක': 283, 'ක ව': 640, 'ව ච': 4399, 'ච න': 915, 'න දන': 1703, 'වට න': 4598, 'අල ල': 216, 'ප රය ජ': 2163, 'නව ද න': 1832, 'ඇමර ක ව': 284, 'ක ව ච': 645, 'එ අල': 370, 'ල හ': 4304, 'හ මද': 4929, 'මද ව': 3023, 'ව හ': 4579, 'හ ල': 4943, 'ස තම': 4748, 'තම අහ': 1310, 'අහ ව': 248, 'එ අල ල': 371, 'අල ල හ': 222, 'ව හ ල': 4585, 'ස තම අහ': 4749, 'තම අහ ව': 1311, 'උන න': 352, 'න බ': 1728, 'බ අන': 2499, 'අන ම': 128, 'බ න': 2639, 'ත ය': 1230, 'ය ගත': 3256, 'ගත ත': 878, 'ත අප': 1125, 'ඒ ද': 436, 'බ අන ම': 2500, 'ම ග ත': 2892, 'බ බ න': 2678, 'බ න ම': 2645, 'ග ත ය': 823, 'ය ගත ත': 3257, 'යව ජන': 3788, 'ජන දය': 959, 'බල ග': 2826, 'ග ඉ': 791, 'යව ජන දය': 3789, 'බල ග ඉ': 2827, 'බටලන ද': 2801, 'ද ම': 1461, 'ර ම': 4056, 'ම ක': 2876, 'ක තර': 556, 'දර ව': 1569, 'ව අම': 4349, 'අහ ම': 246, 'ව දන': 4452, 'දන ව': 1560, 'ව ඔය': 4372, 'ඔය ප': 474, 'ද ද': 1412, 'ර ද': 4024, 'ද නව': 1446, 'බටලන ද ම': 2804, 'ද ම ර': 1463, 'ම ර ම': 2972, 'ර ම ක': 4057, 'අහ ම ව': 247, 'ව දන ව': 4453, 'ද ර ද': 1486, 'බ අධ': 2497, 'පත ත': 2250, 'ත ම': 1213, 'ඹක ක': 3116, 'ක බ': 578, 'බ ල': 2747, 'ල හර': 4308, 'හර ම': 4980, 'ම බ': 2949, 'න හ': 1808, 'හ න': 4909, 'බඩ ම': 2808, 'ව ඩ': 4412, 'ඩ කරල': 1073, 'ම න': 2933, 'න ස': 1794, 'ස ස': 4816, 'ස ක': 4709, 'ක න': 560, 'කර අමත': 710, 'අමත ව': 189, 'න එ': 1631, 'එ ක': 376, 'හ ද': 4905, 'බ අධ පත': 2498, 'පත ත ම': 2251, 'ඹක ක බ': 3117, 'ක බ ල': 579, 'බ ල හර': 2754, 'ම බ ල': 2951, 'බ ල න': 2750, 'ල න හ': 4252, 'න හ න': 1812, 'ම ව ඩ': 2992, 'ම න ස': 2939, 'න ස ස': 1806, 'ස ස ක': 4818, 'ස ක න': 4711, 'ව ග න': 4396, 'බ ල වනම': 2753, 'ප ද': 2013, 'ත ග': 1152, 'ය න': 3344, 'න හර': 1817, 'හර න': 4978, 'න බල': 1730, 'ප ද න': 2023, 'ද න ත': 1435, 'න ත ග': 1674, 'ග ය න': 852, 'ය න හර': 3360, 'න බල ල': 1731, 'කර ද': 732, 'පර අල': 2308, 'පරය රන': 2352, 'රන ත': 4165, 'ද ධය': 1428, 'න ය': 1746, 'ය අන': 3142, 'අන ව': 133, 'ව ර': 4520, 'ර යය': 4070, 'යය ප': 3677, 'එ තම': 382, 'තම බ': 1317, 'බ ය': 2706, 'ය ඉවරය': 3174, 'කර න': 735, 'න ක': 1641, 'ක අත': 511, 'අත ර': 108, 'පව ල': 2412, 'ල ප': 4253, 'ප ට': 1953, 'br br': 12, 'br ත': 25, 'ත කල': 1151, 'ත අම': 1126, 'අම ම': 186, 'ම ට': 2901, 'ට හ': 1050, 'හ ක': 4880, 'ක ප': 569, 'ප ය': 2122, 'ය ග': 3248, 'ග හ': 869, 'පර අල ල': 2309, 'පරය රන ත': 2353, 'ය ද ධය': 3325, 'න ය අන': 1747, 'ය අන ව': 3145, 'අන ව ර': 134, 'ව ර යය': 4524, 'යය ප ර': 3678, 'ප ර ම': 2146, 'බ ය ඉවරය': 2707, 'ය ඉවරය කර': 3175, 'න ක අත': 1642, 'ක අත ර': 512, 'පව ල ප': 2419, 'ල ප ට': 4254, 'ප ට ඉවරය': 1957, 'ට හ ක': 1051, 'ප ය ග': 2123, 'ය ග හ': 3255, 'බ කත': 2568, 'අප හ': 178, 'ව ය': 4510, 'බ කත අප': 2569, 'ම උන': 2870, 'උන කර': 348, 'ඩ ව': 1096, 'ප ස': 2194, 'ස තක': 4746, 'තක ලය': 1301, 'ලය වට': 4335, 'හ ම': 4920, 'ම උන කර': 2871, 'කර ව ඩ': 753, 'ව ඩ ව': 4421, 'ඩ ව රද': 1099, 'ප ස තක': 2197, 'ස තක ලය': 4747, 'තක ලය වට': 1302, 'ලය වට න': 4336, 'වට න ද': 4600, 'ද හ ම': 1546, 'ර ක': 3970, 'ම සක': 3003, 'සක ක': 4839, 'ක හ': 664, 'හ ත': 4895, 'ක බල': 580, 'ල එක': 4211, 'එක ක': 403, 'ඡන ද': 934, 'ද එප': 1380, 'ර ක ව': 3976, 'ක ව ම': 649, 'ම සක ක': 3004, 'සක ක හ': 4841, 'ක හ ත': 665, 'හ ත ත': 4898, 'සක ක බල': 4840, 'ක බල ල': 581, 'ඡන ද ද': 935, 'යක ප': 3542, 'ල ම': 4267, 'ත ප': 1189, 'ක ල': 620, 'අද න': 112, 'න ව': 1767, 'උබ ක': 362, 'ක යව': 603, 'යව ප': 3793, 'ප වල': 2190, 'වල ව': 4632, 'ර න': 4037, 'හ අඩ': 4874, 'යක ප ර': 3543, 'ප ර ල': 2149, 'ර ල ම': 4081, 'ල ම න': 4268, 'ම න ත': 2935, 'න ත ප': 1679, 'ත ප ස': 1197, 'ප ස ස': 2201, 'ස ක ල': 4712, 'ක යව ප': 604, 'යව ප වල': 3795, 'ප වල ව': 2191, 'වල ව ඩ': 4633, 'ත බ ර': 1209, 'බ ර න': 2727, 'ර න හ': 4043, 'මහ ර': 3045, 'ර ජපක': 4004, 'ජපක ෂ': 975, 'ෂ මහත': 4679, 'මහත ත': 3059, 'ඔබත ම': 465, 'ම ම': 2953, 'ම අව': 2860, 'අව ර': 225, 'ද 8': 1358, 'කල ද': 769, 'ද ශප': 1522, 'ශප ලනය': 4658, 'ස ගත': 4728, 'ගත තන': 880, 'ම තර': 2917, 'න ලන': 1765, 'ලන ක': 4315, 'උබත ම': 363, 'ම ප': 2945, 'ර හ': 4113, 'ද ක': 1385, 'මහ ර ජපක': 3046, 'ර ජපක ෂ': 4005, 'ජපක ෂ මහත': 981, 'මහත ත ඔබත': 3061, 'ඔබත ම ම': 468, 'ම අව ර': 2861, 'අව ර ද': 226, 'ර ද 8': 4026, 'කල ද ශප': 770, 'ද ශප ලනය': 1524, 'න ලන ක': 1766, 'ලන ක න': 4316, 'ම ව හ': 2997, 'ව හ න': 4582, 'න ම ප': 1737, 'ම ප ර': 2948, 'ර හ න': 4115, 'හ න ද': 4911, 'න ද ක': 1690, 'ග ම': 845, 'ස කර': 4719, 'කර ම': 744, 'ම ඩ': 2902, 'ඩ ක': 1067, 'ග ම න': 846, 'ස කර ම': 4722, 'ම ඩ ව': 2903, 'ඩ ව ඩ': 1097, 'ව ඩ ක': 4413, 'ක ව ඩ': 647, 'එකක ව': 410, 'ව න': 4457, 'ග ද': 825, 'හ ට': 4887, 'ව ද': 4438, 'ද උන': 1377, 'ම ය': 2960, 'ව න ත': 4462, 'න ත න': 1678, 'ත න ත': 1181, 'ද ක හ': 1391, 'හ ත ග': 4897, 'ග හ ට': 870, 'ජනත ව න': 967, 'ව න ම': 4466, 'න ම ය': 1739, 'ප ප': 2063, 'ප ගල': 1934, 'ගල ක': 892, 'ක ක': 522, 'ක ලය': 634, 'ලය ම': 4334, 'ම රන': 2976, 'රන ල': 4166, 'ත ප ප': 1193, 'ප ප ගල': 2072, 'ප ගල ක': 1935, 'ගල ක ක': 893, 'ක ක ලය': 527, 'ම රන ල': 2977, 'ඕ අල': 486, 'ල අම': 4199, 'අම ර': 187, 'ර ජ': 3998, 'ජ ත': 940, 'ත යන': 1242, 'යන තර': 3617, 'තර ජ': 1335, 'ජ ල': 951, 'අසරණ ම': 238, 'ස න': 4762, 'ව උ': 4362, 'උ ව': 332, 'ඩ කර': 1070, 'කර ග': 725, 'ග ක': 794, 'ප ත': 1989, 'ය ඇම': 3166, 'න ඉ': 1621, 'පග ව': 2243, 'හ ර': 4935, 'ඕ ර': 495, 'ර ඇත': 3927, 'ඇත ල': 282, 'ල ග': 4231, 'ග නවන': 841, 'ඕ අල ල': 487, 'ල අම ර': 4200, 'ර ජ ත': 4000, 'ජ ත යන': 943, 'ත යන තර': 1243, 'යන තර ජ': 3619, 'අසරණ ම න': 239, 'ස ස න': 4823, 'උ ව ඩ': 333, 'ව ඩ කර': 4414, 'ප ත ය': 2001, 'ය ඇම ක': 3167, 'අල ල න': 220, 'ල න ත': 4249, 'ඕ ර ඇත': 496, 'ර ඇත ල': 3929, 'ව තර': 4434, 'තර ද': 1337, 'ශප ල': 4657, 'පලප ර': 2381, 'ද ත': 1407, 'ය ම': 3404, 'ය ස': 3487, 'ස ල': 4804, 'එප ම': 417, 'ග ර': 853, 'ර වට': 4098, 'ම ච': 2895, 'ච චර': 909, 'චර කල': 928, 'ව තර ද': 4436, 'ද ශප ල': 1523, 'පලප ර ද': 2382, 'ර ද ද': 4028, 'ද ද ත': 1414, 'ද ත ය': 1409, 'ත ය ම': 1239, 'ය ම ය': 3411, 'ය ස ල': 3493, 'ල හ ත': 4305, 'ම ච චර': 2896, 'ච චර කල': 910, 'ඩය ක': 1103, 'සජ ත': 4842, 'ත පක': 1198, 'පක ෂය': 2238, 'ඇව ක': 286, 'ක ට': 541, 'ට ග': 1013, 'ෂය ම': 4691, 'ර කරල': 3983, 'ග ට': 803, 'ට ප': 1028, 'ප න': 2037, 'ග ඩ': 812, 'ත පක ෂය': 1199, 'පක ෂය ඇව': 2239, 'ට ග න': 1014, 'පක ෂය ම': 2242, 'ග ට ප': 806, 'ප ත ත': 1994, 'ත ත ප': 1170, 'ත ප න': 1192, 'ප න තන': 2045, 'ල ඒ': 4212, 'යට ර': 3585, 'ල එ': 4209, 'ල ඕ': 4215, 'යට ර ඇත': 3586, 'අල ල ඕ': 217, 'ඕ ක': 488, 'ක ඩ': 543, 'ඩ ගහ': 1076, 'අය ස': 204, 'ගහ එව': 898, 'එව අල': 420, 'ඩ න': 1083, 'ම හ': 3008, 'හ ය': 4933, 'ය කර': 3238, 'කර ත': 729, 'බ අර': 2510, 'අර ක': 205, 'ර ඇඳ': 3930, 'ත ක': 1142, 'ල ස': 4301, 'ස ප': 4764, 'ර අල': 3899, 'ල ත': 4239, 'ක ඩ ගහ': 546, 'අල ල ව': 221, 'ල ව ඩ': 4288, 'ව ඩ න': 4418, 'ඩ න හ': 1086, 'ම හ ම': 3012, 'හ ම හ': 4928, 'ම හ ය': 3013, 'ය කර ත': 3239, 'කර ත බ': 730, 'ත බ අර': 1201, 'බ අර ක': 2511, 'ර ඇඳ ර': 3931, 'ර න ත': 4040, 'න ත ක': 1673, 'ත ක ල': 1145, 'ල ස ප': 4302, 'ස ප ර': 4766, 'ප ර අල': 2139, 'ර අල ල': 3900, 'ල ත බ': 4240, 'වල ප': 4630, 'ප ගගත': 1927, 'රණ ක': 4152, 'ක ස': 658, 'ස ද': 4754, 'ද ව': 1506, 'ද අහ': 1366, 'අහ ස': 249, 'ස ජනත': 4733, 'ප ගගත ත': 1928, 'ක ස ද': 659, 'ස ද ව': 4760, 'ද ව ද': 1509, 'අහ ස ජනත': 250, 'හම ද': 4961, 'ර කර': 3982, 'කර එ': 714, 'එ අ': 368, 'අ ප': 81, 'ප උපහ': 1880, 'ර ප': 4044, 'න ච': 1665, 'ච ච': 905, 'ච ය': 918, 'ය ක': 3218, 'ක ම': 582, 'ම දවච': 2929, 'දවච ච': 1574, 'ප හ': 2203, 'ලය ක': 4329, 'හම ද ව': 4962, 'අ ප ස': 82, 'ප ස ප': 2199, 'ප උපහ ර': 1881, 'ප ද ක': 2018, 'ක ල න': 624, 'ල න ච': 4248, 'න ච ච': 1666, 'ච ච ය': 907, 'ච ය ක': 919, 'ය ක ම': 3227, 'ක ම දවච': 583, 'ම දවච ච': 2930, 'දවච ච ය': 1575, 'ය ක ප': 3225, 'ක ප හ': 573, 'ප හ ර': 2206, 'ර ත ප': 4014, 'ක ලය ක': 635, 'මර න': 3031, 'ප ල': 2170, 'ක ද': 557, 'ක ලවර': 639, 'x එ': 69, 'එ හර': 402, 'හර ව': 4984, 'ව ක': 4375, 'ක ද ක': 558, 'ක න ස': 568, 'ප ස x': 2195, 'ව ක න': 4378, 'ඉක මන': 298, 'ඕන න': 505, 'උ හ': 334, 'හ ගහ': 4883, 'රට ක': 4132, 'ම ල': 2978, 'ල ක': 4216, 'ක රය': 618, 'ර උන': 3950, 'හ ව': 4947, 'ව ඕ': 4373, 'ඕ ප': 493, 'ප රස': 2168, 'රස ද': 4190, 'ද ධ': 1425, 'ධ ව': 1598, 'න ශ': 1790, 'ශ කර': 4641, 'ර ආය': 3916, 'ම කට': 2885, 'කට එ': 675, 'ම ල ක': 2979, 'බ ර උන': 2717, 'ර උන ක': 3952, 'ක හ ව': 669, 'ව ඕ ප': 4374, 'ප රස ද': 2169, 'රස ද ධ': 4191, 'ද ධ ව': 1427, 'ධ ව න': 1599, 'ව න ශ': 4470, 'න ශ කර': 1792, 'ශ කර න': 4645, 'කර න ත': 736, 'ත න හ': 1187, 'න හ ර': 1814, 'හ ර ප': 4939, 'ර ප ර': 4046, 'ර ආය ම': 3918, 'න ල': 1761, 'ප ඕ': 1897, 'න ල ක': 1762, 'ප ඕ බ': 1898, 'ව දක': 4450, 'ක ණ': 548, 'ණ ද': 1112, 'යන න': 3621, 'න එහ': 1632, 'එහ ම': 425, 'ඉ ම': 294, 'ම ම ව': 2955, 'යන න එහ': 3624, 'ථ ව': 1355, 'ව ආරක': 4354, 'ආරක ෂ': 272, 'ෂ කර': 4665, 'යක ඒ': 3528, 'ආ ම': 252, 'කත කර': 689, 'ඔබ ග': 453, 'ග දර': 826, 'දර ප': 1568, 'ප ග': 1921, 'ග ල': 859, 'බ ණ': 2595, 'ණ න': 1113, 'න ඔ': 1634, 'යක ක': 3530, 'ක ය': 588, 'ය ව': 3450, 'ත ඔබ': 1141, 'කර ප': 739, 'ප ක': 1900, 'යව ඒක': 3780, 'යව එක': 3778, 'එක ව': 408, 'ව නස': 4476, 'ම කක': 2884, 'ව ආරක ෂ': 4355, 'ආරක ෂ කර': 273, 'ෂ කර න': 4667, 'කර න ම': 737, 'න ම කට': 1734, 'යක ඒ කඩ': 3529, 'ඔබ ග දර': 454, 'ග දර ප': 829, 'ප ග ල': 1925, 'ත බ ණ': 1203, 'බ ණ න': 2598, 'යක ක ය': 3531, 'ක ය ව': 593, 'ය ව න': 3457, 'ත ත ඔබ': 1168, 'ප ක යව': 1903, 'යව ඒක කර': 3781, 'ප න ක': 2041, 'යව එක ව': 3779, 'ව පලය': 4489, 'පලය ම': 2393, 'ම ත': 2907, 'ත ව': 1272, 'ව ලල': 4537, 'ද න ව': 1442, 'පලය ම ත': 2394, 'ම ත ව': 2915, 'න ත ව': 1684, 'ආර ථ': 269, 'ද කර': 1392, 'කර අපර': 709, 'තම ත': 1316, 'හම බ': 4963, 'න උබ': 1629, 'අ ද': 80, 'න න': 1706, 'අප ක': 148, 'ල ල': 4279, 'ත ද': 1175, 'ද බල': 1460, 'බටලන ද කර': 2802, 'හම බ න': 4964, 'බ න උබ': 2640, 'ද ද න': 1416, 'ද න න': 1437, 'ක ල ල': 626, 'ල ල ක': 4280, 'ල ක ල': 4225, 'න න න': 1712, 'න න ද': 1711, 'පරම ණ': 2350, 'ච නල': 916, 'ර ග': 3987, 'ග ණ': 819, 'පරම ණ tv': 2351, 'ර ග ණ': 3989, 'න නය': 1718, 'රණව ර': 4155, 'ර සමර': 4109, 'සමර ප': 4863, 'ප ම': 2104, 'ප න නය': 2048, 'ග හ ල': 872, 'ර සමර ප': 4110, 'ප ම ප': 2108, 'ප ප ක': 2069, 'ප ක ර': 1904, 'ජ ජ': 937, 'ව තය': 4432, 'ට බය': 1033, 'ය ත': 3287, 'ර ජ ජ': 3999, 'ජ ජ ව': 939, 'ජ ව තය': 955, 'ග ට බය': 807, 'ව ය ත': 4511, 'හර ඒක': 4972, 'ඒක ව': 441, 'හර ඒක ව': 4973, 'ඒක ව ක': 442, 'ද ය': 1467, 'ය ණ': 3283, 'ණ කර': 1107, 'න ඕ': 1639, 'ර ද ය': 4031, 'ද ය ණ': 1470, 'ය ණ කර': 3284, 'ද ශ': 1520, 'ශ ප': 4648, 'ල අත': 4196, 'අත ග': 106, 'ය ආ': 3155, 'ය ආ ඕ': 3156, 'ම ද': 2918, 'ද ප': 1447, 'ර unp': 3870, 'ක පක': 574, 'පක ෂ': 2234, 'බ ම': 2691, 'ග ව': 862, 'න යත': 1754, 'යත unp': 3589, 'ම ද ප': 2922, 'ද ප ර': 1451, 'ප ර unp': 2137, 'ර unp jvp': 3871, 'පක ෂ 3න': 2235, 'ල බ ම': 4264, 'බ ම හ': 2702, 'ම හ ඳ': 3011, 'ව ය න': 4513, 'ය න යත': 3353, 'යත unp ආස': 3590, 'ල ඉ': 4206, 'ග ල ක': 860, 'හර යන': 4981, 'ත ස': 1290, 'ස හල': 4834, 'හල ජ': 4988, 'ස ර': 4792, 'ර අප': 3884, 'රට ද': 4136, 'හර යන න': 4982, 'යන න ත': 3626, 'න ත ස': 1685, 'ස හල ජ': 4835, 'ප ස ර': 2200, 'ර අප ඉපද': 3885, 'ස ව': 4808, 'ව වල': 4551, 'වල ග': 4628, 'ල ස ව': 4303, 'දර ග': 1563, 'ග දර ග': 827, 'දර ග ත': 1564, 'කර ර': 748, 'න කර': 1655, 'හර ද': 4977, 'ර 135': 3847, 'ර 135 ස': 3848, 'ර ඔ': 3966, 'ඔ ප': 446, 'ප අර': 1861, 'ද ඔ': 1382, 'ඔ ඔය': 444, 'වල ම': 4631, 'ස ජ': 4731, 'ව ත': 4423, 'ආදරය කර': 261, 'ප අර යන': 1862, 'යන න ම': 3630, 'න ම න': 1736, 'ස ස ද': 4822, 'ස ස ජ': 4819, 'ස ජ ව': 4732, 'ජ ව ත': 954, 'අගම ත': 91, 'බ ක': 2553, 'ක ලක': 628, 'ර එප': 3962, 'ද ඩ': 1406, 'දඩ ද': 1554, 'අගම ත ග': 92, 'ත ග ත': 1154, 'බ බ ක': 2673, 'බ ක ලක': 2564, 'ල න ව': 4251, 'න ව න': 1773, 'ව න ක': 4459, 'ර එප ද': 3963, 'ද උ': 1375, 'උ අම': 319, 'උ අම ම': 320, 'න ද ව': 1697, 'ව ද ද': 4439, 'ජන ද': 958, 'ජන ධ': 961, 'ධ ප': 1587, 'ප ව': 2182, 'ර ස': 4102, 'ද ස': 1531, 'ද මළ': 1466, 'මළ ම': 3110, 'ම ස': 2999, 'ල ච': 4234, 'ජන ධ ප': 962, 'ධ ප ව': 1589, 'ප ර ස': 2151, 'ර ස ද': 4106, 'ස ද ස': 4761, 'සජ ත ත': 4843, 'ත ත ය': 1172, 'ත ය ද': 1236, 'ය ද මළ': 3330, 'මළ ම ස': 3111, 'හ ග': 4882, 'ඉල ල': 312, 'ප ළව': 2225, 'ඔක ක': 448, 'ම හර': 3016, 'බ පණ': 2661, 'ඩ ත': 1078, 'ඉ බ': 292, 'ඔක ක ම': 450, 'බ පණ ඩ': 2662, 'ඉ බ ර': 293, 'br අන': 17, 'යක ත': 3539, '6 ප': 1, 'ර අගම': 3875, 'අගම ව': 96, 'මහබ ක': 3094, 'කර හ': 761, 'පල ල': 2374, 'ම කර': 2888, 'ල ද': 4243, 'බ ව': 2758, 'න අප': 1616, 'ම අගම': 2854, 'අර ර': 209, 'ජ න': 945, 'ය නම': 3365, 'නම ම': 1823, 'ස මහ': 4782, 'මහ ම': 3042, 'න අර': 1619, 'යව ද': 3790, 'ය බ': 3401, 'බ ඩ': 2590, 'ඩ ග': 1075, 'ර ඩ': 4008, 'ඩ ස': 1101, 'ට ස': 1049, 'අරග න': 211, 'යක ත 6': 3540, '6 ප ර': 2, 'ප ර අගම': 2138, 'ර අගම ව': 3877, 'මහබ ක කඩ': 3095, 'ද ව ඩ': 1508, 'පල ල හ': 2375, 'එ ක ල': 377, 'ල ද ම': 4245, 'ද ම ම': 1462, 'බ ව න': 2762, 'ව න අප': 4458, 'ජ ජ න': 938, 'ය නම ම': 3366, 'යව ද ගහනක': 3792, 'ය බ ඩ': 3402, 'බ ඩ ග': 2591, 'ත අන': 1124, 'අන ගත': 121, 'ගත දර': 881, 'දර ත': 1566, 'ත උන': 1138, 'නත ත': 1821, 'ව ප': 4480, 'ශ ක': 4638, 'ර තර': 4020, 'තර ම': 1341, 'හ ළ': 4958, 'ළ දක': 4993, 'අන ගත දර': 123, 'ත බ ව': 1210, 'බ ව ප': 2763, 'ව ප ස': 4486, 'න ශ ක': 1791, 'ශ ක ර': 4639, 'ක ර තර': 607, 'හ ළ දක': 4959, 'ව ස': 4554, 'රට ප': 4138, 'ප ලනය': 2179, 'අය කර': 192, 'ප ලව': 2181, 'ව එ': 4366, 'එ දවස': 386, 'දවස ද': 1576, 'ණ රට': 1115, 'රට කර': 4135, 'රන ල ව': 4170, 'කර ම ව': 746, 'ල ක ව': 4226, 'ක ව එ': 641, 'ව එ දවස': 4367, 'එ දවස ද': 387, 'දවස ද ය': 1577, 'ය ණ රට': 3286, 'ණ රට කර': 1116, 'ර ව': 4082, 'අ උත': 74, 'පවත ව': 2431, 'ව අල': 4351, 'අල ම': 214, 'ම කඩ': 2886, 'කඩ ය': 683, 'ක යල': 597, 'යල ප': 3725, 'එ න': 388, 'ඕක ව': 500, 'රණව ර ව': 4156, 'පවත ව අල': 2432, 'අල ම කඩ': 215, 'ම කඩ ය': 2887, 'කඩ ය ක': 684, 'ය ක යල': 3229, 'ක යල ප': 600, 'යල ප ම': 3727, 'ප ම කඩ': 2105, 'ය ක ව': 3232, 'ක ව ක': 643, 'ව ක ල': 4383, 'ප ගන': 1931, 'උස ස': 366, 'ව ල': 4532, 'ග ස': 867, 'ස එ': 4701, 'br ග': 23, 'ය නව': 3369, 'නව ක': 1829, 'ක br': 506, 'br ස': 38, 'ද ග': 1393, 'ස br': 4692, 'ප ගන උස': 1932, 'ල ප ල': 4258, 'ප ල ග': 2172, 'ත ය නව': 1238, 'ය නව ක': 3371, 'ස ර ව': 4796, 'ර ව ල': 4094, 'න ද ග': 1691, 'ග ව ග': 863, 'යක ත ප': 3541, 'ප න යනව': 2052, 'ව අන': 4345, 'ගත අද': 875, 'අද ර': 115, 'අද ය': 113, 'ය පනය': 3396, 'පනය න': 2274, 'ල උබල': 4208, 'ල ජ': 4235, 'ඉ එව': 287, 'අප අන': 138, 'ත උ': 1135, 'උ එ': 323, 'එ ද': 383, 'අප ග': 149, 'ඩ ද': 1081, 'ස සම': 4828, 'සම ව': 4862, 'ඔය ම': 478, 'ර හද': 4118, 'දර ව අන': 1570, 'ව අන ගත': 4346, 'අන ගත අද': 122, 'ගත අද ර': 876, 'අද ර කරල': 116, 'ය පනය න': 3398, 'පනය න අප': 2275, 'ව ත ප': 4424, 'ර ප ල': 4047, 'ල ජ ව': 4237, 'ව ත ස': 4429, 'ස ප ව': 4769, 'අප අන ගත': 139, 'ග ඩ ද': 814, 'ඩ ද න': 1082, 'ද න කර': 1432, 'ම ද ර': 2924, 'ත බ න': 1205, 'බ න හරක': 2648, 'රනව ර': 4171, 'ම ආච': 2864, 'ආච රය': 253, 'තස ත': 1352, 'ත රය': 1261, 'රය ප': 4178, 'ස ට': 4734, 'ත ර': 1245, 'ප ශකය': 2192, 'න යක': 1750, 'යක ඌ': 3526, 'ප කර': 1908, 'එ ව': 397, 'රනව ර ව': 4172, 'ර ව ද': 4089, 'ම ආච රය': 2865, 'ත රය ප': 1262, 'ප න ස': 2057, 'න ස ට': 1801, 'ත ර ප': 1251, 'ප ශකය ස': 2193, 'ත ව න': 1277, 'ප ය ස': 2125, 'ය ස න': 3492, 'න ද න': 1693, 'යක ඌ ප': 3527, 'ප කර එ': 1909, 'ආබ ධ': 267, 'ධ ත': 1583, 'ත රණව': 1257, 'ර වන': 4099, 'වන ව': 4609, 'ව බල': 4496, 'ක ගන': 536, 'බ ස': 2768, 'ම දල': 2927, 'ප ටර': 1969, 'ග උ': 792, 'ආබ ධ ත': 268, 'ධ ත රණව': 1584, 'ත රණව ර': 1258, 'රණව ර වන': 4157, 'ත බ ස': 1211, 'බ ස න': 2771, 'හ ර ක': 4936, 'ර ක බ': 3973, 'බ ල ගණ': 2749, 'ප ටර හ': 1970, 'ඇත ත': 276, 'නස ව': 1837, 'කනග ට': 700, 'ට ව': 1047, 'ව සත': 4571, 'සත ට': 4847, 'ට ය': 1038, 'ය br': 3124, 'ඇත ත ව': 281, 'ව නස ව': 4477, 'ජනත ව හ': 971, 'කනග ට ව': 701, 'ව සත ට': 4572, 'ය br අතහර': 3125, 'බ ම ම': 2700, 'ම ම ර': 2954, 'ගර අගම': 888, 'ද ගල': 1401, 'ප පතර': 2082, 'ර අරගලකර': 3897, 'ත වය': 1286, 'වය ත': 4613, 'හ ඒ': 4879, 'යම ක': 3652, 'ප රත': 2156, 'ද වල': 1519, 'ප පව': 2091, 'පව ග': 2401, 'br න': 27, 'ඹ ර': 3114, 'අප රට': 172, 'ප රම': 2161, 'පර වට': 2328, 'අය බල': 200, 'බල ප': 2828, 'රට ව': 4143, 'න ශය': 1793, 'ව අය': 4350, 'න br': 1611, 'භ ම': 2834, 'ද ට': 1405, 'ට බ': 1032, 'බ ද': 2608, 'ධ මත': 1592, 'ඉඩ ද': 299, 'ඔබ ස': 461, 'ස මද': 4780, 'ල ර': 4277, 'ල අවශ': 4204, 'යල ම': 3734, 'බ රද': 2741, 'ස රස': 4802, 'රස ප': 4192, 'ඉන නව': 311, 'නව කල': 1830, 'පන ව': 2264, 'ව ඔබ': 4370, 'ක පව': 576, 'පව වත': 2423, 'වත ර': 4604, 'ර ය': 4065, 'ගර අගම ත': 889, 'අගම ත ත': 93, 'ත ත ම': 1171, 'ත ම ප': 1224, 'ම ප ද': 2947, 'ප ද ගල': 2020, 'ප පතර ස': 2084, 'ද ව ග': 1507, 'ර අරගලකර ව': 3898, 'වය ත බ': 4614, 'බ බ හ': 2684, 'බ හ ඒ': 2781, 'යම ක ස': 3654, 'ක ස ප': 660, 'ස ප රත': 4767, 'ත ම ව': 1227, 'ව ව න': 4543, 'ප පතර ද': 2083, 'සත ට ව': 4848, 'ප පව ග': 2092, 'පව ග අවබ': 2402, 'න ක ස': 1649, 'ඹ ර න': 3115, 'ර ස කර': 4104, 'ස කර ද': 4721, 'පර වට න': 2329, 'න ක ව': 1648, 'අය බල ප': 201, 'බල ප ර': 2829, 'ප ර ත': 2143, 'ර ත ත': 4012, 'ත ත අප': 1167, 'රට ව න': 4144, 'ව න ශය': 4471, 'ත ත ව': 1174, 'ව න න': 4465, 'න න br': 1707, 'ම ර ද': 2969, 'බ ද ධ': 2613, 'ද ධ මත': 1426, 'ල ව න': 4290, 'ඔබ ස මද': 464, 'ත ව ම': 1279, 'ව ම ල': 4507, 'ල අවශ යත': 4205, 'යත වය ඉට': 3594, 'ව ක යල': 4380, 'ක යල ම': 601, 'යල ම හ': 3738, 'හ ත ක': 4896, 'ද ප ත': 1448, 'ප ත න': 1996, 'බ රද ම': 2742, 'ම ල බ': 2982, 'ල බ ස': 4266, 'බ ස රස': 2774, 'ස රස ප': 4803, 'රස ප ර': 4193, 'පන ව ඔබ': 2265, 'පව වත ර': 2424, 'ර ය ද': 4067, 'ය ද එප': 3316, 'යන ම': 3636, 'ක වය': 653, 'වය ට': 4612, 'මද ග': 3020, 'ඩ ය': 1091, 'ය ර': 3428, 'ර ආව': 3923, 'එද ව': 414, 'යන ම ව': 3637, 'ක වය ට': 654, 'ග ඩ ය': 816, 'ය ර ආව': 3429, 'ර ආව එද': 3925, 'එද ව ල': 415, 'ව ල ක': 4533, 'ව ව ල': 4546, 'න උන': 1627, 'උන ද': 351, 'කල ස': 777, 'ස උස': 4699, 'ස හ': 4830, 'ව බ': 4491, 'න උ': 1625, 'උ ප': 328, 'ව කත': 4386, 'ප න උන': 2040, 'ස උස ස': 4700, 'ස හ න': 4832, 'හ න ව': 4912, 'ව බ ර': 4493, 'බ ර ම': 2729, 'බ හ න': 2787, 'හ න ත': 4910, 'ත ත ත': 1169, 'ව ස ව': 4566, 'ව ද ව': 4446, 'ප රක': 2152, 'රක ශය': 4124, 'ප රශ': 2165, 'රශ ක': 4185, 'යක ප රක': 3544, 'ප රක ශය': 2154, 'ප රශ ක': 2166, 'ට ර': 1043, 'ස වක': 4811, 'ත කර': 1149, 'ය පඩ': 3392, 'පඩ ග': 2248, 'ව එප': 4368, 'ය කන': 3234, 'ඉස සර': 318, 'ණය ග': 1119, 'වන න': 4608, 'හ රක': 4940, 'සල ල': 4869, 'යල අප': 3689, 'අප තම': 153, 'තම ග': 1313, 'ප ට ර': 1962, 'ව ඩ ය': 4420, 'ය පඩ ග': 3393, 'පඩ ග ව': 2249, 'ය කන ත': 3235, 'ප ල ස': 2176, 'න ද ශප': 1698, 'සල ල ද': 4870, 'ම ක යල': 2882, 'යල අප තම': 3690, 'ග ව ව': 865, 'ප මහබ': 2120, 'ස අප': 4695, 'රට ම': 4139, 'ව ඳ': 4478, 'ඳ ම': 1844, 'ර ව න': 4091, 'ශ කර ද': 4644, 'ප මහබ ක': 2121, 'මහබ ක ස': 3097, 'ද න ස': 1443, 'න ස අප': 1796, 'ස අප රට': 4696, 'රට ම න': 4140, 'ද ව ඳ': 1511, 'ව ඳ ම': 4479, 'ය හම': 3512, 'ය එක': 3191, 'ද ය හම': 1479, 'ය හම බ': 3513, 'බ න මස': 2646, 'ම හ ත': 3009, 'ය එක ප': 3192, 'වගක ය': 4593, 'ය ඕ': 3205, 'ෂ පව': 4675, 'වගක ය ඕ': 4594, 'ය ඕ ර': 3210, 'ඕ ර ජපක': 497, 'ජපක ෂ පව': 979, 'ෂ පව ල': 4676, 'ක ග': 533, 'බ කර': 2572, 'ම ද ද': 2920, 'ද ද ක': 1413, 'ද ක ග': 1386, 'ක ග හ': 535, 'ග හ ව': 873, 'හ ව ඩ': 4948, 'බ කර ව': 2574, 'එහ න': 422, 'ට හර': 1054, 'ක ශ': 655, 'ශ වර': 4652, 'සත ව': 4850, 'ප සම': 2202, 'නප ර': 1822, 'ස ඛ': 4725, 'යය අව': 3664, 'අව ල': 227, 'ත රස': 1265, 'රස ත': 4187, 'පනත ප': 2270, 'න උබල': 1630, 'යය අව ල': 3665, 'ත රස ත': 1266, 'පනත ප ර': 2271, 'හ ර න': 4938, 'හ ත න': 4899, 'ජපක ෂල': 984, 'එ ග': 378, 'ර ජපක ෂල': 4006, 'ක දර': 559, 'හම ව': 4967, 'කර ගත': 726, 'කර ගත ත': 727, 'ලනය ක': 4321, 'රක ශ': 4122, 'තනත ර': 1307, 'ර භ': 4054, 'භ ර': 2835, 'කර ක': 721, 'ක ත': 550, 'අපර ද': 179, 'ලය ග': 4330, 'ට ක': 1011, 'ප ලනය ක': 2180, 'ම ත ත': 2908, 'ප රක ශ': 2153, 'රක ශ කර': 4123, 'ශ කර ත': 4643, 'තනත ර භ': 1308, 'ර භ ර': 4055, 'භ ර ද': 2837, 'ර ද ස': 4035, 'ද ස ද': 1535, 'ස ද න': 4757, 'ත බ ය': 1208, 'බ ය ද': 2709, 'ය ද කර': 3318, 'ක ත ව': 555, 'ත ව ඩ': 1275, 'ද ප ස': 1453, 'පවත ද': 2427, 'ලනය ව': 4325, 'ඳ ඒ': 1840, 'ඒ අ': 428, 'ගල ද': 894, 'පළ ඉර': 2472, 'ස කරම': 4724, 'ත ච': 1155, 'ච ඡ': 911, 'ශක ත': 4654, 'ත ඇත': 1129, 'ම ඩය': 2905, 'පමණ br': 2284, 'කණග ට': 687, 'පවත ද ශප': 2428, 'ශප ලනය ව': 4660, 'ව ර ද': 4522, 'ක ර හ': 613, 'ර හ ඳ': 4116, 'හ ඳ ඒ': 4914, 'ක න ප': 566, 'න ප ද': 1721, 'ද ගල ද': 1402, 'පළ ඉර ස': 2473, 'ත ච ඡ': 1156, 'ක ර ය': 610, 'ර ය ව': 4069, 'ය ව ප': 3460, 'ත ඇත ත': 1130, 'වට න න': 4601, 'පමණ br ඔබත': 2285, 'ඔබත ම ද': 467, 'ශප ලනය ක': 4659, 'ව ස ද': 4559, 'ධ රණ': 1595, 'රණ ව': 4153, 'ව ද හ': 4449, 'කව ර': 782, 'ර හර': 4119, 'හර ග': 4976, 'දර හ': 1572, 'ක මර': 587, 'නව ප': 1834, 'අය ග': 193, 'යල ක': 3703, 'ය තර': 3308, 'ර ජක': 4002, 'ජක ර': 957, 'ර අම': 3889, 'න වස': 1787, 'වස ම': 4634, 'න ට': 1667, 'හ උන': 4877, 'හර ක': 4974, 'ත කම': 1148, 'කම න': 704, 'අන කම': 119, 'කම ප': 706, 'ව ලබ': 4536, 'කල ව': 776, 'ම ඩකම': 2904, 'හ ප': 4918, 'ප රව': 2164, 'පර හරනය': 2335, 'කර ල': 751, 'ද අස': 1364, 'අස ව': 236, 'ය වයස': 3474, 'ඉවර න': 315, 'කව ර හර': 783, 'බ ක අගම': 2554, 'ව ත ය': 4427, 'ය නව ප': 3374, 'න ම ද': 1735, 'බ ක යල': 2561, 'ක යල ක': 598, 'යල ක ය': 3704, 'ක ය තර': 590, 'ය තර ර': 3310, 'ර ජක ර': 4003, 'ර න ක': 4038, 'න ක ර': 1646, 'ර අම බලමක': 3890, 'ම න වස': 2938, 'ක ම න': 584, 'ම න ට': 2934, 'ක ය ත': 589, 'ය ත බ': 3295, 'බ ම ක': 2696, 'ම ක ල': 2883, 'ක ල ග': 622, 'ල ග ම': 4232, 'ය අන කම': 3143, 'අන කම ප': 120, 'යම ක ව': 3653, 'ර ස ල': 4107, 'ර අගම ම': 3876, 'බ හ ප': 2789, 'පර හරනය කර': 2336, 'ල ප ද': 4255, 'ප ද අස': 2015, 'ද අස ව': 1365, 'ය වයස ඉවර': 3475, 'න ම ර': 1740, 'ම ර න': 2970, 'න ව ම': 1775, 'යල ද': 3715, 'බ එ': 2537, 'එ අප': 369, 'අප ප': 158, 'ප ඩ': 1980, 'බටලන ද න': 2803, 'ද ව ප': 1512, 'ප ත ක': 1992, 'යල ද ත': 3717, 'ද ත බ': 1408, 'බ බ එ': 2671, 'බ එ අප': 2539, 'ප ඩ ක': 1983, 'ඩ ක ල': 1069, 'ජ ප': 946, 'ප ආව': 1870, 'ජ ප ප': 947, 'ප ප ආව': 2067, 'ප ආව න': 1871, 'න ම ල': 1741, 'ම ල ත': 2980, 'ප උ': 1876, 'දවස ම': 1578, 'ම එද': 2872, 'ග ග': 799, 'බ උන': 2533, 'මද න': 3021, 'ප ද ව': 2031, 'ඔබත ම ග': 466, 'ම ග දර': 2893, 'ප උ ලග': 1877, 'කට ට ක': 677, 'ක ව ව': 651, 'ග ග න': 801, 'ග න බ': 836, 'බ උන හ': 2534, 'හ මද න': 4930, 'ඇල ල': 285, 'උස ව': 365, 'ව යද': 4515, 'යද පන': 3603, 'පන ප': 2258, 'යද පන ප': 3604, 'පන ප ට': 2259, 'ලස සන': 4339, 'කත ව': 691, 'ව ග ත': 4395, 'ලන ක ව': 4317, 'ක න ත': 562, 'ව ය ද': 4512, 'ස බ': 4772, 'බ බද': 2685, 'බ බද වසර': 2686, 'ස ර ල': 4795, 'ද ෂ': 1526, 'ෂ ත': 4672, 'රජ න': 4126, 'න ලධ': 1763, 'ලධ ර': 4314, 'ක ජ': 539, 'ග හර': 874, 'යය උත': 3666, 'ප බ': 2093, 'ඒ තම': 435, 'ස ම': 4775, 'කව ද': 780, 'ත හ': 1298, 'ඒ ත': 434, 'ර අරග': 3895, 'ද ෂ ත': 1527, 'ත ද ශප': 1179, 'න ලධ ර': 1764, 'ක ජ ව': 540, 'ව ව ත': 4542, 'ව ත ම': 4426, 'ත ම ද': 1222, 'යය උත ප': 3667, 'ප බ ම': 2094, 'බ ම කර': 2697, 'ත ම ස': 1228, 'ස ම හ': 4779, 'ජ ත හ': 944, 'ත හ ට': 1299, 'ත ම ත': 1221, 'ම ත ර': 2914, 'ර අරග න': 3896, 'ද බ': 1458, 'ස ද බ': 4758, 'ද බ ද': 1459, 'බ ද ද': 2610, 'ප ක ප': 1901, 'ම රට': 2975, 'ය පල': 3399, 'පල ය': 2372, 'ප ද ආදරය': 2016, 'ය පල ය': 3400, 'පල ය ත': 2373, 'ඩ ප': 1087, 'පන සල': 2266, 'ඉ හ': 295, 'ය ප': 3377, 'ප කරනව': 1917, 'ඒ ග': 432, 'න කත': 1651, 'ග ව ඩ': 864, 'ඩ ප ර': 1088, 'ප ර ව': 2150, 'ව න ස': 4472, 'න ස කර': 1799, 'පන සල ඉ': 2267, 'ඉ හ ම': 296, 'හ ම ද': 4922, 'ද ර ව': 1490, 'ග හ ය': 871, 'ය ප කරනව': 3380, 'ප කරනව ඒ': 1918, 'න කත කර': 1652, 'ස ළ': 4837, 'ළ ජ': 4991, 'ස හලය': 4836, 'ස ළ ජ': 4838, 'ළ ජ ත': 4992, 'උන ග': 349, 'ප යල': 2126, 'යල හ': 3759, 'ගහ ඕ': 899, 'උන ග ග': 350, 'ග ග ත': 800, 'ග ත ප': 821, 'ප යල හ': 2129, 'යල හ ගහ': 3761, 'එ ම': 394, 'ත ස ද': 1292, 'ප ව ත': 2184, 'ව ත ර': 4428, 'ත ර ද': 1249, 'හර ක හ': 4975, 'ම ධ': 2931, 'ධ ය': 1594, 'ත න න': 1182, 'න ද ම': 1694, 'ම ධ ය': 2932, 'ප දඩ': 2034, 'ර මස': 4062, 'මස සල': 3037, 'අභ ය': 184, 'ය වක': 3468, 'ර ක හ': 3977, 'ක හ ර': 668, 'ප දඩ ම': 2035, 'ම ත ද': 2909, 'ර මස සල': 4064, 'ය වක ශගත': 3469, 'ම සය': 3007, 'සය ව': 4866, 'ණය ද': 1120, 'ද අය': 1362, 'ග රවය': 858, 'ද සරන': 1543, 'ක ව ග': 644, 'බ ද සරන': 2624, 'ත යනව': 1244, 'යනව ක': 3640, 'ක එක': 519, 'නව අප': 1828, 'අප උ': 143, 'උ ර': 331, 'ප ත ග': 1993, 'යනව ක එක': 3641, 'අප උ ර': 144, 'ෂ ව': 4683, 'යහ ක': 3831, 'පමණ හ': 2292, 'යග ජනත': 3571, 'ලබ ද': 4326, 'යහ බ': 3833, 'පහලව න': 2466, 'හ ත ර': 4902, 'යහ ක 2015': 3832, 'ර හ ර': 4117, 'පමණ හ රකම': 2293, 'යග ජනත ව': 3572, 'යහ බ ද': 3834, 'පහලව න න': 2467, 'න න හ': 1717, 'ග ප': 842, 'ප ම බ': 2109, 'බ බ ම': 2682, 'බ ම බ': 2699, 'බ ල ල': 2751, 'බලය ත': 2832, 'ණ ක': 1106, 'ස වය': 4812, 'වය කර': 4611, 'හ හ': 4955, 'හ ස': 4951, 'න ඔබත': 1636, 'කම ක': 702, 'ස රය': 4801, 'යනව ද': 3642, 'ලය ත': 4331, 'ළ ර': 4995, 'ර අග': 3872, 'අග ධය': 89, 'ධය ද': 1605, 'යව ඇර': 3772, 'ට එ': 1010, 'බ ණ ක': 2597, 'ජනත ව ස': 970, 'ව ස වය': 4567, 'ස වය කර': 4813, 'ස ස ම': 4826, 'ම හ හ': 3015, 'හ ස ර': 4953, 'න ඔබත ම': 1637, 'යනව ද ක': 3643, 'ක ලය ත': 636, 'ර අග ධය': 3873, 'අග ධය ද': 90, 'ධය ද න': 1606, 'යව ඇර මමන': 3773, 'ද ක ස': 1390, 'ක ස ස': 662, 'ස ස ට': 4820, 'ස ට එ': 4735, 'ස ඇත': 4698, 'පරක ව': 2337, 'ල අන': 4197, 'තව දය': 1349, 'යටව එප': 3588, 'ඇත ත ත': 278, 'ත ත ර': 1173, 'ත ර ග': 1247, 'පරක ව ඩ': 2338, 'න ත ද': 1677, 'රත ම': 4162, 'ඩ රය': 1094, 'බ ලත': 2755, 'ව ට': 4408, 'ප රත ම': 2158, 'ම ර ත': 2968, 'බ ලත ව': 2756, 'ද ග ග': 1394, 'ග දර ව': 830, 'ව ල හ': 4535, 'අන මත': 129, 'ත එ': 1139, 'එ ප': 390, 'පල එ': 2358, 'එ හ': 400, 'ය ව අන': 3451, 'ග න ත': 833, 'එ ප රත': 391, 'පල එ හ': 2359, 'ව ශ': 4552, 'ය ඔ': 3197, 'ඉද ර': 304, 'ර සත': 4108, 'ර br': 3853, 'br ම': 30, 'ය ඔ br': 3198, 'ර br ම': 3855, 'ඒ ව': 439, 'ප ගත': 1929, 'ව සඳ': 4574, 'සඳ ම': 4856, 'නස ව ත': 1838, 'ප ගත ත': 1930, 'ගත ත ව': 879, 'සඳ ම න': 4857, 'ගන න': 883, 'බ කම': 2570, 'මත ව': 3019, 'ප ලකය': 2178, 'ලකය ක': 4312, 'අහ න': 243, 'ද ජ': 1404, 'ව සද': 4573, 'සද න': 4854, 'බ කරනඑ': 2578, 'ජනත ව ක': 966, 'ව ක ස': 4385, 'ගන න හ': 884, 'බ කම මත': 2571, 'ක ම ව': 586, 'ම ව ද': 2993, 'අහ න ස': 244, 'න ස ම': 1803, 'ස ම න': 4776, 'ජ ව ව': 956, 'ර ම ව': 4059, 'ම ව ක': 2988, 'ක ස ව': 661, 'බ කරනඑ ව': 2579, 'ර උන ද': 3953, 'ක හ ද': 666, 'පහව තව': 2468, 'ට දවස': 1023, 'පහව තව ට': 2469, 'හ හර': 4957, 'ල පල': 4259, 'පල ඕව': 2360, 'න ඕව': 1640, 'බ මටව': 2704, 'ද ඕන': 1384, 'ල වට': 4297, 'න කම': 1653, 'ක යනවන': 596, 'යනවන යක': 3646, 'යක අන': 3521, 'ක හ හර': 671, 'ක ව ල': 650, 'පල ඕව එනව': 2361, 'බ මටව ග': 2705, 'ව ම හ': 4509, 'ම හ ද': 3010, 'හ ද ද': 4906, 'ල වට න': 4298, 'වට න කම': 4599, 'න කම ක': 1654, 'යනවන යක අන': 3647, 'ව න හ': 4473, 'ග කත': 796, 'කත ක': 688, 'ක ඉ': 514, 'ඉ න': 291, 'හ රන': 4941, 'ව තම': 4430, 'ද එව': 1381, 'අය ප': 198, 'ග කත ක': 797, 'ත ය ව': 1240, 'හ රන ල': 4942, 'රන ල ප': 4168, 'ල ප න': 4256, 'ප න න': 2047, 'න න ම': 1715, 'යල බ': 3729, 'ඉන ට': 307, 'අස ස': 237, 'ස රට': 4798, 'ක ලව': 638, 'ය සම': 3500, 'ම ව න': 2994, 'ව න ව': 4469, 'න ව ස': 1778, 'යල බ ක': 3730, 'බ ක ද': 2557, 'රට ක ලව': 4134, 'ය සම මත': 3501, 'ස ත': 4739, 'ස ඔබත': 4707, 'ත බ ක': 1202, 'බ ක ස': 2565, 'ස ස ත': 4821, 'ක ර න': 608, 'ස ඔබත ම': 4708, 'න ග': 1658, 'නල එ': 1824, 'ස වල': 4815, 'බර ස': 2824, 'ස කන': 4717, 'කන ධය': 697, 'ධය ක': 1604, 'නව න': 1833, 'න මග': 1743, 'යව ච': 3786, 'අන න': 126, 'ක කත': 530, 'ච නල එ': 917, 'නල එ න': 1825, 'එ න ව': 389, 'ව ස වල': 4568, 'බර ස කන': 2825, 'ස කන ධය': 4718, 'ක යල ද': 599, 'යල ද ම': 3721, 'යව ච නල': 3787, 'අන න ව': 127, 'ව ඇත': 4356, 'ග ට ක': 804, 'ක කත ව': 531, 'ව ඇත ත': 4357, 'ඇත ත බ': 279, 'බ ස ල': 2775, 'තර බ': 1340, 'ආන ඩ': 262, 'වට ට': 4597, 'ට න': 1024, 'න දහස': 1704, 'ත ලය': 1271, 'න වත': 1780, 'යහප ලනය': 3835, 'බ ර ප': 2728, 'ප ර න': 2145, 'ර න ද': 4041, 'න ද ද': 1692, 'ජනත ව ර': 969, 'ව ර වට': 4526, 'යන න ප': 3629, 'ප ත ලය': 2004, 'ල ජ ජ': 4236, 'යහප ලනය ක': 3836, 'තන ත': 1306, 'ර ඉඳ': 3940, 'ය තත': 3304, 'තත ත': 1303, 'තත වය': 1305, 'වග ක': 4590, 'ය ඕන': 3214, 'තම වහන': 1322, 'වහන ස': 4635, 'ම ප ක': 2946, 'ප ක ය': 1902, 'ය ව ව': 3464, 'ල ක ප': 4220, 'ර ඉඳ අ': 3941, 'ය තත ත': 3305, 'තත ත වය': 1304, 'වග ක ය': 4591, 'ය ඕන උඹ': 3215, 'තම වහන ස': 1323, 'බ අය': 2506, 'තර ත': 1336, 'බ දඩ': 2626, 'බ එප': 2543, 'කර එව': 716, 'බ බ අය': 2668, 'බ අය තර': 2508, 'ත ර න': 1250, 'බ දඩ ද': 2627, 'ද ය ත': 1471, 'ය ත කවද': 3292, 'බ එප එ': 2544, 'ඩ කර එව': 1071, 'රද ග': 4164, 'න තක': 1687, 'ව හ ද': 4581, 'ය ක ට': 3221, 'බ ල ව': 2752, 'ල ව ප': 4292, 'පලය ත': 2389, 'ත ෂ': 1288, 'ෂ ර': 4680, 'ප යහප': 2131, 'ප බඩ': 2096, 'ත ජනත': 1159, 'ග කල': 798, 'කල හ': 778, 'ප බලය': 2102, 'පලය ත ෂ': 2390, 'ත ෂ ර': 1289, 'ර ය ත': 4066, 'ය ත ප': 3294, 'ප යහප ලනය': 2132, 'යහප ලනය ත': 3837, 'ප බඩ ව': 2097, 'ත ජනත ව': 1160, 'හ ත ප': 4900, 'ප බලය ද': 2103, 'ය කර යහප': 3241, 'යහප ලනය ර': 3838, 'රට ස': 4147, 'ව භ': 4498, 'භ ව': 2838, 'ව රට': 4527, 'උන ම': 354, 'යල තම': 3713, 'තම අප': 1309, 'අහ ත': 240, 'ය රජ': 3431, 'න ඒ': 1633, 'ආණ ඩ': 254, 'චන ද': 924, 'වත ක': 4602, 'ම අය': 2858, 'ප කරගන': 1915, 'ර ර': 4071, 'ව භ ව': 4500, 'භ ව ව': 2839, 'ව ව ප': 4544, 'ව ප ද': 4483, 'ද හ ප': 1545, 'න උන ම': 1628, 'ම හ ව': 3014, 'යල තම අප': 3714, 'අහ ත ය': 242, 'ය රජ ක': 3432, 'ක ල ක': 621, 'ක ල ව': 627, 'ල ව නස': 4291, 'නස ව න': 1839, 'ඩ ව ස': 1100, 'චන ද ත': 925, 'ය ම න': 3408, 'න වත ක': 1781, 'ප කරගන ව': 1916, 'ව හ ර': 4584, 'අප ගර': 150, 'කර ඕ': 719, 'ඕ ම': 494, 'ලක ජ': 4309, 'හ ණ': 4893, 'ණ ගහ': 1108, 'ක ක ක': 523, 'ප ප හ': 2079, 'හ ණ ගහ': 4894, 'ණ ගහ ඕ': 1109, 'කම ග': 703, 'හ බ': 4919, 'බ news': 2490, 'news එ': 52, 'එ ය': 395, 'ය අච': 3138, 'චර ක': 927, 'පක ර': 2229, 'කර රණව': 749, 'කරල ත': 766, 'ය ආමන': 3158, 'ත රණය': 1256, 'හර ආදරණ': 4971, 'තම ව': 1320, 'ස හර': 4833, 'ද රණව': 1495, 'ධය න': 1607, 'න වන': 1783, 'වන ස': 4610, 'ව පත': 4488, 'ම නස': 2944, 'ධය ල': 1610, 'ව රණව': 4528, 'ව ඉක': 4359, 'ඉක ම': 297, 'ර ථ': 4021, 'ථ කර': 1354, 'ඳ ක': 1841, 'න ර': 1757, 'වය ප': 4618, 'කර ස': 760, 'ස යල': 4785, 'යල රණව': 3739, 'ර ඔව': 3967, 'ම ජ': 2897, 'කය කර': 707, 'මහ ක': 3038, 'ර වල': 4101, 'වල අප': 4626, 'සද ණය': 4853, 'බ ම comments': 2692, 'බ ල ඊ': 2748, 'බ news එ': 2491, 'ය අච චර': 3139, 'ක පක ර': 575, 'පක ර කර': 2230, 'කර රණව ර': 750, 'කරල ත ය': 767, 'ය ආමන ත': 3159, 'ත ම න': 1223, 'ද ක ර': 1388, 'ක ර ර': 611, 'ර ර ය': 4073, 'ද ධය ද': 1429, 'ප ද රණව': 2028, 'ද රණව ර': 1496, 'න වන ස': 1784, 'ක ය ම': 592, 'ය ම නස': 3409, 'ව රණව ර': 4529, 'ප ර ර': 2148, 'ර ර ථ': 4072, 'ර ථ කර': 4022, 'ර ය න': 4068, 'ය න ව': 3356, 'න ව ත': 1772, 'ය ද ඉමහ': 3315, 'ස ව න': 4810, 'න ය ත': 1748, 'ය ත රණව': 3299, 'න ර ග': 1758, 'ර ග ස': 3993, 'ස යල රණව': 4787, 'යල රණව ර': 3740, 'පව ල ස': 2420, 'පක ර වල': 2231, 'අප න': 157, 'ච ද': 913, 'හ ළය': 4960, 'තර න': 1338, 'ච ත': 912, 'ව කර': 4387, 'හ ජ': 4885, 'ක ත ය': 554, 'ත ය ඕ': 1233, 'ය ඕ හ': 3211, 'ව තර න': 4437, 'ක ප ලනය': 571, 'ෂ ව ව': 4684, 'ව ප ග': 4481, 'ප ග ව': 1926, 'ල ල ප': 4282, 'ප ද ර': 2027, 'ත ර ක': 1246, 'ර ආදරය': 3910, 'ර ආදරය න': 3911, 'ද ග න': 1396, 'ර fun': 3860, 'ඒ හ': 440, 'ය යක': 3422, 'යක ගල': 3535, 'ය ගය': 3259, 'ය එප': 3193, 'ණ ම': 1114, 'ය තවම': 3311, 'ඵ තම': 2480, 'තම ක': 1312, 'අල ත': 213, 'පරප ර': 2347, 'අප ර': 169, 'ම ණ': 2906, 'න ත බ': 1680, 'බ ර fun': 2713, 'ර fun ඒ': 3861, 'හ ට ප': 4889, 'න ව ය': 1776, 'ය යක ගල': 3423, 'යක ගල ය': 3536, 'ය ගය අර': 3260, 'ය එප ත': 3194, 'ය ණ ම': 3285, 'ම ල ල': 2984, 'ල ක ය': 4223, 'ය තවම ප': 3312, 'ඵ තම ක': 2481, 'ත ව හ': 1283, 'ව හ ත': 4580, 'පරප ර අප': 2348, 'ර අප ර': 3887, 'ර ප ලනය': 4048, 'ලනය ක ර': 4322, 'ර ක ලය': 3975, 'ප ම ණ': 2106, 'ත රන': 1259, 'එක ර': 407, 'ව සජ': 4570, 'ය ජන': 3269, 'දය ද': 1561, 'ර ඉවර': 3942, 'ඉවර ක': 314, 'න යකය': 1753, 'යකය රට': 3567, 'රට අවශ': 4128, 'ත රන ල': 1260, 'බ ස ර': 2773, 'න ක න': 1644, 'ක න ද': 563, 'ත ක න': 1143, 'ය ජන දය': 3270, 'ජන දය ද': 960, 'ර ඉවර ක': 3943, 'ක ල ත': 623, 'ර ග ක': 3988, 'ග ක න': 795, 'යකය රට අවශ': 3568, 'එකත ව': 411, 'br රට': 34, 'ණය න': 1121, 'න ත හ': 1686, 'ක න ව': 567, 'බ ර ර': 2730, 'ර ර ව': 4074, 'ශ කර ක': 4642, 'බර මන': 2823, 'ට වල': 1048, 'වල ක': 4627, 'ත න ව': 1185, 'ව ට වල': 4411, 'රට ආර': 4129, 'ථ කය': 1353, 'වය ල': 4619, 'බ ත': 2600, 'යල ල': 3743, 'සම ප': 4859, 'ර ණ': 4009, 'රට ආර ථ': 4130, 'ආර ථ කය': 270, 'ය ස වය': 3496, 'ස වය ල': 4814, 'වය ල බ': 4620, 'ල බ ත': 4262, 'බ ත ය': 2601, 'ය br ස': 3127, 'br ස යල': 40, 'ස යල ල': 4789, 'යල ල සම': 3748, 'සම ප ර': 4860, 'ප ර ණ': 2141, 'අ ශ': 87, 'ශ ර': 4649, 'ක කර': 532, 'ජ ය': 948, 'ප ජන': 1947, 'ර ජ ය': 4001, 'ජ ය ස': 950, 'ය ස වක': 3495, 'ප ජන ද': 1948, 'යන න ඕන': 3625, 'කරන න': 763, 'කටය ත': 680, 'කටය ත කර': 682, 'න ප න': 1722, 'ප න ප': 2049, 'න ප ට': 1720, 'ප ට ව': 1965, 'ඕග ල': 501, 'ල අප': 4198, 'කන ද': 695, 'ග සර': 868, 'න කල': 1656, 'කල ක': 768, 'ඩ ඩ': 1077, 'ඩ අප': 1065, 'රට ඉ': 4131, 'හර ස': 4985, 'තම හ': 1325, 'බ ප': 2656, 'ප ළ': 2209, 'ළ ග': 4990, 'ඕග ල ල': 502, 'ව ස එ': 4555, 'ස එ ව': 4702, 'න ස එ': 1797, 'කන ද ග': 696, 'ද ග සර': 1398, 'ක ව න': 648, 'අප රට ඉ': 173, 'හර ස ද': 4986, 'ස ද ද': 4755, 'ද ක ව': 1389, 'ව තම හ': 4431, 'හ ල බ': 4945, 'බ ප ළ': 2660, 'ප ළ ග': 2214, 'තම ස': 1324, 'බය ගහ': 2812, 'පර ද': 2313, 'ඔය ප ට': 475, 'ප ට එ': 1958, 'පර ද න': 2314, 'ඔය ල': 479, 'රක න': 4121, 'න ව ග': 1770, 'ව ග ට': 4393, 'සජ ප': 4845, 'ර මද': 4060, 'මද ස': 3024, 'සජ ප ර': 4846, 'ප ර මද': 2147, 'ර මද ස': 4061, 'ස ත රස': 4744, 'ප ට න': 1961, 'ට න ව': 1026, 'ය ල': 3440, 'ර අග ර': 3874, 'ර ම ත': 4058, 'ම ත ය': 2913, 'ය ල ජ': 3443, 'අධ ර': 118, 'ද අ': 1360, 'අ එ': 75, 'එ එෆ': 374, 'එෆ ල': 426, 'ස ලස': 4807, 'යව ද අ': 3791, 'අ එ එෆ': 76, 'එ එෆ ල': 375, 'එෆ ල ක': 427, 'ව අල ල': 4352, 'ප ප ග': 2071, 'ප ග න': 1924, 'ග නල': 840, 'අය ත': 194, 'බ ට': 2588, 'ට ට': 1017, 'ග එ': 793, 'අය ත ක': 195, 'ත ක ර': 1144, 'අල ල ග': 219, 'බ බ බ': 2680, 'බ බ ට': 2676, 'බ ට ට': 2589, 'ප ද ගලය': 2021, 'ද ල': 1500, 'න කව': 1657, 'රස තව': 4188, 'තව ද': 1348, 'රක ක': 4120, 'යල unp': 3687, 'ව ධ': 4455, 'කල ය': 774, 'බ ගහ': 2586, 'ප හ ද': 2205, 'හ ද ල': 4908, 'ත රස තව': 1267, 'රස තව ද': 4189, 'යල unp ත': 3688, 'ද ස ව': 1538, 'ස ව ධ': 4809, 'කල ය ත': 775, 'ය ත ම': 3296, 'ම න බ': 2936, 'බ ගහ උන': 2587, 'a l': 5, 'l කර': 50, 'ඇත ත ම': 280, 'ඒ කර': 431, 'කර කට': 722, 'ට යව': 1041, 'යව අල': 3770, 'යය වට': 3681, 'ද යක': 1480, 'යක ව': 3547, 'යව මහජ': 3803, 'ද පල': 1455, 'පල අය': 2356, 'යව රට': 3807, 'යල හර': 3762, 'හර හ': 4987, 'එක ස': 409, 'ය යට': 3424, 'යට අරම': 3583, 'අරම ණ': 212, 'කරගත ත': 762, 'අවජ ත': 230, 'හ එක': 4878, 'එක න': 405, 'අක ල': 88, 'ණ ස': 1118, 'යදහස ගන': 3607, 'ර බ': 4050, 'අධ ය': 117, 'පනය උවම': 2272, 'ත ඉ': 1134, 'දර වන': 1571, 'ඕන quot': 503, 'රද ක': 4163, 'දඩ ල': 1555, 'බ ඕන': 2549, 'කර කට ට': 723, 'කට ට යව': 678, 'යව අල ල': 3771, 'යය වට ද': 3682, 'ද යක ව': 1481, 'යක ව න': 3550, 'යව මහජ ද': 3804, 'මහජ ද පල': 3047, 'පල අය ත': 2357, 'ත ව ද': 1276, 'ව ද ප': 4442, 'ප ව ච': 2183, 'ව ච ච': 4400, 'ට යව රට': 1042, 'යව රට ම': 3809, 'ර ප යල': 4045, 'ප යල හර': 2130, 'යල හර හ': 3763, 'යව රට දර': 3808, 'ර ද ග': 4027, 'ග න න': 835, 'ය යට අරම': 3425, 'යට අරම ණ': 3584, 'ය ක ත': 3223, 'ත ම ර': 1226, 'ල ම ර': 4269, 'ම ර ණ': 2967, 'යදහස ගන අවත': 3608, 'ම ර බ': 2971, 'ර බ ර': 4051, 'බ ර කම': 2722, 'අම ර ව': 188, 'ර ව හ': 4097, 'හ ය ග': 4934, 'ය ග ම': 3254, 'ය පනය උවම': 3397, 'පනය උවම ව': 2273, 'ව ද න': 4440, 'න ත ඉ': 1671, 'ය ඕන හ': 3217, 'ව රද ක': 4531, 'දඩ ල බ': 1556, 'බ ඕන quot': 2550, 'එච චර': 412, 'බ ඒක': 2547, 'ඒක හර': 443, 'උ ම': 330, 'පර ක': 2310, 'ක රට': 614, 'රට සම': 4148, 'ව ත බ': 4425, 'බ බ ඒක': 2672, 'බ ඒක හර': 2548, 'පර ක ශණ': 2311, 'කටය ත ක': 681, 'යව හ': 3812, 'යව හ ද': 3813, 'හ ද න': 4907, 'ක ලකණ': 629, 'ලකණ ණ': 4311, 'br ර': 33, 'ප මල': 2116, 'ශ ත': 4647, 'ක ලකණ ණ': 630, 'ඉද ර ප': 305, 'ප මල ශ': 2117, 'ය ඕ ක': 3208, 'ඕ ක යල': 489, 'දක න': 1551, 'න මහ': 1745, 'මහ න': 3039, 'ද එ': 1378, 'ද අල': 1363, 'මහ න ද': 3040, 'න ද එ': 1689, 'අර ව': 210, 'යක ජ': 3537, 'ඒ ක': 430, 'පල ග': 2362, 'ක එ': 517, 'යක ජ ත': 3538, 'ක ග ර': 534, 'ග ර ත': 854, 'ර ත ය': 4016, 'ය ඕ ඒ': 3207, 'ක හ ම': 667, 'හ ම ම': 4925, 'ග දර ත': 828, 'දර ත බ': 1567, 'බ න එක': 2641, 'එක න ප': 406, 'ය ද පල': 3327, 'පල ග දර': 2363, 'බ ක එ': 2555, 'ක එ න': 518, 'ල මහත': 4272, 'ක යන': 594, 'රන ල මහත': 4169, 'ල මහත ත': 4273, 'මහත ත ක': 3062, 'ක යන න': 595, 'යන න අප': 3623, 'ව න දහස': 4464, 'ය යන': 3426, 'යන ඇ': 3613, 'ප ද ය': 2026, 'ද ය යන': 1474, 'ය යන ඇ': 3427, 'යන ඇ ග': 3614, 'බ උගත': 2531, 'ස ග': 4726, 'ර ට': 4007, 'ට ද': 1022, 'බ අටව': 2495, 'ප ර ද': 2144, 'බ උගත කම': 2532, 'ස ග න': 4727, 'ග න ය': 838, 'ය ග න': 3252, 'න න ප': 1713, 'බ අටව ප': 2496, 'අප අප': 140, 'අප ඕ': 147, 'ර ගන': 3995, 'ර රක': 4075, 'බ දහ': 2634, 'ප wenava': 1855, 'ප අසරණ': 1867, 'ය apita': 3122, 'ව wenna': 4341, 'ය wadinnam': 3134, 'ර ubalage225': 3868, 'ස බ දහ': 4773, 'බ දහ ක': 2635, 'ප wenava ekath': 1856, 'කර ප ර': 740, 'ල ක ද': 4219, 'ද ප ප': 1450, 'ප ප අසරණ': 2066, 'ප අසරණ wela': 1868, 'ය apita kanna': 3123, 'ජ ව wenna': 953, 'ය wadinnam ubala': 3135, 'ර ubalage225 darupaultika': 3869, 'ම සජ': 3005, 'ලය එ': 4328, 'එ බ': 392, 'එ බ ල': 393, 'ල ව ට': 4287, 'බ ද ධය': 2614, 'ප න කණ': 2042, 'ඔච චර': 451, 'චර ප': 930, 'කථ කර': 693, 'චර ම': 932, 'චර ප ත': 931, 'ත ය ග': 1235, 'ය ග ඔ': 3249, 'හ ව ද': 4949, 'ව ද ර': 4444, 'ද ර ප': 1487, 'ක ර ව': 612, 'ර ව ඩ': 4087, 'ප ත පත': 1998, 'ග ල ල': 861, 'අප ම': 166, 'ය හ': 3504, 'නල න': 1826, 'පල ද': 2367, 'ය හ ගන': 3506, 'හ ව න': 4950, 'න න ග': 1709, 'පල ද ඩවනව': 2368, 'එක ග': 404, 'ප ද ල': 2030, 'ද ල ස': 1502, 'ග ම ම': 847, 'අප ද': 154, 'ද br': 1359, 'තර අප': 1332, 'අන ගතය': 124, 'br අප': 18, 'ද රට': 1492, 'රට ය': 4141, 'ව අප': 4347, 'ගත හ': 882, 'යන br': 3609, 'br හ': 41, 'ඕ br': 485, 'br ක': 21, 'මහත ම': 3075, 'ම br': 2848, 'ර ආය එප': 3917, 'කර ද ය': 734, 'ද ය න': 1473, 'ය න ත': 3347, 'න ත ර': 1683, 'ය ව අප': 3452, 'යන br හ': 3610, 'ය ඕ br': 3206, 'මහත ම br': 3076, 'අප ර ව': 171, 'ල අව': 4202, 'ර වර': 4100, 'ල ඉල': 4207, 'අර ම': 207, 'යන ස': 3638, 'ට ල': 1046, 'බඩ ග': 2807, 'ර ඕ': 3968, 'ල අව ර': 4203, 'ම ක යන': 2881, 'යන ස දර': 3639, 'ප ට ල': 1963, 'හ ම ර': 4926, 'ම ර ඕ': 2964, 'ප හම': 2207, 'ඔ න': 445, 'ව පව': 4490, 'ප හම දව': 2208, 'බ නම': 2649, 'යගත ත': 3581, 'ල යල': 4275, 'යල කන': 3706, 'ම නව': 2942, 'ව නව': 4474, 'එ උබල': 372, 'ප ත බ': 1999, 'බ නම ඒව': 2650, 'යගත ත අප': 3582, 'අප ම ල': 168, 'යල කන නද': 3707, 'ම නව කල': 2943, 'ම න ව': 2937, 'ද න ම': 1439, 'න ව ඩ': 1771, 'කර න හ': 738, 'ඔය ව': 480, 'ක ඩ ක': 545, 'ඩ ක රය': 1068, 'ය ද ශප': 3333, 'අප ල': 174, 'ඉ ත': 289, 'ප ඡන': 1942, 'ව සහ': 4578, 'ප ඔක': 1888, 'ල එ ද': 4210, 'ප ඡන ද': 1943, 'ද ව න': 1510, 'න න ත': 1710, 'ප ඔක ක': 1889, 'උබල ත': 364, 'තම ම': 1318, 'ම ර ව': 2973, 'කල ම': 772, 'ව ඒ': 4369, 'කර ණ': 728, 'කර ප ල': 741, 'ප ල ව': 2174, 'ල ව බ': 4293, 'බ ර ද': 2726, 'ද ප ල': 1452, 'ල ව ද': 4289, 'කර ද න': 733, 'ද රණ': 1493, 'ප ද ද': 2022, 'ඉන ද': 308, 'ප තව': 2009, 'හ br': 4873, 'br ප': 28, 'ද ව ය': 1513, 'ව ය ප': 4514, 'ය ප තව': 3382, 'ප තව දය': 2010, 'ප ත තක': 1995, 'ල ඔක': 4213, 'ඡ ට': 933, 'ම අප': 2857, 'ප උන': 1878, 'උන ප': 353, 'මළ උ': 3106, 'ව අවස': 4353, 'බලප ම': 2831, 'ල තම': 4242, 'අප ජ': 151, 'ය කව': 3246, 'කව ම': 781, 'ව වග': 4549, 'ල ඔක ක': 4214, 'ප උන ප': 1879, 'ප ව ද': 2185, 'මළ උ ඡ': 3107, 'ම ද ස': 2926, 'බ හ හර': 2794, 'ව ව ව': 4547, 'ය කව ම': 3247, 'ව වග ක': 4550, 'උ ක': 324, 'යල ඔප': 3699, 'කර උස': 712, 'ප ල හ': 2177, 'ල හ ව': 4307, 'යක ක ල': 3532, 'න ව රද': 1777, 'යල ඔප කර': 3700, 'කර උස ව': 713, 'න න ක': 1708, 'ප ටව': 1973, 'ඒ ච': 433, 'ඉත හ': 301, 'වල ද': 4629, 'ද තම': 1411, 'ගම ය': 886, 'ඒ ඒ': 429, 'රය ව': 4182, 'ද න ග': 1433, 'ප ටව ග': 1974, 'ය න ම': 3350, 'ම ල ම': 2983, 'ර ත බ': 4015, 'බ ණ ඒ': 2596, 'ව ම ප': 4505, 'ප ක රය': 1905, 'ද සජ': 1539, 'ප ඩ ප': 1986, 'න ද සජ': 1700, 'ද සජ ප': 1540, 'ග ජ': 802, 'ඩ රස': 1095, 'ර එකත': 3956, 'ය ද ක': 3317, 'ර එකත ර': 3957, 'ය ද ම': 3328, 'ද ම ල': 1464, 'පන න': 2254, 'මකබ ව': 3018, 'ය තර ම': 3309, 'පන න හ': 2255, 'ර කරව': 3984, 'රට වට': 4145, 'ර ල ක': 4079, 'රට වට න': 4146, 'ව ක ද': 4377, 'ව ල ව': 4534, 'ල ව ක': 4286, 'පහ ව': 2451, 'බ එ හර': 2542, 'පහ ව ඩ': 2452, 'ම අන': 2856, 'ප ඩම': 1987, 'ත ය ක': 1234, 'ය ක දර': 3224, 'ඉන ද ය': 309, 'ද ය ව': 1477, 'දක ණ': 1550, 'ට උඩ': 1009, 'ප ළව ට': 2226, 'මන ස': 3027, 'යක අම': 3522, 'අය ව': 203, 'මන ස ස': 3028, 'යක අම ර': 3523, 'බ අය ව': 2509, 'තර න ව': 1339, 'ව ම ව': 4508, 'අනත ර': 136, 'දය න': 1562, 'රය බ': 4179, 'ව ර ත': 4521, 'ක රය බ': 619, 'ප මන': 2114, 'ඕ ග': 490, 'ප මන කඩ': 2115, 'ක ව ඕ': 642, 'න ය ද': 1749, 'ප ල ක': 2171, 'රණව ර ස': 4158, 'සන ව': 4855, 'ව අ': 4342, 'අ උ': 73, 'උද ර': 347, 'ඩ අඩ': 1063, 'අඩ ව': 102, 'නව ව': 1836, 'යව කට': 3784, 'ට ම': 1037, 'ගහ උ': 897, 'ය ටක': 3281, 'උ න': 327, 'ත ජ': 1157, 'ව ව ඩ': 4541, 'ක ක ඩ': 524, 'ඩ අඩ ව': 1064, 'ව නව ව': 4475, 'යව කට ට': 3785, 'ය හ එලව': 3505, 'ය ටක ක': 3282, 'ක ඩ න': 547, 'ඩ න ත': 1084, 'න ත ජ': 1675, 'ත ජ ව': 1158, 'ර ද ව': 4033, 'ක ෂ': 656, 'ණ ඩ': 1111, 'පර ක ෂ': 2312, 'ක ෂ කර': 657, 'කල ම හ': 773, 'වහල ල': 4637, 'රට හද': 4149, 'තව ව': 1350, 'ල කඩ': 4228, 'කම න ට': 705, 'ව බල ල': 4497, 'න පර': 1726, 'පර අඩ': 2306, 'ප අව': 1863, 'ඕ ව': 498, 'නග හ': 1820, 'ට ත': 1019, 'ප බබ': 2098, 'ප ඔහ': 1895, 'පර අඩ තර': 2307, 'ය නව ත': 3372, 'ප අව ර': 1864, 'ත ස ස': 1293, 'ස ස ර': 4827, 'ද ර ග': 1484, 'ඕ ව න': 499, 'ක ප ර': 570, 'හ ට ය': 4891, 'ට ය ත': 1039, 'ය ත එද': 3289, 'බ ර ව': 2732, 'ව න ර': 4467, 'ප බබ බ': 2099, 'බ ව හ': 2767, 'ව හ ස': 4586, 'ස ර ක': 4793, 'ප ඔහ කර': 1896, 'ය ද ධ': 3324, 'ප පලය': 2089, 'පලය අප': 2385, 'පය හර': 2302, 'බ ඉන': 2525, 'ඉන න': 310, 'br ඒ': 20, 'ත ප පලය': 1194, 'ප පලය අප': 2090, 'පලය අප පය': 2386, 'පය හර යන': 2303, 'යන න න': 3628, 'න න බ': 1714, 'බ ඉන න': 2526, 'න br br': 1612, 'ව උත': 4363, 'උත ස': 345, 'ස අය': 4697, 'ස බල': 4774, 'ඔබ ප': 460, 'වය හම': 4622, 'මහත ත ස': 3064, 'ත ස ත': 1291, 'ස ත ව': 4745, 'ත ව ප': 1278, 'ය ත කලය': 3291, 'ත හ ත': 1300, 'ත ව උත': 1273, 'බටල වදකග': 2799, 'බටල වදකග ර': 2800, 'බ බ ප': 2679, 'බ ප ම': 2658, 'ප ම නව': 2107, 'රට අගම': 4127, 'ම ඔබ': 2873, 'ද ස ම': 1536, 'ප ටල': 1971, 'ත අම ර': 1127, 'හ ස ප': 4952, 'ප ටල එ': 1972, 'මස ව': 3036, 'න මන': 1744, 'ස සය': 4829, 'ග ර මස': 855, 'ර මස ව': 4063, 'යන න මන': 3631, 'මන ස සය': 3029, 'ම න හ': 2940, 'අප උත': 145, 'උත තම': 342, 'තම ච': 1314, 'ච රය': 922, 'රය br': 4175, 'br අරගල': 19, 'පන නල': 2256, 'ච ර': 920, 'ප ළප': 2223, 'රණව ර හ': 4159, 'අප උත තම': 146, 'උත තම ච': 343, 'තම ච රය': 1315, 'පන නල ඒ': 2257, 'ප ළප ල': 2224, 'අභ ත': 180, 'ල ය': 4274, 'ය ජයග': 3275, 'ජයග රහණය': 995, 'ලක ර': 4310, 'ෂ ක': 4664, 'අන ත': 125, 'ම ළ': 3017, 'කය ව': 708, 'ස කරනව': 4723, 'කරනව ප': 764, 'අභ ත රණව': 181, 'ය ජයග රහණය': 3277, 'ජපක ෂ ක': 976, 'ප දඩ සක': 2036, 'ය අන ත': 3144, 'ත ම ම': 1225, 'ම ම ළ': 2956, 'න ස ක': 1798, 'පල ද ශප': 2369, 'න ස කරනව': 1800, 'ප ද කලක': 2019, 'ට පච': 1030, 'පච ක': 2244, 'අහ බල': 245, 'ඩ එක': 1066, 'ප එකත': 1884, 'ය අප': 3146, 'අප ව': 175, 'ට පච ක': 1031, 'පච ක ල': 2245, 'අප ද ක': 155, 'ප එකත කර': 1885, 'ය අප ව': 3148, 'අප ව ඩ': 176, 'ය ජ': 3267, 'ය ජ ය': 3268, 'ය ස ක': 3488, 'පර ම': 2322, 'පර ම ට': 2323, 'ආන ද': 264, 'ද ලනය': 1503, 'ලනය උ': 4318, 'උ අය': 321, 'අය අ': 190, 'අ ග': 77, 'ය ඉක': 3170, 'ආන ද ලනය': 266, 'ද ලනය උ': 1504, 'ලනය උ අය': 4319, 'උ අය අ': 322, 'අය අ ග': 191, 'අ ග ඩ': 78, 'ඩ ය ඉක': 1092, 'ය ඉක මන': 3171, 'ඕන ක': 504, 'ර ngo': 3864, 'තම ව ඩ': 1321, 'ම ල ප': 2981, 'ල ප ර': 4257, 'ප ර ngo': 2136, 'ර ngo ක': 3865, 'ත ර ත': 1248, 'ශය ම': 4661, 'ප පතරය': 2085, 'යකය බ': 3565, 'චර තය': 929, 'තය ව': 1330, 'තර ස': 1342, 'ම ල ව': 2985, 'ප පතරය අහ': 2086, 'ස ස ප': 4824, 'ස ප ල': 4768, 'යකය බ හ': 3566, 'බ හ රන': 2791, 'බ හ ස': 2793, 'ස ක ශ': 4713, 'හ ට ට': 4888, 'බ ර එප': 2718, 'ව ඩ ද': 4417, 'න හ ද': 1811, 'ව ස ල': 4565, 'දන න': 1557, 'යව ඔළ': 3782, 'යව ඔළ ද': 3783, 'ය ගත තන': 3258, 'ය රට': 3433, 'යය පනය': 3679, 'පනය හ': 2276, 'ස තරල': 4750, 'ත ආර': 1128, 'පව ද': 2408, 'ගල ව': 895, 'රත පලය': 4160, 'පලය හ': 2395, 'උත ර': 344, 'ය ලය': 3447, 'ලය ද': 4332, 'උ පව': 329, 'අවශ ය': 231, 'බ පව': 2663, 'කල න': 771, 'ය රට අද': 3434, 'යය පනය හ': 3680, 'පනය හ ම': 2277, 'හ ම බ': 4924, 'ම බ ද': 2950, 'ද ද ස': 1419, 'ද ස තරල': 1534, 'බ අය ත': 2507, 'පව ද ගල': 2409, 'ද ගල ව': 1403, 'ද ය ල': 1475, 'ය ල පව': 3444, 'ගල ව ද': 896, 'ව ද ය': 4443, 'ය ව ද': 3456, 'ය ල අවශ': 3441, 'යත වය ඉද': 3595, 'ර ආව එ': 3924, 'ප රත පලය': 2157, 'රත පලය හ': 4161, 'පලය හ ට': 2396, 'බ හ උ': 2780, 'ද ය ලය': 1476, 'ය ලය ද': 3449, 'ලය ද ස': 4333, 'ය ලය අවශ': 3448, 'යත වය එස': 3596, 'බ එ ප': 2540, 'ය ත වය': 3302, 'බ පව ද': 2664, 'ය ල එහ': 3442, 'එහ න ම': 424, 'න ම ක': 1733, 'ල ක බ': 4221, 'බ ර රජය': 2731, 'ය බ ර': 3403, 'ක ලය ද': 637, 'හ ම න': 4923, 'න හ ව': 1815, 'ම ස ර': 3002, 'බ තඩ': 2604, 'බ බ තඩ': 2677, 'බ තඩ ම': 2605, 'බ අන හ': 2502, 'අන ර': 130, 'සහ ය': 4871, 'ය අත': 3140, 'යන තර සහ': 3620, 'ය අත ද': 3141, 'ක ලකන': 631, 'ඕ ද': 491, 'පලය බය': 2391, 'පලය බය ගහ': 2392, 'ය ඕ ම': 3209, 'ඩ ම': 1090, 'ව ඩ ම': 4419, 'ප රන': 2160, 'ක ක ල': 526, 'ව ක ක': 4376, 'ණයග ත': 1122, 'ද ෂප': 1529, 'ෂප ල': 4689, 'ර day': 3858, 'ආර ධ': 271, 'පර ද ෂප': 2315, 'ද ෂප ල': 1530, 'ෂප ල ව': 4690, 'ර day එ': 3859, 'ල ක ක': 4218, 'කර ෂණ': 757, 'ද 4': 1357, 'තර කල': 1334, 'උඩ පන': 335, 'br ල': 35, 'ර ත ව': 4018, 'ත ව කර': 1274, 'ව කර ෂණ': 4389, 'කත ව න': 692, 'ර ද 4': 4025, 'ව තර කල': 4435, 'ය altra': 3120, 'ද රන': 1497, 'ය ඔන': 3203, 'ය altra pro': 3121, 'ය ඔන හ': 3204, 'බ අප': 2503, 'බ ඇ': 2517, 'බ බ අප': 2667, 'බ අප ත': 2505, 'බ බ ඇ': 2669, 'බ ඇ ද': 2518, 'ප අප': 1859, 'ගත ග': 877, 'ය උපද': 3186, 'ප අප හ': 1860, 'ය උපද දර': 3187, 'ම ඔය': 2875, 'කර ය': 747, 'නව br': 1827, 'මහත ත ම': 3063, 'ය න හ': 3359, 'බ එ අත': 2538, 'ක ක ත': 525, 'ය ඔ හය': 3200, 'ඔය ක': 471, 'බටල වදක': 2797, 'ඳ ප': 1843, 'ය නන': 3363, 'බටල වදක ග': 2798, 'ග ර හ': 856, 'හ ඳ ප': 4916, 'ය නන ක': 3364, 'ල හ ඳ': 4306, 'හ ඳ ම': 4917, 'ල ත ය': 4241, 'උ ත': 325, 'කර කර': 724, 'යලන ම': 3764, 'ව සය': 4575, 'ස ම ව': 4778, 'උ ත ර': 326, 'ත ර ස': 1253, 'යලන ම ව': 3765, 'ම ව ස': 2996, 'පල ග න': 2364, 'ග න ව': 839, 'න ව ප': 1774, 'ව ප ල': 4485, 'අ ඊ': 72, 'කර ශනය': 754, 'ශනය අඩ': 4655, 'අඩ ර': 101, 'ය න ක': 3346, 'න ක ල': 1647, 'ල ග ර': 4233, 'ව කර ශනය': 4388, 'කර ශනය අඩ': 755, 'ධ රය': 1596, 'ලබ ද ය': 4327, 'ය ත ය': 3298, 'ඩ න ම': 1085, 'ර රණව': 4076, 'ම උත': 2868, 'ද ව ර': 1515, 'ර ද ර': 4032, 'ද ර රණව': 1488, 'ර රණව ර': 4077, 'ර ව ම': 4092, 'ව ම උත': 4502, 'ම උත තම': 2869, 'ර එහ': 3964, 'ර එහ න': 3965, 'ට අය': 1007, 'කර එප': 715, 'ට අය කර': 1008, 'ය සහ': 3502, 'ය සහ br': 3503, 'ස ල බ': 4806, 'පලව වත': 2399, 'වත ව': 4605, 'ස තල': 4751, 'ර ධප': 4036, 'ළ ස': 4997, 'පලව වත ව': 2400, 'ද ද ම': 1417, 'අන ර ධප': 132, 'ය ඕග': 3212, 'ශ ව': 4650, 'කර ෂණය': 758, 'ණ ව': 1117, 'ද ය ක': 1469, 'ය ක ය': 3228, 'ය ඕග ල': 3213, 'ල ල ව': 4284, 'ව ශ ව': 4553, 'ශ ව ස': 4651, 'ව ස න': 4560, 'ත ර ව': 1252, 'ව කර ෂණය': 4390, 'ම අ': 2852, 'ද පහ': 1456, 'අර මන': 208, 'ස එකක': 4704, 'ය න අව': 3345, 'ර ද පහ': 4030, 'ද පහ ව': 1457, 'පහ ව තර': 2453, 'බ අර මන': 2512, 'ව ස එකක': 4556, 'ව බර': 4495, 'බර අඩ': 2819, 'කන ධය න': 699, 'ධය න ව': 1609, 'බර අඩ ව': 2820, 'ආන ද ල': 265, 'යව rockets': 3768, 'ය company': 3128, 'බ බන': 2687, 'යව rockets ට': 3769, 'ය company ත': 3129, 'ත බ බන': 1207, 'බ ලව': 2757, 'දහස ව': 1582, 'ට න ද': 1025, 'න ද ස': 1699, 'ද ස ක': 1532, 'ක න දහස': 564, 'න දහස ව': 1705, 'ද ගත': 1399, 'ම ද ගත': 2919, 'ද ගත ත': 1400, 'ක හර': 672, 'ර a': 3851, 'ක හර ක': 673, 'ක ය ප': 591, 'ය ප ල': 3388, 'ප ර a': 2134, 'ර a l': 3852, 'ය ම ම': 3410, 'ම බර': 2952, 'ධය න ම': 1608, 'න ම බර': 1738, 'අප අ': 137, 'හ ඉ': 4875, 'යල රනව': 3741, 'වය ද': 4615, 'ප ද රනව': 2029, 'ර අප හ': 3888, 'ස යල රනව': 4788, 'යල රනව ර': 3742, 'ද ත ව': 1410, 'ත ව ස': 1282, 'ව ස ට': 4558, 'ර ව ක': 4086, 'වය ද ස': 4616, 'ද ස යල': 1537, 'ර ව අප': 4083, 'ව අප උත': 4348, 'එ ත': 379, 'යල ඇඟ': 3695, 'එ ත බ': 380, 'බ ව ද': 2761, 'ද හ ල': 1547, 'හ ල ක': 4944, 'ව ක ලව': 4384, 'යල ඇඟ ල': 3696, 'ල මල': 4271, 'මහන වර': 3089, 'වර ව': 4624, 'ද ෂණය': 1528, 'ක ඉවර': 515, 'ත බල': 1212, 'ය මහන': 3418, 'ම ඉ': 2866, 'අය ද': 196, 'ක ච': 537, 'ච ව': 923, 'ව කල': 4391, 'න වර': 1785, 'ඔය ඔක': 469, 'න ව ක': 1769, 'මහන වර ව': 3091, 'ය ද ෂණය': 3336, 'ඔක ක ඉවර': 449, 'ව න ග': 4460, 'න ග හ': 1662, 'ය මහන වර': 3419, 'මහන වර ටව': 3090, 'ච ච ව': 908, 'ප කර කර': 1911, 'ඔය ඔක ක': 470, 'ර ව ය': 4093, 'ය ද ෂණ': 3335, 'සර ක': 4867, 'ම කල': 2889, 'ර ඉන': 3938, 'ර න ග': 4039, 'ර ඉන ද': 3939, 'ව ද ස': 4448, 'ට රණව': 1044, 'ද සරණය': 1542, 'ල බ ව': 4265, 'බ ව ක': 2759, 'ව ක ර': 4381, 'ස ට රණව': 4736, 'ට රණව ර': 1045, 'ඔබ ස ම': 463, 'ස ම බ': 4777, 'බ ද සරණය': 2623, 'න වහන': 1788, 'වත ද': 4603, 'බ රග': 2733, 'ත මහ': 1229, 'ම වර': 2998, 'වර ද': 4623, 'එ ල': 396, 'ධ න': 1586, 'ළ ප': 4994, 'ව ම න': 4504, 'න වහන ස': 1789, 'වහන ස ල': 4636, 'ග ප න': 843, 'ප න වත': 2055, 'න වත ද': 1782, 'ජනත ව ම': 968, 'ව බ රග': 4494, 'බ රග ල': 2736, 'ය හ ම': 3510, 'ල ද ය': 4246, 'ය br ම': 3126, 'ස ද ධ': 4756, 'න ත ම': 1681, 'ත ම ක': 1218, 'ය ද මය': 3329, 'තම හ ත': 1326, 'ල ක හ': 4227, 'ෂණය අඩ': 4688, 'ද නග': 1445, 'යය ක': 3670, 'කර ෂණය අඩ': 759, 'හ ට ම': 4890, 'ට ප ර': 1029, 'ශනය ක': 4656, 'චර අඩ': 926, 'අඩ ක': 97, 'යනවන අර': 3644, 'හම බන': 4965, 'බන ත': 2811, 'ල යව': 4276, 'යල දන': 3723, 'කර ශනය ක': 756, 'ක ච චර': 538, 'යනවන අර හම': 3645, 'හම බන ත': 4966, 'ර කට එ': 3979, 'යල දන න': 3724, 'දන න න': 1558, 'පස තරම': 2443, 'පස තරම ස': 2444, 'තය ස': 1331, 'අල ල ක': 218, 'ම අහ': 2862, 'අත ල': 109, 'න රට': 1760, 'ම අහ ත': 2863, 'අහ ත බ': 241, 'බ න ල': 2647, 'ව න රට': 4468, 'න ග ය': 1661, 'ය න මග': 3351, 'ය ජනත': 3271, 'ද එතක': 1379, 'ය ජනත ව': 3272, 'ය න ද': 3348, 'ය වජ': 3470, 'ද දහ': 1422, 'ත රව': 1263, 'රව ද': 4183, 'පමණ ප': 2288, 'ප වත': 2189, 'ය වජ රය': 3471, 'බ ද දහ': 2611, 'ත රව ද': 1264, 'පමණ ප වත': 2289, 'දක න උ': 1552, 'a href': 3, 'href https': 45, 'https www': 47, 'www youtube': 67, 'youtube com': 70, 'com watch': 42, 'watch v': 63, 'v wfoygnihpm': 61, 'wfoygnihpm amp': 65, 'amp t': 6, '0 45': 0, 'ප ළඟ': 2219, 'br a': 10, 'ප ටසක': 1976, 'භ ග': 2833, 'ග අ': 788, 'ග ආව': 790, 'ල ට': 4238, 'ඉ ක': 288, 'a href https': 4, 'href https www': 46, 'https www youtube': 48, 'www youtube com': 68, 'youtube com watch': 71, 'com watch v': 43, 'watch v wfoygnihpm': 64, 'v wfoygnihpm amp': 62, 'wfoygnihpm amp t': 66, 'ප ළඟ br': 2220, 'br a href': 11, 'ප ටසක br': 1977, 'ප ඩ එක': 1981, 'ව භ ග': 4499, 'ල ව ව': 4296, 'ව ව ස': 4548, 'ප පච': 2080, 'පච ච': 2246, 'ඉල ලග': 313, 'න වරඑළ': 1786, 'වග ල': 4592, 'ප පච ච': 2081, 'ය ව හ': 3467, 'ප ට ද': 1960, 'අප ප න': 159, 'ප න වරඑළ': 2056, 'යපන ය': 3650, 'දක න ක': 1553, 'ම ර ස': 2974, 'ර ස ක': 4103, 'යපන ය ව': 3651, 'ඩය ප': 1104, 'ගහ ව': 900, 'ව හද': 4587, 'ඩය ප ල': 1105, 'ත න ල': 1184, 'ක ව හද': 652, 'ද ය ස': 1478, 'මහත ම ග': 3077, 'හ කර': 4881, 'එප ක': 416, 'යම න': 3659, 'ත ව ල': 1281, 'ය ග බ': 3253, 'බ හ කර': 2782, 'බ දම': 2630, 'බ දම අන': 2631, 'තර ක': 1333, 'ඩ ව නස': 1098, 'දල ල': 1573, 'ම දල ල': 2928, 'ස ක ත': 4710, 'බ ර ගහ': 2725, 'ප ව න': 2186, 'එව හ': 421, 'බ නව': 2651, 'ර ග න': 3990, 'බ නව න': 2653, 'පස කරම': 2439, 'පස කරම කත': 2440, 'ග න ම': 837, 'ඔය හ': 482, 'ග මත': 849, 'ද රව': 1498, 'රව ය': 4184, 'ය වල': 3476, 'ද රව ය': 1499, 'ය වල ම': 3477, 'ම ක කර': 2878, 'ක ඒ': 520, 'ක ර බ': 609, 'බ ක යන': 2560, 'බ ස ක': 2769, 'ය රන': 3438, 'ය රන ල': 3439, 'මහත ත ඉස': 3060, 'ඩ පරණ': 1089, 'පරණ න': 2339, 'ග ඩ පරණ': 815, 'පරණ න ව': 2340, 'බ රන': 2743, 'පළ ගන': 2474, 'යත වය ත': 3597, 'බ රන ල': 2744, 'පළ ගන න': 2475, 'ත ට': 1165, 'යත බර': 3591, 'යත බර අඩ': 3592, 'ද දහම': 1424, 'වරණය ව': 4625, 'br ද': 26, 'ළ ව': 4996, 'බ ද දහම': 2612, 'ප ළ ව': 2216, 'ක අ': 510, 'ය ඉද': 3172, 'අර ග': 206, 'අ ව': 86, 'මන ත': 3025, 'ර mbbs': 3862, 'යද කරල': 3601, 'ර 95': 3849, 'යල උජ': 3697, 'මව ද': 3033, 'ය පන': 3394, 'පන ය': 2260, 'කරල කරල': 765, 'පලප ල': 2383, 'පර යෂණ': 2324, 'යෂණ ත': 3827, 'ක සහත': 663, 'ඉස ප': 316, 'පත ව': 2252, 'ග තම': 824, 'ප private': 1853, 'ර අහ': 3903, 'අ ය': 83, 'ය ෂ': 3484, 'ඹය ව': 3118, 'ය ඉද ර': 3173, 'ර ග හ': 3994, 'ර mbbs සහත': 3863, 'යද කරල ගත': 3602, 'ද ල ක': 1501, 'ර 95 ල': 3850, 'ය ක යව': 3230, 'යව ප ල': 3794, 'ල ක යල': 4224, 'යල උජ ර': 3698, 'ය පන ය': 3395, 'පන ය ප': 2261, 'ය ප ඩ': 3381, 'ප ඩ කරල': 1984, 'පලප ල ග': 2384, 'ය ග ද': 3251, 'පර යෂණ ත': 2325, 'යෂණ ත ම': 3828, 'ම ද න': 2921, 'ය ද න': 3326, 'ඉස ප ර': 317, 'ර ත ලය': 4017, 'ප ද ප': 2024, 'ප ප private': 2064, 'ප private ඉස': 1854, 'බ ර අහ': 2714, 'ර අහ ස': 3905, 'ය ව ලස': 3463, 'ක ත බ': 553, 'ය ෂ තම': 3485, 'ඹය ව ග': 3119, 'බ ද ප': 2616, 'ප ය න': 2124, 'ය න වහන': 3358, 'ය ඕන ක': 3216, 'න යමය': 1756, 'ම ක ග': 2879, 'ආන ඩ ව': 263, 'බ එ ව': 2541, 'ප යල ප': 2127, 'යල ප ව': 3728, 'ප ව ය': 2188, 'ඔය ද': 473, 'පල ත': 2365, 'ය තම': 3306, 'පල ත උ': 2366, 'ය තම බර': 3307, 'යම න ත': 3660, 'ත ප ව': 1196, 'ව ක ය': 4379, 'ය ස හ': 3497, 'ල ව ය': 4295, 'ය ව ට': 3454, 'තල ක': 1343, 'ක ලග': 632, 'ලග ණය': 4313, 'ස තල ක': 4752, 'තල ක ලග': 1344, 'ක ලග ණය': 633, 'ව ඉ': 4358, 'උන ව': 355, 'උසස ව': 367, 'යඑව අර': 3515, 'පක ව': 2232, 'ය ද ද': 3321, 'ද ද ද': 1415, 'ද ක න': 1387, 'යඑව අර ධ': 3516, 'පක ව ද': 2233, 'ක න න': 565, 'ව ණ': 4422, 'ස නස': 4763, 'ව ර ව': 4525, 'ර ව ණ': 4088, 'මය ස': 3030, 'වය ස': 4621, 'ස ත ප': 4742, 'ර br br': 3854, 'ප br': 1848, 'සම ජය': 4858, 'ජය ව': 990, 'බ ණ ප': 2599, 'ප br ප': 1850, 'ය ත ත': 3293, 'බ හ ව': 2792, 'ඉත ම': 300, 'අඩ ව ව': 105, 'br br ම': 14, 'ම ද ම': 2923, 'ම br br': 2849, 'br br br': 13, 'පල ප': 2370, 'පල ප ත': 2371, 'ප ත ප': 1997, 'බ ඉ': 2521, 'ඔව ද': 483, 'ට තම': 1021, 'න හ හ': 1816, 'හ හ බ': 4956, 'බ ඉ අගම': 2522, 'ද ආබ': 1367, 'ස යළ': 4790, 'යළ ව': 3845, 'ය උත': 3176, 'ප ද ආබ': 2017, 'ද ආබ ධ': 1368, 'ධ ත ව': 1585, 'ව ස යළ': 4564, 'ස යළ ව': 4791, 'යළ ව ර': 3846, 'ර හ ජ': 4114, 'හ ජ ත': 4886, 'ජ ත ය': 942, 'ත ය උත': 1232, 'ය උත තම': 3177, 'ද සරණ': 1541, 'ප ද ස': 2032, 'ව බ ද': 4492, 'බ ද සරණ': 2622, 'ග ව ස': 866, 'ව ස ප': 4561, 'ය ප ළ': 3390, 'ප ළ බ': 2215, 'රණය ව': 4154, 'ය ක අන': 3219, 'ක රමස': 616, 'රමස හ': 4173, 'හ මහත': 4932, 'මහත ව': 3083, 'ෂ ප': 4674, 'ව ක රමස': 4382, 'ක රමස හ': 617, 'රමස හ මහත': 4174, 'මහත ව ශ': 3084, 'කර පමණ': 743, 'එ හ ම': 401, 'න ඩ': 1668, 'ප ච': 1936, 'පළ ත': 2476, 'ඩ හර': 1102, 'ව සව': 4577, 'ය අහල': 3153, 'පහල ප': 2462, 'ළ ක': 4989, 'ව ස කර': 4557, 'කර ම න': 745, 'ද න ඩ': 1434, 'ප ච ළම': 1941, 'පළ ත බ': 2477, 'බ ඩ හර': 2592, 'ඩ කර ම': 1072, 'ස ත ද': 4741, 'ය අහල පහල': 3154, 'පහල ප ච': 2463, 'ප ච දර': 1939, 'ප ළ ක': 2213, 'යල ව': 3749, 'ප යල ව': 2128, 'යල ව තර': 3750, 'පරය වර': 2354, 'න ඉන': 1623, 'අය ම': 202, 'ද ඉද': 1373, 'කට යව': 679, 'යව බ': 3799, 'බ ඕනන': 2551, 'ය එප තත': 3195, 'පරය වර ග': 2355, 'පල ල හය': 2376, 'න ඉන ද': 1624, 'ද ඉද ර': 1374, 'ර කට යව': 3981, 'යව බ ඕනන': 3800, 'බ ඕනන intercontinental': 2552, 'යව ප ළ': 3796, 'ප ළ එච': 2211, 'ම ක ත': 2880, 'බර න': 2822, 'ව අඩ': 4343, 'න ව අඩ': 1768, 'ව අඩ ව': 4344, 'ම අඩ': 2855, 'න හ ම': 1813, 'න අඩ': 1614, 'මද ම': 3022, 'න ඔය': 1638, 'ආදර ම': 258, 'ම ස ද': 3001, 'ත ග ඩ': 1153, 'හ මද ම': 4931, 'බ ම අය': 2694, 'ල බ ක': 4261, 'බ ක ප': 2559, 'ම ග ඩ': 2891, 'ටව එ': 1057, 'බ ස ද': 2770, 'බ න ත': 2642, 'තම ම ල': 1319, 'වන ද': 4607, 'ය ව වන': 3465, 'යක ව ඉල': 3548, 'ග අය': 789, 'පල ව': 2377, 'අය බ': 199, 'ට කර': 1012, 'පල ව වත': 2378, 'වත ව ම': 4606, 'බර ග': 2821, 'ග ඩ අඩ': 813, 'යල ල අන': 3744, 'ත බ ද': 1204, 'බ ද වද': 2620, 'අප ප ර': 160, 'දර ග හ': 1565, 'අව ව': 228, 'අව ව ව': 229, 'ව ව ට': 4540, 'න ඉත': 1622, 'බ හ ත': 2784, 'ව උසස': 4365, 'ව දර': 4454, 'ප ඇම': 1874, 'ය ප ඇම': 3378, 'ප ඇම බලධ': 1875, 'ය ත ව': 3301, 'යව පව': 3797, 'යව පව ග': 3798, 'පව ග ය': 2403, 'ය හ ඳඉ': 3509, 'යන ත': 3615, 'යන ත න': 3616, 'ක tourism': 508, 'tourism board': 57, 'board එ': 8, 'br promote': 15, 'promote කර': 53, 'ත උඩබල': 1136, 'උඩබල ඉන': 338, 'ල ක tourism': 4217, 'ක tourism board': 509, 'tourism board එ': 58, 'board එ ත': 9, 'එ ත ම': 381, 'ම ක br': 2877, 'ක br promote': 507, 'br promote කර': 16, 'promote කර න': 54, 'න ත උඩබල': 1672, 'ත උඩබල ඉන': 1137, 'උඩබල ඉන න': 339, 'යවක ශ': 3815, 'ය දන': 3338, 'යවක ශ ගත': 3816, 'ය දන න': 3339, 'ය උප': 3183, 'උප ද': 356, 'ම සම': 3006, 'උප ධ': 358, 'ත සම': 1297, 'පබඩ ද': 2282, 'ඩ ර': 1093, 'ස ටර': 4737, 'ටර ක': 1055, 'ක රමය': 615, 'ඩ තවම': 1079, 'තවම සය': 1351, 'සය ඩ': 4864, 'සය බ': 4865, 'බ අ': 2492, 'ල අය': 4201, 'රස ස': 4194, 'යය උප': 3668, 'ය අය': 3149, 'හ ම ව': 4927, 'ද ය උප': 1468, 'ය උප ද': 3184, 'න න ව': 1716, 'ය උප ධ': 3185, 'උප ධ ත': 359, 'බ ය ත': 2708, 'ය ත සම': 3303, 'පබඩ ද ප': 2283, 'ද ප ළ': 1454, 'ප ළ එස': 2212, 'ය ස ව': 3494, 'ර ස ටර': 4105, 'ස ටර ක': 4738, 'ටර ක රමය': 1056, 'ව ඩ තවම': 4416, 'ඩ තවම සය': 1080, 'ය ව ඩ': 3455, 'න ඩ ව': 1669, 'බ හ ද': 2785, 'ර ග ව': 3992, 'බ අ ප': 2493, 'ප ස අය': 2196, 'රස ස ව': 4195, 'යය උප ධ': 3669, 'ය අය ග': 3150, 'බ ද රජ': 2618, 'ස ල ක': 4805, 'න ද ර': 1696, 'ද ර වන': 1491, 'ව යන': 4516, 'ර ද න': 4029, 'ද ව යන': 1514, 'ත ව ර': 1280, 'පය ස': 2300, 'ප අවද': 1865, 'පය ස එ': 2301, 'බ නව කනව': 2652, 'ප ප අවද': 2065, 'ප අවද නය': 1866, 'උඩ යන': 336, 'උඩ යන න': 337, 'න ප ව': 1725, 'ය ප ර': 3384, 'ප ර ග': 2140, 'කර ඒ': 717, 'ස කර ඒ': 4720, 'ද ද ය': 1418, 'ද ය ද': 1472, 'ය ද දන': 3322, 'ජන ව': 964, 'එ ස': 399, 'ප නය': 2058, 'මහර ද': 3100, 'ස ර ථ': 4794, 'ර ථ ව': 4023, 'ථ ව න': 1356, 'ව ද ල': 4445, 'ප නය හද': 2059, 'මහර ද ය': 3101, 'ය ව නවන': 3458, 'මහත ස': 3085, 'මහත ස ද': 3086, 'ධ මත ව': 1593, 'ද ශය': 1525, 'මහප ළ': 3092, 'රට න': 4137, 'මහප ළ ව': 3093, 'ය හ ත': 3507, 'ප බර': 2100, 'ප බර අඩ': 2101, 'ව ප න': 4484, 'ප න ව': 2053, 'ය කරද': 3242, 'කර ඔන': 718, 'බ ක න': 2558, 'න ද ය': 1695, 'බ න න': 2644, 'ය කරද හ': 3243, 'ව ගය': 4398, 'ත වරණය': 1287, 'බ ව ට': 2760, 'ව ට න': 4410, 'ඳ වර ය': 1845, 'ය හම බන': 3514, 'හ තල': 4903, 'ක කට': 528, 'ක කට ට': 529, 'ආතර ස': 255, 'ම තම': 2916, 'යල අහ': 3691, 'ප ච ක': 1937, 'ආතර ස ක': 256, 'ක ල මහත': 625, 'මහත ම තම': 3078, 'යල අහ ත': 3692, 'න ක හ': 1650, 'ක හ ස': 670, 'ශල ග': 4662, 'ග රය': 857, 'ය මන': 3413, 'මන ද': 3026, 'ම යග': 2961, 'යග ම': 3573, 'ව br': 4340, 'ශල ග රය': 4663, 'ය මන ද': 3415, 'යග ම ත': 3574, 'ම ත න': 2910, 'ර අර': 3891, 'ර අර ක': 3893, 'න අය': 1618, 'අඩ න': 100, 'ට යන': 1040, 'ඕ ද න': 492, 'ද න හ': 1444, 'න හ ට': 1810, 'හ ට යන': 4892, 'අභ යවක': 185, 'යවක ශගත': 3817, 'යවක ශගත ක': 3818, 'බ ඩය': 2593, 'ච ග': 904, 'එත ම': 413, 'ක න ක': 561, 'න ක ය': 1645, 'ය ක බ': 3226, 'බ ඩය ක': 2594, 'ච ච ග': 906, 'ල ල ද': 4281, 'ස ච': 4729, 'ද ඉත': 1371, 'ස ච ර': 4730, 'ෂ හ': 4687, 'ම ර ක': 2966, 'ජපක ෂ හ': 983, 'පන ල': 2262, 'පන ල ස': 2263, 'බ ම ව': 2701, 'ම ව ට': 2991, 'ට න හ': 1027, 'ප ථ': 2011, 'බ කල': 2580, 'ප ථ ව': 2012, 'බ කල ක': 2581, 'අන ශ': 135, 'බ අප උ': 2504, 'ත ද ව': 1178, 'හ ත ම': 4901, 'අඩ ක යල': 98, 'යල ව ල': 3751, 'ර ව උත': 4084, 'ව උත තම': 4364, 'තල ව': 1346, 'හ තල ව': 4904, 'ල වන': 4299, 'යව ඉද': 3774, 'මර ව': 3032, 'ප ල වන': 2175, 'ල වන න': 4300, 'ව ව ක': 4539, 'ස ද ය': 4759, 'ය න න': 3349, 'එ ව ද': 398, 'යව ඉද බල': 3775, 'ත ප ත': 1191, 'බ ඉ ත': 2523, 'ඉ ත බ': 290, 'ල කව': 4230, 'කව ස': 784, 'ස ය': 4783, 'ණ ට': 1110, 'ව ස ස': 4569, 'ය ර ප': 3430, 'ක ණ ට': 549, 'බ දහ හ': 2636, 'ප ද ම': 2025, 'ප ච මල': 1940, 'ය න ර': 3354, 'න ර ව': 1759, 'යන තර අව': 3618, 'ය ස කන': 3490, 'න හ ක': 1809, 'ප ජ': 1944, 'ජ කළ': 936, 'න ඇත': 1620, 'කළ ව': 787, 'ප ඇන': 1872, 'බ ර ග': 2723, 'ත ප ජ': 1190, 'ප ජ කළ': 1946, 'ය ප න': 3383, 'ප න ඇත': 2039, 'ප ඇන ම': 1873, 'ම ද ව': 2925, 'කර ඕන': 720, 'ධය අඩ': 1602, 'br බර': 29, 'ත වජ': 1284, 'වජ ත': 4595, 'ms 2': 51, 'ශ කය': 4640, 'යල br': 3685, 'කන ධය අඩ': 698, 'ධය අඩ ව': 1603, 'අඩ ව න': 103, 'යල ද නග': 3719, 'න අඩ ව': 1615, 'අඩ ව බර': 104, 'ර ත වජ': 4019, 'ත වජ ත': 1285, 'වජ ත වරණය': 4596, 'br ක ය': 22, 'ව ද ශ': 4447, 'ද ශ කය': 1521, 'යල br news': 3686, 'ප ඩ ඩ': 1985, 'ය ප රච': 3385, 'ය ල ම': 3446, 'යල ස': 3752, 'අන ර ක': 131, 'ර ක ම': 3974, 'ක ම ර': 585, 'ර ආව හර': 3926, 'රට ක යල': 4133, 'ක යල ස': 602, 'යල ස ත': 3753, 'පස ජනප': 2441, 'කත රය': 690, 'පස ජනප අගම': 2442, 'ය ආ ම': 3157, 'යව ම': 3801, 'හ සය': 4954, 'ප ත වට': 2005, 'යව ම න': 3802, 'ස ස br': 4817, 'ද ඉත හ': 1372, 'ඉත හ සය': 302, 'ක ප ව': 572, 'ප ව ප': 2187, 'ය මව': 3416, 'ආශ ර': 275, 'ප රධ': 2159, 'පවත අධ': 2425, 'පවත ශ': 2433, 'ය අර': 3151, 'හය හ': 4970, 'හ ඟ': 4884, 'න ස ය': 1804, 'ය මව ලන': 3417, 'ග න ක': 832, 'ය ද ල': 3332, 'පවත අධ ව': 2426, 'ය ද ෂ': 3334, 'පවත ශ තල': 2434, 'ය අර ධද': 3152, 'ආ එ': 251, 'ප ට ආ': 1956, 'එ ද න': 385, 'ද න ද': 1436, 'ප ට අය': 1955, 'පරන ත': 2345, 'ත කදව': 1146, 'කදව ර': 694, 'යග ස': 3579, 'බ ආබ': 2513, 'ර සරන': 4112, 'ප ත ඇත': 1990, 'ත ඇත ල': 1131, 'පරන ත කදව': 2346, 'ත කදව ර': 1147, 'ම යග ස': 2962, 'යග ස යල': 3580, 'ද උ ව': 1376, 'ප ල බ': 2173, 'බ ආබ ද': 2514, 'ත ර සරන': 1255, 'ද න ර': 1441, 'ය ස කට': 3489, 'ල කල': 4229, 'මහත තය': 3065, 'යල ත': 3710, 'මහත තය ල': 3069, 'යල ත බ': 3711, 'බ බන ර': 2688, 'තල ව ඩ': 1347, 'අඩ ග': 99, 'යල ආතර': 3693, 'යල ග': 3708, 'ඩ කල': 1074, 'යල ආතර ස': 3694, 'යල ග ඩ': 3709, 'යව වග': 3810, 'යව වග ල': 3811, 'ක අප': 513, 'ලනය උන': 4320, 'ද ලනය උන': 1505, 'ල ල ර': 4283, 'ල ර මස': 4278, 'බ හ කල': 2783, 'ත ය න': 1237, 'ය න වන': 3357, 'න දක': 1702, 'යව හද': 3814, 'එහ න දක': 423, 'ස කච': 4715, 'කච ඡ': 674, 'පර සරය': 2332, 'ය ව ස': 3466, 'ස කච ඡ': 4716, 'පර සරය ද': 2333, 'ඔය ස': 481, 'පර බ': 2320, 'පර බ ර': 2321, 'බ ර ඔය': 2720, 'බ ර ඔ': 2719, 'න ක ඩ': 1643, 'ර අඩ': 3880, 'ර අඩ ක': 3881, 'ර න ස': 4042, 'අප ස': 177, 'ඒ ම': 438, 'අප පව': 163, 'උපද ආත': 360, 'අප පව ල': 164, 'පව ල 3ද': 2413, 'පව ල ඉපද': 2415, 'පවසම හ': 2435, 'ත සද': 1296, 'ද ඔබ': 1383, 'පවසම හ ර': 2436, 'න ග ම': 1660, 'යල හ ග': 3760, 'ව ඉඳ': 4361, 'ප අඩව': 1857, 'බ හ ඉස': 2779, 'ස හ ද': 4831, 'ද ස ත': 1533, 'ත ද ක': 1177, 'ප අඩව එත': 1858, 'පහන උණ': 2458, 'උණ ස': 340, 'පහන උණ ස': 2459, 'නක ම': 1819, 'ඔව ස': 484, 'ෂ න': 4673, 'ක ට ස': 542, 'ය නව ද': 3373, 'ඉද න': 303, 'පර න': 2316, 'පර න ව': 2317, 'ර chemistry': 3856, 'ප පර': 2087, 'පර co2': 2304, 'ප ර chemistry': 2135, 'ර chemistry ප': 3857, 'ප පර co2': 2088, 'පර co2 ඇහ': 2305, 'ඔබ න': 459, 'ස ස බ': 4825, 'න ස ල': 1805, 'යට ර ප': 3587, 'මහත මහස': 3079, 'මහස වට': 3104, 'මහත මහස වට': 3080, 'මහස වට ස': 3105, 'ප කර ව': 1912, 'න ප ල': 1724, 'ම ව ග': 2989, 'යන බ': 3634, 'ෂ කර ද': 4666, 'ව යන බ': 4517, 'යන බ ද': 3635, 'ට අඩ': 1005, 'ව ඉන': 4360, 'බ ඇඟ': 2519, 'ප ඒ': 1886, 'බ ඇඟ හ': 2520, 'ප ප ඒ': 2068, 'ප ඒ ව': 1887, 'ම උ': 2867, 'ර උද': 3948, 'ද වර': 1518, 'පමණ න': 2286, 'සද අමරණ': 4852, 'යක උ': 3524, 'ඹ ද': 3112, 'ර quot': 3866, 'හ ම ත': 4921, 'න අප ර': 1617, 'ක පව ද': 577, 'පව ද ව': 2411, 'ර උද ර': 3949, 'පව ල අය': 2414, 'පමණ න ව': 2287, 'බ ද ර': 2617, 'බ ර ගන': 2724, 'යක උ පව': 3525, 'ඹ ද ර': 3113, 'ර quot න': 3867, 'ර කල': 3985, 'ම අල': 2859, 'ර කල ද': 3986, 'ය ම අල': 3405, 'තය ප': 1327, 'අප පච': 161, 'ව තය ප': 4433, 'තය ප ජ': 1328, 'ප ජ කර': 1945, 'අප පච ච': 162, 'ච ද ව': 914, 'ය ඇත': 3162, 'ව ර ය': 4523, 'ය ඔ ඇමත': 3199, 'ප ඨ': 1978, 'ප ඨ ලබ': 1979, 'ය film': 3130, 'ශ ට': 4646, 'ය film ලන': 3131, 'ය ච': 3265, 'ය ච බර': 3266, 'ත ම උන': 1216, 'යල ල න': 3747, 'ව ස ම': 4562, 'ව න ට': 4461, 'හ ලය': 4946, 'හර ප': 4979, 'උත ත': 341, 'අප ආග': 142, 'ඔ ව': 447, 'ත ඒ': 1140, 'යද ශ': 3605, 'ට අප': 1006, 'ම ලය': 2986, 'අප අප ආග': 141, 'යද ශ ට': 3606, 'ය ඉ': 3168, 'පළම ව': 2478, 'පස ස': 2447, 'යවත වහන': 3821, 'ශ ස': 4653, 'ස එක': 4703, 'ය ඉ බ': 3169, 'ර උන ඔහ': 3951, 'පළම ව පක': 2479, 'පක ෂ ප': 2236, 'ප බ හ': 2095, 'බ හ ර': 2790, 'පස ස න': 2448, 'යවත වහන ස': 3822, 'ය ක රක': 3231, 'යල ද බ': 3720, 'ත කර ප': 1150, 'යල ම ප': 3737, 'යව එ': 3776, 'එ එ': 373, 'යව එ එ': 3777, 'දවස හර': 1579, 'ල ක ම': 4222, 'ප කර ක': 1910, 'ර සරණ': 4111, 'පප ප': 2278, 'ත ර සරණ': 1254, 'පප ප ච': 2279, 'ප ච ච': 1938, 'ර ආබ': 3914, 'ර ඝ': 3996, 'ඝ ය': 901, 'ෂ ල': 4681, 'යග අභ': 3569, 'ර ආබ ධ': 3915, 'ද ර ඝ': 1485, 'ර ඝ ය': 3997, 'ඝ ය ෂ': 902, 'ය ෂ ල': 3486, 'ෂ ල බ': 4682, 'බ ව ම': 2765, 'යග අභ ත': 3570, 'ව න ද': 4463, 'අවස ථ': 234, 'අවස ථ ව': 235, 'ය හ ඳ': 3508, 'න යම': 1755, 'යම ජනපත': 3657, 'යම ජනපත ත': 3658, 'ර ආරක': 3921, 'ර ආරක ෂ': 3922, 'ක උන': 516, 'ෂ ම': 4677, 'එය ල': 418, 'ර අගය': 3878, 'ය උන': 3179, 'වය න': 4617, 'ප ටකය': 1966, 'ස ඔබ': 4705, 'ඔබ ත': 457, 'පල හ': 2379, 'දන නව': 1559, 'ඇත ත ක': 277, 'ත ය හ': 1241, 'පක ෂ ම': 2237, 'බ ව සදග': 2766, 'ය නව එය': 3370, 'ප ට අක': 1954, 'ර අගය ද': 3879, 'ත ය ඇත': 1231, 'ය ඇත ත': 3163, 'ය උන ග': 3180, 'බ හ දක': 2786, 'අප ර බ': 170, 'බ රග ප': 2734, 'බ උ ත': 2529, 'ප ටකය ග': 1967, 'බ උ ස': 2530, 'බ අන ව': 2501, 'ර අප ද': 3886, 'ද ධය න': 1430, 'ස ඔබ ත': 4706, 'ඔබ ත ම': 458, 'පල හ ර': 2380, 'ර ක ක': 3971, 'ට භය': 1036, 'ග ට භය': 808, 'ත ද ඔබ': 1176, 'ග ඨ': 810, 'ඨ භය': 1058, 'ච අප': 903, 'ක ව ට': 646, 'පව ල ජ': 2418, 'ග ඨ භය': 811, 'ව ප ට': 4482, 'ප ට ට': 1959, 'පච ච අප': 2247, 'න ස හලය': 1807, 'ඩ br': 1062, 'ත සත': 1295, 'ක ඩ br': 544, 'ය ව ම': 3462, 'ය සජ': 3498, 'ග ට ග': 805, 'ඉද ර ය': 306, 'ය සජ ද': 3499, 'ජයව ග': 997, 'ට හය': 1052, 'හය ම': 4968, 'ජයව ග ට': 998, 'ග ට හය': 809, 'ට හය ම': 1053, 'හය ම ත': 4969, 'ජයව ග ඨ': 999, 'ප ට ලගද': 1964, 'ස ත ත': 4740, 'ෂ සර': 4685, 'සර ද': 4868, 'ජපක ෂ සර': 982, 'ෂ සර ද': 4686, 'ජයව ජයව': 1000, 'ව හම': 4588, 'ප ඔබ': 1890, 'ද වත': 1517, 'න ව හම': 1779, 'ව හම ද': 4589, 'ප ඔබ රට': 1891, 'ර ද වත': 4034, 'බ රගත': 2737, 'රගත ත': 4125, 'කඩ ව': 685, 'ය නය': 3367, 'පය ලට': 2298, 'එලව ම': 419, 'ම ත ම': 2912, 'බ රගත ත': 2738, 'කඩ ව ට': 686, 'ව ට ග': 4409, 'ය නය පය': 3368, 'පය ලට ද': 2299, 'අප ද ස': 156, 'ස ත ර': 4743, 'න ග ට': 1659, 'ජ ය ප': 949, 'ස ප ත': 4765, 'ප ත ඔබ': 1991, 'ප ඕ ව': 1899, 'ය අගය': 3136, 'අප ම න': 167, 'ස ක ස': 4714, 'ය අගය න': 3137, 'මහ ප': 3041, 'අ රන': 84, 'ය ග ත': 3250, 'අ රන ල': 85, 'ජයව ජයව ග': 1001, 'න උ ම': 1626, 'ච ර ව': 921, 'ය ප රය': 3387, 'ප රට': 2155, 'ස ය ද': 4784, 'ය ද ගන': 3320, 'බ ගය': 2584, 'බ ගය ප': 2585, 'බ අ සය': 2494, 'ව හ ම': 4583, 'ය ල බ': 3445, 'ප ජනසම': 1949, 'ත සජ': 1294, 'ප මද': 2112, 'ම ජයව': 2900, 'ප ජනසම ජය': 1950, 'සජ ත සජ': 4844, 'ප මද ස': 2113, 'ත ම ජයව': 1220, 'ම ජය': 2899, 'ජය ජය': 987, 'ජය ජය ව': 988, 'ප අසරණ ම': 1869, 'ස යල ද': 4786, 'යල ද න': 3718, 'ද න බ': 1438, 'න බ ද': 1729, 'ප හ ට': 2204, 'ජයව ඔබ': 996, 'ම මහ': 2959, 'ත ජයව': 1164, 'ක ත ජයව': 551, 'ප ත ල': 2003, 'පරණ ප': 2341, 'සම බ': 4861, 'බ රය': 2745, 'යව don': 3766, 'ප ප රල': 2078, 'පරණ ප ඩ': 2342, 'ප ඩ ඔබත': 1982, 'බ රය ප': 2746, 'යව don 39': 3767, 'පව ල ඔක': 2417, 'මහත ර': 3081, 'ර ආර': 3919, 'අගම ධ': 94, 'රය භ': 4180, 'රට ල': 4142, 'මහත ර ආර': 3082, 'ර ආර ථ': 3920, 'අගම ධ රය': 95, 'ධ රය භ': 1597, 'රය භ ර': 4181, 'භ ර අර': 2836, 'ර අර අප': 3892, 'ර අර ර': 3894, 'ර ප ව': 4049, 'ක ඔබ': 521, 'ල ද ක': 4244, 'ප ටව ට': 1975, 'ප කර සම': 1914, 'පප ව': 2280, 'සත ර': 4849, 'ත ජය': 1163, 'පප ව ඩ': 2281, 'ප ප ත': 2074, 'බය න': 2813, 'පය ගහල': 2294, 'යක ග': 3533, 'ප ද සහ': 2033, 'බය න ත': 2814, 'පය ගහල ඉ': 2295, 'යක ග න': 3534, 'ල ම ව': 4270, 'ප කන': 1906, 'ස පව': 4771, 'පව ජ': 2404, 'ලස ස': 4338, 'ප කන ද': 1907, 'ප ස ද': 2198, 'ර ග ය': 3991, 'බ ස පව': 2772, 'පව ජ ව': 2405, 'පක ෂය උවමන': 2240, 'ය එප න': 3196, 'ත ම කර': 1219, 'ජයව ප': 1002, 'ජයව ප හ': 1003, 'බ ම ජ': 2698, 'ම ජ ව': 2898, 'ආදර අප': 257, 'මළ ද': 3108, 'ජය ව ග': 991, 'ව ග ඨ': 4394, 'මළ ද උ': 3109, 'ම මව': 2957, 'මව බ': 3034, 'ට ත ර': 1020, 'ම මව බ': 2958, 'මව බ ම': 3035, 'ර අත': 3882, 'අත ගර': 107, 'ත ඳ': 1188, 'ර අත ගර': 3883, 'ය ම ත': 3407, 'ම ත ඳ': 2911, 'අභ ම': 182, 'නව ම': 1835, 'br ය': 32, 'ය දබල': 3340, 'බග br': 2795, 'අභ ම නව': 183, 'ය දබල ද': 3341, 'බග br මව': 2796, 'හ ර ග': 4937, 'ජය ව ව': 994, 'ය වස': 3478, 'ය වස ර': 3479, 'යන න ද': 3627, 'ය ජය': 3273, 'ජය න': 989, 'ය ජය න': 3274, 'ෂ ග': 4668, 'භය ර': 2846, 'ස මර': 4781, 'ජපක ෂ ග': 977, 'ෂ ග ඨ': 4669, 'ඨ භය ර': 1061, 'භය ර ජපක': 2847, 'න ස ද': 1802, 'බ ත යනව': 2602, 'api ඕම': 7, 'භය ම': 2842, 'ම ta': 2850, 'ta jaya': 55, 'jaya wewa': 49, 'ඨ භය ම': 1059, 'භය ම ත': 2843, 'ත ම ta': 1214, 'ම ta jaya': 2851, 'ta jaya wewa': 56, 'තල තම': 1345, 'ස තල තම': 4753, 'ත න ර': 1183, 'ත ඇමර': 1132, 'රය ද': 4177, 'බ ස හලච': 2777, 'ත ඇමර ක': 1133, 'බය මහත': 2817, 'ට බය මහත': 1035, 'බය මහත ත': 2818, 'බ ආබද': 2515, 'යළ ද': 3841, 'ආදර හ': 259, 'බ ආබද ත': 2516, 'ල බ ද': 4263, 'බ ද ව': 2619, 'යළ ද න': 3842, 'ආදර හ මද': 260, 'ග ඩද': 817, 'ර ආග': 3906, 'පනගන න': 2268, 'බ කලබල': 2582, 'යම කර': 3655, 'පර ව': 2326, 'පහ හය': 2456, 'ය කය': 3236, 'ය එ': 3188, 'බ dear': 2488, 'යල ඔබත': 3701, 'ර ඉඩකඩ': 3932, 'ප තනත': 2006, 'ර අව': 3901, 'බ යග': 2710, 'යග ල': 3577, 'බ ඳක': 2654, 'ඳක න': 1846, 'යක ව ට': 3549, 'රන ල ත': 4167, 'ප න අඳ': 2038, 'ර ආග ධය': 3907, 'බ ක ල': 2563, 'පනගන න බ': 2269, 'ය ගය මද': 3264, 'බ බ කලබල': 2675, 'බ කලබල උ': 2583, 'යම කර ක': 3656, 'ද ර ක': 1483, 'පර ව ස': 2327, 'බ ස ස': 2776, 'පහ හය හ': 2457, 'ය කය ව': 3237, 'ය එ රන': 3190, 'බ dear sir': 2489, 'යල ඔබත ම': 3702, 'ර ඉඩකඩ ය': 3933, 'ය නව හ': 3376, 'ප තනත ර': 2007, 'යල ද ව': 3722, 'ර අව න': 3902, 'ය නව බ': 3375, 'බ යග ල': 2711, 'යග ල අමන': 3578, 'බ ඳක න': 2655, 'ඳක න ව': 1847, 'ද දය': 1420, 'ව ජය': 4405, 'ය ද දය': 3323, 'ද දය ද': 1421, 'උප ද ශය': 357, 'ද ආරක': 1369, 'යල ද ආරක': 3716, 'ද ආරක ෂ': 1370, 'ආරක ෂ ව': 274, 'භය ජය': 2840, 'ද ග ට': 1395, 'භය ජය ව': 2841, 'ප gena': 1851, 'gena aaaa': 44, 'රණ tv': 4150, 'tv න': 59, 'ට ජය': 1015, 'ජය ග': 985, 'ඔබ ජය': 455, 'ප gena aaaa': 1852, 'ද රණ tv': 1494, 'රණ tv න': 4151, 'tv න ල': 60, 'ව ඔබ ස': 4371, 'ඔබ ස ත': 462, 'ට ට ජය': 1018, 'ජය ග ඨ': 986, 'ජපක ෂ ම': 980, 'ෂ ම ත': 4678, 'ත ම ඔබ': 1217, 'ම ඔබ ජය': 2874, 'ඔබ ජය ව': 456, 'ජය ව ජය': 992, 'ව ජය ව': 4406, 'මහත ජයව': 3057, 'මහත ජයව ජයව': 3058, 'යවස ථ': 3825, 'ව යය': 4518, 'යය ත': 3671, 'පස එ': 2437, 'ස පත': 4770, 'බ රගතය': 2739, 'යවස ථ ව': 3826, 'ව ම ත': 4503, 'ව යය ත': 4519, 'යය ත අවස': 3673, 'පස එ ඡන': 2438, 'බ රගතය ත': 2740, 'ව ජයව': 4407, 'ජයව ව': 1004, 'බ ක එක': 2556, 'ය උත ස': 3178, 'ඔය බ': 476, 'ඔය බ ර': 477, 'ර අහ ව': 3904, 'ම ව ජය': 2990, 'න යකත': 1751, 'යකත වය': 3551, 'ර ඉද': 3936, 'න යකත වය': 1752, 'යකත වය ද': 3553, 'ත ල බ': 1270, 'බ ත ෂ': 2603, 'ර ඉද න': 3937, 'ක ත ප': 552, 'මහත vissita ජය': 3048, 'ජය ව ප': 993, 'ව ප හ': 4487, 'ට ජය ව': 1016, 'ර උත': 3946, 'ර උත තම': 3947, 'ම නර': 2941, 'ව ඩ කල': 4415, 'මහත න': 3074, 'ප ළකය': 2217, 'ප ළනය': 2221, 'ප ළකය ඉක': 2218, 'ය ප ළනය': 3391, 'ප ළනය භ': 2222, 'ය ශක': 3482, 'ය ම ක': 3406, 'ය ශක ත': 3483, 'දහ ය': 1580, 'ද දහ ය': 1423, 'දහ ය ද': 1581, 'ය ද ග': 3319, 'ද ග ල': 1397, 'ය ඇදගත': 3164, 'බ ම හර': 2703, 'ය ඇදගත ත': 3165, 'න පහල': 1727, 'පහල ව': 2464, 'ද ප න': 1449, 'ප න පහල': 2050, 'පහල ව ච': 2465, 'මහත ජ': 3051, 'බ කරග': 2576, 'මහත ජ ද': 3052, 'එ ද ග': 384, 'ග ම ව': 848, 'බ කරග න': 2577, 'බ ඉ හ': 2524, 'ර ආන': 3912, 'ර ආන ද': 3913, 'ධ හම': 1600, 'ප මහ': 2118, 'ෂ ජන': 4670, 'ධ පත': 1590, 'ර ව ධ': 4090, 'ව ධ හම': 4456, 'ධ හම ද': 1601, 'ප මහ ර': 2119, 'ජපක ෂ ජන': 978, 'ෂ ජන ධ': 4671, 'ජන ධ පත': 963, 'ධ පත ත': 1591, 'ත ම අප': 1215, 'ත ජනබල': 1161, 'ජනබල ව': 973, 'ජ ත ජනබල': 941, 'ත ජනබල ව': 1162, 'ජනබල ව ගය': 974, 'භය මහත': 2844, 'ත ප ල': 1195, 'ඨ භය මහත': 1060, 'භය මහත තය': 2845, 'මහත තය ජය': 3066, 'ය දස': 3342, 'යම ප': 3661, 'පව ත': 2406, 'ය ද සම': 3337, 'ය දස ග': 3343, 'ප න මහ': 2051, 'යම ප න': 3662, 'පව ද ර': 2410, 'ව ද නව': 4441, 'පව ත ද': 2407, 'දක ග': 1548, 'br ව': 36, 'දක ග ම': 1549, 'න br ස': 1613, 'br ස ත': 39, 'ත න ස': 1186, 'යල බලද': 3732, 'යල බලද ර': 3733, 'ර ක ප': 3972, 'කර ප ළ': 742, 'ප ළ උ': 2210, 'යය ද': 3675, 'ත br': 1123, 'ප ම ව': 2111, 'යල ම දඩ': 3735, 'යය ද යය': 3676, 'යය ත br': 3672, 'පය ප': 2296, 'ප කරම': 1919, 'පය ප කරම': 2297, 'ව ජන': 4403, 'ව ජන ධ': 4404, 'ප br goood': 1849, 'න ගල': 1663, 'ගල උත': 890, 'උත සවය': 346, 'උපර මය': 361, 'යය සජ': 3683, 'ර ණය': 4010, 'ලනය ග': 4323, 'තය ප න': 1329, 'ප න ගල': 2043, 'න ගල උත': 1664, 'ගල උත සවය': 891, 'යය සජ ප': 3684, 'ප ර ණය': 2142, 'ලනය ග න': 4324, 'පර වර': 2330, 'ග ඩය': 818, 'පර වර තක': 2331, 'ය අප ජන': 3147, 'ප ග ඩය': 1922, 'යග රනව': 3575, 'ස අත': 4693, 'අත ව': 110, 'බ ධ': 2637, 'ද මහ': 1465, 'යකය න': 3561, 'න ඔබ': 1635, 'ඔබ අප': 452, 'යග රනව ර': 3576, 'ර ව ඔබ': 4085, 'ස අත ව': 4694, 'අත ව ව': 111, 'බ ධ ත': 2638, 'යකත වය ශක': 3555, 'යකය න ඔබ': 3562, 'බය ම': 2815, 'ට බය ම': 1034, 'බය ම ත': 2816, 'ස රණව': 4799, 'පව ලක': 2421, 'යහපත ව': 3839, 'ස රණව ර': 4800, 'පව ලක යහපත': 2422, 'යහපත ව ව': 3840, 'ය උනන': 3181, 'යන න br': 3622, 'කර ත ය': 731, 'ය උනන ද': 3182, 'ප කරය': 1920, 'බ ක ර': 2562, 'මහරජත දඬ': 3102, 'මහරජත දඬ ම': 3103, 'ප ගන ව': 1933, 'යකත වය ස': 3556, 'රශ නය': 4186, 'ප රශ නය': 2167, 'ය ක උන': 3220, 'මහත තය ම': 3068, 'ය රට ස': 3435, 'අව කව': 223, 'කව කර': 779, 'ප නව': 2060, 'ය නට': 3361, 'අව කව කර': 224, 'ප නව ම': 2061, 'ය නට න': 3362, 'ව දග': 4451, 'ම ස ත': 3000, 'යල සහය': 3757, 'සහය ගය': 4872, 'යල සහය ගය': 3758, 'යද අන': 3599, 'යවශ ය': 3823, 'ය ආහ': 3160, 'යද අන ත': 3600, 'යවශ ය ආහ': 3824, 'ය ආහ රප': 3161, 'යල ල අහ': 3745, 'ය කර න': 3240, 'ප න වක': 2054, 'යමය න': 3663, 'ප ග ත': 1923, 'පහස න': 2470, 'යළ බ': 3843, 'බ ද තලය': 2609, 'පහස න ස': 2471, 'යළ බ ද': 3844, 'බ ද වර': 2621, 'ය ඔක': 3201, 'ය ඔක ක': 3202, 'පහ න': 2449, 'ය එ උබල': 3189, 'බ කර හ': 2575, 'බ කර තර': 2573, 'පහ න හ': 2450, 'ය ත ක': 3290, 'බ න ද': 2643, 'ධ ප ත': 1588, 'ය හද': 3511, 'මහ මහත': 3043, 'ප තම': 2008, 'මහ මහත තය': 3044, 'මහත තය ප': 3067, 'බ තරය': 2606, 'පස ල': 2445, 'බ එස': 2545, 'බ තරය හ': 2607, 'පස ල ග': 2446, 'br ම න': 31, 'ප ත ර': 2002, 'ප ම ල': 2110, 'බ එස ව': 2546, 'ෆ න': 4998, 'ෆ න ස': 4999, 'න ස br': 1795, 'ර ආතල': 3908, 'ර ආතල ඉත': 3909, 'මහත තය හ': 3071, 'ර ව සද': 4095, 'මහත ජය': 3055, 'මහත ජය ව': 3056, 'පලයල ග': 2397, 'ප නහල': 2062, 'පලයල ග හ': 2398, 'හර ලස': 4983, 'ර ඉත': 3934, 'පර පජ': 2318, 'ය quot': 3132, 'ර ඉත no': 3935, 'පර පජ ත': 2319, 'ය quot keep': 3133, 'යකය නට': 3563, 'යකය තමය': 3557, 'ය න යකය': 3352, 'යකය නට මහ': 3564, 'බ ද න': 2615, 'න ත ය': 1682, 'යකය තමය ආර': 3558, 'ය ව නස': 3459, 'බ br': 2484, 'ය ය': 3420, 'බ br ල': 2487, 'ය ය ක': 3421, 'ය ක හ': 3233, 'බ බර': 2689, 'බ පහලව': 2665, 'බ ද හ': 2625, 'යල ත හ': 3712, 'බ බ බර': 2681, 'බ බර ගත': 2690, 'ය මන ඩලය': 3414, 'යල ස යල': 3754, 'යල බ ද': 3731, 'යකය ද': 3559, 'යන hon': 3611, 'යකය ද න': 3560, 'යන hon gotabhaya': 3612, 'පහල උ': 2460, 'පහල උ ම': 2461, 'යල සත': 3755, 'යල ම න': 3736, 'යල සත වය': 3756, 'ව සරණ': 4576, 'ර ව සරණ': 4096, 'ප ජයග': 1951, 'ප ජයග රහණය': 1952, 'ය ත රන': 3300, 'ප ත ම': 2000, 'මහත ආර': 3049, 'ර එත': 3958, 'ය ප රධ': 3386, 'මහත ආර ධ': 3050, 'ර එත ම': 3959, 'අද ය ද': 114, 'ය ත මක': 3297, 'බද ල': 2809, 'බද ල ල': 2810, 'අප ජනප': 152, 'ජනප බ': 972, 'ප ටත': 1968, 'බ ප ප': 2657, 'ප ප ටත': 2073, 'යක uana': 3519, 'යක uana රන': 3520, 'පවත න': 2429, 'යය ත ද': 3674, 'ය ස ද': 3491, 'පවත න ව': 2430, 'ඵල දහ': 2482, 'බටහ ර': 2805, 'අය න': 197, 'යවක ශය': 3819, 'ය වඩ': 3472, 'පමණ වග': 2290, 'ඵල දහ බටහ': 2483, 'බටහ ර ව': 2806, 'ය ව බ': 3461, 'බ ර ඇත': 2715, 'ර ඇත ත': 3928, 'යවක ශය ය': 3820, 'ය වඩ අය': 3473, 'ප ප කර': 2070, 'ප කර වට': 1913, 'පමණ වග කර': 2291, 'පරතරය ද': 2343, 'පහ සත': 2454, 'පරතරය ද ම': 2344, 'පහ සත ට': 2455, 'මහර ජ': 3098, 'ර උ': 3944, 'යස එ': 3829, 'බ දඬ': 2628, 'ප ප ප': 2077, 'ප ප න': 2075, 'ද ව ස': 1516, 'ව ස යල': 4563, 'යල ල ඉවර': 3746, 'මහර ජ ඕ': 3099, 'පක ෂය නටව': 2241, 'බ ර උ': 2716, 'ර උ එ': 3945, 'යස එ තම': 3830, 'මහබ ක කර': 3096, 'බ දඬ වම': 2629, 'බ රග ර': 2735, 'පව ල උ': 2416, 'ලය ස': 4337, 'බ දය': 2632, 'සද br': 4851, 'බ කඩ': 2566, 'ප ෆ': 2227, 'br ජ': 24, 'ර එද': 3960, 'බ දය ක': 2633, 'බ br ම': 2486, 'br ව ර': 37, 'බ බ කඩ': 2674, 'බ කඩ br': 2567, 'බ br ත': 2485, 'ද න යකත': 1440, 'යකත වය br': 3552, 'ප ෆ න': 2228, 'ප ද br': 2014, 'පරප ර එද': 2349, 'ර එද br': 3961, 'ප ඔබ ස': 1892, 'ය ට': 3278, 'ය ට අප': 3279, 'යක obai': 3517, 'යක obai api': 3518, 'ය වහල': 3480, 'පලය ක': 2387, 'යල ප න': 3726, 'ප න ද': 2046, 'පන ද හ': 2253, 'ය වහල ල': 3481, 'පලය ක හ': 2388, 'ප ප නව': 2076, 'යන නක': 3632, 'ය කල': 3244, 'අ ත': 79, 'යල ක යන': 3705, 'යන නක ම': 3633, 'ය කල ඩ': 3245, 'ම අ ත': 2853, 'ය ව ගඩ': 3453, 'ය ගය එහ': 3261, 'ය ගය ම': 3263, 'බ ම අ': 2693, 'ර එ': 3954, 'ර එ ආදර': 3955, 'මහත හ': 3087, 'මහත හ ජයව': 3088, 'ය ප හ': 3389, 'ය න ල': 3355, 'බ ම අසරණ': 2695, 'ප එක': 1882, 'යක ම': 3545, 'ය රටට': 3436, 'යප ඨය': 3648, 'ය ප එක': 3379, 'ප එක බලද': 1883, 'යක ම න': 3546, 'ය රටට br': 3437, 'යප ඨය න': 3649, 'ගය ද': 887, 'ය ගය ද': 3262, 'ය ම ළ': 3412, 'ප න ත': 2044, 'ස රක': 4797, 'පර සරය ස': 2334, 'ය ට දඩ': 3280, 'බ ව බ': 2764, 'මහත ද': 3072, 'මහත ද ර': 3073, 'මහත තය ව': 3070, 'ය ත එත': 3288, 'යකත වය න': 3554, 'ප ඩම ඉග': 1988, 'ය ක ඩ': 3222, 'බ ප ර': 2659, 'මහත ජනප': 3053, 'මහත ජනප බ': 3054, 'බ උර': 2535, 'ය ජයග රහණ': 3276, 'බ උර මකර': 2536}\n",
            "characters level tf-idf_Vocabulary:  {'ප ': 2546, ' ඔ': 245, 'ඔය': 1658, 'ය ': 2965, ' ක': 264, 'කර': 1739, 'ර ': 3068, ' උ': 210, 'උ ': 1542, 'කව': 1754, 'වද': 3456, 'දා': 2269, 'ාව': 4185, 'ව ': 3390, ' ග': 292, 'ගෙ': 1891, 'ෙය': 4654, ' ද': 360, 'දො': 2332, 'ොර': 4812, ' ල': 514, 'ලැ': 3360, 'ැබ': 4262, 'බෙ': 2792, 'ෙ ': 4595, ' හ': 587, 'හො': 3887, 'ොඳ': 4799, 'ඳ ': 2535, ' න': 382, 'නැ': 2476, 'ැ ': 4207, ' ප': 400, 'පා': 2633, 'ාර': 4166, ' බ': 430, 'බල': 2754, 'ල්': 3343, '්ල': 4027, 'ල ': 3262, ' ව': 530, ' ම': 459, 'මැ': 2915, 'ැර': 4273, 'රෙ': 3247, ' ඕ': 257, 'ඕන': 1683, 'න ': 2365, 'ගි': 1882, 'ි ': 4305, ' ත': 341, 'ති': 2156, 'ිබ': 4397, 'බ්': 2767, '්බ': 4009, 'බ ': 2716, ' ට': 332, 'ටි': 2008, 'ප ඔ': 2551, ' ඔය': 253, 'ඔය ': 1659, 'ය ක': 2975, ' කර': 278, 'කර ': 1740, 'ර උ': 3077, ' උ ': 211, 'උ ක': 1546, ' කව': 280, 'කවද': 1756, 'වදා': 3460, 'දාව': 2278, 'ාව ': 4186, 'ව ග': 3405, ' ගෙ': 307, 'ගෙය': 1895, 'ෙය ': 4655, 'ය ද': 2980, ' දො': 377, 'දොර': 2334, 'ොර ': 4813, 'ර ල': 3095, ' ලැ': 525, 'ලැබ': 3362, 'ැබෙ': 4265, 'බෙ ': 2793, 'ෙ හ': 4613, ' හො': 602, 'හොඳ': 3891, 'ොඳ ': 4800, 'ඳ න': 2539, ' නැ': 391, 'නැ ': 2477, 'ැ ප': 4216, ' පා': 419, 'පාර': 2643, 'ාර ': 4167, 'ර බ': 3090, ' බල': 440, 'බල්': 2760, 'ල්ල': 3346, '්ල ': 4028, 'ල ව': 3289, ' ව ': 531, 'ව ම': 3414, ' මැ': 475, 'මැර': 2919, 'ැරෙ': 4279, 'රෙ ': 3248, 'ෙ ඕ': 4602, ' ඕන': 261, 'ඕන ': 1684, 'න ඔ': 2376, 'ය ග': 2976, ' ගි': 305, 'ගි ': 1883, 'ි ත': 4321, ' ති': 354, 'තිබ': 2165, 'ිබ්': 4399, 'බ්බ': 2768, '්බ ': 4010, 'බ උ': 2722, ' ටි': 336, 'තෙ': 2184, 'ෙල': 4661, 'මෙ': 2941, 'ෙව': 4669, 'වැ': 3523, 'රද': 3139, 'දි': 2287, 'කල': 1750, 'ලම': 3328, 'මන': 2871, 'නා': 2462, 'ාක': 4104, 'කා': 1771, 'තී': 2172, 'ීන': 4474, 'න්': 2444, '්ද': 3978, 'ද ': 2199, 'හි': 3850, 'තෙල': 2186, 'ෙල ': 4662, 'ල න': 3282, 'ැ ම': 4218, ' මෙ': 479, 'මෙව': 2950, 'ෙව ': 4670, 'ව ව': 3418, ' වැ': 545, 'වැර': 3528, 'ැරද': 4275, 'රදි': 3141, 'දි ': 2288, 'ි ක': 4316, ' කල': 279, 'නාක': 2465, 'කාර': 1775, 'ර ත': 3086, ' තී': 355, 'න්ද': 2452, '්ද ': 3979, 'ද හ': 2221, ' හි': 597, 'හි ': 3851, 'ි උ': 4311, 'මේ': 2953, 'ේග': 4710, 'ගැ': 1875, 'නො': 2522, 'ොද': 4791, 'දැ': 2280, ' අ': 141, 'අව': 1448, 'වශ': 3486, 'ශ්': 3598, '්\\u200d': 4063, '\\u200dය': 4877, 'යත': 3005, 'තා': 2143, 'වය': 3472, 'ලය': 3330, ' ය': 485, 'යො': 3063, 'අප': 1421, 'බේ': 2798, 'බි': 2782, ' ර': 497, 'රො': 3253, 'ොක': 4763, 'කට': 1711, 'ට්': 2000, '්ට': 3954, 'ට ': 1964, 'කක': 1707, 'ක්': 1760, '්ෂ': 4046, 'ගත': 1841, 'ත ': 2077, 'වෙ': 3560, 'යව': 3023, ' ආ': 165, 'ආග': 1465, 'අත': 1402, 'ැත': 4241, 'ත්': 2132, '්ත': 3961, ' 😂': 635, '😂😂': 4964, 'ගැ ': 1876, 'ැ න': 4215, ' නො': 398, 'නොද': 2527, 'දැ ': 2281, 'ැ අ': 4208, ' අව': 160, 'අවශ': 1451, 'වශ්': 3487, 'ශ්\\u200d': 3600, '්\\u200dය': 4065, '\\u200dයත': 4879, 'යතා': 3006, 'තාව': 2151, 'ාවය': 4188, 'වය ': 3473, 'ය බ': 2983, 'බලය': 2758, 'ලය ': 3331, 'ය ය': 2986, ' යො': 496, 'යොද': 3064, 'ොද ': 4792, 'ද අ': 2201, ' අප': 153, 'අප ': 1422, 'ප බ': 2560, ' බේ': 451, 'බි ': 2783, 'ි ර': 4328, ' රො': 513, 'රොක': 3254, 'ොකට': 4766, 'කට්': 1714, 'ට්ට': 2001, '්ට ': 3955, 'ට ක': 1969, ' කක': 266, 'කක්': 1708, 'ක්ෂ': 1768, 'ගත ': 1842, 'ත ක': 2088, 'ර ව': 3096, ' වෙ': 550, 'වෙ ': 3561, ' යව': 491, 'යව ': 3024, 'ව ර': 3416, 'ට ආ': 1966, ' ආග': 167, 'අත ': 1403, 'ත න': 2094, 'නැත': 2479, 'ැත්': 4243, 'ත්ත': 2134, '්ත ': 3962, ' 😂😂': 637, '😂😂😂': 4966, 'ජන': 1937, 'නත': 2408, ' ජ': 323, 'ජී': 1959, 'ීව': 4481, 'බර': 2752, 'දර': 2243, 'රා': 3198, 'ාග': 4108, 'ග ': 1819, 'බෑ': 2780, 'ජනත': 1938, 'නතා': 2411, 'ව ජ': 3407, ' ජී': 329, 'ජීව': 1960, 'ීව ': 4482, 'ව බ': 3413, ' බර': 439, 'රදර': 3140, 'දරා': 2247, 'රාග': 3201, 'ාග ': 4109, 'ග බ': 1830, ' බෑ': 447, 'ඒ ': 1632, 'ප්': 2630, '\\u200dර': 4884, 'රය': 3160, 'යෝ': 3065, 'ෝජ': 4841, 'ජ ': 1932, 'ගන': 1845, '්න': 3992, 'නව': 2433, 'හර': 3819, 'රක': 3110, ' ඇ': 181, 'ඇම': 1499, 'මර': 2879, 'රි': 3220, 'ික': 4342, ' ,': 10, 'චී': 1927, 'දන': 2234, '් ': 3925, 'වට': 3445, 'ින': 4383, 'ා ': 4070, ' ඒ': 241, 'ඒක': 1641, 'ක ': 1687, 'ම ': 2823, ' ඉ': 193, 'ඉව': 1535, 'අල': 1443, 'ඒ ප': 1637, ' ප්': 418, 'ප්\\u200d': 2632, '්\\u200dර': 4066, '\\u200dරය': 4892, 'රයෝ': 3163, 'යෝජ': 3067, 'ෝජ ': 4842, 'ජ ග': 1933, ' ගන': 296, 'ගන්': 1847, 'න්න': 2454, '්නව': 3997, 'නව ': 2434, 'ව ද': 3410, ' ද ': 361, 'ද න': 2212, 'ැ හ': 4222, ' හර': 594, 'හරක': 3821, 'රක්': 3112, ' ඇම': 188, 'ඇමර': 1500, 'මරි': 2882, 'රික': 3222, 'ිකා': 4349, 'කාව': 1777, 'ව ,': 3391, 'චීන': 1928, 'න ද': 2382, ' දන': 365, 'දන්': 2236, 'ප ව': 2565, ' වට': 534, 'වටි': 3448, 'ටින': 2010, 'ිනා': 4388, 'නා ': 2463, 'ා ඒ': 4079, ' ඒක': 243, 'ඒක ': 1642, 'ක ම': 1702, ' ම ': 460, 'ම ඉ': 2826, ' ඉව': 205, 'ව අ': 3395, ' අල': 159, 'අල්': 1445, 'ti': 1298, 'ip': 1078, 'p ': 1213, ' එ': 226, 'එ ': 1581, ' 😅': 638, ', ': 668, 'හැ': 3840, 'ැම': 4267, 'මද': 2865, 'ැල': 4280, '්ම': 4016, 'මස': 2887, 'ස්': 3702, '්ස': 4051, 'ස ': 3622, 'තම': 2113, 'අහ': 1458, 'හු': 3866, 'ුව': 4553, 'p එ': 1215, ' එ ': 227, 'එ අ': 1582, ', හ': 680, ' හැ': 596, 'හැම': 3847, 'ැමද': 4269, 'මදා': 2868, 'දා ': 2270, 'ා ව': 4095, 'ව හ': 3420, 'ැල්': 4283, 'ල්ම': 3345, 'මස්': 2888, 'ස්ස': 3710, '්ස ': 4052, 'ස ත': 3634, ' තම': 346, 'තම ': 2114, 'ම අ': 2824, ' අහ': 162, 'අහු': 1461, 'හුව': 3872, 'ුව ': 4554, 'ව 😂': 3423, 'අස': 1455, 'උන': 1560, 'ාන': 4142, 'වර': 3475, 'යි': 3041, 'අන': 1415, 'නි': 2486, 'බා': 2769, 'නෙ': 2507, 'ෙම': 4650, 'ිය': 4411, 'යා': 3033, 'පි': 2658, 'ස උ': 3628, ' උන': 217, 'උනා': 1563, 'නාන': 2470, 'ාන ': 4143, 'න ඉ': 2372, 'ඉවර': 1536, 'වරය': 3479, 'රයි': 3162, 'යින': 3046, 'ින ': 4384, 'න බ': 2385, ' බ ': 431, 'බ අ': 2718, ' අන': 152, 'අනි': 1419, 'නි ': 2487, 'ි ම': 4326, 'ම ග': 2832, '්බා': 4012, 'බා ': 2770, 'ා න': 4088, ' නෙ': 396, 'නෙම': 2512, 'ෙම ': 4651, 'තිය': 2167, 'ියා': 4422, 'යාග': 3035, 'ාගත': 4110, 'ගත්': 1844, '්තා': 3970, 'තා ': 2144, 'ා අ': 4073, 'අපි': 1425, 'පි ': 2659, 'ි ඒ': 4313, ' ඒ ': 242, 'ඒ ද': 1636, 'ඉද': 1523, 'දප': 2238, 'දය': 2241, 'එන': 1613, 'නක': 2400, 'ලා': 3349, 'ඉ ': 1507, 'පිය': 2666, 'ියව': 4420, ' ජන': 325, 'ජන්': 1940, '්දය': 3981, 'දය ': 2242, 'ය එ': 2972, ' එන': 232, 'නක ': 2401, 'ක අ': 1688, 'ි බ': 4325, 'බලා': 2761, 'ලාග': 3353, 'ග ඉ': 1822, ' ඉ ': 194, 'බට': 2739, 'ටල': 1993, 'ලන': 3317, 'රු': 3236, 'ුම': 4534, 'ම්': 2899, '්ක': 3931, 'තර': 2119, 'අම': 1431, 'මල': 2883, 'ිම': 4405, 'මි': 2920, 'ිව': 4439, 'වේ': 3572, 'ේද': 4718, 'ලව': 3337, 'වක': 3432, 'ාශ': 4192, 'ශ ': 3584, 'දෙ': 2315, 'ෙද': 4634, 'ෙර': 4658, 'ෙන': 4638, 'ඔයි': 1661, 'යි ': 3042, ' බට': 433, 'බටල': 2740, 'ටලන': 1995, 'ලන්': 3320, 'ද ම': 2215, 'ැරු': 4278, 'රුම': 3242, 'ුම්': 4536, '්කා': 3939, 'කා ': 1772, 'ා ත': 4086, ' තර': 347, 'තර ': 2120, 'ර ද': 3087, ' දර': 366, 'දරු': 2249, 'රුව': 3243, ' අම': 156, 'අම්': 1433, 'ම්ම': 2903, 'ලා ': 3350, 'අහි': 1460, 'හිම': 3859, 'ිමි': 4409, 'මිව': 2928, 'ිව ': 4440, ' වේ': 551, 'වේද': 3575, 'ේදන': 4721, 'දනා': 2237, 'නාව': 2473, 'ව ඔ': 3402, 'ි ප': 4324, 'බලව': 2759, 'ලව ': 3338, 'වකා': 3434, 'කාශ': 1778, 'ාශ ': 4193, ' දෙ': 375, 'දෙර': 2320, 'ෙර ': 4659, 'දෙන': 2317, 'ෙනව': 4641, 'බැ': 2774, 'ැං': 4223, 'ං ': 1364, 'අධ': 1412, 'ධි': 2358, 'ිප': 4392, 'පත': 2580, 'ිත': 4363, 'තු': 2174, 'මා': 2904, ' ඹ': 484, 'කෙ': 1805, 'ො': 4694, 'ැහ': 4292, ' &': 3, '&#': 660, '#3': 658, '39': 726, '9;': 746, 'රට': 3127, 'බඩ': 2741, 'ඩු': 2050, 'ැඩ': 4236, 'ඩි': 2047, 'රල': 3164, 'ිස': 4452, 'සු': 3738, 'ු ': 4485, 'උද': 1559, 'ද්': 2264, '්ධ': 3988, 'නය': 2426, 'නන': 2413, 'මත': 2860, 'ලු': 3373, 'වන': 3462, 'නම': 2421, 'ිි': 4467, 'හෙ': 3874, 'ාද': 4129, 'බැං': 2776, 'ං අ': 1365, ' අධ': 151, 'අධි': 1414, 'ධිප': 2361, 'ිපත': 4394, 'පති': 2584, 'තිත': 2161, 'ිතු': 4372, 'තුම': 2179, 'ුමා': 4537, 'මා ': 2905, 'ක්ක': 1762, 'කො': 1809, 'ො ': 4695, 'ා බ': 4090, ' බැ': 446, 'බැල': 2778, 'ැල ': 4281, 'ල හ': 3292, 'හරි': 3822, 'රි ': 3221, 'ම බ': 2838, 'නැහ': 2482, 'ැහැ': 4294, 'හැ ': 3841, 'නෙ ': 2508, ' &#': 4, '&#3': 661, '#39': 659, '39;': 727, ', ර': 678, ' රට': 501, 'රට ': 3128, 'ට බ': 1976, ' බඩ': 434, 'ුම ': 4535, 'ම ව': 2843, 'වැඩ': 3526, 'ැඩි': 4238, 'ිකර': 4346, 'කරල': 1745, 'රල ': 3165, 'ල ම': 3285, ' මි': 476, 'මින': 2925, 'ිනි': 4389, 'නිස': 2497, 'ිස්': 4457, '්සු': 4061, 'සු ': 3739, 'ු ක': 4487, ' ක ': 265, 'ක න': 1699, 'ැ උ': 4209, ' උද': 216, 'ද්ධ': 2267, 'නය ': 2427, 'ර අ': 3073, 'අමත': 1432, 'මත ': 2861, 'ත ව': 2101, 'ි න': 4323, 'ෙ එ': 4600, '්ක ': 3932, 'ක බ': 1701, 'ලුව': 3375, 'ුවන': 4557, 'නමි': 2425, 'ිි ': 4468, 'ි හ': 4332, ' හෙ': 600, 'හො': 3884, 'ාද ': 4130, 'ප ද': 2557, 'ැත ': 4242, 'ත ග': 2089, 'ගිය': 1885, 'යාන': 3037, 'න හ': 2392, 'රින': 3224, 'ඕව': 1685, 'පර': 2601, 'ාහ': 4200, 'හ ': 3763, 'රන': 3144, 'ආය': 1481, 'යු': 3052, 'ුද': 4519, 'ධය': 2345, 'හද': 3794, 'වා': 3505, 'ර්': 3184, '්ය': 4021, 'යය': 3016, 'පව': 2617, 'ව්': 3497, 'ිට': 4358, '<b': 756, 'br': 911, 'r>': 1233, '><': 765, '>ත': 776, 'ලත': 3311, 'ුක': 4494, '්ප': 4003, 'ිහ': 4461, 'ත ඕ': 2087, ' ඕව': 263, 'ඕව ': 1686, 'ව ක': 3404, 'ද ප': 2213, ' පර': 412, 'පර ': 2602, '්ලා': 4031, 'ලාහ': 3359, 'ාහ ': 4201, 'හ ප': 3776, 'පරය': 2605, 'රය ': 3161, 'ය ර': 2987, ' රන': 504, 'රනි': 3149, ' ත ': 342, 'ත ආ': 2080, ' ආය': 175, 'ආය ': 1482, ' යු': 495, 'යුද': 3057, 'ුද්': 4523, '්ධය': 3990, 'ධය ': 2346, 'ය හ': 2991, ' හද': 589, 'හදන': 3796, '්න ': 3993, 'න ය': 2387, ' ය ': 486, 'ය අ': 2967, 'නිව': 2496, 'ිවා': 4445, 'වාර': 3517, 'ාර්': 4173, 'ර්ය': 3193, '්යය': 4024, 'යය ': 3017, 'ය ප': 2982, 'ර ම': 3092, ' මා': 474, 'ා එ': 4078, 'එ ත': 1587, 'ම්බ': 2902, '්බි': 4013, 'බිය': 2785, 'ිය ': 4412, 'ය ඉ': 2970, 'ර න': 3088, ' නි': 393, 'නික': 2488, 'ික ': 4343, ' අත': 149, 'තාර': 2149, ' පව': 414, 'පව්': 2620, 'ව්ල': 3501, 'ල ප': 3283, ' පි': 421, 'පිට': 2662, 'ිට ': 4359, 'ට ඉ': 1967, 'කරන': 1742, 'රනව': 3147, 'නවා': 2438, '<br': 757, 'br>': 912, 'r><': 1235, '><b': 766, 'r>ත': 1241, 'කල්': 1752, 'ලත ': 3312, 'ත ර': 2099, 'ත අ': 2079, 'ට හ': 1983, ' හු': 599, 'ුක්': 4496, '්පි': 4007, 'ගිහ': 1886, 'ිහි': 4464, 'r ': 1232, 'කත': 1720, 'සර': 3680, 'වත': 3450, '්ව': 4034, 'බ ක': 2724, ' කත': 270, 'කතා': 1723, 'ප හ': 2567, 'හිස': 3863, 'ිසර': 4456, 'ය න': 2981, 'ද ඉ': 2203, 'වත්': 3452, 'ත්ව': 2139, '්ව ': 4035, 'ව ය': 3415, 'ඩ ': 2018, 'පු': 2673, 'ුස': 4568, 'තක': 2104, 'ාල': 4176, '😥😥': 4977, 'ම උ': 2827, 'උන ': 1561, 'න ක': 2378, 'ැඩ ': 4237, 'ඩ ව': 2030, ' පු': 422, 'පුස': 2682, 'ුස්': 4571, 'ස්ත': 3706, '්තක': 3963, 'තකා': 2106, 'කාල': 1776, 'ාලය': 4180, 'ය ව': 2989, 'ා ද': 4087, 'ැම ': 4268, 'කැ': 1779, 'ැව': 4284, 'ෙි': 4700, ' ස': 558, 'සක': 3650, ' u': 125, 'un': 1320, 'np': 1186, 'එක': 1599, 'ෙක': 4617, ' ඡ': 320, 'ඡන': 1930, 'එප': 1615, 'ර ක': 3082, ' කැ': 284, 'ැව ': 4285, 'මෙි': 2952, 'ෙි ': 4701, 'ි ස': 4331, ' සක': 561, 'සක්': 3651, 'ක හ': 1706, 'හැත': 3844, 'ත ,': 2078, ' , ': 11, ' un': 127, 'unp': 1322, 'np ': 1187, 'ල එ': 3271, ' එක': 228, 'එකෙ': 1605, 'ෙක්': 4620, 'ක්ව': 1766, ' ඡන': 322, 'ඡන්': 1931, 'ද ද': 2211, 'දෙ ': 2316, ' එප': 233, 'එපා': 1616, 'පා ': 2634, 'යක': 2995, 'ලි': 3363, 'ේන': 4723, 'අද': 1408, 'දෝ': 2337, 'ෝන': 4856, 'උබ': 1568, 'කි': 1787, 'වල': 3482, 'බො': 2801, 'අඩ': 1399, 'යක ': 2996, 'ක ප': 1700, 'ර්ල': 3194, '්ලි': 4032, 'ලිම': 3369, 'ිමේ': 4410, 'මේන': 2954, 'ේන්': 4726, 'න්ත': 2451, 'ත ප': 2095, 'පිස': 2669, 'ස ක': 3631, ' කෙ': 289, 'කෙල': 1808, 'ල අ': 3266, ' අද': 150, 'ව උ': 3399, ' උබ': 219, 'උබ ': 1569, ' කි': 286, 'කිය': 1790, 'ව ප': 3412, ' ප ': 401, ' වල': 540, 'වලි': 3484, 'ලි ': 3364, 'ි ව': 4330, 'ඩ ග': 2022, ' ගත': 295, 'ත බ': 2096, ' බො': 452, 'බොර': 2803, ' නා': 390, 'හ අ': 3765, ' අඩ': 148, 'මහ': 2890, 'ාජ': 4114, 'ජප': 1942, 'පක': 2568, 'ෂ ': 3605, 'හත': 3789, 'ඔබ': 1655, 'බත': 2743, 'වු': 3553, 'ුර': 4541, ' 8': 35, '8 ': 738, 'දේ': 2325, 'ේශ': 4746, 'ශප': 3594, 'තන': 2109, 'අ ': 1387, 'නෑ': 2483, 'ෑ ': 4295, 'වි': 3532, 'ිර': 4426, 'ුන': 4526, 'දු': 2303, 'මහි': 2896, ' රා': 508, 'රාජ': 3202, 'ාජප': 4115, 'ජපක': 1943, 'පක්': 2569, '්ෂ ': 4047, 'ෂ ම': 3609, ' මහ': 473, 'මහත': 2892, 'හත්': 3791, 'ත්\\u200d': 2141, 'ත ඔ': 2086, ' ඔබ': 252, 'ඔබත': 1657, 'බතු': 2744, 'ා ම': 4091, 'අවු': 1454, 'වුර': 3557, 'ුරු': 4548, 'රුද': 3239, 'ුද ': 4520, ' 8 ': 36, 'කලි': 1753, 'ි ද': 4322, ' දේ': 376, 'දේශ': 2330, 'ේශප': 4747, 'ශපා': 3595, 'පාල': 2644, 'ාලන': 4179, 'ලනය': 3319, 'ය ස': 2990, ' ස ': 559, 'ස ග': 3632, '්තන': 3964, 'තන ': 2110, 'න අ': 2369, ' අ ': 142, 'ටි ': 2009, 'කෙන': 1806, 'ෙන ': 4639, 'න ල': 2389, ' ලන': 519, 'න්ක': 2446, ' නෑ': 392, 'නෑ ': 2484, ' වි': 547, 'විහ': 3550, 'හින': 3858, 'ින්': 4387, 'න්ම': 2456, '්ම ': 4017, 'ම ප': 2837, 'පිර': 2667, 'ිරි': 4432, 'රිහ': 3232, 'හුන': 3869, 'ුන ': 4527, ' දු': 373, 'දුක': 2305, 'මෝ': 2960, 'ෝඩ': 4849, 'ග ම': 1831, ' මෝ': 483, 'මෝඩ': 2961, 'ෝඩ ': 4850, 'ඩ ක': 2021, 'ක ව': 1704, 'ලර': 3334, 'උඹ': 1571, 'ඹල': 2964, 'එකක': 1601, 'ව න': 3411, 'ත්න': 2136, 'න ත': 2381, 'දු ': 2304, 'හිත': 3856, 'ිතා': 4370, 'තාග': 2146, 'ග හ': 1837, 'හිට': 3855, 'ර්ව': 3195, '්වා': 4039, 'වාද': 3512, 'ද උ': 2204, 'න උ': 2373, ' උඹ': 220, 'උඹල': 1572, 'ලම ': 3329, 'ම ජ': 2833, 'ෙමෙ': 4653, 'මෙය': 2948, 'ෙයි': 4657, 'තො': 2190, 'ොප': 4801, 'ිග': 4351, 'ගල': 1857, 'ිල': 4435, ' 2': 24, '20': 718, '00': 703, 'තොප': 2191, 'ොප්': 4803, 'ප්ප': 2631, 'පිග': 2661, 'ිගල': 4354, 'ගල ': 1858, 'ල ක': 3275, 'ක ක': 1694, 'කැල': 1784, 'ය ම': 2985, 'ම ර': 2841, 'නිල': 2495, 'ිල ': 4436, 'ල 2': 3264, ' 20': 26, '200': 719, 'ඕ ': 1668, 'ජා': 1951, 'ාත': 4124, 'යන': 3009, 'ල,': 3295, 'රණ': 3131, 'ණ ': 2053, 'ඉත': 1520, 'රග': 3115, 'කො': 1811, 'ො ': 4759, 'ගා': 1868, 'අර': 1438, 'රහ': 3180, 'හස': 3830, 'ඇත': 1492, 'ුල': 4549, 'ගේ': 1897, 'ඕ අ': 1670, 'අමා': 1434, 'මාර': 2911, 'ර ජ': 3084, ' ජා': 327, 'ජාත': 1954, 'ාත්': 4126, '\\u200dයන': 4880, 'යන්': 3012, '්තර': 3967, ', අ': 669, ' අස': 161, 'අසර': 1456, 'සරණ': 3682, 'රණ ': 3132, 'ණ ම': 2059, 'සුන': 3741, 'ුන්': 4528, 'න්ව': 2457, 'උ ඉ': 1544, ' ඉත': 198, 'කරග': 1741, 'රග ': 3116, 'ග උ': 1823, 'උ ව': 1549, 'ර ග': 3083, ' ග ': 293, 'ග ක': 1825, ' කො': 290, 'කො ': 1812, 'ො ප': 4761, 'ප ත': 2556, 'ය ඇ': 2969, 'ම ක': 2831, ' ඕ ': 258, 'ගාව': 1874, ' අර': 158, 'අරග': 1440, 'හොර': 3894, 'ර ර': 3094, ' රහ': 507, 'රහස': 3183, 'හස ': 3831, 'ඕ ර': 1677, ' ර ': 498, 'ර ඇ': 3075, ' ඇත': 185, 'ඇතු': 1496, 'තුල': 2182, 'ුල ': 4550, 'ල ග': 3276, ' ගේ': 308, 'ේනව': 4725, 'නවන': 2436, 'වන ': 3463, ' 5': 30, '50': 729, '0 ': 701, 'පල': 2610, 'ලප': 3321, 'රැ': 3210, 'ටෙ': 2014, 'ෙච': 4623, 'ච්': 1917, '්ච': 3946, 'චර': 1914, '50 ': 730, '0 ව': 702, 'විත': 3537, 'ිතර': 4366, 'ාල ': 4177, ' පල': 413, 'පලප': 2612, 'පුර': 2680, 'ද්ද': 2266, 'ද ත': 2210, 'ෙයා': 4656, 'යා ': 3034, 'ා ස': 4096, ' සු': 580, 'ිත ': 4364, 'ත එ': 2084, ' ගැ': 303, 'ැ ර': 4219, ' රැ': 509, 'රැව': 3217, 'ැවට': 4286, 'වටෙ': 3449, 'මෙච': 2944, 'ෙච්': 4624, 'ච්ච': 1918, '්චර': 3948, 'චර ': 1915, 'කල ': 1751, 'ල ර': 3287, ' රු': 511, 'ුවට': 4556, 'වට ': 3446, 'ට ර': 1979, 'ටෙන': 2015, 'ඩය': 2040, 'සජ': 3652, 'ජි': 1955, 'ෂය': 3616, 'ඇව': 1504, 'කෝ': 1818, 'ෝට': 4843, 'ගෝ': 1904, 'පැ': 2649, 'ැන': 4250, ' ා': 607, 'ගො': 1899, 'ොඩ': 4780, 'ඩය ': 2041, 'ක ස': 1705, ' සජ': 562, 'සජි': 3653, 'ජිත': 1957, ' පක': 402, '්ෂය': 4049, 'ෂය ': 3617, ' ඇව': 191, ' කෝ': 291, 'ෝටි': 4846, 'ි ග': 4317, ' ගා': 302, 'ගාන': 1871, 'න ප': 2384, ' ගෝ': 310, 'ගෝට': 1905, 'ෝට ': 4844, 'ට ප': 1975, ' පැ': 420, 'පැත': 2650, 'පැන': 2651, 'ැන ': 4251, ' තන': 345, ' ා ': 608, 'ා ග': 4082, ' ගො': 309, 'ගොඩ': 1902, 'යට': 3003, 'ල ඒ': 3272, 'ත ය': 2098, ' යට': 488, 'යටි': 3004, 'ල ඕ': 3274, 'කු': 1796, 'ුඩ': 4507, 'ගහ': 1862, '්ජ': 3951, 'අය': 1435, 'එව': 1623, 'ෙහ': 4681, 'ඳි': 2543, 'නී': 2499, 'ීත': 4471, 'ුප': 4530, 'ව ත': 3409, 'ඕ ක': 1671, ' කු': 288, 'කුඩ': 1798, 'ුඩ ': 4508, ' ගහ': 300, 'ගහ ': 1863, 'හ ග': 3771, 'න්ජ': 2448, '්ජ ': 3952, ' අය': 157, 'අයි': 1437, 'යිස': 3050, 'ිස ': 4453, 'හ එ': 3768, ' එව': 237, 'එව ': 1624, 'ඩ න': 2025, 'මෙහ': 2951, 'ෙහ ': 4682, 'හ ම': 3778, 'ෙහෙ': 4684, 'හෙය': 3880, 'ිබ ': 4398, 'අර ': 1439, ' නී': 394, 'නීත': 2500, 'ීත ': 4472, ' කා': 283, 'ල ස': 3291, 'සුප': 3742, 'ුපි': 4532, 'ිර ': 4427, 'ල ත': 3280, 'ගග': 1840, 'ීර': 4477, 'සා': 3711, 'ිද': 4373, 'ිං': 4336, 'ංස': 1382, ' !': 0, '!!': 651, 'පාග': 2635, 'තීර': 2173, 'ීරණ': 4479, 'ණ ක': 2055, 'කිස': 1794, 'ිසා': 4458, 'සා ': 3712, 'ද ව': 2219, 'විද': 3538, 'ිදි': 4377, 'ි අ': 4307, 'හිං': 3852, 'ිංස': 4338, 'ංස ': 1383, 'ස ජ': 3633, ' !!': 2, 'එද': 1611, 'හම': 3811, 'මු': 2930, 'අග': 1396, '්ර': 4025, 'උප': 1564, 'පහ': 2625, 'හා': 3832, 'ොච': 4771, 'චි': 1924, 'ැද': 4245, 'දව': 2253, 'වච': 3440, ' 🐕': 628, 'එදා': 1612, 'ා හ': 4097, ' හම': 592, 'හමු': 3815, 'මුද': 2932, 'ුදා': 4524, ' අග': 145, 'ව්ර': 3500, '්ර ': 4026, 'ර එ': 3078, 'අ ප': 1391, 'ස්ප': 3708, '්ප ': 4004, 'ප උ': 2549, ' උප': 218, 'හාර': 3837, 'ර ප': 3089, 'පුද': 2678, 'ද ක': 2207, 'කිල': 1792, 'ිලි': 4438, 'ලින': 3367, 'නොච': 2525, 'ොච්': 4772, '්චි': 3949, 'චි ': 1925, 'ි ය': 4327, 'මැද': 2918, 'දවච': 2255, 'වච්': 3441, 'පාහ': 2647, 'ර 🐕': 3103, ' තො': 359, 'ාස': 4195, 'ටහ': 1998, 'පේ': 2694, 'ේස': 4752, ' x': 136, 'x ': 1355, 'අඩ ': 1400, 'ඩ ම': 2027, ' මර': 469, 'රුන': 3240, 'න ම': 2386, 'පුල': 2681, 'ල ල': 3288, ' දා': 369, 'ා ක': 4081, 'ෙලව': 4664, 'ලවර': 3339, 'වර ': 3476, 'නාස': 2475, 'ාසා': 4199, ', ස': 679, ' ස්': 575, 'පේස': 2696, 'ේස ': 4753, ' x ': 137, 'එ හ': 1598, 'වික': 3534, 'ිකු': 4350, 'කුන': 1800, 'න 😂': 2393, 'ඉක': 1515, 'ඉක්': 1516, 'ක්ම': 1764, '්මන': 4018, 'මනි': 2874, 'න න': 2383, ' න ': 383, '\\u200d ': 4875, 'උ හ': 1550, ' හ ': 588, 'හ ඕ': 3769, 'න ර': 2388, 'මො': 2956, 'ොල': 4819, 'ොහ': 4827, 'රස': 3175, 'සි': 3726, 'යෙ': 3059, ' 😁': 634, '😁😁': 4958, 'ම ම': 2839, ' මො': 482, 'මොල': 2959, 'ොල ': 4820, 'ාරය': 4172, 'ල බ': 3284, 'බැර': 2777, 'ැරි': 4277, 'කොහ': 1817, 'ොහ ': 4828, 'හ ව': 3781, 'ව ඕ': 3403, 'ඕ ප': 1674, '\\u200dරස': 4895, 'රසි': 3179, 'සිද': 3731, 'ිද්': 4376, '්ධි': 3991, 'ධි ': 2359, 'වින': 3540, 'නාශ': 2474, 'ශ ක': 3585, 'ර ආ': 3074, 'කට ': 1712, 'ට එ': 1968, '😁😁😁': 4959, 'ුළ': 4575, 'ළ ': 3897, 'නං': 2398, 'ේ ': 4703, 'බං': 2737, 'නෙල': 2514, 'ුළ ': 4576, 'නං ': 2399, 'ං ප': 1368, ' පේ': 426, 'ඕ බ': 1675, ' බං': 432, 'බං ': 2738, 'දක': 2226, 'ුණ': 4509, 'එහ': 1628, ' මු': 477, 'මුව': 2935, 'ුවා': 4560, ' දක': 362, 'දක ': 2227, 'කුණ': 1799, 'ුණ ': 4510, 'ද ය': 2216, ' යන': 489, '්නෙ': 4001, ' එහ': 239, 'එහ ': 1629, 'ඉ ම': 1513, 'වස': 3488, '්ථ': 3974, 'ථා': 2194, 'ආර': 1483, 'ෂා': 3618, 'කඩ': 1715, 'ආ ': 1464, 'මූ': 2939, 'ූල': 4587, 'ණා': 2073, 'ඔ ': 1645, 'යේ': 3062, 'ේව': 4739, 'ඩද': 2037, 'ද,': 2222, 'එත': 1608, 'නස': 2440, 'ද?': 2223, 'ල ඔ': 3273, 'ඔබ ': 1656, 'බ ඉ': 2721, 'විව': 3547, 'ිවස': 4443, 'වස්': 3491, 'ස්ථ': 3707, '්ථා': 3976, 'ථාව': 2196, 'ව ආ': 3396, ' ආර': 176, 'ආරක': 1484, '්ෂා': 4050, 'ෂා ': 3619, 'මොක': 2957, 'ට ය': 1978, ' යක': 487, 'ක ඒ': 1692, 'ඒ ක': 1634, ' කඩ': 268, 'කඩ ': 1716, 'ඩ ප': 2026, ' ආ ': 166, ' මූ': 478, 'මූල': 2940, 'ූලි': 4588, 'ි එ': 4312, 'එ ක': 1585, 'ර ඔ': 3080, 'බ ග': 2725, 'ගෙද': 1893, 'ෙදර': 4636, 'දර ': 2244, 'ප ග': 2553, 'ණා ': 2074, ' ඔ ': 246, 'ියේ': 4425, 'ේවි': 4745, 'වි ': 3533, 'ප ක': 2552, 'ව ඒ': 3401, ' එත': 230, 'එතක': 1609, 'තක ': 2105, 'ප න': 2558, 'නොක': 2523, 'ොකි': 4768, 'ව එ': 3400, 'එකා': 1604, 'වේන': 3576, 'නස ': 2441, 'ස ම': 3639, 'ොකක': 4765, '්ද?': 3980, 'ෙත': 4631, 'ලල': 3335, 'දැන': 2284, 'ැන්': 4254, 'පලය': 2613, 'මෙත': 2945, 'ෙත ': 4632, 'වෙල': 3567, 'ලල ': 3336, 'ැති': 4244, 'තිව': 2169, 'ලො': 3381, 'ොව': 4823, 'ථි': 2197, 'සහ': 3695, ' w': 131, 'wh': 1349, 'ha': 1028, 'at': 884, 't ': 1283, ' s': 111, 'sr': 1278, 'ri': 1257, 'i ': 1052, ' l': 88, 'la': 1122, 'an': 866, 'nk': 1179, 'ka': 1102, 'a ': 809, 'ලොව': 3385, 'ොව ': 4824, 'වත ': 3451, 'ආර්': 1485, 'ර්ථ': 3190, '්ථි': 3977, ' සහ': 574, 'සහි': 3701, ' wh': 134, 'at ': 885, ' sr': 117, 'sri': 1279, 'ri ': 1258, ' la': 89, 'lan': 1124, 'ank': 872, 'nka': 1180, 'ka ': 1103, 'ාධ': 4136, 'ධ ': 2339, 'බු': 2788, 'නු': 2501, 'නල': 2431, 'අපර': 1423, 'පරා': 2607, 'රාධ': 3205, 'ාධ ': 4137, 'ධ ව': 2341, 'වල ': 3483, 'ම ත': 2834, 'ත හ': 2103, 'හම්': 3813, '්බු': 4014, 'බුන': 2791, 'අ ද': 1390, ' දැ': 370, 'ැනු': 4256, 'නුන': 2502, 'ුනා': 4529, 'නල ': 2432, ' එද': 231, 'කොල': 1816, 'ොල්': 4821, 'ෙල්': 4665, 'මරන': 2881, 'ක ත': 1697, 'ත ද': 2093, 'නැද': 2480, 'ැද ': 4246, 'ද බ': 2214, 'සම': 3672, 'රම': 3154, 'ාණ': 4122, ' t': 118, 'tv': 1310, 'v ': 1329, ' ච': 312, 'චැ': 1922, 'ිණ': 4361, 'ණි': 2075, 'මහර': 2894, 'හර ': 3820, 'රමා': 3158, 'ාණ ': 4123, 'ණ t': 2054, ' tv': 124, 'tv ': 1311, ' චැ': 317, 'චැන': 1923, 'ැනල': 4253, 'ිණි': 4362, 'ණි ': 2076, 'පො': 2697, 'ොන': 4794, 'ණව': 2068, 'පොන': 2701, 'ොන්': 4797, '්නය': 3996, 'හිල': 3861, ' රණ': 502, 'රණව': 3134, 'ණවි': 2069, 'විර': 3546, 'ර ස': 3098, ' සම': 569, 'සමර': 3675, 'මර ': 2880, 'ම්ප': 2901, ' පො': 427, 'පො ': 2698, 'ො ක': 4760, 'රං': 3107, 'තය': 2117, 'ොට': 4773, 'ටා': 2003, 'ාබ': 4155, 'බය': 2750, 'වග': 3435, 'ගක': 1838, 'ුත': 4513, ' ජි': 328, 'ජිව': 1958, 'ිවි': 4447, 'ිතය': 4365, 'තය ': 2118, 'ගොට': 1900, 'ොටා': 4776, 'ටාබ': 2005, 'ාබය': 4156, 'බය ': 2751, ' වග': 532, 'වගක': 3437, 'ගකි': 1839, 'කිව': 1793, 'යුත': 3056, 'ුත ': 4514, 'බ ඇ': 2720, 'ොරා': 4816, 'ලං': 3297, 'ංක': 1372, ' ඊ': 207, 'ලක': 3300, ' දි': 371, 'දිය': 2294, 'ියු': 4423, 'යුණ': 3055, 'න ඕ': 2377, ' ලං': 516, 'ලංක': 3299, 'ංකා': 1376, 'රගල': 3119, 'ගලක': 1859, 'ලකර': 3305, 'ර ඉ': 3076, 'ශා': 3601, 'ාප': 4149, 'ශාප': 3603, 'ාපා': 4154, 'ය ආ': 2968, ' /': 14, 'jv': 1098, 'vp': 1336, 'lf': 1129, 'fp': 1005, ' 3': 28, 'ැඳ': 4257, 'ගෑ': 1881, 'ෑව': 4303, 'ආස': 1489, '30': 725, ' j': 81, ' 0': 17, 'මෙද': 2946, 'ෙදා': 4637, 'ා ප': 4089, 'jvp': 1099, 'vp ': 1337, ' /s': 16, 'lfp': 1130, 'fp ': 1006, ' බි': 448, 'බිම': 2784, 'ිම ': 4406, 'ම හ': 2845, 'ෑව ': 4304, 'නිය': 2493, 'ියත': 4414, 'p ආ': 1214, ' ආස': 179, 'ආස ': 1490, ' jv': 83, 'ගු': 1887, 'ගුල': 1890, 'ුලි': 4551, 'ාලා': 4182, 'ා ඉ': 4076, 'ංහ': 1384, 'හල': 3823, 'කය': 1736, 'සෙ': 3748, 'ේ': 4689, 'ඉප': 1530, 'පද': 2585, 'කන': 1726, 'තො': 2187, 'රිය': 3228, 'ියන': 4416, '්නැ': 3999, 'ැ ත': 4213, ' තෙ': 357, ' සි': 579, 'සිං': 3728, 'ිංහ': 4339, 'ංහල': 1386, 'හල ': 3824, 'ල ජ': 3278, 'කය ': 1737, 'ොප': 4697, ' සෙ': 582, 'සේ': 3753, 'ේර': 4691, 'ි ඉ': 4310, ' ඉප': 202, 'ඉපද': 1531, 'පද ': 2586, 'ද ර': 2217, 'රටෙ': 3130, 'ෙිි': 4702, 'ුවෙ': 4561, 'ෙ ක': 4603, ' කන': 273, 'කනව': 1729, 'සං': 3647, 'ංව': 1381, ' සං': 560, 'සංව': 3649, 'වා ': 3506, 'ගෙ ': 1892, 'නම්': 2423, '්\\u200d ': 4064, 'කරා': 1748, 'රා ': 3199, 'ා ර': 4093, 'ැ ක': 4211, ' 1': 19, '13': 710, '5 ': 728, ' 13': 22, ' සා': 576, 'සාප': 3715, 'ාප ': 4150, 'ච ': 1910, 'ආද': 1473, 'ැර ': 4274, 'ප අ': 2547, 'ර ය': 3093, 'ස ද': 3635, 'ි ඔ': 4314, 'ඔ ඔ': 1646, 'න්ස': 2458, '්ස්': 4058, 'ු ජ': 4488, 'ල ආ': 3267, ' ආද': 171, 'ආදර': 1474, 'දරය': 2246, 'ගම': 1849, 'දඩ': 2232, 'අගම': 1397, 'ගමැ': 1852, 'මැ ': 2916, 'ිබි': 4401, 'ාලක': 4178, 'ලක ': 3301, '්ලො': 4033, 'ලොන': 3383, 'දැඩ': 2283, 'ඩි ': 2048, ' දඩ': 363, 'දඩ ': 2233, 'ඩ ද': 2024, 'කම': 1733, 'ික්': 4348, '්කම': 3935, 'මසි': 2889, 'ංහ ': 1385, 'හ ක': 3770, 'වැද': 3527, 'ැද්': 4247, '්දා': 3983, 'ා උ': 4077, 'උ අ': 1543, 'ම න': 2836, 'නිද': 2490, 'දිව': 2297, 'ිවැ': 4446, 'ලග': 3308, 'ගය': 1853, 'ෙ,': 4614, 'ද ල': 2218, ' ලග': 518, 'නෙ,': 2509, 'ඔි': 1667, 'චන': 1912, 'මළ': 2897, 'ට ජ': 1971, 'ජනා': 1941, 'නාධ': 2469, 'ාධි': 4141, 'ිප ': 4393, 'ෙ ඔ': 4601, ' ඔි': 256, 'රිස': 3231, 'ිසි': 4459, 'ිද ': 4374, 'ද ස': 2220, 'ල ච': 3277, ' චන': 314, 'චන්': 1913, 'ත ත': 2092, 'දෙම': 2318, 'ෙමළ': 4652, 'මළ ': 2898, 'මුස': 2936, 'ි ච': 4318, 'ඉල': 1533, 'ොළ': 4832, 'ළව': 3913, ' ඉල': 204, 'ඉල්': 1534, 'පොළ': 2706, 'ඔක': 1647, 'ොම': 4806, 'ණ්': 2070, '්ඩ': 3957, 'ඔක්': 1648, '්කො': 3941, 'කොම': 1815, 'ොම ': 4807, 'බ ප': 2730, 'ණ්ඩ': 2071, 'ඩිත': 2049, 'අහ ': 1459, 'හ ඉ': 3766, 'ි 😂': 4333, '🤣🤣': 4996, '>අ': 767, ' ඌ': 224, 'ඌ ': 1580, 'බබ': 2749, '🤣🤣🤣': 4997, 'r>අ': 1236, 'අන ': 1416, ' ඌ ': 225, ' බබ': 437, 'ඩග': 2034, 'ඉන': 1526, 'නර': 2429, ' 6': 31, '6 ': 732, 'හබ': 3809, 'ලෙ': 3377, ' c': 55, 'co': 922, 'om': 1199, 'mm': 1157, 'me': 1152, 'en': 975, 'nt': 1189, 'ජ්': 1948, 'ාය': 4163, 'හන': 3798, 'ඇද': 1497, 'දග': 2230, 'ස බ': 3638, ' ඉන': 200, 'ඉන්': 1527, 'කන්': 1730, 'න්ඩ': 2450, '්ඩ ': 3958, 'ඩ ය': 2028, ' 6 ': 32, '6 ප': 733, 'ැ ව': 4220, 'මහබ': 2893, 'හබැ': 3810, 'ැංක': 4224, 'ංක ': 1373, 'ඩ එ': 2020, 'තමා': 2115, 'ර හ': 3099, 'හොද': 3890, 'පල්': 2615, 'ලෙහ': 3378, 'ෙහා': 4683, 'හා ': 3833, ' co': 57, 'com': 924, 'mme': 1158, 'men': 1154, 'ent': 980, 'nt ': 1190, ' වු': 549, 'වු ': 3554, 'ු ම': 4490, 'ඩ අ': 2019, 'ල ද': 3281, 'දැම': 2285, 'බ ව': 2733, 'වුන': 3556, 'ාජ්': 4117, 'ජ්ජ': 1949, 'නාය': 2471, 'ාය ': 4164, ' නම': 387, 'නම ': 2422, ' මද': 465, 'මද්': 2867, 'යවෙ': 3027, 'වෙද': 3564, 'ගහන': 1864, 'ොඩි': 4787, 'ගාර': 1872, 'ඩ ස': 2031, 'සුද': 3740, 'ුදු': 4525, 'දග ': 2231, 'ිටි': 4360, 'සිල': 3734, 'රගෙ': 3120, 'ගෙන': 1894, 'sa': 1270, 'am': 861, 'mp': 1162, 'pa': 1218, 'th': 1293, 'එය': 1618, 'ෙළ': 4685, 'ළා': 3915, 'ාත ': 4125, 'අනා': 1418, 'නාග': 2466, 'ති ': 2157, 'උන්': 1562, '්නත': 3995, 'නත ': 2409, 'ෙ ව': 4611, 'ඉතා': 1521, 'amp': 865, 'ath': 889, 'tha': 1295, 'ha ': 1029, 'a එ': 824, ' එය': 235, 'එය ': 1619, 'කිර': 1791, 'හෙළ': 3883, 'ෙළා': 4688, 'ළා ': 3916, 'දකි': 2228, 'වභ': 3468, 'භව': 2812, 'දහ': 2259, 'රජ': 3122, 'ජත': 1936, 'ිල්': 4437, 'ල්ව': 3347, 'ව ස': 3419, 'ස්ව': 3709, 'වදහ': 3459, 'දහම': 2261, 'මෙ ': 2942, 'ෙ ර': 4610, 'මාව': 2913, ' රජ': 500, 'රජත': 3124, 'ව ල': 3417, 'එ ද': 1588, ' දව': 367, 'දවස': 2257, 'වසි': 3492, 'සි ': 3727, 'ණ ර': 2060, 'වම': 3469, 'උත': 1556, 'සව': 3689, 'මං': 2848, 'යල': 3020, 'ාම': 4159, 'ඕක': 1679, 'ෙඩ': 4627, 'ිරු': 4433, 'වම ': 3470, 'රන ': 3145, 'අ උ': 1389, ' උත': 215, 'උත්': 1558, 'ත්ස': 2140, '්සව': 4057, 'සව ': 3690, 'පවත': 2619, 'අලි': 1446, 'මංක': 2850, 'ංකඩ': 1374, 'ියල': 4419, 'යල ': 3021, 'පාම': 2642, 'එ න': 1589, ' ඕක': 259, 'වෙඩ': 3563, 'ෙඩි': 4628, 'උස': 1576, 'ැස': 4288, ' <': 39, '>ග': 773, '>ස': 792, 'සේ': 3754, 'ේර': 4731, '>ඉ': 769, 'ොපි': 4804, 'ගන ': 1846, ' උස': 223, 'උස්': 1578, 'බලප': 2757, 'ලප ': 3322, 'පොල': 2703, 'ැස ': 4289, 'ස එ': 3629, ' <b': 40, '>ග ': 774, 'ග ත': 1827, 'ියෙ': 4424, 'යෙන': 3061, 'r>ස': 1249, 'සේර': 3755, 'ේර ': 4732, 'ෙලෙ': 4668, 'ෙන්': 4643, 'ද ග': 2208, 'ස <': 3624, 'r>ඉ': 1237, 'ල ය': 3286, 'යනව': 3011, 'පන': 2589, 'පෝ': 2707, 'ෝල': 4864, 'සැ': 3719, 'ැප': 4258, 'ිඋ': 4340, '2 ': 717, 'අදු': 1411, 'දුර': 2309, 'ුර ': 4542, 'ල උ': 3270, 'ද්\\u200d': 2268, '\\u200dයා': 4883, 'යාප': 3038, 'ාපන': 4152, 'පනය': 2591, 'ීවි': 4483, ' පෝ': 428, 'පෝල': 2709, 'ෝලි': 4866, 'උබල': 1570, 'බල ': 2755, 'මුල': 2934, 'ත ස': 2102, ' සැ': 577, 'සැප': 3720, 'ැප ': 4259, 'ඉ එ': 1508, 'තිඋ': 2159, 'ිඋ ': 4341, 'උ එ': 1545, 'ොඩ ': 4781, 'සමා': 3677, 'වස ': 3489, ' 2 ': 25, 'ැදු': 4249, 'හ බ': 3777, 'ිබු': 4402, 'චා': 1920, 'පෙ': 2688, 'ශක': 3588, 'නවි': 2439, 'නමා': 2424, 'ා ආ': 4074, ' ආච': 168, 'චාර': 1921, ' තස': 349, '්ත්': 3969, ' පෙ': 425, 'පෙන': 2690, 'ෙනි': 4645, 'සිට': 3729, '\\u200dර ': 4885, 'පොශ': 2704, 'ාති': 4128, 'වෙන': 3565, 'ෙනා': 4644, 'සෙන': 3750, 'නාද': 2468, 'ාදි': 4135, 'දින': 2291, 'ායක': 4165, 'එ ව': 1596, 'දන ': 2235, 'ආබ': 1479, 'ධා': 2354, 'දල': 2250, ' h': 74, 'hi': 1037, 'gh': 1013, 'wa': 1340, 'ay': 895, 'y ': 1356, 'ටර': 1991, 'ංග': 1377, ' ශ': 553, 'ආබා': 1480, 'බාධ': 2772, 'ධිත': 2360, 'වන්': 3465, 'කි ': 1788, 'ඩ ත': 2023, 'බ ස': 2734, 'ධාර': 2357, 'ුදල': 4521, 'දල ': 2251, ' hi': 76, 'ay ': 896, 'රාක': 3200, 'බිල': 2786, ' ගණ': 294, 'ණ ප': 2058, 'ටර ': 1992, ' ශා': 556, 'ැග': 4228, 'නග': 2403, 'ාට': 4118, 'සත': 3656, 'ුට': 4503, 'ටු': 2012, 'ුය': 4538, 'තහ': 2131, 'ඇත්': 1494, 'ෙනස': 4642, 'ස ව': 3643, 'හැග': 3842, 'ැග ': 4229, 'ග ස': 1836, 'කනග': 1728, 'නගා': 2405, 'ගාට': 1869, 'ාට ': 4119, 'ට ව': 1981, ' සත': 564, 'සතු': 3659, 'තුට': 2176, 'ුටු': 4506, 'ුය ': 4539, 'ය <': 2966, 'අතහ': 1404, 'බෑ ': 2781, 'ගර': 1855, 'පෞ': 2711, 'ෞද': 4871, '්ග': 3942, 'භා': 2815, 'යම': 3014, 'රත': 3135, 'සන': 3664, 'ුග': 4498, 'වබ': 3466, 'බෝ': 2805, 'ෝද': 4852, '්<': 3929, '>න': 779, 'ොත': 4788, 'ශය': 3596, 'තව': 2127, ' භ': 455, 'භය': 2810, 'ූම': 4583, 'දී': 2300, 'ඉඩ': 1518, 'ගර ': 1856, 'මැත': 2917, 'ත ම': 2097, ' පෞ': 429, 'පෞද': 2712, 'ෞද්': 4872, 'ද්ග': 2265, '්ගල': 3944, 'ගලි': 1861, 'අදහ': 1410, 'දහස': 2262, 'ස ප': 3637, 'පාප': 2641, 'ාපත': 4151, 'පතර': 2582, 'ිදු': 4378, 'දුව': 2311, 'ගාල': 1873, 'කරු': 1749, 'භාග': 2816, 'ිත්': 4369, '්වය': 4037, 'ය ත': 2979, 'ෙ බ': 4608, 'බැහ': 2779, 'ඒ අ': 1633, 'අය ': 1436, 'ගලය': 1860, 'ය උ': 2971, 'නත්': 2410, 'ත්ක': 2133, '්කල': 3937, ' යම': 490, '්කි': 3940, '\\u200dරත': 4889, 'රති': 3138, 'තිප': 2164, 'පත්': 2583, ' මේ': 480, 'මේව': 2955, 'ේව ': 4740, 'දේව': 2329, '්කර': 3936, 'ටුව': 2013, 'වාස': 3519, 'ාසන': 4197, 'සනා': 3667, 'පිං': 2660, 'ිං ': 4337, 'පවු': 2622, 'අවබ': 1450, 'වබෝ': 3467, 'බෝද': 2806, 'ෝදය': 4853, 'යක්': 2999, '්<b': 3930, 'ි ආ': 4308, 'ආගම': 1467, 'ගම ': 1850, 'ම ද': 2835, ' දහ': 368, 'හම ': 3812, 'ප ර': 2563, 'ලාප': 3356, 'පෙර': 2691, 'රොත': 3255, 'ොත්': 4790, 'ාශය': 4194, 'ශය ': 3597, 'න ව': 2390, 'පොර': 2702, 'ොරො': 4818, 'තව ': 2128, ' භය': 456, 'මි ': 2921, 'රැද': 3214, ' බු': 449, 'බුද': 2790, 'ධිම': 2362, 'ිමත': 4407, 'මතු': 2864, ' ඉඩ': 197, 'ඉඩ ': 1519, 'ා ඔ': 4080, 'සැම': 3721, 'මද ': 2866, 'ලාල': 3357, 'ලොර': 3384, '්තු': 3972, 'තුව': 2183, 'ඇවි': 1505, 'බර ': 2753, 'පුත': 2677, 'ුතු': 4518, 'තුන': 2178, 'මාල': 2912, ' බා': 445, 'සැර': 3722, 'රස ': 3176, 'ස ඉ': 3627, 'ල්ප': 3344, 'කැප': 1782, 'ැපව': 4261, 'පව ': 2618, ' වත': 535, 'වතු': 3455, 'තුර': 2181, '😢😢': 4975, 'ඔල': 1662, 'ආව': 1487, 'ේල': 4736, ' 7': 34, '😢😢😢': 4976, 'යන ': 3010, 'කුව': 1804, 'ුවය': 4558, 'වයි': 3474, 'ට ම': 1977, 'මදැ': 2869, 'ැ ග': 4212, ' ආව': 177, 'ආව ': 1488, 'වේල': 3577, 'ේල ': 4737, 'මදි': 2870, 'ෙලා': 4666, 'තල': 2125, 'ඔයා': 1660, 'කයි': 1738, 'ලිස': 3372, 'ස හ': 3645, 'ාවෙ': 4191, ' ලම': 521, ' බෙ': 450, 'බෙහ': 2796, 'හ න': 3775, ' තා': 352, 'තල ': 2126, 'උ ප': 1547, 'ත උ': 2083, 'රශ': 3172, ' 🤣': 648, '\\u200dරක': 4886, 'රකා': 3113, '\\u200dරශ': 4894, 'රශ ': 3173, ' 🤣🤣': 649, 'හල්': 3827, 'බද': 2745, 'නඩ': 2407, 'ඩත': 2035, 'පඩ': 2578, 'ි,': 4335, 'ෝර': 4863, 'ීස': 4484, '80': 739, ',ඉ': 685, 'ඉස': 1537, 'ඉඳ': 1528, ' ණ': 339, 'ණය': 2065, 'න,': 2394, 'වො': 3581, 'සල': 3684, 'ට,': 1984, 'බද ': 2746, 'පුට': 2676, 'ුට ': 4504, 'රජ ': 3123, ' සේ': 583, 'සේව': 3756, 'ේවක': 4741, 'වක ': 3433, ' නඩ': 386, 'ඩත්': 2036, ' 00': 18, '000': 705, '00 ': 704, ' පඩ': 405, 'පඩි': 2579, 'ගෙව': 1896, 'යි,': 3044, ', ක': 671, '80 ': 740, 'ඉස්': 1538, '්සර': 4055, 'සර ': 3681, ' ඉඳ': 201, 'ඉඳ ': 1529, ' ණය': 340, 'ණය ': 2066, 'ඕකු': 1680, 'කු ': 1797, 'ු ප': 4489, '්න,': 3994, 'න, ': 2395, ', ද': 674, 'ාලු': 4184, 'ුවො': 4563, 'වො ': 3582, 'ො හ': 4762, 'ොරක': 4814, 'රක ': 3111, ' සල': 571, 'සල්': 3687, ' බද': 435, 'දිහ': 2299, '77': 736, '7 ': 735, 'සූ': 3746, 'ූද': 4580, 'රප': 3150, 'ිඳ': 4390, 'කළ': 1758, '77 ': 737, ' වස': 541, 'වසර': 3490, 'දාප': 2274, 'ප ම': 2561, ' සූ': 581, 'සූද': 3747, 'කරප': 1743, 'රප ': 3151, 'ස අ': 3625, 'විඳ': 3541, 'ිඳි': 4391, 'ඳි ': 2544, ' කළ': 281, 'කළ ': 1759, 'දෙය': 2319, ' මස': 472, ' කට': 267, 'මු ': 2931, 'හ ත': 3773, 'එක ': 1600, 'ඕ ව': 1678, 'ය ඕ': 2974, 'ෂ ප': 3608, 'වුල': 3558, 'ල 😠': 3294, 'කෑ': 1785, 'ඔත': 1651, 'වී': 3551, '්දි': 3984, ' කෑ': 285, 'කෑ ': 1786, 'ෑ ග': 4298, ' ඔත': 249, 'ඔතන': 1652, ' ඔක': 247, 'ක ග': 1695, ' වී': 548, 'වීර': 3552, 'ෙට': 4625, 'එහෙ': 1630, 'හෙන': 3878, 'ොහෙ': 4830, 'හෙට': 3876, 'ලෝ': 3387, 'ෝක': 4836, 'කේ': 1810, 'එල': 1620, 'නප': 2416, 'සෞ': 3761, 'ෞඛ': 4870, 'වති': 3454, 'ලෝක': 3388, 'ශ්ව': 3599, '්වර': 4038, 'සත්': 3658, ' එල': 236, 'එල ': 1621, 'පෙ ': 2689, 'ෙ ස': 4612, 'සම ': 3673, 'ම ස': 2844, ' ල ': 515, ' සෞ': 586, 'සෞඛ': 3762, '\\u200dයය': 4881, 'රස්': 3177, ' පන': 408, 'ටිය': 2011, 'පට': 2574, ' පට': 404, 'පට ': 2575, 'තැ': 2152, ' තැ': 353, 'තැන': 2154, 'ඉ ක': 1509, 'එ ග': 1586, '>බ': 781, ' කම': 276, 'ා <': 4071, 'r>බ': 1244, 'ය ල': 2988, 'ාකර': 4106, 'ඩා': 2045, 'කැම': 1783, 'තනත': 2111, 'නතු': 2412, 'ර භ': 3091, ' භා': 458, 'භාර': 2817, 'ූදා': 4581, 'දාන': 2273, ' භව': 457, 'ේද ': 4719, 'කැත': 1781, 'රාද': 3204, 'ොඩා': 4786, 'ඩා ': 2046, 'ාරන': 4171, 'රනය': 3146, 'නයක': 2428, 'ධව': 2350, 'ේප': 4727, 'පළ': 2629, 'ඉර': 1532, 'ඒව': 1643, 'ුච': 4500, '්ඡ': 3950, 'ඡ ': 1929, 'පම': 2596, 'මණ': 2858, '>ඔ': 770, 'කණ': 1717, 'ණග': 2063, 'ධව ': 2351, 'ඳ ඒ': 2536, 'දේප': 2328, ' ඉර': 203, 'කරම': 1744, ' ඒව': 244, ' හා': 595, ' තු': 356, 'තුච': 2175, 'ච්ඡ': 1919, ' ක්': 282, 'ක්\\u200d': 1770, '\\u200dරි': 4898, 'යාව': 3040, 'ර ශ': 3097, ' ශක': 554, 'ශක්': 3589, 'ක්ත': 1763, 'ත ඇ': 2081, 'ත ඒ': 2085, 'ෝඩය': 4851, ' පම': 410, 'පමණ': 2597, 'ි <': 4306, 'r>ඔ': 1238, 'සිත': 3730, ' කණ': 269, 'කණග': 1718, 'ණගා': 2064, 'ch': 916, 'he': 1034, 'em': 972, 'mi': 1155, 'is': 1081, 'st': 1281, 'tr': 1303, 'ry': 1264, ' p': 103, 'ap': 874, 'pe': 1219, 'er': 984, ' a': 45, 'av': 891, 'va': 1332, 'ar': 878, 'ra': 1250, 'ag': 846, 'ge': 1010, 'e ': 942, ' ළ': 603, 'ළම': 3908, 'මය': 2876, ' 😢': 640, 'che': 919, 'hem': 1035, 'emi': 974, 'mis': 1156, 'ist': 1085, 'str': 1282, 'ry ': 1265, ' pa': 104, 'ape': 876, 'er ': 985, ' av': 50, 'ava': 892, 'ara': 879, 'age': 848, 'ge ': 1011, ' ළම': 604, 'ළමය': 3910, 'මය ': 2877, 'ාධා': 4140, 'ාරණ': 4170, 'ණ ව': 2061, 'ිහ ': 4462, ' 😢😢': 641, 'ුහ': 4572, 'සට': 3654, 'ජක': 1935, 'මක': 2851, 'සො': 3757, 'මග': 2854, 'ග්': 1866, 'ලබ': 3325, 'වෑ': 3531, 'කී': 1795, 'හය': 3816, 'යප': 3013, 'ඩක': 2033, 'රව': 3167, 'ෙස': 4679, 'කවු': 1757, 'රුහ': 3244, 'ුහර': 4573, 'ැමර': 4270, ' සට': 563, 'සටහ': 3655, 'ටහන': 1999, 'හන්': 3802, 'ොලි': 4822, 'ට අ': 1965, 'කෙර': 1807, 'මක ': 2852, ' බය': 438, 'මොන': 2958, 'න්ට': 2449, '්ටි': 3956, ' මග': 463, 'ග්\\u200d': 1867, 'හ උ': 3767, 'බ ම': 2732, 'මෙක': 2943, 'ෙක ': 4618, ' ගම': 297, 'තික': 2160, 'ිකම': 4344, 'කම ': 1734, 'නෙය': 2513, 'අනු': 1420, '්පා': 4006, 'පාව': 2645, ' ලබ': 520, 'ලබ ': 3326, ' වෑ': 546, 'යම ': 3015, ' කී': 287, ' හය': 593, 'ොඩක': 4782, '\\u200dරව': 4893, 'වෙස': 3569, 'පරි': 2608, ' ලි': 526, 'ලිප': 3368, 'අස්': 1457, ' වය': 538, 'රෙන': 3249, 'ෙ ප': 4607, 'උඩ': 1552, 'ුබ': 4533, 'නාත': 2467, 'ඩ හ': 2032, 'ොරව': 4815, 'න්ග': 2447, '්ග ': 3943, ' උඩ': 213, 'බ එ': 2723, 'පොඩ': 2699, 'ල ඉ': 3269, ' ඉද': 199, 'ඉද ': 1524, 'හනව': 3801, 'ජෙ': 1961, 'ෙප': 4646, 'ජෙප': 1962, 'ෙප්': 4647, 'ප ආ': 2548, 'නොම': 2530, 'මිල': 2927, 'ම,': 2847, 'po': 1225, 'we': 1343, 'ා,': 4099, 'n ': 1164, 'ක ඔ': 1693, 'දරි': 2248, 'ා ය': 4092, 'ිව්': 4444, 'ව්ව': 3502, ' po': 105, 'නා,': 2464, 'ග ග': 1826, 'ගින': 1884, 'නිබ': 2491, 'an ': 867, 'n එ': 1165, 'එ උ': 1583, 'වග ': 3436, 'ඇල': 1502, 'යද': 3007, ' ඇල': 190, 'ඇල්': 1503, 'උසා': 1579, 'සාව': 3718, 'ාවි': 4190, 'විය': 3545, 'ියද': 4415, 'යද ': 3008, 'පන්': 2592, 'න්ප': 2455, 'ලස': 3340, 'ශා ': 3602, 'ා ල': 4094, ' ලස': 523, 'ලස්': 3342, '්සන': 4053, 'සන ': 3665, 'ආප': 1477, ' ආප': 173, 'ආප ': 1478, 'නෙව': 2515, 'ෙවෙ': 4675, 'වෙය': 3566, 'බ බ': 2731, 'සිර': 3733, 'ි ල': 4329, 'ලං ': 3298, 'ං ම': 1369, 'මාත': 2908, 'ාතා': 4127, 'අරි': 1442, 'දූ': 2313, 'ූෂ': 4591, 'ෂි': 3620, 'ලධ': 3315, 'රී': 3233, 'ී ': 4469, 'ad': 842, 'di': 934, 'ැට': 4232, 'තේ': 2188, ' n': 97, 'ni': 1177, 'iw': 1090, 'ta': 1287, ' දූ': 374, 'දූෂ': 2314, 'ූෂි': 4593, 'ෂිත': 3621, 'ලධා': 3316, 'රී ': 3234, 'ක ජ': 1696, 'ාවා': 4189, 'තාම': 2148, 'ාම ': 4160, 'ු අ': 4486, 'යයෙ': 3019, 'යෙ ': 3060, 'ෙ උ': 4599, 'උත ': 1557, 'adi': 844, 'dis': 936, 'isa': 1082, 'ඒ ත': 1635, 'සාම': 3716, 'ාමු': 4162, 'මුහ': 2937, 'හික': 3854, 'ිකව': 4347, 'කව ': 1755, 'ි ජ': 4319, 'හැට': 3843, 'ැට ': 4233, ' තේ': 358, 'තේර': 2189, 'ග න': 1828, ' ni': 101, 'wat': 1342, 'ata': 886, 'ta ': 1288, 'a ජ': 827, 'සාද': 3714, '😆😆': 4970, 'ද ආ': 2202, 'පල ': 2611, '😆😆😆': 4971, 'වෝ': 3583, 'ග ව': 1835, 'ාස ': 4196, '්සල': 4056, 'සල ': 3685, 'ඉ හ': 1514, 'හාම': 3835, 'ුවෝ': 4564, 'වා,': 3508, 'ා, ': 4100, 'ගැන': 1878, 'සුළ': 3745, 'ළ ජ': 3900, ' තව': 348, 'කුල': 1803, 'කාග': 1773, 'ගනි': 1848, 'හලය': 3825, 'න ග': 2379, 'ප ය': 2562, 'ඊල': 1540, 'ඟ ': 1909, 'එ ම': 1592, ' ඊල': 209, 'ෙ ත': 4604, 'ධ්': 2352, 'ැනි': 4255, 'මාධ': 2909, 'ාධ්': 4139, 'ධ්\\u200d': 2353, '\\u200dය ': 4878, 'ඩව': 2042, 'රූ': 3245, 'අභ': 1428, 'භ්': 2813, 'ශග': 3590, ' 🙏': 645, '🙏🙏': 4991, 'පාද': 2638, 'දොඩ': 2333, 'ොඩව': 4785, 'ක ර': 1703, ' රූ': 512, 'රූම': 3246, 'ූමස': 4584, 'සලි': 3688, ' අභ': 155, 'අභ්': 1429, 'භ්\\u200d': 2814, 'ාවක': 4187, 'ශගත': 3591, 'ර 🙏': 3105, ' 🙏🙏': 646, '🙏🙏🙏': 4993, 'සය': 3678, 'ංච': 1378, 'ගෞ': 1907, 'ෞර': 4873, 'මාස': 2914, 'ාසය': 4198, 'සය ': 3679, ' පද': 407, 'පදි': 2588, ' ගෞ': 311, 'ගෞර': 1908, 'ෞරව': 4874, 'රවය': 3169, ' සර': 570, 'සරන': 3683, 'ව,': 3425, ',අ': 684, 'පොත': 2700, 'ොත ': 4789, 'ක එ': 1691, 'නව,': 2435, 'හද ': 3795, 'හේ': 3885, 'ේත': 4715, 'යහ': 3028, 'ැක': 4225, '15': 712, ' \\u2063': 615, '\\u2063අ': 4900, 'ොය': 4809, 'යග': 3000, ' හේ': 601, 'හේත': 3886, 'ේත ': 4716, '201': 720, '15 ': 713, ' \\u2063අ': 616, 'මණ ': 2859, 'මික': 2922, 'හොය': 3893, 'යග ': 3001, 'ලබා': 3327, 'බාද': 2771, 'ැ බ': 4217, ' පහ': 416, 'පහල': 2627, 'හලව': 3826, 'ග ප': 1829, 'පුම': 2679, '? ': 796, 'ඇර': 1501, 'බුණ': 2789, 'ේවය': 4743, 'රාන': 3206, 'හ හ': 3783, 'හැස': 3849, 'ැසි': 4291, 'ාද?': 4131, 'ද? ': 2224, '? ක': 798, 'ළ ර': 3904, 'ගාධ': 1870, 'ාධය': 4138, 'ව ඇ': 3397, ' ඇර': 189, 'ෙ ම': 4609, ' මම': 467, 'මන ': 2872, 'දැක': 2282, 'ැක ': 4226, 'ස්ට': 3705, 'එළ': 1631, '22': 721, '25': 723, 'ටව': 1996, 'ස ඇ': 3626, 'තෙර': 2185, 'ග එ': 1824, 'ළව ': 3914, ' 22': 27, '225': 722, '25 ': 724, 'එලව': 1622, 'අන්': 1417, '්තව': 3968, 'තවා': 2130, 'ාදය': 4132, 'බන': 2747, 'තිම': 2166, 'මුර': 2933, 'ර්ත': 3189, ' බන': 436, 'බන්': 2748, 'ලත්': 3313, '්වි': 4040, 'විට': 3536, 'දාග': 2272, '්,': 3926, 'නුම': 2503, '්, ': 3927, ', ග': 672, 'නිත': 2489, 'එ ප': 1590, 'ිපල': 4395, 'ිශ': 4450, 'ෙශ': 4676, '>ම': 783, 'il': 1064, ' m': 91, ' b': 51, 'be': 905, 'ee': 963, 'විශ': 3548, 'ෙශය': 4678, 'ය ඔ': 2973, 'ඉදි': 1525, 'දිර': 2295, 'සත ': 3657, 'ර <': 3070, 'r>ම': 1245, '>මි': 785, 'ril': 1259, 'ila': 1066, 'a m': 817, ' be': 53, 'සඳ': 3668, 'ඉති': 1522, 'තිං': 2158, 'ඒ ව': 1639, 'විස': 3549, 'ිසඳ': 4455, 'සඳ ': 3669, 'ඳ ම': 2541, 'ොනා': 4798, 'ොබ': 4805, 'සද': 3660, ' ලො': 528, ' මත': 464, 'මත්': 2863, 'ලකය': 3304, 'ෙවා': 4673, 'ිසද': 4454, 'සද ': 3661, 'කැ ': 1780, 'හැර': 3848, 'හව': 3828, ' 😮': 642, '😮😮': 4981, 'හුස': 3873, 'ුස ': 4569, 'ව ට': 3408, ' 😮😮': 643, '😮😮😮': 4982, 'මට': 2856, 'ලද': 3314, 'එනව': 1614, 'මටව': 2857, 'ටව ': 1997, 'ුහු': 4574, 'හුද': 3868, 'න ඒ': 2375, 'ඒව ': 1644, 'හප': 3806, 'වැ ': 3524, 'වජ': 3442, ' (': 6, '( ': 666, ' )': 8, ') ': 667, 'වජි': 3444, 'ඉ න': 1512, 'ැහ ': 4293, 'හ (': 3764, ' ( ': 7, 'පින': 2664, ' ) ': 9, ' තක': 343, 'ීර ': 4478, 'ද එ': 2205, 'ආත': 1470, 'ිවු': 4448, 'වුස': 3559, 'ැ ද': 4214, ' හප': 591, 'හප ': 3807, 'ට, ': 1985, ', ආ': 670, ' ආත': 170, 'ස ර': 3641, 'සම්': 3676, 'තැබ': 2155, 'ැබ ': 4263, 'නොහ': 2532, 'ොහැ': 4829, 'ස ඔ': 3630, 'සිව': 3735, 'ව්ස': 3503, 'ස්ක': 3704, '්කන': 3934, 'න්ධ': 2453, 'මග ': 2855, 'ග ය': 1832, 'ව ච': 3406, 'ෝටා': 4845, 'ටා ': 2004, 'ත ඉ': 2082, 'jo': 1097, 'on': 1201, 'nn': 1181, ' e': 63, 'ng': 1176, 'gl': 1015, 'li': 1131, 'sh': 1272, 'h ': 1025, 'ේම': 4729, ' en': 65, 'වගේ': 3439, 'ගේම': 1898, 'මයි': 2878, 'ආන': 1475, 'රොන': 3257, ' ආන': 172, 'ආන්': 1476, 'වට්': 3447, 'ට න': 1974, 'ිදහ': 4375, 'පාත': 2637, 'තාල': 2150, 'නැව': 2481, 'ැවත': 4287, ' ජ ': 324, 'හවු': 3829, 'ෙකට': 4619, ' යහ': 492, 'යහප': 3029, 'හපා': 3808, 'උර': 1573, 'තත': 2107, 'ඹ ': 2962, 'වහ': 3493, 'ේක': 4708, 'ෙව්': 4672, 'තන්': 2112, ' උර': 221, ' තත': 344, 'තත්': 2108, ' වහ': 542, 'වහන': 3494, 'තරා': 2124, 'රාත': 3203, 'තිර': 2168, 'නොබ': 2529, 'බ ද': 2728, 'එ බ': 1591, 'එවු': 1625, 'ැජ': 4230, ' ලක': 517, 'ලක්': 3306, 'දිග': 2289, 'ිග ': 4352, 'හිද': 3857, 'ලකා': 3307, 'කාය': 1774, 'කොට': 1813, 'ොටි': 4777, 'ලිව': 3371, 'ාරක': 4168, 'ලැජ': 3361, 'ජා ': 1952, '්කඩ': 3933, 'ුෂ': 4565, 'ුෂා': 4567, 'ොප ': 4802, 'බඩ ': 2742, 'ත ජ': 2091, 'ප ස': 2566, 'ාභ': 4157, 'ආණ': 1468, 'ට ස': 1982, 'වාභ': 3514, 'භාව': 2818, 'විප': 3542, 'ට ද': 1973, 'දැහ': 2286, 'දහ ': 2260, ' ඉක': 195, ' ආණ': 169, 'ආණ්': 1469, 'ිසු': 4460, 'සුර': 3743, 'ුරව': 4545, 'රව ': 3168, 'ස න': 3636, 'රගන': 3118, 'රැල': 3216, 'ෙණ': 4629, 'පාස': 2646, ' ගර': 298, 'ර ඕ': 3081, 'ඕ ම': 1676, 'ොට ': 4774, ' ජෙ': 330, 'හෙණ': 3877, 'ෙණ ': 4630, 'ණ ග': 2056, 'ts': 1304, 's ': 1266, 'ඊ ': 1539, '්ඝ': 3945, 'ෝෂ': 4867, 'ෂණ': 3611, 'ne': 1172, 'ew': 994, 'ws': 1350, 'නේ': 2517, 'සස': 3692, ' ධ': 379, 'ධර': 2347, 'ෝධ': 4855, 'එම': 1617, 'ථ ': 2192, 'ඳු': 2545, 'රෝ': 3259, 'ෝග': 4838, 'ඔව': 1663, 'ts ': 1305, ' මං': 461, 'මං ': 2849, ' ඊ ': 208, 'ෂණ ': 3612, ' ne': 100, 'new': 1175, 'ews': 996, 'ws ': 1351, 's එ': 1267, 'එ ය': 1593, ' අච': 146, 'ැපක': 4260, 'පකි': 2570, 'මන්': 2873, '\\u200dරණ': 4888, 'රණය': 3133, 'දරණ': 2245, ' වා': 544, 'තැ ': 2153, 'ණ න': 2057, ' නේ': 397, 'නේද': 2520, 'ේද?': 4720, 'කුර': 1802, 'ුරි': 4547, 'රිර': 3229, 'ිපි': 4396, 'පිද': 2663, ' සස': 573, 'සසර': 3694, ' ධර': 380, 'ධර ': 2348, 'බෝධ': 2807, 'ිවන': 4441, 'වෙව': 3568, ' පත': 406, 'පත ': 2581, ' එම': 234, 'මාන': 2910, 'ානස': 4146, 'නසි': 2442, ' ආබ': 174, 'ව ඉ': 3398, '\\u200dරා': 4897, 'රාර': 3208, '්ථ ': 3975, 'ථ ක': 2193, 'ාන්': 4147, 'ෙද ': 4635, 'මහ ': 2891, ' වන': 537, 'වනව': 3464, 'නිර': 2494, 'ිරෝ': 4434, 'රෝග': 3260, 'ෝග ': 4839, 'සුව': 3744, 'සිය': 3732, ' ඔව': 254, 'ාමා': 4161, 'මාජ': 2907, 'ිකය': 4345, 'අති': 1406, ' සද': 565, 'සදා': 3663, 'ා ණ': 4085, 'ළය': 3911, ' ච ': 313, 'ෑ ල': 4300, 'ෙළය': 4687, 'ළය ': 3912, 'ත ච': 2090, 'ෑ ර': 4299, 'ා ඇ': 4075, 'හ ජ': 3772, 'ධර්': 2349, 'ර්ම': 3192, '්මි': 4020, 'රැක': 3212, ' f': 68, 'ැණ': 4239, 'බව': 2762, 'ඹ ප': 2963, 'ොරැ': 4817, 'රැ ': 3211, 'ඒ හ': 1640, 'ු ස': 4491, 'සහ ': 3696, 'නේව': 2521, ' ගල': 299, 'යුග': 3054, 'ුගය': 4499, 'ගය ': 1854, 'තාක': 2145, 'ාක්': 4107, '්ෂණ': 4048, 'ෂණය': 3613, ' ලෝ': 529, 'ෝක ': 4837, 'තවම': 2129, 'ෙලි': 4667, 'අලු': 1447, 'ලුත': 3374, 'ුත්': 4516, 'රැණ': 3213, 'ැණ ': 4240, 'පරප': 2604, 'රපු': 3153, 'පැම': 2652, 'ැමි': 4272, 'මිණ': 2924, 'ඇත ': 1493, ' බව': 441, 'බව ': 2763, 'ේන ': 4724, 'කොන': 1814, 'ය ජ': 2977, 'දුන': 2307, 'යකය': 2998, 'හී': 3864, '>ර': 787, ' ❤': 620, ' හී': 598, 'කින': 1789, 'බේර': 2799, 'එකත': 1602, 'කත ': 1721, 'r>ර': 1246, '>රට': 788, 'ස ❤': 3646, 'රෑ': 3218, ' මන': 466, ' ග්': 301, 'රෑ ': 3219, 'ෑ ව': 4301, 'පූ': 2684, 'ූර': 4585, '්ණ': 3959, 'ථික': 2198, ' සව': 572, '්ක්': 3938, '>සි': 794, 'යල්': 3022, '්පූ': 4008, 'පූර': 2685, 'ූර්': 4586, 'ර්ණ': 3188, 'අං': 1393, 'කබ': 1732, ' අං': 143, ' කබ': 275, 'දාල': 2277, 'ජ්\\u200d': 1950, 'දිප': 2292, 'ිරස': 4429, 'ටය': 1989, 'රන්': 3148, 'කටය': 1713, 'ටයු': 1990, 'පාන': 2640, 'ඕග': 1681, 'ma': 1147, 'ak': 854, 'ke': 1111, '😅😅': 4968, '😅 ': 4967, 'ඩ්': 2043, 'ිළ': 4465, 'ළි': 3917, 'ඕගො': 1682, 'ගොල': 1903, ' ma': 92, 'mak': 1149, 'e අ': 953, 'අල ': 1444, 'ෙ න': 4606, ' ඉස': 206, 'සෙල': 3752, '්දේ': 3986, 'දේග': 2326, 'ේග ': 4711, 'ඩ්ඩ': 2044, 'අගය': 1398, ' ලා': 524, 'පිළ': 2671, 'ිළි': 4466, 'ළිග': 3919, 'තමු': 2116, ' රක': 499, 'රකි': 3114, 'යාල': 3039, 'ම ඔ': 2830, 'රේ': 3251, 'ජි ': 1956, '\\u200dරේ': 4899, 'රේම': 3252, 'ේමද': 4730, 'දාස': 2279, 'රසා': 3178, 'සාර': 3717, 'රාම': 3207, 'ැජ්': 4231, '්ජා': 3953, 'ෆ ': 3921, '\\u200dයව': 4882, 'එ එ': 1584, ' එෆ': 240, 'ෆ ල': 3922, 'සැල': 3723, 'ැලස': 4282, 'ලස ': 3341, 'ස ය': 3640, 'ප ප': 2559, 'ඩබ': 2038, 'යිත': 3045, 'ිති': 4371, ' බෝ': 453, 'ිධ': 4380, 'ෝම': 4861, 'පැහ': 2655, 'දිල': 2296, ' ත්': 351, 'විධ': 3539, 'ිධා': 4382, 'ධාන': 2356, 'ානය': 4144, ' තහ': 350, 'හන ': 3799, 'a/': 834, '/l': 696, 'l ': 1117, 'a/l': 835, '/l ': 697, 'l ක': 1121, 'ිච': 4355, 'අක': 1394, 'ඇ ': 1491, 'උව': 1574, 'ඉග': 1517, '️ ': 4913, '&q': 664, 'qu': 1230, 'uo': 1323, 'ot': 1206, 't;': 1285, 'යව,': 3025, 'ව, ': 3426, ', ම': 677, 'ේපල': 4728, 'විච': 3535, 'ිච්': 4357, 'රුප': 3241, 'අරම': 1441, 'රමු': 3159, 'ෂ ක': 3606, 'රගත': 3117, 'ැ එ': 4210, 'යාත': 3036, 'ත්ම': 2138, 'යුක': 3053, ' අක': 144, 'රුණ': 3237, 'ණ ස': 2062, 'වතා': 3453, 'බලං': 2756, 'ං ඉ': 1366, ' ඇ ': 182, 'ාරු': 4175, 'ොයා': 4811, 'අධ්': 1413, ' උව': 222, 'උවම': 1575, ' ඉග': 196, 'නග ': 2404, 'ඉ ද': 1511, 'න්,': 2445, ' &q': 5, '&qu': 665, 'quo': 1231, 'uot': 1324, 'ot;': 1207, 'එච': 1606, '්ශ': 4042, 'එච්': 1607, 'හෙව': 3882, 'උ ම': 1548, ' රි': 510, 'පරී': 2609, 'රීක': 3235, 'ක්ශ': 1767, 'න ආ': 2370, 'හැද': 3845, 'ෝහ': 4868, 'ලකණ': 3302, 'කණ්': 1719, 'ණ්ණ': 2072, '්ණි': 3960, 'ල <': 3265, 'රිප': 3225, ' මල': 470, '්ශා': 4045, 'දකු': 2229, '්ලග': 4030, 'ලග ': 3309, ' 😌': 639, 'බහ': 2766, 'ි ඕ': 4315, 'ේ?': 4706, 'ුකා': 4497, 'ාගා': 4111, 'ොහො': 4831, 'හොම': 3892, 'නේ?': 2519, 'ේ? ': 4707, '? එ': 797, '🇱🇰': 4925, 'ප ජ': 2554, 'යිය': 3048, 'න ඇ': 2371, 'උග': 1551, 'ෑන': 4302, ' ?': 43, 'ොම්': 4808, ' උග': 212, ' ගෑ': 304, 'ර ට': 3085, ' ට ': 333, 'හැබ': 3846, 'ැබැ': 4264, 'බැ ': 2775, ' අට': 147, 'ඔව ': 1664, ' v': 128, 'vi': 1335, 'ik': 1062, 'ku': 1116, 'na': 1166, ' k': 84, 'al': 857, ' r': 107, 'ෝප': 4859, 'ek': 967, 'ss': 1280, 'ya': 1357, 'aw': 893, 'as': 883, 'se': 1271, ' y': 138, 'ah': 849, 'el': 969, 'k ': 1100, ' g': 69, 'ga': 1008, 'hu': 1051, 'ur': 1325, 'du': 939, 'uw': 1328, 'iv': 1088, 'ut': 1326, 'mo': 1159, 'ru': 1263, 'um': 1319, 'ep': 981, 'da': 929, ' d': 58, 'ho': 1043, 'pi': 1220, 'it': 1086, 'ev': 992, 'bo': 909, 'in': 1069, 'ba': 899, 'ub': 1313, 'nd': 1171, 'de': 931, 'eh': 966, 'm ': 1140, 'ht': 1049, 'et': 989, 'ug': 1316, 'le': 1127, 'od': 1195, 'bi': 907, 'll': 1132, ' o': 102, 'oy': 1211, 'iy': 1091, 'ki': 1113, 'වං': 3429, 'ul': 1318, 'lu': 1137, 'u ': 1312, 'lt': 1135, 'rat': 1252, 'a v': 822, ' vi': 130, 'una': 1321, ' ka': 85, 'kan': 1107, 'ana': 868, 'na ': 1167, 'a k': 816, 'kal': 1105, 'ala': 859, 'aka': 856, 'ann': 873, ' ra': 108, 'ama': 863, 'ma ': 1148, 'a ස': 833, ' සො': 584, 'සොබ': 3758, ' we': 133, 'wen': 1346, 'ena': 977, 'nav': 1170, 'va ': 1333, 'a e': 812, ' ek': 64, 'eka': 968, 'kat': 1109, 'th ': 1294, 'aya': 897, 'awe': 894, 'we ': 1344, ' ha': 75, 'a ර': 831, ' sa': 112, 'apa': 875, ' ya': 139, 'yan': 1359, 'aha': 850, 'han': 1032, 'wel': 1345, 'ela': 971, 'la ': 1123, 'a ග': 826, 'a ව': 832, 'enn': 978, 'nna': 1182, 'a t': 820, ' th': 121, 'ak ': 855, ' na': 99, 'a g': 813, ' ga': 70, ' wa': 132, 'a n': 818, 'ya ': 1358, ' va': 129, 'a a': 810, 'adu': 845, 'duw': 941, ' a ': 46, 'iva': 1089, 'vat': 1334, 'kak': 1104, ' an': 48, 'ane': 870, 'ne ': 1173, 'e m': 948, ' me': 94, 'me ': 1153, ' mo': 95, 'mon': 1160, 'ona': 1203, 'kar': 1108, 'aru': 882, 'දුප': 2308, 'ුප්': 4531, ' ep': 66, 'epa': 982, 'dun': 940, 'ada': 843, 'da ': 930, 'a ක': 825, ' du': 62, 'hop': 1044, 'pi ': 1221, 'i a': 1053, ' ap': 49, 'api': 877, 'pit': 1222, 'ita': 1087, 'a j': 815, 'ran': 1251, 'a b': 811, ' bo': 54, 'in ': 1070, 'ව w': 3394, ' ba': 52, 'bar': 901, 'ari': 881, 'i k': 1054, 'a u': 821, ' ub': 126, 'uba': 1314, 'bal': 900, 'lat': 1126, ' ch': 56, 'cha': 918, 'and': 869, 'e d': 944, 'ema': 973, 'සලක': 3686, 'e n': 949, 'nam': 1168, 'am ': 862, 'm b': 1141, 'en ': 976, 'nat': 1169, 'the': 1296, 'et ': 990, 'eta': 991, 'a w': 823, 'thi': 1297, 'hi ': 1038, 'e ම': 956, 'kam': 1106, 'ham': 1031, ' ke': 86, 'evi': 993, 'a ත': 828, 'din': 935, 'inn': 1073, 'a h': 814, ' ho': 77, 'hit': 1040, 'all': 860, 'lla': 1133, ' de': 60, 'den': 932, 'rin': 1260, 'iya': 1092, ' ki': 87, 'kiy': 1114, ' ti': 122, 'ika': 1063, 'වං ': 3430, 'ං ක': 1367, 'ර a': 3071, 'a ම': 830, ' da': 59, 'nne': 1183, 'ා ජ': 4084, 'බෞ': 2808, 'ත ල': 2100, ' ලය': 522, 'ලයි': 3333, ' බ්': 444, ' බෞ': 454, 'බෞද': 2809, 'සෑ': 3724, ' සෑ': 578, 'හෙ ': 3875, 'ෙ අ': 4597, 'ඔච': 1649, 'න<': 2396, 'කථ': 1724, 'ඔච්': 1650, ' ඔච': 248, 'නෑන': 2485, 'න<b': 2397, 'ත්ප': 2137, ' කථ': 271, 'ථා ': 2195, ' ඕග': 260, 'ුණා': 4512, 'ා😂': 4205, 'ිගන': 4353, '්නා': 3998, 'වාල': 3518, 'පිහ': 2670, 'ළි ': 3918, ' දී': 372, 'ගැම': 1879, 'ැම්': 4271, '> ': 762, '>ක': 771, 'ෙ <': 4596, 'ගතය': 1843, '>අප': 768, 'r> ': 1234, 'ම ඒ': 2829, 'ඕ <': 1669, 'r>ක': 1239, '>කි': 772, 'ශ ව': 3587, ' වර': 539, 'වර්': 3480, 'ර්ජ': 3187, 'න ස': 2391, 'ාදර': 4133, 'වරා': 3481, 'ං හ': 1371, 'වෙි': 3571, 'ය භ': 2984, 'පවි': 2621, 'බ න': 2729, 'ම්,': 2900, 'ියග': 4413, 'ලිය': 3370, 'ොනව': 4796, 'නොව': 2531, 'int': 1074, 't එ': 1284, '10': 708, 'බොට': 2802, 'ොට්': 4775, ' 10': 21, 'ට ග': 1970, '්බන': 4011, 'ොා': 4834, 'ලොා': 3386, 'ොා ': 4835, 'ඉ ත': 1510, '්දෙ': 3985, 'හ ද': 3774, 'ුලු': 4552, 'මිට': 2923, 'e k': 946, 'ෙරණ': 4660, '>ප': 780, ' ව්': 543, 'ව්\\u200d': 3504, 'ාප්': 4153, 'r>ප': 1243, 'පෑ': 2656, ' ඡ ': 321, '්මා': 4019, 'අප්': 1424, 'ළ උ': 3898, 'අවස': 1452, 'ලපෑ': 3324, 'පෑ ': 2657, 'දෙස': 2323, 'ෙස ': 4680, 'බොහ': 2804, 'ේවා': 4744, 'හිව': 3862, ' නග': 384, ' ඔප': 251, 'මව': 2885, 'රිව': 3230, 'ඇහ': 1506, 'රාව': 3209, ' ඇහ': 192, 'ේ,': 4704, 'so': 1276, 'oc': 1194, 'ia': 1057, 'ed': 962, ' චා': 316, 'නේ,': 2518, 'ේ, ': 4705, 'හිර': 3860, 'ම ය': 2840, '්නේ': 4002, 'ට ත': 1972, ' වච': 533, ' so': 116, 'al ': 858, 'l m': 1119, 'තාන': 2147, '🤮🤮': 4999, '😭😭': 4979, ' රස': 506, '්ති': 3971, 'පෞර': 2713, 'ීප': 4475, '්😂': 4069, 'ුයි': 4540, 'මෙල': 2949, 'ල 😂': 3293, ' සන': 566, 'න්😂': 2461, 'හග': 3784, 'ොල': 4698, 'පන ': 2590, 'හග ': 3785, ' මක': 462, 'මකබ': 2853, ',,': 681, 'කරව': 1746, 'ක ඉ': 1689, ' ,,': 12, ',,,': 683, 'ක ද': 1698, 'දෙව': 2321, 'පහ ': 2626, 'ාඩ': 4120, 'ඩම': 2039, 'පාඩ': 2636, 'ය,': 2994, ' 🙂': 644, 'උඩි': 1554, 'ි ඇ': 4309, 'මනු': 2875, 'නුස': 2506, '්සා': 4059, 'ාරැ': 4174, 'සබ': 3670, 'නාල': 2472, 'ාලි': 4183, 'ලික': 3365, ' සබ': 568, 'සබ්': 3671, 'යිබ': 3047, 'ඕ ග': 1672, 'ොන ': 4795, 'එ ර': 1594, 'වධ': 3461, 'ටක': 1986, 'ෑ එ': 4297, 'ොය ': 4810, 'ය ට': 2978, 'ගැහ': 1880, 'ෙනක': 4640, 'ක උ': 1690, 'ිවර': 4442, '්ලක': 4029, 'ෙවර': 4671, 'වහල': 3495, 'කමෙ': 1735, 'මෙන': 2947, 'ම එ': 2828, 'හෙම': 3879, 'ඔහ': 1665, 'තිස': 2170, ' ඔහ': 255, 'ඔහ ': 1666, '්ධ ': 3989, 'පරණ': 2603, 'පය': 2598, ' පය': 411, 'පයි': 2600, 'න <': 2366, 'පිල': 2668, 'ර්ශ': 3196, 'ුවේ': 4562, 'වේව': 3578, 'ටල ': 1994, ' වද': 536, 'වදක': 3458, 'කද': 1725, 'විම': 3544, 'දුස': 2312, 'ොස': 4825, 'ai': 851, 'ir': 1079, 'ොස්': 4826, 'hai': 1030, 'ir ': 1080, '්සය': 4054, 'නිහ': 2498, 'ිහා': 4463, 'ාච': 4112, '්තම': 3965, 'මාච': 2906, 'ාචා': 4113, 'ගහල': 1865, ' ලෙ': 527, 'පෙළ': 2692, 'භී': 2821, 'ජය': 1944, 'හණ': 3786, 'ාළ': 4203, 'භීත': 2822, ' ජය': 326, 'ජයග': 1946, 'යග්': 3002, '\\u200dරහ': 4896, 'රහණ': 3182, 'හණය': 3788, ' නර': 389, 'නර ': 2430, 'මුළ': 2938, 'පාළ': 2648, 'රහ ': 3181, 'පච': 2571, ' පච': 403, 'පච ': 2572, 'නෙප': 2511, 'ෙපා': 4648, 'ප එ': 2550, 'ි ට': 4320, 'ෑ අ': 4296, 'අකු': 1395, 'ai ': 852, ' ge': 71, 'gen': 1012, '්හ': 4062, 'සෝ': 3759, 'න්හ': 2459, 'හාය': 3836, ' සෝ': 585, 'නිම': 2492, 'වාහ': 3520, 'පර්': 2606, '්දෝ': 3987, 'දෝල': 2338, 'ෝලන': 4865, 'aga': 847, 'ga ': 1009, 'go': 1019, 'o ': 1191, 'go ': 1020, '! ': 650, 'ශි': 3604, 'තරය': 2122, ' ! ': 1, 'බ හ': 2735, ' චර': 315, 'චරි': 1916, 'රිත': 3223, 'සාක': 3713, 'ිතව': 4368, 'රච': 3121, 'oo': 1204, 'ol': 1197, 'ol ': 1198, 'ාඩ ': 4121, 'ළම ': 3909, 'ුණය': 4511, 'ණයි': 2067, '්නෑ': 4000, '😏😏': 4972, 'ළ ද': 3901, '19': 714, '97': 744, 'වව': 3485, 'වෛ': 3579, 'ෛද': 4757, 'එස': 1626, 'නහ': 2443, 'ජෝ': 1963, 'දොස': 2336, 'තරල': 2123, 'රලා': 3166, ' 19': 23, 'ඇති': 1495, 'සමග': 3674, 'වුද': 3555, '්ද්': 3982, ' වෛ': 552, 'වෛද': 3580, 'ෛද්': 4758, 'බිහ': 2787, 'හිඋ': 3853, ' එස': 238, 'එස ': 1627, 'm එ': 1142, 'ුරා': 4546, 'ොක ': 4764, 'රජය': 3125, 'ජය ': 1945, 'හ ර': 3780, ' ජෝ': 331, 'බෙල': 2795, 'ේව': 4692, ' රව': 505, ',ග': 686, 'බ ත': 2727, 'ුටි': 4505, '🙄🙄': 4983, 'නුර': 2504, 'සහා': 3700, 'අත්': 1405, 'ත්ද': 2135, 'වද ': 3457, '😏😏😏': 4973, '🙄🙄🙄': 4984, 'ලකන': 3303, 'ඕ ද': 1673, 'උඩ ': 1553, ' මය': 468, '්තය': 3966, 'ේෂ': 4750, 'ෂප': 3614, 'ගැත': 1877, 'දේෂ': 2331, 'ේෂප': 4751, 'ෂපා': 3615, 'ආරා': 1486, 'ලොක': 3382, 'කප': 1731, ' 4': 29, '>ල': 789, 'ෙ ද': 4605, ' එච': 229, ' කප': 274, 'පටි': 2577, ' ගු': 306, 'ගුර': 1889, 'රුත': 3238, 'වාක': 3510, 'කර්': 1747, 'ර්ෂ': 3197, 'පනි': 2593, 'r>ල': 1247, 'pr': 1226, 'ro': 1261, '😂 ': 4960, 'ටප': 1988, 'ඔන': 1653, ' යා': 493, ' pr': 106, 'pro': 1227, ' 😂 ': 636, 'න c': 2368, 'nel': 1174, 'el ': 970, 'l එ': 1120, 'ැක්': 4227, 'පට්': 2576, ' ඔන': 250, 'ඔන ': 1654, 'උපද': 1566, 'ා<': 4101, 'no': 1184, 'ou': 1208, ' i': 79, 'or': 1205, 're': 1254, 'ගුණ': 1888, 'හෙල': 3881, 'ිනව': 4386, 'වා<': 3509, 'ා<b': 4102, 'හය ': 3817, 'ලාන': 3355, 'eno': 979, 'nou': 1185, 'oug': 1209, 'ugh': 1317, 'gh ': 1014, 'e t': 952, 'ඳ ප': 2540, 'නන ': 2414, 'ව ?': 3392, ' ? ': 44, '? ම': 801, 'ලන ': 3318, 'ලිග': 3366, 'ශන': 3592, 'og': 1196, 'rt': 1262, 'ic': 1058, 'අ ඊ': 1388, '්ශන': 4044, 'ශනය': 3593, 'ඩ ර': 2029, ' go': 72, 'goo': 1021, 'gle': 1016, 'le ': 1128, 'සහන': 3698, 'තුය': 2180, '❤️': 4910, '️❤': 4918, '️🙏': 4922, '🙏 ': 4986, 'රෝද': 3261, 'ෝදා': 4854, 'දාර': 2276, 'ය ❤': 2992, ' ❤️': 622, '❤️❤': 4911, '️❤️': 4919, '❤️🙏': 4912, ' නය': 388, '❤❤': 4908, 'ස ල': 3642, ' ❤❤': 621, '❤❤❤': 4909, 'ධප': 2343, 'බස': 2764, 'ly': 1138, 'පලව': 2614, '😂 ස': 4963, 'ිතල': 4367, 'ධපු': 2344, 'බස ': 2765, ' re': 109, 'rep': 1256, 'ly ': 1139, '😂 අ': 4961, 'ිශ්': 4451, 'ොකර': 4767, 'ිර්': 4430, 'ේදය': 4722, 'එ ස': 1597, 'සදහ': 3662, 'ුසර': 4570, 'kd': 1110, 'd ': 927, 'ko': 1115, 'ck': 920, ' ro': 110, 'cke': 921, 'ket': 1112, 'වහි': 3496, 'ඇන': 1498, '්තෙ': 3973, 'ඊලග': 1541, 'ර 😂': 3104, 'අබ': 1427, ' අබ': 154, 'දිත': 2290, 'ය 🙏': 2993, 'ල ඇ': 3268, ' ඇඟ': 183, 'මල ': 2884, 'හනු': 3803, 'නුව': 2505, 'ුවර': 4559, 'වාය': 3516, 'ූෂණ': 4592, 'කන ': 1727, ' ටව': 334, ' බස': 442, ' නු': 395, 'නැග': 2478, 'ස 1': 3623, '13 ': 711, 'ා!': 4098, 'ි!': 4334, 'ැබේ': 4266, 'බේව': 2800, 'වා!': 3507, 'යි!': 3043, 'මී': 2929, '❤ ': 4907, 'ිනය': 4385, 'වාම': 3515, 'ේලා': 4738, 'ලා,': 3351, 'ලාව': 3358, 'ේරග': 4733, 'ග ල': 1834, 'සහය': 3699, 'මහා': 2895, 'හාන': 3834, 'ානා': 4148, 'ැදි': 4248, 'එ ල': 1595, '>ම ': 784, 'ාදා': 4134, 'දාම': 2275, 'තරම': 2121, 'රම ': 3155, ' බහ': 443, 'හුත': 3867, 'ුතර': 4515, 'ොළ ': 4833, 'ළ ප': 3902, 'ේ😂': 4754, '😂😂 ': 4965, 'පී': 2672, 'ැනග': 4252, 'චිච': 1926, 'ාල්': 4181, 'රො': 3250, 'ොක': 4696, 'ලො': 3379, '1:': 716, 'පස': 2623, ' පස': 415, 'පස ': 2624, 'io': 1075, 'bio': 908, 'io ': 1076, '??': 803, 'සෙට': 3749, 'ෙට ': 4626, 'කත්': 1722, '???': 805, 'ූන': 4582, 'te': 1291, 'න්\\u200d': 2460, 'ate': 888, 'te ': 1292, 'e l': 947, 'e එ': 954, '😅😅😅': 4969, 'ිරය': 4428, 'රවා': 3171, 'පැව': 2654, '<a': 754, 'hr': 1047, 'ef': 964, 'f=': 1000, '=\"': 758, '\"h': 656, 'tt': 1306, 'tp': 1301, 'ps': 1228, 's:': 1268, ':/': 747, '//': 692, '/w': 698, 'ww': 1352, 'w ': 1338, 'yo': 1362, 'tu': 1308, 'm/': 1145, 'tc': 1289, 'h?': 1026, '?v': 806, 'v=': 1330, '=-': 760, '-w': 689, 'wf': 1347, 'fo': 1003, 'yg': 1360, 'gn': 1017, 'ih': 1060, 'hp': 1045, 'pm': 1223, 'm&': 1143, '&a': 662, 'p;': 1216, ';t': 750, 't=': 1286, '\">': 654, '>0': 763, '0:': 706, '</': 752, '/a': 694, 'a>': 836, '51': 731, 'ිභ': 4403, '<a ': 755, ' hr': 78, 'hre': 1048, 'ref': 1255, 'ef=': 965, 'f=\"': 1001, '=\"h': 759, '\"ht': 657, 'htt': 1050, 'ttp': 1307, 'tps': 1302, 'ps:': 1229, 's:/': 1269, '://': 748, '//w': 693, '/ww': 700, 'www': 1354, 'ww ': 1353, 'w y': 1339, ' yo': 140, 'you': 1363, 'out': 1210, 'utu': 1327, 'tub': 1309, 'ube': 1315, 'be ': 906, 'e c': 943, 'om/': 1200, 'm/w': 1146, '/wa': 699, 'atc': 887, 'tch': 1290, 'ch?': 917, 'h?v': 1027, '?v=': 807, 'v=-': 1331, '=-w': 761, '-wf': 690, 'wfo': 1348, 'foy': 1004, 'oyg': 1212, 'ygn': 1361, 'gni': 1018, 'nih': 1178, 'ihp': 1061, 'hpm': 1046, 'pm&': 1224, 'm&a': 1144, '&am': 663, 'mp;': 1163, 'p;t': 1217, ';t=': 751, '\">0': 655, '>0:': 764, '</a': 753, '/a>': 695, 'a> ': 837, 'විභ': 3543, 'ිභා': 4404, 'ග අ': 1820, ' ඇන': 187, 'රඑ': 3108, 'ලූ': 3376, '🙉🙉': 4985, '්පච': 4005, 'පච්': 2573, 'හාල': 3838, 'ල ට': 3279, ' ට්': 335, 'ට්\\u200d': 2002, 'වරඑ': 3477, 'රඑළ': 3109, 'ළ ව': 3905, 'ගම්': 1851, ' යැ': 494, 'ියම': 4417, 'ොග': 4769, 'නොග': 2524, 'ොගි': 4770, 'දලා': 2252, 'න එ': 2374, 'id': 1059, 'k ස': 1101, 'බෙර': 2794, 'ing': 1071, 'rd': 1253, 'ල 1': 3263, '්බෙ': 4015, 'ලෝග': 3389, 'රව්': 3170, 'රිබ': 3226, 'ිබා': 4400, 'අව්': 1453, ' චී': 319, 'ෙග': 4621, 'ෙග ': 4622, 'හාස': 3839, 'රපන': 3152, ' පළ': 417, '>ද': 777, 'වරණ': 3478, 'r>ද': 1242, 'පුළ': 2683, '🤧🤧': 4998, '😂 ක': 4962, ' ෙ': 609, 'mb': 1150, 'bb': 902, 'bs': 913, 'අා': 1462, ' 9': 37, 'ා්': 4204, '/ ': 691, ' ඩ': 337, ' ෙය': 614, ' mb': 93, 'mbb': 1151, 'bbs': 904, 'bs ': 914, 'ර ෙ': 3101, ' ෙග': 611, ' අා': 163, '? න': 799, ' චි': 318, ' ෙක': 610, 'සහත': 3697, 'හති': 3793, 'ද??': 2225, '?? ': 804, 'ව ෙ': 3421, 'ර 9': 3069, ' ෙද': 612, ' ෙප': 613, 'ලපා': 3323, ' / ': 15, 'අ ා': 1392, 'epo': 983, 'යුෂ': 3058, 'ුෂ ': 4566, 'ෂ ත': 3607, 'ෝම ': 4862, ' කද': 272, 'අඩු': 1401, 'ඩුව': 2051, 'න ට': 2380, 'gr': 1023, 'c ': 915, 'ns': 1188, 'im': 1067, ' gr': 73, 'hic': 1039, 'ati': 890, 'tio': 1299, 'ion': 1077, 'ani': 871, 'ima': 1068, 'පලා': 2616, 'ලාත': 3354, 'හ ය': 3779, 'වැට': 3525, 'ැටෙ': 4235, 'සී': 3736, 'සීත': 3737, 'ීතල': 4473, 'ලගු': 3310, 'ෙ ඇ': 4598, ' ඇද': 186, 'ුං': 4492, 'නන්': 2415, 'මතක': 2862, '්වෙ': 4041, 'අද ': 1409, 'උසස': 1577, 'ර්ධ': 3191, 'වාණ': 3511, 'es': 987, 'ea': 959, 'ac': 841, 'est': 988, ' in': 80, 'e s': 951, 'ීම': 4476, 'පො': 2693, 'ස ස': 3644, 'ාජය': 4116, 'දේ': 2324, 'ේශ': 4693, 'g ': 1007, 'ct': 925, 'f ': 998, 'ex': 997, 'har': 1033, 'cts': 926, ' ex': 67, ' te': 120, 'ඩෙ': 2052, ' ඩෙ': 338, 'ම ආ': 2825, 'යළ': 3030, 'ියළ': 4421, 'යළ ': 3031, 'ීරෝ': 4480, 'ිරැ': 4431, 'ඵල': 2714, 'ඵල ': 2715, 'ළ බ': 3903, 'කුම': 1801, 'j ': 1093, 'si': 1273, ' si': 114, 'sil': 1274, '\\u200dරම': 4891, 'රමස': 3157, 'හතා': 3792, 'පුං': 2674, 'ුංච': 4493, 'ංචි': 1380, '9 ': 741, 'ර්ග': 3185, ' 9 ': 38, '9 8': 742, 'ක්,': 1761, 'ම ල': 2842, 'iss': 1084, 'ළ එ': 3899, 'ම \\u2063': 2846, 'ුක ': 4495, 'බ ආ': 2719, '😥😥😥': 4978, 'ග ර': 1833, 'පේන': 2695, 'ද ඔ': 2206, 'ැටි': 4234, 'පදා': 2587, 'සස ': 3693, 'ෙළ ': 4686, 'to': 1300, 'oa': 1192, 'ෙ?': 4615, '?🤔': 808, 'ා t': 4072, ' to': 123, 'ism': 1083, 'boa': 910, 'ard': 880, 'd එ': 928, 'ේක<': 4709, 'mot': 1161, 'e ක': 955, 'නෙ?': 2510, 'ෙ?🤔': 4616, 'යවක': 3026, 'ශ ග': 3586, 'නෝ': 2533, 'උපා': 1567, 'දිම': 2293, ' නෝ': 399, 'නෝන': 2534, 'ෝන ': 4857, 'පාධ': 2639, 'ධ ත': 2340, 'රොස': 3258, 'රමය': 3156, 'වමා': 3471, ' ඇට': 184, 'යිව': 3049, ', ත': 673, 'එක්': 1603, 'ක්ස': 1769, 'සන්': 3666, 'සෑ ': 3725, 'රජා': 3126, 'ෙවි': 4674, 'බො': 2797, 'ානව': 4145, 'නො': 2516, 'වගෙ': 3438, ' ෆ': 605, ' ෂ': 557, 'ූට': 4578, 'ami': 864, 'il ': 1065, 'ූට ': 4579, 'ර ඒ': 3079, '😭😭😭': 4980, 'හඳ': 3804, 'නබ': 2419, 'අැ': 1463, ' සඳ': 567, 'ඳ ත': 2537, ' හඳ': 590, 'හඳ ': 3805, 'දුල': 2310, 'සෝප': 3760, 'ෝපා': 4860, 'නබල': 2420, ' අැ': 164, '99': 745, 'ළු': 3920, 'ේශය': 4748, 'වැල': 3529, ' රත': 503, 'රත්': 3137, 'sp': 1277, 'වේග': 3573, 'ේගය': 4712, 'න ?': 2367, '!!!': 652, 'ආතර': 1472, 'ක්ල': 1765, 'ව<': 3427, 'ල්\\u200d': 3348, '\\u200d ග': 4876, 'මිය': 2926, 'තින': 2163, 'ුව<': 4555, 'ව<b': 3428, 'ිච ': 4356, '්ච ': 3947, 'ච ග': 1911, 'එතු': 1610, 'ආත ': 1471, ' 👏': 631, 'සංච': 3648, 'ංචා': 1379, '🤗🤗': 4995, '🤗❤': 4994, 'ුරක': 4543, 'ුරය': 4544, 'පෘ': 2686, 'ෘථ': 4594, ' පෘ': 424, 'පෘථ': 2687, 'ූව': 4589, 'ූව ': 4590, '්ශ ': 4043, '!🙏': 653, 'බ !': 2717, 'හීත': 3865, 'නප ': 2417, 'ළං': 3906, 'ංකව': 1375, 'වැස': 3530, 'ැස්': 4290, 'ුළං': 4577, 'ළං ': 3907, 'බ 🙏': 2736, 'ලේ': 3380, 'ුජ': 4501, '🙏❤': 4987, ', බ': 676, 'ස්,': 3703, 'පුජ': 2675, 'ුජා': 4502, 'ජාක': 1953, 'රතර': 3136, 'රොද': 3256, 'ොදා': 4793, 'හදව': 3797, 'දවත': 2256, 'වාන': 3513, '🙏🙏❤': 4992, '🙏❤️': 4988, ' =': 41, '65': 734, '>ස්': 793, '>බර': 782, ' = ': 42, '්වජ': 4036, 'වජ ': 3443, 'ජ ත': 1934, ' ms': 96, '10 ': 709, ' n ': 98, 'ිදේ': 4379, 'ේශි': 4749, ' 65': 33, '\\u200dරච': 4887, 'ජනප': 1939, 'තිහ': 2171, 'නොත': 2526, ' -': 13, 'රධ': 3142, ' මව': 471, ' ආශ': 178, '\\u200dරධ': 4890, 'රධා': 3143, 'ධා ': 2355, 'ාහය': 4202, 'ේතු': 4717, ' 🤔': 647, 'ප ට': 2555, '1 ': 707, '199': 715, ' 1 ': 20, 'දවු': 2258, 'අතු': 1407, 'දේද': 2327, 'ප ල': 2564, 'උණ': 1555, ' උණ': 214, 'හෝ': 3895, 'හ ස': 3782, 'ෝහෝ': 4869, 'කච': 1709, 'ාකච': 4105, 'කච්': 1710, 'ඒ ම': 1638, '🙏🌹': 4989, '🌹🌹': 4934, 'නොප': 2528, 'හොත': 3889, '🌹🌹🌹': 4936, 'හත ': 3790, ', ප': 675, 'ඳ ව': 2542, 'නකෙ': 2402, 'ද ජ': 2209, ' ☹': 617, '☹️': 4901, ' දෝ': 378, ' ☹️': 618, 'ර c': 3072, 'හොට': 3888, 'on ': 1202, 'ව්ය': 3499, '්යන': 4023, 'දොල': 2335, 'දව ': 2254, 'ේරා': 4734, 'ැරැ': 4276, '්ය ': 4022, 'ඨා': 2016, 'ාං': 4103, 'fi': 1002, 'ා ච': 4083, 'a ද': 829, 'ෙලය': 4663, 'ආග ': 1466, 'ග ආ': 1821, 'දී ': 2301, 'වෙච': 3562, 'පප': 2594, ' පප': 409, 'පප ': 2595, 'wa ': 1341, 'ා🙏': 4206, 'දීර': 2302, 'ර්ඝ': 3186, 'ෂ ල': 3610, 'වා🙏': 3522, 'ඳ ද': 2538, 'නපත': 2418, 'හුල': 3871, 'ිමා': 4408, 'ටාභ': 2006, 'ාභය': 4158, 'භය ': 2811, 'අපෙ': 1426, 'තිද': 2162, 'ේට': 4713, 'ෝඨ': 4847, '🌷🌷': 4928, 'වේට': 3574, 'ේට ': 4714, 'ගෝඨ': 1906, 'ෝඨා': 4848, 'ඨාභ': 2017, 'යි🌷': 3051, '🌷🌷🌷': 4929, 'ජයව': 1947, 'ටාහ': 2007, ' 👍': 629, '👍👍': 4939, 'ට ල': 1980, ' 👍👍': 630, 'ේවත': 4742, 'ෙතු': 4633, 'බාර': 2773, 'ාරග': 4169, 'දිස': 2298, 'ව 🙏': 3424, 'ලයක': 3332, 'හනය': 3800, '්🌹': 4067, '🌹ස': 4930, 'ත්🌹': 2142, '්🌹🌹': 4068, '🌹🌹ස': 4935, '🌹සජ': 4931, 'ොඨ': 4778, 'ගොඨ': 1901, 'ොඨා': 4779, ' 🌷': 625, 'පොහ': 2705, 'ී ම': 4470, 'තුත': 2177, '; ': 749, 'do': 937, ' do': 61, 'don': 938, ' wo': 135, 'e h': 945, 'ධු': 2363, ' ධු': 381, 'ධුර': 2364, 'ල ශ': 3290, '😡😡': 4974, 'bba': 903, 'ර ළ': 3100, 'පැල': 2653, 'පය ': 2599, 'ලාං': 3352, 'ව s': 3393, 'sir': 1275, 'උප ': 1565, ' 🌷🌷': 626, 'ව්බ': 3498, ' ශ්': 555, 'භි': 2819, '>ය': 786, 'දබ': 2239, 'අභි': 1430, 'භිම': 2820, 'දබල': 2240, 'හුර': 3870, '💰💰': 4956, '💰💰💰': 4957, '්සි': 4060, 'ja': 1094, 'i ඕ': 1056, ' ඕම': 262, ' se': 113, ' ta': 119, ' ja': 82, 'jay': 1095, 'ewa': 995, 'ං ස': 1370, 'ෛත': 4755, '--': 687, 'ොඩද': 4783, '? ප': 800, 'යෝග': 3066, 'ෝගය': 4840, '? ර': 802, ' කය': 277, ' මෛ': 481, 'ෛත්': 4756, '---': 688, 'ිවෙ': 4449, 'හමි': 3814, 'ය්': 3032, 'හණ ': 3787, '💪💪': 4954, 'ර ❤': 3102, '💪💪💪': 4955, 'aa': 838, ' 💓': 632, '💓💓': 4947, '💓 ': 4945, ' aa': 47, 'aaa': 840, 'aa ': 839, 'බ ජ': 2726, 'ව 💓': 3422, ' 💓💓': 633, '💓💓💓': 4949, '💓💓 ': 4948, '💓 ජ': 4946, 'ියය': 4418, 'යයු': 3018, 'lo': 1134, 'ec': 961, 'f l': 999, ' lo': 90, 'යකත': 2997, 'ද <': 2200, '>ද ': 778, 'e p': 950, ' ✌': 619, ' 🇱': 623, ' 🇱🇰': 624, '💎💎': 4943, '🌹🌈': 4932, '🌈️': 4926, '💎💎💎': 4944, '🙏🌹🌈': 4990, '🌹🌈️': 4933, '🌈️❤': 4927, '️🙏🌹': 4923, 'දුද': 2306, 'ුදහ': 4522, '90': 743, 'ob': 1193, 'aj': 853, 'hn': 1041, 'e<': 957, '♥️': 4902, 'lt ': 1136, 'lar': 1125, 'hne': 1042, 'e<b': 958, 'col': 923, 'l g': 1118, 'ini': 1072, 'ැ ස': 4221, ' පූ': 423, 'මව ': 2886, 'b>': 898, 'ිධ ': 4381, 'ධ හ': 2342, 'දෙශ': 2322, 'ෙශප': 4677, 'රිම': 3227, '>ව': 790, 'r>ව': 1248, 'ුති': 4517, ' ආහ': 180, 'අවං': 1449, '🇦🇪': 4924, '💪🇦': 4952, '💪🇦🇪': 4953, 'jb': 1096, 'පෝන': 2708, 'ෝන්': 4858, 'සවය': 3691, ' sj': 115, 'ොඩය': 4784, 'ෙබ': 4649, 'වේ': 3570, 'සෙබ': 3751, 'ෝ': 4699, 'ර,': 3106, 'පහස': 2628, ' 🌹': 627, '💕♥': 4950, '️🌹': 4920, '🌹💕': 4937, '💕♥️': 4951, '♥️🌹': 4904, '️🌹💕': 4921, '>ජ': 775, 'r>ජ': 1240, ' දඬ': 364, 'රශ්': 3174, 'ටට': 1987, 'නට': 2406, 'වංක': 3431, ' නට': 385, 'හයෝ': 3818, 'i m': 1055, 'දහා': 2263, 'රැන': 3215, 'got': 1022, 'a r': 819, '️♥': 4914, '♥️♥': 4903, '️♥️': 4915, 'නවම': 2437, 'වා🌷': 3521, '👏👏': 4942, 'ෆො': 3923, ' ෆො': 606, 'ෆොන': 3924, '✍️': 4905, '️✍': 4916, '✍️✍': 4906, '️✍️': 4917, '👍 ': 4938, 'gre': 1024, 'eat': 960, 'der': 933, 'era': 986, '👍👍👍': 4941, '👍👍 ': 4940, 'her': 1036, 'ේරැ': 4735, '>හ': 795, '>වි': 791, 'දා<': 2271, 'පෝහ': 2710, 'හෝට': 3896, 'පිප': 2665, 'ේය': 4690, 'රටට': 3129, 'ල,,': 3296, ',, ': 682, '්,,': 3928}\n"
          ]
        }
      ]
    },
    {
      "cell_type": "code",
      "source": [
        "print(xvalid_tfidf_ngram)"
      ],
      "metadata": {
        "collapsed": true,
        "colab": {
          "base_uri": "https://localhost:8080/"
        },
        "id": "ba4D9e3kR7F-",
        "outputId": "800e811d-b70a-4eed-84f9-a3769c3cc6d8"
      },
      "execution_count": null,
      "outputs": [
        {
          "output_type": "stream",
          "name": "stdout",
          "text": [
            "  (0, 4446)\t0.27732068427584344\n",
            "  (0, 4438)\t0.15923091512791973\n",
            "  (0, 4415)\t0.29010781938706337\n",
            "  (0, 4412)\t0.15339318186560785\n",
            "  (0, 4368)\t0.25244641029096915\n",
            "  (0, 2941)\t0.29010781938706337\n",
            "  (0, 2925)\t0.29010781938706337\n",
            "  (0, 2918)\t0.18630310771559946\n",
            "  (0, 1506)\t0.30147746202343695\n",
            "  (0, 1074)\t0.27732068427584344\n",
            "  (0, 467)\t0.27732068427584344\n",
            "  (0, 465)\t0.21570150464297433\n",
            "  (0, 419)\t0.29010781938706337\n",
            "  (0, 417)\t0.29010781938706337\n",
            "  (0, 203)\t0.25244641029096915\n",
            "  (2, 3042)\t0.38713429717501435\n",
            "  (2, 2959)\t0.38713429717501435\n",
            "  (2, 2908)\t0.2842468776061548\n",
            "  (2, 2907)\t0.22025755745687228\n",
            "  (2, 1213)\t0.21353549536763874\n",
            "  (2, 1166)\t0.20944320077696693\n",
            "  (2, 1000)\t0.3460204487960356\n",
            "  (2, 996)\t0.38713429717501435\n",
            "  (2, 458)\t0.32895665997909473\n",
            "  (2, 457)\t0.32197038923399773\n",
            "  :\t:\n",
            "  (188, 2190)\t0.1639837506880724\n",
            "  (188, 2151)\t0.15117232425027533\n",
            "  (188, 2133)\t0.09365182972197923\n",
            "  (188, 1670)\t0.08980628902593214\n",
            "  (188, 1561)\t0.15901400350412215\n",
            "  (188, 1525)\t0.1639837506880724\n",
            "  (188, 1501)\t0.1700662296623701\n",
            "  (188, 1500)\t0.1322784188381806\n",
            "  (188, 1421)\t0.1779079089162169\n",
            "  (188, 1420)\t0.1639837506880724\n",
            "  (188, 1412)\t0.10597210514858717\n",
            "  (188, 1265)\t0.1548121421310246\n",
            "  (188, 761)\t0.1639837506880724\n",
            "  (188, 736)\t0.15117232425027533\n",
            "  (188, 735)\t0.1306259041885236\n",
            "  (188, 669)\t0.1700662296623701\n",
            "  (188, 664)\t0.10597210514858717\n",
            "  (188, 658)\t0.12122619267993268\n",
            "  (188, 570)\t0.1700662296623701\n",
            "  (188, 569)\t0.1248660105606819\n",
            "  (188, 379)\t0.1548121421310246\n",
            "  (188, 357)\t0.1779079089162169\n",
            "  (188, 356)\t0.1700662296623701\n",
            "  (188, 300)\t0.1700662296623701\n",
            "  (188, 237)\t0.1700662296623701\n"
          ]
        }
      ]
    },
    {
      "cell_type": "code",
      "source": [
        "def train_model(classifier, feature_vector_train, label, feature_vector_valid, is_neural_net=False):\n",
        "    # fit the training dataset on the classifier\n",
        "    classifier.fit(feature_vector_train, label)\n",
        "\n",
        "    # predict the labels on validation dataset\n",
        "    predictions = classifier.predict(feature_vector_valid)\n",
        "\n",
        "    if is_neural_net:\n",
        "        predictions = predictions.argmax(axis=-1)\n",
        "\n",
        "    return metrics.accuracy_score(predictions, valid_y)"
      ],
      "metadata": {
        "id": "SM-OS8CHR-6d"
      },
      "execution_count": null,
      "outputs": []
    },
    {
      "cell_type": "markdown",
      "source": [
        "# Naive Bayes"
      ],
      "metadata": {
        "id": "Tq-2jpbUQZCv"
      }
    },
    {
      "cell_type": "code",
      "source": [
        "# Naive Bayes on Count Vectors\n",
        "accuracy = train_model(naive_bayes.MultinomialNB(), xtrain_count, train_y, xvalid_count)\n",
        "print(\"NB, Count Vectors: \", accuracy)\n",
        "\n",
        "# Naive Bayes on Word Level TF IDF Vectors\n",
        "accuracy = train_model(naive_bayes.MultinomialNB(), xtrain_tfidf, train_y, xvalid_tfidf)\n",
        "print (\"NB, WordLevel TF-IDF: \", accuracy)\n",
        "\n",
        "# Naive Bayes on Ngram Level TF IDF Vectors\n",
        "accuracy = train_model(naive_bayes.MultinomialNB(), xtrain_tfidf_ngram, train_y, xvalid_tfidf_ngram)\n",
        "print (\"NB, N-Gram Vectors: \", accuracy)\n",
        "\n",
        "# Naive Bayes on Character Level TF IDF Vectors\n",
        "accuracy = train_model(naive_bayes.MultinomialNB(), xtrain_tfidf_ngram_chars, train_y, xvalid_tfidf_ngram_chars)\n",
        "print (\"NB, CharLevel Vectors: \", accuracy)"
      ],
      "metadata": {
        "colab": {
          "base_uri": "https://localhost:8080/"
        },
        "id": "fZ4vRcdlQQV6",
        "outputId": "ab4fbf77-e192-46bd-a41a-62f90bedb4db"
      },
      "execution_count": null,
      "outputs": [
        {
          "output_type": "stream",
          "name": "stdout",
          "text": [
            "NB, Count Vectors:  0.5555555555555556\n",
            "NB, WordLevel TF-IDF:  0.582010582010582\n",
            "NB, N-Gram Vectors:  0.5978835978835979\n",
            "NB, CharLevel Vectors:  0.6190476190476191\n"
          ]
        }
      ]
    },
    {
      "cell_type": "code",
      "source": [
        "# Bernoulli Naive Bayes on Count Vectors\n",
        "accuracy = train_model(naive_bayes.BernoulliNB(), xtrain_count, train_y, xvalid_count)\n",
        "print(\"BernoulliNB, Count Vectors: \", accuracy)\n",
        "\n",
        "# Bernoulli Naive Bayes on Word Level TF IDF Vectors\n",
        "accuracy = train_model(naive_bayes.BernoulliNB(), xtrain_tfidf, train_y, xvalid_tfidf)\n",
        "print (\"BernoulliNB, WordLevel TF-IDF: \", accuracy)\n",
        "\n",
        "# Bernoulli Naive Bayes on Ngram Level TF IDF Vectors\n",
        "accuracy = train_model(naive_bayes.BernoulliNB(), xtrain_tfidf_ngram, train_y, xvalid_tfidf_ngram)\n",
        "print (\"BernoulliNB, N-Gram Vectors: \", accuracy)\n",
        "\n",
        "# Bernoulli Naive Bayes on Character Level TF IDF Vectors\n",
        "accuracy = train_model(naive_bayes.BernoulliNB(), xtrain_tfidf_ngram_chars, train_y, xvalid_tfidf_ngram_chars)\n",
        "print (\"BernoulliNB, CharLevel Vectors: \", accuracy)"
      ],
      "metadata": {
        "colab": {
          "base_uri": "https://localhost:8080/"
        },
        "id": "UpQbcTwSRDE-",
        "outputId": "05551bc7-08c4-44c5-d1a1-ed498d5ec34b"
      },
      "execution_count": null,
      "outputs": [
        {
          "output_type": "stream",
          "name": "stdout",
          "text": [
            "BernoulliNB, Count Vectors:  0.5132275132275133\n",
            "BernoulliNB, WordLevel TF-IDF:  0.5132275132275133\n",
            "BernoulliNB, N-Gram Vectors:  0.5555555555555556\n",
            "BernoulliNB, CharLevel Vectors:  0.582010582010582\n"
          ]
        }
      ]
    },
    {
      "cell_type": "markdown",
      "source": [
        "# Logistic Regression"
      ],
      "metadata": {
        "id": "CilKftEwSJgE"
      }
    },
    {
      "cell_type": "code",
      "source": [
        "# Linear Classifier on Count Vectors\n",
        "accuracy = train_model(linear_model.LogisticRegression(), xtrain_count, train_y, xvalid_count)\n",
        "print (\"LR, Count Vectors: \", accuracy)\n",
        "\n",
        "# Linear Classifier on Word Level TF IDF Vectors\n",
        "accuracy = train_model(linear_model.LogisticRegression(), xtrain_tfidf, train_y, xvalid_tfidf)\n",
        "print (\"LR, WordLevel TF-IDF: \", accuracy)\n",
        "\n",
        "# Linear Classifier on Ngram Level TF IDF Vectors\n",
        "accuracy = train_model(linear_model.LogisticRegression(), xtrain_tfidf_ngram, train_y, xvalid_tfidf_ngram)\n",
        "print (\"LR, N-Gram Vectors: \", accuracy)\n",
        "\n",
        "# Linear Classifier on Character Level TF IDF Vectors\n",
        "accuracy = train_model(linear_model.LogisticRegression(), xtrain_tfidf_ngram_chars, train_y, xvalid_tfidf_ngram_chars)\n",
        "print (\"LR, CharLevel Vectors: \", accuracy)"
      ],
      "metadata": {
        "colab": {
          "base_uri": "https://localhost:8080/"
        },
        "id": "q1GQOsabSFJm",
        "outputId": "babc0413-9ebf-40cc-8895-b0d45ef8b9b8"
      },
      "execution_count": null,
      "outputs": [
        {
          "output_type": "stream",
          "name": "stderr",
          "text": [
            "/usr/local/lib/python3.10/dist-packages/sklearn/linear_model/_logistic.py:444: ConvergenceWarning: lbfgs failed to converge (status=1):\n",
            "STOP: TOTAL NO. of ITERATIONS REACHED LIMIT.\n",
            "\n",
            "Increase the number of iterations (max_iter) or scale the data as shown in:\n",
            "    https://scikit-learn.org/stable/modules/preprocessing.html\n",
            "Please also refer to the documentation for alternative solver options:\n",
            "    https://scikit-learn.org/stable/modules/linear_model.html#logistic-regression\n",
            "  n_iter_i = _check_optimize_result(\n"
          ]
        },
        {
          "output_type": "stream",
          "name": "stdout",
          "text": [
            "LR, Count Vectors:  0.5238095238095238\n",
            "LR, WordLevel TF-IDF:  0.5714285714285714\n",
            "LR, N-Gram Vectors:  0.6190476190476191\n",
            "LR, CharLevel Vectors:  0.6084656084656085\n"
          ]
        }
      ]
    },
    {
      "cell_type": "markdown",
      "source": [
        "# Support Vector Machine"
      ],
      "metadata": {
        "id": "cB9p2_FISQsQ"
      }
    },
    {
      "cell_type": "code",
      "source": [
        "# SVM on Count Vectors\n",
        "accuracy = train_model(svm.SVC(), xtrain_count, train_y, xvalid_count)\n",
        "print (\"SVM, Count Vectors: \", accuracy)\n",
        "\n",
        "# SVM on Ngram Level TF IDF Vectors\n",
        "accuracy = train_model(svm.SVC(), xtrain_tfidf_ngram, train_y, xvalid_tfidf_ngram)\n",
        "print (\"SVM, Ngram Level TF IDF Vectors: \", accuracy)\n",
        "\n",
        "# SVM on Word Level TF IDF Vectors\n",
        "accuracy = train_model(svm.SVC(), xtrain_tfidf, train_y, xvalid_tfidf)\n",
        "print (\"SVM, Word Level TF IDF Vectors: \", accuracy)\n",
        "\n",
        "# SVM on Character Level TF IDF Vectors\n",
        "accuracy = train_model(svm.SVC(), xtrain_tfidf_ngram_chars, train_y, xvalid_tfidf_ngram_chars)\n",
        "print (\"SVM, Character Level TF IDF Vectors: \", accuracy)"
      ],
      "metadata": {
        "colab": {
          "base_uri": "https://localhost:8080/"
        },
        "id": "_KQ36M-nSMQm",
        "outputId": "a1a40b21-ea11-495f-a33d-fb9764b9b9e2"
      },
      "execution_count": null,
      "outputs": [
        {
          "output_type": "stream",
          "name": "stdout",
          "text": [
            "SVM, Count Vectors:  0.5026455026455027\n",
            "SVM, Ngram Level TF IDF Vectors:  0.5873015873015873\n",
            "SVM, Word Level TF IDF Vectors:  0.5608465608465608\n",
            "SVM, Character Level TF IDF Vectors:  0.6296296296296297\n"
          ]
        }
      ]
    },
    {
      "cell_type": "markdown",
      "source": [
        "# Random Forest - Bagging Model"
      ],
      "metadata": {
        "id": "jMNB2S-fSYKg"
      }
    },
    {
      "cell_type": "code",
      "source": [
        "# RF on Count Vectors\n",
        "accuracy = train_model(ensemble.RandomForestClassifier(), xtrain_count, train_y, xvalid_count)\n",
        "print (\"RF, Count Vectors: \", accuracy)\n",
        "\n",
        "# RF on Word Level TF IDF Vectors\n",
        "accuracy = train_model(ensemble.RandomForestClassifier(), xtrain_tfidf, train_y, xvalid_tfidf)\n",
        "print (\"RF, WordLevel TF-IDF: \", accuracy)\n",
        "\n",
        "# RF on Ngram Level TF IDF Vectors\n",
        "accuracy = train_model(ensemble.RandomForestClassifier(), xtrain_tfidf_ngram, train_y, xvalid_tfidf_ngram)\n",
        "print (\"RF, gram Level TF-IDF: \", accuracy)\n",
        "\n",
        "# RF on Character Level TF IDF Vectors\n",
        "accuracy = train_model(ensemble.RandomForestClassifier(), xtrain_tfidf_ngram_chars, train_y, xvalid_tfidf_ngram_chars)\n",
        "print (\"RF, Character Level TF IDF: \", accuracy)"
      ],
      "metadata": {
        "colab": {
          "base_uri": "https://localhost:8080/"
        },
        "id": "l03Esz66STuP",
        "outputId": "4eece3a1-1d37-47f9-c27d-01d0c03133bd"
      },
      "execution_count": null,
      "outputs": [
        {
          "output_type": "stream",
          "name": "stdout",
          "text": [
            "RF, Count Vectors:  0.5185185185185185\n",
            "RF, WordLevel TF-IDF:  0.544973544973545\n",
            "RF, gram Level TF-IDF:  0.5661375661375662\n",
            "RF, Character Level TF IDF:  0.5555555555555556\n"
          ]
        }
      ]
    },
    {
      "cell_type": "markdown",
      "source": [
        "# Translate into English"
      ],
      "metadata": {
        "id": "0mZPaO14TGRw"
      }
    },
    {
      "cell_type": "code",
      "source": [
        "pip install googletrans==4.0.0-rc1\n"
      ],
      "metadata": {
        "colab": {
          "base_uri": "https://localhost:8080/"
        },
        "collapsed": true,
        "id": "QZl0gsjNTLZc",
        "outputId": "29e0184e-5f43-47a0-b9d2-99cbeecba630"
      },
      "execution_count": null,
      "outputs": [
        {
          "output_type": "stream",
          "name": "stdout",
          "text": [
            "Collecting googletrans==4.0.0-rc1\n",
            "  Downloading googletrans-4.0.0rc1.tar.gz (20 kB)\n",
            "  Preparing metadata (setup.py) ... \u001b[?25l\u001b[?25hdone\n",
            "Collecting httpx==0.13.3 (from googletrans==4.0.0-rc1)\n",
            "  Downloading httpx-0.13.3-py3-none-any.whl.metadata (25 kB)\n",
            "Requirement already satisfied: certifi in /usr/local/lib/python3.10/dist-packages (from httpx==0.13.3->googletrans==4.0.0-rc1) (2024.7.4)\n",
            "Collecting hstspreload (from httpx==0.13.3->googletrans==4.0.0-rc1)\n",
            "  Downloading hstspreload-2024.8.1-py3-none-any.whl.metadata (2.1 kB)\n",
            "Requirement already satisfied: sniffio in /usr/local/lib/python3.10/dist-packages (from httpx==0.13.3->googletrans==4.0.0-rc1) (1.3.1)\n",
            "Collecting chardet==3.* (from httpx==0.13.3->googletrans==4.0.0-rc1)\n",
            "  Downloading chardet-3.0.4-py2.py3-none-any.whl.metadata (3.2 kB)\n",
            "Collecting idna==2.* (from httpx==0.13.3->googletrans==4.0.0-rc1)\n",
            "  Downloading idna-2.10-py2.py3-none-any.whl.metadata (9.1 kB)\n",
            "Collecting rfc3986<2,>=1.3 (from httpx==0.13.3->googletrans==4.0.0-rc1)\n",
            "  Downloading rfc3986-1.5.0-py2.py3-none-any.whl.metadata (6.5 kB)\n",
            "Collecting httpcore==0.9.* (from httpx==0.13.3->googletrans==4.0.0-rc1)\n",
            "  Downloading httpcore-0.9.1-py3-none-any.whl.metadata (4.6 kB)\n",
            "Collecting h11<0.10,>=0.8 (from httpcore==0.9.*->httpx==0.13.3->googletrans==4.0.0-rc1)\n",
            "  Downloading h11-0.9.0-py2.py3-none-any.whl.metadata (8.1 kB)\n",
            "Collecting h2==3.* (from httpcore==0.9.*->httpx==0.13.3->googletrans==4.0.0-rc1)\n",
            "  Downloading h2-3.2.0-py2.py3-none-any.whl.metadata (32 kB)\n",
            "Collecting hyperframe<6,>=5.2.0 (from h2==3.*->httpcore==0.9.*->httpx==0.13.3->googletrans==4.0.0-rc1)\n",
            "  Downloading hyperframe-5.2.0-py2.py3-none-any.whl.metadata (7.2 kB)\n",
            "Collecting hpack<4,>=3.0 (from h2==3.*->httpcore==0.9.*->httpx==0.13.3->googletrans==4.0.0-rc1)\n",
            "  Downloading hpack-3.0.0-py2.py3-none-any.whl.metadata (7.0 kB)\n",
            "Downloading httpx-0.13.3-py3-none-any.whl (55 kB)\n",
            "\u001b[2K   \u001b[90m━━━━━━━━━━━━━━━━━━━━━━━━━━━━━━━━━━━━━━━━\u001b[0m \u001b[32m55.1/55.1 kB\u001b[0m \u001b[31m2.1 MB/s\u001b[0m eta \u001b[36m0:00:00\u001b[0m\n",
            "\u001b[?25hDownloading chardet-3.0.4-py2.py3-none-any.whl (133 kB)\n",
            "\u001b[2K   \u001b[90m━━━━━━━━━━━━━━━━━━━━━━━━━━━━━━━━━━━━━━━━\u001b[0m \u001b[32m133.4/133.4 kB\u001b[0m \u001b[31m2.5 MB/s\u001b[0m eta \u001b[36m0:00:00\u001b[0m\n",
            "\u001b[?25hDownloading httpcore-0.9.1-py3-none-any.whl (42 kB)\n",
            "\u001b[2K   \u001b[90m━━━━━━━━━━━━━━━━━━━━━━━━━━━━━━━━━━━━━━━━\u001b[0m \u001b[32m42.6/42.6 kB\u001b[0m \u001b[31m2.3 MB/s\u001b[0m eta \u001b[36m0:00:00\u001b[0m\n",
            "\u001b[?25hDownloading idna-2.10-py2.py3-none-any.whl (58 kB)\n",
            "\u001b[2K   \u001b[90m━━━━━━━━━━━━━━━━━━━━━━━━━━━━━━━━━━━━━━━━\u001b[0m \u001b[32m58.8/58.8 kB\u001b[0m \u001b[31m3.8 MB/s\u001b[0m eta \u001b[36m0:00:00\u001b[0m\n",
            "\u001b[?25hDownloading h2-3.2.0-py2.py3-none-any.whl (65 kB)\n",
            "\u001b[2K   \u001b[90m━━━━━━━━━━━━━━━━━━━━━━━━━━━━━━━━━━━━━━━━\u001b[0m \u001b[32m65.0/65.0 kB\u001b[0m \u001b[31m3.2 MB/s\u001b[0m eta \u001b[36m0:00:00\u001b[0m\n",
            "\u001b[?25hDownloading rfc3986-1.5.0-py2.py3-none-any.whl (31 kB)\n",
            "Downloading hstspreload-2024.8.1-py3-none-any.whl (1.2 MB)\n",
            "\u001b[2K   \u001b[90m━━━━━━━━━━━━━━━━━━━━━━━━━━━━━━━━━━━━━━━━\u001b[0m \u001b[32m1.2/1.2 MB\u001b[0m \u001b[31m12.6 MB/s\u001b[0m eta \u001b[36m0:00:00\u001b[0m\n",
            "\u001b[?25hDownloading h11-0.9.0-py2.py3-none-any.whl (53 kB)\n",
            "\u001b[2K   \u001b[90m━━━━━━━━━━━━━━━━━━━━━━━━━━━━━━━━━━━━━━━━\u001b[0m \u001b[32m53.6/53.6 kB\u001b[0m \u001b[31m3.2 MB/s\u001b[0m eta \u001b[36m0:00:00\u001b[0m\n",
            "\u001b[?25hDownloading hpack-3.0.0-py2.py3-none-any.whl (38 kB)\n",
            "Downloading hyperframe-5.2.0-py2.py3-none-any.whl (12 kB)\n",
            "Building wheels for collected packages: googletrans\n",
            "  Building wheel for googletrans (setup.py) ... \u001b[?25l\u001b[?25hdone\n",
            "  Created wheel for googletrans: filename=googletrans-4.0.0rc1-py3-none-any.whl size=17397 sha256=3276a2939122879ef8238cc44050da4cfc480cf4b46b4e85f04f8591fa69979a\n",
            "  Stored in directory: /root/.cache/pip/wheels/c0/59/9f/7372f0cf70160fe61b528532e1a7c8498c4becd6bcffb022de\n",
            "Successfully built googletrans\n",
            "Installing collected packages: rfc3986, hyperframe, hpack, h11, chardet, idna, hstspreload, h2, httpcore, httpx, googletrans\n",
            "  Attempting uninstall: idna\n",
            "    Found existing installation: idna 3.7\n",
            "    Uninstalling idna-3.7:\n",
            "      Successfully uninstalled idna-3.7\n",
            "Successfully installed chardet-3.0.4 googletrans-4.0.0rc1 h11-0.9.0 h2-3.2.0 hpack-3.0.0 hstspreload-2024.8.1 httpcore-0.9.1 httpx-0.13.3 hyperframe-5.2.0 idna-2.10 rfc3986-1.5.0\n"
          ]
        }
      ]
    },
    {
      "cell_type": "code",
      "source": [
        "import pandas as pd\n",
        "from googletrans import Translator"
      ],
      "metadata": {
        "id": "qB1eeMJBSeGu"
      },
      "execution_count": null,
      "outputs": []
    },
    {
      "cell_type": "code",
      "source": [
        " #Initialize the translator\n",
        "translator = Translator()\n",
        "\n",
        "# Function to translate text\n",
        "def translate_text(text):\n",
        "    try:\n",
        "        translated = translator.translate(text, src='si', dest='en')\n",
        "        return translated.text\n",
        "    except Exception as e:\n",
        "        print(f\"Error translating text: {e}\")\n",
        "        return text\n",
        "\n",
        "# Apply the function to the column\n",
        "df['english_text'] = df['text'].apply(translate_text)\n"
      ],
      "metadata": {
        "id": "VLixrWAwTKHv"
      },
      "execution_count": null,
      "outputs": []
    },
    {
      "cell_type": "code",
      "source": [
        "df.to_csv('df_translated.csv',index=False)"
      ],
      "metadata": {
        "id": "BnlMkJCqs_Q8"
      },
      "execution_count": null,
      "outputs": []
    },
    {
      "cell_type": "code",
      "source": [
        "df_traslated = pd.read_csv('df_translated.csv')"
      ],
      "metadata": {
        "id": "7VuRvPFcWGKo"
      },
      "execution_count": null,
      "outputs": []
    },
    {
      "cell_type": "code",
      "source": [
        "df_traslated.head()"
      ],
      "metadata": {
        "colab": {
          "base_uri": "https://localhost:8080/",
          "height": 295
        },
        "id": "3pg6xZFeWM3Q",
        "outputId": "3791638d-71e3-465d-ae48-0b27147280d4"
      },
      "execution_count": null,
      "outputs": [
        {
          "output_type": "execute_result",
          "data": {
            "text/plain": [
              "                                         video_title  \\\n",
              "0  නොලැබීමට පරල වූ සෞඛ්‍ය වෘත්තීය සමිති...  \"ඒ කා...   \n",
              "1  නොලැබීමට පරල වූ සෞඛ්‍ය වෘත්තීය සමිති...  \"ඒ කා...   \n",
              "2  හින්දු බැතිමතුන් ජයටම තෛපොංගල් සමරයි... ජාතික ...   \n",
              "3  හින්දු බැතිමතුන් ජයටම තෛපොංගල් සමරයි... ජාතික ...   \n",
              "4  උතුම් බුදු දහමට එරෙහි බලවේග ගැන මහානායක හිමිවර...   \n",
              "\n",
              "                                                text     Label         Domain  \\\n",
              "0  කාලකන්නි වෙිසිගෙ පුතාල හෙනමයි තොපිට වදින්නෙ ත...  Negative  Non political   \n",
              "1  ඉල්ලුමට සැපයුම අනුව පඩි හැදෙන්නෙ, නැතුව ත්‍රස්...  Negative  Non political   \n",
              "2  ඊලග  තයිපෝන්ගල්    උත්සවය  උපරිමයෙන්   සාර්ථක ...  Positive      Political   \n",
              "3  තයිපෝන්ගල්    උත්සවය සාර්ථක වේවා sjb නායක තුමා...  Positive      Political   \n",
              "4  මේ රටේ මහා සංඝරත්නයට සමගියෙන් ඉන්න බැරි උනාම ඔ...   Neutral  Non political   \n",
              "\n",
              "    About                                       english_text  \n",
              "0     NaN  Wesari was a son-in-law, and you were bowed do...  \n",
              "1     NaN  If the offer is supplied, the payroll is done ...  \n",
              "2  Sajith  Success the next Typhonegenial Ceremony to the...  \n",
              "3  Sajith  May the Typhonegegenial Festival be successful...  \n",
              "4     NaN  It is when you can't stay united.Therefore, it...  "
            ],
            "text/html": [
              "\n",
              "  <div id=\"df-17e89166-0ed6-4ff3-9acc-f12de25077ec\" class=\"colab-df-container\">\n",
              "    <div>\n",
              "<style scoped>\n",
              "    .dataframe tbody tr th:only-of-type {\n",
              "        vertical-align: middle;\n",
              "    }\n",
              "\n",
              "    .dataframe tbody tr th {\n",
              "        vertical-align: top;\n",
              "    }\n",
              "\n",
              "    .dataframe thead th {\n",
              "        text-align: right;\n",
              "    }\n",
              "</style>\n",
              "<table border=\"1\" class=\"dataframe\">\n",
              "  <thead>\n",
              "    <tr style=\"text-align: right;\">\n",
              "      <th></th>\n",
              "      <th>video_title</th>\n",
              "      <th>text</th>\n",
              "      <th>Label</th>\n",
              "      <th>Domain</th>\n",
              "      <th>About</th>\n",
              "      <th>english_text</th>\n",
              "    </tr>\n",
              "  </thead>\n",
              "  <tbody>\n",
              "    <tr>\n",
              "      <th>0</th>\n",
              "      <td>නොලැබීමට පරල වූ සෞඛ්‍ය වෘත්තීය සමිති...  \"ඒ කා...</td>\n",
              "      <td>කාලකන්නි වෙිසිගෙ පුතාල හෙනමයි තොපිට වදින්නෙ ත...</td>\n",
              "      <td>Negative</td>\n",
              "      <td>Non political</td>\n",
              "      <td>NaN</td>\n",
              "      <td>Wesari was a son-in-law, and you were bowed do...</td>\n",
              "    </tr>\n",
              "    <tr>\n",
              "      <th>1</th>\n",
              "      <td>නොලැබීමට පරල වූ සෞඛ්‍ය වෘත්තීය සමිති...  \"ඒ කා...</td>\n",
              "      <td>ඉල්ලුමට සැපයුම අනුව පඩි හැදෙන්නෙ, නැතුව ත්‍රස්...</td>\n",
              "      <td>Negative</td>\n",
              "      <td>Non political</td>\n",
              "      <td>NaN</td>\n",
              "      <td>If the offer is supplied, the payroll is done ...</td>\n",
              "    </tr>\n",
              "    <tr>\n",
              "      <th>2</th>\n",
              "      <td>හින්දු බැතිමතුන් ජයටම තෛපොංගල් සමරයි... ජාතික ...</td>\n",
              "      <td>ඊලග  තයිපෝන්ගල්    උත්සවය  උපරිමයෙන්   සාර්ථක ...</td>\n",
              "      <td>Positive</td>\n",
              "      <td>Political</td>\n",
              "      <td>Sajith</td>\n",
              "      <td>Success the next Typhonegenial Ceremony to the...</td>\n",
              "    </tr>\n",
              "    <tr>\n",
              "      <th>3</th>\n",
              "      <td>හින්දු බැතිමතුන් ජයටම තෛපොංගල් සමරයි... ජාතික ...</td>\n",
              "      <td>තයිපෝන්ගල්    උත්සවය සාර්ථක වේවා sjb නායක තුමා...</td>\n",
              "      <td>Positive</td>\n",
              "      <td>Political</td>\n",
              "      <td>Sajith</td>\n",
              "      <td>May the Typhonegegenial Festival be successful...</td>\n",
              "    </tr>\n",
              "    <tr>\n",
              "      <th>4</th>\n",
              "      <td>උතුම් බුදු දහමට එරෙහි බලවේග ගැන මහානායක හිමිවර...</td>\n",
              "      <td>මේ රටේ මහා සංඝරත්නයට සමගියෙන් ඉන්න බැරි උනාම ඔ...</td>\n",
              "      <td>Neutral</td>\n",
              "      <td>Non political</td>\n",
              "      <td>NaN</td>\n",
              "      <td>It is when you can't stay united.Therefore, it...</td>\n",
              "    </tr>\n",
              "  </tbody>\n",
              "</table>\n",
              "</div>\n",
              "    <div class=\"colab-df-buttons\">\n",
              "\n",
              "  <div class=\"colab-df-container\">\n",
              "    <button class=\"colab-df-convert\" onclick=\"convertToInteractive('df-17e89166-0ed6-4ff3-9acc-f12de25077ec')\"\n",
              "            title=\"Convert this dataframe to an interactive table.\"\n",
              "            style=\"display:none;\">\n",
              "\n",
              "  <svg xmlns=\"http://www.w3.org/2000/svg\" height=\"24px\" viewBox=\"0 -960 960 960\">\n",
              "    <path d=\"M120-120v-720h720v720H120Zm60-500h600v-160H180v160Zm220 220h160v-160H400v160Zm0 220h160v-160H400v160ZM180-400h160v-160H180v160Zm440 0h160v-160H620v160ZM180-180h160v-160H180v160Zm440 0h160v-160H620v160Z\"/>\n",
              "  </svg>\n",
              "    </button>\n",
              "\n",
              "  <style>\n",
              "    .colab-df-container {\n",
              "      display:flex;\n",
              "      gap: 12px;\n",
              "    }\n",
              "\n",
              "    .colab-df-convert {\n",
              "      background-color: #E8F0FE;\n",
              "      border: none;\n",
              "      border-radius: 50%;\n",
              "      cursor: pointer;\n",
              "      display: none;\n",
              "      fill: #1967D2;\n",
              "      height: 32px;\n",
              "      padding: 0 0 0 0;\n",
              "      width: 32px;\n",
              "    }\n",
              "\n",
              "    .colab-df-convert:hover {\n",
              "      background-color: #E2EBFA;\n",
              "      box-shadow: 0px 1px 2px rgba(60, 64, 67, 0.3), 0px 1px 3px 1px rgba(60, 64, 67, 0.15);\n",
              "      fill: #174EA6;\n",
              "    }\n",
              "\n",
              "    .colab-df-buttons div {\n",
              "      margin-bottom: 4px;\n",
              "    }\n",
              "\n",
              "    [theme=dark] .colab-df-convert {\n",
              "      background-color: #3B4455;\n",
              "      fill: #D2E3FC;\n",
              "    }\n",
              "\n",
              "    [theme=dark] .colab-df-convert:hover {\n",
              "      background-color: #434B5C;\n",
              "      box-shadow: 0px 1px 3px 1px rgba(0, 0, 0, 0.15);\n",
              "      filter: drop-shadow(0px 1px 2px rgba(0, 0, 0, 0.3));\n",
              "      fill: #FFFFFF;\n",
              "    }\n",
              "  </style>\n",
              "\n",
              "    <script>\n",
              "      const buttonEl =\n",
              "        document.querySelector('#df-17e89166-0ed6-4ff3-9acc-f12de25077ec button.colab-df-convert');\n",
              "      buttonEl.style.display =\n",
              "        google.colab.kernel.accessAllowed ? 'block' : 'none';\n",
              "\n",
              "      async function convertToInteractive(key) {\n",
              "        const element = document.querySelector('#df-17e89166-0ed6-4ff3-9acc-f12de25077ec');\n",
              "        const dataTable =\n",
              "          await google.colab.kernel.invokeFunction('convertToInteractive',\n",
              "                                                    [key], {});\n",
              "        if (!dataTable) return;\n",
              "\n",
              "        const docLinkHtml = 'Like what you see? Visit the ' +\n",
              "          '<a target=\"_blank\" href=https://colab.research.google.com/notebooks/data_table.ipynb>data table notebook</a>'\n",
              "          + ' to learn more about interactive tables.';\n",
              "        element.innerHTML = '';\n",
              "        dataTable['output_type'] = 'display_data';\n",
              "        await google.colab.output.renderOutput(dataTable, element);\n",
              "        const docLink = document.createElement('div');\n",
              "        docLink.innerHTML = docLinkHtml;\n",
              "        element.appendChild(docLink);\n",
              "      }\n",
              "    </script>\n",
              "  </div>\n",
              "\n",
              "\n",
              "<div id=\"df-18f4077f-8193-4c1d-8e26-dd7f138e8ef0\">\n",
              "  <button class=\"colab-df-quickchart\" onclick=\"quickchart('df-18f4077f-8193-4c1d-8e26-dd7f138e8ef0')\"\n",
              "            title=\"Suggest charts\"\n",
              "            style=\"display:none;\">\n",
              "\n",
              "<svg xmlns=\"http://www.w3.org/2000/svg\" height=\"24px\"viewBox=\"0 0 24 24\"\n",
              "     width=\"24px\">\n",
              "    <g>\n",
              "        <path d=\"M19 3H5c-1.1 0-2 .9-2 2v14c0 1.1.9 2 2 2h14c1.1 0 2-.9 2-2V5c0-1.1-.9-2-2-2zM9 17H7v-7h2v7zm4 0h-2V7h2v10zm4 0h-2v-4h2v4z\"/>\n",
              "    </g>\n",
              "</svg>\n",
              "  </button>\n",
              "\n",
              "<style>\n",
              "  .colab-df-quickchart {\n",
              "      --bg-color: #E8F0FE;\n",
              "      --fill-color: #1967D2;\n",
              "      --hover-bg-color: #E2EBFA;\n",
              "      --hover-fill-color: #174EA6;\n",
              "      --disabled-fill-color: #AAA;\n",
              "      --disabled-bg-color: #DDD;\n",
              "  }\n",
              "\n",
              "  [theme=dark] .colab-df-quickchart {\n",
              "      --bg-color: #3B4455;\n",
              "      --fill-color: #D2E3FC;\n",
              "      --hover-bg-color: #434B5C;\n",
              "      --hover-fill-color: #FFFFFF;\n",
              "      --disabled-bg-color: #3B4455;\n",
              "      --disabled-fill-color: #666;\n",
              "  }\n",
              "\n",
              "  .colab-df-quickchart {\n",
              "    background-color: var(--bg-color);\n",
              "    border: none;\n",
              "    border-radius: 50%;\n",
              "    cursor: pointer;\n",
              "    display: none;\n",
              "    fill: var(--fill-color);\n",
              "    height: 32px;\n",
              "    padding: 0;\n",
              "    width: 32px;\n",
              "  }\n",
              "\n",
              "  .colab-df-quickchart:hover {\n",
              "    background-color: var(--hover-bg-color);\n",
              "    box-shadow: 0 1px 2px rgba(60, 64, 67, 0.3), 0 1px 3px 1px rgba(60, 64, 67, 0.15);\n",
              "    fill: var(--button-hover-fill-color);\n",
              "  }\n",
              "\n",
              "  .colab-df-quickchart-complete:disabled,\n",
              "  .colab-df-quickchart-complete:disabled:hover {\n",
              "    background-color: var(--disabled-bg-color);\n",
              "    fill: var(--disabled-fill-color);\n",
              "    box-shadow: none;\n",
              "  }\n",
              "\n",
              "  .colab-df-spinner {\n",
              "    border: 2px solid var(--fill-color);\n",
              "    border-color: transparent;\n",
              "    border-bottom-color: var(--fill-color);\n",
              "    animation:\n",
              "      spin 1s steps(1) infinite;\n",
              "  }\n",
              "\n",
              "  @keyframes spin {\n",
              "    0% {\n",
              "      border-color: transparent;\n",
              "      border-bottom-color: var(--fill-color);\n",
              "      border-left-color: var(--fill-color);\n",
              "    }\n",
              "    20% {\n",
              "      border-color: transparent;\n",
              "      border-left-color: var(--fill-color);\n",
              "      border-top-color: var(--fill-color);\n",
              "    }\n",
              "    30% {\n",
              "      border-color: transparent;\n",
              "      border-left-color: var(--fill-color);\n",
              "      border-top-color: var(--fill-color);\n",
              "      border-right-color: var(--fill-color);\n",
              "    }\n",
              "    40% {\n",
              "      border-color: transparent;\n",
              "      border-right-color: var(--fill-color);\n",
              "      border-top-color: var(--fill-color);\n",
              "    }\n",
              "    60% {\n",
              "      border-color: transparent;\n",
              "      border-right-color: var(--fill-color);\n",
              "    }\n",
              "    80% {\n",
              "      border-color: transparent;\n",
              "      border-right-color: var(--fill-color);\n",
              "      border-bottom-color: var(--fill-color);\n",
              "    }\n",
              "    90% {\n",
              "      border-color: transparent;\n",
              "      border-bottom-color: var(--fill-color);\n",
              "    }\n",
              "  }\n",
              "</style>\n",
              "\n",
              "  <script>\n",
              "    async function quickchart(key) {\n",
              "      const quickchartButtonEl =\n",
              "        document.querySelector('#' + key + ' button');\n",
              "      quickchartButtonEl.disabled = true;  // To prevent multiple clicks.\n",
              "      quickchartButtonEl.classList.add('colab-df-spinner');\n",
              "      try {\n",
              "        const charts = await google.colab.kernel.invokeFunction(\n",
              "            'suggestCharts', [key], {});\n",
              "      } catch (error) {\n",
              "        console.error('Error during call to suggestCharts:', error);\n",
              "      }\n",
              "      quickchartButtonEl.classList.remove('colab-df-spinner');\n",
              "      quickchartButtonEl.classList.add('colab-df-quickchart-complete');\n",
              "    }\n",
              "    (() => {\n",
              "      let quickchartButtonEl =\n",
              "        document.querySelector('#df-18f4077f-8193-4c1d-8e26-dd7f138e8ef0 button');\n",
              "      quickchartButtonEl.style.display =\n",
              "        google.colab.kernel.accessAllowed ? 'block' : 'none';\n",
              "    })();\n",
              "  </script>\n",
              "</div>\n",
              "\n",
              "    </div>\n",
              "  </div>\n"
            ],
            "application/vnd.google.colaboratory.intrinsic+json": {
              "type": "dataframe",
              "variable_name": "df_traslated",
              "summary": "{\n  \"name\": \"df_traslated\",\n  \"rows\": 1739,\n  \"fields\": [\n    {\n      \"column\": \"video_title\",\n      \"properties\": {\n        \"dtype\": \"category\",\n        \"num_unique_values\": 128,\n        \"samples\": [\n          \"Wada Pitiya -  2017.03.28\",\n          \"Wada Pitiya | \\u0dc3\\u0db8\\u0dcf\\u0da2 \\u0db8\\u0dcf\\u0db0\\u0dca\\u200d\\u0dba \\u0db1\\u0dd2\\u0dba\\u0dcf\\u0db8\\u0db1\\u0dba\\u0da7 \\u0db4\\u0db1\\u0dad\\u0d9a\\u0dca \\u0d89\\u0daf\\u0dd2\\u0dbb\\u0dd2\\u0db4\\u0dad\\u0dca\\u0dc0\\u0db1\\u0dca\\u0db1\\u0dda \\u0d87\\u0dba\\u0dd2 ?\",\n          \"\\u0d8b\\u0dc3\\u0dc3\\u0dca \\u0db4\\u0dd9\\u0dc5 \\u0dc0\\u0dd2\\u0db7\\u0dcf\\u0d9c\\u0dba\\u0dda \\u0db4\\u0dc5\\u0db8\\u0dd4 \\u0daf\\u0dd2\\u0db1\\u0dba\\u0dda \\u0dad\\u0dad\\u0dca\\u0dad\\u0dca\\u0dc0\\u0dba...  \\\"\\u0d9a\\u0dbd\\u0dd2\\u0db1\\u0dca \\u0dad\\u0dd2\\u0db6\\u0dca\\u0db6 \\u0db1\\u0db8\\u0dca \\u0dc4\\u0ddc\\u0db3\\u0dba\\u0dd2\\\"\"\n        ],\n        \"semantic_type\": \"\",\n        \"description\": \"\"\n      }\n    },\n    {\n      \"column\": \"text\",\n      \"properties\": {\n        \"dtype\": \"string\",\n        \"num_unique_values\": 1734,\n        \"samples\": [\n          \"\\u0d92\\u0d9a \\u0dad\\u0db8\\u0dba\\u0dd2 \\u0daf\\u0d9a\\u0dd4\\u0dab\\u0dd9 \\u0d8b\\u0db1\\u0dca \\u0d85\\u0da9\\u0dd2 \\u0daf\\u0dd9\\u0d9a \\u0dad\\u0dd4\\u0db1\\u0d9a\\u0dca \\u0d8b\\u0da9\\u0dd2\\u0db1\\u0dca \\u0dba\\u0db1\\u0dca\\u0db1\\u0dd9 eww \\u0dbd\\u0ddc\\u0d9a\\u0dd4 seen \\u0d95\\u0d9a\\u0dd4\\u0db1\\u0dca\\u0d9c\\u0dd9\\ud83d\\ude02\",\n          \"\\u0dbb\\u0dc3 \\u0db4\\u0dbb\\u0dd2\\u0d9a\\u0dca\\u0dc2\\u0d9a \\u0d9c\\u0dcf\\u0dc0\\u0da7 \\u0dba\\u0db1\\u0dca\\u0db1\\u0dd9 \\u0db4\\u0dcf\\u0db1\\u0dca \\u0dbd\\u0dd2\\u0da7\\u0dd2..\\ud83d\\ude01\",\n          \"\\u0d85\\u0db1\\u0dd9 \\u0d8b\\u0d9a\\u0dc4\\u0dbd\\u0dca\\u0dbd\\u0dcf\\ud83e\\udd23\"\n        ],\n        \"semantic_type\": \"\",\n        \"description\": \"\"\n      }\n    },\n    {\n      \"column\": \"Label\",\n      \"properties\": {\n        \"dtype\": \"category\",\n        \"num_unique_values\": 3,\n        \"samples\": [\n          \"Negative\",\n          \"Positive\",\n          \"Neutral\"\n        ],\n        \"semantic_type\": \"\",\n        \"description\": \"\"\n      }\n    },\n    {\n      \"column\": \"Domain\",\n      \"properties\": {\n        \"dtype\": \"category\",\n        \"num_unique_values\": 3,\n        \"samples\": [\n          \"Non political\",\n          \"Political\",\n          \" P\"\n        ],\n        \"semantic_type\": \"\",\n        \"description\": \"\"\n      }\n    },\n    {\n      \"column\": \"About\",\n      \"properties\": {\n        \"dtype\": \"category\",\n        \"num_unique_values\": 7,\n        \"samples\": [\n          \"Sajith\",\n          \"Everyone\",\n          \"Other\"\n        ],\n        \"semantic_type\": \"\",\n        \"description\": \"\"\n      }\n    },\n    {\n      \"column\": \"english_text\",\n      \"properties\": {\n        \"dtype\": \"string\",\n        \"num_unique_values\": 1730,\n        \"samples\": [\n          \"Right in the South\",\n          \"Who should say who mow the mind's mind.\",\n          \"Nowadays, what's going on the rapid\"\n        ],\n        \"semantic_type\": \"\",\n        \"description\": \"\"\n      }\n    }\n  ]\n}"
            }
          },
          "metadata": {},
          "execution_count": 101
        }
      ]
    },
    {
      "cell_type": "markdown",
      "source": [],
      "metadata": {
        "id": "L6pPQZbUR9kd"
      }
    },
    {
      "cell_type": "markdown",
      "source": [
        "# English"
      ],
      "metadata": {
        "id": "VzCgF_mf2dlc"
      }
    },
    {
      "cell_type": "code",
      "source": [
        "#Data cleaning and preprocessing\n",
        "import re\n",
        "import nltk\n",
        "nltk.download('stopwords')"
      ],
      "metadata": {
        "colab": {
          "base_uri": "https://localhost:8080/"
        },
        "id": "FJnUpVfL27Cu",
        "outputId": "d3d5e70c-f4bf-4126-d01c-81999ce7e1ab"
      },
      "execution_count": null,
      "outputs": [
        {
          "output_type": "stream",
          "name": "stderr",
          "text": [
            "[nltk_data] Downloading package stopwords to /root/nltk_data...\n",
            "[nltk_data]   Unzipping corpora/stopwords.zip.\n"
          ]
        },
        {
          "output_type": "execute_result",
          "data": {
            "text/plain": [
              "True"
            ]
          },
          "metadata": {},
          "execution_count": 102
        }
      ]
    },
    {
      "cell_type": "code",
      "source": [
        "from nltk.corpus import stopwords\n",
        "from nltk.stem.porter import PorterStemmer\n",
        "ps = PorterStemmer()\n",
        "corpus = []"
      ],
      "metadata": {
        "id": "naQU2T3r3BQH"
      },
      "execution_count": null,
      "outputs": []
    },
    {
      "cell_type": "code",
      "source": [
        "for i in range(0, len(messages)):\n",
        "    review = re.sub('[^a-zA-Z]', ' ', messages['message'][i])\n",
        "    review = review.lower()\n",
        "    review = review.split()\n",
        "\n",
        "    review = [ps.stem(word) for word in review if not word in stopwords.words('english')]\n",
        "    review = ' '.join(review)\n",
        "    corpus.append(review)\n",
        "\n",
        "\n",
        "# Creating the Bag of Words model\n",
        "from sklearn.feature_extraction.text import CountVectorizer\n",
        "cv = CountVectorizer(max_features=2500)\n",
        "X = cv.fit_transform(corpus).toarray()\n",
        "\n",
        "y=pd.get_dummies(messages['label'])\n",
        "y=y.iloc[:,1].values\n",
        "\n",
        "\n",
        "# Train Test Split\n",
        "\n",
        "from sklearn.model_selection import train_test_split\n",
        "X_train, X_test, y_train, y_test = train_test_split(X, y, test_size = 0.20, random_state = 0)\n",
        "\n",
        "# Training model using Naive bayes classifier\n",
        "\n",
        "from sklearn.naive_bayes import MultinomialNB\n",
        "spam_detect_model = MultinomialNB().fit(X_train, y_train)\n",
        "\n",
        "y_pred=spam_detect_model.predict(X_test)"
      ],
      "metadata": {
        "id": "NahBo-Cl2gdm"
      },
      "execution_count": null,
      "outputs": []
    },
    {
      "cell_type": "code",
      "source": [
        "from sklearn.pipeline import Pipeline\n",
        "from sklearn.feature_extraction.text import TfidfTransformer\n",
        "from sklearn.linear_model import SGDClassifier"
      ],
      "metadata": {
        "id": "1ElVxbZ8xxhw"
      },
      "execution_count": null,
      "outputs": []
    },
    {
      "cell_type": "code",
      "source": [
        "sgd = Pipeline([('vect', CountVectorizer()),\n",
        "                ('tfidf', TfidfTransformer()),\n",
        "                ('clf', SGDClassifier(loss='hinge', penalty='l2',alpha=1e-3, random_state=42, max_iter=5, tol=None)),\n",
        "               ])\n",
        "sgd.fit(train_x, train_y)"
      ],
      "metadata": {
        "colab": {
          "base_uri": "https://localhost:8080/",
          "height": 180
        },
        "id": "-nUwqZ3Nxz1d",
        "outputId": "3b8bcd7b-68e1-4e02-c587-1bb87762f57c"
      },
      "execution_count": null,
      "outputs": [
        {
          "output_type": "execute_result",
          "data": {
            "text/plain": [
              "Pipeline(steps=[('vect', CountVectorizer()), ('tfidf', TfidfTransformer()),\n",
              "                ('clf',\n",
              "                 SGDClassifier(alpha=0.001, max_iter=5, random_state=42,\n",
              "                               tol=None))])"
            ],
            "text/html": [
              "<style>#sk-container-id-4 {color: black;background-color: white;}#sk-container-id-4 pre{padding: 0;}#sk-container-id-4 div.sk-toggleable {background-color: white;}#sk-container-id-4 label.sk-toggleable__label {cursor: pointer;display: block;width: 100%;margin-bottom: 0;padding: 0.3em;box-sizing: border-box;text-align: center;}#sk-container-id-4 label.sk-toggleable__label-arrow:before {content: \"▸\";float: left;margin-right: 0.25em;color: #696969;}#sk-container-id-4 label.sk-toggleable__label-arrow:hover:before {color: black;}#sk-container-id-4 div.sk-estimator:hover label.sk-toggleable__label-arrow:before {color: black;}#sk-container-id-4 div.sk-toggleable__content {max-height: 0;max-width: 0;overflow: hidden;text-align: left;background-color: #f0f8ff;}#sk-container-id-4 div.sk-toggleable__content pre {margin: 0.2em;color: black;border-radius: 0.25em;background-color: #f0f8ff;}#sk-container-id-4 input.sk-toggleable__control:checked~div.sk-toggleable__content {max-height: 200px;max-width: 100%;overflow: auto;}#sk-container-id-4 input.sk-toggleable__control:checked~label.sk-toggleable__label-arrow:before {content: \"▾\";}#sk-container-id-4 div.sk-estimator input.sk-toggleable__control:checked~label.sk-toggleable__label {background-color: #d4ebff;}#sk-container-id-4 div.sk-label input.sk-toggleable__control:checked~label.sk-toggleable__label {background-color: #d4ebff;}#sk-container-id-4 input.sk-hidden--visually {border: 0;clip: rect(1px 1px 1px 1px);clip: rect(1px, 1px, 1px, 1px);height: 1px;margin: -1px;overflow: hidden;padding: 0;position: absolute;width: 1px;}#sk-container-id-4 div.sk-estimator {font-family: monospace;background-color: #f0f8ff;border: 1px dotted black;border-radius: 0.25em;box-sizing: border-box;margin-bottom: 0.5em;}#sk-container-id-4 div.sk-estimator:hover {background-color: #d4ebff;}#sk-container-id-4 div.sk-parallel-item::after {content: \"\";width: 100%;border-bottom: 1px solid gray;flex-grow: 1;}#sk-container-id-4 div.sk-label:hover label.sk-toggleable__label {background-color: #d4ebff;}#sk-container-id-4 div.sk-serial::before {content: \"\";position: absolute;border-left: 1px solid gray;box-sizing: border-box;top: 0;bottom: 0;left: 50%;z-index: 0;}#sk-container-id-4 div.sk-serial {display: flex;flex-direction: column;align-items: center;background-color: white;padding-right: 0.2em;padding-left: 0.2em;position: relative;}#sk-container-id-4 div.sk-item {position: relative;z-index: 1;}#sk-container-id-4 div.sk-parallel {display: flex;align-items: stretch;justify-content: center;background-color: white;position: relative;}#sk-container-id-4 div.sk-item::before, #sk-container-id-4 div.sk-parallel-item::before {content: \"\";position: absolute;border-left: 1px solid gray;box-sizing: border-box;top: 0;bottom: 0;left: 50%;z-index: -1;}#sk-container-id-4 div.sk-parallel-item {display: flex;flex-direction: column;z-index: 1;position: relative;background-color: white;}#sk-container-id-4 div.sk-parallel-item:first-child::after {align-self: flex-end;width: 50%;}#sk-container-id-4 div.sk-parallel-item:last-child::after {align-self: flex-start;width: 50%;}#sk-container-id-4 div.sk-parallel-item:only-child::after {width: 0;}#sk-container-id-4 div.sk-dashed-wrapped {border: 1px dashed gray;margin: 0 0.4em 0.5em 0.4em;box-sizing: border-box;padding-bottom: 0.4em;background-color: white;}#sk-container-id-4 div.sk-label label {font-family: monospace;font-weight: bold;display: inline-block;line-height: 1.2em;}#sk-container-id-4 div.sk-label-container {text-align: center;}#sk-container-id-4 div.sk-container {/* jupyter's `normalize.less` sets `[hidden] { display: none; }` but bootstrap.min.css set `[hidden] { display: none !important; }` so we also need the `!important` here to be able to override the default hidden behavior on the sphinx rendered scikit-learn.org. See: https://github.com/scikit-learn/scikit-learn/issues/21755 */display: inline-block !important;position: relative;}#sk-container-id-4 div.sk-text-repr-fallback {display: none;}</style><div id=\"sk-container-id-4\" class=\"sk-top-container\"><div class=\"sk-text-repr-fallback\"><pre>Pipeline(steps=[(&#x27;vect&#x27;, CountVectorizer()), (&#x27;tfidf&#x27;, TfidfTransformer()),\n",
              "                (&#x27;clf&#x27;,\n",
              "                 SGDClassifier(alpha=0.001, max_iter=5, random_state=42,\n",
              "                               tol=None))])</pre><b>In a Jupyter environment, please rerun this cell to show the HTML representation or trust the notebook. <br />On GitHub, the HTML representation is unable to render, please try loading this page with nbviewer.org.</b></div><div class=\"sk-container\" hidden><div class=\"sk-item sk-dashed-wrapped\"><div class=\"sk-label-container\"><div class=\"sk-label sk-toggleable\"><input class=\"sk-toggleable__control sk-hidden--visually\" id=\"sk-estimator-id-4\" type=\"checkbox\" ><label for=\"sk-estimator-id-4\" class=\"sk-toggleable__label sk-toggleable__label-arrow\">Pipeline</label><div class=\"sk-toggleable__content\"><pre>Pipeline(steps=[(&#x27;vect&#x27;, CountVectorizer()), (&#x27;tfidf&#x27;, TfidfTransformer()),\n",
              "                (&#x27;clf&#x27;,\n",
              "                 SGDClassifier(alpha=0.001, max_iter=5, random_state=42,\n",
              "                               tol=None))])</pre></div></div></div><div class=\"sk-serial\"><div class=\"sk-item\"><div class=\"sk-estimator sk-toggleable\"><input class=\"sk-toggleable__control sk-hidden--visually\" id=\"sk-estimator-id-5\" type=\"checkbox\" ><label for=\"sk-estimator-id-5\" class=\"sk-toggleable__label sk-toggleable__label-arrow\">CountVectorizer</label><div class=\"sk-toggleable__content\"><pre>CountVectorizer()</pre></div></div></div><div class=\"sk-item\"><div class=\"sk-estimator sk-toggleable\"><input class=\"sk-toggleable__control sk-hidden--visually\" id=\"sk-estimator-id-6\" type=\"checkbox\" ><label for=\"sk-estimator-id-6\" class=\"sk-toggleable__label sk-toggleable__label-arrow\">TfidfTransformer</label><div class=\"sk-toggleable__content\"><pre>TfidfTransformer()</pre></div></div></div><div class=\"sk-item\"><div class=\"sk-estimator sk-toggleable\"><input class=\"sk-toggleable__control sk-hidden--visually\" id=\"sk-estimator-id-7\" type=\"checkbox\" ><label for=\"sk-estimator-id-7\" class=\"sk-toggleable__label sk-toggleable__label-arrow\">SGDClassifier</label><div class=\"sk-toggleable__content\"><pre>SGDClassifier(alpha=0.001, max_iter=5, random_state=42, tol=None)</pre></div></div></div></div></div></div></div>"
            ]
          },
          "metadata": {},
          "execution_count": 64
        }
      ]
    },
    {
      "cell_type": "code",
      "source": [
        "sgd.predict(valid_x)"
      ],
      "metadata": {
        "colab": {
          "base_uri": "https://localhost:8080/"
        },
        "id": "kPcWiEgDx6Ag",
        "outputId": "f5025023-11c2-4ff9-f5f0-bfc06382c6ee"
      },
      "execution_count": null,
      "outputs": [
        {
          "output_type": "execute_result",
          "data": {
            "text/plain": [
              "array([1, 1, 2, 1, 1, 2, 0, 0, 1, 0, 1, 0, 0, 0, 2, 1, 1, 2, 1, 2, 2, 2,\n",
              "       2, 0, 2, 0, 1, 0, 0, 2, 1, 2, 0, 1, 2, 1, 2, 0, 0, 1, 2, 2, 0, 0,\n",
              "       0, 0, 2, 0, 1, 1, 2, 2, 0, 2, 2, 2, 0, 0, 2, 2, 0, 1, 2, 1, 1, 0,\n",
              "       2, 1, 0, 0, 0, 2, 0, 0, 0, 0, 0, 0, 1, 2, 1, 1, 0, 0, 1, 1, 2, 0,\n",
              "       2, 0, 2, 1, 1, 0, 0, 0, 2, 0, 2, 1, 0, 1, 2, 0, 2, 1, 1, 0, 1, 2,\n",
              "       0, 0, 2, 0, 0, 0, 0, 1, 1, 2, 2, 2, 2, 2, 2, 0, 0, 0, 0, 2, 2, 1,\n",
              "       0, 0, 1, 0, 2, 0, 0, 0, 2, 2, 1, 2, 2, 1, 1, 2, 1, 0, 2, 2, 2, 2,\n",
              "       2, 2, 0, 2, 1, 1, 1, 0, 1, 2, 0, 0, 2, 2, 0, 0, 1, 1, 1, 2, 0, 0,\n",
              "       0, 2, 2, 1, 1, 0, 1, 0, 0, 0, 0, 2, 2])"
            ]
          },
          "metadata": {},
          "execution_count": 65
        }
      ]
    },
    {
      "cell_type": "code",
      "source": [
        "from pickle import load, dump\n",
        "dump(sgd, open(\"model.pkl\", \"wb\"))\n",
        "model = load(open(\"model.pkl\", \"rb\"))"
      ],
      "metadata": {
        "id": "Psh5hci0xryr",
        "colab": {
          "base_uri": "https://localhost:8080/",
          "height": 196
        },
        "outputId": "26427992-8744-44fc-dabf-ae7cd2a77554"
      },
      "execution_count": null,
      "outputs": [
        {
          "output_type": "error",
          "ename": "NameError",
          "evalue": "name 'sgd' is not defined",
          "traceback": [
            "\u001b[0;31m---------------------------------------------------------------------------\u001b[0m",
            "\u001b[0;31mNameError\u001b[0m                                 Traceback (most recent call last)",
            "\u001b[0;32m<ipython-input-1-a760f821b685>\u001b[0m in \u001b[0;36m<cell line: 2>\u001b[0;34m()\u001b[0m\n\u001b[1;32m      1\u001b[0m \u001b[0;32mfrom\u001b[0m \u001b[0mpickle\u001b[0m \u001b[0;32mimport\u001b[0m \u001b[0mload\u001b[0m\u001b[0;34m,\u001b[0m \u001b[0mdump\u001b[0m\u001b[0;34m\u001b[0m\u001b[0;34m\u001b[0m\u001b[0m\n\u001b[0;32m----> 2\u001b[0;31m \u001b[0mdump\u001b[0m\u001b[0;34m(\u001b[0m\u001b[0msgd\u001b[0m\u001b[0;34m,\u001b[0m \u001b[0mopen\u001b[0m\u001b[0;34m(\u001b[0m\u001b[0;34m\"model.pkl\"\u001b[0m\u001b[0;34m,\u001b[0m \u001b[0;34m\"wb\"\u001b[0m\u001b[0;34m)\u001b[0m\u001b[0;34m)\u001b[0m\u001b[0;34m\u001b[0m\u001b[0;34m\u001b[0m\u001b[0m\n\u001b[0m\u001b[1;32m      3\u001b[0m \u001b[0mmodel\u001b[0m \u001b[0;34m=\u001b[0m \u001b[0mload\u001b[0m\u001b[0;34m(\u001b[0m\u001b[0mopen\u001b[0m\u001b[0;34m(\u001b[0m\u001b[0;34m\"model.pkl\"\u001b[0m\u001b[0;34m,\u001b[0m \u001b[0;34m\"rb\"\u001b[0m\u001b[0;34m)\u001b[0m\u001b[0;34m)\u001b[0m\u001b[0;34m\u001b[0m\u001b[0;34m\u001b[0m\u001b[0m\n",
            "\u001b[0;31mNameError\u001b[0m: name 'sgd' is not defined"
          ]
        }
      ]
    },
    {
      "cell_type": "code",
      "source": [
        "from sklearn.metrics import accuracy_score"
      ],
      "metadata": {
        "id": "lD1cH4bsx_Uq"
      },
      "execution_count": null,
      "outputs": []
    },
    {
      "cell_type": "code",
      "source": [
        "from sklearn.metrics import classification_report\n",
        "y_pred = model.predict(valid_x)\n",
        "tags = ['Negative','Positive','Neutral']\n",
        "print('Accuracy %s' % accuracy_score(y_pred, valid_y))\n",
        "\n",
        "print(classification_report(valid_y, y_pred,target_names=tags))"
      ],
      "metadata": {
        "colab": {
          "base_uri": "https://localhost:8080/"
        },
        "id": "NsyChU4ewVeT",
        "outputId": "4a903bcf-80d1-4c0e-aa1b-3e6d8e3dff85"
      },
      "execution_count": null,
      "outputs": [
        {
          "output_type": "stream",
          "name": "stdout",
          "text": [
            "Accuracy 0.5555555555555556\n",
            "              precision    recall  f1-score   support\n",
            "\n",
            "    Negative       0.57      0.67      0.61        63\n",
            "    Positive       0.56      0.44      0.49        64\n",
            "     Neutral       0.54      0.56      0.55        62\n",
            "\n",
            "    accuracy                           0.56       189\n",
            "   macro avg       0.56      0.56      0.55       189\n",
            "weighted avg       0.56      0.56      0.55       189\n",
            "\n"
          ]
        }
      ]
    },
    {
      "cell_type": "code",
      "source": [
        "df = pd.read_csv('df_cleaned.csv')\n",
        "df.head()"
      ],
      "metadata": {
        "colab": {
          "base_uri": "https://localhost:8080/",
          "height": 226
        },
        "id": "20xIDwE80dwf",
        "outputId": "f098a674-22f2-4448-a161-e1861e0fe145"
      },
      "execution_count": null,
      "outputs": [
        {
          "output_type": "execute_result",
          "data": {
            "text/plain": [
              "                                         video_title  \\\n",
              "0  නොලැබීමට පරල වූ සෞඛ්‍ය වෘත්තීය සමිති...  \"ඒ කා...   \n",
              "1  නොලැබීමට පරල වූ සෞඛ්‍ය වෘත්තීය සමිති...  \"ඒ කා...   \n",
              "2  හින්දු බැතිමතුන් ජයටම තෛපොංගල් සමරයි... ජාතික ...   \n",
              "3  හින්දු බැතිමතුන් ජයටම තෛපොංගල් සමරයි... ජාතික ...   \n",
              "4  උතුම් බුදු දහමට එරෙහි බලවේග ගැන මහානායක හිමිවර...   \n",
              "\n",
              "                                                text     Label         Domain  \\\n",
              "0  කාලකන්නි වෙිසිගෙ පුතාල හෙනමයි තොපිට වදින්නෙ ත...  Negative  Non political   \n",
              "1  ඉල්ලුමට සැපයුම අනුව පඩි හැදෙන්නෙ, නැතුව ත්‍රස්...  Negative  Non political   \n",
              "2  ඊලග  තයිපෝන්ගල්    උත්සවය  උපරිමයෙන්   සාර්ථක ...  Positive      Political   \n",
              "3  තයිපෝන්ගල්    උත්සවය සාර්ථක වේවා sjb නායක තුමා...  Positive      Political   \n",
              "4  මේ රටේ මහා සංඝරත්නයට සමගියෙන් ඉන්න බැරි උනාම ඔ...   Neutral  Non political   \n",
              "\n",
              "    About  \n",
              "0     NaN  \n",
              "1     NaN  \n",
              "2  Sajith  \n",
              "3  Sajith  \n",
              "4     NaN  "
            ],
            "text/html": [
              "\n",
              "  <div id=\"df-d1f0c4ac-a267-44ef-926f-5489b04fc38b\" class=\"colab-df-container\">\n",
              "    <div>\n",
              "<style scoped>\n",
              "    .dataframe tbody tr th:only-of-type {\n",
              "        vertical-align: middle;\n",
              "    }\n",
              "\n",
              "    .dataframe tbody tr th {\n",
              "        vertical-align: top;\n",
              "    }\n",
              "\n",
              "    .dataframe thead th {\n",
              "        text-align: right;\n",
              "    }\n",
              "</style>\n",
              "<table border=\"1\" class=\"dataframe\">\n",
              "  <thead>\n",
              "    <tr style=\"text-align: right;\">\n",
              "      <th></th>\n",
              "      <th>video_title</th>\n",
              "      <th>text</th>\n",
              "      <th>Label</th>\n",
              "      <th>Domain</th>\n",
              "      <th>About</th>\n",
              "    </tr>\n",
              "  </thead>\n",
              "  <tbody>\n",
              "    <tr>\n",
              "      <th>0</th>\n",
              "      <td>නොලැබීමට පරල වූ සෞඛ්‍ය වෘත්තීය සමිති...  \"ඒ කා...</td>\n",
              "      <td>කාලකන්නි වෙිසිගෙ පුතාල හෙනමයි තොපිට වදින්නෙ ත...</td>\n",
              "      <td>Negative</td>\n",
              "      <td>Non political</td>\n",
              "      <td>NaN</td>\n",
              "    </tr>\n",
              "    <tr>\n",
              "      <th>1</th>\n",
              "      <td>නොලැබීමට පරල වූ සෞඛ්‍ය වෘත්තීය සමිති...  \"ඒ කා...</td>\n",
              "      <td>ඉල්ලුමට සැපයුම අනුව පඩි හැදෙන්නෙ, නැතුව ත්‍රස්...</td>\n",
              "      <td>Negative</td>\n",
              "      <td>Non political</td>\n",
              "      <td>NaN</td>\n",
              "    </tr>\n",
              "    <tr>\n",
              "      <th>2</th>\n",
              "      <td>හින්දු බැතිමතුන් ජයටම තෛපොංගල් සමරයි... ජාතික ...</td>\n",
              "      <td>ඊලග  තයිපෝන්ගල්    උත්සවය  උපරිමයෙන්   සාර්ථක ...</td>\n",
              "      <td>Positive</td>\n",
              "      <td>Political</td>\n",
              "      <td>Sajith</td>\n",
              "    </tr>\n",
              "    <tr>\n",
              "      <th>3</th>\n",
              "      <td>හින්දු බැතිමතුන් ජයටම තෛපොංගල් සමරයි... ජාතික ...</td>\n",
              "      <td>තයිපෝන්ගල්    උත්සවය සාර්ථක වේවා sjb නායක තුමා...</td>\n",
              "      <td>Positive</td>\n",
              "      <td>Political</td>\n",
              "      <td>Sajith</td>\n",
              "    </tr>\n",
              "    <tr>\n",
              "      <th>4</th>\n",
              "      <td>උතුම් බුදු දහමට එරෙහි බලවේග ගැන මහානායක හිමිවර...</td>\n",
              "      <td>මේ රටේ මහා සංඝරත්නයට සමගියෙන් ඉන්න බැරි උනාම ඔ...</td>\n",
              "      <td>Neutral</td>\n",
              "      <td>Non political</td>\n",
              "      <td>NaN</td>\n",
              "    </tr>\n",
              "  </tbody>\n",
              "</table>\n",
              "</div>\n",
              "    <div class=\"colab-df-buttons\">\n",
              "\n",
              "  <div class=\"colab-df-container\">\n",
              "    <button class=\"colab-df-convert\" onclick=\"convertToInteractive('df-d1f0c4ac-a267-44ef-926f-5489b04fc38b')\"\n",
              "            title=\"Convert this dataframe to an interactive table.\"\n",
              "            style=\"display:none;\">\n",
              "\n",
              "  <svg xmlns=\"http://www.w3.org/2000/svg\" height=\"24px\" viewBox=\"0 -960 960 960\">\n",
              "    <path d=\"M120-120v-720h720v720H120Zm60-500h600v-160H180v160Zm220 220h160v-160H400v160Zm0 220h160v-160H400v160ZM180-400h160v-160H180v160Zm440 0h160v-160H620v160ZM180-180h160v-160H180v160Zm440 0h160v-160H620v160Z\"/>\n",
              "  </svg>\n",
              "    </button>\n",
              "\n",
              "  <style>\n",
              "    .colab-df-container {\n",
              "      display:flex;\n",
              "      gap: 12px;\n",
              "    }\n",
              "\n",
              "    .colab-df-convert {\n",
              "      background-color: #E8F0FE;\n",
              "      border: none;\n",
              "      border-radius: 50%;\n",
              "      cursor: pointer;\n",
              "      display: none;\n",
              "      fill: #1967D2;\n",
              "      height: 32px;\n",
              "      padding: 0 0 0 0;\n",
              "      width: 32px;\n",
              "    }\n",
              "\n",
              "    .colab-df-convert:hover {\n",
              "      background-color: #E2EBFA;\n",
              "      box-shadow: 0px 1px 2px rgba(60, 64, 67, 0.3), 0px 1px 3px 1px rgba(60, 64, 67, 0.15);\n",
              "      fill: #174EA6;\n",
              "    }\n",
              "\n",
              "    .colab-df-buttons div {\n",
              "      margin-bottom: 4px;\n",
              "    }\n",
              "\n",
              "    [theme=dark] .colab-df-convert {\n",
              "      background-color: #3B4455;\n",
              "      fill: #D2E3FC;\n",
              "    }\n",
              "\n",
              "    [theme=dark] .colab-df-convert:hover {\n",
              "      background-color: #434B5C;\n",
              "      box-shadow: 0px 1px 3px 1px rgba(0, 0, 0, 0.15);\n",
              "      filter: drop-shadow(0px 1px 2px rgba(0, 0, 0, 0.3));\n",
              "      fill: #FFFFFF;\n",
              "    }\n",
              "  </style>\n",
              "\n",
              "    <script>\n",
              "      const buttonEl =\n",
              "        document.querySelector('#df-d1f0c4ac-a267-44ef-926f-5489b04fc38b button.colab-df-convert');\n",
              "      buttonEl.style.display =\n",
              "        google.colab.kernel.accessAllowed ? 'block' : 'none';\n",
              "\n",
              "      async function convertToInteractive(key) {\n",
              "        const element = document.querySelector('#df-d1f0c4ac-a267-44ef-926f-5489b04fc38b');\n",
              "        const dataTable =\n",
              "          await google.colab.kernel.invokeFunction('convertToInteractive',\n",
              "                                                    [key], {});\n",
              "        if (!dataTable) return;\n",
              "\n",
              "        const docLinkHtml = 'Like what you see? Visit the ' +\n",
              "          '<a target=\"_blank\" href=https://colab.research.google.com/notebooks/data_table.ipynb>data table notebook</a>'\n",
              "          + ' to learn more about interactive tables.';\n",
              "        element.innerHTML = '';\n",
              "        dataTable['output_type'] = 'display_data';\n",
              "        await google.colab.output.renderOutput(dataTable, element);\n",
              "        const docLink = document.createElement('div');\n",
              "        docLink.innerHTML = docLinkHtml;\n",
              "        element.appendChild(docLink);\n",
              "      }\n",
              "    </script>\n",
              "  </div>\n",
              "\n",
              "\n",
              "<div id=\"df-0d3b0e6f-9131-4f1d-95bb-cdf64d21e68b\">\n",
              "  <button class=\"colab-df-quickchart\" onclick=\"quickchart('df-0d3b0e6f-9131-4f1d-95bb-cdf64d21e68b')\"\n",
              "            title=\"Suggest charts\"\n",
              "            style=\"display:none;\">\n",
              "\n",
              "<svg xmlns=\"http://www.w3.org/2000/svg\" height=\"24px\"viewBox=\"0 0 24 24\"\n",
              "     width=\"24px\">\n",
              "    <g>\n",
              "        <path d=\"M19 3H5c-1.1 0-2 .9-2 2v14c0 1.1.9 2 2 2h14c1.1 0 2-.9 2-2V5c0-1.1-.9-2-2-2zM9 17H7v-7h2v7zm4 0h-2V7h2v10zm4 0h-2v-4h2v4z\"/>\n",
              "    </g>\n",
              "</svg>\n",
              "  </button>\n",
              "\n",
              "<style>\n",
              "  .colab-df-quickchart {\n",
              "      --bg-color: #E8F0FE;\n",
              "      --fill-color: #1967D2;\n",
              "      --hover-bg-color: #E2EBFA;\n",
              "      --hover-fill-color: #174EA6;\n",
              "      --disabled-fill-color: #AAA;\n",
              "      --disabled-bg-color: #DDD;\n",
              "  }\n",
              "\n",
              "  [theme=dark] .colab-df-quickchart {\n",
              "      --bg-color: #3B4455;\n",
              "      --fill-color: #D2E3FC;\n",
              "      --hover-bg-color: #434B5C;\n",
              "      --hover-fill-color: #FFFFFF;\n",
              "      --disabled-bg-color: #3B4455;\n",
              "      --disabled-fill-color: #666;\n",
              "  }\n",
              "\n",
              "  .colab-df-quickchart {\n",
              "    background-color: var(--bg-color);\n",
              "    border: none;\n",
              "    border-radius: 50%;\n",
              "    cursor: pointer;\n",
              "    display: none;\n",
              "    fill: var(--fill-color);\n",
              "    height: 32px;\n",
              "    padding: 0;\n",
              "    width: 32px;\n",
              "  }\n",
              "\n",
              "  .colab-df-quickchart:hover {\n",
              "    background-color: var(--hover-bg-color);\n",
              "    box-shadow: 0 1px 2px rgba(60, 64, 67, 0.3), 0 1px 3px 1px rgba(60, 64, 67, 0.15);\n",
              "    fill: var(--button-hover-fill-color);\n",
              "  }\n",
              "\n",
              "  .colab-df-quickchart-complete:disabled,\n",
              "  .colab-df-quickchart-complete:disabled:hover {\n",
              "    background-color: var(--disabled-bg-color);\n",
              "    fill: var(--disabled-fill-color);\n",
              "    box-shadow: none;\n",
              "  }\n",
              "\n",
              "  .colab-df-spinner {\n",
              "    border: 2px solid var(--fill-color);\n",
              "    border-color: transparent;\n",
              "    border-bottom-color: var(--fill-color);\n",
              "    animation:\n",
              "      spin 1s steps(1) infinite;\n",
              "  }\n",
              "\n",
              "  @keyframes spin {\n",
              "    0% {\n",
              "      border-color: transparent;\n",
              "      border-bottom-color: var(--fill-color);\n",
              "      border-left-color: var(--fill-color);\n",
              "    }\n",
              "    20% {\n",
              "      border-color: transparent;\n",
              "      border-left-color: var(--fill-color);\n",
              "      border-top-color: var(--fill-color);\n",
              "    }\n",
              "    30% {\n",
              "      border-color: transparent;\n",
              "      border-left-color: var(--fill-color);\n",
              "      border-top-color: var(--fill-color);\n",
              "      border-right-color: var(--fill-color);\n",
              "    }\n",
              "    40% {\n",
              "      border-color: transparent;\n",
              "      border-right-color: var(--fill-color);\n",
              "      border-top-color: var(--fill-color);\n",
              "    }\n",
              "    60% {\n",
              "      border-color: transparent;\n",
              "      border-right-color: var(--fill-color);\n",
              "    }\n",
              "    80% {\n",
              "      border-color: transparent;\n",
              "      border-right-color: var(--fill-color);\n",
              "      border-bottom-color: var(--fill-color);\n",
              "    }\n",
              "    90% {\n",
              "      border-color: transparent;\n",
              "      border-bottom-color: var(--fill-color);\n",
              "    }\n",
              "  }\n",
              "</style>\n",
              "\n",
              "  <script>\n",
              "    async function quickchart(key) {\n",
              "      const quickchartButtonEl =\n",
              "        document.querySelector('#' + key + ' button');\n",
              "      quickchartButtonEl.disabled = true;  // To prevent multiple clicks.\n",
              "      quickchartButtonEl.classList.add('colab-df-spinner');\n",
              "      try {\n",
              "        const charts = await google.colab.kernel.invokeFunction(\n",
              "            'suggestCharts', [key], {});\n",
              "      } catch (error) {\n",
              "        console.error('Error during call to suggestCharts:', error);\n",
              "      }\n",
              "      quickchartButtonEl.classList.remove('colab-df-spinner');\n",
              "      quickchartButtonEl.classList.add('colab-df-quickchart-complete');\n",
              "    }\n",
              "    (() => {\n",
              "      let quickchartButtonEl =\n",
              "        document.querySelector('#df-0d3b0e6f-9131-4f1d-95bb-cdf64d21e68b button');\n",
              "      quickchartButtonEl.style.display =\n",
              "        google.colab.kernel.accessAllowed ? 'block' : 'none';\n",
              "    })();\n",
              "  </script>\n",
              "</div>\n",
              "\n",
              "    </div>\n",
              "  </div>\n"
            ],
            "application/vnd.google.colaboratory.intrinsic+json": {
              "type": "dataframe",
              "variable_name": "df",
              "summary": "{\n  \"name\": \"df\",\n  \"rows\": 1739,\n  \"fields\": [\n    {\n      \"column\": \"video_title\",\n      \"properties\": {\n        \"dtype\": \"category\",\n        \"num_unique_values\": 128,\n        \"samples\": [\n          \"Wada Pitiya -  2017.03.28\",\n          \"Wada Pitiya | \\u0dc3\\u0db8\\u0dcf\\u0da2 \\u0db8\\u0dcf\\u0db0\\u0dca\\u200d\\u0dba \\u0db1\\u0dd2\\u0dba\\u0dcf\\u0db8\\u0db1\\u0dba\\u0da7 \\u0db4\\u0db1\\u0dad\\u0d9a\\u0dca \\u0d89\\u0daf\\u0dd2\\u0dbb\\u0dd2\\u0db4\\u0dad\\u0dca\\u0dc0\\u0db1\\u0dca\\u0db1\\u0dda \\u0d87\\u0dba\\u0dd2 ?\",\n          \"\\u0d8b\\u0dc3\\u0dc3\\u0dca \\u0db4\\u0dd9\\u0dc5 \\u0dc0\\u0dd2\\u0db7\\u0dcf\\u0d9c\\u0dba\\u0dda \\u0db4\\u0dc5\\u0db8\\u0dd4 \\u0daf\\u0dd2\\u0db1\\u0dba\\u0dda \\u0dad\\u0dad\\u0dca\\u0dad\\u0dca\\u0dc0\\u0dba...  \\\"\\u0d9a\\u0dbd\\u0dd2\\u0db1\\u0dca \\u0dad\\u0dd2\\u0db6\\u0dca\\u0db6 \\u0db1\\u0db8\\u0dca \\u0dc4\\u0ddc\\u0db3\\u0dba\\u0dd2\\\"\"\n        ],\n        \"semantic_type\": \"\",\n        \"description\": \"\"\n      }\n    },\n    {\n      \"column\": \"text\",\n      \"properties\": {\n        \"dtype\": \"string\",\n        \"num_unique_values\": 1734,\n        \"samples\": [\n          \"\\u0d92\\u0d9a \\u0dad\\u0db8\\u0dba\\u0dd2 \\u0daf\\u0d9a\\u0dd4\\u0dab\\u0dd9 \\u0d8b\\u0db1\\u0dca \\u0d85\\u0da9\\u0dd2 \\u0daf\\u0dd9\\u0d9a \\u0dad\\u0dd4\\u0db1\\u0d9a\\u0dca \\u0d8b\\u0da9\\u0dd2\\u0db1\\u0dca \\u0dba\\u0db1\\u0dca\\u0db1\\u0dd9 eww \\u0dbd\\u0ddc\\u0d9a\\u0dd4 seen \\u0d95\\u0d9a\\u0dd4\\u0db1\\u0dca\\u0d9c\\u0dd9\\ud83d\\ude02\",\n          \"\\u0dbb\\u0dc3 \\u0db4\\u0dbb\\u0dd2\\u0d9a\\u0dca\\u0dc2\\u0d9a \\u0d9c\\u0dcf\\u0dc0\\u0da7 \\u0dba\\u0db1\\u0dca\\u0db1\\u0dd9 \\u0db4\\u0dcf\\u0db1\\u0dca \\u0dbd\\u0dd2\\u0da7\\u0dd2..\\ud83d\\ude01\",\n          \"\\u0d85\\u0db1\\u0dd9 \\u0d8b\\u0d9a\\u0dc4\\u0dbd\\u0dca\\u0dbd\\u0dcf\\ud83e\\udd23\"\n        ],\n        \"semantic_type\": \"\",\n        \"description\": \"\"\n      }\n    },\n    {\n      \"column\": \"Label\",\n      \"properties\": {\n        \"dtype\": \"category\",\n        \"num_unique_values\": 3,\n        \"samples\": [\n          \"Negative\",\n          \"Positive\",\n          \"Neutral\"\n        ],\n        \"semantic_type\": \"\",\n        \"description\": \"\"\n      }\n    },\n    {\n      \"column\": \"Domain\",\n      \"properties\": {\n        \"dtype\": \"category\",\n        \"num_unique_values\": 3,\n        \"samples\": [\n          \"Non political\",\n          \"Political\",\n          \" P\"\n        ],\n        \"semantic_type\": \"\",\n        \"description\": \"\"\n      }\n    },\n    {\n      \"column\": \"About\",\n      \"properties\": {\n        \"dtype\": \"category\",\n        \"num_unique_values\": 7,\n        \"samples\": [\n          \"Sajith\",\n          \"Everyone\",\n          \"Other\"\n        ],\n        \"semantic_type\": \"\",\n        \"description\": \"\"\n      }\n    }\n  ]\n}"
            }
          },
          "metadata": {},
          "execution_count": 69
        }
      ]
    },
    {
      "cell_type": "markdown",
      "source": [
        "# Random Forest"
      ],
      "metadata": {
        "id": "-JuzQFkaERKD"
      }
    },
    {
      "cell_type": "code",
      "source": [
        "import pandas as pd\n",
        "from sklearn.model_selection import train_test_split\n",
        "from sklearn.feature_extraction.text import TfidfVectorizer\n",
        "from sklearn.ensemble import RandomForestClassifier\n",
        "from sklearn.metrics import classification_report, accuracy_score, confusion_matrix\n"
      ],
      "metadata": {
        "id": "eHxZ8yv50g71"
      },
      "execution_count": null,
      "outputs": []
    },
    {
      "cell_type": "code",
      "source": [
        "\n",
        "trainDF.Label.value_counts()"
      ],
      "metadata": {
        "colab": {
          "base_uri": "https://localhost:8080/",
          "height": 198
        },
        "id": "IAxg8QGO1Iuc",
        "outputId": "ee9b1508-cb86-48a4-a4aa-09b45c9622e7"
      },
      "execution_count": null,
      "outputs": [
        {
          "output_type": "execute_result",
          "data": {
            "text/plain": [
              "Negative    1138\n",
              "Neutral      350\n",
              "Positive     251\n",
              "Name: Label, dtype: int64"
            ],
            "text/html": [
              "<div>\n",
              "<style scoped>\n",
              "    .dataframe tbody tr th:only-of-type {\n",
              "        vertical-align: middle;\n",
              "    }\n",
              "\n",
              "    .dataframe tbody tr th {\n",
              "        vertical-align: top;\n",
              "    }\n",
              "\n",
              "    .dataframe thead th {\n",
              "        text-align: right;\n",
              "    }\n",
              "</style>\n",
              "<table border=\"1\" class=\"dataframe\">\n",
              "  <thead>\n",
              "    <tr style=\"text-align: right;\">\n",
              "      <th></th>\n",
              "      <th>Label</th>\n",
              "    </tr>\n",
              "  </thead>\n",
              "  <tbody>\n",
              "    <tr>\n",
              "      <th>Negative</th>\n",
              "      <td>1138</td>\n",
              "    </tr>\n",
              "    <tr>\n",
              "      <th>Neutral</th>\n",
              "      <td>350</td>\n",
              "    </tr>\n",
              "    <tr>\n",
              "      <th>Positive</th>\n",
              "      <td>251</td>\n",
              "    </tr>\n",
              "  </tbody>\n",
              "</table>\n",
              "</div><br><label><b>dtype:</b> int64</label>"
            ]
          },
          "metadata": {},
          "execution_count": 71
        }
      ]
    },
    {
      "cell_type": "code",
      "source": [
        "X = df['text']  # Features\n",
        "y = df['Label']          # Labels\n",
        "\n",
        "X_train, X_test, y_train, y_test = train_test_split(X, y, test_size=0.3, random_state=42)\n"
      ],
      "metadata": {
        "id": "LeUZ-PhP1Kkw"
      },
      "execution_count": null,
      "outputs": []
    },
    {
      "cell_type": "code",
      "source": [
        "vectorizer = TfidfVectorizer(max_features=5000)  # Adjust max_features as needed\n",
        "X_train_tfidf = vectorizer.fit_transform(X_train)\n",
        "X_test_tfidf = vectorizer.transform(X_test)\n"
      ],
      "metadata": {
        "id": "adsD0RNR1aXi"
      },
      "execution_count": null,
      "outputs": []
    },
    {
      "cell_type": "code",
      "source": [
        "!pip install imblearn"
      ],
      "metadata": {
        "colab": {
          "base_uri": "https://localhost:8080/"
        },
        "id": "svOgCAvt30Wp",
        "outputId": "bc4e0d3a-0acd-4e1e-9296-4f5b0bae3a9c"
      },
      "execution_count": null,
      "outputs": [
        {
          "output_type": "stream",
          "name": "stdout",
          "text": [
            "Collecting imblearn\n",
            "  Downloading imblearn-0.0-py2.py3-none-any.whl.metadata (355 bytes)\n",
            "Collecting imbalanced-learn (from imblearn)\n",
            "  Downloading imbalanced_learn-0.12.3-py3-none-any.whl.metadata (8.3 kB)\n",
            "Requirement already satisfied: numpy>=1.17.3 in /usr/local/lib/python3.10/dist-packages (from imbalanced-learn->imblearn) (1.23.0)\n",
            "Requirement already satisfied: scipy>=1.5.0 in /usr/local/lib/python3.10/dist-packages (from imbalanced-learn->imblearn) (1.13.1)\n",
            "Requirement already satisfied: scikit-learn>=1.0.2 in /usr/local/lib/python3.10/dist-packages (from imbalanced-learn->imblearn) (1.1.3)\n",
            "Requirement already satisfied: joblib>=1.1.1 in /usr/local/lib/python3.10/dist-packages (from imbalanced-learn->imblearn) (1.4.2)\n",
            "Requirement already satisfied: threadpoolctl>=2.0.0 in /usr/local/lib/python3.10/dist-packages (from imbalanced-learn->imblearn) (3.5.0)\n",
            "Downloading imblearn-0.0-py2.py3-none-any.whl (1.9 kB)\n",
            "Downloading imbalanced_learn-0.12.3-py3-none-any.whl (258 kB)\n",
            "\u001b[2K   \u001b[90m━━━━━━━━━━━━━━━━━━━━━━━━━━━━━━━━━━━━━━━━\u001b[0m \u001b[32m258.3/258.3 kB\u001b[0m \u001b[31m2.1 MB/s\u001b[0m eta \u001b[36m0:00:00\u001b[0m\n",
            "\u001b[?25hInstalling collected packages: imbalanced-learn, imblearn\n",
            "Successfully installed imbalanced-learn-0.12.3 imblearn-0.0\n"
          ]
        }
      ]
    },
    {
      "cell_type": "code",
      "source": [
        "model = RandomForestClassifier(n_estimators=100, random_state=42)\n",
        "model.fit(X_train_tfidf, y_train)\n"
      ],
      "metadata": {
        "colab": {
          "base_uri": "https://localhost:8080/",
          "height": 94
        },
        "id": "MOrC4-8i1hxW",
        "outputId": "4144b0c8-98f0-4306-9c53-84518bdb18a3"
      },
      "execution_count": null,
      "outputs": [
        {
          "output_type": "execute_result",
          "data": {
            "text/plain": [
              "RandomForestClassifier(random_state=42)"
            ],
            "text/html": [
              "<style>#sk-container-id-5 {color: black;background-color: white;}#sk-container-id-5 pre{padding: 0;}#sk-container-id-5 div.sk-toggleable {background-color: white;}#sk-container-id-5 label.sk-toggleable__label {cursor: pointer;display: block;width: 100%;margin-bottom: 0;padding: 0.3em;box-sizing: border-box;text-align: center;}#sk-container-id-5 label.sk-toggleable__label-arrow:before {content: \"▸\";float: left;margin-right: 0.25em;color: #696969;}#sk-container-id-5 label.sk-toggleable__label-arrow:hover:before {color: black;}#sk-container-id-5 div.sk-estimator:hover label.sk-toggleable__label-arrow:before {color: black;}#sk-container-id-5 div.sk-toggleable__content {max-height: 0;max-width: 0;overflow: hidden;text-align: left;background-color: #f0f8ff;}#sk-container-id-5 div.sk-toggleable__content pre {margin: 0.2em;color: black;border-radius: 0.25em;background-color: #f0f8ff;}#sk-container-id-5 input.sk-toggleable__control:checked~div.sk-toggleable__content {max-height: 200px;max-width: 100%;overflow: auto;}#sk-container-id-5 input.sk-toggleable__control:checked~label.sk-toggleable__label-arrow:before {content: \"▾\";}#sk-container-id-5 div.sk-estimator input.sk-toggleable__control:checked~label.sk-toggleable__label {background-color: #d4ebff;}#sk-container-id-5 div.sk-label input.sk-toggleable__control:checked~label.sk-toggleable__label {background-color: #d4ebff;}#sk-container-id-5 input.sk-hidden--visually {border: 0;clip: rect(1px 1px 1px 1px);clip: rect(1px, 1px, 1px, 1px);height: 1px;margin: -1px;overflow: hidden;padding: 0;position: absolute;width: 1px;}#sk-container-id-5 div.sk-estimator {font-family: monospace;background-color: #f0f8ff;border: 1px dotted black;border-radius: 0.25em;box-sizing: border-box;margin-bottom: 0.5em;}#sk-container-id-5 div.sk-estimator:hover {background-color: #d4ebff;}#sk-container-id-5 div.sk-parallel-item::after {content: \"\";width: 100%;border-bottom: 1px solid gray;flex-grow: 1;}#sk-container-id-5 div.sk-label:hover label.sk-toggleable__label {background-color: #d4ebff;}#sk-container-id-5 div.sk-serial::before {content: \"\";position: absolute;border-left: 1px solid gray;box-sizing: border-box;top: 0;bottom: 0;left: 50%;z-index: 0;}#sk-container-id-5 div.sk-serial {display: flex;flex-direction: column;align-items: center;background-color: white;padding-right: 0.2em;padding-left: 0.2em;position: relative;}#sk-container-id-5 div.sk-item {position: relative;z-index: 1;}#sk-container-id-5 div.sk-parallel {display: flex;align-items: stretch;justify-content: center;background-color: white;position: relative;}#sk-container-id-5 div.sk-item::before, #sk-container-id-5 div.sk-parallel-item::before {content: \"\";position: absolute;border-left: 1px solid gray;box-sizing: border-box;top: 0;bottom: 0;left: 50%;z-index: -1;}#sk-container-id-5 div.sk-parallel-item {display: flex;flex-direction: column;z-index: 1;position: relative;background-color: white;}#sk-container-id-5 div.sk-parallel-item:first-child::after {align-self: flex-end;width: 50%;}#sk-container-id-5 div.sk-parallel-item:last-child::after {align-self: flex-start;width: 50%;}#sk-container-id-5 div.sk-parallel-item:only-child::after {width: 0;}#sk-container-id-5 div.sk-dashed-wrapped {border: 1px dashed gray;margin: 0 0.4em 0.5em 0.4em;box-sizing: border-box;padding-bottom: 0.4em;background-color: white;}#sk-container-id-5 div.sk-label label {font-family: monospace;font-weight: bold;display: inline-block;line-height: 1.2em;}#sk-container-id-5 div.sk-label-container {text-align: center;}#sk-container-id-5 div.sk-container {/* jupyter's `normalize.less` sets `[hidden] { display: none; }` but bootstrap.min.css set `[hidden] { display: none !important; }` so we also need the `!important` here to be able to override the default hidden behavior on the sphinx rendered scikit-learn.org. See: https://github.com/scikit-learn/scikit-learn/issues/21755 */display: inline-block !important;position: relative;}#sk-container-id-5 div.sk-text-repr-fallback {display: none;}</style><div id=\"sk-container-id-5\" class=\"sk-top-container\"><div class=\"sk-text-repr-fallback\"><pre>RandomForestClassifier(random_state=42)</pre><b>In a Jupyter environment, please rerun this cell to show the HTML representation or trust the notebook. <br />On GitHub, the HTML representation is unable to render, please try loading this page with nbviewer.org.</b></div><div class=\"sk-container\" hidden><div class=\"sk-item\"><div class=\"sk-estimator sk-toggleable\"><input class=\"sk-toggleable__control sk-hidden--visually\" id=\"sk-estimator-id-8\" type=\"checkbox\" checked><label for=\"sk-estimator-id-8\" class=\"sk-toggleable__label sk-toggleable__label-arrow\">RandomForestClassifier</label><div class=\"sk-toggleable__content\"><pre>RandomForestClassifier(random_state=42)</pre></div></div></div></div></div>"
            ]
          },
          "metadata": {},
          "execution_count": 74
        }
      ]
    },
    {
      "cell_type": "code",
      "source": [
        "y_pred = model.predict(X_test_tfidf)\n",
        "\n",
        "print(\"Accuracy:\", accuracy_score(y_test, y_pred))\n",
        "print(\"Classification Report:\\n\", classification_report(y_test, y_pred))\n",
        "print(\"Confusion Matrix:\\n\", confusion_matrix(y_test, y_pred))\n"
      ],
      "metadata": {
        "colab": {
          "base_uri": "https://localhost:8080/"
        },
        "id": "mVhiULxm1jjY",
        "outputId": "031d6484-2ab2-4e81-e8fe-f8f1557f7022"
      },
      "execution_count": null,
      "outputs": [
        {
          "output_type": "stream",
          "name": "stdout",
          "text": [
            "Accuracy: 0.7068965517241379\n",
            "Classification Report:\n",
            "               precision    recall  f1-score   support\n",
            "\n",
            "    Negative       0.77      0.90      0.83       347\n",
            "     Neutral       0.49      0.29      0.36       100\n",
            "    Positive       0.50      0.37      0.43        75\n",
            "\n",
            "    accuracy                           0.71       522\n",
            "   macro avg       0.59      0.52      0.54       522\n",
            "weighted avg       0.68      0.71      0.68       522\n",
            "\n",
            "Confusion Matrix:\n",
            " [[312  19  16]\n",
            " [ 59  29  12]\n",
            " [ 36  11  28]]\n"
          ]
        }
      ]
    },
    {
      "cell_type": "markdown",
      "source": [
        "# SMOTE"
      ],
      "metadata": {
        "id": "JKkYx24jFFv1"
      }
    },
    {
      "cell_type": "code",
      "source": [
        "from imblearn.over_sampling import SMOTE\n",
        "\n",
        "\n",
        "smote = SMOTE(random_state=42)\n",
        "X_train_res, y_train_res = smote.fit_resample(X_train_tfidf, y_train)\n",
        "\n",
        "# Check the new class distribution\n",
        "print(pd.Series(y_train_res).value_counts())\n"
      ],
      "metadata": {
        "colab": {
          "base_uri": "https://localhost:8080/"
        },
        "id": "CtNtrJ1k3jIW",
        "outputId": "d304398b-bc97-4d0a-9080-aad2ebf8cc04"
      },
      "execution_count": null,
      "outputs": [
        {
          "output_type": "stream",
          "name": "stdout",
          "text": [
            "Negative    791\n",
            "Neutral     791\n",
            "Positive    791\n",
            "Name: Label, dtype: int64\n"
          ]
        }
      ]
    },
    {
      "cell_type": "code",
      "source": [
        "from sklearn.model_selection import GridSearchCV\n",
        "\n",
        "param_grid = {\n",
        "    'n_estimators': [100, 200, 300],\n",
        "    'max_depth': [None, 10, 20, 30],\n",
        "    'min_samples_split': [2, 5, 10],\n",
        "    'min_samples_leaf': [1, 2, 4],\n",
        "}\n",
        "\n",
        "grid_search = GridSearchCV(estimator=model, param_grid=param_grid, cv=5, n_jobs=-1, verbose=2)\n",
        "grid_search.fit(X_train_tfidf, y_train)\n",
        "\n",
        "print(\"Best Parameters:\", grid_search.best_params_)\n"
      ],
      "metadata": {
        "colab": {
          "base_uri": "https://localhost:8080/"
        },
        "id": "CslnucR81mHe",
        "outputId": "85c5128b-269b-4e0b-b6a0-dc0ef325c368"
      },
      "execution_count": null,
      "outputs": [
        {
          "output_type": "stream",
          "name": "stdout",
          "text": [
            "Fitting 5 folds for each of 108 candidates, totalling 540 fits\n",
            "Best Parameters: {'max_depth': None, 'min_samples_leaf': 1, 'min_samples_split': 10, 'n_estimators': 200}\n"
          ]
        }
      ]
    },
    {
      "cell_type": "code",
      "source": [
        "import joblib\n",
        "\n",
        "joblib.dump(model, 'random_forest.pkl')\n",
        "joblib.dump(vectorizer, 'tfidf_vectorizer.pkl')\n"
      ],
      "metadata": {
        "colab": {
          "base_uri": "https://localhost:8080/"
        },
        "id": "2LOh6Iov1yw6",
        "outputId": "1e7224b3-ef1d-49ed-9aed-02f836b78f11"
      },
      "execution_count": null,
      "outputs": [
        {
          "output_type": "execute_result",
          "data": {
            "text/plain": [
              "['tfidf_vectorizer.pkl']"
            ]
          },
          "metadata": {},
          "execution_count": 80
        }
      ]
    },
    {
      "cell_type": "code",
      "source": [
        "model = RandomForestClassifier(n_estimators=100, random_state=42)\n",
        "model.fit(X_train_res, y_train_res)\n"
      ],
      "metadata": {
        "colab": {
          "base_uri": "https://localhost:8080/",
          "height": 94
        },
        "id": "PrbdGcfK2xVC",
        "outputId": "2cdec538-8bba-4ecf-8d43-4743d138e8b4"
      },
      "execution_count": null,
      "outputs": [
        {
          "output_type": "execute_result",
          "data": {
            "text/plain": [
              "RandomForestClassifier(random_state=42)"
            ],
            "text/html": [
              "<style>#sk-container-id-6 {color: black;background-color: white;}#sk-container-id-6 pre{padding: 0;}#sk-container-id-6 div.sk-toggleable {background-color: white;}#sk-container-id-6 label.sk-toggleable__label {cursor: pointer;display: block;width: 100%;margin-bottom: 0;padding: 0.3em;box-sizing: border-box;text-align: center;}#sk-container-id-6 label.sk-toggleable__label-arrow:before {content: \"▸\";float: left;margin-right: 0.25em;color: #696969;}#sk-container-id-6 label.sk-toggleable__label-arrow:hover:before {color: black;}#sk-container-id-6 div.sk-estimator:hover label.sk-toggleable__label-arrow:before {color: black;}#sk-container-id-6 div.sk-toggleable__content {max-height: 0;max-width: 0;overflow: hidden;text-align: left;background-color: #f0f8ff;}#sk-container-id-6 div.sk-toggleable__content pre {margin: 0.2em;color: black;border-radius: 0.25em;background-color: #f0f8ff;}#sk-container-id-6 input.sk-toggleable__control:checked~div.sk-toggleable__content {max-height: 200px;max-width: 100%;overflow: auto;}#sk-container-id-6 input.sk-toggleable__control:checked~label.sk-toggleable__label-arrow:before {content: \"▾\";}#sk-container-id-6 div.sk-estimator input.sk-toggleable__control:checked~label.sk-toggleable__label {background-color: #d4ebff;}#sk-container-id-6 div.sk-label input.sk-toggleable__control:checked~label.sk-toggleable__label {background-color: #d4ebff;}#sk-container-id-6 input.sk-hidden--visually {border: 0;clip: rect(1px 1px 1px 1px);clip: rect(1px, 1px, 1px, 1px);height: 1px;margin: -1px;overflow: hidden;padding: 0;position: absolute;width: 1px;}#sk-container-id-6 div.sk-estimator {font-family: monospace;background-color: #f0f8ff;border: 1px dotted black;border-radius: 0.25em;box-sizing: border-box;margin-bottom: 0.5em;}#sk-container-id-6 div.sk-estimator:hover {background-color: #d4ebff;}#sk-container-id-6 div.sk-parallel-item::after {content: \"\";width: 100%;border-bottom: 1px solid gray;flex-grow: 1;}#sk-container-id-6 div.sk-label:hover label.sk-toggleable__label {background-color: #d4ebff;}#sk-container-id-6 div.sk-serial::before {content: \"\";position: absolute;border-left: 1px solid gray;box-sizing: border-box;top: 0;bottom: 0;left: 50%;z-index: 0;}#sk-container-id-6 div.sk-serial {display: flex;flex-direction: column;align-items: center;background-color: white;padding-right: 0.2em;padding-left: 0.2em;position: relative;}#sk-container-id-6 div.sk-item {position: relative;z-index: 1;}#sk-container-id-6 div.sk-parallel {display: flex;align-items: stretch;justify-content: center;background-color: white;position: relative;}#sk-container-id-6 div.sk-item::before, #sk-container-id-6 div.sk-parallel-item::before {content: \"\";position: absolute;border-left: 1px solid gray;box-sizing: border-box;top: 0;bottom: 0;left: 50%;z-index: -1;}#sk-container-id-6 div.sk-parallel-item {display: flex;flex-direction: column;z-index: 1;position: relative;background-color: white;}#sk-container-id-6 div.sk-parallel-item:first-child::after {align-self: flex-end;width: 50%;}#sk-container-id-6 div.sk-parallel-item:last-child::after {align-self: flex-start;width: 50%;}#sk-container-id-6 div.sk-parallel-item:only-child::after {width: 0;}#sk-container-id-6 div.sk-dashed-wrapped {border: 1px dashed gray;margin: 0 0.4em 0.5em 0.4em;box-sizing: border-box;padding-bottom: 0.4em;background-color: white;}#sk-container-id-6 div.sk-label label {font-family: monospace;font-weight: bold;display: inline-block;line-height: 1.2em;}#sk-container-id-6 div.sk-label-container {text-align: center;}#sk-container-id-6 div.sk-container {/* jupyter's `normalize.less` sets `[hidden] { display: none; }` but bootstrap.min.css set `[hidden] { display: none !important; }` so we also need the `!important` here to be able to override the default hidden behavior on the sphinx rendered scikit-learn.org. See: https://github.com/scikit-learn/scikit-learn/issues/21755 */display: inline-block !important;position: relative;}#sk-container-id-6 div.sk-text-repr-fallback {display: none;}</style><div id=\"sk-container-id-6\" class=\"sk-top-container\"><div class=\"sk-text-repr-fallback\"><pre>RandomForestClassifier(random_state=42)</pre><b>In a Jupyter environment, please rerun this cell to show the HTML representation or trust the notebook. <br />On GitHub, the HTML representation is unable to render, please try loading this page with nbviewer.org.</b></div><div class=\"sk-container\" hidden><div class=\"sk-item\"><div class=\"sk-estimator sk-toggleable\"><input class=\"sk-toggleable__control sk-hidden--visually\" id=\"sk-estimator-id-9\" type=\"checkbox\" checked><label for=\"sk-estimator-id-9\" class=\"sk-toggleable__label sk-toggleable__label-arrow\">RandomForestClassifier</label><div class=\"sk-toggleable__content\"><pre>RandomForestClassifier(random_state=42)</pre></div></div></div></div></div>"
            ]
          },
          "metadata": {},
          "execution_count": 81
        }
      ]
    },
    {
      "cell_type": "code",
      "source": [
        "y_pred = model.predict(X_test_tfidf)\n",
        "\n",
        "# Print evaluation metrics\n",
        "print(\"Accuracy:\", accuracy_score(y_test, y_pred))\n",
        "print(\"Classification Report:\\n\", classification_report(y_test, y_pred))\n",
        "print(\"Confusion Matrix:\\n\", confusion_matrix(y_test, y_pred))\n"
      ],
      "metadata": {
        "colab": {
          "base_uri": "https://localhost:8080/"
        },
        "id": "cEq_gvM24WPb",
        "outputId": "3e310d3c-170a-419d-e4b5-89086dc95e78"
      },
      "execution_count": null,
      "outputs": [
        {
          "output_type": "stream",
          "name": "stdout",
          "text": [
            "Accuracy: 0.6494252873563219\n",
            "Classification Report:\n",
            "               precision    recall  f1-score   support\n",
            "\n",
            "    Negative       0.78      0.78      0.78       347\n",
            "     Neutral       0.37      0.34      0.35       100\n",
            "    Positive       0.43      0.48      0.45        75\n",
            "\n",
            "    accuracy                           0.65       522\n",
            "   macro avg       0.53      0.53      0.53       522\n",
            "weighted avg       0.65      0.65      0.65       522\n",
            "\n",
            "Confusion Matrix:\n",
            " [[269  48  30]\n",
            " [ 48  34  18]\n",
            " [ 29  10  36]]\n"
          ]
        }
      ]
    },
    {
      "cell_type": "markdown",
      "source": [
        "# Random Undersampling"
      ],
      "metadata": {
        "id": "7Dz1ymALE_C0"
      }
    },
    {
      "cell_type": "code",
      "source": [
        "df_negative = df[df['Label'] == 'Negative'].sample(n = 251, random_state = 42)\n",
        "df_neutral = df[df['Label'] == 'Neutral'].sample(n = 251, random_state = 42)\n",
        "df_positive = df[df['Label'] == 'Positive'].sample(n = 251, random_state = 42)\n",
        "df = pd.concat([df_negative,df_neutral,df_positive])"
      ],
      "metadata": {
        "id": "nbi7fLpeDdId"
      },
      "execution_count": null,
      "outputs": []
    },
    {
      "cell_type": "code",
      "source": [
        "df.Label.value_counts()"
      ],
      "metadata": {
        "colab": {
          "base_uri": "https://localhost:8080/",
          "height": 198
        },
        "id": "3pWxCJKkDhqm",
        "outputId": "84b87ebf-925b-43fc-adf0-64403fcf1131"
      },
      "execution_count": null,
      "outputs": [
        {
          "output_type": "execute_result",
          "data": {
            "text/plain": [
              "Negative    251\n",
              "Neutral     251\n",
              "Positive    251\n",
              "Name: Label, dtype: int64"
            ],
            "text/html": [
              "<div>\n",
              "<style scoped>\n",
              "    .dataframe tbody tr th:only-of-type {\n",
              "        vertical-align: middle;\n",
              "    }\n",
              "\n",
              "    .dataframe tbody tr th {\n",
              "        vertical-align: top;\n",
              "    }\n",
              "\n",
              "    .dataframe thead th {\n",
              "        text-align: right;\n",
              "    }\n",
              "</style>\n",
              "<table border=\"1\" class=\"dataframe\">\n",
              "  <thead>\n",
              "    <tr style=\"text-align: right;\">\n",
              "      <th></th>\n",
              "      <th>Label</th>\n",
              "    </tr>\n",
              "  </thead>\n",
              "  <tbody>\n",
              "    <tr>\n",
              "      <th>Negative</th>\n",
              "      <td>251</td>\n",
              "    </tr>\n",
              "    <tr>\n",
              "      <th>Neutral</th>\n",
              "      <td>251</td>\n",
              "    </tr>\n",
              "    <tr>\n",
              "      <th>Positive</th>\n",
              "      <td>251</td>\n",
              "    </tr>\n",
              "  </tbody>\n",
              "</table>\n",
              "</div><br><label><b>dtype:</b> int64</label>"
            ]
          },
          "metadata": {},
          "execution_count": 84
        }
      ]
    },
    {
      "cell_type": "code",
      "source": [
        "X = df['text']  # Features\n",
        "y = df['Label']          # Labels\n",
        "\n",
        "X_train, X_test, y_train, y_test = train_test_split(X, y, test_size=0.2, random_state=42)"
      ],
      "metadata": {
        "id": "N083mKiiDxaz"
      },
      "execution_count": null,
      "outputs": []
    },
    {
      "cell_type": "code",
      "source": [
        "vectorizer = TfidfVectorizer(max_features=5000)  # Adjust max_features as needed\n",
        "X_train_tfidf = vectorizer.fit_transform(X_train)\n",
        "X_test_tfidf = vectorizer.transform(X_test)"
      ],
      "metadata": {
        "id": "6v0SMpR6D-Cx"
      },
      "execution_count": null,
      "outputs": []
    },
    {
      "cell_type": "code",
      "source": [
        "model = RandomForestClassifier(n_estimators=100, random_state=42)\n",
        "model.fit(X_train_tfidf, y_train)"
      ],
      "metadata": {
        "colab": {
          "base_uri": "https://localhost:8080/",
          "height": 94
        },
        "id": "IOrxVve-DD6j",
        "outputId": "cd9b9716-a403-4f85-f8e2-290b737eb03f"
      },
      "execution_count": null,
      "outputs": [
        {
          "output_type": "execute_result",
          "data": {
            "text/plain": [
              "RandomForestClassifier(random_state=42)"
            ],
            "text/html": [
              "<style>#sk-container-id-7 {color: black;background-color: white;}#sk-container-id-7 pre{padding: 0;}#sk-container-id-7 div.sk-toggleable {background-color: white;}#sk-container-id-7 label.sk-toggleable__label {cursor: pointer;display: block;width: 100%;margin-bottom: 0;padding: 0.3em;box-sizing: border-box;text-align: center;}#sk-container-id-7 label.sk-toggleable__label-arrow:before {content: \"▸\";float: left;margin-right: 0.25em;color: #696969;}#sk-container-id-7 label.sk-toggleable__label-arrow:hover:before {color: black;}#sk-container-id-7 div.sk-estimator:hover label.sk-toggleable__label-arrow:before {color: black;}#sk-container-id-7 div.sk-toggleable__content {max-height: 0;max-width: 0;overflow: hidden;text-align: left;background-color: #f0f8ff;}#sk-container-id-7 div.sk-toggleable__content pre {margin: 0.2em;color: black;border-radius: 0.25em;background-color: #f0f8ff;}#sk-container-id-7 input.sk-toggleable__control:checked~div.sk-toggleable__content {max-height: 200px;max-width: 100%;overflow: auto;}#sk-container-id-7 input.sk-toggleable__control:checked~label.sk-toggleable__label-arrow:before {content: \"▾\";}#sk-container-id-7 div.sk-estimator input.sk-toggleable__control:checked~label.sk-toggleable__label {background-color: #d4ebff;}#sk-container-id-7 div.sk-label input.sk-toggleable__control:checked~label.sk-toggleable__label {background-color: #d4ebff;}#sk-container-id-7 input.sk-hidden--visually {border: 0;clip: rect(1px 1px 1px 1px);clip: rect(1px, 1px, 1px, 1px);height: 1px;margin: -1px;overflow: hidden;padding: 0;position: absolute;width: 1px;}#sk-container-id-7 div.sk-estimator {font-family: monospace;background-color: #f0f8ff;border: 1px dotted black;border-radius: 0.25em;box-sizing: border-box;margin-bottom: 0.5em;}#sk-container-id-7 div.sk-estimator:hover {background-color: #d4ebff;}#sk-container-id-7 div.sk-parallel-item::after {content: \"\";width: 100%;border-bottom: 1px solid gray;flex-grow: 1;}#sk-container-id-7 div.sk-label:hover label.sk-toggleable__label {background-color: #d4ebff;}#sk-container-id-7 div.sk-serial::before {content: \"\";position: absolute;border-left: 1px solid gray;box-sizing: border-box;top: 0;bottom: 0;left: 50%;z-index: 0;}#sk-container-id-7 div.sk-serial {display: flex;flex-direction: column;align-items: center;background-color: white;padding-right: 0.2em;padding-left: 0.2em;position: relative;}#sk-container-id-7 div.sk-item {position: relative;z-index: 1;}#sk-container-id-7 div.sk-parallel {display: flex;align-items: stretch;justify-content: center;background-color: white;position: relative;}#sk-container-id-7 div.sk-item::before, #sk-container-id-7 div.sk-parallel-item::before {content: \"\";position: absolute;border-left: 1px solid gray;box-sizing: border-box;top: 0;bottom: 0;left: 50%;z-index: -1;}#sk-container-id-7 div.sk-parallel-item {display: flex;flex-direction: column;z-index: 1;position: relative;background-color: white;}#sk-container-id-7 div.sk-parallel-item:first-child::after {align-self: flex-end;width: 50%;}#sk-container-id-7 div.sk-parallel-item:last-child::after {align-self: flex-start;width: 50%;}#sk-container-id-7 div.sk-parallel-item:only-child::after {width: 0;}#sk-container-id-7 div.sk-dashed-wrapped {border: 1px dashed gray;margin: 0 0.4em 0.5em 0.4em;box-sizing: border-box;padding-bottom: 0.4em;background-color: white;}#sk-container-id-7 div.sk-label label {font-family: monospace;font-weight: bold;display: inline-block;line-height: 1.2em;}#sk-container-id-7 div.sk-label-container {text-align: center;}#sk-container-id-7 div.sk-container {/* jupyter's `normalize.less` sets `[hidden] { display: none; }` but bootstrap.min.css set `[hidden] { display: none !important; }` so we also need the `!important` here to be able to override the default hidden behavior on the sphinx rendered scikit-learn.org. See: https://github.com/scikit-learn/scikit-learn/issues/21755 */display: inline-block !important;position: relative;}#sk-container-id-7 div.sk-text-repr-fallback {display: none;}</style><div id=\"sk-container-id-7\" class=\"sk-top-container\"><div class=\"sk-text-repr-fallback\"><pre>RandomForestClassifier(random_state=42)</pre><b>In a Jupyter environment, please rerun this cell to show the HTML representation or trust the notebook. <br />On GitHub, the HTML representation is unable to render, please try loading this page with nbviewer.org.</b></div><div class=\"sk-container\" hidden><div class=\"sk-item\"><div class=\"sk-estimator sk-toggleable\"><input class=\"sk-toggleable__control sk-hidden--visually\" id=\"sk-estimator-id-10\" type=\"checkbox\" checked><label for=\"sk-estimator-id-10\" class=\"sk-toggleable__label sk-toggleable__label-arrow\">RandomForestClassifier</label><div class=\"sk-toggleable__content\"><pre>RandomForestClassifier(random_state=42)</pre></div></div></div></div></div>"
            ]
          },
          "metadata": {},
          "execution_count": 87
        }
      ]
    },
    {
      "cell_type": "code",
      "source": [
        "y_pred = model.predict(X_test_tfidf)\n",
        "\n",
        "# Print evaluation metrics\n",
        "print(\"Accuracy:\", accuracy_score(y_test, y_pred))\n",
        "print(\"Classification Report:\\n\", classification_report(y_test, y_pred))\n",
        "print(\"Confusion Matrix:\\n\", confusion_matrix(y_test, y_pred))\n"
      ],
      "metadata": {
        "colab": {
          "base_uri": "https://localhost:8080/"
        },
        "id": "RUae22XlDT_9",
        "outputId": "08f6b949-406e-489f-983a-2040aac428b2"
      },
      "execution_count": null,
      "outputs": [
        {
          "output_type": "stream",
          "name": "stdout",
          "text": [
            "Accuracy: 0.5165562913907285\n",
            "Classification Report:\n",
            "               precision    recall  f1-score   support\n",
            "\n",
            "    Negative       0.59      0.43      0.50        51\n",
            "     Neutral       0.48      0.47      0.47        47\n",
            "    Positive       0.50      0.64      0.56        53\n",
            "\n",
            "    accuracy                           0.52       151\n",
            "   macro avg       0.52      0.51      0.51       151\n",
            "weighted avg       0.53      0.52      0.51       151\n",
            "\n",
            "Confusion Matrix:\n",
            " [[22 11 18]\n",
            " [ 9 22 16]\n",
            " [ 6 13 34]]\n"
          ]
        }
      ]
    },
    {
      "cell_type": "markdown",
      "source": [
        "# Multinomial Logistic Regression"
      ],
      "metadata": {
        "id": "MfO0dkA6FveD"
      }
    },
    {
      "cell_type": "code",
      "source": [
        "from sklearn.linear_model import LogisticRegression\n"
      ],
      "metadata": {
        "id": "Aix7zik6DV1I"
      },
      "execution_count": null,
      "outputs": []
    },
    {
      "cell_type": "code",
      "source": [
        "X_train, X_test, y_train, y_test = train_test_split(X, y, test_size=0.2, random_state=42, stratify=y)\n"
      ],
      "metadata": {
        "id": "AC2PiftWF4s5"
      },
      "execution_count": null,
      "outputs": []
    },
    {
      "cell_type": "code",
      "source": [
        "vectorizer = TfidfVectorizer(max_features=5000)  # Adjust max_features as needed\n",
        "X_train_tfidf = vectorizer.fit_transform(X_train)\n",
        "X_test_tfidf = vectorizer.transform(X_test)\n"
      ],
      "metadata": {
        "id": "RoN10RqWF9Gc"
      },
      "execution_count": null,
      "outputs": []
    },
    {
      "cell_type": "code",
      "source": [
        "# By default, LogisticRegression uses the 'ovr' (One-vs-Rest) strategy for multi-class classification\n",
        "# You can specify 'multinomial' to use Softmax Regression\n",
        "model = LogisticRegression(max_iter=1000, random_state=42, multi_class='multinomial', solver='lbfgs')\n",
        "model.fit(X_train_tfidf, y_train)\n"
      ],
      "metadata": {
        "colab": {
          "base_uri": "https://localhost:8080/",
          "height": 94
        },
        "id": "d4VsinZ0Gz9U",
        "outputId": "dec5467f-7898-48e3-d0a4-c9eb718cec0d"
      },
      "execution_count": null,
      "outputs": [
        {
          "output_type": "execute_result",
          "data": {
            "text/plain": [
              "LogisticRegression(max_iter=1000, multi_class='multinomial', random_state=42)"
            ],
            "text/html": [
              "<style>#sk-container-id-8 {color: black;background-color: white;}#sk-container-id-8 pre{padding: 0;}#sk-container-id-8 div.sk-toggleable {background-color: white;}#sk-container-id-8 label.sk-toggleable__label {cursor: pointer;display: block;width: 100%;margin-bottom: 0;padding: 0.3em;box-sizing: border-box;text-align: center;}#sk-container-id-8 label.sk-toggleable__label-arrow:before {content: \"▸\";float: left;margin-right: 0.25em;color: #696969;}#sk-container-id-8 label.sk-toggleable__label-arrow:hover:before {color: black;}#sk-container-id-8 div.sk-estimator:hover label.sk-toggleable__label-arrow:before {color: black;}#sk-container-id-8 div.sk-toggleable__content {max-height: 0;max-width: 0;overflow: hidden;text-align: left;background-color: #f0f8ff;}#sk-container-id-8 div.sk-toggleable__content pre {margin: 0.2em;color: black;border-radius: 0.25em;background-color: #f0f8ff;}#sk-container-id-8 input.sk-toggleable__control:checked~div.sk-toggleable__content {max-height: 200px;max-width: 100%;overflow: auto;}#sk-container-id-8 input.sk-toggleable__control:checked~label.sk-toggleable__label-arrow:before {content: \"▾\";}#sk-container-id-8 div.sk-estimator input.sk-toggleable__control:checked~label.sk-toggleable__label {background-color: #d4ebff;}#sk-container-id-8 div.sk-label input.sk-toggleable__control:checked~label.sk-toggleable__label {background-color: #d4ebff;}#sk-container-id-8 input.sk-hidden--visually {border: 0;clip: rect(1px 1px 1px 1px);clip: rect(1px, 1px, 1px, 1px);height: 1px;margin: -1px;overflow: hidden;padding: 0;position: absolute;width: 1px;}#sk-container-id-8 div.sk-estimator {font-family: monospace;background-color: #f0f8ff;border: 1px dotted black;border-radius: 0.25em;box-sizing: border-box;margin-bottom: 0.5em;}#sk-container-id-8 div.sk-estimator:hover {background-color: #d4ebff;}#sk-container-id-8 div.sk-parallel-item::after {content: \"\";width: 100%;border-bottom: 1px solid gray;flex-grow: 1;}#sk-container-id-8 div.sk-label:hover label.sk-toggleable__label {background-color: #d4ebff;}#sk-container-id-8 div.sk-serial::before {content: \"\";position: absolute;border-left: 1px solid gray;box-sizing: border-box;top: 0;bottom: 0;left: 50%;z-index: 0;}#sk-container-id-8 div.sk-serial {display: flex;flex-direction: column;align-items: center;background-color: white;padding-right: 0.2em;padding-left: 0.2em;position: relative;}#sk-container-id-8 div.sk-item {position: relative;z-index: 1;}#sk-container-id-8 div.sk-parallel {display: flex;align-items: stretch;justify-content: center;background-color: white;position: relative;}#sk-container-id-8 div.sk-item::before, #sk-container-id-8 div.sk-parallel-item::before {content: \"\";position: absolute;border-left: 1px solid gray;box-sizing: border-box;top: 0;bottom: 0;left: 50%;z-index: -1;}#sk-container-id-8 div.sk-parallel-item {display: flex;flex-direction: column;z-index: 1;position: relative;background-color: white;}#sk-container-id-8 div.sk-parallel-item:first-child::after {align-self: flex-end;width: 50%;}#sk-container-id-8 div.sk-parallel-item:last-child::after {align-self: flex-start;width: 50%;}#sk-container-id-8 div.sk-parallel-item:only-child::after {width: 0;}#sk-container-id-8 div.sk-dashed-wrapped {border: 1px dashed gray;margin: 0 0.4em 0.5em 0.4em;box-sizing: border-box;padding-bottom: 0.4em;background-color: white;}#sk-container-id-8 div.sk-label label {font-family: monospace;font-weight: bold;display: inline-block;line-height: 1.2em;}#sk-container-id-8 div.sk-label-container {text-align: center;}#sk-container-id-8 div.sk-container {/* jupyter's `normalize.less` sets `[hidden] { display: none; }` but bootstrap.min.css set `[hidden] { display: none !important; }` so we also need the `!important` here to be able to override the default hidden behavior on the sphinx rendered scikit-learn.org. See: https://github.com/scikit-learn/scikit-learn/issues/21755 */display: inline-block !important;position: relative;}#sk-container-id-8 div.sk-text-repr-fallback {display: none;}</style><div id=\"sk-container-id-8\" class=\"sk-top-container\"><div class=\"sk-text-repr-fallback\"><pre>LogisticRegression(max_iter=1000, multi_class=&#x27;multinomial&#x27;, random_state=42)</pre><b>In a Jupyter environment, please rerun this cell to show the HTML representation or trust the notebook. <br />On GitHub, the HTML representation is unable to render, please try loading this page with nbviewer.org.</b></div><div class=\"sk-container\" hidden><div class=\"sk-item\"><div class=\"sk-estimator sk-toggleable\"><input class=\"sk-toggleable__control sk-hidden--visually\" id=\"sk-estimator-id-11\" type=\"checkbox\" checked><label for=\"sk-estimator-id-11\" class=\"sk-toggleable__label sk-toggleable__label-arrow\">LogisticRegression</label><div class=\"sk-toggleable__content\"><pre>LogisticRegression(max_iter=1000, multi_class=&#x27;multinomial&#x27;, random_state=42)</pre></div></div></div></div></div>"
            ]
          },
          "metadata": {},
          "execution_count": 92
        }
      ]
    },
    {
      "cell_type": "code",
      "source": [
        "y_pred = model.predict(X_test_tfidf)\n",
        "\n",
        "# Print evaluation metrics\n",
        "print(\"Accuracy:\", accuracy_score(y_test, y_pred))\n",
        "print(\"Classification Report:\\n\", classification_report(y_test, y_pred))\n",
        "print(\"Confusion Matrix:\\n\", confusion_matrix(y_test, y_pred))\n"
      ],
      "metadata": {
        "colab": {
          "base_uri": "https://localhost:8080/"
        },
        "id": "7AzlVYXjG2Bf",
        "outputId": "2f885078-f21b-445b-928d-d6304218eb9e"
      },
      "execution_count": null,
      "outputs": [
        {
          "output_type": "stream",
          "name": "stdout",
          "text": [
            "Accuracy: 0.5099337748344371\n",
            "Classification Report:\n",
            "               precision    recall  f1-score   support\n",
            "\n",
            "    Negative       0.54      0.62      0.58        50\n",
            "     Neutral       0.42      0.44      0.43        50\n",
            "    Positive       0.59      0.47      0.52        51\n",
            "\n",
            "    accuracy                           0.51       151\n",
            "   macro avg       0.51      0.51      0.51       151\n",
            "weighted avg       0.52      0.51      0.51       151\n",
            "\n",
            "Confusion Matrix:\n",
            " [[31 15  4]\n",
            " [15 22 13]\n",
            " [11 16 24]]\n"
          ]
        }
      ]
    },
    {
      "cell_type": "code",
      "source": [
        "# Save the trained model\n",
        "joblib.dump(model, 'logistic_regression_multiclass_model.pkl')\n",
        "\n",
        "# Save the vectorizer\n",
        "joblib.dump(vectorizer, 'tfidf_vectorizer.pkl')\n"
      ],
      "metadata": {
        "id": "zVJSJIAVG4sX",
        "colab": {
          "base_uri": "https://localhost:8080/"
        },
        "outputId": "2b6ae626-2352-47ca-a8a2-7d37983234d2"
      },
      "execution_count": null,
      "outputs": [
        {
          "output_type": "execute_result",
          "data": {
            "text/plain": [
              "['tfidf_vectorizer.pkl']"
            ]
          },
          "metadata": {},
          "execution_count": 94
        }
      ]
    },
    {
      "cell_type": "markdown",
      "source": [
        "# SMOTE"
      ],
      "metadata": {
        "id": "YL9d8ryQHCan"
      }
    },
    {
      "cell_type": "code",
      "source": [
        "# Initialize SMOTE\n",
        "smote = SMOTE(random_state=42)\n",
        "\n",
        "# Apply SMOTE to the training data\n",
        "X_train_res, y_train_res = smote.fit_resample(X_train_tfidf, y_train)\n",
        "\n",
        "# Check the new class distribution\n",
        "print(pd.Series(y_train_res).value_counts())\n"
      ],
      "metadata": {
        "colab": {
          "base_uri": "https://localhost:8080/"
        },
        "id": "fuesWd75HF3B",
        "outputId": "c1395718-973b-4505-d384-9e36d7d179da"
      },
      "execution_count": null,
      "outputs": [
        {
          "output_type": "stream",
          "name": "stdout",
          "text": [
            "Positive    201\n",
            "Negative    201\n",
            "Neutral     201\n",
            "Name: Label, dtype: int64\n"
          ]
        }
      ]
    },
    {
      "cell_type": "code",
      "source": [
        "# Train the Logistic Regression model on the balanced dataset\n",
        "model = LogisticRegression(max_iter=1000, random_state=42, multi_class='multinomial', solver='lbfgs')\n",
        "model.fit(X_train_res, y_train_res)\n"
      ],
      "metadata": {
        "colab": {
          "base_uri": "https://localhost:8080/",
          "height": 94
        },
        "id": "VcUFx01HHQyJ",
        "outputId": "7d079060-817a-4e98-86bb-651f76abd9c7"
      },
      "execution_count": null,
      "outputs": [
        {
          "output_type": "execute_result",
          "data": {
            "text/plain": [
              "LogisticRegression(max_iter=1000, multi_class='multinomial', random_state=42)"
            ],
            "text/html": [
              "<style>#sk-container-id-9 {color: black;background-color: white;}#sk-container-id-9 pre{padding: 0;}#sk-container-id-9 div.sk-toggleable {background-color: white;}#sk-container-id-9 label.sk-toggleable__label {cursor: pointer;display: block;width: 100%;margin-bottom: 0;padding: 0.3em;box-sizing: border-box;text-align: center;}#sk-container-id-9 label.sk-toggleable__label-arrow:before {content: \"▸\";float: left;margin-right: 0.25em;color: #696969;}#sk-container-id-9 label.sk-toggleable__label-arrow:hover:before {color: black;}#sk-container-id-9 div.sk-estimator:hover label.sk-toggleable__label-arrow:before {color: black;}#sk-container-id-9 div.sk-toggleable__content {max-height: 0;max-width: 0;overflow: hidden;text-align: left;background-color: #f0f8ff;}#sk-container-id-9 div.sk-toggleable__content pre {margin: 0.2em;color: black;border-radius: 0.25em;background-color: #f0f8ff;}#sk-container-id-9 input.sk-toggleable__control:checked~div.sk-toggleable__content {max-height: 200px;max-width: 100%;overflow: auto;}#sk-container-id-9 input.sk-toggleable__control:checked~label.sk-toggleable__label-arrow:before {content: \"▾\";}#sk-container-id-9 div.sk-estimator input.sk-toggleable__control:checked~label.sk-toggleable__label {background-color: #d4ebff;}#sk-container-id-9 div.sk-label input.sk-toggleable__control:checked~label.sk-toggleable__label {background-color: #d4ebff;}#sk-container-id-9 input.sk-hidden--visually {border: 0;clip: rect(1px 1px 1px 1px);clip: rect(1px, 1px, 1px, 1px);height: 1px;margin: -1px;overflow: hidden;padding: 0;position: absolute;width: 1px;}#sk-container-id-9 div.sk-estimator {font-family: monospace;background-color: #f0f8ff;border: 1px dotted black;border-radius: 0.25em;box-sizing: border-box;margin-bottom: 0.5em;}#sk-container-id-9 div.sk-estimator:hover {background-color: #d4ebff;}#sk-container-id-9 div.sk-parallel-item::after {content: \"\";width: 100%;border-bottom: 1px solid gray;flex-grow: 1;}#sk-container-id-9 div.sk-label:hover label.sk-toggleable__label {background-color: #d4ebff;}#sk-container-id-9 div.sk-serial::before {content: \"\";position: absolute;border-left: 1px solid gray;box-sizing: border-box;top: 0;bottom: 0;left: 50%;z-index: 0;}#sk-container-id-9 div.sk-serial {display: flex;flex-direction: column;align-items: center;background-color: white;padding-right: 0.2em;padding-left: 0.2em;position: relative;}#sk-container-id-9 div.sk-item {position: relative;z-index: 1;}#sk-container-id-9 div.sk-parallel {display: flex;align-items: stretch;justify-content: center;background-color: white;position: relative;}#sk-container-id-9 div.sk-item::before, #sk-container-id-9 div.sk-parallel-item::before {content: \"\";position: absolute;border-left: 1px solid gray;box-sizing: border-box;top: 0;bottom: 0;left: 50%;z-index: -1;}#sk-container-id-9 div.sk-parallel-item {display: flex;flex-direction: column;z-index: 1;position: relative;background-color: white;}#sk-container-id-9 div.sk-parallel-item:first-child::after {align-self: flex-end;width: 50%;}#sk-container-id-9 div.sk-parallel-item:last-child::after {align-self: flex-start;width: 50%;}#sk-container-id-9 div.sk-parallel-item:only-child::after {width: 0;}#sk-container-id-9 div.sk-dashed-wrapped {border: 1px dashed gray;margin: 0 0.4em 0.5em 0.4em;box-sizing: border-box;padding-bottom: 0.4em;background-color: white;}#sk-container-id-9 div.sk-label label {font-family: monospace;font-weight: bold;display: inline-block;line-height: 1.2em;}#sk-container-id-9 div.sk-label-container {text-align: center;}#sk-container-id-9 div.sk-container {/* jupyter's `normalize.less` sets `[hidden] { display: none; }` but bootstrap.min.css set `[hidden] { display: none !important; }` so we also need the `!important` here to be able to override the default hidden behavior on the sphinx rendered scikit-learn.org. See: https://github.com/scikit-learn/scikit-learn/issues/21755 */display: inline-block !important;position: relative;}#sk-container-id-9 div.sk-text-repr-fallback {display: none;}</style><div id=\"sk-container-id-9\" class=\"sk-top-container\"><div class=\"sk-text-repr-fallback\"><pre>LogisticRegression(max_iter=1000, multi_class=&#x27;multinomial&#x27;, random_state=42)</pre><b>In a Jupyter environment, please rerun this cell to show the HTML representation or trust the notebook. <br />On GitHub, the HTML representation is unable to render, please try loading this page with nbviewer.org.</b></div><div class=\"sk-container\" hidden><div class=\"sk-item\"><div class=\"sk-estimator sk-toggleable\"><input class=\"sk-toggleable__control sk-hidden--visually\" id=\"sk-estimator-id-12\" type=\"checkbox\" checked><label for=\"sk-estimator-id-12\" class=\"sk-toggleable__label sk-toggleable__label-arrow\">LogisticRegression</label><div class=\"sk-toggleable__content\"><pre>LogisticRegression(max_iter=1000, multi_class=&#x27;multinomial&#x27;, random_state=42)</pre></div></div></div></div></div>"
            ]
          },
          "metadata": {},
          "execution_count": 96
        }
      ]
    },
    {
      "cell_type": "code",
      "source": [
        "y_pred = model.predict(X_test_tfidf)\n",
        "\n",
        "# Print evaluation metrics\n",
        "print(\"Accuracy:\", accuracy_score(y_test, y_pred))\n",
        "print(\"Classification Report:\\n\", classification_report(y_test, y_pred))\n",
        "print(\"Confusion Matrix:\\n\", confusion_matrix(y_test, y_pred))\n"
      ],
      "metadata": {
        "colab": {
          "base_uri": "https://localhost:8080/"
        },
        "id": "RW62mkXUHT4u",
        "outputId": "e8c47f2e-6387-4bdf-d66f-9d9085451df4"
      },
      "execution_count": null,
      "outputs": [
        {
          "output_type": "stream",
          "name": "stdout",
          "text": [
            "Accuracy: 0.5099337748344371\n",
            "Classification Report:\n",
            "               precision    recall  f1-score   support\n",
            "\n",
            "    Negative       0.54      0.62      0.58        50\n",
            "     Neutral       0.42      0.44      0.43        50\n",
            "    Positive       0.59      0.47      0.52        51\n",
            "\n",
            "    accuracy                           0.51       151\n",
            "   macro avg       0.51      0.51      0.51       151\n",
            "weighted avg       0.52      0.51      0.51       151\n",
            "\n",
            "Confusion Matrix:\n",
            " [[31 15  4]\n",
            " [15 22 13]\n",
            " [11 16 24]]\n"
          ]
        }
      ]
    },
    {
      "cell_type": "markdown",
      "source": [
        "# Downsampling"
      ],
      "metadata": {
        "id": "YQyU8FeAHgCx"
      }
    },
    {
      "cell_type": "code",
      "source": [
        "# Initialize RandomUnderSampler\n",
        "undersample = RandomUnderSampler(random_state=42)\n",
        "\n",
        "# Apply downsampling to the training data\n",
        "X_train_res, y_train_res = undersample.fit_resample(X_train_tfidf, y_train)\n",
        "\n",
        "# Check the new class distribution\n",
        "print(pd.Series(y_train_res).value_counts())\n"
      ],
      "metadata": {
        "colab": {
          "base_uri": "https://localhost:8080/",
          "height": 231
        },
        "id": "xQ_7DUYUHVvJ",
        "outputId": "b0dc682f-1327-4e16-c3d9-ea73fde4a437"
      },
      "execution_count": null,
      "outputs": [
        {
          "output_type": "error",
          "ename": "NameError",
          "evalue": "name 'RandomUnderSampler' is not defined",
          "traceback": [
            "\u001b[0;31m---------------------------------------------------------------------------\u001b[0m",
            "\u001b[0;31mNameError\u001b[0m                                 Traceback (most recent call last)",
            "\u001b[0;32m<ipython-input-98-902a3cd520b2>\u001b[0m in \u001b[0;36m<cell line: 2>\u001b[0;34m()\u001b[0m\n\u001b[1;32m      1\u001b[0m \u001b[0;31m# Initialize RandomUnderSampler\u001b[0m\u001b[0;34m\u001b[0m\u001b[0;34m\u001b[0m\u001b[0m\n\u001b[0;32m----> 2\u001b[0;31m \u001b[0mundersample\u001b[0m \u001b[0;34m=\u001b[0m \u001b[0mRandomUnderSampler\u001b[0m\u001b[0;34m(\u001b[0m\u001b[0mrandom_state\u001b[0m\u001b[0;34m=\u001b[0m\u001b[0;36m42\u001b[0m\u001b[0;34m)\u001b[0m\u001b[0;34m\u001b[0m\u001b[0;34m\u001b[0m\u001b[0m\n\u001b[0m\u001b[1;32m      3\u001b[0m \u001b[0;34m\u001b[0m\u001b[0m\n\u001b[1;32m      4\u001b[0m \u001b[0;31m# Apply downsampling to the training data\u001b[0m\u001b[0;34m\u001b[0m\u001b[0;34m\u001b[0m\u001b[0m\n\u001b[1;32m      5\u001b[0m \u001b[0mX_train_res\u001b[0m\u001b[0;34m,\u001b[0m \u001b[0my_train_res\u001b[0m \u001b[0;34m=\u001b[0m \u001b[0mundersample\u001b[0m\u001b[0;34m.\u001b[0m\u001b[0mfit_resample\u001b[0m\u001b[0;34m(\u001b[0m\u001b[0mX_train_tfidf\u001b[0m\u001b[0;34m,\u001b[0m \u001b[0my_train\u001b[0m\u001b[0;34m)\u001b[0m\u001b[0;34m\u001b[0m\u001b[0;34m\u001b[0m\u001b[0m\n",
            "\u001b[0;31mNameError\u001b[0m: name 'RandomUnderSampler' is not defined"
          ]
        }
      ]
    },
    {
      "cell_type": "code",
      "source": [
        "# Train the Logistic Regression model on the balanced dataset\n",
        "model = LogisticRegression(max_iter=1000, random_state=42, multi_class='multinomial', solver='lbfgs')\n",
        "model.fit(X_train_res, y_train_res)\n"
      ],
      "metadata": {
        "colab": {
          "base_uri": "https://localhost:8080/",
          "height": 94
        },
        "id": "Yv2L-dWLHr1e",
        "outputId": "50a5a74c-43ad-43bc-eeb0-d2eba80eef57"
      },
      "execution_count": null,
      "outputs": [
        {
          "output_type": "execute_result",
          "data": {
            "text/plain": [
              "LogisticRegression(max_iter=1000, multi_class='multinomial', random_state=42)"
            ],
            "text/html": [
              "<style>#sk-container-id-14 {color: black;}#sk-container-id-14 pre{padding: 0;}#sk-container-id-14 div.sk-toggleable {background-color: white;}#sk-container-id-14 label.sk-toggleable__label {cursor: pointer;display: block;width: 100%;margin-bottom: 0;padding: 0.3em;box-sizing: border-box;text-align: center;}#sk-container-id-14 label.sk-toggleable__label-arrow:before {content: \"▸\";float: left;margin-right: 0.25em;color: #696969;}#sk-container-id-14 label.sk-toggleable__label-arrow:hover:before {color: black;}#sk-container-id-14 div.sk-estimator:hover label.sk-toggleable__label-arrow:before {color: black;}#sk-container-id-14 div.sk-toggleable__content {max-height: 0;max-width: 0;overflow: hidden;text-align: left;background-color: #f0f8ff;}#sk-container-id-14 div.sk-toggleable__content pre {margin: 0.2em;color: black;border-radius: 0.25em;background-color: #f0f8ff;}#sk-container-id-14 input.sk-toggleable__control:checked~div.sk-toggleable__content {max-height: 200px;max-width: 100%;overflow: auto;}#sk-container-id-14 input.sk-toggleable__control:checked~label.sk-toggleable__label-arrow:before {content: \"▾\";}#sk-container-id-14 div.sk-estimator input.sk-toggleable__control:checked~label.sk-toggleable__label {background-color: #d4ebff;}#sk-container-id-14 div.sk-label input.sk-toggleable__control:checked~label.sk-toggleable__label {background-color: #d4ebff;}#sk-container-id-14 input.sk-hidden--visually {border: 0;clip: rect(1px 1px 1px 1px);clip: rect(1px, 1px, 1px, 1px);height: 1px;margin: -1px;overflow: hidden;padding: 0;position: absolute;width: 1px;}#sk-container-id-14 div.sk-estimator {font-family: monospace;background-color: #f0f8ff;border: 1px dotted black;border-radius: 0.25em;box-sizing: border-box;margin-bottom: 0.5em;}#sk-container-id-14 div.sk-estimator:hover {background-color: #d4ebff;}#sk-container-id-14 div.sk-parallel-item::after {content: \"\";width: 100%;border-bottom: 1px solid gray;flex-grow: 1;}#sk-container-id-14 div.sk-label:hover label.sk-toggleable__label {background-color: #d4ebff;}#sk-container-id-14 div.sk-serial::before {content: \"\";position: absolute;border-left: 1px solid gray;box-sizing: border-box;top: 0;bottom: 0;left: 50%;z-index: 0;}#sk-container-id-14 div.sk-serial {display: flex;flex-direction: column;align-items: center;background-color: white;padding-right: 0.2em;padding-left: 0.2em;position: relative;}#sk-container-id-14 div.sk-item {position: relative;z-index: 1;}#sk-container-id-14 div.sk-parallel {display: flex;align-items: stretch;justify-content: center;background-color: white;position: relative;}#sk-container-id-14 div.sk-item::before, #sk-container-id-14 div.sk-parallel-item::before {content: \"\";position: absolute;border-left: 1px solid gray;box-sizing: border-box;top: 0;bottom: 0;left: 50%;z-index: -1;}#sk-container-id-14 div.sk-parallel-item {display: flex;flex-direction: column;z-index: 1;position: relative;background-color: white;}#sk-container-id-14 div.sk-parallel-item:first-child::after {align-self: flex-end;width: 50%;}#sk-container-id-14 div.sk-parallel-item:last-child::after {align-self: flex-start;width: 50%;}#sk-container-id-14 div.sk-parallel-item:only-child::after {width: 0;}#sk-container-id-14 div.sk-dashed-wrapped {border: 1px dashed gray;margin: 0 0.4em 0.5em 0.4em;box-sizing: border-box;padding-bottom: 0.4em;background-color: white;}#sk-container-id-14 div.sk-label label {font-family: monospace;font-weight: bold;display: inline-block;line-height: 1.2em;}#sk-container-id-14 div.sk-label-container {text-align: center;}#sk-container-id-14 div.sk-container {/* jupyter's `normalize.less` sets `[hidden] { display: none; }` but bootstrap.min.css set `[hidden] { display: none !important; }` so we also need the `!important` here to be able to override the default hidden behavior on the sphinx rendered scikit-learn.org. See: https://github.com/scikit-learn/scikit-learn/issues/21755 */display: inline-block !important;position: relative;}#sk-container-id-14 div.sk-text-repr-fallback {display: none;}</style><div id=\"sk-container-id-14\" class=\"sk-top-container\"><div class=\"sk-text-repr-fallback\"><pre>LogisticRegression(max_iter=1000, multi_class=&#x27;multinomial&#x27;, random_state=42)</pre><b>In a Jupyter environment, please rerun this cell to show the HTML representation or trust the notebook. <br />On GitHub, the HTML representation is unable to render, please try loading this page with nbviewer.org.</b></div><div class=\"sk-container\" hidden><div class=\"sk-item\"><div class=\"sk-estimator sk-toggleable\"><input class=\"sk-toggleable__control sk-hidden--visually\" id=\"sk-estimator-id-17\" type=\"checkbox\" checked><label for=\"sk-estimator-id-17\" class=\"sk-toggleable__label sk-toggleable__label-arrow\">LogisticRegression</label><div class=\"sk-toggleable__content\"><pre>LogisticRegression(max_iter=1000, multi_class=&#x27;multinomial&#x27;, random_state=42)</pre></div></div></div></div></div>"
            ]
          },
          "metadata": {},
          "execution_count": 91
        }
      ]
    },
    {
      "cell_type": "code",
      "source": [
        "y_pred = model.predict(X_test_tfidf)\n",
        "\n",
        "# Print evaluation metrics\n",
        "print(\"Accuracy:\", accuracy_score(y_test, y_pred))\n",
        "print(\"Classification Report:\\n\", classification_report(y_test, y_pred))\n",
        "print(\"Confusion Matrix:\\n\", confusion_matrix(y_test, y_pred))\n"
      ],
      "metadata": {
        "colab": {
          "base_uri": "https://localhost:8080/"
        },
        "id": "EAX4z2t0HvAo",
        "outputId": "e596f63b-369d-4a80-dcd4-012c8fc2202c"
      },
      "execution_count": null,
      "outputs": [
        {
          "output_type": "stream",
          "name": "stdout",
          "text": [
            "Accuracy: 0.5670498084291188\n",
            "Classification Report:\n",
            "               precision    recall  f1-score   support\n",
            "\n",
            "    Negative       0.84      0.56      0.67       347\n",
            "     Neutral       0.31      0.57      0.41       100\n",
            "    Positive       0.41      0.61      0.49        75\n",
            "\n",
            "    accuracy                           0.57       522\n",
            "   macro avg       0.52      0.58      0.52       522\n",
            "weighted avg       0.68      0.57      0.59       522\n",
            "\n",
            "Confusion Matrix:\n",
            " [[193 109  45]\n",
            " [ 23  57  20]\n",
            " [ 14  15  46]]\n"
          ]
        }
      ]
    },
    {
      "cell_type": "markdown",
      "source": [
        "# Naive Bayes"
      ],
      "metadata": {
        "id": "U1Hdq5yeITAO"
      }
    },
    {
      "cell_type": "code",
      "source": [
        "from sklearn.naive_bayes import MultinomialNB"
      ],
      "metadata": {
        "id": "6oOLofU_Hwpp"
      },
      "execution_count": null,
      "outputs": []
    },
    {
      "cell_type": "code",
      "source": [
        "X_train, X_test, y_train, y_test = train_test_split(X, y, test_size=0.2, random_state=42, stratify=y)\n"
      ],
      "metadata": {
        "id": "Vq5986rjIU5d"
      },
      "execution_count": null,
      "outputs": []
    },
    {
      "cell_type": "code",
      "source": [
        "vectorizer = TfidfVectorizer(max_features=5000)  # Adjust max_features as needed\n",
        "X_train_tfidf = vectorizer.fit_transform(X_train)\n",
        "X_test_tfidf = vectorizer.transform(X_test)\n"
      ],
      "metadata": {
        "id": "27tYNR_NIY_F"
      },
      "execution_count": null,
      "outputs": []
    },
    {
      "cell_type": "code",
      "source": [
        "# Train the Multinomial Naive Bayes model on the balanced dataset\n",
        "model = MultinomialNB()\n",
        "model.fit(X_train_tfidf, y_train)\n"
      ],
      "metadata": {
        "colab": {
          "base_uri": "https://localhost:8080/",
          "height": 94
        },
        "id": "sZc_nlDkIbWm",
        "outputId": "42b7917e-cd4a-4c38-e654-92813ae857a3"
      },
      "execution_count": null,
      "outputs": [
        {
          "output_type": "execute_result",
          "data": {
            "text/plain": [
              "MultinomialNB()"
            ],
            "text/html": [
              "<style>#sk-container-id-15 {color: black;}#sk-container-id-15 pre{padding: 0;}#sk-container-id-15 div.sk-toggleable {background-color: white;}#sk-container-id-15 label.sk-toggleable__label {cursor: pointer;display: block;width: 100%;margin-bottom: 0;padding: 0.3em;box-sizing: border-box;text-align: center;}#sk-container-id-15 label.sk-toggleable__label-arrow:before {content: \"▸\";float: left;margin-right: 0.25em;color: #696969;}#sk-container-id-15 label.sk-toggleable__label-arrow:hover:before {color: black;}#sk-container-id-15 div.sk-estimator:hover label.sk-toggleable__label-arrow:before {color: black;}#sk-container-id-15 div.sk-toggleable__content {max-height: 0;max-width: 0;overflow: hidden;text-align: left;background-color: #f0f8ff;}#sk-container-id-15 div.sk-toggleable__content pre {margin: 0.2em;color: black;border-radius: 0.25em;background-color: #f0f8ff;}#sk-container-id-15 input.sk-toggleable__control:checked~div.sk-toggleable__content {max-height: 200px;max-width: 100%;overflow: auto;}#sk-container-id-15 input.sk-toggleable__control:checked~label.sk-toggleable__label-arrow:before {content: \"▾\";}#sk-container-id-15 div.sk-estimator input.sk-toggleable__control:checked~label.sk-toggleable__label {background-color: #d4ebff;}#sk-container-id-15 div.sk-label input.sk-toggleable__control:checked~label.sk-toggleable__label {background-color: #d4ebff;}#sk-container-id-15 input.sk-hidden--visually {border: 0;clip: rect(1px 1px 1px 1px);clip: rect(1px, 1px, 1px, 1px);height: 1px;margin: -1px;overflow: hidden;padding: 0;position: absolute;width: 1px;}#sk-container-id-15 div.sk-estimator {font-family: monospace;background-color: #f0f8ff;border: 1px dotted black;border-radius: 0.25em;box-sizing: border-box;margin-bottom: 0.5em;}#sk-container-id-15 div.sk-estimator:hover {background-color: #d4ebff;}#sk-container-id-15 div.sk-parallel-item::after {content: \"\";width: 100%;border-bottom: 1px solid gray;flex-grow: 1;}#sk-container-id-15 div.sk-label:hover label.sk-toggleable__label {background-color: #d4ebff;}#sk-container-id-15 div.sk-serial::before {content: \"\";position: absolute;border-left: 1px solid gray;box-sizing: border-box;top: 0;bottom: 0;left: 50%;z-index: 0;}#sk-container-id-15 div.sk-serial {display: flex;flex-direction: column;align-items: center;background-color: white;padding-right: 0.2em;padding-left: 0.2em;position: relative;}#sk-container-id-15 div.sk-item {position: relative;z-index: 1;}#sk-container-id-15 div.sk-parallel {display: flex;align-items: stretch;justify-content: center;background-color: white;position: relative;}#sk-container-id-15 div.sk-item::before, #sk-container-id-15 div.sk-parallel-item::before {content: \"\";position: absolute;border-left: 1px solid gray;box-sizing: border-box;top: 0;bottom: 0;left: 50%;z-index: -1;}#sk-container-id-15 div.sk-parallel-item {display: flex;flex-direction: column;z-index: 1;position: relative;background-color: white;}#sk-container-id-15 div.sk-parallel-item:first-child::after {align-self: flex-end;width: 50%;}#sk-container-id-15 div.sk-parallel-item:last-child::after {align-self: flex-start;width: 50%;}#sk-container-id-15 div.sk-parallel-item:only-child::after {width: 0;}#sk-container-id-15 div.sk-dashed-wrapped {border: 1px dashed gray;margin: 0 0.4em 0.5em 0.4em;box-sizing: border-box;padding-bottom: 0.4em;background-color: white;}#sk-container-id-15 div.sk-label label {font-family: monospace;font-weight: bold;display: inline-block;line-height: 1.2em;}#sk-container-id-15 div.sk-label-container {text-align: center;}#sk-container-id-15 div.sk-container {/* jupyter's `normalize.less` sets `[hidden] { display: none; }` but bootstrap.min.css set `[hidden] { display: none !important; }` so we also need the `!important` here to be able to override the default hidden behavior on the sphinx rendered scikit-learn.org. See: https://github.com/scikit-learn/scikit-learn/issues/21755 */display: inline-block !important;position: relative;}#sk-container-id-15 div.sk-text-repr-fallback {display: none;}</style><div id=\"sk-container-id-15\" class=\"sk-top-container\"><div class=\"sk-text-repr-fallback\"><pre>MultinomialNB()</pre><b>In a Jupyter environment, please rerun this cell to show the HTML representation or trust the notebook. <br />On GitHub, the HTML representation is unable to render, please try loading this page with nbviewer.org.</b></div><div class=\"sk-container\" hidden><div class=\"sk-item\"><div class=\"sk-estimator sk-toggleable\"><input class=\"sk-toggleable__control sk-hidden--visually\" id=\"sk-estimator-id-18\" type=\"checkbox\" checked><label for=\"sk-estimator-id-18\" class=\"sk-toggleable__label sk-toggleable__label-arrow\">MultinomialNB</label><div class=\"sk-toggleable__content\"><pre>MultinomialNB()</pre></div></div></div></div></div>"
            ]
          },
          "metadata": {},
          "execution_count": 98
        }
      ]
    },
    {
      "cell_type": "code",
      "source": [
        "y_pred = model.predict(X_test_tfidf)\n",
        "\n",
        "# Print evaluation metrics\n",
        "print(\"Accuracy:\", accuracy_score(y_test, y_pred))\n",
        "print(\"Classification Report:\\n\", classification_report(y_test, y_pred))\n",
        "print(\"Confusion Matrix:\\n\", confusion_matrix(y_test, y_pred))\n"
      ],
      "metadata": {
        "colab": {
          "base_uri": "https://localhost:8080/"
        },
        "id": "WaLRlC4aIike",
        "outputId": "f064c913-e2f5-476b-fedb-5281c15cd975"
      },
      "execution_count": null,
      "outputs": [
        {
          "output_type": "stream",
          "name": "stdout",
          "text": [
            "Accuracy: 0.7011494252873564\n",
            "Classification Report:\n",
            "               precision    recall  f1-score   support\n",
            "\n",
            "    Negative       0.69      0.99      0.81       228\n",
            "     Neutral       0.50      0.03      0.05        70\n",
            "    Positive       1.00      0.32      0.48        50\n",
            "\n",
            "    accuracy                           0.70       348\n",
            "   macro avg       0.73      0.45      0.45       348\n",
            "weighted avg       0.70      0.70      0.61       348\n",
            "\n",
            "Confusion Matrix:\n",
            " [[226   2   0]\n",
            " [ 68   2   0]\n",
            " [ 34   0  16]]\n"
          ]
        }
      ]
    },
    {
      "cell_type": "markdown",
      "source": [
        "# SMOTE"
      ],
      "metadata": {
        "id": "bVOzeJUAI5Xr"
      }
    },
    {
      "cell_type": "code",
      "source": [
        "# Initialize SMOTE\n",
        "smote = SMOTE(random_state=42)\n",
        "\n",
        "# Apply SMOTE to the training data\n",
        "X_train_res, y_train_res = smote.fit_resample(X_train_tfidf, y_train)\n",
        "\n",
        "# Check the new class distribution\n",
        "print(pd.Series(y_train_res).value_counts())\n"
      ],
      "metadata": {
        "colab": {
          "base_uri": "https://localhost:8080/"
        },
        "id": "QEz4pfriIyrb",
        "outputId": "35fce85e-ec10-4e03-d295-009a4c63a101"
      },
      "execution_count": null,
      "outputs": [
        {
          "output_type": "stream",
          "name": "stdout",
          "text": [
            "Label\n",
            "Negative    910\n",
            "Positive    910\n",
            "Neutral     910\n",
            "Name: count, dtype: int64\n"
          ]
        }
      ]
    },
    {
      "cell_type": "code",
      "source": [
        "# Train the Multinomial Naive Bayes model on the balanced dataset\n",
        "model = MultinomialNB()\n",
        "model.fit(X_train_res, y_train_res)\n"
      ],
      "metadata": {
        "colab": {
          "base_uri": "https://localhost:8080/",
          "height": 94
        },
        "id": "8uXLM7gSI-Ii",
        "outputId": "181c47f6-ef29-478f-f1d9-33331824d856"
      },
      "execution_count": null,
      "outputs": [
        {
          "output_type": "execute_result",
          "data": {
            "text/plain": [
              "MultinomialNB()"
            ],
            "text/html": [
              "<style>#sk-container-id-16 {color: black;}#sk-container-id-16 pre{padding: 0;}#sk-container-id-16 div.sk-toggleable {background-color: white;}#sk-container-id-16 label.sk-toggleable__label {cursor: pointer;display: block;width: 100%;margin-bottom: 0;padding: 0.3em;box-sizing: border-box;text-align: center;}#sk-container-id-16 label.sk-toggleable__label-arrow:before {content: \"▸\";float: left;margin-right: 0.25em;color: #696969;}#sk-container-id-16 label.sk-toggleable__label-arrow:hover:before {color: black;}#sk-container-id-16 div.sk-estimator:hover label.sk-toggleable__label-arrow:before {color: black;}#sk-container-id-16 div.sk-toggleable__content {max-height: 0;max-width: 0;overflow: hidden;text-align: left;background-color: #f0f8ff;}#sk-container-id-16 div.sk-toggleable__content pre {margin: 0.2em;color: black;border-radius: 0.25em;background-color: #f0f8ff;}#sk-container-id-16 input.sk-toggleable__control:checked~div.sk-toggleable__content {max-height: 200px;max-width: 100%;overflow: auto;}#sk-container-id-16 input.sk-toggleable__control:checked~label.sk-toggleable__label-arrow:before {content: \"▾\";}#sk-container-id-16 div.sk-estimator input.sk-toggleable__control:checked~label.sk-toggleable__label {background-color: #d4ebff;}#sk-container-id-16 div.sk-label input.sk-toggleable__control:checked~label.sk-toggleable__label {background-color: #d4ebff;}#sk-container-id-16 input.sk-hidden--visually {border: 0;clip: rect(1px 1px 1px 1px);clip: rect(1px, 1px, 1px, 1px);height: 1px;margin: -1px;overflow: hidden;padding: 0;position: absolute;width: 1px;}#sk-container-id-16 div.sk-estimator {font-family: monospace;background-color: #f0f8ff;border: 1px dotted black;border-radius: 0.25em;box-sizing: border-box;margin-bottom: 0.5em;}#sk-container-id-16 div.sk-estimator:hover {background-color: #d4ebff;}#sk-container-id-16 div.sk-parallel-item::after {content: \"\";width: 100%;border-bottom: 1px solid gray;flex-grow: 1;}#sk-container-id-16 div.sk-label:hover label.sk-toggleable__label {background-color: #d4ebff;}#sk-container-id-16 div.sk-serial::before {content: \"\";position: absolute;border-left: 1px solid gray;box-sizing: border-box;top: 0;bottom: 0;left: 50%;z-index: 0;}#sk-container-id-16 div.sk-serial {display: flex;flex-direction: column;align-items: center;background-color: white;padding-right: 0.2em;padding-left: 0.2em;position: relative;}#sk-container-id-16 div.sk-item {position: relative;z-index: 1;}#sk-container-id-16 div.sk-parallel {display: flex;align-items: stretch;justify-content: center;background-color: white;position: relative;}#sk-container-id-16 div.sk-item::before, #sk-container-id-16 div.sk-parallel-item::before {content: \"\";position: absolute;border-left: 1px solid gray;box-sizing: border-box;top: 0;bottom: 0;left: 50%;z-index: -1;}#sk-container-id-16 div.sk-parallel-item {display: flex;flex-direction: column;z-index: 1;position: relative;background-color: white;}#sk-container-id-16 div.sk-parallel-item:first-child::after {align-self: flex-end;width: 50%;}#sk-container-id-16 div.sk-parallel-item:last-child::after {align-self: flex-start;width: 50%;}#sk-container-id-16 div.sk-parallel-item:only-child::after {width: 0;}#sk-container-id-16 div.sk-dashed-wrapped {border: 1px dashed gray;margin: 0 0.4em 0.5em 0.4em;box-sizing: border-box;padding-bottom: 0.4em;background-color: white;}#sk-container-id-16 div.sk-label label {font-family: monospace;font-weight: bold;display: inline-block;line-height: 1.2em;}#sk-container-id-16 div.sk-label-container {text-align: center;}#sk-container-id-16 div.sk-container {/* jupyter's `normalize.less` sets `[hidden] { display: none; }` but bootstrap.min.css set `[hidden] { display: none !important; }` so we also need the `!important` here to be able to override the default hidden behavior on the sphinx rendered scikit-learn.org. See: https://github.com/scikit-learn/scikit-learn/issues/21755 */display: inline-block !important;position: relative;}#sk-container-id-16 div.sk-text-repr-fallback {display: none;}</style><div id=\"sk-container-id-16\" class=\"sk-top-container\"><div class=\"sk-text-repr-fallback\"><pre>MultinomialNB()</pre><b>In a Jupyter environment, please rerun this cell to show the HTML representation or trust the notebook. <br />On GitHub, the HTML representation is unable to render, please try loading this page with nbviewer.org.</b></div><div class=\"sk-container\" hidden><div class=\"sk-item\"><div class=\"sk-estimator sk-toggleable\"><input class=\"sk-toggleable__control sk-hidden--visually\" id=\"sk-estimator-id-19\" type=\"checkbox\" checked><label for=\"sk-estimator-id-19\" class=\"sk-toggleable__label sk-toggleable__label-arrow\">MultinomialNB</label><div class=\"sk-toggleable__content\"><pre>MultinomialNB()</pre></div></div></div></div></div>"
            ]
          },
          "metadata": {},
          "execution_count": 101
        }
      ]
    },
    {
      "cell_type": "code",
      "source": [
        "y_pred = model.predict(X_test_tfidf)\n",
        "\n",
        "# Print evaluation metrics\n",
        "print(\"Accuracy:\", accuracy_score(y_test, y_pred))\n",
        "print(\"Classification Report:\\n\", classification_report(y_test, y_pred))\n",
        "print(\"Confusion Matrix:\\n\", confusion_matrix(y_test, y_pred))\n"
      ],
      "metadata": {
        "colab": {
          "base_uri": "https://localhost:8080/"
        },
        "id": "ngBqhGnhJANK",
        "outputId": "b1267194-0169-4167-b946-ffdeea25aa6c"
      },
      "execution_count": null,
      "outputs": [
        {
          "output_type": "stream",
          "name": "stdout",
          "text": [
            "Accuracy: 0.6954022988505747\n",
            "Classification Report:\n",
            "               precision    recall  f1-score   support\n",
            "\n",
            "    Negative       0.78      0.82      0.80       228\n",
            "     Neutral       0.49      0.36      0.41        70\n",
            "    Positive       0.53      0.62      0.57        50\n",
            "\n",
            "    accuracy                           0.70       348\n",
            "   macro avg       0.60      0.60      0.59       348\n",
            "weighted avg       0.69      0.70      0.69       348\n",
            "\n",
            "Confusion Matrix:\n",
            " [[186  24  18]\n",
            " [ 36  25   9]\n",
            " [ 17   2  31]]\n"
          ]
        }
      ]
    },
    {
      "cell_type": "markdown",
      "source": [
        "# Downsampling"
      ],
      "metadata": {
        "id": "4_usO5N3JMNE"
      }
    },
    {
      "cell_type": "code",
      "source": [],
      "metadata": {
        "id": "2fFkHwwAJBx5"
      },
      "execution_count": null,
      "outputs": []
    },
    {
      "cell_type": "markdown",
      "source": [
        "https://github.com/Isurie/Text-Classification-Module/blob/master/Subjective_classification1.ipynb"
      ],
      "metadata": {
        "id": "3F2k9I2IR_vF"
      }
    },
    {
      "cell_type": "code",
      "source": [
        "# Import necessary libraries\n",
        "import pandas as pd\n",
        "import numpy as np\n",
        "import matplotlib.pyplot as plt\n",
        "\n",
        "# For text preprocessing\n",
        "import re\n",
        "import nltk\n",
        "from nltk.corpus import stopwords\n",
        "from sklearn.model_selection import train_test_split\n",
        "\n",
        "# For encoding labels\n",
        "from sklearn.preprocessing import LabelEncoder\n",
        "\n",
        "# For tokenization and padding\n",
        "from tensorflow.keras.preprocessing.text import Tokenizer\n",
        "from tensorflow.keras.preprocessing.sequence import pad_sequences\n",
        "\n",
        "# For building the model\n",
        "from tensorflow.keras.models import Sequential\n",
        "from tensorflow.keras.layers import Embedding, LSTM, Dense, Dropout\n",
        "from tensorflow.keras.utils import to_categorical\n",
        "\n",
        "# For handling class imbalance\n",
        "from sklearn.utils import class_weight\n",
        "\n",
        "# Suppress TensorFlow warnings\n",
        "import tensorflow as tf\n",
        "tf.get_logger().setLevel('ERROR')\n",
        "\n",
        "# Ensure NLTK data is downloaded\n",
        "nltk.download('stopwords')\n",
        "\n",
        "# ------------------------- Data Loading -------------------------\n",
        "# Assuming your DataFrame is named 'df' with columns 'text' and 'label'\n",
        "# Replace this with actual data loading code if necessary\n",
        "# For example:\n",
        "# df = pd.read_csv('your_dataset.csv')\n",
        "\n",
        "# For demonstration, let's create a sample DataFrame\n",
        "# data = {\n",
        "#     'text': [\n",
        "#         'මෙය නරක අදහසකි',\n",
        "#         'මෙම නිෂ්පාදනය අගය කරන්නට ලැබුණි',\n",
        "#         'මම මෙම සේවාව ගැන අනතුරු ඇගවීමක් පළ කරනවා',\n",
        "#         'මෙය සාමාන්‍ය පරිච්ඡේදයකි',\n",
        "#         'මෙම නිෂ්පාදනය අනර්ඝය'\n",
        "#     ],\n",
        "#     'label': ['negative', 'positive', 'negative', 'neutral', 'positive']\n",
        "# }\n",
        "# df = pd.DataFrame(data)\n",
        "\n",
        "# ------------------------- Data Preprocessing -------------------------\n",
        "# Define Sinhala stopwords (you might need to expand this list)\n",
        "#sinhala_stopwords = ['ඇතුළත්', 'සඳහා', 'ඒ', 'අද']\n",
        "\n",
        "def clean_text(text):\n",
        "    # Remove non-alphabetic characters\n",
        "    text = re.sub(r'[^අ-උැ-ෟ ]', '', text)\n",
        "    # Convert to lowercase\n",
        "    text = text.lower()\n",
        "    # Remove stopwords\n",
        "    tokens = text.split()\n",
        "    tokens = [word for word in tokens if word not in sinhala_stopwords]\n",
        "    return ' '.join(tokens)\n",
        "\n",
        "# df['cleaned_text'] = df['text'].apply(clean_text)\n",
        "\n",
        "# ------------------------- Label Encoding -------------------------\n",
        "label_encoder = LabelEncoder()\n",
        "df['encoded_label'] = label_encoder.fit_transform(df['Label'])\n",
        "num_classes = len(label_encoder.classes_)\n",
        "\n",
        "# ------------------------- Tokenization and Padding -------------------------\n",
        "# Define parameters\n",
        "max_words = 5000\n",
        "max_len = 100\n",
        "embedding_dim = 128\n",
        "\n",
        "tokenizer = Tokenizer(num_words=max_words)\n",
        "tokenizer.fit_on_texts(df['text'])\n",
        "sequences = tokenizer.texts_to_sequences(df['text'])\n",
        "padded_sequences = pad_sequences(sequences, maxlen=max_len, padding='post')\n",
        "\n",
        "# ------------------------- Train-Test Split -------------------------\n",
        "X = padded_sequences\n",
        "y = to_categorical(df['encoded_label'], num_classes=num_classes)\n",
        "\n",
        "X_train, X_test, y_train, y_test = train_test_split(X, y, test_size=0.2, random_state=42)\n",
        "\n",
        "# ------------------------- Handling Class Imbalance -------------------------\n",
        "# Compute class weights\n",
        "encoded_labels = np.argmax(y_train, axis=1)\n",
        "class_weights = class_weight.compute_class_weight(class_weight='balanced',\n",
        "                                                  classes=np.unique(encoded_labels),\n",
        "                                                  y=encoded_labels)\n",
        "class_weights = dict(enumerate(class_weights))\n",
        "\n",
        "# ------------------------- Building the Model -------------------------\n",
        "model = Sequential()\n",
        "model.add(Embedding(input_dim=max_words, output_dim=embedding_dim, input_length=max_len))\n",
        "model.add(LSTM(64, dropout=0.2, recurrent_dropout=0.2))\n",
        "model.add(Dense(32, activation='relu'))\n",
        "model.add(Dropout(0.1))\n",
        "model.add(Dense(num_classes, activation='softmax'))\n",
        "learning_rate = 0.001\n",
        "optimizer = Adam(learning_rate=learning_rate)\n",
        "\n",
        "model.compile(loss='categorical_crossentropy',\n",
        "              optimizer=optimizer,\n",
        "              metrics=['accuracy'])\n",
        "\n",
        "model.summary()\n",
        "\n",
        "# ------------------------- Training the Model -------------------------\n",
        "epochs = 10\n",
        "batch_size = 16\n",
        "\n",
        "history = model.fit(X_train, y_train,\n",
        "                    epochs=epochs,\n",
        "                    batch_size=batch_size,\n",
        "                    validation_split=0.1,\n",
        "                    class_weight=class_weights)\n",
        "\n",
        "# ------------------------- Evaluating the Model -------------------------\n",
        "loss, accuracy = model.evaluate(X_test, y_test, verbose=0)\n",
        "print(f'Test Accuracy: {accuracy*100:.2f}%')\n",
        "\n",
        "# ------------------------- Plotting Training History -------------------------\n",
        "plt.figure(figsize=(12,4))\n",
        "\n",
        "# Plot accuracy\n",
        "plt.subplot(1,2,1)\n",
        "plt.plot(history.history['accuracy'], label='Train')\n",
        "plt.plot(history.history['val_accuracy'], label='Validation')\n",
        "plt.title('Model Accuracy')\n",
        "plt.xlabel('Epoch')\n",
        "plt.ylabel('Accuracy')\n",
        "plt.legend()\n",
        "\n",
        "# Plot loss\n",
        "plt.subplot(1,2,2)\n",
        "plt.plot(history.history['loss'], label='Train')\n",
        "plt.plot(history.history['val_loss'], label='Validation')\n",
        "plt.title('Model Loss')\n",
        "plt.xlabel('Epoch')\n",
        "plt.ylabel('Loss')\n",
        "plt.legend()\n",
        "\n",
        "plt.show()\n"
      ],
      "metadata": {
        "colab": {
          "base_uri": "https://localhost:8080/",
          "height": 265
        },
        "id": "Ht5Vk1nJSAfo",
        "outputId": "0c0e97f2-a18f-4775-97dc-dbf5c86b8640"
      },
      "execution_count": null,
      "outputs": [
        {
          "output_type": "stream",
          "name": "stderr",
          "text": [
            "[nltk_data] Downloading package stopwords to /root/nltk_data...\n",
            "[nltk_data]   Unzipping corpora/stopwords.zip.\n"
          ]
        },
        {
          "output_type": "error",
          "ename": "NameError",
          "evalue": "name 'df' is not defined",
          "traceback": [
            "\u001b[0;31m---------------------------------------------------------------------------\u001b[0m",
            "\u001b[0;31mNameError\u001b[0m                                 Traceback (most recent call last)",
            "\u001b[0;32m<ipython-input-1-2fbe21a1a006>\u001b[0m in \u001b[0;36m<cell line: 71>\u001b[0;34m()\u001b[0m\n\u001b[1;32m     69\u001b[0m \u001b[0;31m# ------------------------- Label Encoding -------------------------\u001b[0m\u001b[0;34m\u001b[0m\u001b[0;34m\u001b[0m\u001b[0m\n\u001b[1;32m     70\u001b[0m \u001b[0mlabel_encoder\u001b[0m \u001b[0;34m=\u001b[0m \u001b[0mLabelEncoder\u001b[0m\u001b[0;34m(\u001b[0m\u001b[0;34m)\u001b[0m\u001b[0;34m\u001b[0m\u001b[0;34m\u001b[0m\u001b[0m\n\u001b[0;32m---> 71\u001b[0;31m \u001b[0mdf\u001b[0m\u001b[0;34m[\u001b[0m\u001b[0;34m'encoded_label'\u001b[0m\u001b[0;34m]\u001b[0m \u001b[0;34m=\u001b[0m \u001b[0mlabel_encoder\u001b[0m\u001b[0;34m.\u001b[0m\u001b[0mfit_transform\u001b[0m\u001b[0;34m(\u001b[0m\u001b[0mdf\u001b[0m\u001b[0;34m[\u001b[0m\u001b[0;34m'Label'\u001b[0m\u001b[0;34m]\u001b[0m\u001b[0;34m)\u001b[0m\u001b[0;34m\u001b[0m\u001b[0;34m\u001b[0m\u001b[0m\n\u001b[0m\u001b[1;32m     72\u001b[0m \u001b[0mnum_classes\u001b[0m \u001b[0;34m=\u001b[0m \u001b[0mlen\u001b[0m\u001b[0;34m(\u001b[0m\u001b[0mlabel_encoder\u001b[0m\u001b[0;34m.\u001b[0m\u001b[0mclasses_\u001b[0m\u001b[0;34m)\u001b[0m\u001b[0;34m\u001b[0m\u001b[0;34m\u001b[0m\u001b[0m\n\u001b[1;32m     73\u001b[0m \u001b[0;34m\u001b[0m\u001b[0m\n",
            "\u001b[0;31mNameError\u001b[0m: name 'df' is not defined"
          ]
        }
      ]
    },
    {
      "cell_type": "code",
      "source": [],
      "metadata": {
        "id": "aV6y2_osWYHt"
      },
      "execution_count": null,
      "outputs": []
    }
  ]
}